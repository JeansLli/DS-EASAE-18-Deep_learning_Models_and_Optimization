{
  "cells": [
    {
      "cell_type": "markdown",
      "source": [
        "# Deep Learning Project: DUQ\n",
        "Wendong LIANG, Jingyi LI"
      ],
      "metadata": {
        "id": "UaMfGCErpFUy"
      }
    },
    {
      "cell_type": "markdown",
      "source": [
        "## Two Moons"
      ],
      "metadata": {
        "id": "PqNgDXXmEjh6"
      }
    },
    {
      "cell_type": "code",
      "execution_count": null,
      "metadata": {
        "id": "DVLTS75QEc4k",
        "outputId": "c018e213-b9d1-4bf6-efc2-db7b61a013c0"
      },
      "outputs": [
        {
          "name": "stderr",
          "output_type": "stream",
          "text": [
            "/Users/jingyili/opt/anaconda3/envs/DL/lib/python3.8/site-packages/tqdm/auto.py:22: TqdmWarning: IProgress not found. Please update jupyter and ipywidgets. See https://ipywidgets.readthedocs.io/en/stable/user_install.html\n",
            "  from .autonotebook import tqdm as notebook_tqdm\n"
          ]
        }
      ],
      "source": [
        "import torch\n",
        "import torch.utils.data\n",
        "from torch import nn\n",
        "from torch.nn import functional as F\n",
        "\n",
        "from ignite.engine import Events, Engine\n",
        "from ignite.metrics import Accuracy, Loss\n",
        "\n",
        "import numpy as np\n",
        "import sklearn.datasets\n",
        "\n",
        "\n",
        "import matplotlib.pyplot as plt\n",
        "import seaborn as sns\n",
        "\n",
        "sns.set()"
      ]
    },
    {
      "cell_type": "code",
      "execution_count": null,
      "metadata": {
        "id": "w-ByE6bWEc4o"
      },
      "outputs": [],
      "source": [
        "class Model_bilinear(nn.Module):\n",
        "    def __init__(self, features, num_embeddings):\n",
        "        super().__init__()\n",
        "        \n",
        "        self.gamma = 0.999\n",
        "        self.sigma = 0.3\n",
        "        \n",
        "        embedding_size = 10\n",
        "        \n",
        "        self.fc1 = nn.Linear(2, features)\n",
        "        self.fc2 = nn.Linear(features, features)\n",
        "        self.fc3 = nn.Linear(features, features)\n",
        "        \n",
        "        self.W = nn.Parameter(torch.normal(torch.zeros(embedding_size, num_embeddings, features), 1))\n",
        "        \n",
        "        self.register_buffer('N', torch.ones(num_embeddings) * 20)\n",
        "        self.register_buffer('m', torch.normal(torch.zeros(embedding_size, num_embeddings), 1))\n",
        "        \n",
        "        self.m = self.m * self.N.unsqueeze(0)\n",
        "\n",
        "    def embed(self, x):\n",
        "        x = F.relu(self.fc1(x))\n",
        "        x = F.relu(self.fc2(x))\n",
        "        x = self.fc3(x)\n",
        "        \n",
        "        # i is batch, m is embedding_size, n is num_embeddings (classes)\n",
        "        x = torch.einsum('ij,mnj->imn', x, self.W)\n",
        "        \n",
        "        return x\n",
        "\n",
        "    def bilinear(self, z):\n",
        "        embeddings = self.m / self.N.unsqueeze(0)\n",
        "        \n",
        "        diff = z - embeddings.unsqueeze(0)            \n",
        "        y_pred = (- diff**2).mean(1).div(2 * self.sigma**2).exp()\n",
        "\n",
        "        return y_pred\n",
        "\n",
        "    def forward(self, x):\n",
        "        z = self.embed(x)\n",
        "        y_pred = self.bilinear(z)\n",
        "        \n",
        "        return z, y_pred\n",
        "\n",
        "    def update_embeddings(self, x, y):\n",
        "        z = self.embed(x)\n",
        "        \n",
        "        # normalizing value per class, assumes y is one_hot encoded\n",
        "        self.N = torch.max(self.gamma * self.N + (1 - self.gamma) * y.sum(0), torch.ones_like(self.N))\n",
        "        \n",
        "        # compute sum of embeddings on class by class basis\n",
        "        features_sum = torch.einsum('ijk,ik->jk', z, y)\n",
        "        \n",
        "        self.m = self.gamma * self.m + (1 - self.gamma) * features_sum"
      ]
    },
    {
      "cell_type": "code",
      "execution_count": null,
      "metadata": {
        "id": "zSYM2gwFEc4p"
      },
      "outputs": [],
      "source": [
        "np.random.seed(0)\n",
        "torch.manual_seed(0)\n",
        "\n",
        "l_gradient_penalty = 1.0\n",
        "\n",
        "# Moons\n",
        "noise = 0.1\n",
        "X_train, y_train = sklearn.datasets.make_moons(n_samples=1500, noise=noise)\n",
        "X_test, y_test = sklearn.datasets.make_moons(n_samples=200, noise=noise)\n",
        "\n",
        "num_classes = 2\n",
        "batch_size = 64\n",
        "\n",
        "model = Model_bilinear(20, num_classes)\n",
        "\n",
        "optimizer = torch.optim.SGD(model.parameters(), lr=0.01, momentum=0.9, weight_decay=1e-4)\n",
        "\n",
        "\n",
        "def calc_gradient_penalty(x, y_pred):\n",
        "    gradients = torch.autograd.grad(\n",
        "            outputs=y_pred,\n",
        "            inputs=x,\n",
        "            grad_outputs=torch.ones_like(y_pred),\n",
        "            create_graph=True,\n",
        "        )[0]\n",
        "\n",
        "\n",
        "    gradients = gradients.flatten(start_dim=1)\n",
        "    \n",
        "    # L2 norm\n",
        "    grad_norm = gradients.norm(2, dim=1)\n",
        "\n",
        "    # Two sided penalty\n",
        "    gradient_penalty = ((grad_norm - 1) ** 2).mean()\n",
        "    \n",
        "    # One sided penalty - down\n",
        "#     gradient_penalty = F.relu(grad_norm - 1).mean()\n",
        "\n",
        "    return gradient_penalty\n",
        "\n",
        "\n",
        "def output_transform_acc(output):\n",
        "    y_pred, y, x, z = output\n",
        "    \n",
        "    y = torch.argmax(y, dim=1)\n",
        "        \n",
        "    return y_pred, y\n",
        "\n",
        "\n",
        "def output_transform_bce(output):\n",
        "    y_pred, y, x, z = output\n",
        "\n",
        "    return y_pred, y\n",
        "\n",
        "\n",
        "def output_transform_gp(output):\n",
        "    y_pred, y, x, z = output\n",
        "\n",
        "    return x, y_pred\n",
        "\n",
        "\n",
        "def step(engine, batch):\n",
        "    model.train()\n",
        "    optimizer.zero_grad()\n",
        "    \n",
        "    x, y = batch\n",
        "    x.requires_grad_(True)\n",
        "    \n",
        "    z, y_pred = model(x)\n",
        "    \n",
        "    loss1 =  F.binary_cross_entropy(y_pred, y)\n",
        "    loss2 = l_gradient_penalty * calc_gradient_penalty(x, y_pred)\n",
        "    \n",
        "    loss = loss1 + loss2\n",
        "    \n",
        "    loss.backward()\n",
        "    optimizer.step()\n",
        "    \n",
        "    with torch.no_grad():\n",
        "        model.update_embeddings(x, y)\n",
        "    \n",
        "    return loss.item()\n",
        "\n",
        "\n",
        "def eval_step(engine, batch):\n",
        "    model.eval()\n",
        "\n",
        "    x, y = batch\n",
        "\n",
        "    x.requires_grad_(True)\n",
        "\n",
        "    z, y_pred = model(x)\n",
        "\n",
        "    return y_pred, y, x, z\n",
        "    \n",
        "\n",
        "trainer = Engine(step)\n",
        "evaluator = Engine(eval_step)\n",
        "\n",
        "metric = Accuracy(output_transform=output_transform_acc)\n",
        "metric.attach(evaluator, \"accuracy\")\n",
        "\n",
        "metric = Loss(F.binary_cross_entropy, output_transform=output_transform_bce)\n",
        "metric.attach(evaluator, \"bce\")\n",
        "\n",
        "metric = Loss(calc_gradient_penalty, output_transform=output_transform_gp)\n",
        "metric.attach(evaluator, \"gp\")\n",
        "\n",
        "\n",
        "ds_train = torch.utils.data.TensorDataset(torch.from_numpy(X_train).float(), F.one_hot(torch.from_numpy(y_train)).float())\n",
        "dl_train = torch.utils.data.DataLoader(ds_train, batch_size=batch_size, shuffle=True, drop_last=True)\n",
        "\n",
        "ds_test = torch.utils.data.TensorDataset(torch.from_numpy(X_test).float(), F.one_hot(torch.from_numpy(y_test)).float())\n",
        "dl_test = torch.utils.data.DataLoader(ds_test, batch_size=200, shuffle=False)\n",
        "\n",
        "@trainer.on(Events.EPOCH_COMPLETED)\n",
        "def log_results(trainer):\n",
        "    evaluator.run(dl_test)\n",
        "    metrics = evaluator.state.metrics\n",
        "\n",
        "    print(\"Test Results - Epoch: {} Acc: {:.4f} BCE: {:.2f} GP {:.2f}\"\n",
        "          .format(trainer.state.epoch, metrics['accuracy'], metrics['bce'], metrics['gp']))"
      ]
    },
    {
      "cell_type": "code",
      "execution_count": null,
      "metadata": {
        "scrolled": false,
        "id": "za8lnL65Ec4q",
        "outputId": "1c959b85-e5fc-4657-ac44-485c2683ae3a"
      },
      "outputs": [
        {
          "name": "stdout",
          "output_type": "stream",
          "text": [
            "Test Results - Epoch: 1 Acc: 0.8500 BCE: 0.52 GP 0.14\n",
            "Test Results - Epoch: 2 Acc: 0.8850 BCE: 0.35 GP 0.10\n",
            "Test Results - Epoch: 3 Acc: 0.9200 BCE: 0.34 GP 0.04\n",
            "Test Results - Epoch: 4 Acc: 0.9600 BCE: 0.19 GP 0.03\n",
            "Test Results - Epoch: 5 Acc: 0.9850 BCE: 0.13 GP 0.06\n",
            "Test Results - Epoch: 6 Acc: 0.9900 BCE: 0.13 GP 0.04\n",
            "Test Results - Epoch: 7 Acc: 0.9950 BCE: 0.11 GP 0.04\n",
            "Test Results - Epoch: 8 Acc: 1.0000 BCE: 0.10 GP 0.04\n",
            "Test Results - Epoch: 9 Acc: 0.9950 BCE: 0.10 GP 0.03\n",
            "Test Results - Epoch: 10 Acc: 1.0000 BCE: 0.09 GP 0.03\n",
            "Test Results - Epoch: 11 Acc: 0.9950 BCE: 0.09 GP 0.03\n",
            "Test Results - Epoch: 12 Acc: 0.9950 BCE: 0.09 GP 0.03\n",
            "Test Results - Epoch: 13 Acc: 0.9950 BCE: 0.09 GP 0.03\n",
            "Test Results - Epoch: 14 Acc: 0.9950 BCE: 0.09 GP 0.03\n",
            "Test Results - Epoch: 15 Acc: 1.0000 BCE: 0.09 GP 0.03\n",
            "Test Results - Epoch: 16 Acc: 1.0000 BCE: 0.09 GP 0.05\n",
            "Test Results - Epoch: 17 Acc: 1.0000 BCE: 0.08 GP 0.04\n",
            "Test Results - Epoch: 18 Acc: 0.9950 BCE: 0.08 GP 0.02\n",
            "Test Results - Epoch: 19 Acc: 0.9950 BCE: 0.08 GP 0.03\n",
            "Test Results - Epoch: 20 Acc: 1.0000 BCE: 0.08 GP 0.03\n",
            "Test Results - Epoch: 21 Acc: 1.0000 BCE: 0.07 GP 0.03\n",
            "Test Results - Epoch: 22 Acc: 1.0000 BCE: 0.07 GP 0.03\n",
            "Test Results - Epoch: 23 Acc: 0.9950 BCE: 0.08 GP 0.02\n",
            "Test Results - Epoch: 24 Acc: 1.0000 BCE: 0.07 GP 0.02\n",
            "Test Results - Epoch: 25 Acc: 1.0000 BCE: 0.07 GP 0.02\n",
            "Test Results - Epoch: 26 Acc: 1.0000 BCE: 0.07 GP 0.02\n",
            "Test Results - Epoch: 27 Acc: 1.0000 BCE: 0.07 GP 0.02\n",
            "Test Results - Epoch: 28 Acc: 0.9950 BCE: 0.07 GP 0.03\n",
            "Test Results - Epoch: 29 Acc: 1.0000 BCE: 0.07 GP 0.03\n",
            "Test Results - Epoch: 30 Acc: 1.0000 BCE: 0.07 GP 0.01\n"
          ]
        },
        {
          "data": {
            "text/plain": [
              "State:\n",
              "\titeration: 690\n",
              "\tepoch: 30\n",
              "\tepoch_length: 23\n",
              "\tmax_epochs: 30\n",
              "\toutput: 0.09361258894205093\n",
              "\tbatch: <class 'list'>\n",
              "\tmetrics: <class 'dict'>\n",
              "\tdataloader: <class 'torch.utils.data.dataloader.DataLoader'>\n",
              "\tseed: <class 'NoneType'>\n",
              "\ttimes: <class 'dict'>"
            ]
          },
          "execution_count": 4,
          "metadata": {},
          "output_type": "execute_result"
        }
      ],
      "source": [
        "trainer.run(dl_train, max_epochs=30)"
      ]
    },
    {
      "cell_type": "code",
      "execution_count": null,
      "metadata": {
        "id": "TXgoBYidEc4r",
        "outputId": "3967c705-24cf-4dff-d9ef-18845884d89b"
      },
      "outputs": [
        {
          "data": {
            "text/plain": [
              "<matplotlib.collections.PathCollection at 0x7f79377a3d90>"
            ]
          },
          "execution_count": 5,
          "metadata": {},
          "output_type": "execute_result"
        },
        {
          "data": {
            "image/png": "[encoded data removed]",
            "text/plain": [
              "<Figure size 432x288 with 1 Axes>"
            ]
          },
          "metadata": {},
          "output_type": "display_data"
        }
      ],
      "source": [
        "domain = 3\n",
        "x_lin = np.linspace(-domain+0.5, domain+0.5, 100)\n",
        "y_lin = np.linspace(-domain, domain, 100)\n",
        "\n",
        "xx, yy = np.meshgrid(x_lin, y_lin)\n",
        "\n",
        "X_grid = np.column_stack([xx.flatten(), yy.flatten()])\n",
        "\n",
        "X_vis, y_vis = sklearn.datasets.make_moons(n_samples=1000, noise=noise)\n",
        "mask = y_vis.astype(np.bool)\n",
        "\n",
        "with torch.no_grad():\n",
        "    output = model(torch.from_numpy(X_grid).float())[1]\n",
        "    confidence = output.max(1)[0].numpy()\n",
        "\n",
        "\n",
        "z = confidence.reshape(xx.shape)\n",
        "\n",
        "plt.figure()\n",
        "plt.contourf(x_lin, y_lin, z, cmap='cividis')\n",
        "\n",
        "plt.scatter(X_vis[mask,0], X_vis[mask,1])\n",
        "plt.scatter(X_vis[~mask,0], X_vis[~mask,1])"
      ]
    },
    {
      "cell_type": "code",
      "execution_count": null,
      "metadata": {
        "id": "EyTFdgviEc4r"
      },
      "outputs": [],
      "source": []
    },
    {
      "cell_type": "markdown",
      "source": [
        "## Fashion MNIST vs MNIST"
      ],
      "metadata": {
        "id": "u9vwvM6WEzK3"
      }
    },
    {
      "cell_type": "code",
      "execution_count": null,
      "metadata": {
        "colab": {
          "base_uri": "https://localhost:8080/"
        },
        "id": "gqI2GBS4KdqL",
        "outputId": "d0064365-fc92-4c0e-dca5-0a8019fc2a06"
      },
      "outputs": [
        {
          "output_type": "stream",
          "name": "stdout",
          "text": [
            "Requirement already satisfied: pytorch-ignite in /usr/local/lib/python3.7/dist-packages (0.4.8)\n",
            "Requirement already satisfied: torch<2,>=1.3 in /usr/local/lib/python3.7/dist-packages (from pytorch-ignite) (1.10.0+cu111)\n",
            "Requirement already satisfied: typing-extensions in /usr/local/lib/python3.7/dist-packages (from torch<2,>=1.3->pytorch-ignite) (4.1.1)\n"
          ]
        }
      ],
      "source": [
        "!pip install pytorch-ignite\n",
        "import random\n",
        "import numpy as np\n",
        "\n",
        "import torch\n",
        "import torch.utils.data\n",
        "from torch.nn import functional as F\n",
        "\n",
        "from ignite.engine import Events, Engine\n",
        "from ignite.metrics import Accuracy, Loss\n",
        "\n",
        "from ignite.contrib.handlers.tqdm_logger import ProgressBar\n",
        "\n",
        "import os\n",
        "from torch.utils.data import Dataset\n",
        "from torchvision import datasets, transforms\n",
        "from scipy.io import loadmat\n",
        "from PIL import Image\n",
        "import torch.nn.functional as F\n",
        "from torch import nn\n",
        "from sklearn.metrics import roc_auc_score\n",
        "\n"
      ]
    },
    {
      "cell_type": "code",
      "execution_count": null,
      "metadata": {
        "id": "p11TjcHyOsym"
      },
      "outputs": [],
      "source": [
        "#Dataset\n",
        "def get_MNIST(root=\"./\"):\n",
        "    input_size = 28\n",
        "    num_classes = 10\n",
        "    transform = transforms.Compose(\n",
        "        [transforms.ToTensor(), transforms.Normalize((0.1307,), (0.3081,))]\n",
        "    )\n",
        "\n",
        "    train_dataset = datasets.MNIST(\n",
        "        root + \"data/\", train=True, download=True, transform=transform\n",
        "    )\n",
        "\n",
        "    test_dataset = datasets.MNIST(\n",
        "        root + \"data/\", train=False, download=True, transform=transform\n",
        "    )\n",
        "    return input_size, num_classes, train_dataset, test_dataset\n",
        "\n",
        "\n",
        "def get_FashionMNIST(root=\"./\"):\n",
        "    input_size = 28\n",
        "    num_classes = 10\n",
        "\n",
        "    transform_list = [transforms.ToTensor(), transforms.Normalize((0.2861,), (0.3530,))]\n",
        "    transform = transforms.Compose(transform_list)\n",
        "\n",
        "    train_dataset = datasets.FashionMNIST(\n",
        "        root + \"data/\", train=True, download=True, transform=transform\n",
        "    )\n",
        "    test_dataset = datasets.FashionMNIST(\n",
        "        root + \"data/\", train=False, download=True, transform=transform\n",
        "    )\n",
        "    return input_size, num_classes, train_dataset, test_dataset\n",
        "\n",
        "\n",
        "def get_SVHN(root=\"./\"):\n",
        "    input_size = 32\n",
        "    num_classes = 10\n",
        "    transform = transforms.Compose(\n",
        "        [transforms.ToTensor(), transforms.Normalize((0.5, 0.5, 0.5), (0.5, 0.5, 0.5))]\n",
        "    )\n",
        "    train_dataset = datasets.SVHN(\n",
        "        root + \"data/SVHN\", split=\"train\", transform=transform, download=True\n",
        "    )\n",
        "    test_dataset = datasets.SVHN(\n",
        "        root + \"data/SVHN\", split=\"test\", transform=transform, download=True\n",
        "    )\n",
        "    return input_size, num_classes, train_dataset, test_dataset\n",
        "\n",
        "\n",
        "def get_CIFAR10(root=\"./\"):\n",
        "    input_size = 32\n",
        "    num_classes = 10\n",
        "    train_transform = transforms.Compose(\n",
        "        [\n",
        "            transforms.RandomCrop(32, padding=4),\n",
        "            transforms.RandomHorizontalFlip(),\n",
        "            transforms.ToTensor(),\n",
        "            transforms.Normalize((0.4914, 0.4822, 0.4465), (0.2023, 0.1994, 0.2010)),\n",
        "        ]\n",
        "    )\n",
        "    train_dataset = datasets.CIFAR10(\n",
        "        root + \"data/CIFAR10\", train=True, transform=train_transform, download=True\n",
        "    )\n",
        "\n",
        "    test_transform = transforms.Compose(\n",
        "        [\n",
        "            transforms.ToTensor(),\n",
        "            transforms.Normalize((0.4914, 0.4822, 0.4465), (0.2023, 0.1994, 0.2010)),\n",
        "        ]\n",
        "    )\n",
        "    test_dataset = datasets.CIFAR10(\n",
        "        root + \"data/CIFAR10\", train=False, transform=test_transform, download=True\n",
        "    )\n",
        "\n",
        "    return input_size, num_classes, train_dataset, test_dataset\n",
        "\n",
        "\n",
        "def get_notMNIST(root=\"./\"):\n",
        "    input_size = 28\n",
        "    num_classes = 10\n",
        "\n",
        "    transform = transforms.Compose(\n",
        "        [transforms.ToTensor(), transforms.Normalize((0.4254,), (0.4586,))]\n",
        "    )\n",
        "\n",
        "    test_dataset = NotMNIST(root + \"data/\", transform=transform)\n",
        "\n",
        "    return input_size, num_classes, None, test_dataset\n",
        "\n",
        "\n",
        "all_datasets = {\n",
        "    \"MNIST\": get_MNIST,\n",
        "    \"notMNIST\": get_notMNIST,\n",
        "    \"FashionMNIST\": get_FashionMNIST,\n",
        "    \"SVHN\": get_SVHN,\n",
        "    \"CIFAR10\": get_CIFAR10,\n",
        "}\n",
        "\n",
        "\n",
        "class NotMNIST(Dataset):\n",
        "    def __init__(self, root, transform=None):\n",
        "        root = os.path.expanduser(root)\n",
        "\n",
        "        self.transform = transform\n",
        "\n",
        "        data_dict = loadmat(\"/content/notMNIST_small_v73.mat\")\n",
        "        #print(\"mat file:\",os.path.join(root, \"notMNIST_small.mat\"))\n",
        "        #data_dict = h5py.File(os.path.join(root, \"notMNIST_small.mat\"))\n",
        "\n",
        "\n",
        "        self.data = torch.tensor(\n",
        "            data_dict[\"images\"].transpose(2, 0, 1), dtype=torch.uint8\n",
        "        ).unsqueeze(1)\n",
        "\n",
        "        self.targets = torch.tensor(data_dict[\"labels\"], dtype=torch.int64)\n",
        "\n",
        "    def __getitem__(self, index):\n",
        "        img = self.data[index]\n",
        "        target = self.targets[index]\n",
        "\n",
        "        if self.transform is not None:\n",
        "            img = Image.fromarray(img.squeeze().numpy(), mode=\"L\")\n",
        "            img = self.transform(img)\n",
        "\n",
        "        return img, target\n",
        "\n",
        "    def __len__(self):\n",
        "        return len(self.data)\n",
        "\n",
        "\n",
        "class FastFashionMNIST(datasets.FashionMNIST):\n",
        "    def __init__(self, *args, **kwargs):\n",
        "        super().__init__(*args, **kwargs)\n",
        "\n",
        "        self.data = self.data.unsqueeze(1).float().div(255)\n",
        "        self.data = self.data.sub_(0.2861).div_(0.3530)\n",
        "\n",
        "        self.data, self.targets = self.data.to(\"cuda\"), self.targets.to(\"cuda\")\n",
        "\n",
        "    def __getitem__(self, index):\n",
        "        \"\"\"\n",
        "        Args:\n",
        "            index (int): Index\n",
        "\n",
        "        Returns:\n",
        "            tuple: (image, target) where target is index of the target class.\n",
        "        \"\"\"\n",
        "        img, target = self.data[index], self.targets[index]\n",
        "\n",
        "        return img, target"
      ]
    },
    {
      "cell_type": "code",
      "execution_count": null,
      "metadata": {
        "id": "qpAVaXX_OZ6p"
      },
      "outputs": [],
      "source": [
        "#evaluate_ood\n",
        "\n",
        "def prepare_ood_datasets(true_dataset, ood_dataset):\n",
        "    # Preprocess OoD dataset same as true dataset\n",
        "    ood_dataset.transform = true_dataset.transform\n",
        "\n",
        "    datasets = [true_dataset, ood_dataset]\n",
        "\n",
        "    anomaly_targets = torch.cat(\n",
        "        (torch.zeros(len(true_dataset)), torch.ones(len(ood_dataset)))\n",
        "    )\n",
        "\n",
        "    concat_datasets = torch.utils.data.ConcatDataset(datasets)\n",
        "\n",
        "    dataloader = torch.utils.data.DataLoader(\n",
        "        concat_datasets, batch_size=500, shuffle=False, num_workers=4, pin_memory=False\n",
        "    )\n",
        "\n",
        "    return dataloader, anomaly_targets\n",
        "\n",
        "\n",
        "def loop_over_dataloader(model, dataloader):\n",
        "    model.eval()\n",
        "\n",
        "    with torch.no_grad():\n",
        "        scores = []\n",
        "        accuracies = []\n",
        "        for data, target in dataloader:\n",
        "            data = data.cuda()\n",
        "            target = target.cuda()\n",
        "\n",
        "            output = model(data)\n",
        "            kernel_distance, pred = output.max(1)\n",
        "\n",
        "            accuracy = pred.eq(target)\n",
        "            #print(\"accuracy=\",accuracy.shape)\n",
        "            accuracies.append(accuracy.cpu().numpy().flatten())\n",
        "\n",
        "            scores.append(-kernel_distance.cpu().numpy())\n",
        "\n",
        "    scores = np.concatenate(scores)\n",
        "    accuracies = np.concatenate(accuracies)\n",
        "\n",
        "    return scores, accuracies\n",
        "\n",
        "\n",
        "def get_auroc_ood(true_dataset, ood_dataset, model):\n",
        "    dataloader, anomaly_targets = prepare_ood_datasets(true_dataset, ood_dataset)\n",
        "\n",
        "    scores, accuracies = loop_over_dataloader(model, dataloader)\n",
        "\n",
        "    accuracy = np.mean(accuracies[: len(true_dataset)])\n",
        "    roc_auc = roc_auc_score(anomaly_targets, scores)\n",
        "\n",
        "    return accuracy, roc_auc\n",
        "\n",
        "\n",
        "def get_auroc_classification(dataset, model):\n",
        "    dataloader = torch.utils.data.DataLoader(\n",
        "        dataset, batch_size=500, shuffle=False, num_workers=4, pin_memory=False\n",
        "    )\n",
        "\n",
        "    scores, accuracies = loop_over_dataloader(model, dataloader)\n",
        "\n",
        "    accuracy = np.mean(accuracies)\n",
        "    roc_auc = roc_auc_score(1 - accuracies, scores)\n",
        "\n",
        "    return accuracy, roc_auc\n",
        "\n",
        "\n",
        "def get_cifar_svhn_ood(model):\n",
        "    _, _, _, cifar_test_dataset = get_CIFAR10()\n",
        "    _, _, _, svhn_test_dataset = get_SVHN()\n",
        "\n",
        "    return get_auroc_ood(cifar_test_dataset, svhn_test_dataset, model)\n",
        "\n",
        "\n",
        "def get_fashionmnist_mnist_ood(model):\n",
        "    _, _, _, fashionmnist_test_dataset = get_FashionMNIST()\n",
        "    _, _, _, mnist_test_dataset = get_MNIST()\n",
        "\n",
        "    return get_auroc_ood(fashionmnist_test_dataset, mnist_test_dataset, model)\n",
        "\n",
        "\n",
        "def get_fashionmnist_notmnist_ood(model):\n",
        "    _, _, _, fashionmnist_test_dataset = get_FashionMNIST()\n",
        "    _, _, _, notmnist_test_dataset = get_notMNIST()\n",
        "\n",
        "    return get_auroc_ood(fashionmnist_test_dataset, notmnist_test_dataset, model)\n",
        "\n",
        "\n",
        "def get_fashionmnist_notmnist_ood(model):\n",
        "    _, _, _, fashionmnist_test_dataset = get_FashionMNIST()\n",
        "    _, _, _, notmnist_test_dataset = get_notMNIST()\n",
        "\n",
        "    return get_auroc_ood(fashionmnist_test_dataset, notmnist_test_dataset, model)\n"
      ]
    },
    {
      "cell_type": "code",
      "execution_count": null,
      "metadata": {
        "id": "ASxhxPTPN2yl"
      },
      "outputs": [],
      "source": [
        "\n",
        "def train_model(l_gradient_penalty, length_scale, final_model):\n",
        "    dataset = FastFashionMNIST(\"data/\", train=True, download=True)\n",
        "    test_dataset = FastFashionMNIST(\"data/\", train=False, download=True)\n",
        "\n",
        "    idx = list(range(60000))\n",
        "    random.shuffle(idx)\n",
        "\n",
        "    if final_model:\n",
        "        train_dataset = dataset\n",
        "        val_dataset = test_dataset\n",
        "    else:\n",
        "        train_dataset = torch.utils.data.Subset(dataset, indices=idx[:55000])\n",
        "        val_dataset = torch.utils.data.Subset(dataset, indices=idx[55000:])\n",
        "\n",
        "    num_classes = 10\n",
        "    embedding_size = 256\n",
        "    learnable_length_scale = False\n",
        "    gamma = 0.999\n",
        "\n",
        "    model = CNN_DUQ(\n",
        "        num_classes,\n",
        "        embedding_size,\n",
        "        learnable_length_scale,\n",
        "        length_scale,\n",
        "        gamma,\n",
        "    )\n",
        "    model = model.cuda()\n",
        "\n",
        "    optimizer = torch.optim.SGD(\n",
        "        model.parameters(), lr=0.05, momentum=0.9, weight_decay=1e-4\n",
        "    )\n",
        "\n",
        "    def output_transform_bce(output):\n",
        "        y_pred, y, _, _ = output\n",
        "        return y_pred, y\n",
        "\n",
        "    def output_transform_acc(output):\n",
        "        y_pred, y, _, _ = output\n",
        "        return y_pred, torch.argmax(y, dim=1)\n",
        "\n",
        "    def output_transform_gp(output):\n",
        "        y_pred, y, x, y_pred_sum = output\n",
        "        return x, y_pred_sum\n",
        "\n",
        "    def calc_gradient_penalty(x, y_pred_sum):\n",
        "        gradients = torch.autograd.grad(\n",
        "            outputs=y_pred_sum,\n",
        "            inputs=x,\n",
        "            grad_outputs=torch.ones_like(y_pred_sum),\n",
        "            create_graph=True,\n",
        "            retain_graph=True,\n",
        "        )[0]\n",
        "\n",
        "        gradients = gradients.flatten(start_dim=1)\n",
        "\n",
        "        # L2 norm\n",
        "        grad_norm = gradients.norm(2, dim=1)\n",
        "\n",
        "        # Two sided penalty\n",
        "        gradient_penalty = ((grad_norm - 1) ** 2).mean()\n",
        "\n",
        "        return gradient_penalty\n",
        "\n",
        "    def step(engine, batch):\n",
        "        model.train()\n",
        "        optimizer.zero_grad()\n",
        "\n",
        "        x, y = batch\n",
        "        y = F.one_hot(y, num_classes=10).float()\n",
        "\n",
        "        x, y = x.cuda(), y.cuda()\n",
        "\n",
        "        x.requires_grad_(True)\n",
        "\n",
        "        y_pred = model(x)\n",
        "\n",
        "        loss = F.binary_cross_entropy(y_pred, y)\n",
        "        loss += l_gradient_penalty * calc_gradient_penalty(x, y_pred.sum(1))\n",
        "\n",
        "        x.requires_grad_(False)\n",
        "\n",
        "        loss.backward()\n",
        "        optimizer.step()\n",
        "\n",
        "        with torch.no_grad():\n",
        "            model.eval()\n",
        "            model.update_embeddings(x, y)\n",
        "\n",
        "        return loss.item()\n",
        "\n",
        "    def eval_step(engine, batch):\n",
        "        model.eval()\n",
        "\n",
        "        x, y = batch\n",
        "        y = F.one_hot(y, num_classes=10).float()\n",
        "\n",
        "        x, y = x.cuda(), y.cuda()\n",
        "\n",
        "        x.requires_grad_(True)\n",
        "\n",
        "        y_pred = model(x)\n",
        "\n",
        "        return y_pred, y, x, y_pred.sum(1)\n",
        "\n",
        "    trainer = Engine(step)\n",
        "    evaluator = Engine(eval_step)\n",
        "\n",
        "    metric = Accuracy(output_transform=output_transform_acc)\n",
        "    metric.attach(evaluator, \"accuracy\")\n",
        "\n",
        "    metric = Loss(F.binary_cross_entropy, output_transform=output_transform_bce)\n",
        "    metric.attach(evaluator, \"bce\")\n",
        "\n",
        "    metric = Loss(calc_gradient_penalty, output_transform=output_transform_gp)\n",
        "    metric.attach(evaluator, \"gradient_penalty\")\n",
        "\n",
        "    scheduler = torch.optim.lr_scheduler.MultiStepLR(\n",
        "        optimizer, milestones=[10, 20], gamma=0.2\n",
        "    )\n",
        "\n",
        "    dl_train = torch.utils.data.DataLoader(\n",
        "        train_dataset, batch_size=128, shuffle=True, num_workers=0, drop_last=True\n",
        "    )\n",
        "\n",
        "    dl_val = torch.utils.data.DataLoader(\n",
        "        val_dataset, batch_size=2000, shuffle=False, num_workers=0\n",
        "    )\n",
        "\n",
        "    dl_test = torch.utils.data.DataLoader(\n",
        "        test_dataset, batch_size=2000, shuffle=False, num_workers=0\n",
        "    )\n",
        "\n",
        "    pbar = ProgressBar()\n",
        "    pbar.attach(trainer)\n",
        "\n",
        "    @trainer.on(Events.EPOCH_COMPLETED)\n",
        "    def log_results(trainer):\n",
        "        scheduler.step()\n",
        "\n",
        "        if trainer.state.epoch % 5 == 0:\n",
        "            evaluator.run(dl_val)\n",
        "            _, roc_auc_mnist = get_fashionmnist_mnist_ood(model)\n",
        "            _, roc_auc_notmnist = get_fashionmnist_notmnist_ood(model)\n",
        "\n",
        "            metrics = evaluator.state.metrics\n",
        "\n",
        "            print(\n",
        "                f\"Validation Results - Epoch: {trainer.state.epoch} \"\n",
        "                f\"Acc: {metrics['accuracy']:.4f} \"\n",
        "                f\"BCE: {metrics['bce']:.2f} \"\n",
        "                f\"GP: {metrics['gradient_penalty']:.6f} \"\n",
        "                f\"AUROC MNIST: {roc_auc_mnist:.2f} \"\n",
        "                f\"AUROC NotMNIST: {roc_auc_notmnist:.2f} \"\n",
        "            )\n",
        "            print(f\"Sigma: {model.sigma}\")\n",
        "\n",
        "    trainer.run(dl_train, max_epochs=30)\n",
        "\n",
        "    evaluator.run(dl_val)\n",
        "    val_accuracy = evaluator.state.metrics[\"accuracy\"]\n",
        "\n",
        "    evaluator.run(dl_test)\n",
        "    test_accuracy = evaluator.state.metrics[\"accuracy\"]\n",
        "\n",
        "    return model, val_accuracy, test_accuracy\n"
      ]
    },
    {
      "cell_type": "code",
      "execution_count": null,
      "metadata": {
        "id": "NZSHAvMIPPmt"
      },
      "outputs": [],
      "source": [
        "#cnn_duq\n",
        "class Model(nn.Module):\n",
        "    def __init__(self):\n",
        "        super().__init__()\n",
        "\n",
        "        self.conv1 = nn.Conv2d(1, 64, 3, padding=1)\n",
        "        self.bn1 = nn.BatchNorm2d(64)\n",
        "\n",
        "        self.conv2 = nn.Conv2d(64, 128, 3, padding=1)\n",
        "        self.bn2 = nn.BatchNorm2d(128)\n",
        "\n",
        "        self.conv3 = nn.Conv2d(128, 128, 3)\n",
        "        self.bn3 = nn.BatchNorm2d(128)\n",
        "\n",
        "        self.fc1 = nn.Linear(2 * 2 * 128, 256)\n",
        "\n",
        "    def compute_features(self, x):\n",
        "        x = F.relu(self.bn1(self.conv1(x)))\n",
        "        x = F.max_pool2d(x, 2, 2)\n",
        "\n",
        "        x = F.relu(self.bn2(self.conv2(x)))\n",
        "        x = F.max_pool2d(x, 2, 2)\n",
        "\n",
        "        x = F.relu(self.bn3(self.conv3(x)))\n",
        "        x = F.max_pool2d(x, 2, 2)\n",
        "\n",
        "        x = x.flatten(1)\n",
        "\n",
        "        x = F.relu(self.fc1(x))\n",
        "\n",
        "        return x\n",
        "\n",
        "\n",
        "class CNN_DUQ(Model):\n",
        "    def __init__(\n",
        "        self,\n",
        "        num_classes,\n",
        "        embedding_size,\n",
        "        learnable_length_scale,\n",
        "        length_scale,\n",
        "        gamma,\n",
        "    ):\n",
        "        super().__init__()\n",
        "\n",
        "        self.gamma = gamma\n",
        "\n",
        "        self.W = nn.Parameter(\n",
        "            torch.normal(torch.zeros(embedding_size, num_classes, 256), 0.05)\n",
        "        )\n",
        "\n",
        "        self.register_buffer(\"N\", torch.ones(num_classes) * 12)\n",
        "        self.register_buffer(\n",
        "            \"m\", torch.normal(torch.zeros(embedding_size, num_classes), 1)\n",
        "        )\n",
        "\n",
        "        self.m = self.m * self.N.unsqueeze(0)\n",
        "\n",
        "        if learnable_length_scale:\n",
        "            self.sigma = nn.Parameter(torch.zeros(num_classes) + length_scale)\n",
        "        else:\n",
        "            self.sigma = length_scale\n",
        "\n",
        "    def update_embeddings(self, x, y):\n",
        "        z = self.last_layer(self.compute_features(x))\n",
        "\n",
        "        # normalizing value per class, assumes y is one_hot encoded\n",
        "        self.N = self.gamma * self.N + (1 - self.gamma) * y.sum(0)\n",
        "\n",
        "        # compute sum of embeddings on class by class basis\n",
        "        features_sum = torch.einsum(\"ijk,ik->jk\", z, y)\n",
        "\n",
        "        self.m = self.gamma * self.m + (1 - self.gamma) * features_sum\n",
        "\n",
        "    def last_layer(self, z):\n",
        "        z = torch.einsum(\"ij,mnj->imn\", z, self.W)\n",
        "        return z\n",
        "\n",
        "    def output_layer(self, z):\n",
        "        embeddings = self.m / self.N.unsqueeze(0)\n",
        "\n",
        "        diff = z - embeddings.unsqueeze(0)\n",
        "        distances = (-(diff**2)).mean(1).div(2 * self.sigma**2).exp()\n",
        "\n",
        "        return distances\n",
        "\n",
        "    def forward(self, x):\n",
        "        z = self.last_layer(self.compute_features(x))\n",
        "        y_pred = self.output_layer(z)\n",
        "\n",
        "        return y_pred\n",
        "\n",
        "\n",
        "class SoftmaxModel(Model):\n",
        "    def __init__(self, input_size, num_classes):\n",
        "        super().__init__()\n",
        "\n",
        "        self.last_layer = nn.Linear(256, num_classes)\n",
        "        self.output_layer = nn.LogSoftmax(dim=1)\n",
        "\n",
        "    def forward(self, x):\n",
        "        z = self.last_layer(self.compute_features(x))\n",
        "        y_pred = F.log_softmax(z, dim=1)\n",
        "\n",
        "        return y_pred"
      ]
    },
    {
      "cell_type": "code",
      "execution_count": null,
      "metadata": {
        "colab": {
          "base_uri": "https://localhost:8080/",
          "height": 285,
          "referenced_widgets": [
            "6a2d0c3540ac4564b7f506d65c27e77b",
            "5504032abbed46f9be7f75eea0f1e287",
            "170b2d8387fb420891ec795051fd9caa",
            "2160eaef9547481896ed0b9f1f7bf8b9",
            "e8d736f0ee034ac391f71ef3b308970b",
            "e11646e5417c4cbab3e72ff3faaa9f1e",
            "15798925ef0143a48451b76370c126ab",
            "84911e54a82f43489938a059d060a4c3",
            "fea766e0c576429ca512fb85b379cfa7",
            "06fb2d2efe7448bdaa2b4b6bd48ebc97",
            "0c7f971419264e31941c7c1bcd24ce68",
            "4ad563b094554bd3b0fe021476696124",
            "71a795bba3ff4d05a2b496c87c75c2e2",
            "916da060f8b843f5af721b5e297fc0d5",
            "382f1aa9416842bab9db431383cc1d80",
            "43fe44910a4440b4ae934d23b8aec6b4",
            "ac62f6404d1147ad91992c4065462ca3",
            "72082d241aae4ddf992bf7e8bd218551",
            "336e7d68f490472abbd89f4a95c90fe4",
            "7f69058b6fb146e98172aaacac2e9f22",
            "4d1065c966284018bfa883e6a8e4a5f8",
            "50178a1e60d64b2bb59c8c0494fbd900",
            "cb1948e7969b44528c1756bc80794504",
            "c7b6404e89024b1c94e9ce70ee7ab9a4",
            "99612e494b7d404a975ecde636b099fb",
            "384b4f85bb7e4b6a8d130f38e809c1e1",
            "4048ff9d6d2d42c08b6f139c90ec383e",
            "427498723b694502b86012634b6ff095",
            "9ae8be8ac6c04725a6c205284a3ff136",
            "602db50a88f94cf982a7f3fe6e8ad8f5",
            "4213651ebe3048ea8830c557717441eb",
            "991ed21760884308873359bf6a890538",
            "080094c87bfd46908fa2557a01a5c11e",
            "6987479314b64bcea5c2fc6c78215771",
            "a164097f12a54347bcc2042042705995",
            "597f4a076b7e429dbca0e50dc468c1e3",
            "8aa97783d1ff44d08b378172262feabd",
            "bd906bd00bc2499580835e4aa1d15182",
            "39269003e4b249a58c2704c52bcf999c",
            "60210177a5394685930554b8d0150210",
            "55c106679e9f460dbcdcc0795a0e010a",
            "b2414a724c4e4438b99e3783fd7be29c",
            "00822efbb699456abe646baa21152b3d",
            "515df7a97705487c87367ac8e909d553",
            "9014b071784441fe863d3bef18d04fa5",
            "13fb8979fbfb466eaab09692fa784bf1",
            "30e6ec8aee1b46c8a57a732a7abd6868",
            "a28823d7c93e489db1b11730a2489673",
            "ba6808108f1c4b6c9424b10b180ee001",
            "0bd3b01ea0f64640821de8ccfac4bd67",
            "4ed7c0e038f0432d90bc25c8cdbda2d4",
            "b9c6f94eeef54836a1288f5261fde2d3",
            "4002e04a4f29436cb1e8d28d5871a01b",
            "969fcafb96f2411aa66362c41b8525cb",
            "d55a38920856447ea000a01d8da17d67",
            "2c6dadd85bb54df685fad35c6cefdbcc",
            "35c75b771c614063803b48ec993e0532",
            "f7431ded75fa40c9bf9d7c81327428c7",
            "d6bc1654496b4941942ed822aba785cf",
            "f6688c6e505842ebae0dbc5be6667c2f",
            "aeeea7e57a304a1f918a2c039cb6b3df",
            "6076e11e60a54fb6a28c71583840a629",
            "51a743c73c1d4ef78b150fe26dc70524",
            "b7af0b1e154b4d3ba05015185eaf0175",
            "38a84aabb40a4947af1030beef74fd63",
            "692227a676094e22a6525029c12bcaff",
            "a6f6f962ee4d4c6d82e0189ece7430b4",
            "b150f9f1164c4da8abdbb52c55b5cebf",
            "ad58076f8cf943138d96f6d0de18f9e2",
            "e3a0388b6d85436aaee9d0eade29c7e2",
            "f36cfbb5cdec4d5c9dea24e3c75be1cb",
            "e4f3b49ee41240aa9f1a1485327f15e3",
            "847ecdbb4cf845dbb8f36f972f892a57",
            "cd1babfae3994f348fd71a7e7f1d20a5",
            "cb51b612d74c4f589eb5a68cac4cec75",
            "c7644d534d894ea3a9e7ad008f177b4d",
            "66413d4e352a49f28e62c5461558b33e",
            "cb7a8ca8b7624451806cb358c2ac4a77",
            "842a4179110f411683d26298203a8c3e",
            "092a0db696af415da11958e57a21014b",
            "8bf82f68eed3473eb4214cb91065573c",
            "8f5de86c63a246c5b525560d364460d6",
            "94dda1a2332c43359c02ce348aac03e4",
            "edd992fc32714cd091b19d95b4f92e94",
            "56ed1bc7196c48daa0bdac952e70795e",
            "1bdfa98fd8ef4ab9a397f3caf455f3cb",
            "c310ab2a5dcf4fdaae19dbfa6d413ad8",
            "9124226fc73742e5b6c253df2eeb50d2",
            "e1af11ed9fd24f58a07b3c5eee196efd",
            "7572dc6cdcc24ab8ab23be9cacc4e3e1",
            "47312b7912704372b7a0322aa1d71903",
            "dc3b3b571bbc4590b3eb14e246161e3b",
            "972c5ec910e6418a9a9716696ba36fb3",
            "e127989e5cdb4dd29cc2cd989ba0d9e0",
            "2dcaea1b7d5041f5879fb6091b99742f",
            "6c307b369c6c442fb7af2d93836e3ad6",
            "21846149d8c74317b5676e5fe63c1fd4",
            "e8d3934d1aae4d1980d4593a8513b725",
            "ea0b0247c67247c4bae3d06bda2e41fc",
            "2ca641a835324d6a91c18b5b6afdb900",
            "72842d0c5e9d42c7bf48a6eba4d3bd9b",
            "956740ab680d49a2b7750d6df825b9f5",
            "be7a8336808e4c919b434b0cb365bd3e",
            "e3df33d0a2454958b34c4abff318d47b",
            "75751ce436ee430cb3f7146d81886e1f",
            "c07dbb772e6f446f8175b6804ad9acbb",
            "921ed2aa724f416fbad14f72a9c9aa79",
            "9e91bc73db084794817de4806d0df74b",
            "904c7a17105946429077e3463a377b11",
            "924dbea5c97d4612b1645c55edab4f6d",
            "52139ed95c8d41ce9e6caa235b0c4ff3",
            "ef3f58eab8d049678db4761c7a2eccd9",
            "0c5bc0c42f284c0b8c07068fbf7e008d",
            "9a01d6b41b7e4a74aa067b5fc7ec93db",
            "3ac2e2caa4454078a2c50f3e80a28a0f",
            "6e5db606a4084783aefaf2d83b53c505",
            "d136fedbc2744d81ace8008192cd31f4",
            "54efa159e32544b2aabb6ec11e2c2cbc",
            "814d4b7e513b42e39ed8d65621f16cfb",
            "3b42f08e28244b21aa4cfe54fd766e4b",
            "3cad904ba302469e9ddbd1b81fd27809",
            "41616437890e4222a3b5427e634f5e37",
            "b99ac6f24d334f4aa343872403a34831",
            "bf0bae1a5ff04bd19f3008f3e0c05e19",
            "7d7669a67a0b446fbe9a7ec72a2d07a4",
            "ba4b0eb42d7a41c2b0c1d841021cecdd",
            "fefb73f4e1a84bd4b2a8922ce28b13db",
            "8d1a0f98913a448d85eafaaa77cef822",
            "50ab4de4a5104e87b5b28e36e3e4e99c",
            "8f2e7f2a99df46f6a6b33dee9ed44867",
            "c87fe25a6693402faf31fb2eafc89ee9",
            "1fc39c1b816c484fadd574aefb0cbd42",
            "49298494b87e438f9722f05766cec9ac",
            "a03878f96d8a4af0ba6edc02d2a34a82",
            "1109fa64b60c48da8a30b9e5279c5220",
            "09c6c62bdcd54666995e71dcf4ca06e2",
            "2a51b0a0d345422bb90bc31887702ad0",
            "5426ec4f190e4d14a2630c48e25d7da5",
            "ae7f81b7479b44f9b0a186e133494566",
            "35f38972e43d42e391be8bb11943dd6f",
            "810fa14c691048d49879d6c834df157c",
            "c413be7f0ecc4c518d03d2f071b18bc8",
            "8ff663e7644d46f6b0d7c17479f25b74",
            "9d7b1a9b8f054b0a8122c8112d89e1d7",
            "3871edf44d40447fa8d9a58c187ba756",
            "d39f6ac29c104c56ba9856b33ead82dc",
            "b2ae5b350e0b49fe89ca34ae634d1b30",
            "047639a40717476ba6b3a5c5e121043b",
            "baeea6d3ebba4c08b11794f640b49873",
            "1a3e4883f93a49c3b591f5ff92ecda54",
            "73837b5451b8435284057efb07d93edc",
            "523e9b1f35dd43e1bb477458fdea5908",
            "4c0b1722581249c89946b2d114180126",
            "24584e83a34d4a9095075210ac16d187",
            "64651f2d8add4a529049e88ee48709f6",
            "7b9de60fc97c4da4a39ead6f3b0fd720",
            "282ad5f6ecfb4de9a9f9029c9c708792",
            "db85658182434519a5da48fe39a6b149",
            "2e4d3d9fdbc9436b9aefe3058742636a",
            "83c8ba46b7e84b879f527e7d841be07b",
            "e97f7d41492e4bdaa6c550ab5286a80a",
            "edeba0c67a6a478081ff5056ffa5f344",
            "cc8db1080b7f498499c74f3c2cfb7f1f",
            "b8bda6ead385497ab7fb55a34664e93a",
            "cdd798b4bf91462e93ecdec217855dbb",
            "f40fa28821744461bba0302f36782d5c",
            "a2e93d95e7484b92b1c80d7830929c86",
            "da5805667e65417a8dfcea19158e9504",
            "c311b654757046bbb14a36e1729e43c4",
            "b7ab1f6a6c224fef89b0951292f8cbce",
            "c409eb4e43274c9a96ab44552bd740c4",
            "4d2cff21ce554317a531bdc62de505e0",
            "89709feba0104e92b38655e4a2b4ae7f",
            "969e02e0fec34f2cab1d30823bb230a8",
            "1cee695d6b3940c9b4195e0671694ea0",
            "89e49d940a2b4f7db731fc6a3f0fd16e",
            "e1a10e8a4d444e4bad1e6d590aad0169",
            "ccc5fac703c94530bd0c48424721bb02",
            "8d36cf01092b402aa2b0fe2e55403778",
            "493057b7b4594f769cc04335dbe428ef",
            "c566a084bd394b6fb4399f7ecc35c30e",
            "1ffcef325b8d4d16a703ff468dbc3622",
            "48de52589b00416d8981e2c4a9abc3fb",
            "2e584e34b45a431abc7dd5410548deb5",
            "8b0f139e5a1d4068bd71d75a91cabffe",
            "d8ebd76892c3429f8980d20f718ce43b",
            "c99b54cb4c98462588b0933ea180f7b2",
            "0981d1cc9ab0424e930936cc49f97539",
            "7487390298414d7a9223cb1a544a0f77",
            "4b11457b59b248528cae81e0403cce9f",
            "8fa9aea7489740b2b06819ace1adf068",
            "9291aac6c8ce4dc589a36d93e3707d94",
            "0334faa627ec4c529dc294297bd61a11",
            "9488492fcf294ddda686ca51b387ceed",
            "6edee8a44c404562a78988ca7d0b034e",
            "029f18e5215a406096fb3ccc6f4c3b03",
            "00741977fc5b493ab6cfbd2f0e69b9fe",
            "0bcde6fc26f74c3f8e8e06efd9ee1275",
            "9c30aea6398f49c19f3a0b263fe74721",
            "d59dc7e4158540b7898a377f139ebb3e",
            "24a6a3e9a0c742d7a826a30d7f7a706e",
            "eda3dff6fcce4b52b9eb977c0d33add6",
            "6a4b0872766548a999eeb752613f6bbc",
            "e379f6f923394167b238319ecafd16cd",
            "b02bdef1d3394e3590cb623ff6216414",
            "fe9523c089ea45808324b33519ba507d",
            "c6852dfe709541ff8a04e8e1e7c468d4",
            "4a14a4abbd36415bb521a482d08e968e",
            "e2fff5084f1d4200b709ff7587d6f341",
            "25f285c2331a4e4bafd2e5349fa43dad",
            "dd838909ef1c459bb2bfc2a81640d2f9",
            "36696887004947388ab522a56c42a393",
            "c46b1f6a505044c4938ee520bd40702f",
            "64d85ce8ef36487893e5513143119195",
            "9dde1d7ae0f74fc48ac505ff5549b3b7",
            "b6072925797b45e288810d0d9badb41d",
            "d26f2082cb2e46c4a65d4de886cd4a31",
            "da9a1dada85c4cc5a3adce759b351df2",
            "42a9aa457a5b4c729a05800ebd1c1f67",
            "3af674bb1e4648b89747648c7f40ab5c",
            "ecf266e641f842e5991178c872e03686",
            "e7114261e7b64738aa313d9b06e4636e",
            "96a5726a145a40fb8f9df60b732c7a2f",
            "4e1a860ac44849a1a3b6f4b1ff2b2a62",
            "90d3ac4121c044bebcf7b4c718160e4e",
            "c3a8c7e75c6a4a1582e85d06c4a30947",
            "a1b6c90d1c464b7ba0c378c062d309f3",
            "a842f9f25b9849eaa65664c8d4425fbc",
            "43c1a517dc3446b39804c152041af3d8",
            "8880dc62022e4e0e9d28404f55dd858a",
            "ce88e892dd5f4a508e123bba277ad51d",
            "77e7a00e1c9b47c4a1bd446ea1cfed24",
            "16ee8fc4f176471db55fcb5393dbfea1",
            "a6dc1498afc343788be888a4a5c2c814",
            "b7cd56f919364c07bbcbd2d1b4c15556",
            "0382059f60db4dfc8e90fd97a91566f0",
            "dc5d8b84aafb4e76b29142231cd81160",
            "1f4e7e7f128541df9e6d3c86399a5a74",
            "01f31ab02d5d422c9d68313bb0aa9452",
            "f361977a316b473c9b77c9545314ef46",
            "e4986d8207274c73a6038c24bc0ba6c5",
            "e1243c237d7c4d2f8106ea4341577894",
            "8960f5d840e6410eb34e8179faaf7e18",
            "fc61f6cb4a3148cdbe8786e49c9f28e0",
            "b610419b1e7a44478ab6d1559d13817f",
            "61a750d1efbc412dabb58291754f7814",
            "b0d2bf96ce5f459e9276420620e9fadf",
            "003af6a5428d41a495cfec2f65bc0861",
            "dcfd20b836e344ed923dafef39b8df47",
            "89a148d2466f495786e3c5e499bbf797",
            "a7e3964cabba41939c973cbf2eda9436",
            "6c77f3baed054a3f849676d6d68348a1",
            "7a263d0f8c7c475aa797c4850ebde122",
            "d59593b7f046481088cc1028bab8c7f9",
            "f98c6172fb294619a5515e11d831f126",
            "44afac8842b64b6cb7b113a600ed1d30",
            "68d38bf022e9491996309309f837f530",
            "15a77d4b8cd649eca514ae564ebd7df8",
            "1f365f261f6a47e1acb57754f5d1f1b7",
            "5b6737544ee248b3b130062af64c3633",
            "88c84c93d66d472398be5b329008671a",
            "69f5509ce1e94917b61db02e355c000f",
            "11351692cc9e4899acb40d95dba1dd8d",
            "230e3b26b339445b8d76a53916766058",
            "6ef8ec7920bf49f48ffa19b60aeb30af",
            "f693d18f8a4a4c3d8842c47b30e86a2b",
            "305fabc8c6514617b679241a72ea5863",
            "e591eb9f7ae04dd3820b8e4bff46230f",
            "34d425463fc740bb95b1bf83d189afea",
            "9513c4474f8e46538c794aacf34505a1",
            "7d91adefd18944a5bb910685f82d8b66",
            "df0a36d6cde14d418ff82e13e0a401ca",
            "b4a0a982058a425e9f0becb4dcf0dc6b",
            "307feff218e2480987b0349760d751b4",
            "8bbfcb6d6bcd411985759a5abddf9d97",
            "24923963cf604b5c9625478965b5c88f",
            "622ac806af1040eead48f7e8e14f3710",
            "cf072d417eed4fc19447a1dd051bd155",
            "aa5de159535548fa9218a089b22cabad",
            "36b7d5e4bb0546559d1bbd2e790189dd",
            "db4e61149bb746c8912d91a8cc5e5016",
            "d0a1c58f43e048a38b62bcc22595d70f",
            "03c57b729bbd43a5b17cc4555d5bcb8c",
            "2ee195b8bf654f44a70122b169f5231f",
            "1e0791857d2b48fa8e231bf56c883311",
            "a9696cead4154649b9c2022dd54711c7",
            "960d9598cf4a489892170ef3ead8c7d2",
            "32b4c8e9ff2944498bd3eee521772d3b",
            "099f67bbd7c349cd8d77214aaa3d6527",
            "dce585fb16154ed8acacd65212447094",
            "34a8e529e1674169ae47e4640fb5cdb1",
            "3b771ecd959f4cad9117f4cff15e6dda",
            "4f23fd87150c4ec1b6cab9e0289b0254",
            "626416a4ffc14f87a8bc2872410b0335",
            "42658f41ac8e41d9a169b843c97af771",
            "6d008641cda14923a8b2b16cee405359",
            "97e67f2120ea4a5aaf50913879305946",
            "85d3611a8a5143c29a50f1009c180eba",
            "ea571913e50c41f1b5a0650be33caf8e",
            "452500faf8b0474aa706eda46e638325",
            "7424de069d1446079b559adfb799515e",
            "efd6f3632abf4176ae04df1e98eafc45",
            "b0d565294c77425a938034addc21dafa",
            "6f6101112e47461e8d185f4a8a6d84c0",
            "9a1eba61fe2846f29885c0731a37710e",
            "0b4d93f1c7d5444daf0519895bc4aabc",
            "f160111c707f47cfbfe2942758f0629e",
            "ca6641144d3d4ffd8ba43dc297e2629b",
            "13f5120b0ed441ac8d5cd8dabd42304f",
            "179c6770bd554f568303e9c7cd406634",
            "c6dc8db4a95246eabf8ad2b65fe37b39",
            "82f59d78247e4e8b9a28122e0fa7b943",
            "f7a1999423e642f38e3d4401e2632037",
            "3eae11a8a4ae4f2aad8824aaa39f2746",
            "091d1d83f5f047c6b797cf0318d3c0a5",
            "408c19f18834415085ea934c79845a93",
            "bfb8a5019f324fd2834b1b1ccae9faba",
            "91c08d4412004bdb97270d5728073499",
            "bf0a0c3fba5741dfa6d6868196fdb3fe",
            "98bca8934d9f465daa2698ecf7c2175f",
            "155b498aeb2142dc86c0986decc459cb",
            "cd5ac2d9feff41039eef8a27aba96036",
            "2104164cdd174b9783428536b46d5981",
            "5894e7fdb6304be6a2b1e45dbf70ee56",
            "14dfa306a6e241a5bc3c19dd69a67e5e",
            "fdb30ab5aaef408db78233a48e5b368a",
            "6899d834ad9646df870496160e93c277",
            "2093d00783f54e21bc910373140ea477",
            "575a3960fefd4af9b04f51393eb0b053",
            "2c37fd8736c6474dbd4205d53aa2fb2a"
          ]
        },
        "id": "TNZKpaRKK2iM",
        "outputId": "dd79e658-bb5b-4153-b51e-2d240397269c"
      },
      "outputs": [
        {
          "output_type": "stream",
          "name": "stdout",
          "text": [
            " ### NEW MODEL ### \n"
          ]
        },
        {
          "output_type": "display_data",
          "data": {
            "text/plain": [
              "[1/429]   0%|           [00:00<?]"
            ],
            "application/vnd.jupyter.widget-view+json": {
              "version_major": 2,
              "version_minor": 0,
              "model_id": "6a2d0c3540ac4564b7f506d65c27e77b"
            }
          },
          "metadata": {}
        },
        {
          "output_type": "display_data",
          "data": {
            "text/plain": [
              "[1/429]   0%|           [00:00<?]"
            ],
            "application/vnd.jupyter.widget-view+json": {
              "version_major": 2,
              "version_minor": 0,
              "model_id": "4ad563b094554bd3b0fe021476696124"
            }
          },
          "metadata": {}
        },
        {
          "output_type": "display_data",
          "data": {
            "text/plain": [
              "[1/429]   0%|           [00:00<?]"
            ],
            "application/vnd.jupyter.widget-view+json": {
              "version_major": 2,
              "version_minor": 0,
              "model_id": "cb1948e7969b44528c1756bc80794504"
            }
          },
          "metadata": {}
        },
        {
          "output_type": "display_data",
          "data": {
            "text/plain": [
              "[1/429]   0%|           [00:00<?]"
            ],
            "application/vnd.jupyter.widget-view+json": {
              "version_major": 2,
              "version_minor": 0,
              "model_id": "6987479314b64bcea5c2fc6c78215771"
            }
          },
          "metadata": {}
        },
        {
          "output_type": "display_data",
          "data": {
            "text/plain": [
              "[1/429]   0%|           [00:00<?]"
            ],
            "application/vnd.jupyter.widget-view+json": {
              "version_major": 2,
              "version_minor": 0,
              "model_id": "9014b071784441fe863d3bef18d04fa5"
            }
          },
          "metadata": {}
        },
        {
          "output_type": "stream",
          "name": "stdout",
          "text": [
            "Validation Results - Epoch: 5 Acc: 0.9068 BCE: 0.05 GP: 0.273082 AUROC MNIST: 0.90 AUROC NotMNIST: 0.95 \n",
            "Sigma: 0.1\n"
          ]
        },
        {
          "output_type": "display_data",
          "data": {
            "text/plain": [
              "[1/429]   0%|           [00:00<?]"
            ],
            "application/vnd.jupyter.widget-view+json": {
              "version_major": 2,
              "version_minor": 0,
              "model_id": "2c6dadd85bb54df685fad35c6cefdbcc"
            }
          },
          "metadata": {}
        },
        {
          "output_type": "display_data",
          "data": {
            "text/plain": [
              "[1/429]   0%|           [00:00<?]"
            ],
            "application/vnd.jupyter.widget-view+json": {
              "version_major": 2,
              "version_minor": 0,
              "model_id": "a6f6f962ee4d4c6d82e0189ece7430b4"
            }
          },
          "metadata": {}
        },
        {
          "output_type": "display_data",
          "data": {
            "text/plain": [
              "[1/429]   0%|           [00:00<?]"
            ],
            "application/vnd.jupyter.widget-view+json": {
              "version_major": 2,
              "version_minor": 0,
              "model_id": "cb7a8ca8b7624451806cb358c2ac4a77"
            }
          },
          "metadata": {}
        },
        {
          "output_type": "display_data",
          "data": {
            "text/plain": [
              "[1/429]   0%|           [00:00<?]"
            ],
            "application/vnd.jupyter.widget-view+json": {
              "version_major": 2,
              "version_minor": 0,
              "model_id": "e1af11ed9fd24f58a07b3c5eee196efd"
            }
          },
          "metadata": {}
        },
        {
          "output_type": "display_data",
          "data": {
            "text/plain": [
              "[1/429]   0%|           [00:00<?]"
            ],
            "application/vnd.jupyter.widget-view+json": {
              "version_major": 2,
              "version_minor": 0,
              "model_id": "2ca641a835324d6a91c18b5b6afdb900"
            }
          },
          "metadata": {}
        },
        {
          "output_type": "stream",
          "name": "stdout",
          "text": [
            "Validation Results - Epoch: 10 Acc: 0.9184 BCE: 0.05 GP: 0.324993 AUROC MNIST: 0.96 AUROC NotMNIST: 0.97 \n",
            "Sigma: 0.1\n"
          ]
        },
        {
          "output_type": "display_data",
          "data": {
            "text/plain": [
              "[1/429]   0%|           [00:00<?]"
            ],
            "application/vnd.jupyter.widget-view+json": {
              "version_major": 2,
              "version_minor": 0,
              "model_id": "52139ed95c8d41ce9e6caa235b0c4ff3"
            }
          },
          "metadata": {}
        },
        {
          "output_type": "display_data",
          "data": {
            "text/plain": [
              "[1/429]   0%|           [00:00<?]"
            ],
            "application/vnd.jupyter.widget-view+json": {
              "version_major": 2,
              "version_minor": 0,
              "model_id": "41616437890e4222a3b5427e634f5e37"
            }
          },
          "metadata": {}
        },
        {
          "output_type": "display_data",
          "data": {
            "text/plain": [
              "[1/429]   0%|           [00:00<?]"
            ],
            "application/vnd.jupyter.widget-view+json": {
              "version_major": 2,
              "version_minor": 0,
              "model_id": "49298494b87e438f9722f05766cec9ac"
            }
          },
          "metadata": {}
        },
        {
          "output_type": "display_data",
          "data": {
            "text/plain": [
              "[1/429]   0%|           [00:00<?]"
            ],
            "application/vnd.jupyter.widget-view+json": {
              "version_major": 2,
              "version_minor": 0,
              "model_id": "9d7b1a9b8f054b0a8122c8112d89e1d7"
            }
          },
          "metadata": {}
        },
        {
          "output_type": "display_data",
          "data": {
            "text/plain": [
              "[1/429]   0%|           [00:00<?]"
            ],
            "application/vnd.jupyter.widget-view+json": {
              "version_major": 2,
              "version_minor": 0,
              "model_id": "64651f2d8add4a529049e88ee48709f6"
            }
          },
          "metadata": {}
        },
        {
          "output_type": "stream",
          "name": "stdout",
          "text": [
            "Validation Results - Epoch: 15 Acc: 0.9278 BCE: 0.04 GP: 0.360661 AUROC MNIST: 0.94 AUROC NotMNIST: 0.97 \n",
            "Sigma: 0.1\n"
          ]
        },
        {
          "output_type": "display_data",
          "data": {
            "text/plain": [
              "[1/429]   0%|           [00:00<?]"
            ],
            "application/vnd.jupyter.widget-view+json": {
              "version_major": 2,
              "version_minor": 0,
              "model_id": "f40fa28821744461bba0302f36782d5c"
            }
          },
          "metadata": {}
        },
        {
          "output_type": "display_data",
          "data": {
            "text/plain": [
              "[1/429]   0%|           [00:00<?]"
            ],
            "application/vnd.jupyter.widget-view+json": {
              "version_major": 2,
              "version_minor": 0,
              "model_id": "e1a10e8a4d444e4bad1e6d590aad0169"
            }
          },
          "metadata": {}
        },
        {
          "output_type": "display_data",
          "data": {
            "text/plain": [
              "[1/429]   0%|           [00:00<?]"
            ],
            "application/vnd.jupyter.widget-view+json": {
              "version_major": 2,
              "version_minor": 0,
              "model_id": "0981d1cc9ab0424e930936cc49f97539"
            }
          },
          "metadata": {}
        },
        {
          "output_type": "display_data",
          "data": {
            "text/plain": [
              "[1/429]   0%|           [00:00<?]"
            ],
            "application/vnd.jupyter.widget-view+json": {
              "version_major": 2,
              "version_minor": 0,
              "model_id": "9c30aea6398f49c19f3a0b263fe74721"
            }
          },
          "metadata": {}
        },
        {
          "output_type": "display_data",
          "data": {
            "text/plain": [
              "[1/429]   0%|           [00:00<?]"
            ],
            "application/vnd.jupyter.widget-view+json": {
              "version_major": 2,
              "version_minor": 0,
              "model_id": "25f285c2331a4e4bafd2e5349fa43dad"
            }
          },
          "metadata": {}
        },
        {
          "output_type": "stream",
          "name": "stdout",
          "text": [
            "Validation Results - Epoch: 20 Acc: 0.9258 BCE: 0.04 GP: 0.354427 AUROC MNIST: 0.95 AUROC NotMNIST: 0.97 \n",
            "Sigma: 0.1\n"
          ]
        },
        {
          "output_type": "display_data",
          "data": {
            "text/plain": [
              "[1/429]   0%|           [00:00<?]"
            ],
            "application/vnd.jupyter.widget-view+json": {
              "version_major": 2,
              "version_minor": 0,
              "model_id": "ecf266e641f842e5991178c872e03686"
            }
          },
          "metadata": {}
        },
        {
          "output_type": "display_data",
          "data": {
            "text/plain": [
              "[1/429]   0%|           [00:00<?]"
            ],
            "application/vnd.jupyter.widget-view+json": {
              "version_major": 2,
              "version_minor": 0,
              "model_id": "77e7a00e1c9b47c4a1bd446ea1cfed24"
            }
          },
          "metadata": {}
        },
        {
          "output_type": "display_data",
          "data": {
            "text/plain": [
              "[1/429]   0%|           [00:00<?]"
            ],
            "application/vnd.jupyter.widget-view+json": {
              "version_major": 2,
              "version_minor": 0,
              "model_id": "8960f5d840e6410eb34e8179faaf7e18"
            }
          },
          "metadata": {}
        },
        {
          "output_type": "display_data",
          "data": {
            "text/plain": [
              "[1/429]   0%|           [00:00<?]"
            ],
            "application/vnd.jupyter.widget-view+json": {
              "version_major": 2,
              "version_minor": 0,
              "model_id": "d59593b7f046481088cc1028bab8c7f9"
            }
          },
          "metadata": {}
        },
        {
          "output_type": "display_data",
          "data": {
            "text/plain": [
              "[1/429]   0%|           [00:00<?]"
            ],
            "application/vnd.jupyter.widget-view+json": {
              "version_major": 2,
              "version_minor": 0,
              "model_id": "6ef8ec7920bf49f48ffa19b60aeb30af"
            }
          },
          "metadata": {}
        },
        {
          "output_type": "stream",
          "name": "stdout",
          "text": [
            "Validation Results - Epoch: 25 Acc: 0.9276 BCE: 0.04 GP: 0.359639 AUROC MNIST: 0.95 AUROC NotMNIST: 0.97 \n",
            "Sigma: 0.1\n"
          ]
        },
        {
          "output_type": "display_data",
          "data": {
            "text/plain": [
              "[1/429]   0%|           [00:00<?]"
            ],
            "application/vnd.jupyter.widget-view+json": {
              "version_major": 2,
              "version_minor": 0,
              "model_id": "24923963cf604b5c9625478965b5c88f"
            }
          },
          "metadata": {}
        },
        {
          "output_type": "display_data",
          "data": {
            "text/plain": [
              "[1/429]   0%|           [00:00<?]"
            ],
            "application/vnd.jupyter.widget-view+json": {
              "version_major": 2,
              "version_minor": 0,
              "model_id": "960d9598cf4a489892170ef3ead8c7d2"
            }
          },
          "metadata": {}
        },
        {
          "output_type": "display_data",
          "data": {
            "text/plain": [
              "[1/429]   0%|           [00:00<?]"
            ],
            "application/vnd.jupyter.widget-view+json": {
              "version_major": 2,
              "version_minor": 0,
              "model_id": "85d3611a8a5143c29a50f1009c180eba"
            }
          },
          "metadata": {}
        },
        {
          "output_type": "display_data",
          "data": {
            "text/plain": [
              "[1/429]   0%|           [00:00<?]"
            ],
            "application/vnd.jupyter.widget-view+json": {
              "version_major": 2,
              "version_minor": 0,
              "model_id": "13f5120b0ed441ac8d5cd8dabd42304f"
            }
          },
          "metadata": {}
        },
        {
          "output_type": "display_data",
          "data": {
            "text/plain": [
              "[1/429]   0%|           [00:00<?]"
            ],
            "application/vnd.jupyter.widget-view+json": {
              "version_major": 2,
              "version_minor": 0,
              "model_id": "98bca8934d9f465daa2698ecf7c2175f"
            }
          },
          "metadata": {}
        },
        {
          "output_type": "stream",
          "name": "stdout",
          "text": [
            "Validation Results - Epoch: 30 Acc: 0.9284 BCE: 0.04 GP: 0.349570 AUROC MNIST: 0.95 AUROC NotMNIST: 0.97 \n",
            "Sigma: 0.1\n",
            "[(0.9284, 0.0), (0.9224, 0.0), (0.9503671, 0.0), (0.9680985232856226, 0.0)]\n",
            "{'lgp0.05_ls0.1': [(0.9284, 0.0), (0.9224, 0.0), (0.9503671, 0.0), (0.9680985232856226, 0.0)]}\n"
          ]
        }
      ],
      "source": [
        "_, _, _, fashionmnist_test_dataset = get_FashionMNIST()\n",
        "\n",
        "# Finding length scale - decided based on validation accuracy\n",
        "#l_gradient_penalties = [0.0]\n",
        "#length_scales = [0.05, 0.1, 0.2, 0.3, 0.5, 1.0]\n",
        "\n",
        "# Finding gradient penalty - decided based on AUROC on NotMNIST\n",
        "# l_gradient_penalties = [0.0, 0.05, 0.1, 0.2, 0.3, 0.5, 1.0]\n",
        "# length_scales = [0.1]\n",
        "\n",
        "#use best hyper parameters\n",
        "l_gradient_penalties = [0.05]\n",
        "length_scales = [0.1]\n",
        "\n",
        "\n",
        "repetition = 1  # Increase for multiple repetitions\n",
        "final_model = False  # set true for final model to train on full train set\n",
        "\n",
        "results = {}\n",
        "\n",
        "for l_gradient_penalty in l_gradient_penalties:\n",
        "    for length_scale in length_scales:\n",
        "        val_accuracies = []\n",
        "        test_accuracies = []\n",
        "        roc_aucs_mnist = []\n",
        "        roc_aucs_notmnist = []\n",
        "\n",
        "        for _ in range(repetition):\n",
        "            print(\" ### NEW MODEL ### \")\n",
        "            model, val_accuracy, test_accuracy = train_model(\n",
        "                l_gradient_penalty, length_scale, final_model\n",
        "            )\n",
        "            accuracy, roc_auc_mnist = get_fashionmnist_mnist_ood(model)\n",
        "            _, roc_auc_notmnist = get_fashionmnist_notmnist_ood(model)\n",
        "\n",
        "            val_accuracies.append(val_accuracy)\n",
        "            test_accuracies.append(test_accuracy)\n",
        "            roc_aucs_mnist.append(roc_auc_mnist)\n",
        "            roc_aucs_notmnist.append(roc_auc_notmnist)\n",
        "\n",
        "        results[f\"lgp{l_gradient_penalty}_ls{length_scale}\"] = [\n",
        "            (np.mean(val_accuracies), np.std(val_accuracies)),\n",
        "            (np.mean(test_accuracies), np.std(test_accuracies)),\n",
        "            (np.mean(roc_aucs_mnist), np.std(roc_aucs_mnist)),\n",
        "            (np.mean(roc_aucs_notmnist), np.std(roc_aucs_notmnist)),\n",
        "        ]\n",
        "        print(results[f\"lgp{l_gradient_penalty}_ls{length_scale}\"])\n",
        "\n",
        "print(results)\n"
      ]
    },
    {
      "cell_type": "markdown",
      "source": [
        "## CIFAR-10 vs SVHN"
      ],
      "metadata": {
        "id": "mbjG7knfF_M6"
      }
    },
    {
      "cell_type": "markdown",
      "source": [
        "### reproduction $\\lambda=0$\n"
      ],
      "metadata": {
        "id": "L8O1CgZ0GGDo"
      }
    },
    {
      "cell_type": "code",
      "execution_count": null,
      "metadata": {
        "colab": {
          "base_uri": "https://localhost:8080/",
          "height": 1000,
          "referenced_widgets": [
            "ee49fbd32005488086ff9687e2138e65",
            "0a11b2eb25234d12a6a595d83f59a787",
            "05c6a03e21804438ae096731b2093681",
            "1edf44e535ae4bb7b05d2de481eb6608",
            "f4f08dcad57f424f8eadd30f590e8bde",
            "80b730943ab046049c5bc2c819593396",
            "dc2c0516534043dc87733b5ace883b60",
            "dad9a162fb9d487c835a59ba931c2347",
            "3d915f0bf37943279d10e77d0b7c12ee",
            "0aa26d3aeb8344b29e7604afc0c22b83",
            "e690dda0e9a24fcd9c432d461645efe1",
            "ab338c14d989489b83e7ea524f0d7a40",
            "eafb6cbca0cd46ec82845d346ea0700f",
            "10324e2dc1014617bcb6b6ea4caa7e30",
            "5eb00c8a613f4a8799733e47812c4687",
            "58d2a216dbe14c558eea723f4b4e1cb6",
            "024c691fbafa433cbd0459f189973e56",
            "851b5f7cba854511bd7d8b68e490be0e",
            "28c8ae9ab09245b49832748ff34e6b2f",
            "571ee1c86df64877854a74ec3232b720",
            "5637166214bc4f52bbf3bf26545e1e58",
            "842a92c6cf2345e6a53039206ed66c05",
            "b30e2c81540b46a5845350b982f0e657",
            "2070f8de1b1e4dbd8ab803938125c46d",
            "cdb454cf6d6a40e986d09719471d3e8e",
            "d7f543277a7b4c208a84d8771f5fbd43",
            "b5b318373fe14f9293fef3f28adcf4f1",
            "ceaa1ceaa8cd4c28899016dfd808e85d",
            "064d1e5f68b3465588f793b8e651cbcd",
            "10fd5de4afcf41e1a4eadfbf767163cc",
            "bffa607dd1a9429aa06029f789da6d33",
            "4518703b470b4e608b648762a56bdf45",
            "71edcbb86d2846ac9015041a86cc6293",
            "e21e85cf4fa5460485009d089461ac2b",
            "b9241788ac884121b29e9fe2306d994f",
            "36161ac9a88d4d229340dd14452ca5c9",
            "e3b246a9c2a14cc69819258df780360d",
            "720f63c7ed244bd5b52006ec7e5699e3",
            "2c24c24537084b6b846cd70c69570da9",
            "cf7dd805b13542409237ff12011f1fea",
            "aad51d55e3894d50b775ce79f00af705",
            "8fa40962aeb349e6a851f4a9a62e5eed",
            "2c18ec16b10f4f6cb34d63390c32a8df",
            "e0ddfee4127b409cadc35743725a3377",
            "2037e1f2a776423b829b580f5f38f89d",
            "d64ef1b0cf5849408f933e215971e4de",
            "85cdd10f49b640b49260a2ce4886e549",
            "2ac4da416a6542298dd36fbbf69f820d",
            "3cd68663c6d64188bee59452b47a6dd7",
            "e3e73a14e7984e39b067a73eed356a63",
            "be4dd41dd8864c51b18a57dd544655b3",
            "f805524a1b474e0885f029ef8a41350c",
            "d1d300d5a8e34a60abd4768c0217b676",
            "1f41d22959414d74bcdc833aecb01860",
            "c575772a262f4c8db00dcf7866f9b158",
            "e8012eec7f90494c862ca22b862573c2",
            "3dd296c662bc435bac7d79e1556fa0e0",
            "79c1813c91434697b5ffb5917fb104dd",
            "d783b905eb324c6d9fdb4a87717d06f0",
            "7f37a563e3144d6e90dd8d21d44a12f6",
            "3c1d4a78104d411abe90691f4d2c00a5",
            "0b1f7df80f1f47a391f8462f68e1bca5",
            "2e404ded757e406aab3360b2325b6375",
            "3dd36faf06d84dee816216dcaca09562",
            "751d80f8beaf4e79b5596fcc165e542a",
            "0ce013b6a75a457eb7ef8eac381e00e3",
            "ee4f9e1f6f1b426a85a4bf8ead81a92b",
            "dee413584a2c4e66a5675f7375d32ab0",
            "9c2d3393dcc645ba891ad517d0e0d794",
            "37d86bffcf6343d8a1b9a6ff9060c572",
            "836e9d78de084f908f048a78c1da8e05",
            "70c8f20fcab041b4a3990e80f1398835",
            "fe3fc731309b41e1bb564b3ffd23aa55",
            "9fc3e7f1362341eabe519594775b5b59",
            "2fa77aba0607481393a79b2017ed4a41",
            "1dbabdfd41cf4b6793ebbac2e1e0f503",
            "4e2e753159d34da3bdeefd1a7d3acaad",
            "66641b8f226944339a9ebd4ad1a7ef31",
            "34dcb3f27d4a4085868dee2a2742b647",
            "eca2d8452ec74a8ca5cb1d5e25241c4d",
            "c455bbeed169406e913519f5bb4cdb43",
            "ceb8112e2fb64797bd5204376eddacfd",
            "0c007d22aec74000bd86fed2566975c9",
            "129651c50dd2469fa93e52737a906e09",
            "0e08a25fea5a438bb638894c82b1f2db",
            "32fac1f0ddf74cbaae15cb14555a2ff6",
            "1a8e80bc905d4ea99918b8d308fd74f9",
            "a06f91755e0743df88d344aba171eb44",
            "a6041ff2016847adb757fb984c7eabd6",
            "14243af0e1af4744902def2047a6b8c1",
            "9b6ec2947b2d445daa6bcd44d4b515ef",
            "050d9c88727741a98a540e2fbb3efff2",
            "8b5a184d933d43fab104db3929d3ab36",
            "7c6c94dd420b488b9dd6882aeb584bb2",
            "965eb888e827461fa00b8a72fe97ada0",
            "4e31414874704ca09f6bd145109c20b6",
            "506e051ba4ca4d6c9c6564b2d76111de",
            "dd81c5928cf0458493d7e09d8ec01740",
            "8caa38bb97d144ba879378d2adee647d",
            "f50827b4ea3a417997b8a1f4babce93d",
            "446721ed83b649d8b8612b085b3d1692",
            "2112356975fc484d90f41783a3167b6b",
            "e88acc06640a42dfbad53d77b970899a",
            "360c65097b2b4ce48feed17916567619",
            "3123b71281df432094fcd056bd0ecaa2",
            "8ad1fa1117394ea3ba65d59514006582",
            "2e786cde706e4af696ee5038be07756e",
            "5a49a57e4c2c464ea4a07edb2ee796ed",
            "2391cc15657d416f913f174a60f317df",
            "e04ddcd9a30542b185f9bb4754ccd9b6",
            "73f032cc14d94eb69d4b5f695646851a",
            "5ee826b45f3942dcaac64fb77617b123",
            "d9a839bacf794b668478ef038c75bc21",
            "2a7f3db694954193ab1da87c1d41a333",
            "8715d0ce89a9412c901aba2a413e8a63",
            "55b9405ce2be4e97bcfe8561ed58ba64",
            "cbb85d6bdca94d8e96a3577c5486ed1b",
            "cddc47e66f5a412fa87d04deae1049c9",
            "123fdc4bdc0d488da3a52ddf88abeb7d",
            "c93f0578eadb42309740656d8389324c",
            "916bdfd0780544268f2fe3bb0b197827",
            "746ffdaf73734ec9a04cdba7beb093b5",
            "dcbdbf00dba6492aa0832b9f7e1ee708",
            "b926749750d04a42a9d42a69b448a62e",
            "f8dec91472574464b820ae2387d88f7f",
            "923052d5b9574529a52a07a17b047a89",
            "596f3813e9644837b698c98d24cd9fa4",
            "c7c0ff69e0fb4254acf634354e6eff57",
            "8d84feca5cbb4e32b6ca2e523c0983f5",
            "f35126dc39d64208b301ac8e1a3b9ccb",
            "c86a9542f13d47f69075bd92c16ed77a",
            "99d8a48342e342d38a4f13527cbabd7e",
            "fd1f536c9d12407289b7a4908789bd11",
            "61c8261f5a7a49489978de23e5ff36b4",
            "03d5a8081da94774a94d8d610ab92974",
            "df1131727b6347b18e1c46fa767b414a",
            "f75b4d58d27d4618bc9a5868d58201f5",
            "959cde809b054ba4b9a78f76b96170f1",
            "1ba61eed2605411a92bd3d2765501d2a",
            "1d43d0c7f64442ff9c5ad31267853701",
            "55f4ae8cd70d44c1820230888b0fe206",
            "300c56eac4e4478a90a2273a2cbe035a",
            "f8a798933a13446480414178417d7769",
            "035a4277331747fe970b4fc4455b7634",
            "fbc7f6684b164c8896feeae7493db5dd",
            "851df3989a44413cac9215d88d534fc9",
            "8137d0db649245a3bcf4c7a009a6cecf",
            "be0f9e87576041baabda6375029f6cab",
            "8c360192484048dfbaf90d8778e719f7",
            "819496d6b7f6405eb963e01f0704cf7a",
            "c8d5c51f2c354b1eb0110081e7682a74",
            "22baf6e5c0154da0b63c438ce14fce34",
            "2f6284ed127e4ac69812038b33f4ef82",
            "91757a2d699d4779b1df1280b39d9ad0",
            "30cfd2e006ea494989d13fd87b8bb2c3",
            "5108e29fe98c4a4481e3f8c963d4ef6f",
            "c86c087b4f084865a8985592bdbbeba7",
            "f4f087f5d95446eca7dd71710315524c",
            "a21b2b1eb820406286bbfba4f1342ed6",
            "f40f44ea673b48bcaceec2faae4ed217",
            "736474f955944181b934b5858186ffcc",
            "6deb5ef8380345de9460fbf02cff2a0a",
            "1e46abfde756426baea8a08ee08efa9f",
            "7b22f2702c934024825336a1226be566",
            "0c96300681014ff3ac75c58081111899",
            "f70944233a2a459097a87178810c1929",
            "bf8dfd2d521747e69fc778c94cc73912",
            "8b8ba52abf9f4059a9bd30dc820ba411",
            "f5074bde0bc947ca889275c650ae6a80",
            "1ccda34a44d841788860ea2f4b4c46ed",
            "db9febe39e15434f887ac282bb5cd4e4",
            "5dc7d42343d04c2d98b15a56ffcc460c",
            "323e4426d8f843bc96af5a2c4ea9c600",
            "9d0ab127d6b04ca3a382ba6d3a3b0f95",
            "b5aeed3026b74b02b7bd4ad48b11afd0",
            "004fd3936d3349258fd71eb6524248d8",
            "44baa10f7fe94d0584a67632e7b4c8ae",
            "fb75d48e6e8d4af4949c3cf35c15e3f8",
            "a0aaa3870af6499b808a2a76c0f78dce",
            "96b8296743544bbb8a02a6fe1868bf02",
            "f2e19ae78f7e44a1ab0945ff3a516a35",
            "8ec73bd52bd644c0a159994f825edd5f",
            "97492e9f9af046d48d329be301985784",
            "bf263e52cdbf47ff99cc4b6c7419c425",
            "36fbf5604bad4868a35ee3eb2aff7efb",
            "36a8df90b44f4e4db620a4c6ec5e060b",
            "0e57318be0f441ac99f7140b195a63f0",
            "3c8c1b9b96f049d89e1b08c41424cd4c",
            "1dcc70bf5909446983d1df72a40bc84b",
            "7d500c1a185046f39d77193d3df76327",
            "d79034980c37443a88c61d0f54162690",
            "983820206ed1411fab842c9e1b045b79",
            "a20c943fb176435592e758ff9ce0ed67",
            "6478b2fe729145339f99cfa2d7f880ba",
            "248cced27b6747af8ebed0ad4d37d99f",
            "25b7880788fd4fb6b7ff25fd2dbe399a",
            "62ebda08b62b4eb6af2de7beb80a5968",
            "34e5fafd40ea4c38b3b93d6969e8ccc9",
            "2669f83068b74de380108b2d96b44546",
            "87db37c1d6964c349ae2a8bee1699d39",
            "7c7e965c6bf24752982710b18a26b4a7",
            "a29e1ff2d085485ab9f7cd5b66f5b030",
            "6b543b8d4a004ab68dc08736cd24c41b",
            "442d080ee05c47d9bbd59c51e4709e32",
            "c6acf03f94704de6a69bb71199815295",
            "b6fe1fb6ed4c46a1bdf127e901c7b209",
            "77b952b0e1d34906986f1aa6ac16a68b",
            "dc3ff0ec391b40179831596ff37da2cf",
            "068ae5bdcedf4fc0aaca525a2f04bcd3",
            "4bd8b1e57744473daa7862fb2eb3f3d2",
            "794a7aa793b74b61976324f89d8dfbf9",
            "faab108f8fec49e1a2169f939509a7cd",
            "101aca4412fd41c3b30b9585c1810216",
            "05fd4eaa9c5d43e7a11f5509f525fcf6",
            "b2ec820cc032449ea1ed5ba63a586363",
            "36f734c5cfe04ac4963533c6e9879d37",
            "87d97c8300c8464aa0a301c148b94f85",
            "fec95e46aa1c4e94ba7aab5128eee1f4",
            "38c3cf3ef6514a0c97571aa44ea471a3",
            "2d9fe3737c774f3cba205c06ceca2912",
            "104bc54dc44e43d5b1f6d13a773295b3",
            "6dc2a90c9b474e3eb4391c0f4ddd0836",
            "fa5eeb89f0bb4ad2926bb11e53d82f6c",
            "c834a558e70340228f0a9d8410e4d236",
            "e02c83733a054aac82d236ba78d5ee8c",
            "93b47c79e1fc4dff891f28cf9719c91d",
            "689acec997d847b6aeb860d5e3d53713",
            "02b59bccac5e4aa1b9be5659630c9065",
            "af1937ee66ef4099b28960232bebaeb7",
            "2e89f16dfef64c109fdc5679d77028fe",
            "122673c566e84c239ea958124e569a5d",
            "73d74174dac043f1ab9cc449c7a173db",
            "5b3bafe2c29b47daa10bab1fe06cc9b9",
            "93f1522aa7004023acc106d5f06a0001",
            "ecb55217457c4a06a73b984e437cace0",
            "aee0e4dbee3e4070bd2285531f381c3e",
            "8bc6dc6d4efb4982acc63a8dace678d9",
            "15c0939ee0364b88942f7b6034b7cca3",
            "a069d45438224105a63c2e7c694ed481",
            "fdd6d5708c534b44a1f5d84bc907d963",
            "e939815ca2384b49a3ac99c7d0077a3a",
            "a9bfa25443cd4a57a797492c39640f48",
            "24872ff829744a79956c941d91c1c0bb",
            "d76ab4d1f82a4923b612f52ce29fa363",
            "59a250bfa6d74243a2c905816a555dba",
            "167600780ecb485fb9103a8bd07cc92d",
            "c5a07fc20e4d4fa99cd1718f6a3c8aee",
            "85e6e944481c4153846ee13d23107bb3",
            "e4f62fd897c642b2b3045641650c4307",
            "92368227ddfc4c6aa74e18dc15bc0580",
            "1157d11e9951434c82ca2d8d7634c9bd",
            "27c4409a234447aba544ecd5cb934034",
            "cfaf056d3f1d45fba591a53bf4d417a2",
            "c62e65f2de2e4b31908dd4c671292a00",
            "478cf75db05b4430b7aa61dcdd6460a2",
            "9053e75fcbb94389bdcf017df1df2c67",
            "b7dc9c4f2d7b4934ad67b60389c3b6cb",
            "1e6de3b8ddeb44c1821e9f11cdf86661",
            "b68255c2c2a740beae573a93c1a66a8d",
            "f7e0430e64194d64a1bc6f1e7773c143",
            "0cfac9cb6b5c43c6b6584fc5a23f281a",
            "0ef3ccd7f4ec4722a0bafb3bdb9d0e50",
            "fafbfc01489f47078d49183f16af7057",
            "c0c7fdffac6b44329a6ca8297e5673a1",
            "c9d17aa25a8c42699e7082b15e993d58",
            "6718118bae304a9397ffe191d393bc51",
            "f3f377b1151c49e1923374c0bc52be4f",
            "c5da4c6ea999427393c8b6c7cdf07b58",
            "5ae92ab22140451d942deae10ddc9aea",
            "aabd9e88e2784e79bd2e01700ada8e2a",
            "954325ede6f348f3b5079170cbc90739",
            "5e3fc68fb772438292e87fddc3794cf5",
            "26cc56cf55b44970adf48bb2755ace94",
            "2ba001af8a1e4beba0a3317aa80dfbd7",
            "85a0937da7264fe1b4c1c61122191e54",
            "f8ea1c0c13e6422fb5b3d98d647fc79d",
            "3a16cbfab3df43d9b23a7d0647426a51",
            "7c83061d64964df3b51f46548cc63af1",
            "02f26ab6fcbe4cafb0d604ef611495ac",
            "e900e5b4f899416e8233c16d0eadf7f9",
            "7e5cf34bf76d4fd79ce941c248fcd8b7",
            "86c03aeb728d4f6aa3d2751af1547a65",
            "4663e47936594a70b8c8547267b186e6",
            "f319d73ab5a04ca39c7690fdfd8ee016",
            "0e2c039a0c4442d195069fce9bdd3b27",
            "bd411233a5c248809ea580bc51027b4a",
            "f7eec92987624e51881ec2e53448eb69",
            "3dbf84fa880042df9bba6e243610cd83",
            "1087bee14a8d43cc9fc40788a36407f4",
            "e2772e774c08488eb3cf9606d468e31d",
            "7556ec91049a4fdd9c6d304290cf35a7",
            "5b1d732cd1bf475dae85fbae7fb8a50e",
            "57b63566b5af4a368f2f6c3998ec70ba",
            "646d552837bd4372a4ad0114a74a73ca",
            "04e7ac29a685481e82caef1cee7eac97",
            "f80f1e35780147ed99d60586a193954e",
            "70c421eca6634b4c8a5373af9c7940b0",
            "2519fbff91d4426c8177235ea24b172f",
            "df0900036f3849e2ac9a6770ab8b5912",
            "05ad27fa7f2848c1a0328a358ae05cc4",
            "e9349b007fe34cc2a614d10f21e2806c",
            "5b181efefbc44bf5b34d9c68e2af1b98",
            "f3de708b77d644858aadf481b5e00913",
            "82a36017a8aa4049b16964d254fe3e8f",
            "9932ef3b26634c9b96793bdf13428c85",
            "96544fb7a2d34c8c95e0348950bffb49",
            "6ce8c321b67b4114820bb17a672857e1",
            "dced820ce93c483ba4238ef376c09822",
            "baa7a6572dfd4e3baef453177644b581",
            "201fc773b31742f89e234a4604e0ca06",
            "726ee59f1d1b4eb6b2eae8a56a7676de",
            "fe90d14595c64ebaa6e828cec403bca4",
            "bf9dbccefb7e4241a5edc2f195ab462d",
            "8f36b0ab07c84cc495b77293da284ae0",
            "52f784590ebf4404992d6f8a3b5c6441",
            "440e9537737f4376b64948be59308617",
            "dbf4ff597d06478faa5798c1da2e7c23",
            "9982c367672443309a5fe2c10d630386",
            "944dae56ce894fbca5207395ef06037d",
            "bba83f91654241c39be9a7a4c8675e66",
            "343c0556f50b4fe993cf1adf6ab9436a",
            "cf767f5c048647dba91fe4d395b3edc5",
            "51fe2ac28f2f4eedbb670f3e79125405",
            "e09368ff28114e8595e309c95261e62f",
            "7c9416034c9f4c8db4c8376fb897f229",
            "24895bc11bd34ba8942870dbb35ec604",
            "b0b1e2b993dd40148a7dcc55bfd72f10",
            "ef48ae0d69c043dab030a0e8eac5edd4",
            "a467f3db3e7d4d29b02a867a9221be4f",
            "b85e73ee423046f3ad870df91e97ac65",
            "a2d780635b4f405fad6606350305814c",
            "a4f43749c9264930a28c83627f8de77e",
            "d5c7605c10134226926f087208909933",
            "26d2f75f577947d6897f145e380d748a",
            "c2657e962b7f47129df712bb7e350a44",
            "86f2d378ddf947409f80daf8118e2c54",
            "e5e8293c558a4f92919ed8d314c75c9d",
            "ede7faf497ff4597a4692b937a55ffb1",
            "09fea010c1c64599904be1ea075f1370",
            "930886e1d9fd44eb8f8fe8485c16a96f",
            "dd6dd2db62f9450fb59be124fadc3ac8",
            "d2abdda6ac1c4d3599f9b328d001207a",
            "12d8c3ce7a2f4371b00a3d8a8a47f870",
            "6cde54b32cf7488a8cf2c54155087ee7",
            "15fe8eee260148959b5ce5e7c09aeb3e",
            "703357d0bd47418e95d861edd860eb7d",
            "2b4dd147a94745d8b73d678d7c0d6da9",
            "33ca72ac8825487999762d389d4bf737",
            "a700f1d64c3a4ac1b83eab125e5c56e0",
            "86682d4cfe4d452e9daccf48dfb0e368",
            "20a6c50ccc754b32903ab946417c498a",
            "37dbfdf0f1b241b3a261492bd1175b5d",
            "c6b12391d8f1488fa5edbfdad7f11514",
            "b7cd609b8dcd49178af2f5093d73c5fd",
            "bcf10433477642b18f90d7782d57e16b",
            "004885af5c7c4757a4225eaa09e74480",
            "fc211ddd13604e968ed83dee2326ee6e",
            "6bc205f89beb400b81142b05a6c6b461",
            "40ea5e09be9540f3bf966ffb3521bade",
            "e8b75384b82f4a3c8874eada54171502",
            "cf2189e8829948dbb32e73f2400e4233",
            "ff42d2f8ba65440a9ce2e9b044b50d46",
            "8b18f1615a55465a8b326e20d1180592",
            "318444b23ea249c6b01b5e1a558e104b",
            "feb226d2f1344abba61173b4d66a3786",
            "87e68f66391c49f1979977f8e26c6b8c",
            "7d304ea9a17a4aa2828e902364b1fb20",
            "2179b786d64641dcb71f69ad16b56860",
            "2d62eff1fab146dea64c5ef62b246870",
            "4e1310c8688e4d1ba11639bd198471e8",
            "d7b353e9399e4e1f8b1c3d2d2c8be41a",
            "d92483b72ac64de3acd10ec0798578f2",
            "1bd4ace792344045ac70f8f8ec0da830",
            "205da05e0bef417d9aa81a0416a8a32b",
            "cda0e504732d47938b532bcd1ba2f35c",
            "0d7a0ae783e0415a8b79a26e1184b4fa",
            "af46f956dd97496aba99f13a56260de1",
            "83b5b6191c99438d980281acdc481327",
            "9aef5a4fd7d64b62a1c848393dc1ac78",
            "289e694ac49343d0b758729c69e3a0c8",
            "b0f85d37c65e45bc82c224ef9dcb440d",
            "e2092e5238644330a7ebec158aa7148a",
            "667b2e60714947d4b5fb8d7324ff1e16",
            "8587e4ca6a74423db1b644d3a23d1a65",
            "bb355b6c9b7c4285a0ac08116af9e648",
            "bb60874d2df743e0962570f96656f347",
            "7341f8679baf403984fa8c89dfe24b31",
            "fa8f79b2ed604f56bd68b1712e0fab60",
            "f8427e2641034842b2b5d907d1f734c3",
            "10c816773fea4e3c915dbbb507fd043f",
            "b42372a2c4c142378b275d57564d10c5",
            "52a0cf46fe604803af4a5b93ed82b615",
            "9ee18e89085c4fbe8c6f847528f15afe",
            "220fe368e1fe453491639da3ee240214",
            "b247d53ea0234993b8f2455f7972245c",
            "ce9b9d49d94f4a499681b7cea200a4c9",
            "4216b8f1137f408884679bd2fec257a5",
            "0492dc7f30654eeea1eec58e613cc04a",
            "7e84fb4e457644918202e6ae6de5fad2",
            "70b6ac440d4747a283049a38c8359364",
            "a35762a80d674c299dd03024c78e49ea",
            "e888d8407f5d45aba4623634adffee47",
            "b509bfefa3eb4ada9348b0ad3db43b8b",
            "bc010c93f5ce4bb78f035aade46d66a7",
            "b1cc5d3de6bc466d811b3ae09f7ef404",
            "9e1e080090a142b293d8ccf7c25c277d",
            "189791b2277f4ac7a5edcb661ad5675f",
            "19708fb187ed4f269dacb5beb3e3f49a",
            "3e91eae2e421466da5d65c34dc5db6f8",
            "8bf6779060574f1c87689a6cfc3314f5",
            "765e9765c8944232a03dbf08df61b3e5",
            "e9b72ba079104515bf01658b42e3f5a6",
            "a137a8c172b54f02b176d378f53f2745",
            "156045727ecb4e12a8f2ac646ec68ee4",
            "9547210c58604b67973535e8fad93f17",
            "ebad9ab5d01f4220b19818e93b2227f2",
            "730c96148cd54903ab0be5ccd7afc0b5",
            "6a8c9d6389434da08ea08bc1edb0db87",
            "8f4863e5f3f145f79d649284341140e3",
            "1369b64a82cc4cae8ba52e2468a7ae90",
            "8b03750c50c84b228367601d6db1045c",
            "bc9ea43f79314f7ca714d093cc8b9121",
            "705170d0c5ab4253861dc596ef151c41",
            "33baa8f7c10847829e87b98201555551",
            "8599c42ba5ee4d8ea6e1a2a0ff9d678c",
            "b45a4f1af0f94aceb26a759b2c0adc57",
            "c7af62b8e48f4be2876b44b8b0902d2e",
            "4124b408cde34efc91307eb77c0b048a",
            "c0d24fd1fbe940ab94e23f22af52a73b",
            "660fdd38fd744bb1b1892718303c84c1",
            "c017bfc8f74f4cdfbf37dd3bf604b2e9",
            "cfb1609846f34659abefdccf9df20978",
            "f2535ebfc8704b039ead3d6389cedc1f",
            "956f859253434901a06b86c1f5d56f6d",
            "83c47f9698f5436294eb30ecff720d3d",
            "8b2da6e3f0804e47b69eff6781926ce6",
            "30fa712b9132406a931a4299e780454e",
            "d1a5526c818c4293ace6f1badff35a2a",
            "bc811ed909b849279ce4c71e3c9bed25",
            "f925b67245414db094d8f74944869a8c",
            "6bf372440c9749818d310f58b6f68d44",
            "2c2aa8936cf24e0094fad46de7e4c0e1",
            "7245708486c44dccb6796cd9ce8875d8",
            "ad589c970772439b9aebc7f7655493e3",
            "b57138b3cc1a436c94022e3ee07ce78f",
            "7d6ae91cf9f84786a71e8dd08d407d83",
            "21e6a23c907d4d53966034f7548f59c8",
            "f619622e47f84ada80bcfc53fe38c3f4",
            "d20c471b187e4e49b3532ad0f0c11527",
            "43f684da0c944dfb87aea79a1c1600e7",
            "95a153b4732d42f290e365f9eb5be4af",
            "1588ba3327ac4c8f8c34f3a6d0022b18",
            "7fc2d1ed0a894bb2955c691164b8f05c",
            "5b715387a3ee4c0480da557a5d7656b9",
            "ed89a903276a495e82f0c1d2a02fbf2e",
            "8754453b1b97410bbf47e6a4183a7147",
            "4926116bbb0c47abbb248c83c33ab309",
            "6b9e955fabe94894bd5bbba7eb138fe2",
            "5d7b26ce750d4aa7bd10458dc5dacfe7",
            "3d22e11b8ca74ad69d212ec22d0bbd20",
            "d82bca3658054d48959716cf8bc503e9",
            "e893f67f3b8b41aca96c16eece61eccb",
            "19021e09df24446a9e23a696fc7521bc",
            "85193e3aacc14a31bf4079cf30c4475e",
            "58d1b9f0caa8437fa4bdc0b7989b33df",
            "08631ca050cf4fc4bb05bbceab3b7620",
            "fb456860e093483ca8b112e3b530eacb",
            "5a2c57c1b8de467c8ae76a707369ae38",
            "bdfd52ee3a0340d2ac9580cfcf2afdcc",
            "36a2f6940c4347f3a8bb3478079b6149",
            "b6eaa29e73534578b1b1f22030f5db04",
            "2de6d36a26344bb5ad28a10c68a6c46c",
            "d2f5ba6fd72c482181fe2438cb1f0eb1",
            "3b3d7be88007450da08e047699296dbe",
            "2190bc9a87a44b03a0a56230014b7399",
            "9ba14dbbe16241d7ae2702c87cd313b6",
            "53594262b45440e5af26fd75b38c64f4",
            "f7bae66885304ff8b3e7761955d8ccd6",
            "ec17c5eb49e841c4aaf1b5081a239f32",
            "d59b00cb15114aa7b80edd3cbbfda863",
            "15413c878ebc46b896c1cccc22f8b9a7",
            "dcf2d9c2dfd34c4b92a42db5efed364c",
            "cd625bceda4f4089bb6ddbc2cbdb780b",
            "5a2e4706447d4bf9b7738f39d63c350b",
            "eda9f57c35ee4a6c8b280e3b05124652",
            "b3e8dbf23445490eac58d623d332c0db",
            "a4db31d455cf4ba5910d389cf9bd5f90",
            "70e964412a5849d1a8c083e4c4baa14c",
            "02f151d90ea74b5c840f9ee384a9a76b",
            "91e22823395c44efae9518d16aae76c9",
            "b4d94e81f1794decaedf1690f62234f8",
            "b8409db9982642f3a9b8ee9388d92b48",
            "cc7909d988cf44c8b2e469033c9c828a",
            "2b30e040fcb04245a44145f2969ba534",
            "c208bc24ac5d42f982d36d7cf2eaea74",
            "70ab3406cac54d048435713d68e5a0c1",
            "17e28bf314d14c9e894c32f4418efd59",
            "b8570bb7942c4c4f906435831b2d67cc",
            "0aa38c11b91045baafec31d0cce87669",
            "c580946a92e1420ea5d78b4a51d6c454",
            "0bf5eed8e6a84c62bd6807ad12309381",
            "c6da2a7807704d3bbc40c9897722b58a",
            "086ce2d923c84eca8b5155934f81e017",
            "2c24bfd26d794c1d98ba8978e247ade5",
            "1de284f28edd486ba712736d304c28c6",
            "2404f605cb4b4e419850c7eb359d73fb",
            "ed851617d9704a23bb3a9bc4fe709a72",
            "60a8ebdbe5de486f8747107d0e2f08c2",
            "2ddc29db1db34152a5bad6aef11adec6",
            "3d702d650c1643539a063fd128507cd3",
            "2c0ba9027b2f470ea8f703116fe7c04f",
            "7f097113337b4e1db2c8957a66c42c54",
            "fe24ee17f7e34692b4d06c35787590df",
            "178881f436d94b8a9a4a40bbbdec6887",
            "b79fffd894784adf9f4712ce45270640",
            "6e72d85ce8d64c7c8e63a2b62c6bb048",
            "f8a6aecbef5146a1840561753c548396",
            "1358d629434e42abb556fd54d680865d",
            "a563eab38513488198bbfd63c8c8dff1",
            "09e76fea0ef94736abb6d208bf556636",
            "cfbe6d5fc720409887bc6ce0554113d0",
            "49119805e8224a1ebcaec7959f0e5957",
            "577681c85c114eb380801b8952348dd4",
            "f0ddec8f329b4e2ab894d8d3545e86d7",
            "e31721e778e846768a65e6f51a107660",
            "9f0de5b9ca784436a892d7c1d32d0dac",
            "332993778cc34920a92833701958383d",
            "3fd8eaab8f3e48a0953f408626aeb9d1",
            "92380497252e46008150d37c5875cf11",
            "c930684482c14e6f89eb1dffd9e9d33f",
            "7fd3ee02c474477d971b8263fb4c6e2a",
            "8b77bb2c03144758ab5dc96226ef60be",
            "d0f833aa8bae499ba94d3dc14f3bca57",
            "fcb3ead875214bfb9fe6d8a23cbb2b15",
            "5ca1707c8f1d4d5782b2ea4adf95d7b8",
            "a88e3de74b4f4adc8f6ed61cb1cf391c",
            "7c626e294f4f4837a982c8825aa2766a",
            "347edeb5ab6048f2961411bf1d7bc2f2",
            "f0856b19135f420aa2250d557f2aa13d",
            "940f4f98411a4948a9266f7ab570febb",
            "10e520e74dd14e1494ba21082b98e44e",
            "91cf69ff6fb34b27b0f79335fd1589c8",
            "6853fc9ea4b44ca49b8cf4de64c61aed",
            "0ca551b6fdc34e75a62d249d303a2475",
            "c93bbd19326646f39879a09d725f9c8e",
            "f44f3ba55c8642958e0e6d5ed6ef12f1",
            "1e6c1238af7543baab68f92d36012ab4",
            "5f1c775ba7034243a3e5152768346e38",
            "59096ab76f354fa6abccf3181d67d580",
            "c4067d1bb65f473289e68df9b21d48e2",
            "a5f90868aa37459394e663ee27b02112",
            "1ee425ce415e4edebbf68fbcf84de53c",
            "9ad7ef6ba0b34badb7bbe7618665d4da",
            "9df07ff4c49a448b8643c979697b8376",
            "0c4cf0a4618340f7a206972e0ff61caa",
            "817caef4c17a446a996432917e4d7924",
            "e8a0b08492264b1f93b949d48094afbc",
            "937ad54145e64a168c088ba585bf1b45",
            "896e6934c3a24a9ba9d446c8ba84c3cd",
            "3a8a83d4f96946ca8daaa6f5c8b143e9",
            "c72afc63519d478aba8f86c20132fef4",
            "bca843a46bba450a93bfd3198b712cc7",
            "d30c50302efe40cb8702df0cc6a6eb06",
            "0ea11ef078684d8d9ff73b14e48ba8b5",
            "ebb327aabad34ce4882ecb465f13032e",
            "320dc2e697264dd385acd0eb552f91e3",
            "b5e525dffd6e477daea4ab1033f049fb",
            "e3cfaeae25ca49bdb74faf7d40d6f3f6",
            "c63552f9119b415fba1399bed01861a6",
            "8d8c315a4e1147e191edde6532da5aa4",
            "4b39a491f0164ce0be775620f0cfe81d",
            "ce6e9c29d38245ccb543db4d97861735",
            "2895bd626fd54c95a6cf92d2e0024e8c",
            "3245fdbc920d4ad682d9ab3cefd6a52e",
            "7246553ff8b24266b43bda408100e586",
            "d665b1b03949435da39c874bbea9ff90",
            "f4132dcd93d04b8b878b4ead70e1eb2e",
            "8a136d0669084ef9bc79b181f9100a5b",
            "2af6d2d2c4a14ea0b61be598b294fd47",
            "b23641d78c7448798a60edfd44218d93",
            "aa34dfaef71449bb942b3a3dcb610480",
            "40de66fa2975456eafa68de511a29c3e",
            "6494f65aae624a28978c12493dd45e64",
            "834b64c4da044dffa312c44f44bd9764",
            "c25d655e29064a6ab4b005b5d8658aec",
            "878c4e84c028482695ccfe9e459b6bfa",
            "c492d26e99384bd2bcb973d4092e9b88",
            "6b628a5ed44a48ae9f42487508cd8b68",
            "61dfa31f0d184656b901cd7d5bfb8148",
            "6991d9e127224952b81b56eba7f36f42",
            "0c2061a71ffd4a4693b2383185fb442c",
            "84a8f2442b7743088c4ff8d38f270e93",
            "046c16bfb86d4d56be8f4b122c05c09b",
            "9b737bec32c44d43a66cca56f33fed25",
            "d92aef5314d942f8b8978f304ff2d60f",
            "a570fb7ef5d64634b667d510a479ccb7",
            "4e273fb713434da9912fbd983a182bf6",
            "ff1912d64344455197b5ee35b5b1bb97",
            "b3856b86d2c143b58260ac2494409f77",
            "35c0258269ce4ab5b6706e03239a3541",
            "4d2fb65cea544d2cbc6bb4e4f1525369",
            "ffe5ac2eada1407e938de1587c3fb4ea",
            "a89a1f120fc5492ebf8ad86c02781153",
            "683d14a7c16a401086777f7d4f24206d",
            "f024c80c66fd48ebac41a1e8a3797b87",
            "885732b7088b414b8fdefe0524bf1944",
            "d72797ae975f42c7b0e612ce8e7ab247",
            "0470508522fe403aa258a7d0f429530b",
            "9f815df53eda4d8eb3a86e33a6fd9b44",
            "3a6acd4af71c4d13b62b8bf600bcd4d2",
            "f29312a176d74c54b38935f923ad0630",
            "a135dc7f62344a949ac0d0f0e3aa2e00",
            "0fb43734219142d993c43bf8da80d30d",
            "bb4bb1770e3a4f7daa74e7095fc97700",
            "e32b5e90651d4c80b2d8309effac3c8a",
            "1c76e4b891954ba78061c3c90d0557e9",
            "f1708b90d1e549acb22993b194aef787",
            "f9a5399956ae42e0bab7318b7f3bac8b",
            "a0dd0468a7034788a921a3607fd588f5",
            "de10c4e35dd5448489c25c7937dff84f",
            "d1913635e7bc4d97b02bf3bcf987a71e",
            "830af9b95c604674a3b269e4e4f4e24d",
            "bca4827fbbf641419d637cf932aa5558",
            "0989caf3feba4a68a051220fe66c940a",
            "720a7a8593d34c37809a8e55e47074cc",
            "f7de304f9ef9488ab2deb43d241630fc",
            "9ca1250776df472f834d687df98f0028",
            "d181c5cf6402421db8be2b640450a8f0",
            "96c10173582b4f45a0b7798cd45e5837",
            "d5e27bd2602246eab01b6f771c11019c",
            "23991ff6b435498d8e969573a4cb1b2a",
            "e4a2fc90757048b5af2bc8511806dded",
            "760d8bfb270d4c24876efe814b967906",
            "cb808b19c0ba471ebf45a55552793b9d",
            "c3bb1006f6dc4d798099817c99cb9f73",
            "f1c8e419175b42a8bcbfdfb4d0319224",
            "36be5a54c40f42a79082d190d11323c2",
            "bc86cb95fc994beaae218597bd4e8415",
            "8ce1464ef47144f79b980b5824124e8c",
            "c6cf398ace41420e8f45eddc9996b2eb",
            "3af74524329749c28034fd013baf6b97",
            "ac85309ec000424a841151537e44bc2d",
            "45be8b969e414e2f90dfd034a2d348ac",
            "633af5b04bac4792933f6dff7731eecf",
            "cc24b9193fb5420e89200406f51b6e3b",
            "7d5ebf259b77412586632c37ad5b87db",
            "88722f26cf9e4016b5ddc5f9c0ec9251",
            "04eef95cb0274af883615987cd28f7d7",
            "6ce259fa90c6469f81e3b84ba09fc5ad",
            "2bd500e5643f487eb80f05367f98cb4a",
            "7f97a568344e46109737f3714dc75dcd",
            "c89afd4779e54d0da4162c02f79e9df2",
            "e1582af5fc5c4f0396dc67a4492dbef8",
            "b922dee1a1bf46d6a8d58001a35cec16",
            "daca71e629b945b58dc00d65c405061a",
            "16f4b30d8cec4d4aaac4931788dd81f3",
            "e7dc5e7ca8ac4764a87d0bcf464ffca9",
            "f69ebbb0186143348c2322d6685d3856",
            "2e8bfebcd90e4196a7ac465f1016ce4f",
            "c719afc9bae24ca7af743024ad4a142f",
            "03461c1566e2488ea1aa0e64956cb5c3",
            "8814a01c90334d82975546c4f787b83a",
            "e2420ff764104188a477273423b6dd28",
            "ccf13971efed4594961af39a6353007e",
            "4420b1d5f2b44564bdcc5d382f73cd97",
            "ce73681a592a4bc39f9001b9f20431c5",
            "7460144b61984a368e43752dff8a8f59",
            "c6564bcc38944923b236f6eaf0d7ae9b",
            "77c7ac156f854a8194672c83fe211992",
            "297486beacdf42679941ffa883724b5b",
            "3b487b1cecb54630b6c25750c62d56d4",
            "d4b97aa89b14485a8ec4ba94d3eb6c51",
            "fa813fb0e2a54ac1a0753a037777e462",
            "6f3a2d68b9e44b68be82c4b20842e6aa",
            "8eacdb0dae714433ae5d7e0d18810a41",
            "87156d599d9a4f2d9902e189a70f10e9",
            "1d17080095774e53b78f5e86e194dfdc",
            "dccc23f7888845febd5c37feacd88d49",
            "b7ec2388dd764ef79d1a22c9f6cf2575",
            "e5986896b8d94381982915c3d44783c8",
            "127479cea0584399b4bff74f62701ce5",
            "408c9f8ce3944c6199744c5ea90e96d4",
            "f813a834f0944771b94507a52af6e2be",
            "639ad3f6b73a4e0aa7037c818a9d9d6e",
            "39a91812e8a94286942840ae6cf3cbc6",
            "5cd47aecf1434207b9652be3f3c75bba",
            "412d9e3c524c4ec499d38aa5d128bc64",
            "37fafaf26cdc41ffb6be21cdd002c636",
            "fdf8173ea16942d088e6ecd286ec6b93",
            "ba9044188b8c42868c6e928de926e788",
            "18059bc4b99149d1982bd2be50df70ee",
            "a851e817cd814b078f2edd814f84ed9c",
            "23187ad7d98644d7a889c10599cf9b6f",
            "8e74b8296d1a4172ad485e380ab296c3",
            "8fc3b9b9d68e40e7b79ba230524b3522",
            "726d10ef02ab4e19b5e5beb830c8abca",
            "2810c01802174c4c9b0fcd1602022a64",
            "2e75b716b62e4bd5be49864e48a84275",
            "9582d2f855ce45cc810110fe8090e3f8",
            "c2c3a3413efd480293ff5b7022cb2915",
            "91f1f7acfe1549eba6280fdeb6a8aa1c",
            "9440f714bcf449d9853148d9920b7073",
            "23513ef5e01446359192ad37d4f1442f",
            "709873954c034f1b8451805cb42b64ba",
            "913323f7db4c45909da5760dbd5117c5",
            "b570518dff634ccd99d188510714094b",
            "4abd834415de4b288b999723ecd2cb1e",
            "b37e4dcab8b8481cb25acb447c0021af",
            "619ae7ff02c04e9fb89131eba1404da9",
            "7ae2f694b0f6411ea29eae6deffd54bf",
            "ca63d1dfe48645308eec25b936b0e30c",
            "851276d9bd0b4e54b45f82badfa86424",
            "a1e0d43ef96d4576a7e8bd75f2b40a4b",
            "510e14fcd522407aaae3b4b6d3bf9b81",
            "bf6ee53f082147d4a57f0d40939eae3c",
            "dd7ec513892c4271b33d0b1ea910e9fa",
            "8f533ce4dabe42c69f7617a1fb22a889",
            "745361f2c5734b12866849deb1180418",
            "40702ea13076453cb2bb579bf20fc615",
            "0c160bc2f11f4295a9356207f0cd567c",
            "5cfb195dd14043d099bfb6b903516cf8",
            "cda73d60e1924586bf3abe10a691451d",
            "22a425c7e0954b17ab8afc385229bedb",
            "4e111964061b4e0e93214760e0ddf146",
            "edaaf440986e4eac8ecb9ca7dd373542",
            "c5e9d7bb3cdf48b6afff69f1650dc9a0",
            "c4eb3b562a684adb8ef5b2d355acbb2e",
            "50f3b2e0b79a4d6d94274a5b15032dcb",
            "b0a316e80fc1456cbed7d52b0df74580",
            "3d4556a48be44e5ba450fc90638034ac",
            "33e90a9248424257aa3607d4597169db",
            "14f061d5a7b1498386297f5d6fbdfdad",
            "3af0d5dd9f0a4e93808d4436fc77b2a9",
            "56961900d1884b28ae8ee5e899e6cbd4",
            "387d45072b63441fbbf436335e667dae",
            "8e1e09e47e51496dac8ec39ba86d9e80",
            "d75e7f99ecb64a1c9231870166e831fa",
            "b648900aa3a64d3ca6527b999924804c",
            "998fdd8ea5c44088b748cf8f21ea159c",
            "40c80dc7a0344ababaea132df807c33b",
            "f814000c4d454183a891bd2e1ff101be",
            "61c34d3d546d442cbee04b31af7502a7",
            "1708b538ceec4fe989e0e804d5b65f06",
            "b845bda133de493c8daa94d534a5abe3",
            "1b5ee3f21018472ca9b8617c9e2fc494",
            "670bead343c7419c9039780d8026470d",
            "bbd6dc8fd4ff4a76af9981b848510fb3",
            "0757412c0b67485190f895929a02e049",
            "e2583d2fbabc4c73a4b8c322861f4bd0",
            "10816d0b200e42e3ac8bafead8d3f714",
            "e0e77a64b8624693b5b7883cb392fb48",
            "c43a079c427546f2a1f7573904b56b80",
            "fb363c6f8f2e4b039ea6a692ef23b07e",
            "f9573eb766104c54bdd0e5e4c167f5cf",
            "502a3fb06de5467f92daf1ae927af5a0",
            "a788886781d54775a1ab32fe52da33fc",
            "4124f0a8c65c452c9b69fe7079313190",
            "a9f1d4e97a724e12bb37e00f4ed03d23",
            "d3a2b9c1892f4706b3013010b9aa2afa",
            "1926075f74ac4fddbf8e088a2baf7bc5",
            "c37c39b46cf34c8bb678cb537cad724d",
            "98114d555d21489e8d59ae306c96c938",
            "20970456f8374f2dbfc3886ce7313e3d",
            "5e2c3b4a0dcb4bef9c1081488b4f467a",
            "5266a37f58d14891a813bf8115360b8d",
            "714b7c54525044bfa4489713d7a34e85",
            "54e14296892b4dfc87f19784dcf28d88",
            "198164c809974c878ce82142307561b3",
            "8ee2fac785cd4737b9395680227165da",
            "06650a62d0ae4010bd473c24e990a066",
            "7614a3f0b84f48588de498357cbcc0bd",
            "0f5bb610341343b0b3f3e456b0fcb22b",
            "5d98daf308544d519bff69234db70b91",
            "8fbf2c43c24c45409f947e1347c7ad25",
            "dd6ad461b5754c278a90ff9f4988b1fd",
            "bbe64adfc1bb482faceaf1c3446153b9",
            "36db3eebffc641fd83c0a8d6c6aee2f5",
            "ecf2d399e7f943ea82b84cd3e1f4c3db",
            "c0722c6c1828476cb48d8635e951dc51",
            "0fba0967f23b4d9a9839ac2c01c98f53",
            "bfd363b62ba74faf8e3931bedda967f7",
            "26b7d4ec31294f61b7bb77c4e04fb635",
            "4276266444ce4684be8480b7c2c7bb07",
            "71b47a34b038468282e6ce59a077a2c6",
            "af20ab7ee6d44330acfcdde7468eed65",
            "9fbc9bebf91f4721a09024d30ec7a3c8",
            "def81134a5834b9a93aba568fa16e601",
            "811d5bff45ed48eb9c94d3e32b751f09",
            "78de1ab0fffc41e98b4956e3602e8b16",
            "485e3394d8784b3f8211c6c26e230d41",
            "d5ec5b4d3b2b4a79a1f5bc650e77b05a",
            "38b3485c6a6c41ae903e8a885963e69c",
            "8a66d48efb9f464ea923dfc68befc75c",
            "e7753f8e91ad4b5fbfbf7d63970230d7",
            "dd697908f19244ddbc55ee85833ffcb6",
            "3295f11571dd4b59a3ae6647b71063e8",
            "abcf6bc7fef14ee1a10e81e99317bb71",
            "21b973b8c3684fd7b59c9cf5120cb1ac",
            "d8b14fefb7124cde988c5d2b81154c1b",
            "eb2380b9cc6d484da5a95912585f2a3a",
            "1a709e6bf3334179a31d3133f495877c",
            "a47bba45d3fa46feb5c90012245e799a",
            "d1d07f95dea94d51b5b7d35825d7072c",
            "53d31d7db4b74ab7915cdfd9a391c3f5",
            "7e41bf3399654a0d9b6ad572303e752d",
            "88d8a8398c1848b09c47dac72535e24e",
            "71cb632695c247daa2d313d0211e52e7",
            "9bab9376d69a47c5bc37c01c6fab023d",
            "ddb276de74604933927ce8e77b472cff",
            "70b25982ce204f2994640c1ae4dbccb6",
            "6008fb0767c64cd6badc6b83ab81c0fe",
            "f5e32722582e411688e8480565ff8cab",
            "7a1b0a4420a0409c9af178f42057d817",
            "37685fd7d7ae42e5a90d4a0a1a68720e",
            "67378a1764a64e1b966523625e339412",
            "c9b8e83048524fb480c6cfd3101d143b",
            "4b602cfb3d354a47943d2d64f1506c5e",
            "fea3d60969014f32b88bde9cc3b8dfe2",
            "70b4c9b7274e4c2dbb37548894039e02",
            "2750e1a212c04f0095a91c572f5eb80a",
            "908fc034813748e1a4d31120ffca90b3",
            "717cf78cfa9e4d5d86511026c0fa2abe",
            "e9a697adfbf6460bb2bfa7c4f4882ac9",
            "4c732a6b3b7840e9914baf812cb01761",
            "445e6c749f6841599b43b762c435f9b7",
            "137e11aa7538436f98293976ad25760f",
            "e3ec58e357d64f22a4be1ec349e2cfcd",
            "88f6dd9abbfb49a9a823ec265df5eebf",
            "59ec24ec9fa5409ca9d350d8d9c04848",
            "1b44ffff5cf740daa21ffaac458e3d5b",
            "46c7e1a4882a4e94b6eedb8075743362",
            "7b64c05317bb4c3f99664cf8cde1c8ec",
            "dff67f3797ab417a83e76fbf16af8d03",
            "c9a60ec20293420c9344cd4c747bc102",
            "7b3b3b1b68e94747b3bdddfe0cac014a",
            "98f45cc162174c6080ed137b13604a56",
            "b62592e76f124bf3bfa72a5b3a87482b",
            "f65295869d8148728ed1e2ab875e8bc5",
            "5bad0c154231436bbc14cc7e69a5d7dd",
            "cc615b7f2c5c4d1785d2e0fc5e17ae70",
            "f8a7303b0d494d798f7d4db85883b448",
            "f7fff5a466824c8dad5cf671ddfbab8c",
            "295c328c9517446c932155a8b9960369",
            "ef56bab59af6489eada10e2f713cfe31",
            "eef4f5c3e7e649edb1692c98c7bc37cf",
            "a0b4c4750e16413d8c0c6690b0a0ef39",
            "8e94d7b1f0f84f4582cb99ea122ea28e",
            "91a1f0a7b5b5409e8e63659fcc990caf",
            "2573d70c000b4db890640da939302922",
            "64180ca904694ab7a78147ad87f9ed61",
            "aa8e0711aaf34391b3a1e05882eb8100",
            "e3dcb31e761c490da58428a115940aaf",
            "82aae5af96084a6bbdfe32e7737ba0b7",
            "927ec0b67a704bd08fbb801ac18f7cbe",
            "e7f71f35632b4b769121857400b1a098",
            "747dcdf1862249eb972d0b6831b45eb6",
            "36f7792e33524b239e598e742e9fe1c3",
            "d5287f4d54c1454e9cb989ea08099a00",
            "d1d0e023269842ba9081863bdf3f6296",
            "0d5705c7128d448085ae3aab87afafdc",
            "14fdf15fd2e044d49eba189c2024181c",
            "b412d94319a64a5cbe34c804a9a1df0f",
            "fb157caa3921485792691ff0445b27ef",
            "5a96b2e1fe9644c09e074f02cec1bd47",
            "56c7cd5adfab4d0f8c44a2ee726a1c14",
            "d8faa53931684901b9cd65fa1007f9db",
            "fc3eaf2cc0d84a6284a0d8f7c38b0dd7",
            "2c88c36d310e41bdba142641b56f1b7f",
            "530bc7bf866c4b66ae0f08958d706a18",
            "4b652d58da5b46c59260fc3d16c63f78",
            "a5670b3dd5a74c43a16dadfa0abdf58c",
            "6da71ca2bed24324b8c9676e7e890a86",
            "2a60664a1ba44ebe9bd3dcce6c0d7ae8",
            "1d1f29b1160e41fdadce6400dd2f2b0e",
            "97486667171748aead5034953b6262ce",
            "8747b34b87aa4f489810656aaa2f5f30",
            "46f1864e6ab44039bca14b2148b2cfaf",
            "5a49a8401e9743039bdb4bfd738e480f",
            "e3fe70883e344638acd804c9dbcad857",
            "11bed3977a48495eb5cfad213031c1c0",
            "885e1aa17b7747119f7f25ca720a77da",
            "9de8573ec5ad4178a57131b971620e4e",
            "2c308e6afb744467acaedd012d19532e",
            "7c264ffd3cf24d76986dbfaa52eeb31c",
            "b620497182b84361939da2a002c9b191",
            "28a4813752ce4242883b520e5f9ea3df",
            "ca1de57fb82c43538ec3df8d4995641d",
            "90e6334cc8a244cb858ba143b010b60a",
            "88301fa277214e46a1f9eae140fabcc2",
            "1cef2322f64547e3806891c6821406e4",
            "6f00e465ef7f4a91809b69a98fce04ab",
            "66dc74252aa3494aab13889cad46c737",
            "8409119838cf4b839379cd2dfe9043c4",
            "ff0c50966d7641a5be78d0c5e405c708",
            "45a5dc5e94084e22b9f245f651a988ac",
            "1901f3722e16421381878cbe28a8e7b8",
            "5146c3950f6a4491849b06ec7b505407",
            "34a63b6f215248249dc1b4b998ff458f",
            "886ffa8cea4240a5a047fb2f4c52fc2e",
            "d9780f51c8144259875bd2e0e70965bf",
            "88d5075ae7b14d9b910c06a59ed8d525",
            "c16b21db63154d7ca1f42e1c1224dad8",
            "176fdcb77c7d433eac6873659e111051",
            "7032905363144d02a042a04f9bc40e85",
            "c93480ad2ebd4e599ed69af8bd2dd787",
            "55cfa14f729041a4ac287ec9017a6dd3",
            "3a5f900f51b342ecaa1a2ae088c7fdba",
            "315f0ac0db82417d829a048722fb5a90",
            "b967f1e7db19400b859c791182917e9b",
            "407158ac23d341b79893cf3c98cd19bb",
            "93c9d701c50d46b68ec115cc172789d5",
            "fd9db3f231084c1fb4b1841abba8d31b",
            "b7906970e4514735b82f05d359004acc",
            "db7d342d538e4b6d86b96296cb4a7fa9",
            "4cd06edd8d5e4d03ad70127373a7ebc9",
            "b80dd31b1d4648f69e28f0eae6006244",
            "0e8be796493e44929e19c5bf73bada65",
            "7e9e3d9591544cc9925807f42f7a4098",
            "eb821e3166c647a1948c7f1a39327ec0",
            "5808e0d4322d476db4f42a11d391d70c",
            "a8ac144687d04254a67e0315e501483f",
            "5220ac1f8ff6489084e205577d8cfae4",
            "a0eba1561fb64c1a8f432e21ec7d8fa7",
            "82b004202cdd4dd1a31ce5fac0d4bb2c",
            "f93f648d5ee94d44be5a90a927eab4c9",
            "46dc705b2a0648ad81139a6ce6915a4c",
            "840d8d5b70f849d188dcf726e639f8ae",
            "0fadc8a70bd24d5e99b0cb3816f48d22",
            "8c9a51954f604838a848f25c98f44695",
            "407bcf95fa884d0089ec415e2aa4f8cf",
            "4cb0f2ad5e44489889d49c46960848e2",
            "e2c26f0228de4678815dd6de984d6718",
            "fb8d295cccfb46f9bb593253f9b3e623",
            "3cbe07c4aa034541a80665955f90ff91",
            "c67480fc1bde4992acab249586e1b5a9",
            "964f0de0868f421d8b4a325f0d337f24",
            "0fe5c1058d624c0f8ee6c1f5860523ff",
            "a794bc96a2dd48fc8296c04d142fce01",
            "279a744ed4fe4ed995680e13dbe5d7b1",
            "e0354cad36044b0ab9a4d1978b703053",
            "d21e1f2bf7bf4d73838684ff9af9cc81",
            "3ec36582fa07441ab29a1b6288a918ff",
            "e5d9497d8ba3423a83625c8acfb597d1",
            "07451fd9e4b64653a5e187443cb838d4",
            "c297ca656bc1408a98d8c744079b3987",
            "8814c7e9b0fc46dca84cf628229d14b5",
            "3004f9770edb47d88981ac52c3cc8965",
            "2caa2c99740b4c92b949edf466276f90",
            "77cdc87b30b34cc481a12204130e13d4",
            "6a84113ea6524331929e6c5da1e652cd",
            "4adb3ab5dc214f01be278ac4dfe26a1f",
            "a4877962bf4d40819eb9f2f3fb145bcf",
            "29d8928ea97b4e88adfab95c6e3b7ad9",
            "2298536053374fb9828fb18838a5206b",
            "88d74e39855647879de8ac5bf8dadbd5",
            "6ee184ae657b4739aad680191831e69d",
            "85f7c036329b4275a74c0cd07023a0cb",
            "a5032a601d0f483aa65f566d62efc999",
            "ff590f368b1f466fabb6120eb39cd62e",
            "1b29e9f387e6470ba284548ade80e134",
            "d5614bf466644c11b3dbebcf85cf8041",
            "bbec7169e183493da7e1a86a01dcdf8c",
            "09fec70a877b47b4a18d4f22e5bde228",
            "9b64d22ad2644a4088997a1ae720a3da",
            "ecfc91a61f944957a8fa2f4632237cb5",
            "637adf31d8c749e4be66496dfd4e5b93",
            "ab20a79c5e2a4f4e833a12f2dbeb67b4",
            "87ebd32a5bb740208304c38a69d36f54",
            "4785dc8ebc404ebfa079872f679cc206",
            "2017042a216c4d5181d5e8aefcca8aa1",
            "9ed1f7a06b024c3f9fadba8ef7429592",
            "02e3730a534641a1987f9c864e83a62f",
            "700ba07d866649f0a38bebf09256c3cf",
            "bf3672e5a60043549746e306a7fbee36",
            "933376a80d604c099c4c587d9ff7160d",
            "a63f7ec61b64464793bf81c731b378ca",
            "3fbe54a2a2464245bd3793b2ef04b0c4",
            "cd612791a16e424c831d02b7c1a38896",
            "017002a0127744728598cf029f99348b",
            "b0bb8769b99749b2abd5ad510a754399",
            "97fbbe4924fe4e1aaa8939dcdf08256c",
            "cadbdfb88c0346858e208d9cec8b6bf6",
            "6230f646af774b7ba7acc6c4107acb5f",
            "8a5ef63dd5d34b9589ac6a9822c1091f",
            "c21515e076844277a2a7976415d0fe99",
            "c7b04c5a65ee45099999eaaa1f4cd61a",
            "23254e478e3642f686364a46ba27e162",
            "d7f50c3487a5407f9c816b1387f1eead",
            "d1f7c337c58a47db8db609d62cdd6d19",
            "28edef18950f4dc8accb3e39750fb646",
            "a3aa8bd293fd4f6abd85556a55db03b7",
            "7bd3a0ab9c2f4d36b32b7489d937203d",
            "b631cde6f9284f5b93ca4cf937142277",
            "22416535e7f74017b0b862f8a663810f",
            "e7f6b1239ed646ec930de078000af991",
            "7d5865b6e7c249e2bece93634b9e421c",
            "fdd7868d44584d289fcffb0fba091292",
            "5595c6a1988d440e8e69af9708a46dbf",
            "2b86abc7269c42c3bea49042136a0dec",
            "013cc3da46814e6b90c472205f9be2e0",
            "e8569aadc89e4cc9b400fae3280fc2ba",
            "41d148de423e4be9ab4247c16805302b",
            "ec4d261b7b964dd09ed192b44aa06a4b",
            "db846281c9f5413aa12681f99c468ec9",
            "3001d6288de64c549984d3366de6778b",
            "71d12c2db69a4fc2860fb580b3836686",
            "38d8fcfb27c341f9b6ab10c0ee518db5",
            "5d31becf7ef54ad7aee99f6e8cf05a5c",
            "dbbe65df8a96403797d313fa2044c045",
            "d5a3a190951446baa900521f93d9c941",
            "6de1bb8396e84e1ab66f9a59167d9361",
            "e0c2e94f57d34d61a337feb1fb68f1d7",
            "f1f5036e3f514429952573a19f84a8b8",
            "a55bec87bdf24a3f828f0ddda68d34b8",
            "361334124ea64611aa1346e68a0fe4c8",
            "90d04d6724b94ca78d08498f5ce65f5a",
            "b6f8d3bf5dd74d4e83cbf6ea939d92a9",
            "52290d161e094970af393a9b44515f58",
            "4f444e8fd23f44dcb6c27c188f579e31",
            "39363cc7116746ffb076eafd831be4cd",
            "2fec5f1f988f4070bb60ce920afa6187",
            "1152390e266745309780417e6e65dc89",
            "f531cebc9f634cea9aea15c748f2973b",
            "b9e240b805394275bbc663fe97d0efa0",
            "b9f93482a0f14b89a821da1d45fde0b5",
            "ef0b26f5eeaa41e8b9e6f5867d0fe80f",
            "713e3e93edb2466ca73b72f1e4fecc99",
            "f3c6a974df484415b3e86db593d158db",
            "c1f6e02d970146dbb2af016a35d4e322",
            "f420038541c44c82a12c90e5c577ed59",
            "a8e41b4533f8419a9496e4ff798fbb5a",
            "ac951f5552c441b2b901d1bf987c910b",
            "8ffb4037ada44718bb100df0d4f5ae6c",
            "49d58482586f479a90f488c6a677901f",
            "cc004db0943642b28562f8507d937d37",
            "40834e3b93d94b7594b062d57883740c",
            "c42115678fc9445494839fd502951cb8",
            "3171bda5272f49679776829b9c82bad0",
            "ff1c2a6581894738ab04fff9ff82fad0",
            "bd5c0aad63424cd4aca4119e6b0a7461",
            "7ac1424dcea14e06a4a0ce8478775126",
            "d045c547651b41c8a3b716cc2cd696eb",
            "1dd7f1d7eaa54714aea5fa02aad5a1e4",
            "0e3ca50008ce46caaf57b169db6ce993",
            "dc39bb7cb9d245759220d79a7600a2d2",
            "b3063f087fd94213952dd007d56f71ee",
            "81eb9eb9448e4bd296ba997b84cef2ed",
            "c1f7ab873a7e45238bce2175422bf413",
            "ddca907713bd4464b775385d554e743f",
            "87b1b5c63d3d4834b4a599cfc72d8f8b",
            "02be2b1f08dc4b65bdd90062b7f160fa",
            "a366924271c341f4b5295e85d230c2a9",
            "380d9d27b44b4cd7a912e45bbf74bc51",
            "5c32ab93142a4658bcf3c46064cd30f4",
            "00e712c7319042a5acc04bfbee771a3f",
            "92fa104a31a049bab7f26eef56a54a5d",
            "38d564eb792b4381884fd19884b5c699",
            "e1d40487ba2842ba9ede25b7825c9c6d",
            "d745480ae4264ed290c8fc3e0180f7d0",
            "b714b1915ce44546b0120e18affe633e",
            "149b30e927c34486898e16bbf63593b1",
            "a1bf67325c764cb0a39073c2aa74e441",
            "48863111063240d2912f2d0099bff4e4",
            "43d2cd19c7eb4d44ad8c6c5e29b74d28",
            "364f7f39c08f4794a4a6276a2aa4391e",
            "60b1612b541d4d05963697b3e1dd6da9",
            "48be0bae29644e38a6fc76cecbbf30c5",
            "3bd0d2b45e014c02a2e4aac4578cd6e5",
            "2dd3bb78fe634817bedea0fdf3988a04",
            "0e99a70e6e4d43f8bb5efdd0f1730281",
            "6168a7c41caf403dbfe3ae08e06e0161",
            "108678b9ae264275b5ade3fe7030ff9d",
            "9d5d7ed96dbf4176a0543fc610f8cbd7",
            "4afb49f209c54270b62ac8be69866a71",
            "a2a33a1903804fbe95c66cd4fd9e07ba",
            "485f7901cd2549bbb933b7fd5c2a36a6",
            "ff746dc800014425a923f77bf2c15570",
            "4322721b6c4740bdbaccf8a8034233db",
            "b520287cdb274f92a5fb4e58e546596b",
            "88b8dd6bba8d4830ad2e6cdeae71a003",
            "02fcfee606034e16bb3c4375d6701949",
            "740693afa3a84404814e3b5dd5243a36",
            "d129a20f067045baaf838c0e2324c3f7",
            "633620ae44784991b856224208b774e2",
            "96dda214e40b4cf4bd98e426dcb059f2",
            "436b768405c247d989bfe7063d7d6454",
            "fc015f37e76b4b39aff4b8a29128acdf",
            "ceb92c6c806d4eb9b347e784ed7edfd3",
            "01c1b65e76c94eb9804d9e3b876a691e",
            "de0404c307be457d975509a59272d47e",
            "c2d2a45e1adc4380a329e9e604bc01d5",
            "8c4c053a68b2480bb4bac63ccd44511b",
            "e3dd3a2f8a8b4ad4b2b81c1c4b41ac43",
            "2d929ec28d73489e9cb13abb914a915f",
            "d2c965bc37a041afb47e99eae140076f",
            "3f662bbae97b4fc8b4d96349fea83309",
            "d777257d40ad429292645c55c8efc69e",
            "cb363eb9a6a84899afefe75344b68f26",
            "ddeb4e5cdb3d45e1a22e0ae412bdb4bb",
            "bd380fcfbc7d4058bc09d9d1a0729739",
            "d03be5691fa94716891de91e97ce1261",
            "ee4e7e1037cf46079a026e70222bd5db",
            "51cbd3ff873c494cba73d0824cabc9ca",
            "ba2fd7ee33a7470e8ff8b092c591a05d",
            "dbb70a4f3b0a450cace978b3d5e6ad7b",
            "ff7d28b4c7284210bb0aefde26fc33db",
            "615cd69543bd447abbddfdb01d4e11a4",
            "14cd040872fa4435a4e3f4340d6334a7",
            "ca94a7c799a54568998fbc7d7eb4e37d",
            "65882eb4712d4d11b12842df814e5b64",
            "e214a0378b704d15b90881d5e26709dd",
            "2b1ffb67a8944cdbbb9a1735ffccc438",
            "76ce3a47108f4f5a978005b38138cb74",
            "e9dbf69f349b4e2d87b92d1cde8de49c",
            "93601f718f7843559a5a8c35c674d9c7",
            "8781d8b25c914f169130f0b4d1f1ca54",
            "f39ec4cf1a7a4502af765fdd9b31e909",
            "6a8f34f52e31474b99e50b637729949d",
            "36fc39c7f6694956b1ce258e9c0ebf3f",
            "9a8e5cac974e46c78cac04556f6d1274",
            "c1ffcd289e80477c87086267ef6dea22",
            "309e8b1a2aee4d0daad163a5444b77a8",
            "f1562e1d69ea4b86bc0b4b5e50b713aa"
          ]
        },
        "id": "XHkFGsa83Fgw",
        "outputId": "629b2cb5-6ce2-4a22-a23e-83401c28fa71"
      },
      "outputs": [
        {
          "metadata": {
            "tags": null
          },
          "name": "stdout",
          "output_type": "stream",
          "text": [
            "Downloading https://www.cs.toronto.edu/~kriz/cifar-10-python.tar.gz to ./data/CIFAR10/cifar-10-python.tar.gz\n"
          ]
        },
        {
          "data": {
            "application/vnd.jupyter.widget-view+json": {
              "model_id": "ee49fbd32005488086ff9687e2138e65",
              "version_major": 2,
              "version_minor": 0
            },
            "text/plain": [
              "  0%|          | 0/170498071 [00:00<?, ?it/s]"
            ]
          },
          "metadata": {},
          "output_type": "display_data"
        },
        {
          "metadata": {
            "tags": null
          },
          "name": "stdout",
          "output_type": "stream",
          "text": [
            "Extracting ./data/CIFAR10/cifar-10-python.tar.gz to ./data/CIFAR10\n",
            "Files already downloaded and verified\n"
          ]
        },
        {
          "metadata": {
            "tags": null
          },
          "name": "stderr",
          "output_type": "stream",
          "text": [
            "/usr/local/lib/python3.7/dist-packages/torch/utils/data/dataloader.py:490: UserWarning: This DataLoader will create 4 worker processes in total. Our suggested max number of worker in current system is 2, which is smaller than what this DataLoader is going to create. Please be aware that excessive worker creation might get DataLoader running slow or even freeze, lower the worker number to avoid potential slowness/freeze if necessary.\n",
            "  cpuset_checked))\n"
          ]
        },
        {
          "data": {
            "application/vnd.jupyter.widget-view+json": {
              "model_id": "ab338c14d989489b83e7ea524f0d7a40",
              "version_major": 2,
              "version_minor": 0
            },
            "text/plain": [
              "[1/390]   0%|           [00:00<?]"
            ]
          },
          "metadata": {},
          "output_type": "display_data"
        },
        {
          "metadata": {
            "tags": null
          },
          "name": "stdout",
          "output_type": "stream",
          "text": [
            "Train - Epoch: 1 Loss: 0.25\n",
            "Valid - Epoch: 1 Acc: 0.4880 Loss: 0.22 BCE: 0.22 GP: 0.67 \n"
          ]
        },
        {
          "data": {
            "application/vnd.jupyter.widget-view+json": {
              "model_id": "b30e2c81540b46a5845350b982f0e657",
              "version_major": 2,
              "version_minor": 0
            },
            "text/plain": [
              "[1/390]   0%|           [00:00<?]"
            ]
          },
          "metadata": {},
          "output_type": "display_data"
        },
        {
          "metadata": {
            "tags": null
          },
          "name": "stdout",
          "output_type": "stream",
          "text": [
            "Train - Epoch: 2 Loss: 0.19\n",
            "Valid - Epoch: 2 Acc: 0.6369 Loss: 0.17 BCE: 0.17 GP: 0.74 \n"
          ]
        },
        {
          "data": {
            "application/vnd.jupyter.widget-view+json": {
              "model_id": "e21e85cf4fa5460485009d089461ac2b",
              "version_major": 2,
              "version_minor": 0
            },
            "text/plain": [
              "[1/390]   0%|           [00:00<?]"
            ]
          },
          "metadata": {},
          "output_type": "display_data"
        },
        {
          "metadata": {
            "tags": null
          },
          "name": "stdout",
          "output_type": "stream",
          "text": [
            "Train - Epoch: 3 Loss: 0.16\n",
            "Valid - Epoch: 3 Acc: 0.6915 Loss: 0.15 BCE: 0.15 GP: 0.75 \n"
          ]
        },
        {
          "data": {
            "application/vnd.jupyter.widget-view+json": {
              "model_id": "2037e1f2a776423b829b580f5f38f89d",
              "version_major": 2,
              "version_minor": 0
            },
            "text/plain": [
              "[1/390]   0%|           [00:00<?]"
            ]
          },
          "metadata": {},
          "output_type": "display_data"
        },
        {
          "metadata": {
            "tags": null
          },
          "name": "stdout",
          "output_type": "stream",
          "text": [
            "Train - Epoch: 4 Loss: 0.14\n",
            "Valid - Epoch: 4 Acc: 0.7286 Loss: 0.13 BCE: 0.13 GP: 0.73 \n"
          ]
        },
        {
          "data": {
            "application/vnd.jupyter.widget-view+json": {
              "model_id": "e8012eec7f90494c862ca22b862573c2",
              "version_major": 2,
              "version_minor": 0
            },
            "text/plain": [
              "[1/390]   0%|           [00:00<?]"
            ]
          },
          "metadata": {},
          "output_type": "display_data"
        },
        {
          "metadata": {
            "tags": null
          },
          "name": "stdout",
          "output_type": "stream",
          "text": [
            "Train - Epoch: 5 Loss: 0.12\n",
            "Valid - Epoch: 5 Acc: 0.7289 Loss: 0.13 BCE: 0.13 GP: 0.75 \n"
          ]
        },
        {
          "data": {
            "application/vnd.jupyter.widget-view+json": {
              "model_id": "ee4f9e1f6f1b426a85a4bf8ead81a92b",
              "version_major": 2,
              "version_minor": 0
            },
            "text/plain": [
              "[1/390]   0%|           [00:00<?]"
            ]
          },
          "metadata": {},
          "output_type": "display_data"
        },
        {
          "metadata": {
            "tags": null
          },
          "name": "stdout",
          "output_type": "stream",
          "text": [
            "Train - Epoch: 6 Loss: 0.11\n",
            "Valid - Epoch: 6 Acc: 0.7584 Loss: 0.12 BCE: 0.12 GP: 0.73 \n"
          ]
        },
        {
          "data": {
            "application/vnd.jupyter.widget-view+json": {
              "model_id": "66641b8f226944339a9ebd4ad1a7ef31",
              "version_major": 2,
              "version_minor": 0
            },
            "text/plain": [
              "[1/390]   0%|           [00:00<?]"
            ]
          },
          "metadata": {},
          "output_type": "display_data"
        },
        {
          "metadata": {
            "tags": null
          },
          "name": "stdout",
          "output_type": "stream",
          "text": [
            "Train - Epoch: 7 Loss: 0.10\n",
            "Valid - Epoch: 7 Acc: 0.7901 Loss: 0.10 BCE: 0.10 GP: 0.75 \n"
          ]
        },
        {
          "data": {
            "application/vnd.jupyter.widget-view+json": {
              "model_id": "a6041ff2016847adb757fb984c7eabd6",
              "version_major": 2,
              "version_minor": 0
            },
            "text/plain": [
              "[1/390]   0%|           [00:00<?]"
            ]
          },
          "metadata": {},
          "output_type": "display_data"
        },
        {
          "metadata": {
            "tags": null
          },
          "name": "stdout",
          "output_type": "stream",
          "text": [
            "Train - Epoch: 8 Loss: 0.09\n",
            "Valid - Epoch: 8 Acc: 0.7684 Loss: 0.12 BCE: 0.12 GP: 0.74 \n"
          ]
        },
        {
          "data": {
            "application/vnd.jupyter.widget-view+json": {
              "model_id": "f50827b4ea3a417997b8a1f4babce93d",
              "version_major": 2,
              "version_minor": 0
            },
            "text/plain": [
              "[1/390]   0%|           [00:00<?]"
            ]
          },
          "metadata": {},
          "output_type": "display_data"
        },
        {
          "metadata": {
            "tags": null
          },
          "name": "stdout",
          "output_type": "stream",
          "text": [
            "Train - Epoch: 9 Loss: 0.08\n",
            "Valid - Epoch: 9 Acc: 0.8124 Loss: 0.10 BCE: 0.10 GP: 0.78 \n"
          ]
        },
        {
          "data": {
            "application/vnd.jupyter.widget-view+json": {
              "model_id": "73f032cc14d94eb69d4b5f695646851a",
              "version_major": 2,
              "version_minor": 0
            },
            "text/plain": [
              "[1/390]   0%|           [00:00<?]"
            ]
          },
          "metadata": {},
          "output_type": "display_data"
        },
        {
          "output_type": "stream",
          "name": "stdout",
          "text": [
            "Train - Epoch: 10 Loss: 0.08\n",
            "Valid - Epoch: 10 Acc: 0.8332 Loss: 0.09 BCE: 0.09 GP: 0.76 \n"
          ]
        },
        {
          "output_type": "display_data",
          "data": {
            "text/plain": [
              "[1/390]   0%|           [00:00<?]"
            ],
            "application/vnd.jupyter.widget-view+json": {
              "version_major": 2,
              "version_minor": 0,
              "model_id": "5ee826b45f3942dcaac64fb77617b123"
            }
          },
          "metadata": {}
        },
        {
          "output_type": "stream",
          "name": "stdout",
          "text": [
            "Train - Epoch: 11 Loss: 0.07\n",
            "Valid - Epoch: 11 Acc: 0.8346 Loss: 0.08 BCE: 0.08 GP: 0.79 \n"
          ]
        },
        {
          "output_type": "display_data",
          "data": {
            "text/plain": [
              "[1/390]   0%|           [00:00<?]"
            ],
            "application/vnd.jupyter.widget-view+json": {
              "version_major": 2,
              "version_minor": 0,
              "model_id": "dcbdbf00dba6492aa0832b9f7e1ee708"
            }
          },
          "metadata": {}
        },
        {
          "output_type": "stream",
          "name": "stdout",
          "text": [
            "Train - Epoch: 12 Loss: 0.07\n",
            "Valid - Epoch: 12 Acc: 0.8329 Loss: 0.08 BCE: 0.08 GP: 0.79 \n"
          ]
        },
        {
          "output_type": "display_data",
          "data": {
            "text/plain": [
              "[1/390]   0%|           [00:00<?]"
            ],
            "application/vnd.jupyter.widget-view+json": {
              "version_major": 2,
              "version_minor": 0,
              "model_id": "61c8261f5a7a49489978de23e5ff36b4"
            }
          },
          "metadata": {}
        },
        {
          "output_type": "stream",
          "name": "stdout",
          "text": [
            "Train - Epoch: 13 Loss: 0.07\n",
            "Valid - Epoch: 13 Acc: 0.8335 Loss: 0.09 BCE: 0.09 GP: 0.78 \n"
          ]
        },
        {
          "output_type": "display_data",
          "data": {
            "text/plain": [
              "[1/390]   0%|           [00:00<?]"
            ],
            "application/vnd.jupyter.widget-view+json": {
              "version_major": 2,
              "version_minor": 0,
              "model_id": "fbc7f6684b164c8896feeae7493db5dd"
            }
          },
          "metadata": {}
        },
        {
          "output_type": "stream",
          "name": "stdout",
          "text": [
            "Train - Epoch: 14 Loss: 0.06\n",
            "Valid - Epoch: 14 Acc: 0.8280 Loss: 0.09 BCE: 0.09 GP: 0.78 \n"
          ]
        },
        {
          "output_type": "display_data",
          "data": {
            "text/plain": [
              "[1/390]   0%|           [00:00<?]"
            ],
            "application/vnd.jupyter.widget-view+json": {
              "version_major": 2,
              "version_minor": 0,
              "model_id": "5108e29fe98c4a4481e3f8c963d4ef6f"
            }
          },
          "metadata": {}
        },
        {
          "output_type": "stream",
          "name": "stdout",
          "text": [
            "Train - Epoch: 15 Loss: 0.06\n",
            "Valid - Epoch: 15 Acc: 0.8415 Loss: 0.08 BCE: 0.08 GP: 0.79 \n"
          ]
        },
        {
          "output_type": "display_data",
          "data": {
            "text/plain": [
              "[1/390]   0%|           [00:00<?]"
            ],
            "application/vnd.jupyter.widget-view+json": {
              "version_major": 2,
              "version_minor": 0,
              "model_id": "bf8dfd2d521747e69fc778c94cc73912"
            }
          },
          "metadata": {}
        },
        {
          "output_type": "stream",
          "name": "stdout",
          "text": [
            "Train - Epoch: 16 Loss: 0.06\n",
            "Valid - Epoch: 16 Acc: 0.8077 Loss: 0.10 BCE: 0.10 GP: 0.78 \n"
          ]
        },
        {
          "output_type": "display_data",
          "data": {
            "text/plain": [
              "[1/390]   0%|           [00:00<?]"
            ],
            "application/vnd.jupyter.widget-view+json": {
              "version_major": 2,
              "version_minor": 0,
              "model_id": "fb75d48e6e8d4af4949c3cf35c15e3f8"
            }
          },
          "metadata": {}
        },
        {
          "output_type": "stream",
          "name": "stdout",
          "text": [
            "Train - Epoch: 17 Loss: 0.06\n",
            "Valid - Epoch: 17 Acc: 0.8529 Loss: 0.08 BCE: 0.08 GP: 0.76 \n"
          ]
        },
        {
          "output_type": "display_data",
          "data": {
            "text/plain": [
              "[1/390]   0%|           [00:00<?]"
            ],
            "application/vnd.jupyter.widget-view+json": {
              "version_major": 2,
              "version_minor": 0,
              "model_id": "1dcc70bf5909446983d1df72a40bc84b"
            }
          },
          "metadata": {}
        },
        {
          "output_type": "stream",
          "name": "stdout",
          "text": [
            "Train - Epoch: 18 Loss: 0.06\n",
            "Valid - Epoch: 18 Acc: 0.8524 Loss: 0.08 BCE: 0.08 GP: 0.77 \n"
          ]
        },
        {
          "output_type": "display_data",
          "data": {
            "text/plain": [
              "[1/390]   0%|           [00:00<?]"
            ],
            "application/vnd.jupyter.widget-view+json": {
              "version_major": 2,
              "version_minor": 0,
              "model_id": "87db37c1d6964c349ae2a8bee1699d39"
            }
          },
          "metadata": {}
        },
        {
          "output_type": "stream",
          "name": "stdout",
          "text": [
            "Train - Epoch: 19 Loss: 0.06\n",
            "Valid - Epoch: 19 Acc: 0.8481 Loss: 0.08 BCE: 0.08 GP: 0.77 \n"
          ]
        },
        {
          "output_type": "display_data",
          "data": {
            "text/plain": [
              "[1/390]   0%|           [00:00<?]"
            ],
            "application/vnd.jupyter.widget-view+json": {
              "version_major": 2,
              "version_minor": 0,
              "model_id": "794a7aa793b74b61976324f89d8dfbf9"
            }
          },
          "metadata": {}
        },
        {
          "output_type": "stream",
          "name": "stdout",
          "text": [
            "Train - Epoch: 20 Loss: 0.05\n",
            "Valid - Epoch: 20 Acc: 0.8417 Loss: 0.08 BCE: 0.08 GP: 0.74 \n"
          ]
        },
        {
          "output_type": "display_data",
          "data": {
            "text/plain": [
              "[1/390]   0%|           [00:00<?]"
            ],
            "application/vnd.jupyter.widget-view+json": {
              "version_major": 2,
              "version_minor": 0,
              "model_id": "6dc2a90c9b474e3eb4391c0f4ddd0836"
            }
          },
          "metadata": {}
        },
        {
          "output_type": "stream",
          "name": "stdout",
          "text": [
            "Train - Epoch: 21 Loss: 0.05\n",
            "Valid - Epoch: 21 Acc: 0.8440 Loss: 0.08 BCE: 0.08 GP: 0.76 \n"
          ]
        },
        {
          "output_type": "display_data",
          "data": {
            "text/plain": [
              "[1/390]   0%|           [00:00<?]"
            ],
            "application/vnd.jupyter.widget-view+json": {
              "version_major": 2,
              "version_minor": 0,
              "model_id": "5b3bafe2c29b47daa10bab1fe06cc9b9"
            }
          },
          "metadata": {}
        },
        {
          "output_type": "stream",
          "name": "stdout",
          "text": [
            "Train - Epoch: 22 Loss: 0.05\n",
            "Valid - Epoch: 22 Acc: 0.8383 Loss: 0.08 BCE: 0.08 GP: 0.75 \n"
          ]
        },
        {
          "output_type": "display_data",
          "data": {
            "text/plain": [
              "[1/390]   0%|           [00:00<?]"
            ],
            "application/vnd.jupyter.widget-view+json": {
              "version_major": 2,
              "version_minor": 0,
              "model_id": "d76ab4d1f82a4923b612f52ce29fa363"
            }
          },
          "metadata": {}
        },
        {
          "output_type": "stream",
          "name": "stdout",
          "text": [
            "Train - Epoch: 23 Loss: 0.05\n",
            "Valid - Epoch: 23 Acc: 0.8576 Loss: 0.07 BCE: 0.07 GP: 0.74 \n"
          ]
        },
        {
          "output_type": "display_data",
          "data": {
            "text/plain": [
              "[1/390]   0%|           [00:00<?]"
            ],
            "application/vnd.jupyter.widget-view+json": {
              "version_major": 2,
              "version_minor": 0,
              "model_id": "478cf75db05b4430b7aa61dcdd6460a2"
            }
          },
          "metadata": {}
        },
        {
          "output_type": "stream",
          "name": "stdout",
          "text": [
            "Train - Epoch: 24 Loss: 0.05\n",
            "Valid - Epoch: 24 Acc: 0.8563 Loss: 0.08 BCE: 0.08 GP: 0.71 \n"
          ]
        },
        {
          "output_type": "display_data",
          "data": {
            "text/plain": [
              "[1/390]   0%|           [00:00<?]"
            ],
            "application/vnd.jupyter.widget-view+json": {
              "version_major": 2,
              "version_minor": 0,
              "model_id": "6718118bae304a9397ffe191d393bc51"
            }
          },
          "metadata": {}
        },
        {
          "output_type": "stream",
          "name": "stdout",
          "text": [
            "Train - Epoch: 25 Loss: 0.05\n",
            "Valid - Epoch: 25 Acc: 0.8472 Loss: 0.08 BCE: 0.08 GP: 0.73 \n"
          ]
        },
        {
          "output_type": "display_data",
          "data": {
            "text/plain": [
              "[1/390]   0%|           [00:00<?]"
            ],
            "application/vnd.jupyter.widget-view+json": {
              "version_major": 2,
              "version_minor": 0,
              "model_id": "3a16cbfab3df43d9b23a7d0647426a51"
            }
          },
          "metadata": {}
        },
        {
          "output_type": "stream",
          "name": "stdout",
          "text": [
            "Train - Epoch: 26 Loss: 0.03\n",
            "Valid - Epoch: 26 Acc: 0.9251 Loss: 0.04 BCE: 0.04 GP: 0.81 \n"
          ]
        },
        {
          "output_type": "display_data",
          "data": {
            "text/plain": [
              "[1/390]   0%|           [00:00<?]"
            ],
            "application/vnd.jupyter.widget-view+json": {
              "version_major": 2,
              "version_minor": 0,
              "model_id": "3dbf84fa880042df9bba6e243610cd83"
            }
          },
          "metadata": {}
        },
        {
          "output_type": "stream",
          "name": "stdout",
          "text": [
            "Train - Epoch: 27 Loss: 0.02\n",
            "Valid - Epoch: 27 Acc: 0.9281 Loss: 0.04 BCE: 0.04 GP: 0.81 \n"
          ]
        },
        {
          "output_type": "display_data",
          "data": {
            "text/plain": [
              "[1/390]   0%|           [00:00<?]"
            ],
            "application/vnd.jupyter.widget-view+json": {
              "version_major": 2,
              "version_minor": 0,
              "model_id": "df0900036f3849e2ac9a6770ab8b5912"
            }
          },
          "metadata": {}
        },
        {
          "output_type": "stream",
          "name": "stdout",
          "text": [
            "Train - Epoch: 28 Loss: 0.02\n",
            "Valid - Epoch: 28 Acc: 0.9304 Loss: 0.04 BCE: 0.04 GP: 0.81 \n"
          ]
        },
        {
          "output_type": "display_data",
          "data": {
            "text/plain": [
              "[1/390]   0%|           [00:00<?]"
            ],
            "application/vnd.jupyter.widget-view+json": {
              "version_major": 2,
              "version_minor": 0,
              "model_id": "201fc773b31742f89e234a4604e0ca06"
            }
          },
          "metadata": {}
        },
        {
          "output_type": "stream",
          "name": "stdout",
          "text": [
            "Train - Epoch: 29 Loss: 0.02\n",
            "Valid - Epoch: 29 Acc: 0.9295 Loss: 0.04 BCE: 0.04 GP: 0.81 \n"
          ]
        },
        {
          "output_type": "display_data",
          "data": {
            "text/plain": [
              "[1/390]   0%|           [00:00<?]"
            ],
            "application/vnd.jupyter.widget-view+json": {
              "version_major": 2,
              "version_minor": 0,
              "model_id": "343c0556f50b4fe993cf1adf6ab9436a"
            }
          },
          "metadata": {}
        },
        {
          "output_type": "stream",
          "name": "stdout",
          "text": [
            "Train - Epoch: 30 Loss: 0.02\n",
            "Valid - Epoch: 30 Acc: 0.9277 Loss: 0.04 BCE: 0.04 GP: 0.81 \n"
          ]
        },
        {
          "output_type": "display_data",
          "data": {
            "text/plain": [
              "[1/390]   0%|           [00:00<?]"
            ],
            "application/vnd.jupyter.widget-view+json": {
              "version_major": 2,
              "version_minor": 0,
              "model_id": "a4f43749c9264930a28c83627f8de77e"
            }
          },
          "metadata": {}
        },
        {
          "output_type": "stream",
          "name": "stdout",
          "text": [
            "Train - Epoch: 31 Loss: 0.01\n",
            "Valid - Epoch: 31 Acc: 0.9316 Loss: 0.04 BCE: 0.04 GP: 0.81 \n"
          ]
        },
        {
          "output_type": "display_data",
          "data": {
            "text/plain": [
              "[1/390]   0%|           [00:00<?]"
            ],
            "application/vnd.jupyter.widget-view+json": {
              "version_major": 2,
              "version_minor": 0,
              "model_id": "12d8c3ce7a2f4371b00a3d8a8a47f870"
            }
          },
          "metadata": {}
        },
        {
          "output_type": "stream",
          "name": "stdout",
          "text": [
            "Train - Epoch: 32 Loss: 0.01\n",
            "Valid - Epoch: 32 Acc: 0.9275 Loss: 0.04 BCE: 0.04 GP: 0.82 \n"
          ]
        },
        {
          "output_type": "display_data",
          "data": {
            "text/plain": [
              "[1/390]   0%|           [00:00<?]"
            ],
            "application/vnd.jupyter.widget-view+json": {
              "version_major": 2,
              "version_minor": 0,
              "model_id": "b7cd609b8dcd49178af2f5093d73c5fd"
            }
          },
          "metadata": {}
        },
        {
          "output_type": "stream",
          "name": "stdout",
          "text": [
            "Train - Epoch: 33 Loss: 0.01\n",
            "Valid - Epoch: 33 Acc: 0.9256 Loss: 0.04 BCE: 0.04 GP: 0.82 \n"
          ]
        },
        {
          "output_type": "display_data",
          "data": {
            "text/plain": [
              "[1/390]   0%|           [00:00<?]"
            ],
            "application/vnd.jupyter.widget-view+json": {
              "version_major": 2,
              "version_minor": 0,
              "model_id": "feb226d2f1344abba61173b4d66a3786"
            }
          },
          "metadata": {}
        },
        {
          "output_type": "stream",
          "name": "stdout",
          "text": [
            "Train - Epoch: 34 Loss: 0.01\n",
            "Valid - Epoch: 34 Acc: 0.9235 Loss: 0.04 BCE: 0.04 GP: 0.83 \n"
          ]
        },
        {
          "output_type": "display_data",
          "data": {
            "text/plain": [
              "[1/390]   0%|           [00:00<?]"
            ],
            "application/vnd.jupyter.widget-view+json": {
              "version_major": 2,
              "version_minor": 0,
              "model_id": "0d7a0ae783e0415a8b79a26e1184b4fa"
            }
          },
          "metadata": {}
        },
        {
          "output_type": "stream",
          "name": "stdout",
          "text": [
            "Train - Epoch: 35 Loss: 0.01\n",
            "Valid - Epoch: 35 Acc: 0.9211 Loss: 0.05 BCE: 0.05 GP: 0.80 \n"
          ]
        },
        {
          "output_type": "display_data",
          "data": {
            "text/plain": [
              "[1/390]   0%|           [00:00<?]"
            ],
            "application/vnd.jupyter.widget-view+json": {
              "version_major": 2,
              "version_minor": 0,
              "model_id": "7341f8679baf403984fa8c89dfe24b31"
            }
          },
          "metadata": {}
        },
        {
          "output_type": "stream",
          "name": "stdout",
          "text": [
            "Train - Epoch: 36 Loss: 0.01\n",
            "Valid - Epoch: 36 Acc: 0.9181 Loss: 0.05 BCE: 0.05 GP: 0.80 \n"
          ]
        },
        {
          "output_type": "display_data",
          "data": {
            "text/plain": [
              "[1/390]   0%|           [00:00<?]"
            ],
            "application/vnd.jupyter.widget-view+json": {
              "version_major": 2,
              "version_minor": 0,
              "model_id": "0492dc7f30654eeea1eec58e613cc04a"
            }
          },
          "metadata": {}
        },
        {
          "output_type": "stream",
          "name": "stdout",
          "text": [
            "Train - Epoch: 37 Loss: 0.01\n",
            "Valid - Epoch: 37 Acc: 0.9285 Loss: 0.04 BCE: 0.04 GP: 0.82 \n"
          ]
        },
        {
          "output_type": "display_data",
          "data": {
            "text/plain": [
              "[1/390]   0%|           [00:00<?]"
            ],
            "application/vnd.jupyter.widget-view+json": {
              "version_major": 2,
              "version_minor": 0,
              "model_id": "3e91eae2e421466da5d65c34dc5db6f8"
            }
          },
          "metadata": {}
        },
        {
          "output_type": "stream",
          "name": "stdout",
          "text": [
            "Train - Epoch: 38 Loss: 0.01\n",
            "Valid - Epoch: 38 Acc: 0.9234 Loss: 0.04 BCE: 0.04 GP: 0.83 \n"
          ]
        },
        {
          "output_type": "display_data",
          "data": {
            "text/plain": [
              "[1/390]   0%|           [00:00<?]"
            ],
            "application/vnd.jupyter.widget-view+json": {
              "version_major": 2,
              "version_minor": 0,
              "model_id": "1369b64a82cc4cae8ba52e2468a7ae90"
            }
          },
          "metadata": {}
        },
        {
          "output_type": "stream",
          "name": "stdout",
          "text": [
            "Train - Epoch: 39 Loss: 0.01\n",
            "Valid - Epoch: 39 Acc: 0.9232 Loss: 0.04 BCE: 0.04 GP: 0.83 \n"
          ]
        },
        {
          "output_type": "display_data",
          "data": {
            "text/plain": [
              "[1/390]   0%|           [00:00<?]"
            ],
            "application/vnd.jupyter.widget-view+json": {
              "version_major": 2,
              "version_minor": 0,
              "model_id": "c017bfc8f74f4cdfbf37dd3bf604b2e9"
            }
          },
          "metadata": {}
        },
        {
          "output_type": "stream",
          "name": "stdout",
          "text": [
            "Train - Epoch: 40 Loss: 0.01\n",
            "Valid - Epoch: 40 Acc: 0.9178 Loss: 0.05 BCE: 0.05 GP: 0.81 \n"
          ]
        },
        {
          "output_type": "display_data",
          "data": {
            "text/plain": [
              "[1/390]   0%|           [00:00<?]"
            ],
            "application/vnd.jupyter.widget-view+json": {
              "version_major": 2,
              "version_minor": 0,
              "model_id": "2c2aa8936cf24e0094fad46de7e4c0e1"
            }
          },
          "metadata": {}
        },
        {
          "output_type": "stream",
          "name": "stdout",
          "text": [
            "Train - Epoch: 41 Loss: 0.01\n",
            "Valid - Epoch: 41 Acc: 0.9209 Loss: 0.05 BCE: 0.05 GP: 0.83 \n"
          ]
        },
        {
          "output_type": "display_data",
          "data": {
            "text/plain": [
              "[1/390]   0%|           [00:00<?]"
            ],
            "application/vnd.jupyter.widget-view+json": {
              "version_major": 2,
              "version_minor": 0,
              "model_id": "7fc2d1ed0a894bb2955c691164b8f05c"
            }
          },
          "metadata": {}
        },
        {
          "output_type": "stream",
          "name": "stdout",
          "text": [
            "Train - Epoch: 42 Loss: 0.01\n",
            "Valid - Epoch: 42 Acc: 0.9177 Loss: 0.05 BCE: 0.05 GP: 0.83 \n"
          ]
        },
        {
          "output_type": "display_data",
          "data": {
            "text/plain": [
              "[1/390]   0%|           [00:00<?]"
            ],
            "application/vnd.jupyter.widget-view+json": {
              "version_major": 2,
              "version_minor": 0,
              "model_id": "85193e3aacc14a31bf4079cf30c4475e"
            }
          },
          "metadata": {}
        },
        {
          "output_type": "stream",
          "name": "stdout",
          "text": [
            "Train - Epoch: 43 Loss: 0.01\n",
            "Valid - Epoch: 43 Acc: 0.9012 Loss: 0.06 BCE: 0.06 GP: 0.80 \n"
          ]
        },
        {
          "output_type": "display_data",
          "data": {
            "text/plain": [
              "[1/390]   0%|           [00:00<?]"
            ],
            "application/vnd.jupyter.widget-view+json": {
              "version_major": 2,
              "version_minor": 0,
              "model_id": "2190bc9a87a44b03a0a56230014b7399"
            }
          },
          "metadata": {}
        },
        {
          "output_type": "stream",
          "name": "stdout",
          "text": [
            "Train - Epoch: 44 Loss: 0.01\n",
            "Valid - Epoch: 44 Acc: 0.9226 Loss: 0.05 BCE: 0.05 GP: 0.83 \n"
          ]
        },
        {
          "output_type": "display_data",
          "data": {
            "text/plain": [
              "[1/390]   0%|           [00:00<?]"
            ],
            "application/vnd.jupyter.widget-view+json": {
              "version_major": 2,
              "version_minor": 0,
              "model_id": "b3e8dbf23445490eac58d623d332c0db"
            }
          },
          "metadata": {}
        },
        {
          "output_type": "stream",
          "name": "stdout",
          "text": [
            "Train - Epoch: 45 Loss: 0.01\n",
            "Valid - Epoch: 45 Acc: 0.9233 Loss: 0.04 BCE: 0.04 GP: 0.83 \n"
          ]
        },
        {
          "output_type": "display_data",
          "data": {
            "text/plain": [
              "[1/390]   0%|           [00:00<?]"
            ],
            "application/vnd.jupyter.widget-view+json": {
              "version_major": 2,
              "version_minor": 0,
              "model_id": "17e28bf314d14c9e894c32f4418efd59"
            }
          },
          "metadata": {}
        },
        {
          "output_type": "stream",
          "name": "stdout",
          "text": [
            "Train - Epoch: 46 Loss: 0.01\n",
            "Valid - Epoch: 46 Acc: 0.9064 Loss: 0.05 BCE: 0.05 GP: 0.79 \n"
          ]
        },
        {
          "output_type": "display_data",
          "data": {
            "text/plain": [
              "[1/390]   0%|           [00:00<?]"
            ],
            "application/vnd.jupyter.widget-view+json": {
              "version_major": 2,
              "version_minor": 0,
              "model_id": "60a8ebdbe5de486f8747107d0e2f08c2"
            }
          },
          "metadata": {}
        },
        {
          "output_type": "stream",
          "name": "stdout",
          "text": [
            "Train - Epoch: 47 Loss: 0.01\n",
            "Valid - Epoch: 47 Acc: 0.9065 Loss: 0.06 BCE: 0.06 GP: 0.82 \n"
          ]
        },
        {
          "output_type": "display_data",
          "data": {
            "text/plain": [
              "[1/390]   0%|           [00:00<?]"
            ],
            "application/vnd.jupyter.widget-view+json": {
              "version_major": 2,
              "version_minor": 0,
              "model_id": "a563eab38513488198bbfd63c8c8dff1"
            }
          },
          "metadata": {}
        },
        {
          "output_type": "stream",
          "name": "stdout",
          "text": [
            "Train - Epoch: 48 Loss: 0.01\n",
            "Valid - Epoch: 48 Acc: 0.9119 Loss: 0.05 BCE: 0.05 GP: 0.80 \n"
          ]
        },
        {
          "output_type": "display_data",
          "data": {
            "text/plain": [
              "[1/390]   0%|           [00:00<?]"
            ],
            "application/vnd.jupyter.widget-view+json": {
              "version_major": 2,
              "version_minor": 0,
              "model_id": "c930684482c14e6f89eb1dffd9e9d33f"
            }
          },
          "metadata": {}
        },
        {
          "output_type": "stream",
          "name": "stdout",
          "text": [
            "Train - Epoch: 49 Loss: 0.01\n",
            "Valid - Epoch: 49 Acc: 0.9186 Loss: 0.05 BCE: 0.05 GP: 0.82 \n"
          ]
        },
        {
          "output_type": "display_data",
          "data": {
            "text/plain": [
              "[1/390]   0%|           [00:00<?]"
            ],
            "application/vnd.jupyter.widget-view+json": {
              "version_major": 2,
              "version_minor": 0,
              "model_id": "10e520e74dd14e1494ba21082b98e44e"
            }
          },
          "metadata": {}
        },
        {
          "output_type": "stream",
          "name": "stdout",
          "text": [
            "Train - Epoch: 50 Loss: 0.01\n",
            "Valid - Epoch: 50 Acc: 0.9180 Loss: 0.05 BCE: 0.05 GP: 0.82 \n"
          ]
        },
        {
          "output_type": "display_data",
          "data": {
            "text/plain": [
              "[1/390]   0%|           [00:00<?]"
            ],
            "application/vnd.jupyter.widget-view+json": {
              "version_major": 2,
              "version_minor": 0,
              "model_id": "1ee425ce415e4edebbf68fbcf84de53c"
            }
          },
          "metadata": {}
        },
        {
          "output_type": "stream",
          "name": "stdout",
          "text": [
            "Train - Epoch: 51 Loss: 0.01\n",
            "Valid - Epoch: 51 Acc: 0.9410 Loss: 0.04 BCE: 0.04 GP: 0.85 \n"
          ]
        },
        {
          "output_type": "display_data",
          "data": {
            "text/plain": [
              "[1/390]   0%|           [00:00<?]"
            ],
            "application/vnd.jupyter.widget-view+json": {
              "version_major": 2,
              "version_minor": 0,
              "model_id": "d30c50302efe40cb8702df0cc6a6eb06"
            }
          },
          "metadata": {}
        },
        {
          "output_type": "stream",
          "name": "stdout",
          "text": [
            "Train - Epoch: 52 Loss: 0.00\n",
            "Valid - Epoch: 52 Acc: 0.9390 Loss: 0.04 BCE: 0.04 GP: 0.85 \n"
          ]
        },
        {
          "output_type": "display_data",
          "data": {
            "text/plain": [
              "[1/390]   0%|           [00:00<?]"
            ],
            "application/vnd.jupyter.widget-view+json": {
              "version_major": 2,
              "version_minor": 0,
              "model_id": "3245fdbc920d4ad682d9ab3cefd6a52e"
            }
          },
          "metadata": {}
        },
        {
          "output_type": "stream",
          "name": "stdout",
          "text": [
            "Train - Epoch: 53 Loss: 0.00\n",
            "Valid - Epoch: 53 Acc: 0.9423 Loss: 0.04 BCE: 0.04 GP: 0.85 \n"
          ]
        },
        {
          "output_type": "display_data",
          "data": {
            "text/plain": [
              "[1/390]   0%|           [00:00<?]"
            ],
            "application/vnd.jupyter.widget-view+json": {
              "version_major": 2,
              "version_minor": 0,
              "model_id": "c25d655e29064a6ab4b005b5d8658aec"
            }
          },
          "metadata": {}
        },
        {
          "output_type": "stream",
          "name": "stdout",
          "text": [
            "Train - Epoch: 54 Loss: 0.00\n",
            "Valid - Epoch: 54 Acc: 0.9419 Loss: 0.04 BCE: 0.04 GP: 0.86 \n"
          ]
        },
        {
          "output_type": "display_data",
          "data": {
            "text/plain": [
              "[1/390]   0%|           [00:00<?]"
            ],
            "application/vnd.jupyter.widget-view+json": {
              "version_major": 2,
              "version_minor": 0,
              "model_id": "a570fb7ef5d64634b667d510a479ccb7"
            }
          },
          "metadata": {}
        },
        {
          "output_type": "stream",
          "name": "stdout",
          "text": [
            "Train - Epoch: 55 Loss: 0.00\n",
            "Valid - Epoch: 55 Acc: 0.9445 Loss: 0.04 BCE: 0.04 GP: 0.86 \n"
          ]
        },
        {
          "output_type": "display_data",
          "data": {
            "text/plain": [
              "[1/390]   0%|           [00:00<?]"
            ],
            "application/vnd.jupyter.widget-view+json": {
              "version_major": 2,
              "version_minor": 0,
              "model_id": "d72797ae975f42c7b0e612ce8e7ab247"
            }
          },
          "metadata": {}
        },
        {
          "output_type": "stream",
          "name": "stdout",
          "text": [
            "Train - Epoch: 56 Loss: 0.00\n",
            "Valid - Epoch: 56 Acc: 0.9442 Loss: 0.04 BCE: 0.04 GP: 0.86 \n"
          ]
        },
        {
          "output_type": "display_data",
          "data": {
            "text/plain": [
              "[1/390]   0%|           [00:00<?]"
            ],
            "application/vnd.jupyter.widget-view+json": {
              "version_major": 2,
              "version_minor": 0,
              "model_id": "f9a5399956ae42e0bab7318b7f3bac8b"
            }
          },
          "metadata": {}
        },
        {
          "output_type": "stream",
          "name": "stdout",
          "text": [
            "Train - Epoch: 57 Loss: 0.00\n",
            "Valid - Epoch: 57 Acc: 0.9449 Loss: 0.04 BCE: 0.04 GP: 0.86 \n"
          ]
        },
        {
          "output_type": "display_data",
          "data": {
            "text/plain": [
              "[1/390]   0%|           [00:00<?]"
            ],
            "application/vnd.jupyter.widget-view+json": {
              "version_major": 2,
              "version_minor": 0,
              "model_id": "96c10173582b4f45a0b7798cd45e5837"
            }
          },
          "metadata": {}
        },
        {
          "output_type": "stream",
          "name": "stdout",
          "text": [
            "Train - Epoch: 58 Loss: 0.00\n",
            "Valid - Epoch: 58 Acc: 0.9431 Loss: 0.04 BCE: 0.04 GP: 0.86 \n"
          ]
        },
        {
          "output_type": "display_data",
          "data": {
            "text/plain": [
              "[1/390]   0%|           [00:00<?]"
            ],
            "application/vnd.jupyter.widget-view+json": {
              "version_major": 2,
              "version_minor": 0,
              "model_id": "c6cf398ace41420e8f45eddc9996b2eb"
            }
          },
          "metadata": {}
        },
        {
          "output_type": "stream",
          "name": "stdout",
          "text": [
            "Train - Epoch: 59 Loss: 0.00\n",
            "Valid - Epoch: 59 Acc: 0.9425 Loss: 0.04 BCE: 0.04 GP: 0.86 \n"
          ]
        },
        {
          "output_type": "display_data",
          "data": {
            "text/plain": [
              "[1/390]   0%|           [00:00<?]"
            ],
            "application/vnd.jupyter.widget-view+json": {
              "version_major": 2,
              "version_minor": 0,
              "model_id": "7f97a568344e46109737f3714dc75dcd"
            }
          },
          "metadata": {}
        },
        {
          "output_type": "stream",
          "name": "stdout",
          "text": [
            "Train - Epoch: 60 Loss: 0.00\n",
            "Valid - Epoch: 60 Acc: 0.9441 Loss: 0.04 BCE: 0.04 GP: 0.86 \n"
          ]
        },
        {
          "output_type": "display_data",
          "data": {
            "text/plain": [
              "[1/390]   0%|           [00:00<?]"
            ],
            "application/vnd.jupyter.widget-view+json": {
              "version_major": 2,
              "version_minor": 0,
              "model_id": "8814a01c90334d82975546c4f787b83a"
            }
          },
          "metadata": {}
        },
        {
          "output_type": "stream",
          "name": "stdout",
          "text": [
            "Train - Epoch: 61 Loss: 0.00\n",
            "Valid - Epoch: 61 Acc: 0.9454 Loss: 0.04 BCE: 0.04 GP: 0.86 \n"
          ]
        },
        {
          "output_type": "display_data",
          "data": {
            "text/plain": [
              "[1/390]   0%|           [00:00<?]"
            ],
            "application/vnd.jupyter.widget-view+json": {
              "version_major": 2,
              "version_minor": 0,
              "model_id": "fa813fb0e2a54ac1a0753a037777e462"
            }
          },
          "metadata": {}
        },
        {
          "output_type": "stream",
          "name": "stdout",
          "text": [
            "Train - Epoch: 62 Loss: 0.00\n",
            "Valid - Epoch: 62 Acc: 0.9444 Loss: 0.04 BCE: 0.04 GP: 0.87 \n"
          ]
        },
        {
          "output_type": "display_data",
          "data": {
            "text/plain": [
              "[1/390]   0%|           [00:00<?]"
            ],
            "application/vnd.jupyter.widget-view+json": {
              "version_major": 2,
              "version_minor": 0,
              "model_id": "639ad3f6b73a4e0aa7037c818a9d9d6e"
            }
          },
          "metadata": {}
        },
        {
          "output_type": "stream",
          "name": "stdout",
          "text": [
            "Train - Epoch: 63 Loss: 0.00\n",
            "Valid - Epoch: 63 Acc: 0.9448 Loss: 0.04 BCE: 0.04 GP: 0.86 \n"
          ]
        },
        {
          "output_type": "display_data",
          "data": {
            "text/plain": [
              "[1/390]   0%|           [00:00<?]"
            ],
            "application/vnd.jupyter.widget-view+json": {
              "version_major": 2,
              "version_minor": 0,
              "model_id": "8fc3b9b9d68e40e7b79ba230524b3522"
            }
          },
          "metadata": {}
        },
        {
          "output_type": "stream",
          "name": "stdout",
          "text": [
            "Train - Epoch: 64 Loss: 0.00\n",
            "Valid - Epoch: 64 Acc: 0.9436 Loss: 0.04 BCE: 0.04 GP: 0.87 \n"
          ]
        },
        {
          "output_type": "display_data",
          "data": {
            "text/plain": [
              "[1/390]   0%|           [00:00<?]"
            ],
            "application/vnd.jupyter.widget-view+json": {
              "version_major": 2,
              "version_minor": 0,
              "model_id": "b570518dff634ccd99d188510714094b"
            }
          },
          "metadata": {}
        },
        {
          "output_type": "stream",
          "name": "stdout",
          "text": [
            "Train - Epoch: 65 Loss: 0.00\n",
            "Valid - Epoch: 65 Acc: 0.9445 Loss: 0.04 BCE: 0.04 GP: 0.87 \n"
          ]
        },
        {
          "output_type": "display_data",
          "data": {
            "text/plain": [
              "[1/390]   0%|           [00:00<?]"
            ],
            "application/vnd.jupyter.widget-view+json": {
              "version_major": 2,
              "version_minor": 0,
              "model_id": "8f533ce4dabe42c69f7617a1fb22a889"
            }
          },
          "metadata": {}
        },
        {
          "output_type": "stream",
          "name": "stdout",
          "text": [
            "Train - Epoch: 66 Loss: 0.00\n",
            "Valid - Epoch: 66 Acc: 0.9437 Loss: 0.04 BCE: 0.04 GP: 0.87 \n"
          ]
        },
        {
          "output_type": "display_data",
          "data": {
            "text/plain": [
              "[1/390]   0%|           [00:00<?]"
            ],
            "application/vnd.jupyter.widget-view+json": {
              "version_major": 2,
              "version_minor": 0,
              "model_id": "50f3b2e0b79a4d6d94274a5b15032dcb"
            }
          },
          "metadata": {}
        },
        {
          "output_type": "stream",
          "name": "stdout",
          "text": [
            "Train - Epoch: 67 Loss: 0.00\n",
            "Valid - Epoch: 67 Acc: 0.9451 Loss: 0.04 BCE: 0.04 GP: 0.86 \n"
          ]
        },
        {
          "output_type": "display_data",
          "data": {
            "text/plain": [
              "[1/390]   0%|           [00:00<?]"
            ],
            "application/vnd.jupyter.widget-view+json": {
              "version_major": 2,
              "version_minor": 0,
              "model_id": "998fdd8ea5c44088b748cf8f21ea159c"
            }
          },
          "metadata": {}
        },
        {
          "output_type": "stream",
          "name": "stdout",
          "text": [
            "Train - Epoch: 68 Loss: 0.00\n",
            "Valid - Epoch: 68 Acc: 0.9453 Loss: 0.04 BCE: 0.04 GP: 0.86 \n"
          ]
        },
        {
          "output_type": "display_data",
          "data": {
            "text/plain": [
              "[1/390]   0%|           [00:00<?]"
            ],
            "application/vnd.jupyter.widget-view+json": {
              "version_major": 2,
              "version_minor": 0,
              "model_id": "10816d0b200e42e3ac8bafead8d3f714"
            }
          },
          "metadata": {}
        },
        {
          "output_type": "stream",
          "name": "stdout",
          "text": [
            "Train - Epoch: 69 Loss: 0.00\n",
            "Valid - Epoch: 69 Acc: 0.9454 Loss: 0.04 BCE: 0.04 GP: 0.87 \n"
          ]
        },
        {
          "output_type": "display_data",
          "data": {
            "text/plain": [
              "[1/390]   0%|           [00:00<?]"
            ],
            "application/vnd.jupyter.widget-view+json": {
              "version_major": 2,
              "version_minor": 0,
              "model_id": "c37c39b46cf34c8bb678cb537cad724d"
            }
          },
          "metadata": {}
        },
        {
          "output_type": "stream",
          "name": "stdout",
          "text": [
            "Train - Epoch: 70 Loss: 0.00\n",
            "Valid - Epoch: 70 Acc: 0.9446 Loss: 0.04 BCE: 0.04 GP: 0.87 \n"
          ]
        },
        {
          "output_type": "display_data",
          "data": {
            "text/plain": [
              "[1/390]   0%|           [00:00<?]"
            ],
            "application/vnd.jupyter.widget-view+json": {
              "version_major": 2,
              "version_minor": 0,
              "model_id": "0f5bb610341343b0b3f3e456b0fcb22b"
            }
          },
          "metadata": {}
        },
        {
          "output_type": "stream",
          "name": "stdout",
          "text": [
            "Train - Epoch: 71 Loss: 0.00\n",
            "Valid - Epoch: 71 Acc: 0.9434 Loss: 0.04 BCE: 0.04 GP: 0.87 \n"
          ]
        },
        {
          "output_type": "display_data",
          "data": {
            "text/plain": [
              "[1/390]   0%|           [00:00<?]"
            ],
            "application/vnd.jupyter.widget-view+json": {
              "version_major": 2,
              "version_minor": 0,
              "model_id": "4276266444ce4684be8480b7c2c7bb07"
            }
          },
          "metadata": {}
        },
        {
          "output_type": "stream",
          "name": "stdout",
          "text": [
            "Train - Epoch: 72 Loss: 0.00\n",
            "Valid - Epoch: 72 Acc: 0.9451 Loss: 0.04 BCE: 0.04 GP: 0.87 \n"
          ]
        },
        {
          "output_type": "display_data",
          "data": {
            "text/plain": [
              "[1/390]   0%|           [00:00<?]"
            ],
            "application/vnd.jupyter.widget-view+json": {
              "version_major": 2,
              "version_minor": 0,
              "model_id": "e7753f8e91ad4b5fbfbf7d63970230d7"
            }
          },
          "metadata": {}
        },
        {
          "output_type": "stream",
          "name": "stdout",
          "text": [
            "Train - Epoch: 73 Loss: 0.00\n",
            "Valid - Epoch: 73 Acc: 0.9437 Loss: 0.04 BCE: 0.04 GP: 0.87 \n"
          ]
        },
        {
          "output_type": "display_data",
          "data": {
            "text/plain": [
              "[1/390]   0%|           [00:00<?]"
            ],
            "application/vnd.jupyter.widget-view+json": {
              "version_major": 2,
              "version_minor": 0,
              "model_id": "7e41bf3399654a0d9b6ad572303e752d"
            }
          },
          "metadata": {}
        },
        {
          "output_type": "stream",
          "name": "stdout",
          "text": [
            "Train - Epoch: 74 Loss: 0.00\n",
            "Valid - Epoch: 74 Acc: 0.9455 Loss: 0.04 BCE: 0.04 GP: 0.87 \n"
          ]
        },
        {
          "output_type": "display_data",
          "data": {
            "text/plain": [
              "[1/390]   0%|           [00:00<?]"
            ],
            "application/vnd.jupyter.widget-view+json": {
              "version_major": 2,
              "version_minor": 0,
              "model_id": "c9b8e83048524fb480c6cfd3101d143b"
            }
          },
          "metadata": {}
        },
        {
          "output_type": "stream",
          "name": "stdout",
          "text": [
            "Train - Epoch: 75 Loss: 0.00\n",
            "Valid - Epoch: 75 Acc: 0.9436 Loss: 0.04 BCE: 0.04 GP: 0.87 \n"
          ]
        },
        {
          "output_type": "display_data",
          "data": {
            "text/plain": [
              "[1/390]   0%|           [00:00<?]"
            ],
            "application/vnd.jupyter.widget-view+json": {
              "version_major": 2,
              "version_minor": 0,
              "model_id": "e3ec58e357d64f22a4be1ec349e2cfcd"
            }
          },
          "metadata": {}
        },
        {
          "output_type": "stream",
          "name": "stdout",
          "text": [
            "Train - Epoch: 76 Loss: 0.00\n",
            "Valid - Epoch: 76 Acc: 0.9453 Loss: 0.04 BCE: 0.04 GP: 0.87 \n"
          ]
        },
        {
          "output_type": "display_data",
          "data": {
            "text/plain": [
              "[1/390]   0%|           [00:00<?]"
            ],
            "application/vnd.jupyter.widget-view+json": {
              "version_major": 2,
              "version_minor": 0,
              "model_id": "f65295869d8148728ed1e2ab875e8bc5"
            }
          },
          "metadata": {}
        },
        {
          "output_type": "stream",
          "name": "stdout",
          "text": [
            "Train - Epoch: 77 Loss: 0.00\n",
            "Valid - Epoch: 77 Acc: 0.9447 Loss: 0.04 BCE: 0.04 GP: 0.87 \n"
          ]
        },
        {
          "output_type": "display_data",
          "data": {
            "text/plain": [
              "[1/390]   0%|           [00:00<?]"
            ],
            "application/vnd.jupyter.widget-view+json": {
              "version_major": 2,
              "version_minor": 0,
              "model_id": "2573d70c000b4db890640da939302922"
            }
          },
          "metadata": {}
        },
        {
          "output_type": "stream",
          "name": "stdout",
          "text": [
            "Train - Epoch: 78 Loss: 0.00\n",
            "Valid - Epoch: 78 Acc: 0.9453 Loss: 0.04 BCE: 0.04 GP: 0.87 \n"
          ]
        },
        {
          "output_type": "display_data",
          "data": {
            "text/plain": [
              "[1/390]   0%|           [00:00<?]"
            ],
            "application/vnd.jupyter.widget-view+json": {
              "version_major": 2,
              "version_minor": 0,
              "model_id": "0d5705c7128d448085ae3aab87afafdc"
            }
          },
          "metadata": {}
        },
        {
          "output_type": "stream",
          "name": "stdout",
          "text": [
            "Train - Epoch: 79 Loss: 0.00\n",
            "Valid - Epoch: 79 Acc: 0.9454 Loss: 0.04 BCE: 0.04 GP: 0.87 \n"
          ]
        },
        {
          "output_type": "display_data",
          "data": {
            "text/plain": [
              "[1/390]   0%|           [00:00<?]"
            ],
            "application/vnd.jupyter.widget-view+json": {
              "version_major": 2,
              "version_minor": 0,
              "model_id": "a5670b3dd5a74c43a16dadfa0abdf58c"
            }
          },
          "metadata": {}
        },
        {
          "output_type": "stream",
          "name": "stdout",
          "text": [
            "Train - Epoch: 80 Loss: 0.00\n",
            "Valid - Epoch: 80 Acc: 0.9444 Loss: 0.04 BCE: 0.04 GP: 0.87 \n"
          ]
        },
        {
          "output_type": "display_data",
          "data": {
            "text/plain": [
              "[1/390]   0%|           [00:00<?]"
            ],
            "application/vnd.jupyter.widget-view+json": {
              "version_major": 2,
              "version_minor": 0,
              "model_id": "9de8573ec5ad4178a57131b971620e4e"
            }
          },
          "metadata": {}
        },
        {
          "output_type": "stream",
          "name": "stdout",
          "text": [
            "Train - Epoch: 81 Loss: 0.00\n",
            "Valid - Epoch: 81 Acc: 0.9457 Loss: 0.04 BCE: 0.04 GP: 0.87 \n"
          ]
        },
        {
          "output_type": "display_data",
          "data": {
            "text/plain": [
              "[1/390]   0%|           [00:00<?]"
            ],
            "application/vnd.jupyter.widget-view+json": {
              "version_major": 2,
              "version_minor": 0,
              "model_id": "8409119838cf4b839379cd2dfe9043c4"
            }
          },
          "metadata": {}
        },
        {
          "output_type": "stream",
          "name": "stdout",
          "text": [
            "Train - Epoch: 82 Loss: 0.00\n",
            "Valid - Epoch: 82 Acc: 0.9442 Loss: 0.04 BCE: 0.04 GP: 0.87 \n"
          ]
        },
        {
          "output_type": "display_data",
          "data": {
            "text/plain": [
              "[1/390]   0%|           [00:00<?]"
            ],
            "application/vnd.jupyter.widget-view+json": {
              "version_major": 2,
              "version_minor": 0,
              "model_id": "7032905363144d02a042a04f9bc40e85"
            }
          },
          "metadata": {}
        },
        {
          "output_type": "stream",
          "name": "stdout",
          "text": [
            "Train - Epoch: 83 Loss: 0.00\n",
            "Valid - Epoch: 83 Acc: 0.9441 Loss: 0.04 BCE: 0.04 GP: 0.87 \n"
          ]
        },
        {
          "output_type": "display_data",
          "data": {
            "text/plain": [
              "[1/390]   0%|           [00:00<?]"
            ],
            "application/vnd.jupyter.widget-view+json": {
              "version_major": 2,
              "version_minor": 0,
              "model_id": "4cd06edd8d5e4d03ad70127373a7ebc9"
            }
          },
          "metadata": {}
        },
        {
          "output_type": "stream",
          "name": "stdout",
          "text": [
            "Train - Epoch: 84 Loss: 0.00\n",
            "Valid - Epoch: 84 Acc: 0.9452 Loss: 0.04 BCE: 0.04 GP: 0.87 \n"
          ]
        },
        {
          "output_type": "display_data",
          "data": {
            "text/plain": [
              "[1/390]   0%|           [00:00<?]"
            ],
            "application/vnd.jupyter.widget-view+json": {
              "version_major": 2,
              "version_minor": 0,
              "model_id": "46dc705b2a0648ad81139a6ce6915a4c"
            }
          },
          "metadata": {}
        },
        {
          "output_type": "stream",
          "name": "stdout",
          "text": [
            "Train - Epoch: 85 Loss: 0.00\n",
            "Valid - Epoch: 85 Acc: 0.9453 Loss: 0.04 BCE: 0.04 GP: 0.87 \n"
          ]
        },
        {
          "output_type": "display_data",
          "data": {
            "text/plain": [
              "[1/390]   0%|           [00:00<?]"
            ],
            "application/vnd.jupyter.widget-view+json": {
              "version_major": 2,
              "version_minor": 0,
              "model_id": "0fe5c1058d624c0f8ee6c1f5860523ff"
            }
          },
          "metadata": {}
        },
        {
          "output_type": "stream",
          "name": "stdout",
          "text": [
            "Train - Epoch: 86 Loss: 0.00\n",
            "Valid - Epoch: 86 Acc: 0.9444 Loss: 0.04 BCE: 0.04 GP: 0.87 \n"
          ]
        },
        {
          "output_type": "display_data",
          "data": {
            "text/plain": [
              "[1/390]   0%|           [00:00<?]"
            ],
            "application/vnd.jupyter.widget-view+json": {
              "version_major": 2,
              "version_minor": 0,
              "model_id": "2caa2c99740b4c92b949edf466276f90"
            }
          },
          "metadata": {}
        },
        {
          "output_type": "stream",
          "name": "stdout",
          "text": [
            "Train - Epoch: 87 Loss: 0.00\n",
            "Valid - Epoch: 87 Acc: 0.9452 Loss: 0.04 BCE: 0.04 GP: 0.87 \n"
          ]
        },
        {
          "output_type": "display_data",
          "data": {
            "text/plain": [
              "[1/390]   0%|           [00:00<?]"
            ],
            "application/vnd.jupyter.widget-view+json": {
              "version_major": 2,
              "version_minor": 0,
              "model_id": "ff590f368b1f466fabb6120eb39cd62e"
            }
          },
          "metadata": {}
        },
        {
          "output_type": "stream",
          "name": "stdout",
          "text": [
            "Train - Epoch: 88 Loss: 0.00\n",
            "Valid - Epoch: 88 Acc: 0.9460 Loss: 0.04 BCE: 0.04 GP: 0.87 \n"
          ]
        },
        {
          "output_type": "display_data",
          "data": {
            "text/plain": [
              "[1/390]   0%|           [00:00<?]"
            ],
            "application/vnd.jupyter.widget-view+json": {
              "version_major": 2,
              "version_minor": 0,
              "model_id": "2017042a216c4d5181d5e8aefcca8aa1"
            }
          },
          "metadata": {}
        },
        {
          "output_type": "stream",
          "name": "stdout",
          "text": [
            "Train - Epoch: 89 Loss: 0.00\n",
            "Valid - Epoch: 89 Acc: 0.9447 Loss: 0.04 BCE: 0.04 GP: 0.87 \n"
          ]
        },
        {
          "output_type": "display_data",
          "data": {
            "text/plain": [
              "[1/390]   0%|           [00:00<?]"
            ],
            "application/vnd.jupyter.widget-view+json": {
              "version_major": 2,
              "version_minor": 0,
              "model_id": "97fbbe4924fe4e1aaa8939dcdf08256c"
            }
          },
          "metadata": {}
        },
        {
          "output_type": "stream",
          "name": "stdout",
          "text": [
            "Train - Epoch: 90 Loss: 0.00\n",
            "Valid - Epoch: 90 Acc: 0.9456 Loss: 0.04 BCE: 0.04 GP: 0.87 \n"
          ]
        },
        {
          "output_type": "display_data",
          "data": {
            "text/plain": [
              "[1/390]   0%|           [00:00<?]"
            ],
            "application/vnd.jupyter.widget-view+json": {
              "version_major": 2,
              "version_minor": 0,
              "model_id": "7bd3a0ab9c2f4d36b32b7489d937203d"
            }
          },
          "metadata": {}
        },
        {
          "output_type": "stream",
          "name": "stdout",
          "text": [
            "Train - Epoch: 91 Loss: 0.00\n",
            "Valid - Epoch: 91 Acc: 0.9454 Loss: 0.04 BCE: 0.04 GP: 0.87 \n"
          ]
        },
        {
          "output_type": "display_data",
          "data": {
            "text/plain": [
              "[1/390]   0%|           [00:00<?]"
            ],
            "application/vnd.jupyter.widget-view+json": {
              "version_major": 2,
              "version_minor": 0,
              "model_id": "ec4d261b7b964dd09ed192b44aa06a4b"
            }
          },
          "metadata": {}
        },
        {
          "output_type": "stream",
          "name": "stdout",
          "text": [
            "Train - Epoch: 92 Loss: 0.00\n",
            "Valid - Epoch: 92 Acc: 0.9461 Loss: 0.04 BCE: 0.04 GP: 0.87 \n"
          ]
        },
        {
          "output_type": "display_data",
          "data": {
            "text/plain": [
              "[1/390]   0%|           [00:00<?]"
            ],
            "application/vnd.jupyter.widget-view+json": {
              "version_major": 2,
              "version_minor": 0,
              "model_id": "a55bec87bdf24a3f828f0ddda68d34b8"
            }
          },
          "metadata": {}
        },
        {
          "output_type": "stream",
          "name": "stdout",
          "text": [
            "Train - Epoch: 93 Loss: 0.00\n",
            "Valid - Epoch: 93 Acc: 0.9457 Loss: 0.04 BCE: 0.04 GP: 0.87 \n"
          ]
        },
        {
          "output_type": "display_data",
          "data": {
            "text/plain": [
              "[1/390]   0%|           [00:00<?]"
            ],
            "application/vnd.jupyter.widget-view+json": {
              "version_major": 2,
              "version_minor": 0,
              "model_id": "b9f93482a0f14b89a821da1d45fde0b5"
            }
          },
          "metadata": {}
        },
        {
          "output_type": "stream",
          "name": "stdout",
          "text": [
            "Train - Epoch: 94 Loss: 0.00\n",
            "Valid - Epoch: 94 Acc: 0.9461 Loss: 0.04 BCE: 0.04 GP: 0.87 \n"
          ]
        },
        {
          "output_type": "display_data",
          "data": {
            "text/plain": [
              "[1/390]   0%|           [00:00<?]"
            ],
            "application/vnd.jupyter.widget-view+json": {
              "version_major": 2,
              "version_minor": 0,
              "model_id": "40834e3b93d94b7594b062d57883740c"
            }
          },
          "metadata": {}
        },
        {
          "output_type": "stream",
          "name": "stdout",
          "text": [
            "Train - Epoch: 95 Loss: 0.00\n",
            "Valid - Epoch: 95 Acc: 0.9451 Loss: 0.04 BCE: 0.04 GP: 0.87 \n"
          ]
        },
        {
          "output_type": "display_data",
          "data": {
            "text/plain": [
              "[1/390]   0%|           [00:00<?]"
            ],
            "application/vnd.jupyter.widget-view+json": {
              "version_major": 2,
              "version_minor": 0,
              "model_id": "81eb9eb9448e4bd296ba997b84cef2ed"
            }
          },
          "metadata": {}
        },
        {
          "output_type": "stream",
          "name": "stdout",
          "text": [
            "Train - Epoch: 96 Loss: 0.00\n",
            "Files already downloaded and verified\n",
            "Files already downloaded and verified\n",
            "Downloading http://ufldl.stanford.edu/housenumbers/train_32x32.mat to ./data/SVHN/train_32x32.mat\n"
          ]
        },
        {
          "output_type": "display_data",
          "data": {
            "text/plain": [
              "  0%|          | 0/182040794 [00:00<?, ?it/s]"
            ],
            "application/vnd.jupyter.widget-view+json": {
              "version_major": 2,
              "version_minor": 0,
              "model_id": "e1d40487ba2842ba9ede25b7825c9c6d"
            }
          },
          "metadata": {}
        },
        {
          "output_type": "stream",
          "name": "stdout",
          "text": [
            "Downloading http://ufldl.stanford.edu/housenumbers/test_32x32.mat to ./data/SVHN/test_32x32.mat\n"
          ]
        },
        {
          "output_type": "display_data",
          "data": {
            "text/plain": [
              "  0%|          | 0/64275384 [00:00<?, ?it/s]"
            ],
            "application/vnd.jupyter.widget-view+json": {
              "version_major": 2,
              "version_minor": 0,
              "model_id": "2dd3bb78fe634817bedea0fdf3988a04"
            }
          },
          "metadata": {}
        },
        {
          "output_type": "stream",
          "name": "stdout",
          "text": [
            "Test Accuracy: 0.9449, AUROC: 0.7747360114474493\n"
          ]
        },
        {
          "output_type": "stream",
          "name": "stderr",
          "text": [
            "/usr/local/lib/python3.7/dist-packages/torch/utils/data/dataloader.py:490: UserWarning: This DataLoader will create 4 worker processes in total. Our suggested max number of worker in current system is 2, which is smaller than what this DataLoader is going to create. Please be aware that excessive worker creation might get DataLoader running slow or even freeze, lower the worker number to avoid potential slowness/freeze if necessary.\n",
            "  cpuset_checked))\n"
          ]
        },
        {
          "output_type": "stream",
          "name": "stdout",
          "text": [
            "AUROC - uncertainty: 0.8781629106797232\n"
          ]
        },
        {
          "output_type": "stream",
          "name": "stderr",
          "text": [
            "/usr/local/lib/python3.7/dist-packages/torch/utils/data/dataloader.py:490: UserWarning: This DataLoader will create 4 worker processes in total. Our suggested max number of worker in current system is 2, which is smaller than what this DataLoader is going to create. Please be aware that excessive worker creation might get DataLoader running slow or even freeze, lower the worker number to avoid potential slowness/freeze if necessary.\n",
            "  cpuset_checked))\n"
          ]
        },
        {
          "output_type": "stream",
          "name": "stdout",
          "text": [
            "Valid - Epoch: 96 Acc: 0.9449 Loss: 0.04 BCE: 0.04 GP: 0.87 \n"
          ]
        },
        {
          "output_type": "display_data",
          "data": {
            "text/plain": [
              "[1/390]   0%|           [00:00<?]"
            ],
            "application/vnd.jupyter.widget-view+json": {
              "version_major": 2,
              "version_minor": 0,
              "model_id": "88b8dd6bba8d4830ad2e6cdeae71a003"
            }
          },
          "metadata": {}
        },
        {
          "output_type": "stream",
          "name": "stdout",
          "text": [
            "Train - Epoch: 97 Loss: 0.00\n",
            "Files already downloaded and verified\n",
            "Files already downloaded and verified\n",
            "Using downloaded and verified file: ./data/SVHN/train_32x32.mat\n",
            "Using downloaded and verified file: ./data/SVHN/test_32x32.mat\n",
            "Test Accuracy: 0.9446, AUROC: 0.7741550053779963\n"
          ]
        },
        {
          "output_type": "stream",
          "name": "stderr",
          "text": [
            "/usr/local/lib/python3.7/dist-packages/torch/utils/data/dataloader.py:490: UserWarning: This DataLoader will create 4 worker processes in total. Our suggested max number of worker in current system is 2, which is smaller than what this DataLoader is going to create. Please be aware that excessive worker creation might get DataLoader running slow or even freeze, lower the worker number to avoid potential slowness/freeze if necessary.\n",
            "  cpuset_checked))\n"
          ]
        },
        {
          "output_type": "stream",
          "name": "stdout",
          "text": [
            "AUROC - uncertainty: 0.8809122880504117\n"
          ]
        },
        {
          "output_type": "stream",
          "name": "stderr",
          "text": [
            "/usr/local/lib/python3.7/dist-packages/torch/utils/data/dataloader.py:490: UserWarning: This DataLoader will create 4 worker processes in total. Our suggested max number of worker in current system is 2, which is smaller than what this DataLoader is going to create. Please be aware that excessive worker creation might get DataLoader running slow or even freeze, lower the worker number to avoid potential slowness/freeze if necessary.\n",
            "  cpuset_checked))\n"
          ]
        },
        {
          "output_type": "stream",
          "name": "stdout",
          "text": [
            "Valid - Epoch: 97 Acc: 0.9446 Loss: 0.04 BCE: 0.04 GP: 0.87 \n"
          ]
        },
        {
          "output_type": "display_data",
          "data": {
            "text/plain": [
              "[1/390]   0%|           [00:00<?]"
            ],
            "application/vnd.jupyter.widget-view+json": {
              "version_major": 2,
              "version_minor": 0,
              "model_id": "c2d2a45e1adc4380a329e9e604bc01d5"
            }
          },
          "metadata": {}
        },
        {
          "output_type": "stream",
          "name": "stdout",
          "text": [
            "Train - Epoch: 98 Loss: 0.00\n",
            "Files already downloaded and verified\n",
            "Files already downloaded and verified\n",
            "Using downloaded and verified file: ./data/SVHN/train_32x32.mat\n",
            "Using downloaded and verified file: ./data/SVHN/test_32x32.mat\n",
            "Test Accuracy: 0.9452, AUROC: 0.753234801398279\n"
          ]
        },
        {
          "output_type": "stream",
          "name": "stderr",
          "text": [
            "/usr/local/lib/python3.7/dist-packages/torch/utils/data/dataloader.py:490: UserWarning: This DataLoader will create 4 worker processes in total. Our suggested max number of worker in current system is 2, which is smaller than what this DataLoader is going to create. Please be aware that excessive worker creation might get DataLoader running slow or even freeze, lower the worker number to avoid potential slowness/freeze if necessary.\n",
            "  cpuset_checked))\n"
          ]
        },
        {
          "output_type": "stream",
          "name": "stdout",
          "text": [
            "AUROC - uncertainty: 0.8743405018364012\n"
          ]
        },
        {
          "output_type": "stream",
          "name": "stderr",
          "text": [
            "/usr/local/lib/python3.7/dist-packages/torch/utils/data/dataloader.py:490: UserWarning: This DataLoader will create 4 worker processes in total. Our suggested max number of worker in current system is 2, which is smaller than what this DataLoader is going to create. Please be aware that excessive worker creation might get DataLoader running slow or even freeze, lower the worker number to avoid potential slowness/freeze if necessary.\n",
            "  cpuset_checked))\n"
          ]
        },
        {
          "output_type": "stream",
          "name": "stdout",
          "text": [
            "Valid - Epoch: 98 Acc: 0.9452 Loss: 0.04 BCE: 0.04 GP: 0.87 \n"
          ]
        },
        {
          "output_type": "display_data",
          "data": {
            "text/plain": [
              "[1/390]   0%|           [00:00<?]"
            ],
            "application/vnd.jupyter.widget-view+json": {
              "version_major": 2,
              "version_minor": 0,
              "model_id": "ee4e7e1037cf46079a026e70222bd5db"
            }
          },
          "metadata": {}
        },
        {
          "output_type": "stream",
          "name": "stdout",
          "text": [
            "Train - Epoch: 99 Loss: 0.00\n",
            "Files already downloaded and verified\n",
            "Files already downloaded and verified\n",
            "Using downloaded and verified file: ./data/SVHN/train_32x32.mat\n",
            "Using downloaded and verified file: ./data/SVHN/test_32x32.mat\n",
            "Test Accuracy: 0.944, AUROC: 0.7600444702673632\n"
          ]
        },
        {
          "output_type": "stream",
          "name": "stderr",
          "text": [
            "/usr/local/lib/python3.7/dist-packages/torch/utils/data/dataloader.py:490: UserWarning: This DataLoader will create 4 worker processes in total. Our suggested max number of worker in current system is 2, which is smaller than what this DataLoader is going to create. Please be aware that excessive worker creation might get DataLoader running slow or even freeze, lower the worker number to avoid potential slowness/freeze if necessary.\n",
            "  cpuset_checked))\n"
          ]
        },
        {
          "output_type": "stream",
          "name": "stdout",
          "text": [
            "AUROC - uncertainty: 0.8786075590193705\n"
          ]
        },
        {
          "output_type": "stream",
          "name": "stderr",
          "text": [
            "/usr/local/lib/python3.7/dist-packages/torch/utils/data/dataloader.py:490: UserWarning: This DataLoader will create 4 worker processes in total. Our suggested max number of worker in current system is 2, which is smaller than what this DataLoader is going to create. Please be aware that excessive worker creation might get DataLoader running slow or even freeze, lower the worker number to avoid potential slowness/freeze if necessary.\n",
            "  cpuset_checked))\n"
          ]
        },
        {
          "output_type": "stream",
          "name": "stdout",
          "text": [
            "Valid - Epoch: 99 Acc: 0.9440 Loss: 0.04 BCE: 0.04 GP: 0.87 \n"
          ]
        },
        {
          "output_type": "display_data",
          "data": {
            "text/plain": [
              "[1/390]   0%|           [00:00<?]"
            ],
            "application/vnd.jupyter.widget-view+json": {
              "version_major": 2,
              "version_minor": 0,
              "model_id": "76ce3a47108f4f5a978005b38138cb74"
            }
          },
          "metadata": {}
        },
        {
          "output_type": "stream",
          "name": "stdout",
          "text": [
            "Train - Epoch: 100 Loss: 0.00\n",
            "Files already downloaded and verified\n",
            "Files already downloaded and verified\n",
            "Using downloaded and verified file: ./data/SVHN/train_32x32.mat\n",
            "Using downloaded and verified file: ./data/SVHN/test_32x32.mat\n",
            "Test Accuracy: 0.9448, AUROC: 0.7609853295943454\n"
          ]
        },
        {
          "output_type": "stream",
          "name": "stderr",
          "text": [
            "/usr/local/lib/python3.7/dist-packages/torch/utils/data/dataloader.py:490: UserWarning: This DataLoader will create 4 worker processes in total. Our suggested max number of worker in current system is 2, which is smaller than what this DataLoader is going to create. Please be aware that excessive worker creation might get DataLoader running slow or even freeze, lower the worker number to avoid potential slowness/freeze if necessary.\n",
            "  cpuset_checked))\n"
          ]
        },
        {
          "output_type": "stream",
          "name": "stdout",
          "text": [
            "AUROC - uncertainty: 0.8809513400581674\n"
          ]
        },
        {
          "output_type": "stream",
          "name": "stderr",
          "text": [
            "/usr/local/lib/python3.7/dist-packages/torch/utils/data/dataloader.py:490: UserWarning: This DataLoader will create 4 worker processes in total. Our suggested max number of worker in current system is 2, which is smaller than what this DataLoader is going to create. Please be aware that excessive worker creation might get DataLoader running slow or even freeze, lower the worker number to avoid potential slowness/freeze if necessary.\n",
            "  cpuset_checked))\n"
          ]
        },
        {
          "output_type": "stream",
          "name": "stdout",
          "text": [
            "Valid - Epoch: 100 Acc: 0.9448 Loss: 0.04 BCE: 0.04 GP: 0.87 \n"
          ]
        },
        {
          "output_type": "execute_result",
          "data": {
            "text/plain": [
              "State:\n",
              "\titeration: 39000\n",
              "\tepoch: 100\n",
              "\tepoch_length: 390\n",
              "\tmax_epochs: 100\n",
              "\toutput: 0.0012262339005246758\n",
              "\tbatch: <class 'list'>\n",
              "\tmetrics: <class 'dict'>\n",
              "\tdataloader: <class 'torch.utils.data.dataloader.DataLoader'>\n",
              "\tseed: <class 'NoneType'>\n",
              "\ttimes: <class 'dict'>"
            ]
          },
          "metadata": {},
          "execution_count": 10
        }
      ],
      "source": [
        "architecture=\"ResNet18\" #or \"WRN\"\n",
        "batch_size=128\n",
        "length_scale=0.1     #\"Length scale of RBF kernel (default: 0.1)\",\n",
        "centroid_size=None\n",
        "learning_rate=0.05\n",
        "l_gradient_penalty=0\n",
        "gamma=0.999 #Decay factor for exponential average\n",
        "weight_decay=5e-4\n",
        "final_model=True\n",
        "output_dir=\"results\"\n",
        "\n",
        "writer = SummaryWriter(log_dir=f\"runs/{output_dir}\")\n",
        "\n",
        "ds = all_datasets[\"CIFAR10\"]()\n",
        "input_size, num_classes, dataset, test_dataset = ds\n",
        "\n",
        "idx = list(range(len(dataset)))\n",
        "random.shuffle(idx)\n",
        "\n",
        "if final_model:\n",
        "    train_dataset = dataset\n",
        "    val_dataset = test_dataset\n",
        "else:\n",
        "    val_size = int(len(dataset) * 0.8)\n",
        "    train_dataset = torch.utils.data.Subset(dataset, idx[:val_size])\n",
        "    val_dataset = torch.utils.data.Subset(dataset, idx[val_size:])\n",
        "\n",
        "    val_dataset.transform = (\n",
        "        test_dataset.transform\n",
        "    )  # Test time preprocessing for validation\n",
        "\n",
        "if architecture == \"WRN\":\n",
        "    model_output_size = 640\n",
        "    epochs = 200\n",
        "    milestones = [60, 120, 160]\n",
        "    feature_extractor = WideResNet()\n",
        "elif architecture == \"ResNet18\":\n",
        "    model_output_size = 512\n",
        "    epochs = 100\n",
        "    milestones = [25, 50, 75]\n",
        "    feature_extractor = resnet18()\n",
        "\n",
        "    # Adapted resnet from:\n",
        "    # https://github.com/kuangliu/pytorch-cifar/blob/master/models/resnet.py\n",
        "    feature_extractor.conv1 = torch.nn.Conv2d(\n",
        "        3, 64, kernel_size=3, stride=1, padding=1, bias=False\n",
        "    )\n",
        "    feature_extractor.maxpool = torch.nn.Identity()\n",
        "    feature_extractor.fc = torch.nn.Identity()\n",
        "elif architecture == \"ResNet34\":\n",
        "    model_output_size = 512\n",
        "    epochs = 100\n",
        "    milestones = [25, 50, 75]\n",
        "    feature_extractor = resnet34()\n",
        "    feature_extractor.conv1 = torch.nn.Conv2d(\n",
        "        3, 64, kernel_size=2, stride=1, padding=1, bias=False\n",
        "    )\n",
        "    feature_extractor.maxpool = torch.nn.Identity()\n",
        "    feature_extractor.fc = torch.nn.Identity()\n",
        "if centroid_size is None:\n",
        "    centroid_size = model_output_size\n",
        "\n",
        "model = ResNet_DUQ(\n",
        "    feature_extractor,\n",
        "    num_classes,\n",
        "    centroid_size,\n",
        "    model_output_size,\n",
        "    length_scale,\n",
        "    gamma,\n",
        ")\n",
        "model = model.cuda()\n",
        "\n",
        "optimizer = torch.optim.SGD(    model.parameters(), lr=learning_rate, momentum=0.9, weight_decay=weight_decay)\n",
        "#optimizer = torch.optim.Adam(model.parameters(), lr=learning_rate,weight_decay=weight_decay)\n",
        "\n",
        "scheduler = torch.optim.lr_scheduler.MultiStepLR(\n",
        "    optimizer, milestones=milestones, gamma=0.2\n",
        ")\n",
        "\n",
        "def calc_gradients_input(x, y_pred):\n",
        "    gradients = torch.autograd.grad(\n",
        "        outputs=y_pred,\n",
        "        inputs=x,\n",
        "        grad_outputs=torch.ones_like(y_pred),\n",
        "        create_graph=True,\n",
        "    )[0]\n",
        "\n",
        "    gradients = gradients.flatten(start_dim=1)\n",
        "\n",
        "    return gradients\n",
        "\n",
        "def calc_gradient_penalty(x, y_pred):\n",
        "    gradients = calc_gradients_input(x, y_pred)\n",
        "\n",
        "    # L2 norm\n",
        "    grad_norm = gradients.norm(2, dim=1)\n",
        "\n",
        "    # Two sided penalty\n",
        "    gradient_penalty = ((grad_norm - 1) ** 2).mean()\n",
        "\n",
        "    return gradient_penalty\n",
        "\n",
        "def step(engine, batch):\n",
        "    model.train()\n",
        "\n",
        "    optimizer.zero_grad()\n",
        "\n",
        "    x, y = batch\n",
        "    x, y = x.cuda(), y.cuda()\n",
        "\n",
        "    x.requires_grad_(True)\n",
        "\n",
        "    y_pred = model(x)\n",
        "\n",
        "    y = F.one_hot(y, num_classes).float()\n",
        "\n",
        "    loss = F.binary_cross_entropy(y_pred, y, reduction=\"mean\")\n",
        "\n",
        "    if l_gradient_penalty > 0:\n",
        "        gp = calc_gradient_penalty(x, y_pred)\n",
        "        loss += l_gradient_penalty * gp\n",
        "\n",
        "    loss.backward()\n",
        "    optimizer.step()\n",
        "\n",
        "    x.requires_grad_(False)\n",
        "\n",
        "    with torch.no_grad():\n",
        "        model.eval()\n",
        "        model.update_embeddings(x, y)\n",
        "\n",
        "    return loss.item()\n",
        "\n",
        "def eval_step(engine, batch):\n",
        "    model.eval()\n",
        "\n",
        "    x, y = batch\n",
        "    x, y = x.cuda(), y.cuda()\n",
        "\n",
        "    x.requires_grad_(True)\n",
        "\n",
        "    y_pred = model(x)\n",
        "\n",
        "    return {\"x\": x, \"y\": y, \"y_pred\": y_pred}\n",
        "\n",
        "trainer = Engine(step)\n",
        "evaluator = Engine(eval_step)\n",
        "\n",
        "metric = Average()\n",
        "metric.attach(trainer, \"loss\")\n",
        "\n",
        "metric = Accuracy(output_transform=lambda out: (out[\"y_pred\"], out[\"y\"]))\n",
        "metric.attach(evaluator, \"accuracy\")\n",
        "\n",
        "def bce_output_transform(out):\n",
        "    return (out[\"y_pred\"], F.one_hot(out[\"y\"], num_classes).float())\n",
        "\n",
        "metric = Loss(F.binary_cross_entropy, output_transform=bce_output_transform)\n",
        "metric.attach(evaluator, \"bce\")\n",
        "\n",
        "metric = Loss(\n",
        "    calc_gradient_penalty, output_transform=lambda out: (out[\"x\"], out[\"y_pred\"])\n",
        ")\n",
        "metric.attach(evaluator, \"gradient_penalty\")\n",
        "\n",
        "pbar = ProgressBar(dynamic_ncols=True)\n",
        "pbar.attach(trainer)\n",
        "\n",
        "kwargs = {\"num_workers\": 4, \"pin_memory\": True}\n",
        "\n",
        "train_loader = torch.utils.data.DataLoader(\n",
        "    train_dataset, batch_size=batch_size, shuffle=True, drop_last=True, **kwargs\n",
        ")\n",
        "\n",
        "val_loader = torch.utils.data.DataLoader(\n",
        "    val_dataset, batch_size=batch_size, shuffle=False, **kwargs\n",
        ")\n",
        "\n",
        "test_loader = torch.utils.data.DataLoader(\n",
        "    test_dataset, batch_size=batch_size, shuffle=False, **kwargs\n",
        ")\n",
        "\n",
        "\n",
        "@trainer.on(Events.EPOCH_COMPLETED)\n",
        "def log_results(trainer):\n",
        "    metrics = trainer.state.metrics\n",
        "    loss = metrics[\"loss\"]\n",
        "\n",
        "    print(f\"Train - Epoch: {trainer.state.epoch} Loss: {loss:.2f}\")\n",
        "\n",
        "    writer.add_scalar(\"Loss/train\", loss, trainer.state.epoch)\n",
        "\n",
        "    if trainer.state.epoch > (epochs - 5):\n",
        "\n",
        "        accuracy, auroc = get_cifar_svhn_ood(model)\n",
        "        print(f\"Test Accuracy: {accuracy}, AUROC: {auroc}\")\n",
        "        writer.add_scalar(\"OoD/test_accuracy\", accuracy, trainer.state.epoch)\n",
        "        writer.add_scalar(\"OoD/roc_auc\", auroc, trainer.state.epoch)\n",
        "\n",
        "        accuracy, auroc = get_auroc_classification(val_dataset, model)\n",
        "        print(f\"AUROC - uncertainty: {auroc}\")\n",
        "        writer.add_scalar(\"OoD/val_accuracy\", accuracy, trainer.state.epoch)\n",
        "        writer.add_scalar(\"OoD/roc_auc_classification\", auroc, trainer.state.epoch)\n",
        "\n",
        "    evaluator.run(val_loader)\n",
        "    metrics = evaluator.state.metrics\n",
        "    acc = metrics[\"accuracy\"]\n",
        "    bce = metrics[\"bce\"]\n",
        "    GP = metrics[\"gradient_penalty\"]\n",
        "    loss = bce + l_gradient_penalty * GP\n",
        "\n",
        "    print(\n",
        "        (\n",
        "            f\"Valid - Epoch: {trainer.state.epoch} \"\n",
        "            f\"Acc: {acc:.4f} \"\n",
        "            f\"Loss: {loss:.2f} \"\n",
        "            f\"BCE: {bce:.2f} \"\n",
        "            f\"GP: {GP:.2f} \"\n",
        "        )\n",
        "    )\n",
        "\n",
        "    writer.add_scalar(\"Loss/valid\", loss, trainer.state.epoch)\n",
        "    writer.add_scalar(\"BCE/valid\", bce, trainer.state.epoch)\n",
        "    writer.add_scalar(\"GP/valid\", GP, trainer.state.epoch)\n",
        "    writer.add_scalar(\"Accuracy/valid\", acc, trainer.state.epoch)\n",
        "\n",
        "    scheduler.step()\n",
        "\n",
        "trainer.run(train_loader, max_epochs=epochs)\n",
        "\n",
        "\n"
      ]
    },
    {
      "cell_type": "code",
      "execution_count": null,
      "metadata": {
        "id": "jubszinh0JRz",
        "colab": {
          "base_uri": "https://localhost:8080/"
        },
        "outputId": "9c5310f7-70da-4643-960e-d8161ed01b56"
      },
      "outputs": [
        {
          "output_type": "stream",
          "name": "stdout",
          "text": [
            "Files already downloaded and verified\n",
            "Files already downloaded and verified\n",
            "Using downloaded and verified file: ./data/SVHN/train_32x32.mat\n",
            "Using downloaded and verified file: ./data/SVHN/test_32x32.mat\n"
          ]
        },
        {
          "output_type": "stream",
          "name": "stderr",
          "text": [
            "/usr/local/lib/python3.7/dist-packages/torch/utils/data/dataloader.py:490: UserWarning: This DataLoader will create 4 worker processes in total. Our suggested max number of worker in current system is 2, which is smaller than what this DataLoader is going to create. Please be aware that excessive worker creation might get DataLoader running slow or even freeze, lower the worker number to avoid potential slowness/freeze if necessary.\n",
            "  cpuset_checked))\n"
          ]
        },
        {
          "output_type": "stream",
          "name": "stdout",
          "text": [
            "Test Accuracy: 0.9448, AUROC: 0.7609853295943454\n"
          ]
        },
        {
          "output_type": "stream",
          "name": "stderr",
          "text": [
            "/usr/local/lib/python3.7/dist-packages/torch/utils/data/dataloader.py:490: UserWarning: This DataLoader will create 4 worker processes in total. Our suggested max number of worker in current system is 2, which is smaller than what this DataLoader is going to create. Please be aware that excessive worker creation might get DataLoader running slow or even freeze, lower the worker number to avoid potential slowness/freeze if necessary.\n",
            "  cpuset_checked))\n"
          ]
        },
        {
          "output_type": "stream",
          "name": "stdout",
          "text": [
            "AUROC - uncertainty: 0.8809513400581674\n"
          ]
        }
      ],
      "source": [
        "accuracy, auroc = get_cifar_svhn_ood(model)\n",
        "print(f\"Test Accuracy: {accuracy}, AUROC: {auroc}\")\n",
        "writer.add_scalar(\"OoD/test_accuracy\", accuracy, trainer.state.epoch)\n",
        "writer.add_scalar(\"OoD/roc_auc\", auroc, trainer.state.epoch)\n",
        "\n",
        "accuracy, auroc = get_auroc_classification(val_dataset, model)\n",
        "print(f\"AUROC - uncertainty: {auroc}\")\n",
        "writer.add_scalar(\"OoD/val_accuracy\", accuracy, trainer.state.epoch)\n",
        "writer.add_scalar(\"OoD/roc_auc_classification\", auroc, trainer.state.epoch)"
      ]
    },
    {
      "cell_type": "code",
      "source": [],
      "metadata": {
        "id": "fj9WIWgpGEaf"
      },
      "execution_count": null,
      "outputs": []
    },
    {
      "cell_type": "markdown",
      "source": [
        "### reproduction $\\lambda=0.5$"
      ],
      "metadata": {
        "id": "1Uc8Cpu-HA6o"
      }
    },
    {
      "cell_type": "code",
      "execution_count": null,
      "metadata": {
        "colab": {
          "base_uri": "https://localhost:8080/",
          "height": 1000,
          "referenced_widgets": [
            "c6f831d364474b429568b7b08b62d642",
            "f94821cfc59b40dca08ef1266b373619",
            "8764c858c07140e487cf5f251eb582ee",
            "327cd57eaeb4470ea8b3c1973133b8ac",
            "c42f3336cdb1424ab39eba53a29f9ba5",
            "696dd5c529f64bfcbcac660b576adfa8",
            "1cc7ab264c6b45ff858e43ed3478f215",
            "84d57f7f6b124815ab4854a0f405511a",
            "4cdbddcdd1f44049a957b48d775f7345",
            "76c579d78b67420fb9993714c7a7d1b2",
            "5eed8db87c4640b792228cd98cdac793",
            "37b0999ea5ef4fd0aaefbaae6067d5d6",
            "35615f1efc8844f09e2dc8386d9221ef",
            "ecaaaa7c81494eec88e39f213672d417",
            "ceac9bedcb304811a73126812079ca00",
            "59ea1e6fa51343f0a54fcb73ce4bcb52",
            "e14e8e68e99241a89b2c1b5717cf38db",
            "1794b6f68b414a96a57e3bde57d924f4",
            "a7985b9c3a2a4e0496b53825b9a455b9",
            "505a9a70b06145e69dd1f86cce0ae2a9",
            "5302695fef664846a25607d792fcc2c2",
            "adae5a306c234b1c83fb5343c30cb2fb",
            "f4ae5fe2e73343e5a94e4e9aa16e75bf",
            "4c7710db3b924363b6a5e93c9de81dbf",
            "259147329d184860af3af4247a820857",
            "926511508ba64c71b0ed0b1a45646765",
            "77f9d21c9d65458ea3bf001089a55b31",
            "ab3216923a844424a30a1bffa858e0d5",
            "14cfbee8dae54ae1b52d3fa5b1b254cd",
            "06bc172b26e54730b2888eb4fa97fdb1",
            "c64fae726ade45f391e9a68c2edeefb5",
            "8b7522ab8bb349e0b6344f0223c1578e",
            "f59c6ce3f6cd4810b93f2805cde32204",
            "8adea66a720643e2975db79e7144a6fd",
            "f8eba6de5d904191b9bc9f616bba564d",
            "740d78edcf8344818dda96a66e7aba8f",
            "86f55a08a4ce4ed1b2d078c293d38c13",
            "d529b1072bf64e9596c74dea6f6dc9f3",
            "677534f01e8445b99db9751a8bb844c0",
            "cbee9abdff884009b7ac82b0aef2f085",
            "3bf4073e0022424c94afcb5c95ef4ad0",
            "ce832c055010425497f2f6d310c3e326",
            "13cd93bbb9e5407a9e2035decb1c0ed4",
            "bed401a92951410d90fb696eef7f4fe5",
            "83ddd943fda84fc6bc25d394c8ad722c",
            "74c0b247698a403b931be38d77f3af8e",
            "1205a7c657d34441a11cc7c2d8edb961",
            "3d368e3f260940e69e9d0b1b3b5ea67e",
            "6afb78c7e9724421a374c297c0b09813",
            "74c9300e4fa64abba0106ba076aaf287",
            "dff310b9437f45818c7ff3039fe63976",
            "3ed57a5e63cf4b8d910a458a45622bfd",
            "9f040cb4825843d0a00b581cbc82b3b0",
            "aefe61549e024356a7c5d90e3b996305",
            "eff0bf76b5e045c588693fe5115504fe",
            "f336e7804ccc4841bc502e63c44040de",
            "5886cebaec5b4ffd9b248308802bbf17",
            "30bc72c908ca4fb58ee7201156625ce2",
            "b492ce3d9ffe4b1ab28c3dc188b7cbb1",
            "471d64c35541477a86160f7dac508d8d",
            "4a35bbfa9ff04ed981282cdb75a27645",
            "d16a67dd94da4c64a8cd7a33fbf5460b",
            "e5c76fb20cb04c72ab59636315199dfc",
            "9bf407c0a7614073be81998c6f2d8718",
            "d31aaeafaa4f4879b52da9d86b871467",
            "2d5b2ee34dda4ec8bb220aa79d9f494b",
            "41e29a179e4048eca74caabe0cc4a453",
            "c7da1c1ac81a4eb2a8898fdb04c148e6",
            "243d16c4aea74456b05198650ee59e72",
            "2c5aec050fd848b0a731b3ad218bbc83",
            "d145183c83b74fe694e5b19343b04f86",
            "0d0ae70389e74f9689f3d18e287bfac1",
            "c7d4e975db524dd1a15c4d48d2075e96",
            "9373036c605a4e97b08d495309a0756b",
            "1f2dfabbd63a4512b7658938f0622e5d",
            "bf84a7b5e70b431f9da9348477dd6c34",
            "90e89800d1a8464fa06f5cead41fec70",
            "a39047be6e274240a256797a512631d6",
            "867a8ef407234c4abad4b13f30834e0c",
            "d7436ef639fe4818947e5c7b6d02a8ae",
            "941e8d1dbc2d4f2f9dae004b1377f5e6",
            "6e68aca00f044e628994a3f1d03f980e",
            "581093f7efe644c9bc7811375659c40c",
            "4677b7bcbc104132954d43a6c7deeb7d",
            "b40d29ba96a84202b5ca7833099681f2",
            "7be13c36d7a2402882e2054a716c2876",
            "e70f0ee11d8c49b6b3e621588a215b72",
            "3c3e73f677c74acd94ad421cf3e7e3ac",
            "2a49f30d4e714a46ae60ef75e99487c1",
            "1aacbbb4c7bf4e8b89582f3f4498e0b8",
            "e72e5426ec3745f392955fac1b3dd381",
            "3e8e0c3566ca4703a3a547fa82e29580",
            "7e3e4be43e8d4610b6f6fca6ba7046a7",
            "f16258c2da444d8eb71ee7ad980af210",
            "4fb980387e7b44208cb255e2ee50304b",
            "515a4bb0cfe94e8d97c2c87a30eb0b7e",
            "3581003ac8964f649c3cbd97f240ff17",
            "339b3bbdd7ac4d58967bcd60ea952ee7",
            "66ba7299f251485f8eaac91d2c8dc5b9",
            "f7f59673338d44c7af89fa45bfa36649",
            "54b0de714d1b4330a0c2b449c8500777",
            "ea83055ab7b14e76beb1ea603af00453",
            "57f52d91dc224b7b8ccfa97615b5ab30",
            "d90cd8b50d17470491194bbac48ff8bd",
            "dad9bdf0513d4617979cb99e715378a3",
            "6163126052994473a8d4a35d969da7ba",
            "a349d36e225c4bdd9cc277661e4679eb",
            "07a0e61cef454d4d8f6f976d5ca566b0",
            "b8edea205c5e4e2b928ee61d16b5490f",
            "a32755530770426c9182db1dd794cb79",
            "08c85a6452674372beef81851e977a82",
            "eabdcfe2afe546248010db75529a975d",
            "218cd3abec924fa8b418a1db6cab4705",
            "d26b6bb23abc49278ad26916dff81bda",
            "e7bfe916f79c46649702e22d4ca93a8c",
            "6c06d0ceb6b044d38a5a491174c756de",
            "10c5bf52abe3437098f104d2e1eb6663",
            "5f41bc2ae88449d282501da2af612526",
            "5147a420278d47a8a31d08d681655705",
            "28c50596adf24a0ebd7c78d249c61875",
            "ffb8848ae6594e5c87de2ad4aaa4f9db",
            "b62e4a74541249f0ab22e82ac42f9a49",
            "69e956f5167048cf9a1d21968d78cceb",
            "bc05e515948749a9bd95dada2d4aa587",
            "e4afafef68884cb5a8fcae4840898639",
            "56e31599cf354689a599a84e43088a2c",
            "43ad597cc34542a5b69f7b1deaea9781",
            "e177fefff1c54fe89b1ce08fea3cae51",
            "820d806d13764c60bdfc1686eb0131ae",
            "a469db75b5894deab07ebea44f84cf58",
            "1ca4f020979b47979b0f239653420dae",
            "7f9f4c0055fc42faba60cb56ce240306",
            "ee8a50bb289b41afae241af14e741894",
            "d0fe84e6a1e147548a30d5bcba51b007",
            "f31238439e60475a89eeac70946348b6",
            "1ab318e6b1da4be1a9a264147216061f",
            "c4dcc923fe8741aba70a184d3a0d9ebb",
            "b319ac2205f147ecbd0664345465dc4f",
            "eaace530377e49eab2abe1863d6e53aa",
            "db06ded612e74785a86a127c2d695adc",
            "b3d3e89900074544996d959d12ba17e8",
            "65674c6a2e2b4784a29d2fa4f7ebdf58",
            "9ec011062f7e482fbea31f531aeeefb5",
            "b11734086c3e4377bc595bbcc0362970",
            "b76487dff4ce4331be05a9a82aa5fd1f",
            "67eacec3f761444c8c196cc0a908fff1",
            "e6b3752ae4ac4e31bc8dd334c67c03ac",
            "d8e84b91b85c4d53b793101cb642f5f3",
            "059c7feaf0c74ff58eb6eec16cbfd91a",
            "72cc88c2a0d14c07be2e88a6054da169",
            "98f8af0456ca46b9a569cdf655b85674",
            "465c3ac468d84642a47e6fd91c17985f",
            "ebc50e9f5e5c45efabd6564817630c8d",
            "9900ce8ba6e044578da4b2a0e7b2b7b2",
            "31225f16fa5445eda732cc92c6b99d85",
            "7d62ccacb8e5404486a427082757b1ce",
            "0b8b9bbb47c0475f84609c4de7ccd7f7",
            "3a48f2975b504a4f9a4f0129dfdc8250",
            "08b28c52e36d4663b1610914bcc288a7",
            "21470c02ff854605a2bed95c119bc34a",
            "b741ca8bbe10482794a0dc131343358a",
            "e55dc814830f4660b248b8183f191bd3",
            "9c9259a065dd4f52868fd70aa343e23e",
            "220b2d3cb80141fb8e612dba8cc78f29",
            "5bf54e8bd2ed46dfb5ee59b13b5049b1",
            "60e911230f3d447a93c515e5ee4ad448",
            "932e113b509e4acbb40504c5bfeee851",
            "2c01cb292a094735b53e49ca9e017d13",
            "be6d83304f4740bf820aeb1fe77f3a2f",
            "50c9f6a8b38744aead04ff6d527469e0",
            "aa68a208b70c4ee6892b9849a68b8507",
            "3a173d1c5abc4b01a013b52c2a88ad73",
            "f823545877b84485b80106ca337fa96f",
            "c2e6ff95edda4360ba3e9967a05ea0b6",
            "355131336c954424b8b3cb1c0eb9eeb2",
            "5152721be1134b14a88006de8ab74af3",
            "cccefaf09af445bbb4dba1aeb5193194",
            "10945172234743cca158643b1db1f2f5",
            "53d2022b4f1a4f6893016863bace8863",
            "5720870c1b844734b08aac559f3607ce",
            "4ede8a561e9d4520a4618b2704c09004",
            "14d33824e9e64455aef343fec716c51a",
            "0d41e0cd5a2541f9a30591e6f769dc5e",
            "a7c11ff67f924ed18d9d3bc4f50c1ea4",
            "e496a697f7c34ab4ac3c69881cebf4fc",
            "b0c491d4b52b4bfaa7330b32a0140300",
            "13a0e076084c4079ac85b1122ca91866",
            "7e18cae7039f4ee586c236e2cf62905a",
            "a8adff6caf1344a29b6b29eedb83ed32",
            "dc6e93cce1f94cd0a787f810a38ab90f",
            "a63d7ed82f474b66a4bfba384ccb8a86",
            "6b4752d9e868425290b342874245b717",
            "50cb9b89e1e34bf583305588111cdfd4",
            "67e3e46d309e4855b1550064da409f01",
            "9e6db76c6ba946e28c76c92a1842470e",
            "9bac61a0c56e4f99b25b872bffb631c1",
            "aae896e29a084ba3b83cc4b80b99ec55",
            "e1359db92b454b68a09a8648e3268514",
            "45d8519b128d4f689a191eff07b46ce9",
            "76851953abfe4a89906fb5942c92cd74",
            "bac2c470a3e1485884f53c22e86e3662",
            "1036afd6a6f540c09ac01b93207bcdf6",
            "4145b218bbfe426383fc14368bf14751",
            "3041d06a21d244d7bfa5f5ed0c029768",
            "e7b8f7c5ea93400dbda477fbd7a37566",
            "b013989593df4ee1a708d1276b69be6e",
            "1014eccd94544e10963fd980d500ca71",
            "001295304709456b8e67e694b6d2d467",
            "6eefebc782b544e68fcea74a58eef248",
            "0e938353b6f748c4915c92a7a0090352",
            "949a0d569eb5430485e3fec5e4e8690c",
            "9866e10be5ea4935b2abcae2f975069c",
            "e31ba886d7b441a49d192296acad2af1",
            "e7fd1a1b0bfc4ade917fc6b783ff9fa6",
            "ed42dca773ac4c21bc4bc8a44a0939c0",
            "96b8d0b7e2904bd3b458fc96850b04ba",
            "59142363759d4e20955604449f366ffa",
            "fee1763bcca64cdd9635c7c81c1e1aae",
            "092c3a3fb82e4d8d90a550d594b332dc",
            "ddc4efc31ef0494891aeecbec2bcc186",
            "7d377e7c85ee423ab9485453a2f81d78",
            "f510d75576584c3ba8b7fbd2c33b1b92",
            "fd1b76d05d8d42fdb68b48c28df1e449",
            "519c48339c664d9f9c8bb1e507455fe4",
            "d398299c494546ecad00c39a315f761f",
            "ba8fe2c304ed4196acae9c2598cec327",
            "9228b6e0799d495fb254c37ad47fc7e6",
            "c6598a5d2ffb478aafb9155cc3717603",
            "1b6a07932c4b4684804d2cdb2c61a893",
            "c57c491611a641fba090a3d5e1310500",
            "59502fd1bd094bbeb7e452f1b90cb586",
            "339b7409f3cc432b86eeec61195ac5de",
            "34820e3bc1ad4d28aa414a7c26582455",
            "eb3f6db7c0b9497c81cc403e0858ad76",
            "d56ba4f9b4314f1b841dd93ced3ed056",
            "496178084c8a474fb44deb99fbf3af12",
            "dbbe9e57193843f08345e6417c3840cd",
            "f2ca4c14a55e427c872ddc54ef896abd",
            "e1a416efec53416d92b91b1786c28d84",
            "856b571b5f7b4253bacc249f46fca9dc",
            "1a33d86c99ee414bba099921965274d9",
            "4b5f6d15a4a3499e90322329f9abcbe0",
            "305b0b0dfa10487bac4aa9288e0fe3d7",
            "c8a0aa77c8494a75a84e6aba18b0670e",
            "ca6372eab6384dbda494ee86fd40c21d",
            "ec95d8cf1e4a4d27beb0f17f27cf871c",
            "52b34d97abab410795a9778c651e5cd2",
            "e226e9f090b849f3b4af40b6cc9e7a73",
            "cfaa79dee49e4ba8b2c17584f1a81d51",
            "6f83a523031c4ce6a2297b68648361d1",
            "476aeb32f03f494aa632d76cd12ff3d3",
            "de7ca2cc99794bb6910e5ba4383b26d4",
            "1ba80024432f487ba8d6c59c08f11603",
            "d74b73c74c424e20869b7924eb2141ed",
            "69c810a8810943d099235a3434c0d6c5",
            "1b8a01f371fa4643b66ac60effeca5f8",
            "d33f946b2dff48b797b0c4763239d51b",
            "be76aec23b374c379fd01681c1f81ea6",
            "91224f2300bc47dc82ec8ed4cab6fae8",
            "0cda0254ec55407f82138b52c06a44a4",
            "6abf1ab2dd3644918bf39ffac069682c",
            "f36f5015b7a14e29952e07e2345bd013",
            "19128196999841a89e96dcc6d6dda1e1",
            "13210065a4354b1b844cc3f6a481d859",
            "f9ea32b7148e4217846f9c68215818bc",
            "804d258c80bd45fd9801603a6438d970",
            "9b7611323b574d7caea33f8bfc73c643",
            "5b44bb1bdd5646b4ba7cd6aaa5261613",
            "e72e4d66410c4ca988a3b3164bcb7f84",
            "8dccebcc607141abac919e7d948eae7b",
            "19f4ea12fbb34a2295eeeab09826ace2",
            "0b9c424c3cf746b1b3ab4cbef751eacc",
            "7c7d59f3b4b34373bc71134c72561175",
            "2ecb52ff4ba343ccb6570bf2534d36ea",
            "b98433b5bce940008e2e4b3d8b97326b",
            "61c710da99454cc791249a1d9b16ed80",
            "31fa0004b3e74dc991d582ee4fc47859",
            "88721917c5e74ba2acbcf3469540cee6",
            "dc8ab2633b424e5b892ab2a9166c27a7",
            "78263ea33b9442fcacdacd977cfa4614",
            "fb703717466d48e4b03d7bc6a03a737b",
            "9cbbd44008d045cfa4cfbe8388e0c4a0",
            "8f8f62f1b936477592eda3d8da6fe04b",
            "50f803f9a6ca4937ace6342744fd24ee",
            "72374479a6c4407fb6a08a08dd7e2df7",
            "f5bca8c31eaf4fec94f3c233766551b3",
            "9bfbe9fde92a4dc280096b15430388f9",
            "ca575ea4a6ed4c7cb382e88d4fba309b",
            "e201b580ad34411f8c36d2da9a47f8cf",
            "be7b20bac09f4a23a3e497c507af1417",
            "2981417cc9cc4a8a81e1b1318b49e06c",
            "441ba4559a3f4e2887813c95d053fa81",
            "8c5ad1472acc4cbc88123d52b1e49349",
            "7a22c589fbb644898339ab32896374ae",
            "a4e83c82dd4f4faea84d5b11fb8e88bc",
            "ec51cf9eda524f458b2554c868dd9db2",
            "4e6134bd4a34434093999ab49843b133",
            "a331caecdc0b42c3b0335487108a33bc",
            "1343340cd2714983bf74a59c25bdb96e",
            "27f7bd4612d447f191e3664be302d761",
            "cce20240fc9143489077b6c6ef1b0929",
            "0d661591a6434dd8ad760b879205db10",
            "5853d82f430e4b30acd23c8e878c6071",
            "e9bed1a9d9e7444db7629048cbb34013",
            "7dfc6e495fae4d48b5e51a4388f69412",
            "03f97fd8fa8c4c17bcbec605efc02eae",
            "97eb56981ad74fcf926d0194a4fc15be",
            "8d910059ddc245019d6d5f11d38d5857",
            "606e1dfcd1ed44f0981f94d6bbfb51fe",
            "6626c88dd23f4b9ca95f201f72fb11b8",
            "87077b61f0ac430c97a8ec49113c2d2d",
            "66b5c22c11eb4cd3a9328a64966925bc",
            "fe7b4bd315874f6097b9af17f5528963",
            "e1245f6131384c5785d517b38d0af8e8",
            "e90542165c1e4cb3aff1bf1b774aeff7",
            "267453a9641f4d01bf8960ed10dce100",
            "2ca98d513f364558b9f1a089195a5b58",
            "c21ff10acfb1476ab430d4242290b21c",
            "98395b5f5d2e401d84707781c2f5a55a",
            "783f30dfb9074fcaab360a6e25d24c04",
            "f5145d3eaa9441f799ab79bd5ce477e6",
            "1a8dd55c22d346328348eceb7333c57d",
            "cbb58c573f344d75b36a3167bdf34bec",
            "ae92ca137ae54c7186c96216ff0f2ea8",
            "8b220656c215417db1e1725293ac2a2d",
            "daf61ce06812437da8a208a1a401b254",
            "7a9df543a2324f00929a933882efe3a9",
            "5d7b706b2ac94c8e84c8ea70ee4fcb7f",
            "789a5d89429e496892c30ed7f4370c5e",
            "f3dd359fbe0c45d2becc3f28ddfafef9",
            "5c87d67bb97f4cd1a3f7f3f53485350e",
            "83dd90b42dc24d779f66e65fb4acac00",
            "32aae8d869fe4ef089b802ba3ec4236a",
            "226dc0d4cf6f490cb4be2a785ecabf06",
            "0edd1e024e0b4c02b11c34791ce4fe08",
            "fcb71023fa7043ac97893f75daaa405b",
            "4c116fe611e14588aa72aaacf4a9b492",
            "a0bd56fc2a8b4e89ae03154e03c7bb49",
            "f6f5d479eb884b26b9480642d06ddfcb",
            "a575764eb6364c45a0c62517795e44cf",
            "f960c64ad7a94a8bbbcf067bf72ad308",
            "be02915381064e809e5aafe5733a00d8",
            "0961bb601004435d9319e6dc567b6572",
            "4cad7d236f404a9f8140dba9f8506ed9",
            "c4ecb06d12894b598259ca11c44d8792",
            "3a2eefb4403b4472b75400f8ee6618ad",
            "6b426d9fa6844d928deb03df337b8f96",
            "2a7af2da07274280ab2c5bbafcc16f62",
            "b8b87aedccbd4265b0414ef56326db35",
            "e82699df565d4851bfa283320efad8d0",
            "5643538e956445b096b4d16be5ff5c7f",
            "bef68219abcc4c7e8e62c0f2deb59628",
            "9cf640aa731441f5a1186f620d8fabc1",
            "5cb6932584524f2e85e16ece4f0fbec5",
            "f62faa03f7144df5ad362c3fea0ae2f6",
            "3a9f0584017a4c42a4e5416a1d230b2e",
            "4ad4aa49a2a842449425f769c1f11b5e",
            "d72f919a3cc248f999cc43239cdc1f1c",
            "ec57ff91fa7f4a84b07e9fb3b77d8cf9",
            "89949767d69c4f3db17f333eb0fa4971",
            "94baf8918bbe4355a36d8bfc2cee170c",
            "f1f1fe1f0fae4e78b632f67216f3ab52",
            "2b04a79fe2114d01bca352696551271a",
            "5e78d3f9f2ab4607963e61965cda2683",
            "626a6231824c476885be70f06a8f325b",
            "721ba22a0f924d29b7eaa87040d27948",
            "2d84bf13dce042b48578ff698c4f7664",
            "d7cd7779c8c84b3bad67d00082041741",
            "2c6223ed383342d19dc842689fa84bd0",
            "fd5c27fae36646908e07d2db7c85ba9f",
            "b4566b9f1a1a42e3a78cc3708efde835",
            "61e494ab944646388fd06d5682765dec",
            "8173167c17f8446c9ea98c85137837be",
            "f4fc7282b55840b8bf05e5278730704a",
            "2b941bd5fb2e4144a49bb8277b0ab806",
            "4feaf240127040f18cfa4eeeca127017",
            "d3845aade251478aa659702d0a7f29e4",
            "8ab1e0da05d948f9a658c55ecead977b",
            "c16d1364363f4b67a8efaa30e732340a",
            "2387d95f9c3c4c4c9bf97d0a1e604317",
            "8ac885bf620746dd915d158748726008",
            "1b314587cb194f4586a7a46218ee57dd",
            "987a3828290947758e0aa1b36f665ac0",
            "427439a79c224612b9ca0407167d9b0b",
            "6d59bad560cc40e1bb150e82cb05f07f",
            "3d7f6a4e9695404bab955a56355c3c4a",
            "d273f4e8e148418aa048f3c647437dfa",
            "9dcfada8cc384c11a00d3789f21373c3",
            "9bf6287ec5104a1784feffb65a848ca4",
            "f9509467821844d182852512b2f415d3",
            "eaa061d124d8461eae6cb3dd0e6696d2",
            "62d099e3b5e14c73ab6fbe2e9808af24",
            "e768f60bcfff4387bc21c282fc591289",
            "365932ab622f4f0caae70ef229dd2686",
            "3ff612a8a91f482b93cea8e92e3f2ea3",
            "ffe247f367d34e819a883238120e4f08",
            "4a24e46bce3c42869167f46f67b34b03",
            "29ef6a03f93d445cbe20abea75541c8a",
            "f770b045bfa047ba952ab18e1852965e",
            "4be1028a87ff4b6490ea0ba9aab35db3",
            "2411351a3a2f4dc18b08761bede79a66",
            "46a848b93e734b779268e9b82538066c",
            "e85a6ab4c1c1409cad7f93d3e4242d1b",
            "6a7666da87d74272a4b44fcbad52ded9",
            "e050da606c3a46d29af41a29608509f9",
            "beda532576df4360aada81030b5e6f17",
            "ccc97b338141427bb6c0e4b729113906",
            "116a0ecaccba400aade63279978c7f57",
            "5372ed436e8e4b208ac3a2862921980a",
            "7bb9d9f001bd48538fdc335204308b37",
            "e39b4b9637144d1aafb9ec61a5d8bc67",
            "0baa64dc8d7b495d8fa60d524335b701",
            "430958be1da14475ac9f4798d21b0464",
            "dc195a06e0614a28ac5f53aebad0eeca",
            "2d53acb604984d35ab760b7cd9eb5123",
            "acb41edbcaa241f4bf838d14ef61e450",
            "6bc2b821e4a242468110bc4a20f24b76",
            "bd7181150f1045e8918b757cac4212a1",
            "1e5455d837314be18197336fde1bccef",
            "05c279f85dcb4b4496830e711bc5c838",
            "9d1d26115a274cb68d9f74080d75a5b1",
            "58c93869fea14871892ffac0f3f3b490",
            "3989fd505bc94c56be6ce11a074dcfd6",
            "dc2fa43f70e749379bb546d5818063fb",
            "523df2d3f72f49afb9969f86a8fb03c0",
            "78f45a8b82dc4de6af0b3af5200813f9",
            "d0a497a783854b00a9730ca34078f270",
            "006edb5708524bcc8b80c57fada20806",
            "a83bf51aee1545ff914b3c8d198f701c",
            "47cebd4c4cf7477daf97544fa7a894c6",
            "7d1f5a6f05414c738cfd7eb443c01e19",
            "feddcc69ce1142ddac1d2cb3c24f1e50",
            "174d107fee914383a657dab4cc1b2dfa",
            "75f7ec9e089b4d66a72501372d9088dc",
            "432498a10c4c40cfa45e60263697487f",
            "7746377af7c547578a00490e1d5c600d",
            "ecf2f59e96c043dbbcfd5f7817f39556",
            "53d31715c2514c0b99cc5630f5bf1b3c",
            "aa8c9f70d1444da2906a028036c7518f",
            "2b2c638ae4e64bb8ae0d3197bfea9c30",
            "c964fb91959c4329bf139e6774fd60f5",
            "bd201fd7edf9415094c3aa8c5cf83ee2",
            "e3a333b9b09c4379bdb20fe19b969a58",
            "0b08d16e981e4d4d84ef482889097ded",
            "3e3ad2b1436e40d0b9d327b36eecd8b1",
            "0bc7d035138d479e9363be1a25febe08",
            "06f25c6f1cff41938088f871f9ff40de",
            "c04aea9a985b4ba8af7bc006b0dbe799",
            "628ac9e953544e66a563288bee0e75de",
            "7af9514373e24cf0b4c666f0eb718142",
            "30a0b683b4fb481d99b2f78cb7a5bf3c",
            "47f1162b41174cb48d8b720ff3adef04",
            "c90d39435a544305b1221421d995130c",
            "606ab517c21646eb9c023259c00d8c0c",
            "64fc0e6fec0248879ad10495cd18f252",
            "ae0bd4cf5249403c8a5d31b67d9d7299",
            "08abbe0fb8d44257bc8da8a446ed1377",
            "e5cab7d7835441818af9e413712c00d7",
            "97d568a6e37a48b58b15999b88d4c636",
            "ec48aca577ee47fab33d06f7539b6588",
            "1ffb3d5ce1a64bc3a91543b1bf5eef70",
            "352a6c7ae4a64655917d884adeff22fc",
            "d35e1dd5fcc844f4a3de22546b6b302d",
            "d24a6b204c584d38987a1dece8d201f6",
            "0fed18277d764038bfae248fd435ad4b",
            "d39043312b4649f9a7f8a619d65b3189",
            "1f66b393ca7e47878b8d36160b2dcbff",
            "87a14fe7b12e4686afcb5e926a96c4dc",
            "0277dcbb6ef84a3184025e9b474bbd5e",
            "f91fcc6a3d3b44bc987353df10ed5576",
            "f26f585c63264c129ae173311e59d813",
            "2cbdd4da2be248ce81862ae76bbabe80",
            "dde0c87a2eea4a5b88ad0e4bb05ba638",
            "96fd941ef7dc4ef2a0be9b61f9f510ae",
            "384cdae517374fb6b48c793191fc01a3",
            "9205133b5b384416b30446777b29d8dd",
            "048636e2303e4387818b4b7c7dd90d0e",
            "e6a18b8c0cc6478189a16c2b28b09ccf",
            "8afdb9d6b27c4dab8726a08bb83584a3",
            "a2c7962a69a944ad8a22a28820776a18",
            "bd7814984ecd4a07979730fa6d578f24",
            "a0be4aee23624076835bb2f44905cca2",
            "fc78f01b8e1546ee8abed94d819a2b78",
            "92c4a277b26949ec9252351481a29aa1",
            "1f6977edd4e04e6eb0c947ecf69477b5",
            "82527a8045ed479aaa7a6005f4b2ccf9",
            "ec73ed16532b4004bc72348c0c38b072",
            "6fe8678b75054291b492d7cc976fca8e",
            "820a637503f6455e98421eec1e246cd9",
            "18ca2673b9b3436591be1adb18efac5a",
            "a7defcf55c834eb2b3a807b043f0172d",
            "2e1f16e9eb13479e9c8dde7af35f6068",
            "9e9412f1b75349b6b3f84d094a6c246a",
            "47a3ff0faf2e4e2994778c079d7cede3",
            "cb314f3d5eb34b10a42acde9b183fdfa",
            "e7eafce949884110b19e11fc45828272",
            "75f5c4765dc54d6682e1bd82a9aff09d",
            "7cca14cd54f5416e8efd9936217bfbca",
            "e4778859d6644b2981f5362fa2354ec3",
            "758c0917f632414780ba6e261d4fa7dd",
            "8cf131baf45749bab897aac0c9633a00",
            "ea03ead70fe64bcc986d72944f68b8a7",
            "6f3a98d009424baa9ffc45b6ac2ec79b",
            "b4b89f48647b42aaa5c1c396075442c6",
            "f88227dadd4549389974ae2178520e23",
            "56cc73b630d64de3ab785c33a54576fa",
            "3c3b3d2188ae4242bff372147bf7740e",
            "da3aa3fe24404e4da62cad6694ead8ab",
            "46e546c692c0496099a3ebd868260358",
            "f2f364eca70e421e86b1fb55544f61a6",
            "9139acd1a60c4b79abb0313b40d23cc8",
            "f0b72a9f6dd84e32b78960524e445770",
            "62c2905afea44287b5d2f0335c06cc02",
            "d8db5fe08cae42b1b156a45fc3dfc5f2",
            "92a7849705d744caa03c6b70b8a5e4cf",
            "84754a30347e4f3595dbdad762dde43f",
            "59cd58364f3a4649bf0d2b34c68373c9",
            "3e2d87b82b0e42f1a3367d0ad33c642e",
            "d069b9ec34b54b8196284f22e4e35f86",
            "8492bfe0f33f4847b4d39c2260b2b792",
            "c17c2d6050584d5b85d7ddf9bcf4101c",
            "9755772b84c84a91aa826161062c21fd",
            "2bf9ab8ca0f745f99b72a04ab8e8e647",
            "0e430117b006425a802a06cec2d7ed84",
            "6338a3aacde34aed8bcef8f64c08912d",
            "0234b70f85e748a79c669da2f8a012f9",
            "296a2d4721044d938778efe00c16774c",
            "9524c99361bd49d5a703c34c09c83eaf",
            "6987f96cba6c4796abdf8af385b5cb39",
            "e90c708fdfcc45cc8fc6a480195b1c3e",
            "4524668c385e4c4291a6cc1d8b916a3e",
            "e380e875c7c749a18ffa9606e97aec62",
            "61489fa2cc32456797f5c78b71d6b9e6",
            "8c0e89dc3a424fb9ba53e8bd12a4cc69",
            "e55fd17230404f3dbbae914e9f044073",
            "4ec4da449c614405a97b3830cccd945a",
            "07deadfcd10b45478ecf2f653100fe46",
            "1a1e44cfa28a41e2a6a0474abb2bf34e",
            "2bd1f64350ae48359e07fddf19ce0098",
            "d1a7b60786104727a045a13a9470ea08",
            "da72749e625b4454851edbc4903e9ccd",
            "c3c0b3035baf4c0f8b12a014ca2032de",
            "bcf3646c00b64ed687740720be644334",
            "ecf91fb3a8ba46f289ecf081e1f7876c",
            "9c927393657e47109a8a8614486f86a3",
            "e06f6a5b9201418c9274e922f76515de",
            "77195e42656a4baf8c953776cc31afd6",
            "9a612fe3e742429a80a007dee80d41fb",
            "9d3cc52a68484a6bbdc158661bc05423",
            "90a52c357ee44e698826cd9ef1eadd49",
            "57586cf7b516420e9c5e443d39a7dfdd",
            "52b52446d4e040788e4144586ed2bf60",
            "54dfff755e69417f9f643973a467e603",
            "055cfdf68d2f468a903ca061d8f68fc5",
            "07f078cd7fcd4e4f85e9e6a59c5ed834",
            "c5cb74a7667049c09b78cb943a473980",
            "9bb0b685fd054b70a4407085603e5236",
            "3d71d8ee2f2d48aeb773a3137e078e24",
            "da23ea5c5b6d424f8b8bd3364a27b8d8",
            "428af0d1463547088b3e53687f298f83",
            "951157ea3b9245fc92a433897cf2cdd1",
            "fd966663832b4242ae3c619d214bb578",
            "a3178d30307b4adba04ed2a230e11d85",
            "ac31a1f52ece4201b86d8ebfefcf4649",
            "839896687a404f3ab059b51234ab1e4e",
            "489332cb1c834ede8e762dfe871f1a5d",
            "e414bd78a7b846c4b791920455c1e314",
            "8f140f748bd242e1b7a027aa6cb37fc3",
            "80cbc379b3e84d60a96214bf1f4b9b50",
            "6130fd4c1dcc4e61a6615b065e99c30f",
            "0151bd542a4a42808a85185fa580faed",
            "a75022c393b44b86a2cc8b801c2fb8fb",
            "f47e223340a1475bbfdb8030de152743",
            "562b10b06d35463e84d42403a40a901c",
            "d391cd13176b405eb252ae4025930705",
            "af4a1c9cd7ed42d4ad4f630ab15347b4",
            "45ee3ef016704ecc8baf52d4714ebd62",
            "7779cd6fd5fd4ebdb5502330d919045b",
            "b337b497cf3b4821847fbf5f73027b98",
            "68e1cc31ab514007b223bb4e3f3bef5e",
            "68aea87b336145678185a6a117e3e783",
            "b3e9f0f0ffa54414a4e44ba23d7c350f",
            "fe24b6acbae142acbb0f34f2e672991e",
            "f8c7a40b2ea64e90add58a03444481a1",
            "dac8667e914a48429a4f5142a02433da",
            "17da5b907a954f82b21ad2c7afb835da",
            "7032f5d0d2444dc5b32d15d6afe7ca3b",
            "a37313f022bb46aa8a8f8b2d3f696360",
            "089e1df19aa646b1be721ab3d0c58d48",
            "17fbae335f574b62a5a7d03483a30025",
            "2e0e88f5e25c4bc8ab5fadabf2a3fb97",
            "070ae547b59b4847b81beb7ee978157c",
            "078c13942d25436791af2236a010ae83",
            "811aaa19bfee47ddaab2ee5f8d72c0b4",
            "320cfe11de994707b6a91c46add83f95",
            "299f971ca6e4462990c4c0002ce23b4f",
            "a18ac1747a8d443c838bf7feb623a7d2",
            "644d3f087c424fa78213ebc3500752a1",
            "b38a9c856391412f94f0556ad32490dd",
            "9d1665724ed0497aa58f0e8c8216701d",
            "f870897ece9c41918909ca6b51f86f79",
            "261121829aff4f3490c03eb85d2b3ee1",
            "d4bb2541cfbc48228ea897cdb79b37e5",
            "f21e3b5f08414afbbb191448532ca4bd",
            "cff01725f8f34844ab90b907c7aa18bb",
            "97919fe6395045f5a0d1d9e184314680",
            "0b05e62a1ac04562be9ccdc1cc299883",
            "c2453c63dc514177a4cecae5f0272f14",
            "138fc0fdfb904fa2b3315d4337da55bf",
            "a787efd3f33a44bcaacd9696ad9488be",
            "b190ede824704fddab5d9b8b4391d0bc",
            "7a0d1c0948924b1aaa053a7dff699e8e",
            "f1e7d8241cb0460793ab8c74af9dcdcb",
            "f5bc7e894944455ebcc312a67f4bd467",
            "8191fc57a66344ad93e61739a11b49c5",
            "7f125d38a548490db67842fe7e6cdebb",
            "22d04bae4b8c4329b71e628bc34b91f2",
            "b284fc2f63484cddb3a11c9617f15ffc",
            "87d02c2f4fe74719aa3f19723f2ed9df",
            "7943042db5214bf98ef0056dc3a0e857",
            "34b52ccc21834767b67508c76f3f4106",
            "c8521200e75d4781a5d9c31b3a93bc06",
            "6290e9941fbd4c5ca60b24de9ef76b8f",
            "fe0e77e3b8954f6d84704942b856ec23",
            "bf518d39aa7f48ecbcebbf4a686d5aaf",
            "59d62b9a719546189a2f993909d4d4b8",
            "243b56200dd241259092391632c2576a",
            "30a2114afee84157a308f1a53ec46590",
            "e39cac405cf34e1296e17e85e89384a4",
            "8607db314ffe48b7ac22fa5347cda042",
            "8487fcc0f51b46d988205f7df19a863c",
            "b078373cc2f044ca931f3ac6ff4d969b",
            "f8180cdb9b414ddbb048481ec4ae7cc7",
            "4472c27f587c4508ba991bb80e620f19",
            "6678e7f9401c41e0b72ad55b345776b7",
            "ef328cbbb3bc43db8b2f4cf07c723115",
            "4a64557f2e554a9a81ddd219a65d4df3",
            "5a23dd5480bf45a0b10247d9a6b61f2d",
            "c390077dad284df5a86474e64e703ba5",
            "8a5c4d90e7474018a3e8ffe858778320",
            "dfe230b8656b454a82790a1423468191",
            "c02be13dca4e48a9b3dbf3e3b5be4635",
            "9b99161761bf426498a6e618816fd61b",
            "6676df0f863c42eb8c446709e8157797",
            "e3109247d8f94dff8037d27dc55ffd87",
            "4d02fa57095e4f129bb2c698047b6b49",
            "7db858a1cf114ae293bccb95d252e7be",
            "7be9b339920543dc8b633295f5b56550",
            "eae7e580c63f40739eaf25d41fc87b38",
            "90317fb4e1574f8291ad5125b0f29414",
            "d1759fd680744998877835224fe5d00a",
            "11db392d33c9497b980f118a106f6df4",
            "bc835e15abcd485fabab8f3c715570b1",
            "701b235dfc024a4c8058a6f5531646c2",
            "51fd28ae40794fddbbd7807521e0199f",
            "3a4c895d486a400bbbd78ced6e9851f5",
            "c55d2e730b6a478dab0e618c10f579aa",
            "ccec26e6269e46349d6add7c5e7f4952",
            "c99ce59f3b284871ab2bda0e3cb6ae59",
            "51021182b5c64ec894d4975227fbd6df",
            "ec4553b19adc43e7ab52a16e870faddf",
            "0cbf936ee09440459ba7d74ffb5f8b18",
            "9a7639682d204319b2f539673e9d9f69",
            "95d2731ba7004d0985769b440412521e",
            "f7432850d0624ec88c47412feb2c5ec7",
            "006c98ce6e894e8e82f140a3249a622b",
            "91bb7d6ce7664bdb869cba8d030f50f1",
            "6696b1e685f04820a555be8d8fbc4c55",
            "219ea2fa8ef646599e686614444eda91",
            "f79981a936c841819bc7019b15d28485",
            "d6dcd3c217e14a5799879f43d3badb44",
            "10a988708a2a4f74ba3c5444347a25c5",
            "7a2f3e349dd84a3ab260c0e8fb038d07",
            "3369ddfbf4994d1ebc2bf05d97a868cd",
            "f666f9c0eacd456594aeba5e4bdbd401",
            "b96c3207f0dd40d5bf66281d4487eafe",
            "9dd6874c61ce4e99923e74702d57dea4",
            "891a0008ab814ea294495f1eb94d498d",
            "e089d9dd553845c08ef660cd951c5c52",
            "f777dba2e05c47999635c29e1d69c91c",
            "ef58ca7c09694a7eb1242a5f49feec10",
            "3f704a9aadf34ecd97abe6bc4ab92d85",
            "c786e010042b48eb84bcbbcb7f4e4df3",
            "e2c3775f700b4bbf9e7599c04d16f634",
            "c0f0dbc664284888b740ec231f13ed86",
            "9db01dd80a6f4c77bd1768c3e2d75867",
            "a7d5adf8b6e540a0ade25bac78935ee2",
            "686831b6b1394c4098566591d9a78845",
            "9ff5812ffd8e4ed3834a7546168909a8",
            "1980cd15455a457d977bb2290f13f255",
            "bacc0cd12fb9486cb17ff398f262130f",
            "752d42eb410c4974b520e787a193dd24",
            "7e0fc8af5a414470ba0468e1144d580e",
            "50c824f7c1704683a2ff5366c1a1c709",
            "d9b7d5748c1f45da80e8749f2b149a25",
            "309d3a8379804958bdf7bcc64f384a6f",
            "4ad4f27c93db43b4ae23897519164663",
            "c5274722ef934b7dbb352380096b83fd",
            "604237f14b4b4d48a31c2e3e63ebeb5d",
            "13f21d5d79a84ae4b2976f9abcbec6a2",
            "f80c5b3971184e649045868ad6183944",
            "24511cc0ee8b47b19e2b3b8f91f6871a",
            "0a9d320188a347dd80d22f2223d1be6e",
            "c11b21d7602f47e1b61d76f5d9daf07c",
            "4a80d978d3a347109474b6c63604e8fc",
            "c36a5a198d2041e799fcc5606359b857",
            "4d0bd36f51bc4bd09716adc031ca47bf",
            "e02f0bab8f56460ba54a74869cb47ddc",
            "b80276e1ef2544bba47339c1f8464fab",
            "f3cf63e001cb44448f8534ef6d79a824",
            "6cbf0f502aad4692a585a06597b78eba",
            "af51fbf27698445199e3d6c4ea1176da",
            "1c020f94d2664148b0cb0c27ac37af88",
            "04be092aa4d445a884d0848b7ba2098a",
            "f0ee5b2d95f64d1eb07db0be68954040",
            "1ab0267ebdf449b9b4c772a92838e27f",
            "323a3576a08d485698699ddb4878bf05",
            "5122278eb335462c91e3de322b6babba",
            "9d3289e1cc2b45ee90a554b8d45c5a5c",
            "aa31cecd8a864c43848e3c24d9351378",
            "bc35c89d24034ae9bccc3d617bb8db35",
            "f5f83d26bc804a8b9114b6d2e4d6f046",
            "c7fc20d437584ee2a98475b5d4a73873",
            "4202f117e49b4f7bb2c50648654dbfc2",
            "94e5db47c61442ffb044c27258346e71",
            "b850c5ea7c6145199663016982246b5f",
            "4f911fd3d24a499f955b7cc189a65806",
            "bf12ac3eb120424caa909e76161ea77e",
            "5e18fb915f734589900a460d17104145",
            "89767542a3904e47a003329d373c46b9",
            "83a73af6f7c84738969444ea5bfe02ba",
            "b2a4344ee269473da312955b71d2f22b",
            "218bb2553835404c830e7006427bef13",
            "148f598189d5468997a655371fdd774d",
            "6c425b7bde75495f845e31c33512466a",
            "73b882fc7eb84100b38053275d14683a",
            "8503de9d6edd47229765b7f57a0d679a",
            "a51bca33abd4450c89fefd7d3657bd99",
            "3b1b54d8e7064e24882032249d73b05a",
            "c51535b8a1c74a439b80419a0c5959cd",
            "e8913e7d803b44b1bf524460ec613990",
            "65f28c12259d4e3883a4ed8c6cfa7e3e",
            "00b7ee5d53234b5dba9f38a3c83ca878",
            "d3419df0fba7452db156a59f882897a4",
            "7d027aeb03444f3bb7c0f4163fbf53cc",
            "6c46bd10cc1649939618563974426422",
            "dd0f7a9f70824e308cf8ecef3935424f",
            "52d40ca7049043ab9f2bcfd8241bd8f2",
            "c593765ba96245c5a117032b8821f9f6",
            "1f69fb4782ed43dfa77347f6f07a4c43",
            "01034058b5f34b0ea2f5f5f3f5fb9238",
            "b31062f0bea4426bb0ab535b5b745690",
            "2d27b257e5b34c2abb2787827329949e",
            "e50751d53ab94d23836e86c76f3640d8",
            "3a24221bdd9a4dd3a800fa99a182b0d5",
            "f7b5d06478b04429b792937b0582a64f",
            "e5c762b661164cabb7e0dfcd3b5b89a0",
            "ff6bd22c75014e448d9b8a5a062c3ce5",
            "fd201e4d6d60401488af71e164c3bab3",
            "c56fbbf3c3714573bd852417a3730875",
            "86ee9837178b418586a848b40e3e6f16",
            "18e862464d6e4d07a23f9117cd4a4976",
            "495df97f6e914e0fb8fb0177389812d9",
            "66c40aa4d1964c198768e5848f6010c8",
            "5c974d89ae6246539b154c6d85ec0288",
            "3d68e8584f1a4236a70fecbd382c1485",
            "9bb80994b9104c90a4bb0a415366cbba",
            "47c5cd0734fd42d3b6508289c11261ab",
            "aec72fbe069140f292e3faebc52cf6b6",
            "0cfdb363ee2f4a38b1f124cfdb809165",
            "823b6551e7ce401a8c93ff7a8be998e8",
            "329281ce05094395b34743757db57229",
            "4fe3281ee3b8430cbec34c4efb253023",
            "6e625d5321834a099a050e2024d04206",
            "b773f43fe8c24d078e0d24bf30658027",
            "d9c4828233884443b5102c3334709181",
            "7df2890990814986b64ba7b97bb1ca7b",
            "d21e2b4dad004734a6cab030e0546492",
            "d506d8516e3f4105ad473c57df316892",
            "8282a49a007b42c3b228eaa70c55a7bc",
            "edd03132c588436eaf0f2f7a5708de91",
            "f554484eb0824680a79bc5b00ad420e5",
            "8b2eab082ab64625bfdb4c20e1ede49c",
            "26114170179740a3941da8c65a605459",
            "aa13a042de794329afe0b592e0c5a41e",
            "ef43cc613973457bb6684677c229d5fb",
            "8d864d61543e4390a411976e6fda8ff5",
            "84235b8bf6d84bd8ad76f9d073514c77",
            "2914d2396c6947ffbdb5a7a95e0427a5",
            "a19b997deaa84e70b44aac9c20f3803c",
            "e717cd5aa76a441aa01a1ba7b7b215c2",
            "e88d3abba006466697502bc0a5171539",
            "aa20c13aa6a94971b016da8e5ada181a",
            "01140acf7ca94b69825c9e44a3e71ff7",
            "50739beadfc74a509b5cd124b5174956",
            "dbdf66fbfa4647748153ac5f6228844e",
            "54c133f0ddc24e30ab7058c7f828b8cc",
            "692647bedaa441928132304e4ec772eb",
            "9bc3367cde684402a5fbd62d685b3b78",
            "c57d90ec377a4844ac66824345f931d8",
            "5b86eba4184b49fa827f5dfae140a7ff",
            "8467909aa0d4439d9cebe5699f033ecb",
            "5123e13e0ad945c38a25f67fb97771e9",
            "5e2de5f0ac3e4a45a1c8aba3a1eeff9a",
            "99c039979e36472885b052e23d99f3c0",
            "5b489f6bb678475c972bc871965738be",
            "b1579f24b5b34994ae47e7b3826dbc17",
            "bcb9a6f46c5d4c2a803fe6c71496427c",
            "fa22fa5577a54a31bd0f17d38466da3f",
            "3e90a8f5c0b14a2cb4910b339b448309",
            "94b7a167dd374089a3ab192cc4471e20",
            "0329a2410f64489c9afb04e12dd5eb4a",
            "d9092521b4ef41bc953634f967622632",
            "5e1a3d96eb534991ad17d22d6bdb5d40",
            "e6a73773637a480097f1166ba2306daf",
            "592afcb812134df7855207bedc92ff0f",
            "dad8fa17a2f9442fa0f2f43d47c1b5cc",
            "de2b0fe4503a4d14b337b6127c623bd0",
            "0f06ba9773104b23b99e5a123b487c65",
            "f57ef10f29fc4abba0f65ad2fddaefd2",
            "7ed81c75b72a4d0f8c85f44ca1b57daf",
            "2528c3271a224ed58d3f05b3af350edd",
            "14bfc0bc4eeb4edd80d341b3ff54779e",
            "517f95a7498c40e3b69245e9dbf09539",
            "728b5eac57ca459c994cc698060a71ad",
            "ab51a49deb31456685861cf5befd44f1",
            "1e305889300848e68b386b71955e2498",
            "c69679a5656d4f658c838d8a5e09b1a2",
            "551fc885940f48e7ac4d2d10206937ba",
            "101afc3da0b043658444f404fc254a50",
            "4fdae3b6d2204e98911e0acfbfb9745d",
            "09c76e03703e45a88d747ead4cc2f0d8",
            "e74084c056ab42818c693d8c872c0389",
            "bf8c70bcd0e34c1d95b879a5e49ad9f2",
            "84092692fb564821adf9803cbf39bb80",
            "5b1b6a8b5d9c432eb0811bf70fb0b09a",
            "19294fcba5cd44c8a3f3fd84924dd3d0",
            "47f819ab623645dc84b8170249bec4d3",
            "674ed9c5ee494d42b1aa6353e6390f65",
            "3ed4ad3829924fdb95a2e28fc5129b57",
            "fa4e04a43541426fbd92b4a44e819930",
            "3a79886fe82345a9a7b120c88ea5c771",
            "636e0ea23ac447519bde21035c0fdd6b",
            "d5f516b48e914039961bec3512bec856",
            "fefda8f79a10444ea0802add64d37abb",
            "4b7de20a835143e0a689adf83e7148a7",
            "8bec22e0161644aa87486063f3b4b58c",
            "3a9a35dbb28c44e4993e623bcbd4fe93",
            "e8208e3a8b894951a783d5564a2bef4a",
            "1250b8a56fed454ca4d0c802f3e33fe6",
            "9857de356e0b44449007936bdf67f5f3",
            "e2736837891c4deb9cb19305ae151c96",
            "6df6023c6e364698bdc3d5f6a734b071",
            "01093e7d6239400a87737ab714d94473",
            "bb7d8db7ec574ea7947b21ab3b879d8e",
            "ab4fabc59add44fd81a9cf4740342a15",
            "a87b70f5616947cea619f95f131f11d8",
            "a22719e7fe46489297396cb528e3cb6b",
            "28e3a19c9b15400c9341476d62e3fc1c",
            "28734f6b04da4d32a3b6c6bc9929d4d9",
            "ac67746cf1534e92bd62d2f972bbf8c7",
            "9e4c44d766b847c587f341d65369baea",
            "58c6604fe6c24634bfebe2b882691175",
            "a4e3e0a620f345a78ba6e59ff61bf999",
            "1174c3d8193043548dfd4f96581ca84f",
            "858d2ad1ea2b4893a2a3650bdb7ebe06",
            "939c644e86ad4deba48ebba6ca11359a",
            "e6d4116632a84f9495ab9ad806a1d663",
            "3969109308fd4411892c02c5e89c0586",
            "3a214b4d6ac243a2937473810f5b4570",
            "6a8bcd25daa44d0d85aa94f3f232bd21",
            "d76a43b01d4a41bc9e8d1e8641d1662a",
            "0d7efd58b7d74074a0853d2090bad4c0",
            "f9dd44952c3f4a33ab7cb535b90cc0ce",
            "d745e930cde841908daaeae361f5ca5f",
            "6354802dc5714932a98c287c76c702dc",
            "ffeab26746d9451fb43033c7dc2ce5ed",
            "e1f435209a3f4336b917c85d6c1e7320",
            "3dc6b877c6704a6188b8be5bd2ea7b54",
            "1015f42a2d6f42edbdb88473a30ab8e5",
            "19d4a63f07f9452fa4daba998d8cb37c",
            "e23fa3b3d4b74bdea7488483175018a6",
            "f624d543ca65454784787c6d14b67a90",
            "07b9b4be562b4a4992487c25eff5032f",
            "81b564570bf54a98bef556417beb252b",
            "398c7dd4b865455a84fe75cbe5d81205",
            "e30164b182004b7fb1df8a788977a3c3",
            "016847e0f4694ec79b82d734b4b71cb8",
            "6a8cebcf313642f19a7c0e8e21e5fc9e",
            "4b6a81a15fed4d59a0a978d4d6331e11",
            "1181c5decbdc47db97a1b4314444d193",
            "4eba1338411040a0808b50b79ce394c7",
            "23c4a67e59a64c18ac9d5793e4553d31",
            "41121e4389b94deab621e63c6034cd64",
            "a7930b2a9476412f800d52324dbb7236",
            "a2fab3b769eb4c45849b23a5404ec2f2",
            "e041cb40b12d4ba29540b189bc5211e7",
            "0e43ead79e1d42228ec412791d2737f7",
            "87bdb38d1f3a45b093155e2e3e10f300",
            "6382f658a65a4519a505651269e351b3",
            "863075be4f9943cbaccb1ade0c3508c0",
            "d460636aa9ec484d89f9e61d19313cf0",
            "1549a1eb6dfa4182883305821361ccbd",
            "2552e3f2e8e64216b65c9caba432528f",
            "b3e67ec2106146898309ca31d1306d1b",
            "e3f5b7910d3c420f952ab710ea508ec6",
            "3f27463c8f1b42e09cc2281ffef423ce",
            "f0c8d71b5b2e47e8b4f4798555e95b48",
            "6add972949894291a74bdd35163c570c",
            "0679864ae20f4a87a88952a4b413a74d",
            "10967315108d4acb941ca60d4d3560d0",
            "ab537d45122d406fb0df136b05b6a9ec",
            "c0a55282619446dcb8d0e0395c8d5918",
            "b0211d1e2ce94267a4ee21d9013034e4",
            "3ae0d4041b3544d4bf652ec0f835ebb3",
            "47fd4c52616b4b2d86352e3f0a18fcbd",
            "b4022081bbcb4604a44d204fe13366b8",
            "d4fd50ba3b51476f8dcc821b6f6091f4",
            "c664af82638e4d7285bab40ca456dd52",
            "0960d17a20964c8685b1957c1e7f6fac",
            "f7f7c144a0f34a608423942c4d7a1cc7",
            "4e631c9d62bc4513bd13789383f385e5",
            "471aaacef72c4b3c9d5063d1b82eeba6",
            "5b2770ad05ac4ff09864a9f657d691b7",
            "5ff5e60a3d1c48aead7bf97fefc4652b",
            "4fdb666014a545d3a5b737e7d542a29d",
            "1b369f0fceaa49a0b2ec0e640af02149",
            "3639fc89e1d246fca9ccdfc9922399d6",
            "e3828fc69a2f411cb1b859b6da11de6d",
            "bb278eb72bb647ba9c957c8926da17f0",
            "8343b9dbc75b4f4dbec0386d4be309da",
            "65401b061d2d4bbcaa7dc0718ffeecbf",
            "578785a3a5d14bba8512a17f9ee71dfa",
            "7bc80b45c0da45118b257dec62cf3a14",
            "cd07d3ff43434dcabc267535b2177e0f",
            "5a2be5cd30ea42999d51b1104835a268",
            "e99d486f4e96409781a16ef4e7497551",
            "c827d56d717f438392fe08d8bf0e6f16",
            "31eed40fb97b401b918ea10cda39dd08",
            "3b707132a599450e9f238e467b187a50",
            "4cd405a26bfc44e1a4d641283b9008f9",
            "88c221ca09b340cc9c7c06527e0dcb36",
            "d5e0908af93540c0b4e7293b013c62f1",
            "93e69bb86b4e4b28956c8312e23c4967",
            "b5eca8323fcf4ef593d9728244ce6196",
            "6a68dda42c2c45e086a53a2fb7b0463c",
            "4f2e2c8786b545e98768ba805b5df99e",
            "91165442eeac4e55b721164b8318313d",
            "1fe5b976a2da47239656a925153a6a4e",
            "0c206937b9b24f5b921205574f771c26",
            "89a179bf65db43fc886eb737b6f79a08",
            "a58df6cafac44f02981831afaf2e9091",
            "fa24d819945a406aa7aa38768e8ac59b",
            "f9717c23d446418d874a0a00b38aad44",
            "59bf73cc9d1b41468cd47b7b722b0d65",
            "d416bb3c58fd404bac8a724fa6d15e56",
            "2d537b0429564cce9ec66d342601f3a7",
            "f726e3cb59c745f582ad5759e1c34064",
            "18418c6d80a64798bf876d8747f4b138",
            "c4d8a3059a7a46bb87ca60844fbcb0cf",
            "30d552398bf14570b087c118ac91ad0c",
            "e39490fd2b624763b73510a7e4720f80",
            "add5e51ae62b424f834a956c61fbce1a",
            "b01bcead33094042bbbbdd5fccfd3320",
            "83a35d707732433a886e289056555c39",
            "36ec04b6619e46628e13a3eb60f2bd85",
            "9347473083264e34ba1696ed6d1bb191",
            "ff6bd789c97049daae5ba6951315cf78",
            "f0831080ed7a4a6b9f60f59ba7250800",
            "c66a121ad6304292ad4ea6b55c79805b",
            "2ce1535594a043ef96b9abd65dc18cc5",
            "3c082f63dac24efc88da2e7123767727",
            "4e8d8a3020ab407e9f726016bef58e32",
            "07b3502c99184b2f897f5bc6111ddc3c",
            "cbd4534f52cb418da19fcc7bfa7e87fb",
            "1acf47008d9f4489b14a0551e368589c",
            "8f1704f8939f4e89bf47b8f4070a9dae",
            "d5c08fa05d6e4ece9c216b89551d8e67",
            "fe9fb8d148624828a8ead7e5278b24eb",
            "1827e10ae6044588b34b7448ca5a6b54",
            "5c18972996794f8d8d9d7143ce77b085",
            "6a61d0fb14824e15a19b23e78b37e279",
            "6c83bb56fa9e40d8919264b96ec89670",
            "71b75f87a47340f4be5f231f22124838",
            "2f898eaa647244edb87c235e07ee4a08",
            "c42b52389fd24b1a80e91d4603e419a6",
            "e67b135d740842dea2c5c5a199ea4378",
            "d278f1d327444ebf95acee52b3a4b11d",
            "70f1780cbbef4916a68b9df7aac102a3",
            "69f32b967e504935b6f7f507fe2588bb",
            "755c8fc0f09943868603c387572fa7e0",
            "6975083260eb4fba845152eb92478e4b",
            "aacefa7343594676828935e4ebe62b7c",
            "6027ff3b2a6c4dc0b07f366a081d185a",
            "4b7f07ee565a48e48adf33e0f1b2790b",
            "eb3791bbc19c40e8a22a7b07ccfad986",
            "d2cea63b9ca246679d2276e1f1e4be1e",
            "79326a2486f8437aa02fa47b6ad0e9fd",
            "dc24b36c0e834b77b755fd11c681369f",
            "799066e9caa74366a857990a0b6fef75",
            "dfd30d6185224e8782c20146e78b6472",
            "fe6fdac330b54734baca291cccfaab8f",
            "19b553b20e47421a85db9e1953f3831c",
            "848f0fa51a8f4d099875051f6cc6b53e",
            "fa35fccf5d284ccfaff197d763d97acd",
            "c93272067c2f432980e28cf26ffdfd5d",
            "01a590bc3805489087232490e1ab91fc",
            "cf667f6b3a844020b6da7224e44daccf",
            "1aeb0a49344b4928a0fb94b3f16d0aa9",
            "7bbc2e2c4bb4481eadfa0c8874bf794f",
            "8cd923e92b6d44c1824e7d5c5740976a",
            "87edb89dc26545eba961ec6d692e0ab7",
            "f21e626d6afd491cbab3d6968523d104",
            "82a9a77482424fe4bd626762076ce34e",
            "6d5dbba8e09d424fa74c43f52af54eaa",
            "7213117e13f746c98a3c964cf6aa321b",
            "4905df815989425babb59ded167aeb24",
            "c5a19345b69344a5b6af93b24c9ca3ca",
            "a7acedcd1c4043a4bc8e4422c71dedd3",
            "fcb9d908bc0f43c9bad7257ca37921cd",
            "a1b62779a61f4a3cb4ef0768f3856176",
            "9009bbaaa9694e2bb6edcad0eee02f11",
            "1ce94220dbb34089abb62d14bd4b038d",
            "962a53ec3e39484dba8fd102d014a014",
            "f535805456594f0b9d113f594651b1f2",
            "8850a69c4c384e07bbad16c190359348",
            "6b976b6bf7be4bce8b42ee323dfa77ce",
            "0340dae121ef4f44a468324cd536c394",
            "c13ba7cbe5484191a4e280e4b9f4a0e3",
            "26338548ebe74b5f9c8e6f923b124386",
            "dfece7bc7c5e46e993ce34a0784954d9",
            "118c8b5db8e44c31983e653a21712b84",
            "c1bd626f371f4ac892e17d3daa18b24d",
            "c2e4d97e23a24576a4920b2b48ed17e2",
            "802714579c1e47b8b2dc8dececfaf747",
            "6d408ea7a64541c6a7b041215ffe9efc",
            "399e42836f0a4e19961e6ecff3ae4a72",
            "698501e14d364d33b2bd170be75640b9",
            "5f26f9bb6abb4bafaf7f592acff152e7",
            "66ef5eb1a5b64f03ad19c02f45ee96b9",
            "59ea3c17ea25426c9450c0c9e88e7aaa",
            "c3ea16c11394467ba3a15c143abf422e",
            "e978a94b7d7e40628ff698c13fbb7cb9",
            "0f92097be1a04629b192bbba55e7c77a",
            "5c77fa62ffce4490bfb6b6b5ea7d39a8",
            "840702afe5674f35b8c3b40e9832e5f5",
            "06e41e97031144c39f18a39da2bc0fbd",
            "c33bd6fd614c4c4abc5323603a985651",
            "58370d76964d47958496fc648500ccbb",
            "d0d60ffb3f6644429167d818b76cd745",
            "73faf041499b4baeab6633f768c438cf",
            "15c6a3c3b5144fb39bcfbdd04e20b826",
            "0ba43ca048c84d43b1e89faf40dff792",
            "919260f7c11d45ab839d479b1a26ef3d",
            "c91564aeb4174d4b9cfc598e4a1a1338",
            "17a8d13c93254af882591d421b1187bf",
            "3fd843f166c7489580486a2374e27724",
            "f6d80252cc234927bc5afc0bead97f0d",
            "cf7836f2a1a14164bc89cf603f54eef5",
            "8919d0ee29ae4dbeb4954d4ea27466df",
            "0f3966e04aea4bf9a978a4a06c6da824",
            "64e1ae9efc7847cf8e572aa4a0fe147e",
            "399b389c360c406f8cebffb92eef50d0",
            "703827704d284e6889f840eb9eb6eda2",
            "6a2a3e1c65d24cbcb284af8826ff32fc",
            "90af301e93c94028954ecd5f0c6a3fc0",
            "cf18e1a19d1746a6afbd7e3ab3454824",
            "4a8e8bbd182f4d35aee48b1e78c6b71f",
            "52864eb8730a4ab688e7d35bbe733386",
            "cd6432008c214cbf8a6db6362688e957",
            "e04c0cbb1af2449eae8d57a81f25c713",
            "43260b3d06f146dcb00794f73933e97d",
            "8a8be30621924976b5e05998e9f95555",
            "e78c9de58d6c4421adad3d8cabe898fd",
            "bd9e1982b1ef46769b54dc00767bdc2b",
            "b122369f0cae430293d93e0041e517e6",
            "1f9c05c2b4c14d9dbf721af38ce39d1f",
            "175d12e863bc46479be1b6f537c43c03",
            "f063c2fa3da84acfac9071e0dad55b51",
            "b64990a454d2444dbe73dad04ed5f185",
            "30d02af4fbeb483bbbf7f3fdf70cac3c",
            "0c4b6e4a3329451c9f85981ec5fc856a",
            "7ba0d21ea70f48a987f3ce2d640e650d",
            "bd78e5e62d0a454ba410f75706b2537d",
            "7e48014c015e4be0babaa8c214bda6e5",
            "519d66aec23f40dca71068ca281e57ad",
            "87a838fd7b8d41b4ab5a1dee0f798de5",
            "7f1fee0956a44a18b43b26a8448c6d9e",
            "e9d14afa646247afb67218dc322e0e7c",
            "b5345564a8d94a80a70aebc31d814e20",
            "e55971a96dff4a17ad44a9865e502061",
            "436045c2fe994ff9ac24053913dd55f1",
            "a7803a0341db4dcda0f7e896cc66e242",
            "20fdcba7213b43e7aabfcc0d57a3d397",
            "83168cc9f1834ae7b020031d7c105319",
            "af7704bf8c224e12ab514be8f3517659",
            "bb923e26aa3643fcbb13046584a2f3b2",
            "5518d28559a64a649254ba1b66e482b2",
            "81ee12c93c7d4ba1946e68fd1e2096b4",
            "97e41a06ebe44cd495b5ae01cd69ae27",
            "1f18f58b649e41dcb12236cf5ce4917f",
            "0fb5375dddee46deb1dbeb477c26b5e9",
            "7873c311c1934cb598c03fe51e03f77a",
            "5d4b0f30550749bd8e2d2147aa1762a9",
            "aa2e779f766345ceb94b2633a83d586d",
            "1bc7838337e84659abe0388d9f06e948",
            "e56259f6f4be44e9bc0e482b87899af4",
            "69b2a5d960b0405da1bd42b3e5bc6f73",
            "1e242cedeacf421bb0c7370cbbc9d42c",
            "8cd1ce65033d4d6792a388af4d17966b",
            "7ea372ad9656403cb791daae0356143e",
            "1bbbed88079643ae9b5fa5c9b9bfed2b",
            "d7ff341c2bba4794bfa10c4e450518c5",
            "27c687b2f94a4969a3aa85544bba3b42",
            "85c56e84df7d4ca6a6394a676054cab1",
            "fe4790d9fb47448983d065cdadc28bc9",
            "129a41f766974aa4a02fb1c8648083fc",
            "23706157b66b415dba4a753589c8c5f1",
            "96c3276fa3a44cdc988a476236432265",
            "02528fd66af64e8a95ba809105a0e77a",
            "3c30c86fda2243789692ddc39282c853",
            "71930c3a270e4babb42f892163ddfa68",
            "44cf4bab366342348d8fc308d79ce379",
            "5eb0d742eec341aebccdc534f13d119b",
            "7d88649d962c44699a76850aae491d63",
            "a677cd5a82f94e06838e34386cd81a5b",
            "ad1c4dea574e4d33b700922fd457ce63",
            "0d6596ffad2649febf97434d45fb3a87",
            "9f7f6ab0b5c14955ba2b28e475d00b40",
            "f8acd7b652a241f7a415c35e64b2d2e7",
            "1f7adc4dc80544f4bfc8e22c5bd06a95",
            "3219949089674c9fbeac10d051e59ea0",
            "e51c96e8c9c14fb8bd72d529d3a86b64"
          ]
        },
        "outputId": "001627cb-8950-4125-a342-2e24f99674c1",
        "id": "yV7K-s2DnoV1"
      },
      "outputs": [
        {
          "output_type": "stream",
          "name": "stdout",
          "text": [
            "Downloading https://www.cs.toronto.edu/~kriz/cifar-10-python.tar.gz to ./data/CIFAR10/cifar-10-python.tar.gz\n"
          ]
        },
        {
          "output_type": "display_data",
          "data": {
            "text/plain": [
              "  0%|          | 0/170498071 [00:00<?, ?it/s]"
            ],
            "application/vnd.jupyter.widget-view+json": {
              "version_major": 2,
              "version_minor": 0,
              "model_id": "c6f831d364474b429568b7b08b62d642"
            }
          },
          "metadata": {}
        },
        {
          "output_type": "stream",
          "name": "stdout",
          "text": [
            "Extracting ./data/CIFAR10/cifar-10-python.tar.gz to ./data/CIFAR10\n",
            "Files already downloaded and verified\n"
          ]
        },
        {
          "output_type": "stream",
          "name": "stderr",
          "text": [
            "/usr/local/lib/python3.7/dist-packages/torch/utils/data/dataloader.py:481: UserWarning: This DataLoader will create 4 worker processes in total. Our suggested max number of worker in current system is 2, which is smaller than what this DataLoader is going to create. Please be aware that excessive worker creation might get DataLoader running slow or even freeze, lower the worker number to avoid potential slowness/freeze if necessary.\n",
            "  cpuset_checked))\n"
          ]
        },
        {
          "output_type": "display_data",
          "data": {
            "text/plain": [
              "[1/390]   0%|           [00:00<?]"
            ],
            "application/vnd.jupyter.widget-view+json": {
              "version_major": 2,
              "version_minor": 0,
              "model_id": "37b0999ea5ef4fd0aaefbaae6067d5d6"
            }
          },
          "metadata": {}
        },
        {
          "output_type": "stream",
          "name": "stdout",
          "text": [
            "Train - Epoch: 1 Loss: 0.27\n",
            "Valid - Epoch: 1 Acc: 0.4600 Loss: 0.24 BCE: 0.23 GP: 0.02 \n"
          ]
        },
        {
          "output_type": "display_data",
          "data": {
            "text/plain": [
              "[1/390]   0%|           [00:00<?]"
            ],
            "application/vnd.jupyter.widget-view+json": {
              "version_major": 2,
              "version_minor": 0,
              "model_id": "f4ae5fe2e73343e5a94e4e9aa16e75bf"
            }
          },
          "metadata": {}
        },
        {
          "output_type": "stream",
          "name": "stdout",
          "text": [
            "Train - Epoch: 2 Loss: 0.22\n",
            "Valid - Epoch: 2 Acc: 0.5932 Loss: 0.21 BCE: 0.19 GP: 0.03 \n"
          ]
        },
        {
          "output_type": "display_data",
          "data": {
            "text/plain": [
              "[1/390]   0%|           [00:00<?]"
            ],
            "application/vnd.jupyter.widget-view+json": {
              "version_major": 2,
              "version_minor": 0,
              "model_id": "8adea66a720643e2975db79e7144a6fd"
            }
          },
          "metadata": {}
        },
        {
          "output_type": "stream",
          "name": "stdout",
          "text": [
            "Train - Epoch: 3 Loss: 0.19\n",
            "Valid - Epoch: 3 Acc: 0.5482 Loss: 0.26 BCE: 0.20 GP: 0.11 \n"
          ]
        },
        {
          "output_type": "display_data",
          "data": {
            "text/plain": [
              "[1/390]   0%|           [00:00<?]"
            ],
            "application/vnd.jupyter.widget-view+json": {
              "version_major": 2,
              "version_minor": 0,
              "model_id": "83ddd943fda84fc6bc25d394c8ad722c"
            }
          },
          "metadata": {}
        },
        {
          "output_type": "stream",
          "name": "stdout",
          "text": [
            "Train - Epoch: 4 Loss: 0.17\n",
            "Valid - Epoch: 4 Acc: 0.6810 Loss: 0.24 BCE: 0.15 GP: 0.17 \n"
          ]
        },
        {
          "output_type": "display_data",
          "data": {
            "text/plain": [
              "[1/390]   0%|           [00:00<?]"
            ],
            "application/vnd.jupyter.widget-view+json": {
              "version_major": 2,
              "version_minor": 0,
              "model_id": "f336e7804ccc4841bc502e63c44040de"
            }
          },
          "metadata": {}
        },
        {
          "output_type": "stream",
          "name": "stdout",
          "text": [
            "Train - Epoch: 5 Loss: 0.15\n",
            "Valid - Epoch: 5 Acc: 0.6929 Loss: 0.23 BCE: 0.15 GP: 0.16 \n"
          ]
        },
        {
          "output_type": "display_data",
          "data": {
            "text/plain": [
              "[1/390]   0%|           [00:00<?]"
            ],
            "application/vnd.jupyter.widget-view+json": {
              "version_major": 2,
              "version_minor": 0,
              "model_id": "41e29a179e4048eca74caabe0cc4a453"
            }
          },
          "metadata": {}
        },
        {
          "output_type": "stream",
          "name": "stdout",
          "text": [
            "Train - Epoch: 6 Loss: 0.14\n",
            "Valid - Epoch: 6 Acc: 0.7485 Loss: 0.24 BCE: 0.12 GP: 0.24 \n"
          ]
        },
        {
          "output_type": "display_data",
          "data": {
            "text/plain": [
              "[1/390]   0%|           [00:00<?]"
            ],
            "application/vnd.jupyter.widget-view+json": {
              "version_major": 2,
              "version_minor": 0,
              "model_id": "a39047be6e274240a256797a512631d6"
            }
          },
          "metadata": {}
        },
        {
          "output_type": "stream",
          "name": "stdout",
          "text": [
            "Train - Epoch: 7 Loss: 0.13\n",
            "Valid - Epoch: 7 Acc: 0.7365 Loss: 0.29 BCE: 0.13 GP: 0.32 \n"
          ]
        },
        {
          "output_type": "display_data",
          "data": {
            "text/plain": [
              "[1/390]   0%|           [00:00<?]"
            ],
            "application/vnd.jupyter.widget-view+json": {
              "version_major": 2,
              "version_minor": 0,
              "model_id": "2a49f30d4e714a46ae60ef75e99487c1"
            }
          },
          "metadata": {}
        },
        {
          "output_type": "stream",
          "name": "stdout",
          "text": [
            "Train - Epoch: 8 Loss: 0.12\n",
            "Valid - Epoch: 8 Acc: 0.7683 Loss: 0.27 BCE: 0.11 GP: 0.31 \n"
          ]
        },
        {
          "output_type": "display_data",
          "data": {
            "text/plain": [
              "[1/390]   0%|           [00:00<?]"
            ],
            "application/vnd.jupyter.widget-view+json": {
              "version_major": 2,
              "version_minor": 0,
              "model_id": "f7f59673338d44c7af89fa45bfa36649"
            }
          },
          "metadata": {}
        },
        {
          "output_type": "stream",
          "name": "stdout",
          "text": [
            "Train - Epoch: 9 Loss: 0.11\n",
            "Valid - Epoch: 9 Acc: 0.7894 Loss: 0.31 BCE: 0.10 GP: 0.40 \n"
          ]
        },
        {
          "output_type": "display_data",
          "data": {
            "text/plain": [
              "[1/390]   0%|           [00:00<?]"
            ],
            "application/vnd.jupyter.widget-view+json": {
              "version_major": 2,
              "version_minor": 0,
              "model_id": "08c85a6452674372beef81851e977a82"
            }
          },
          "metadata": {}
        },
        {
          "output_type": "stream",
          "name": "stdout",
          "text": [
            "Train - Epoch: 10 Loss: 0.10\n",
            "Valid - Epoch: 10 Acc: 0.7901 Loss: 0.28 BCE: 0.10 GP: 0.35 \n"
          ]
        },
        {
          "output_type": "display_data",
          "data": {
            "text/plain": [
              "[1/390]   0%|           [00:00<?]"
            ],
            "application/vnd.jupyter.widget-view+json": {
              "version_major": 2,
              "version_minor": 0,
              "model_id": "b62e4a74541249f0ab22e82ac42f9a49"
            }
          },
          "metadata": {}
        },
        {
          "output_type": "stream",
          "name": "stdout",
          "text": [
            "Train - Epoch: 11 Loss: 0.09\n",
            "Valid - Epoch: 11 Acc: 0.8219 Loss: 0.31 BCE: 0.09 GP: 0.44 \n"
          ]
        },
        {
          "output_type": "display_data",
          "data": {
            "text/plain": [
              "[1/390]   0%|           [00:00<?]"
            ],
            "application/vnd.jupyter.widget-view+json": {
              "version_major": 2,
              "version_minor": 0,
              "model_id": "ee8a50bb289b41afae241af14e741894"
            }
          },
          "metadata": {}
        },
        {
          "output_type": "stream",
          "name": "stdout",
          "text": [
            "Train - Epoch: 12 Loss: 0.09\n",
            "Valid - Epoch: 12 Acc: 0.7884 Loss: 0.33 BCE: 0.11 GP: 0.45 \n"
          ]
        },
        {
          "output_type": "display_data",
          "data": {
            "text/plain": [
              "[1/390]   0%|           [00:00<?]"
            ],
            "application/vnd.jupyter.widget-view+json": {
              "version_major": 2,
              "version_minor": 0,
              "model_id": "b11734086c3e4377bc595bbcc0362970"
            }
          },
          "metadata": {}
        },
        {
          "output_type": "stream",
          "name": "stdout",
          "text": [
            "Train - Epoch: 13 Loss: 0.09\n",
            "Valid - Epoch: 13 Acc: 0.8049 Loss: 0.32 BCE: 0.10 GP: 0.44 \n"
          ]
        },
        {
          "output_type": "display_data",
          "data": {
            "text/plain": [
              "[1/390]   0%|           [00:00<?]"
            ],
            "application/vnd.jupyter.widget-view+json": {
              "version_major": 2,
              "version_minor": 0,
              "model_id": "31225f16fa5445eda732cc92c6b99d85"
            }
          },
          "metadata": {}
        },
        {
          "output_type": "stream",
          "name": "stdout",
          "text": [
            "Train - Epoch: 14 Loss: 0.08\n",
            "Valid - Epoch: 14 Acc: 0.8364 Loss: 0.32 BCE: 0.08 GP: 0.47 \n"
          ]
        },
        {
          "output_type": "display_data",
          "data": {
            "text/plain": [
              "[1/390]   0%|           [00:00<?]"
            ],
            "application/vnd.jupyter.widget-view+json": {
              "version_major": 2,
              "version_minor": 0,
              "model_id": "60e911230f3d447a93c515e5ee4ad448"
            }
          },
          "metadata": {}
        },
        {
          "output_type": "stream",
          "name": "stdout",
          "text": [
            "Train - Epoch: 15 Loss: 0.08\n",
            "Valid - Epoch: 15 Acc: 0.8411 Loss: 0.33 BCE: 0.08 GP: 0.49 \n"
          ]
        },
        {
          "output_type": "display_data",
          "data": {
            "text/plain": [
              "[1/390]   0%|           [00:00<?]"
            ],
            "application/vnd.jupyter.widget-view+json": {
              "version_major": 2,
              "version_minor": 0,
              "model_id": "cccefaf09af445bbb4dba1aeb5193194"
            }
          },
          "metadata": {}
        },
        {
          "output_type": "stream",
          "name": "stdout",
          "text": [
            "Train - Epoch: 16 Loss: 0.08\n",
            "Valid - Epoch: 16 Acc: 0.8193 Loss: 0.31 BCE: 0.09 GP: 0.44 \n"
          ]
        },
        {
          "output_type": "display_data",
          "data": {
            "text/plain": [
              "[1/390]   0%|           [00:00<?]"
            ],
            "application/vnd.jupyter.widget-view+json": {
              "version_major": 2,
              "version_minor": 0,
              "model_id": "7e18cae7039f4ee586c236e2cf62905a"
            }
          },
          "metadata": {}
        },
        {
          "output_type": "stream",
          "name": "stdout",
          "text": [
            "Train - Epoch: 17 Loss: 0.08\n",
            "Valid - Epoch: 17 Acc: 0.7979 Loss: 0.32 BCE: 0.11 GP: 0.43 \n"
          ]
        },
        {
          "output_type": "display_data",
          "data": {
            "text/plain": [
              "[1/390]   0%|           [00:00<?]"
            ],
            "application/vnd.jupyter.widget-view+json": {
              "version_major": 2,
              "version_minor": 0,
              "model_id": "45d8519b128d4f689a191eff07b46ce9"
            }
          },
          "metadata": {}
        },
        {
          "output_type": "stream",
          "name": "stdout",
          "text": [
            "Train - Epoch: 18 Loss: 0.07\n",
            "Valid - Epoch: 18 Acc: 0.8446 Loss: 0.32 BCE: 0.08 GP: 0.48 \n"
          ]
        },
        {
          "output_type": "display_data",
          "data": {
            "text/plain": [
              "[1/390]   0%|           [00:00<?]"
            ],
            "application/vnd.jupyter.widget-view+json": {
              "version_major": 2,
              "version_minor": 0,
              "model_id": "0e938353b6f748c4915c92a7a0090352"
            }
          },
          "metadata": {}
        },
        {
          "output_type": "stream",
          "name": "stdout",
          "text": [
            "Train - Epoch: 19 Loss: 0.07\n",
            "Valid - Epoch: 19 Acc: 0.8068 Loss: 0.34 BCE: 0.10 GP: 0.48 \n"
          ]
        },
        {
          "output_type": "display_data",
          "data": {
            "text/plain": [
              "[1/390]   0%|           [00:00<?]"
            ],
            "application/vnd.jupyter.widget-view+json": {
              "version_major": 2,
              "version_minor": 0,
              "model_id": "7d377e7c85ee423ab9485453a2f81d78"
            }
          },
          "metadata": {}
        },
        {
          "output_type": "stream",
          "name": "stdout",
          "text": [
            "Train - Epoch: 20 Loss: 0.07\n",
            "Valid - Epoch: 20 Acc: 0.8311 Loss: 0.35 BCE: 0.09 GP: 0.53 \n"
          ]
        },
        {
          "output_type": "display_data",
          "data": {
            "text/plain": [
              "[1/390]   0%|           [00:00<?]"
            ],
            "application/vnd.jupyter.widget-view+json": {
              "version_major": 2,
              "version_minor": 0,
              "model_id": "339b7409f3cc432b86eeec61195ac5de"
            }
          },
          "metadata": {}
        },
        {
          "output_type": "stream",
          "name": "stdout",
          "text": [
            "Train - Epoch: 21 Loss: 0.07\n",
            "Valid - Epoch: 21 Acc: 0.8526 Loss: 0.32 BCE: 0.08 GP: 0.49 \n"
          ]
        },
        {
          "output_type": "display_data",
          "data": {
            "text/plain": [
              "[1/390]   0%|           [00:00<?]"
            ],
            "application/vnd.jupyter.widget-view+json": {
              "version_major": 2,
              "version_minor": 0,
              "model_id": "305b0b0dfa10487bac4aa9288e0fe3d7"
            }
          },
          "metadata": {}
        },
        {
          "output_type": "stream",
          "name": "stdout",
          "text": [
            "Train - Epoch: 22 Loss: 0.07\n",
            "Valid - Epoch: 22 Acc: 0.8537 Loss: 0.32 BCE: 0.07 GP: 0.50 \n"
          ]
        },
        {
          "output_type": "display_data",
          "data": {
            "text/plain": [
              "[1/390]   0%|           [00:00<?]"
            ],
            "application/vnd.jupyter.widget-view+json": {
              "version_major": 2,
              "version_minor": 0,
              "model_id": "d74b73c74c424e20869b7924eb2141ed"
            }
          },
          "metadata": {}
        },
        {
          "output_type": "stream",
          "name": "stdout",
          "text": [
            "Train - Epoch: 23 Loss: 0.07\n",
            "Valid - Epoch: 23 Acc: 0.8542 Loss: 0.34 BCE: 0.07 GP: 0.54 \n"
          ]
        },
        {
          "output_type": "display_data",
          "data": {
            "text/plain": [
              "[1/390]   0%|           [00:00<?]"
            ],
            "application/vnd.jupyter.widget-view+json": {
              "version_major": 2,
              "version_minor": 0,
              "model_id": "f9ea32b7148e4217846f9c68215818bc"
            }
          },
          "metadata": {}
        },
        {
          "output_type": "stream",
          "name": "stdout",
          "text": [
            "Train - Epoch: 24 Loss: 0.07\n",
            "Valid - Epoch: 24 Acc: 0.8482 Loss: 0.32 BCE: 0.08 GP: 0.48 \n"
          ]
        },
        {
          "output_type": "display_data",
          "data": {
            "text/plain": [
              "[1/390]   0%|           [00:00<?]"
            ],
            "application/vnd.jupyter.widget-view+json": {
              "version_major": 2,
              "version_minor": 0,
              "model_id": "61c710da99454cc791249a1d9b16ed80"
            }
          },
          "metadata": {}
        },
        {
          "output_type": "stream",
          "name": "stdout",
          "text": [
            "Train - Epoch: 25 Loss: 0.07\n",
            "Valid - Epoch: 25 Acc: 0.8543 Loss: 0.33 BCE: 0.08 GP: 0.50 \n"
          ]
        },
        {
          "output_type": "display_data",
          "data": {
            "text/plain": [
              "[1/390]   0%|           [00:00<?]"
            ],
            "application/vnd.jupyter.widget-view+json": {
              "version_major": 2,
              "version_minor": 0,
              "model_id": "9bfbe9fde92a4dc280096b15430388f9"
            }
          },
          "metadata": {}
        },
        {
          "output_type": "stream",
          "name": "stdout",
          "text": [
            "Train - Epoch: 26 Loss: 0.05\n",
            "Valid - Epoch: 26 Acc: 0.9163 Loss: 0.33 BCE: 0.05 GP: 0.57 \n"
          ]
        },
        {
          "output_type": "display_data",
          "data": {
            "text/plain": [
              "[1/390]   0%|           [00:00<?]"
            ],
            "application/vnd.jupyter.widget-view+json": {
              "version_major": 2,
              "version_minor": 0,
              "model_id": "a331caecdc0b42c3b0335487108a33bc"
            }
          },
          "metadata": {}
        },
        {
          "output_type": "stream",
          "name": "stdout",
          "text": [
            "Train - Epoch: 27 Loss: 0.04\n",
            "Valid - Epoch: 27 Acc: 0.9056 Loss: 0.33 BCE: 0.05 GP: 0.56 \n"
          ]
        },
        {
          "output_type": "display_data",
          "data": {
            "text/plain": [
              "[1/390]   0%|           [00:00<?]"
            ],
            "application/vnd.jupyter.widget-view+json": {
              "version_major": 2,
              "version_minor": 0,
              "model_id": "606e1dfcd1ed44f0981f94d6bbfb51fe"
            }
          },
          "metadata": {}
        },
        {
          "output_type": "stream",
          "name": "stdout",
          "text": [
            "Train - Epoch: 28 Loss: 0.04\n",
            "Valid - Epoch: 28 Acc: 0.9214 Loss: 0.34 BCE: 0.04 GP: 0.59 \n"
          ]
        },
        {
          "output_type": "display_data",
          "data": {
            "text/plain": [
              "[1/390]   0%|           [00:00<?]"
            ],
            "application/vnd.jupyter.widget-view+json": {
              "version_major": 2,
              "version_minor": 0,
              "model_id": "783f30dfb9074fcaab360a6e25d24c04"
            }
          },
          "metadata": {}
        },
        {
          "output_type": "stream",
          "name": "stdout",
          "text": [
            "Train - Epoch: 29 Loss: 0.04\n",
            "Valid - Epoch: 29 Acc: 0.9193 Loss: 0.34 BCE: 0.04 GP: 0.59 \n"
          ]
        },
        {
          "output_type": "display_data",
          "data": {
            "text/plain": [
              "[1/390]   0%|           [00:00<?]"
            ],
            "application/vnd.jupyter.widget-view+json": {
              "version_major": 2,
              "version_minor": 0,
              "model_id": "5c87d67bb97f4cd1a3f7f3f53485350e"
            }
          },
          "metadata": {}
        },
        {
          "output_type": "stream",
          "name": "stdout",
          "text": [
            "Train - Epoch: 30 Loss: 0.04\n",
            "Valid - Epoch: 30 Acc: 0.9145 Loss: 0.35 BCE: 0.05 GP: 0.62 \n"
          ]
        },
        {
          "output_type": "display_data",
          "data": {
            "text/plain": [
              "[1/390]   0%|           [00:00<?]"
            ],
            "application/vnd.jupyter.widget-view+json": {
              "version_major": 2,
              "version_minor": 0,
              "model_id": "be02915381064e809e5aafe5733a00d8"
            }
          },
          "metadata": {}
        },
        {
          "output_type": "stream",
          "name": "stdout",
          "text": [
            "Train - Epoch: 31 Loss: 0.04\n",
            "Valid - Epoch: 31 Acc: 0.9168 Loss: 0.35 BCE: 0.04 GP: 0.62 \n"
          ]
        },
        {
          "output_type": "display_data",
          "data": {
            "text/plain": [
              "[1/390]   0%|           [00:00<?]"
            ],
            "application/vnd.jupyter.widget-view+json": {
              "version_major": 2,
              "version_minor": 0,
              "model_id": "9cf640aa731441f5a1186f620d8fabc1"
            }
          },
          "metadata": {}
        },
        {
          "output_type": "stream",
          "name": "stdout",
          "text": [
            "Train - Epoch: 32 Loss: 0.03\n",
            "Valid - Epoch: 32 Acc: 0.9129 Loss: 0.36 BCE: 0.05 GP: 0.62 \n"
          ]
        },
        {
          "output_type": "display_data",
          "data": {
            "text/plain": [
              "[1/390]   0%|           [00:00<?]"
            ],
            "application/vnd.jupyter.widget-view+json": {
              "version_major": 2,
              "version_minor": 0,
              "model_id": "5e78d3f9f2ab4607963e61965cda2683"
            }
          },
          "metadata": {}
        },
        {
          "output_type": "stream",
          "name": "stdout",
          "text": [
            "Train - Epoch: 33 Loss: 0.03\n",
            "Valid - Epoch: 33 Acc: 0.9051 Loss: 0.35 BCE: 0.05 GP: 0.59 \n"
          ]
        },
        {
          "output_type": "display_data",
          "data": {
            "text/plain": [
              "[1/390]   0%|           [00:00<?]"
            ],
            "application/vnd.jupyter.widget-view+json": {
              "version_major": 2,
              "version_minor": 0,
              "model_id": "2b941bd5fb2e4144a49bb8277b0ab806"
            }
          },
          "metadata": {}
        },
        {
          "output_type": "stream",
          "name": "stdout",
          "text": [
            "Train - Epoch: 34 Loss: 0.03\n",
            "Valid - Epoch: 34 Acc: 0.9138 Loss: 0.35 BCE: 0.05 GP: 0.61 \n"
          ]
        },
        {
          "output_type": "display_data",
          "data": {
            "text/plain": [
              "[1/390]   0%|           [00:00<?]"
            ],
            "application/vnd.jupyter.widget-view+json": {
              "version_major": 2,
              "version_minor": 0,
              "model_id": "3d7f6a4e9695404bab955a56355c3c4a"
            }
          },
          "metadata": {}
        },
        {
          "output_type": "stream",
          "name": "stdout",
          "text": [
            "Train - Epoch: 35 Loss: 0.03\n",
            "Valid - Epoch: 35 Acc: 0.9127 Loss: 0.37 BCE: 0.05 GP: 0.64 \n"
          ]
        },
        {
          "output_type": "display_data",
          "data": {
            "text/plain": [
              "[1/390]   0%|           [00:00<?]"
            ],
            "application/vnd.jupyter.widget-view+json": {
              "version_major": 2,
              "version_minor": 0,
              "model_id": "4a24e46bce3c42869167f46f67b34b03"
            }
          },
          "metadata": {}
        },
        {
          "output_type": "stream",
          "name": "stdout",
          "text": [
            "Train - Epoch: 36 Loss: 0.03\n",
            "Valid - Epoch: 36 Acc: 0.9134 Loss: 0.36 BCE: 0.05 GP: 0.62 \n"
          ]
        },
        {
          "output_type": "display_data",
          "data": {
            "text/plain": [
              "[1/390]   0%|           [00:00<?]"
            ],
            "application/vnd.jupyter.widget-view+json": {
              "version_major": 2,
              "version_minor": 0,
              "model_id": "116a0ecaccba400aade63279978c7f57"
            }
          },
          "metadata": {}
        },
        {
          "output_type": "stream",
          "name": "stdout",
          "text": [
            "Train - Epoch: 37 Loss: 0.03\n",
            "Valid - Epoch: 37 Acc: 0.9052 Loss: 0.37 BCE: 0.05 GP: 0.63 \n"
          ]
        },
        {
          "output_type": "display_data",
          "data": {
            "text/plain": [
              "[1/390]   0%|           [00:00<?]"
            ],
            "application/vnd.jupyter.widget-view+json": {
              "version_major": 2,
              "version_minor": 0,
              "model_id": "1e5455d837314be18197336fde1bccef"
            }
          },
          "metadata": {}
        },
        {
          "output_type": "stream",
          "name": "stdout",
          "text": [
            "Train - Epoch: 38 Loss: 0.03\n",
            "Valid - Epoch: 38 Acc: 0.9177 Loss: 0.35 BCE: 0.05 GP: 0.62 \n"
          ]
        },
        {
          "output_type": "display_data",
          "data": {
            "text/plain": [
              "[1/390]   0%|           [00:00<?]"
            ],
            "application/vnd.jupyter.widget-view+json": {
              "version_major": 2,
              "version_minor": 0,
              "model_id": "47cebd4c4cf7477daf97544fa7a894c6"
            }
          },
          "metadata": {}
        },
        {
          "output_type": "stream",
          "name": "stdout",
          "text": [
            "Train - Epoch: 39 Loss: 0.03\n",
            "Valid - Epoch: 39 Acc: 0.9125 Loss: 0.36 BCE: 0.05 GP: 0.64 \n"
          ]
        },
        {
          "output_type": "display_data",
          "data": {
            "text/plain": [
              "[1/390]   0%|           [00:00<?]"
            ],
            "application/vnd.jupyter.widget-view+json": {
              "version_major": 2,
              "version_minor": 0,
              "model_id": "c964fb91959c4329bf139e6774fd60f5"
            }
          },
          "metadata": {}
        },
        {
          "output_type": "stream",
          "name": "stdout",
          "text": [
            "Train - Epoch: 40 Loss: 0.03\n",
            "Valid - Epoch: 40 Acc: 0.8958 Loss: 0.35 BCE: 0.06 GP: 0.58 \n"
          ]
        },
        {
          "output_type": "display_data",
          "data": {
            "text/plain": [
              "[1/390]   0%|           [00:00<?]"
            ],
            "application/vnd.jupyter.widget-view+json": {
              "version_major": 2,
              "version_minor": 0,
              "model_id": "47f1162b41174cb48d8b720ff3adef04"
            }
          },
          "metadata": {}
        },
        {
          "output_type": "stream",
          "name": "stdout",
          "text": [
            "Train - Epoch: 41 Loss: 0.03\n",
            "Valid - Epoch: 41 Acc: 0.9156 Loss: 0.36 BCE: 0.04 GP: 0.64 \n"
          ]
        },
        {
          "output_type": "display_data",
          "data": {
            "text/plain": [
              "[1/390]   0%|           [00:00<?]"
            ],
            "application/vnd.jupyter.widget-view+json": {
              "version_major": 2,
              "version_minor": 0,
              "model_id": "d35e1dd5fcc844f4a3de22546b6b302d"
            }
          },
          "metadata": {}
        },
        {
          "output_type": "stream",
          "name": "stdout",
          "text": [
            "Train - Epoch: 42 Loss: 0.03\n",
            "Valid - Epoch: 42 Acc: 0.9002 Loss: 0.35 BCE: 0.05 GP: 0.60 \n"
          ]
        },
        {
          "output_type": "display_data",
          "data": {
            "text/plain": [
              "[1/390]   0%|           [00:00<?]"
            ],
            "application/vnd.jupyter.widget-view+json": {
              "version_major": 2,
              "version_minor": 0,
              "model_id": "96fd941ef7dc4ef2a0be9b61f9f510ae"
            }
          },
          "metadata": {}
        },
        {
          "output_type": "stream",
          "name": "stdout",
          "text": [
            "Train - Epoch: 43 Loss: 0.03\n",
            "Valid - Epoch: 43 Acc: 0.9162 Loss: 0.37 BCE: 0.04 GP: 0.65 \n"
          ]
        },
        {
          "output_type": "display_data",
          "data": {
            "text/plain": [
              "[1/390]   0%|           [00:00<?]"
            ],
            "application/vnd.jupyter.widget-view+json": {
              "version_major": 2,
              "version_minor": 0,
              "model_id": "1f6977edd4e04e6eb0c947ecf69477b5"
            }
          },
          "metadata": {}
        },
        {
          "output_type": "stream",
          "name": "stdout",
          "text": [
            "Train - Epoch: 44 Loss: 0.03\n",
            "Valid - Epoch: 44 Acc: 0.9022 Loss: 0.36 BCE: 0.05 GP: 0.62 \n"
          ]
        },
        {
          "output_type": "display_data",
          "data": {
            "text/plain": [
              "[1/390]   0%|           [00:00<?]"
            ],
            "application/vnd.jupyter.widget-view+json": {
              "version_major": 2,
              "version_minor": 0,
              "model_id": "e7eafce949884110b19e11fc45828272"
            }
          },
          "metadata": {}
        },
        {
          "output_type": "stream",
          "name": "stdout",
          "text": [
            "Train - Epoch: 45 Loss: 0.03\n",
            "Valid - Epoch: 45 Acc: 0.9074 Loss: 0.37 BCE: 0.05 GP: 0.63 \n"
          ]
        },
        {
          "output_type": "display_data",
          "data": {
            "text/plain": [
              "[1/390]   0%|           [00:00<?]"
            ],
            "application/vnd.jupyter.widget-view+json": {
              "version_major": 2,
              "version_minor": 0,
              "model_id": "3c3b3d2188ae4242bff372147bf7740e"
            }
          },
          "metadata": {}
        },
        {
          "output_type": "stream",
          "name": "stdout",
          "text": [
            "Train - Epoch: 46 Loss: 0.03\n",
            "Valid - Epoch: 46 Acc: 0.9046 Loss: 0.35 BCE: 0.05 GP: 0.60 \n"
          ]
        },
        {
          "output_type": "display_data",
          "data": {
            "text/plain": [
              "[1/390]   0%|           [00:00<?]"
            ],
            "application/vnd.jupyter.widget-view+json": {
              "version_major": 2,
              "version_minor": 0,
              "model_id": "3e2d87b82b0e42f1a3367d0ad33c642e"
            }
          },
          "metadata": {}
        },
        {
          "output_type": "stream",
          "name": "stdout",
          "text": [
            "Train - Epoch: 47 Loss: 0.03\n",
            "Valid - Epoch: 47 Acc: 0.9095 Loss: 0.36 BCE: 0.05 GP: 0.63 \n"
          ]
        },
        {
          "output_type": "display_data",
          "data": {
            "text/plain": [
              "[1/390]   0%|           [00:00<?]"
            ],
            "application/vnd.jupyter.widget-view+json": {
              "version_major": 2,
              "version_minor": 0,
              "model_id": "6987f96cba6c4796abdf8af385b5cb39"
            }
          },
          "metadata": {}
        },
        {
          "output_type": "stream",
          "name": "stdout",
          "text": [
            "Train - Epoch: 48 Loss: 0.03\n",
            "Valid - Epoch: 48 Acc: 0.8685 Loss: 0.36 BCE: 0.07 GP: 0.58 \n"
          ]
        },
        {
          "output_type": "display_data",
          "data": {
            "text/plain": [
              "[1/390]   0%|           [00:00<?]"
            ],
            "application/vnd.jupyter.widget-view+json": {
              "version_major": 2,
              "version_minor": 0,
              "model_id": "d1a7b60786104727a045a13a9470ea08"
            }
          },
          "metadata": {}
        },
        {
          "output_type": "stream",
          "name": "stdout",
          "text": [
            "Train - Epoch: 49 Loss: 0.03\n",
            "Valid - Epoch: 49 Acc: 0.9122 Loss: 0.36 BCE: 0.05 GP: 0.63 \n"
          ]
        },
        {
          "output_type": "display_data",
          "data": {
            "text/plain": [
              "[1/390]   0%|           [00:00<?]"
            ],
            "application/vnd.jupyter.widget-view+json": {
              "version_major": 2,
              "version_minor": 0,
              "model_id": "57586cf7b516420e9c5e443d39a7dfdd"
            }
          },
          "metadata": {}
        },
        {
          "output_type": "stream",
          "name": "stdout",
          "text": [
            "Train - Epoch: 50 Loss: 0.03\n",
            "Valid - Epoch: 50 Acc: 0.9161 Loss: 0.36 BCE: 0.05 GP: 0.63 \n"
          ]
        },
        {
          "output_type": "display_data",
          "data": {
            "text/plain": [
              "[1/390]   0%|           [00:00<?]"
            ],
            "application/vnd.jupyter.widget-view+json": {
              "version_major": 2,
              "version_minor": 0,
              "model_id": "fd966663832b4242ae3c619d214bb578"
            }
          },
          "metadata": {}
        },
        {
          "output_type": "stream",
          "name": "stdout",
          "text": [
            "Train - Epoch: 51 Loss: 0.02\n",
            "Valid - Epoch: 51 Acc: 0.9343 Loss: 0.38 BCE: 0.04 GP: 0.68 \n"
          ]
        },
        {
          "output_type": "display_data",
          "data": {
            "text/plain": [
              "[1/390]   0%|           [00:00<?]"
            ],
            "application/vnd.jupyter.widget-view+json": {
              "version_major": 2,
              "version_minor": 0,
              "model_id": "f47e223340a1475bbfdb8030de152743"
            }
          },
          "metadata": {}
        },
        {
          "output_type": "stream",
          "name": "stdout",
          "text": [
            "Train - Epoch: 52 Loss: 0.02\n",
            "Valid - Epoch: 52 Acc: 0.9342 Loss: 0.38 BCE: 0.04 GP: 0.68 \n"
          ]
        },
        {
          "output_type": "display_data",
          "data": {
            "text/plain": [
              "[1/390]   0%|           [00:00<?]"
            ],
            "application/vnd.jupyter.widget-view+json": {
              "version_major": 2,
              "version_minor": 0,
              "model_id": "f8c7a40b2ea64e90add58a03444481a1"
            }
          },
          "metadata": {}
        },
        {
          "output_type": "stream",
          "name": "stdout",
          "text": [
            "Train - Epoch: 53 Loss: 0.02\n",
            "Valid - Epoch: 53 Acc: 0.9380 Loss: 0.38 BCE: 0.03 GP: 0.70 \n"
          ]
        },
        {
          "output_type": "display_data",
          "data": {
            "text/plain": [
              "[1/390]   0%|           [00:00<?]"
            ],
            "application/vnd.jupyter.widget-view+json": {
              "version_major": 2,
              "version_minor": 0,
              "model_id": "320cfe11de994707b6a91c46add83f95"
            }
          },
          "metadata": {}
        },
        {
          "output_type": "stream",
          "name": "stdout",
          "text": [
            "Train - Epoch: 54 Loss: 0.02\n",
            "Valid - Epoch: 54 Acc: 0.9360 Loss: 0.39 BCE: 0.04 GP: 0.70 \n"
          ]
        },
        {
          "output_type": "display_data",
          "data": {
            "text/plain": [
              "[1/390]   0%|           [00:00<?]"
            ],
            "application/vnd.jupyter.widget-view+json": {
              "version_major": 2,
              "version_minor": 0,
              "model_id": "97919fe6395045f5a0d1d9e184314680"
            }
          },
          "metadata": {}
        },
        {
          "output_type": "stream",
          "name": "stdout",
          "text": [
            "Train - Epoch: 55 Loss: 0.02\n",
            "Valid - Epoch: 55 Acc: 0.9358 Loss: 0.39 BCE: 0.04 GP: 0.71 \n"
          ]
        },
        {
          "output_type": "display_data",
          "data": {
            "text/plain": [
              "[1/390]   0%|           [00:00<?]"
            ],
            "application/vnd.jupyter.widget-view+json": {
              "version_major": 2,
              "version_minor": 0,
              "model_id": "22d04bae4b8c4329b71e628bc34b91f2"
            }
          },
          "metadata": {}
        },
        {
          "output_type": "stream",
          "name": "stdout",
          "text": [
            "Train - Epoch: 56 Loss: 0.01\n",
            "Valid - Epoch: 56 Acc: 0.9365 Loss: 0.38 BCE: 0.04 GP: 0.68 \n"
          ]
        },
        {
          "output_type": "display_data",
          "data": {
            "text/plain": [
              "[1/390]   0%|           [00:00<?]"
            ],
            "application/vnd.jupyter.widget-view+json": {
              "version_major": 2,
              "version_minor": 0,
              "model_id": "30a2114afee84157a308f1a53ec46590"
            }
          },
          "metadata": {}
        },
        {
          "output_type": "stream",
          "name": "stdout",
          "text": [
            "Train - Epoch: 57 Loss: 0.01\n",
            "Valid - Epoch: 57 Acc: 0.9346 Loss: 0.39 BCE: 0.04 GP: 0.70 \n"
          ]
        },
        {
          "output_type": "display_data",
          "data": {
            "text/plain": [
              "[1/390]   0%|           [00:00<?]"
            ],
            "application/vnd.jupyter.widget-view+json": {
              "version_major": 2,
              "version_minor": 0,
              "model_id": "c390077dad284df5a86474e64e703ba5"
            }
          },
          "metadata": {}
        },
        {
          "output_type": "stream",
          "name": "stdout",
          "text": [
            "Train - Epoch: 58 Loss: 0.01\n",
            "Valid - Epoch: 58 Acc: 0.9362 Loss: 0.39 BCE: 0.04 GP: 0.71 \n"
          ]
        },
        {
          "output_type": "display_data",
          "data": {
            "text/plain": [
              "[1/390]   0%|           [00:00<?]"
            ],
            "application/vnd.jupyter.widget-view+json": {
              "version_major": 2,
              "version_minor": 0,
              "model_id": "90317fb4e1574f8291ad5125b0f29414"
            }
          },
          "metadata": {}
        },
        {
          "output_type": "stream",
          "name": "stdout",
          "text": [
            "Train - Epoch: 59 Loss: 0.01\n",
            "Valid - Epoch: 59 Acc: 0.9370 Loss: 0.39 BCE: 0.04 GP: 0.70 \n"
          ]
        },
        {
          "output_type": "display_data",
          "data": {
            "text/plain": [
              "[1/390]   0%|           [00:00<?]"
            ],
            "application/vnd.jupyter.widget-view+json": {
              "version_major": 2,
              "version_minor": 0,
              "model_id": "ec4553b19adc43e7ab52a16e870faddf"
            }
          },
          "metadata": {}
        },
        {
          "output_type": "stream",
          "name": "stdout",
          "text": [
            "Train - Epoch: 60 Loss: 0.01\n",
            "Valid - Epoch: 60 Acc: 0.9360 Loss: 0.39 BCE: 0.04 GP: 0.71 \n"
          ]
        },
        {
          "output_type": "display_data",
          "data": {
            "text/plain": [
              "[1/390]   0%|           [00:00<?]"
            ],
            "application/vnd.jupyter.widget-view+json": {
              "version_major": 2,
              "version_minor": 0,
              "model_id": "10a988708a2a4f74ba3c5444347a25c5"
            }
          },
          "metadata": {}
        },
        {
          "output_type": "stream",
          "name": "stdout",
          "text": [
            "Train - Epoch: 61 Loss: 0.01\n",
            "Valid - Epoch: 61 Acc: 0.9348 Loss: 0.39 BCE: 0.04 GP: 0.70 \n"
          ]
        },
        {
          "output_type": "display_data",
          "data": {
            "text/plain": [
              "[1/390]   0%|           [00:00<?]"
            ],
            "application/vnd.jupyter.widget-view+json": {
              "version_major": 2,
              "version_minor": 0,
              "model_id": "c786e010042b48eb84bcbbcb7f4e4df3"
            }
          },
          "metadata": {}
        },
        {
          "output_type": "stream",
          "name": "stdout",
          "text": [
            "Train - Epoch: 62 Loss: 0.01\n",
            "Valid - Epoch: 62 Acc: 0.9345 Loss: 0.38 BCE: 0.04 GP: 0.68 \n"
          ]
        },
        {
          "output_type": "display_data",
          "data": {
            "text/plain": [
              "[1/390]   0%|           [00:00<?]"
            ],
            "application/vnd.jupyter.widget-view+json": {
              "version_major": 2,
              "version_minor": 0,
              "model_id": "50c824f7c1704683a2ff5366c1a1c709"
            }
          },
          "metadata": {}
        },
        {
          "output_type": "stream",
          "name": "stdout",
          "text": [
            "Train - Epoch: 63 Loss: 0.01\n",
            "Valid - Epoch: 63 Acc: 0.9359 Loss: 0.39 BCE: 0.04 GP: 0.71 \n"
          ]
        },
        {
          "output_type": "display_data",
          "data": {
            "text/plain": [
              "[1/390]   0%|           [00:00<?]"
            ],
            "application/vnd.jupyter.widget-view+json": {
              "version_major": 2,
              "version_minor": 0,
              "model_id": "4a80d978d3a347109474b6c63604e8fc"
            }
          },
          "metadata": {}
        },
        {
          "output_type": "stream",
          "name": "stdout",
          "text": [
            "Train - Epoch: 64 Loss: 0.01\n",
            "Valid - Epoch: 64 Acc: 0.9366 Loss: 0.39 BCE: 0.04 GP: 0.70 \n"
          ]
        },
        {
          "output_type": "display_data",
          "data": {
            "text/plain": [
              "[1/390]   0%|           [00:00<?]"
            ],
            "application/vnd.jupyter.widget-view+json": {
              "version_major": 2,
              "version_minor": 0,
              "model_id": "1ab0267ebdf449b9b4c772a92838e27f"
            }
          },
          "metadata": {}
        },
        {
          "output_type": "stream",
          "name": "stdout",
          "text": [
            "Train - Epoch: 65 Loss: 0.01\n",
            "Valid - Epoch: 65 Acc: 0.9345 Loss: 0.39 BCE: 0.04 GP: 0.70 \n"
          ]
        },
        {
          "output_type": "display_data",
          "data": {
            "text/plain": [
              "[1/390]   0%|           [00:00<?]"
            ],
            "application/vnd.jupyter.widget-view+json": {
              "version_major": 2,
              "version_minor": 0,
              "model_id": "4f911fd3d24a499f955b7cc189a65806"
            }
          },
          "metadata": {}
        },
        {
          "output_type": "stream",
          "name": "stdout",
          "text": [
            "Train - Epoch: 66 Loss: 0.01\n",
            "Valid - Epoch: 66 Acc: 0.9311 Loss: 0.40 BCE: 0.04 GP: 0.72 \n"
          ]
        },
        {
          "output_type": "display_data",
          "data": {
            "text/plain": [
              "[1/390]   0%|           [00:00<?]"
            ],
            "application/vnd.jupyter.widget-view+json": {
              "version_major": 2,
              "version_minor": 0,
              "model_id": "a51bca33abd4450c89fefd7d3657bd99"
            }
          },
          "metadata": {}
        },
        {
          "output_type": "stream",
          "name": "stdout",
          "text": [
            "Train - Epoch: 67 Loss: 0.01\n",
            "Valid - Epoch: 67 Acc: 0.9346 Loss: 0.40 BCE: 0.04 GP: 0.73 \n"
          ]
        },
        {
          "output_type": "display_data",
          "data": {
            "text/plain": [
              "[1/390]   0%|           [00:00<?]"
            ],
            "application/vnd.jupyter.widget-view+json": {
              "version_major": 2,
              "version_minor": 0,
              "model_id": "c593765ba96245c5a117032b8821f9f6"
            }
          },
          "metadata": {}
        },
        {
          "output_type": "stream",
          "name": "stdout",
          "text": [
            "Train - Epoch: 68 Loss: 0.01\n",
            "Valid - Epoch: 68 Acc: 0.9347 Loss: 0.39 BCE: 0.04 GP: 0.71 \n"
          ]
        },
        {
          "output_type": "display_data",
          "data": {
            "text/plain": [
              "[1/390]   0%|           [00:00<?]"
            ],
            "application/vnd.jupyter.widget-view+json": {
              "version_major": 2,
              "version_minor": 0,
              "model_id": "c56fbbf3c3714573bd852417a3730875"
            }
          },
          "metadata": {}
        },
        {
          "output_type": "stream",
          "name": "stdout",
          "text": [
            "Train - Epoch: 69 Loss: 0.01\n",
            "Valid - Epoch: 69 Acc: 0.9349 Loss: 0.39 BCE: 0.04 GP: 0.71 \n"
          ]
        },
        {
          "output_type": "display_data",
          "data": {
            "text/plain": [
              "[1/390]   0%|           [00:00<?]"
            ],
            "application/vnd.jupyter.widget-view+json": {
              "version_major": 2,
              "version_minor": 0,
              "model_id": "823b6551e7ce401a8c93ff7a8be998e8"
            }
          },
          "metadata": {}
        },
        {
          "output_type": "stream",
          "name": "stdout",
          "text": [
            "Train - Epoch: 70 Loss: 0.01\n",
            "Valid - Epoch: 70 Acc: 0.9371 Loss: 0.40 BCE: 0.04 GP: 0.72 \n"
          ]
        },
        {
          "output_type": "display_data",
          "data": {
            "text/plain": [
              "[1/390]   0%|           [00:00<?]"
            ],
            "application/vnd.jupyter.widget-view+json": {
              "version_major": 2,
              "version_minor": 0,
              "model_id": "f554484eb0824680a79bc5b00ad420e5"
            }
          },
          "metadata": {}
        },
        {
          "output_type": "stream",
          "name": "stdout",
          "text": [
            "Train - Epoch: 71 Loss: 0.01\n",
            "Valid - Epoch: 71 Acc: 0.9348 Loss: 0.40 BCE: 0.04 GP: 0.72 \n"
          ]
        },
        {
          "output_type": "display_data",
          "data": {
            "text/plain": [
              "[1/390]   0%|           [00:00<?]"
            ],
            "application/vnd.jupyter.widget-view+json": {
              "version_major": 2,
              "version_minor": 0,
              "model_id": "aa20c13aa6a94971b016da8e5ada181a"
            }
          },
          "metadata": {}
        },
        {
          "output_type": "stream",
          "name": "stdout",
          "text": [
            "Train - Epoch: 72 Loss: 0.01\n",
            "Valid - Epoch: 72 Acc: 0.9360 Loss: 0.40 BCE: 0.04 GP: 0.72 \n"
          ]
        },
        {
          "output_type": "display_data",
          "data": {
            "text/plain": [
              "[1/390]   0%|           [00:00<?]"
            ],
            "application/vnd.jupyter.widget-view+json": {
              "version_major": 2,
              "version_minor": 0,
              "model_id": "5e2de5f0ac3e4a45a1c8aba3a1eeff9a"
            }
          },
          "metadata": {}
        },
        {
          "output_type": "stream",
          "name": "stdout",
          "text": [
            "Train - Epoch: 73 Loss: 0.01\n",
            "Valid - Epoch: 73 Acc: 0.9344 Loss: 0.40 BCE: 0.04 GP: 0.73 \n"
          ]
        },
        {
          "output_type": "display_data",
          "data": {
            "text/plain": [
              "[1/390]   0%|           [00:00<?]"
            ],
            "application/vnd.jupyter.widget-view+json": {
              "version_major": 2,
              "version_minor": 0,
              "model_id": "e6a73773637a480097f1166ba2306daf"
            }
          },
          "metadata": {}
        },
        {
          "output_type": "stream",
          "name": "stdout",
          "text": [
            "Train - Epoch: 74 Loss: 0.01\n",
            "Valid - Epoch: 74 Acc: 0.9342 Loss: 0.39 BCE: 0.04 GP: 0.70 \n"
          ]
        },
        {
          "output_type": "display_data",
          "data": {
            "text/plain": [
              "[1/390]   0%|           [00:00<?]"
            ],
            "application/vnd.jupyter.widget-view+json": {
              "version_major": 2,
              "version_minor": 0,
              "model_id": "ab51a49deb31456685861cf5befd44f1"
            }
          },
          "metadata": {}
        },
        {
          "output_type": "stream",
          "name": "stdout",
          "text": [
            "Train - Epoch: 75 Loss: 0.01\n",
            "Valid - Epoch: 75 Acc: 0.9347 Loss: 0.40 BCE: 0.04 GP: 0.72 \n"
          ]
        },
        {
          "output_type": "display_data",
          "data": {
            "text/plain": [
              "[1/390]   0%|           [00:00<?]"
            ],
            "application/vnd.jupyter.widget-view+json": {
              "version_major": 2,
              "version_minor": 0,
              "model_id": "19294fcba5cd44c8a3f3fd84924dd3d0"
            }
          },
          "metadata": {}
        },
        {
          "output_type": "stream",
          "name": "stdout",
          "text": [
            "Train - Epoch: 76 Loss: 0.01\n",
            "Valid - Epoch: 76 Acc: 0.9380 Loss: 0.39 BCE: 0.04 GP: 0.71 \n"
          ]
        },
        {
          "output_type": "display_data",
          "data": {
            "text/plain": [
              "[1/390]   0%|           [00:00<?]"
            ],
            "application/vnd.jupyter.widget-view+json": {
              "version_major": 2,
              "version_minor": 0,
              "model_id": "3a9a35dbb28c44e4993e623bcbd4fe93"
            }
          },
          "metadata": {}
        },
        {
          "output_type": "stream",
          "name": "stdout",
          "text": [
            "Train - Epoch: 77 Loss: 0.01\n",
            "Valid - Epoch: 77 Acc: 0.9404 Loss: 0.40 BCE: 0.04 GP: 0.72 \n"
          ]
        },
        {
          "output_type": "display_data",
          "data": {
            "text/plain": [
              "[1/390]   0%|           [00:00<?]"
            ],
            "application/vnd.jupyter.widget-view+json": {
              "version_major": 2,
              "version_minor": 0,
              "model_id": "28e3a19c9b15400c9341476d62e3fc1c"
            }
          },
          "metadata": {}
        },
        {
          "output_type": "stream",
          "name": "stdout",
          "text": [
            "Train - Epoch: 78 Loss: 0.01\n",
            "Valid - Epoch: 78 Acc: 0.9387 Loss: 0.39 BCE: 0.04 GP: 0.71 \n"
          ]
        },
        {
          "output_type": "display_data",
          "data": {
            "text/plain": [
              "[1/390]   0%|           [00:00<?]"
            ],
            "application/vnd.jupyter.widget-view+json": {
              "version_major": 2,
              "version_minor": 0,
              "model_id": "3a214b4d6ac243a2937473810f5b4570"
            }
          },
          "metadata": {}
        },
        {
          "output_type": "stream",
          "name": "stdout",
          "text": [
            "Train - Epoch: 79 Loss: 0.01\n",
            "Valid - Epoch: 79 Acc: 0.9385 Loss: 0.39 BCE: 0.04 GP: 0.71 \n"
          ]
        },
        {
          "output_type": "display_data",
          "data": {
            "text/plain": [
              "[1/390]   0%|           [00:00<?]"
            ],
            "application/vnd.jupyter.widget-view+json": {
              "version_major": 2,
              "version_minor": 0,
              "model_id": "19d4a63f07f9452fa4daba998d8cb37c"
            }
          },
          "metadata": {}
        },
        {
          "output_type": "stream",
          "name": "stdout",
          "text": [
            "Train - Epoch: 80 Loss: 0.01\n",
            "Valid - Epoch: 80 Acc: 0.9390 Loss: 0.39 BCE: 0.04 GP: 0.71 \n"
          ]
        },
        {
          "output_type": "display_data",
          "data": {
            "text/plain": [
              "[1/390]   0%|           [00:00<?]"
            ],
            "application/vnd.jupyter.widget-view+json": {
              "version_major": 2,
              "version_minor": 0,
              "model_id": "4eba1338411040a0808b50b79ce394c7"
            }
          },
          "metadata": {}
        },
        {
          "output_type": "stream",
          "name": "stdout",
          "text": [
            "Train - Epoch: 81 Loss: 0.01\n",
            "Valid - Epoch: 81 Acc: 0.9395 Loss: 0.40 BCE: 0.04 GP: 0.72 \n"
          ]
        },
        {
          "output_type": "display_data",
          "data": {
            "text/plain": [
              "[1/390]   0%|           [00:00<?]"
            ],
            "application/vnd.jupyter.widget-view+json": {
              "version_major": 2,
              "version_minor": 0,
              "model_id": "1549a1eb6dfa4182883305821361ccbd"
            }
          },
          "metadata": {}
        },
        {
          "output_type": "stream",
          "name": "stdout",
          "text": [
            "Train - Epoch: 82 Loss: 0.01\n",
            "Valid - Epoch: 82 Acc: 0.9394 Loss: 0.39 BCE: 0.04 GP: 0.71 \n"
          ]
        },
        {
          "output_type": "display_data",
          "data": {
            "text/plain": [
              "[1/390]   0%|           [00:00<?]"
            ],
            "application/vnd.jupyter.widget-view+json": {
              "version_major": 2,
              "version_minor": 0,
              "model_id": "b0211d1e2ce94267a4ee21d9013034e4"
            }
          },
          "metadata": {}
        },
        {
          "output_type": "stream",
          "name": "stdout",
          "text": [
            "Train - Epoch: 83 Loss: 0.01\n",
            "Valid - Epoch: 83 Acc: 0.9403 Loss: 0.39 BCE: 0.04 GP: 0.72 \n"
          ]
        },
        {
          "output_type": "display_data",
          "data": {
            "text/plain": [
              "[1/390]   0%|           [00:00<?]"
            ],
            "application/vnd.jupyter.widget-view+json": {
              "version_major": 2,
              "version_minor": 0,
              "model_id": "5ff5e60a3d1c48aead7bf97fefc4652b"
            }
          },
          "metadata": {}
        },
        {
          "output_type": "stream",
          "name": "stdout",
          "text": [
            "Train - Epoch: 84 Loss: 0.01\n",
            "Valid - Epoch: 84 Acc: 0.9406 Loss: 0.40 BCE: 0.04 GP: 0.72 \n"
          ]
        },
        {
          "output_type": "display_data",
          "data": {
            "text/plain": [
              "[1/390]   0%|           [00:00<?]"
            ],
            "application/vnd.jupyter.widget-view+json": {
              "version_major": 2,
              "version_minor": 0,
              "model_id": "5a2be5cd30ea42999d51b1104835a268"
            }
          },
          "metadata": {}
        },
        {
          "output_type": "stream",
          "name": "stdout",
          "text": [
            "Train - Epoch: 85 Loss: 0.01\n",
            "Valid - Epoch: 85 Acc: 0.9384 Loss: 0.40 BCE: 0.04 GP: 0.72 \n"
          ]
        },
        {
          "output_type": "display_data",
          "data": {
            "text/plain": [
              "[1/390]   0%|           [00:00<?]"
            ],
            "application/vnd.jupyter.widget-view+json": {
              "version_major": 2,
              "version_minor": 0,
              "model_id": "4f2e2c8786b545e98768ba805b5df99e"
            }
          },
          "metadata": {}
        },
        {
          "output_type": "stream",
          "name": "stdout",
          "text": [
            "Train - Epoch: 86 Loss: 0.01\n",
            "Valid - Epoch: 86 Acc: 0.9400 Loss: 0.39 BCE: 0.04 GP: 0.71 \n"
          ]
        },
        {
          "output_type": "display_data",
          "data": {
            "text/plain": [
              "[1/390]   0%|           [00:00<?]"
            ],
            "application/vnd.jupyter.widget-view+json": {
              "version_major": 2,
              "version_minor": 0,
              "model_id": "f726e3cb59c745f582ad5759e1c34064"
            }
          },
          "metadata": {}
        },
        {
          "output_type": "stream",
          "name": "stdout",
          "text": [
            "Train - Epoch: 87 Loss: 0.01\n",
            "Valid - Epoch: 87 Acc: 0.9397 Loss: 0.40 BCE: 0.04 GP: 0.72 \n"
          ]
        },
        {
          "output_type": "display_data",
          "data": {
            "text/plain": [
              "[1/390]   0%|           [00:00<?]"
            ],
            "application/vnd.jupyter.widget-view+json": {
              "version_major": 2,
              "version_minor": 0,
              "model_id": "f0831080ed7a4a6b9f60f59ba7250800"
            }
          },
          "metadata": {}
        },
        {
          "output_type": "stream",
          "name": "stdout",
          "text": [
            "Train - Epoch: 88 Loss: 0.01\n",
            "Valid - Epoch: 88 Acc: 0.9418 Loss: 0.40 BCE: 0.03 GP: 0.73 \n"
          ]
        },
        {
          "output_type": "display_data",
          "data": {
            "text/plain": [
              "[1/390]   0%|           [00:00<?]"
            ],
            "application/vnd.jupyter.widget-view+json": {
              "version_major": 2,
              "version_minor": 0,
              "model_id": "1827e10ae6044588b34b7448ca5a6b54"
            }
          },
          "metadata": {}
        },
        {
          "output_type": "stream",
          "name": "stdout",
          "text": [
            "Train - Epoch: 89 Loss: 0.01\n",
            "Valid - Epoch: 89 Acc: 0.9399 Loss: 0.40 BCE: 0.04 GP: 0.72 \n"
          ]
        },
        {
          "output_type": "display_data",
          "data": {
            "text/plain": [
              "[1/390]   0%|           [00:00<?]"
            ],
            "application/vnd.jupyter.widget-view+json": {
              "version_major": 2,
              "version_minor": 0,
              "model_id": "755c8fc0f09943868603c387572fa7e0"
            }
          },
          "metadata": {}
        },
        {
          "output_type": "stream",
          "name": "stdout",
          "text": [
            "Train - Epoch: 90 Loss: 0.01\n",
            "Valid - Epoch: 90 Acc: 0.9414 Loss: 0.40 BCE: 0.04 GP: 0.73 \n"
          ]
        },
        {
          "output_type": "display_data",
          "data": {
            "text/plain": [
              "[1/390]   0%|           [00:00<?]"
            ],
            "application/vnd.jupyter.widget-view+json": {
              "version_major": 2,
              "version_minor": 0,
              "model_id": "fe6fdac330b54734baca291cccfaab8f"
            }
          },
          "metadata": {}
        },
        {
          "output_type": "stream",
          "name": "stdout",
          "text": [
            "Train - Epoch: 91 Loss: 0.01\n",
            "Valid - Epoch: 91 Acc: 0.9402 Loss: 0.40 BCE: 0.04 GP: 0.73 \n"
          ]
        },
        {
          "output_type": "display_data",
          "data": {
            "text/plain": [
              "[1/390]   0%|           [00:00<?]"
            ],
            "application/vnd.jupyter.widget-view+json": {
              "version_major": 2,
              "version_minor": 0,
              "model_id": "f21e626d6afd491cbab3d6968523d104"
            }
          },
          "metadata": {}
        },
        {
          "output_type": "stream",
          "name": "stdout",
          "text": [
            "Train - Epoch: 92 Loss: 0.01\n",
            "Valid - Epoch: 92 Acc: 0.9397 Loss: 0.40 BCE: 0.04 GP: 0.73 \n"
          ]
        },
        {
          "output_type": "display_data",
          "data": {
            "text/plain": [
              "[1/390]   0%|           [00:00<?]"
            ],
            "application/vnd.jupyter.widget-view+json": {
              "version_major": 2,
              "version_minor": 0,
              "model_id": "962a53ec3e39484dba8fd102d014a014"
            }
          },
          "metadata": {}
        },
        {
          "output_type": "stream",
          "name": "stdout",
          "text": [
            "Train - Epoch: 93 Loss: 0.01\n",
            "Valid - Epoch: 93 Acc: 0.9403 Loss: 0.40 BCE: 0.04 GP: 0.74 \n"
          ]
        },
        {
          "output_type": "display_data",
          "data": {
            "text/plain": [
              "[1/390]   0%|           [00:00<?]"
            ],
            "application/vnd.jupyter.widget-view+json": {
              "version_major": 2,
              "version_minor": 0,
              "model_id": "802714579c1e47b8b2dc8dececfaf747"
            }
          },
          "metadata": {}
        },
        {
          "output_type": "stream",
          "name": "stdout",
          "text": [
            "Train - Epoch: 94 Loss: 0.01\n",
            "Valid - Epoch: 94 Acc: 0.9402 Loss: 0.40 BCE: 0.04 GP: 0.73 \n"
          ]
        },
        {
          "output_type": "display_data",
          "data": {
            "text/plain": [
              "[1/390]   0%|           [00:00<?]"
            ],
            "application/vnd.jupyter.widget-view+json": {
              "version_major": 2,
              "version_minor": 0,
              "model_id": "840702afe5674f35b8c3b40e9832e5f5"
            }
          },
          "metadata": {}
        },
        {
          "output_type": "stream",
          "name": "stdout",
          "text": [
            "Train - Epoch: 95 Loss: 0.01\n",
            "Valid - Epoch: 95 Acc: 0.9411 Loss: 0.40 BCE: 0.04 GP: 0.73 \n"
          ]
        },
        {
          "output_type": "display_data",
          "data": {
            "text/plain": [
              "[1/390]   0%|           [00:00<?]"
            ],
            "application/vnd.jupyter.widget-view+json": {
              "version_major": 2,
              "version_minor": 0,
              "model_id": "3fd843f166c7489580486a2374e27724"
            }
          },
          "metadata": {}
        },
        {
          "output_type": "stream",
          "name": "stdout",
          "text": [
            "Train - Epoch: 96 Loss: 0.01\n",
            "Files already downloaded and verified\n",
            "Files already downloaded and verified\n",
            "Downloading http://ufldl.stanford.edu/housenumbers/train_32x32.mat to ./data/SVHN/train_32x32.mat\n"
          ]
        },
        {
          "output_type": "display_data",
          "data": {
            "text/plain": [
              "  0%|          | 0/182040794 [00:00<?, ?it/s]"
            ],
            "application/vnd.jupyter.widget-view+json": {
              "version_major": 2,
              "version_minor": 0,
              "model_id": "4a8e8bbd182f4d35aee48b1e78c6b71f"
            }
          },
          "metadata": {}
        },
        {
          "output_type": "stream",
          "name": "stdout",
          "text": [
            "Downloading http://ufldl.stanford.edu/housenumbers/test_32x32.mat to ./data/SVHN/test_32x32.mat\n"
          ]
        },
        {
          "output_type": "display_data",
          "data": {
            "text/plain": [
              "  0%|          | 0/64275384 [00:00<?, ?it/s]"
            ],
            "application/vnd.jupyter.widget-view+json": {
              "version_major": 2,
              "version_minor": 0,
              "model_id": "f063c2fa3da84acfac9071e0dad55b51"
            }
          },
          "metadata": {}
        },
        {
          "output_type": "stream",
          "name": "stdout",
          "text": [
            "Test Accuracy: 0.9412, AUROC: 0.9103403503380455\n"
          ]
        },
        {
          "output_type": "stream",
          "name": "stderr",
          "text": [
            "/usr/local/lib/python3.7/dist-packages/torch/utils/data/dataloader.py:481: UserWarning: This DataLoader will create 4 worker processes in total. Our suggested max number of worker in current system is 2, which is smaller than what this DataLoader is going to create. Please be aware that excessive worker creation might get DataLoader running slow or even freeze, lower the worker number to avoid potential slowness/freeze if necessary.\n",
            "  cpuset_checked))\n"
          ]
        },
        {
          "output_type": "stream",
          "name": "stdout",
          "text": [
            "AUROC - uncertainty: 0.9077573390172049\n"
          ]
        },
        {
          "output_type": "stream",
          "name": "stderr",
          "text": [
            "/usr/local/lib/python3.7/dist-packages/torch/utils/data/dataloader.py:481: UserWarning: This DataLoader will create 4 worker processes in total. Our suggested max number of worker in current system is 2, which is smaller than what this DataLoader is going to create. Please be aware that excessive worker creation might get DataLoader running slow or even freeze, lower the worker number to avoid potential slowness/freeze if necessary.\n",
            "  cpuset_checked))\n"
          ]
        },
        {
          "output_type": "stream",
          "name": "stdout",
          "text": [
            "Valid - Epoch: 96 Acc: 0.9412 Loss: 0.40 BCE: 0.04 GP: 0.73 \n"
          ]
        },
        {
          "output_type": "display_data",
          "data": {
            "text/plain": [
              "[1/390]   0%|           [00:00<?]"
            ],
            "application/vnd.jupyter.widget-view+json": {
              "version_major": 2,
              "version_minor": 0,
              "model_id": "b5345564a8d94a80a70aebc31d814e20"
            }
          },
          "metadata": {}
        },
        {
          "output_type": "stream",
          "name": "stdout",
          "text": [
            "Train - Epoch: 97 Loss: 0.01\n",
            "Files already downloaded and verified\n",
            "Files already downloaded and verified\n",
            "Using downloaded and verified file: ./data/SVHN/train_32x32.mat\n",
            "Using downloaded and verified file: ./data/SVHN/test_32x32.mat\n",
            "Test Accuracy: 0.9408, AUROC: 0.9121644956207744\n"
          ]
        },
        {
          "output_type": "stream",
          "name": "stderr",
          "text": [
            "/usr/local/lib/python3.7/dist-packages/torch/utils/data/dataloader.py:481: UserWarning: This DataLoader will create 4 worker processes in total. Our suggested max number of worker in current system is 2, which is smaller than what this DataLoader is going to create. Please be aware that excessive worker creation might get DataLoader running slow or even freeze, lower the worker number to avoid potential slowness/freeze if necessary.\n",
            "  cpuset_checked))\n"
          ]
        },
        {
          "output_type": "stream",
          "name": "stdout",
          "text": [
            "AUROC - uncertainty: 0.907170902567108\n"
          ]
        },
        {
          "output_type": "stream",
          "name": "stderr",
          "text": [
            "/usr/local/lib/python3.7/dist-packages/torch/utils/data/dataloader.py:481: UserWarning: This DataLoader will create 4 worker processes in total. Our suggested max number of worker in current system is 2, which is smaller than what this DataLoader is going to create. Please be aware that excessive worker creation might get DataLoader running slow or even freeze, lower the worker number to avoid potential slowness/freeze if necessary.\n",
            "  cpuset_checked))\n"
          ]
        },
        {
          "output_type": "stream",
          "name": "stdout",
          "text": [
            "Valid - Epoch: 97 Acc: 0.9408 Loss: 0.40 BCE: 0.04 GP: 0.73 \n"
          ]
        },
        {
          "output_type": "display_data",
          "data": {
            "text/plain": [
              "[1/390]   0%|           [00:00<?]"
            ],
            "application/vnd.jupyter.widget-view+json": {
              "version_major": 2,
              "version_minor": 0,
              "model_id": "1f18f58b649e41dcb12236cf5ce4917f"
            }
          },
          "metadata": {}
        },
        {
          "output_type": "stream",
          "name": "stdout",
          "text": [
            "Train - Epoch: 98 Loss: 0.01\n",
            "Files already downloaded and verified\n",
            "Files already downloaded and verified\n",
            "Using downloaded and verified file: ./data/SVHN/train_32x32.mat\n",
            "Using downloaded and verified file: ./data/SVHN/test_32x32.mat\n",
            "Test Accuracy: 0.9391, AUROC: 0.9208635429471419\n"
          ]
        },
        {
          "output_type": "stream",
          "name": "stderr",
          "text": [
            "/usr/local/lib/python3.7/dist-packages/torch/utils/data/dataloader.py:481: UserWarning: This DataLoader will create 4 worker processes in total. Our suggested max number of worker in current system is 2, which is smaller than what this DataLoader is going to create. Please be aware that excessive worker creation might get DataLoader running slow or even freeze, lower the worker number to avoid potential slowness/freeze if necessary.\n",
            "  cpuset_checked))\n"
          ]
        },
        {
          "output_type": "stream",
          "name": "stdout",
          "text": [
            "AUROC - uncertainty: 0.9083465477812229\n"
          ]
        },
        {
          "output_type": "stream",
          "name": "stderr",
          "text": [
            "/usr/local/lib/python3.7/dist-packages/torch/utils/data/dataloader.py:481: UserWarning: This DataLoader will create 4 worker processes in total. Our suggested max number of worker in current system is 2, which is smaller than what this DataLoader is going to create. Please be aware that excessive worker creation might get DataLoader running slow or even freeze, lower the worker number to avoid potential slowness/freeze if necessary.\n",
            "  cpuset_checked))\n"
          ]
        },
        {
          "output_type": "stream",
          "name": "stdout",
          "text": [
            "Valid - Epoch: 98 Acc: 0.9391 Loss: 0.40 BCE: 0.04 GP: 0.74 \n"
          ]
        },
        {
          "output_type": "display_data",
          "data": {
            "text/plain": [
              "[1/390]   0%|           [00:00<?]"
            ],
            "application/vnd.jupyter.widget-view+json": {
              "version_major": 2,
              "version_minor": 0,
              "model_id": "1bbbed88079643ae9b5fa5c9b9bfed2b"
            }
          },
          "metadata": {}
        },
        {
          "output_type": "stream",
          "name": "stdout",
          "text": [
            "Train - Epoch: 99 Loss: 0.01\n",
            "Files already downloaded and verified\n",
            "Files already downloaded and verified\n",
            "Using downloaded and verified file: ./data/SVHN/train_32x32.mat\n",
            "Using downloaded and verified file: ./data/SVHN/test_32x32.mat\n",
            "Test Accuracy: 0.9403, AUROC: 0.9114400718346649\n"
          ]
        },
        {
          "output_type": "stream",
          "name": "stderr",
          "text": [
            "/usr/local/lib/python3.7/dist-packages/torch/utils/data/dataloader.py:481: UserWarning: This DataLoader will create 4 worker processes in total. Our suggested max number of worker in current system is 2, which is smaller than what this DataLoader is going to create. Please be aware that excessive worker creation might get DataLoader running slow or even freeze, lower the worker number to avoid potential slowness/freeze if necessary.\n",
            "  cpuset_checked))\n"
          ]
        },
        {
          "output_type": "stream",
          "name": "stdout",
          "text": [
            "AUROC - uncertainty: 0.9049246729945235\n"
          ]
        },
        {
          "output_type": "stream",
          "name": "stderr",
          "text": [
            "/usr/local/lib/python3.7/dist-packages/torch/utils/data/dataloader.py:481: UserWarning: This DataLoader will create 4 worker processes in total. Our suggested max number of worker in current system is 2, which is smaller than what this DataLoader is going to create. Please be aware that excessive worker creation might get DataLoader running slow or even freeze, lower the worker number to avoid potential slowness/freeze if necessary.\n",
            "  cpuset_checked))\n"
          ]
        },
        {
          "output_type": "stream",
          "name": "stdout",
          "text": [
            "Valid - Epoch: 99 Acc: 0.9403 Loss: 0.40 BCE: 0.04 GP: 0.74 \n"
          ]
        },
        {
          "output_type": "display_data",
          "data": {
            "text/plain": [
              "[1/390]   0%|           [00:00<?]"
            ],
            "application/vnd.jupyter.widget-view+json": {
              "version_major": 2,
              "version_minor": 0,
              "model_id": "44cf4bab366342348d8fc308d79ce379"
            }
          },
          "metadata": {}
        },
        {
          "output_type": "stream",
          "name": "stdout",
          "text": [
            "Train - Epoch: 100 Loss: 0.01\n",
            "Files already downloaded and verified\n",
            "Files already downloaded and verified\n",
            "Using downloaded and verified file: ./data/SVHN/train_32x32.mat\n",
            "Using downloaded and verified file: ./data/SVHN/test_32x32.mat\n",
            "Test Accuracy: 0.9403, AUROC: 0.9171227815765212\n"
          ]
        },
        {
          "output_type": "stream",
          "name": "stderr",
          "text": [
            "/usr/local/lib/python3.7/dist-packages/torch/utils/data/dataloader.py:481: UserWarning: This DataLoader will create 4 worker processes in total. Our suggested max number of worker in current system is 2, which is smaller than what this DataLoader is going to create. Please be aware that excessive worker creation might get DataLoader running slow or even freeze, lower the worker number to avoid potential slowness/freeze if necessary.\n",
            "  cpuset_checked))\n"
          ]
        },
        {
          "output_type": "stream",
          "name": "stdout",
          "text": [
            "AUROC - uncertainty: 0.9080419289542113\n"
          ]
        },
        {
          "output_type": "stream",
          "name": "stderr",
          "text": [
            "/usr/local/lib/python3.7/dist-packages/torch/utils/data/dataloader.py:481: UserWarning: This DataLoader will create 4 worker processes in total. Our suggested max number of worker in current system is 2, which is smaller than what this DataLoader is going to create. Please be aware that excessive worker creation might get DataLoader running slow or even freeze, lower the worker number to avoid potential slowness/freeze if necessary.\n",
            "  cpuset_checked))\n"
          ]
        },
        {
          "output_type": "stream",
          "name": "stdout",
          "text": [
            "Valid - Epoch: 100 Acc: 0.9403 Loss: 0.40 BCE: 0.04 GP: 0.73 \n"
          ]
        },
        {
          "output_type": "execute_result",
          "data": {
            "text/plain": [
              "State:\n",
              "\titeration: 39000\n",
              "\tepoch: 100\n",
              "\tepoch_length: 390\n",
              "\tmax_epochs: 100\n",
              "\toutput: 0.009137888438999653\n",
              "\tbatch: <class 'list'>\n",
              "\tmetrics: <class 'dict'>\n",
              "\tdataloader: <class 'torch.utils.data.dataloader.DataLoader'>\n",
              "\tseed: <class 'NoneType'>\n",
              "\ttimes: <class 'dict'>"
            ]
          },
          "metadata": {},
          "execution_count": 8
        }
      ],
      "source": [
        "architecture=\"ResNet18\" #or \"WRN\"\n",
        "batch_size=128\n",
        "length_scale=0.1     #\"Length scale of RBF kernel (default: 0.1)\",\n",
        "centroid_size=None\n",
        "learning_rate=0.05\n",
        "l_gradient_penalty=0.5\n",
        "gamma=0.999 #Decay factor for exponential average\n",
        "weight_decay=5e-4\n",
        "final_model=True\n",
        "output_dir=\"results\"\n",
        "\n",
        "writer = SummaryWriter(log_dir=f\"runs/{output_dir}\")\n",
        "\n",
        "ds = all_datasets[\"CIFAR10\"]()\n",
        "input_size, num_classes, dataset, test_dataset = ds\n",
        "\n",
        "idx = list(range(len(dataset)))\n",
        "random.shuffle(idx)\n",
        "\n",
        "if final_model:\n",
        "    train_dataset = dataset\n",
        "    val_dataset = test_dataset\n",
        "else:\n",
        "    val_size = int(len(dataset) * 0.8)\n",
        "    train_dataset = torch.utils.data.Subset(dataset, idx[:val_size])\n",
        "    val_dataset = torch.utils.data.Subset(dataset, idx[val_size:])\n",
        "\n",
        "    val_dataset.transform = (\n",
        "        test_dataset.transform\n",
        "    )  # Test time preprocessing for validation\n",
        "\n",
        "if architecture == \"WRN\":\n",
        "    model_output_size = 640\n",
        "    epochs = 200\n",
        "    milestones = [60, 120, 160]\n",
        "    feature_extractor = WideResNet()\n",
        "elif architecture == \"ResNet18\":\n",
        "    model_output_size = 512\n",
        "    epochs = 100\n",
        "    milestones = [25, 50, 75]\n",
        "    feature_extractor = resnet18()\n",
        "\n",
        "    # Adapted resnet from:\n",
        "    # https://github.com/kuangliu/pytorch-cifar/blob/master/models/resnet.py\n",
        "    feature_extractor.conv1 = torch.nn.Conv2d(\n",
        "        3, 64, kernel_size=3, stride=1, padding=1, bias=False\n",
        "    )\n",
        "    feature_extractor.maxpool = torch.nn.Identity()\n",
        "    feature_extractor.fc = torch.nn.Identity()\n",
        "elif architecture == \"ResNet34\":\n",
        "    model_output_size = 512\n",
        "    epochs = 100\n",
        "    milestones = [25, 50, 75]\n",
        "    feature_extractor = resnet34()\n",
        "    feature_extractor.conv1 = torch.nn.Conv2d(\n",
        "        3, 64, kernel_size=2, stride=1, padding=1, bias=False\n",
        "    )\n",
        "    feature_extractor.maxpool = torch.nn.Identity()\n",
        "    feature_extractor.fc = torch.nn.Identity()\n",
        "if centroid_size is None:\n",
        "    centroid_size = model_output_size\n",
        "\n",
        "model = ResNet_DUQ(\n",
        "    feature_extractor,\n",
        "    num_classes,\n",
        "    centroid_size,\n",
        "    model_output_size,\n",
        "    length_scale,\n",
        "    gamma,\n",
        ")\n",
        "model = model.cuda()\n",
        "\n",
        "optimizer = torch.optim.SGD(    model.parameters(), lr=learning_rate, momentum=0.9, weight_decay=weight_decay)\n",
        "#optimizer = torch.optim.Adam(model.parameters(), lr=learning_rate,weight_decay=weight_decay)\n",
        "\n",
        "scheduler = torch.optim.lr_scheduler.MultiStepLR(\n",
        "    optimizer, milestones=milestones, gamma=0.2\n",
        ")\n",
        "\n",
        "def calc_gradients_input(x, y_pred):\n",
        "    gradients = torch.autograd.grad(\n",
        "        outputs=y_pred,\n",
        "        inputs=x,\n",
        "        grad_outputs=torch.ones_like(y_pred),\n",
        "        create_graph=True,\n",
        "    )[0]\n",
        "\n",
        "    gradients = gradients.flatten(start_dim=1)\n",
        "\n",
        "    return gradients\n",
        "\n",
        "def calc_gradient_penalty(x, y_pred):\n",
        "    gradients = calc_gradients_input(x, y_pred)\n",
        "\n",
        "    # L2 norm\n",
        "    grad_norm = gradients.norm(2, dim=1)\n",
        "\n",
        "    # Two sided penalty\n",
        "    gradient_penalty = ((grad_norm - 1) ** 2).mean()\n",
        "\n",
        "    return gradient_penalty\n",
        "\n",
        "def step(engine, batch):\n",
        "    model.train()\n",
        "\n",
        "    optimizer.zero_grad()\n",
        "\n",
        "    x, y = batch\n",
        "    x, y = x.cuda(), y.cuda()\n",
        "\n",
        "    x.requires_grad_(True)\n",
        "\n",
        "    y_pred = model(x)\n",
        "\n",
        "    y = F.one_hot(y, num_classes).float()\n",
        "\n",
        "    loss = F.binary_cross_entropy(y_pred, y, reduction=\"mean\")\n",
        "\n",
        "    if l_gradient_penalty > 0:\n",
        "        gp = calc_gradient_penalty(x, y_pred)\n",
        "        loss += l_gradient_penalty * gp\n",
        "\n",
        "    loss.backward()\n",
        "    optimizer.step()\n",
        "\n",
        "    x.requires_grad_(False)\n",
        "\n",
        "    with torch.no_grad():\n",
        "        model.eval()\n",
        "        model.update_embeddings(x, y)\n",
        "\n",
        "    return loss.item()\n",
        "\n",
        "def eval_step(engine, batch):\n",
        "    model.eval()\n",
        "\n",
        "    x, y = batch\n",
        "    x, y = x.cuda(), y.cuda()\n",
        "\n",
        "    x.requires_grad_(True)\n",
        "\n",
        "    y_pred = model(x)\n",
        "\n",
        "    return {\"x\": x, \"y\": y, \"y_pred\": y_pred}\n",
        "\n",
        "trainer = Engine(step)\n",
        "evaluator = Engine(eval_step)\n",
        "\n",
        "metric = Average()\n",
        "metric.attach(trainer, \"loss\")\n",
        "\n",
        "metric = Accuracy(output_transform=lambda out: (out[\"y_pred\"], out[\"y\"]))\n",
        "metric.attach(evaluator, \"accuracy\")\n",
        "\n",
        "def bce_output_transform(out):\n",
        "    return (out[\"y_pred\"], F.one_hot(out[\"y\"], num_classes).float())\n",
        "\n",
        "metric = Loss(F.binary_cross_entropy, output_transform=bce_output_transform)\n",
        "metric.attach(evaluator, \"bce\")\n",
        "\n",
        "metric = Loss(\n",
        "    calc_gradient_penalty, output_transform=lambda out: (out[\"x\"], out[\"y_pred\"])\n",
        ")\n",
        "metric.attach(evaluator, \"gradient_penalty\")\n",
        "\n",
        "pbar = ProgressBar(dynamic_ncols=True)\n",
        "pbar.attach(trainer)\n",
        "\n",
        "kwargs = {\"num_workers\": 4, \"pin_memory\": True}\n",
        "\n",
        "train_loader = torch.utils.data.DataLoader(\n",
        "    train_dataset, batch_size=batch_size, shuffle=True, drop_last=True, **kwargs\n",
        ")\n",
        "\n",
        "val_loader = torch.utils.data.DataLoader(\n",
        "    val_dataset, batch_size=batch_size, shuffle=False, **kwargs\n",
        ")\n",
        "\n",
        "test_loader = torch.utils.data.DataLoader(\n",
        "    test_dataset, batch_size=batch_size, shuffle=False, **kwargs\n",
        ")\n",
        "\n",
        "\n",
        "@trainer.on(Events.EPOCH_COMPLETED)\n",
        "def log_results(trainer):\n",
        "    metrics = trainer.state.metrics\n",
        "    loss = metrics[\"loss\"]\n",
        "\n",
        "    print(f\"Train - Epoch: {trainer.state.epoch} Loss: {loss:.2f}\")\n",
        "\n",
        "    writer.add_scalar(\"Loss/train\", loss, trainer.state.epoch)\n",
        "\n",
        "    if trainer.state.epoch > (epochs - 5):\n",
        "\n",
        "        accuracy, auroc = get_cifar_svhn_ood(model)\n",
        "        print(f\"Test Accuracy: {accuracy}, AUROC: {auroc}\")\n",
        "        writer.add_scalar(\"OoD/test_accuracy\", accuracy, trainer.state.epoch)\n",
        "        writer.add_scalar(\"OoD/roc_auc\", auroc, trainer.state.epoch)\n",
        "\n",
        "        accuracy, auroc = get_auroc_classification(val_dataset, model)\n",
        "        print(f\"AUROC - uncertainty: {auroc}\")\n",
        "        writer.add_scalar(\"OoD/val_accuracy\", accuracy, trainer.state.epoch)\n",
        "        writer.add_scalar(\"OoD/roc_auc_classification\", auroc, trainer.state.epoch)\n",
        "\n",
        "    evaluator.run(val_loader)\n",
        "    metrics = evaluator.state.metrics\n",
        "    acc = metrics[\"accuracy\"]\n",
        "    bce = metrics[\"bce\"]\n",
        "    GP = metrics[\"gradient_penalty\"]\n",
        "    loss = bce + l_gradient_penalty * GP\n",
        "\n",
        "    print(\n",
        "        (\n",
        "            f\"Valid - Epoch: {trainer.state.epoch} \"\n",
        "            f\"Acc: {acc:.4f} \"\n",
        "            f\"Loss: {loss:.2f} \"\n",
        "            f\"BCE: {bce:.2f} \"\n",
        "            f\"GP: {GP:.2f} \"\n",
        "        )\n",
        "    )\n",
        "\n",
        "    writer.add_scalar(\"Loss/valid\", loss, trainer.state.epoch)\n",
        "    writer.add_scalar(\"BCE/valid\", bce, trainer.state.epoch)\n",
        "    writer.add_scalar(\"GP/valid\", GP, trainer.state.epoch)\n",
        "    writer.add_scalar(\"Accuracy/valid\", acc, trainer.state.epoch)\n",
        "\n",
        "    scheduler.step()\n",
        "\n",
        "trainer.run(train_loader, max_epochs=epochs)\n",
        "\n",
        "\n"
      ]
    },
    {
      "cell_type": "code",
      "execution_count": null,
      "metadata": {
        "id": "VIfZ0xe8ZtFT"
      },
      "outputs": [],
      "source": [
        "torch.save(model,\"./drive/My Drive/dlmodel/model_CIFAR10_batch128-original2.pth\")"
      ]
    },
    {
      "cell_type": "code",
      "execution_count": null,
      "metadata": {
        "colab": {
          "base_uri": "https://localhost:8080/"
        },
        "outputId": "6c04c777-1779-43a7-9818-3d454770feca",
        "id": "WngyOJkdnoWJ"
      },
      "outputs": [
        {
          "output_type": "stream",
          "name": "stdout",
          "text": [
            "Files already downloaded and verified\n",
            "Files already downloaded and verified\n",
            "Using downloaded and verified file: ./data/SVHN/train_32x32.mat\n",
            "Using downloaded and verified file: ./data/SVHN/test_32x32.mat\n"
          ]
        },
        {
          "output_type": "stream",
          "name": "stderr",
          "text": [
            "/usr/local/lib/python3.7/dist-packages/torch/utils/data/dataloader.py:481: UserWarning: This DataLoader will create 4 worker processes in total. Our suggested max number of worker in current system is 2, which is smaller than what this DataLoader is going to create. Please be aware that excessive worker creation might get DataLoader running slow or even freeze, lower the worker number to avoid potential slowness/freeze if necessary.\n",
            "  cpuset_checked))\n"
          ]
        },
        {
          "output_type": "stream",
          "name": "stdout",
          "text": [
            "Test Accuracy: 0.9403, AUROC: 0.9171227815765212\n"
          ]
        },
        {
          "output_type": "stream",
          "name": "stderr",
          "text": [
            "/usr/local/lib/python3.7/dist-packages/torch/utils/data/dataloader.py:481: UserWarning: This DataLoader will create 4 worker processes in total. Our suggested max number of worker in current system is 2, which is smaller than what this DataLoader is going to create. Please be aware that excessive worker creation might get DataLoader running slow or even freeze, lower the worker number to avoid potential slowness/freeze if necessary.\n",
            "  cpuset_checked))\n"
          ]
        },
        {
          "output_type": "stream",
          "name": "stdout",
          "text": [
            "AUROC - uncertainty: 0.9080419289542113\n"
          ]
        }
      ],
      "source": [
        "accuracy, auroc = get_cifar_svhn_ood(model)\n",
        "print(f\"Test Accuracy: {accuracy}, AUROC: {auroc}\")\n",
        "writer.add_scalar(\"OoD/test_accuracy\", accuracy, trainer.state.epoch)\n",
        "writer.add_scalar(\"OoD/roc_auc\", auroc, trainer.state.epoch)\n",
        "\n",
        "accuracy, auroc = get_auroc_classification(val_dataset, model)\n",
        "print(f\"AUROC - uncertainty: {auroc}\")\n",
        "writer.add_scalar(\"OoD/val_accuracy\", accuracy, trainer.state.epoch)\n",
        "writer.add_scalar(\"OoD/roc_auc_classification\", auroc, trainer.state.epoch)"
      ]
    },
    {
      "cell_type": "code",
      "execution_count": null,
      "metadata": {
        "id": "m0maU8R_0JUN",
        "colab": {
          "base_uri": "https://localhost:8080/"
        },
        "outputId": "8bfba763-0cb7-4896-a394-916e26a3a188"
      },
      "outputs": [
        {
          "output_type": "stream",
          "name": "stderr",
          "text": [
            "/usr/local/lib/python3.7/dist-packages/torch/utils/data/dataloader.py:481: UserWarning: This DataLoader will create 4 worker processes in total. Our suggested max number of worker in current system is 2, which is smaller than what this DataLoader is going to create. Please be aware that excessive worker creation might get DataLoader running slow or even freeze, lower the worker number to avoid potential slowness/freeze if necessary.\n",
            "  cpuset_checked))\n"
          ]
        },
        {
          "output_type": "stream",
          "name": "stdout",
          "text": [
            "Test - Accuracy 0.9403\n"
          ]
        }
      ],
      "source": [
        "evaluator.run(test_loader)\n",
        "acc = evaluator.state.metrics[\"accuracy\"]\n",
        "\n",
        "print(f\"Test - Accuracy {acc:.4f}\")\n",
        "pathlib.Path(\"runs/\" + output_dir).mkdir(exist_ok=True)\n",
        "torch.save(model.state_dict(), f\"./drive/My Drive/model_CIFAR10_batch128-original2_dict.pt\")\n",
        "writer.close()"
      ]
    },
    {
      "cell_type": "markdown",
      "source": [
        "## Exploration: SVHN vs LFWpeople"
      ],
      "metadata": {
        "id": "zYoFEjXSGL57"
      }
    },
    {
      "cell_type": "markdown",
      "source": [
        "### Tunning hyperparameters\n",
        "\n",
        "The code is based on ignite package, and the hyperparameter tunning would be a bit complicated. To do so, we have to use the Optuna package for tunning."
      ],
      "metadata": {
        "id": "9BdOuqLyoimn"
      }
    },
    {
      "cell_type": "code",
      "source": [
        "class ResNet_DUQ(nn.Module):\n",
        "    def __init__(\n",
        "        self,trial,\n",
        "        feature_extractor,\n",
        "        num_classes,\n",
        "        centroid_size,\n",
        "        model_output_size,\n",
        "        #length_scale,\n",
        "        gamma,\n",
        "    ):\n",
        "        super().__init__()\n",
        "        \n",
        "\n",
        "        self.gamma = gamma\n",
        "\n",
        "        self.W = nn.Parameter(\n",
        "            torch.zeros(centroid_size, num_classes, model_output_size)\n",
        "        )\n",
        "        nn.init.kaiming_normal_(self.W, nonlinearity=\"relu\")\n",
        "        #nn.init.xavier_uniform_(self.W, gain=nn.init.calculate_gain('relu'))\n",
        "        self.feature_extractor = feature_extractor\n",
        "\n",
        "        self.register_buffer(\"N\", torch.zeros(num_classes) + 13)\n",
        "        self.register_buffer(\n",
        "            \"m\", torch.normal(torch.zeros(centroid_size, num_classes), 0.05)\n",
        "        )\n",
        "        self.m = self.m * self.N\n",
        "\n",
        "        self.sigma = trial.suggest_uniform(\"length_scale\",0.1,1)\n",
        "\n",
        "    def rbf(self, z):\n",
        "        z = torch.einsum(\"ij,mnj->imn\", z, self.W)\n",
        "\n",
        "        embeddings = self.m / self.N.unsqueeze(0)\n",
        "\n",
        "        diff = z - embeddings.unsqueeze(0)\n",
        "        diff = (diff ** 2).mean(1).div(2 * self.sigma ** 2).mul(-1).exp()\n",
        "\n",
        "        return diff\n",
        "\n",
        "    def update_embeddings(self, x, y):\n",
        "        self.N = self.gamma * self.N + (1 - self.gamma) * y.sum(0)\n",
        "\n",
        "        z = self.feature_extractor(x)\n",
        "\n",
        "        z = torch.einsum(\"ij,mnj->imn\", z, self.W)\n",
        "        embedding_sum = torch.einsum(\"ijk,ik->jk\", z, y)\n",
        "\n",
        "        self.m = self.gamma * self.m + (1 - self.gamma) * embedding_sum\n",
        "\n",
        "    def forward(self, x):\n",
        "        z = self.feature_extractor(x)\n",
        "        y_pred = self.rbf(z)\n",
        "\n",
        "        return y_pred"
      ],
      "metadata": {
        "id": "y_92LcI31A7S"
      },
      "execution_count": null,
      "outputs": []
    },
    {
      "cell_type": "code",
      "execution_count": null,
      "metadata": {
        "id": "2ok_2sSroSKl"
      },
      "outputs": [],
      "source": [
        "def objective(trial):\n",
        "  architecture=\"ResNet18\" #or \"WRN\"\n",
        "  batch_size=128\n",
        "  length_scale=0.1     #\"Length scale of RBF kernel (default: 0.1)\",\n",
        "  centroid_size=None\n",
        "  learning_rate=trial.suggest_loguniform(\"learning_rate\", 0.001, 0.2)\n",
        "  l_gradient_penalty=trial.suggest_uniform(\"lambda\",0,1)\n",
        "  gamma=0.999 #Decay factor for exponential average\n",
        "  weight_decay=5e-4\n",
        "  final_model=False\n",
        "  output_dir=\"results\"\n",
        "\n",
        "  writer = SummaryWriter(log_dir=f\"runs/{output_dir}\")\n",
        "\n",
        "  ds = all_datasets[\"SVHN\"]()\n",
        "  input_size, num_classes, dataset, test_dataset = ds\n",
        "\n",
        "  # Split up training set\n",
        "  idx = list(range(len(dataset)))\n",
        "  random.shuffle(idx)\n",
        "\n",
        "  if final_model:\n",
        "      train_dataset = dataset\n",
        "      val_dataset = test_dataset\n",
        "  else:\n",
        "      val_size = int(len(dataset) * 0.8)\n",
        "      train_dataset = torch.utils.data.Subset(dataset, idx[:val_size])\n",
        "      val_dataset = torch.utils.data.Subset(dataset, idx[val_size:])\n",
        "\n",
        "      val_dataset.transform = (\n",
        "          test_dataset.transform\n",
        "      )  # Test time preprocessing for validation\n",
        "\n",
        "  if architecture == \"WRN\":\n",
        "      model_output_size = 640\n",
        "      epochs = 200\n",
        "      milestones = [60, 120, 160]\n",
        "      feature_extractor = WideResNet()\n",
        "  elif architecture == \"ResNet18\":\n",
        "      model_output_size = 512\n",
        "      epochs = 50\n",
        "      milestones = [25, 50, 75]\n",
        "      feature_extractor = resnet18()\n",
        "\n",
        "      # Adapted resnet from:\n",
        "      # https://github.com/kuangliu/pytorch-cifar/blob/master/models/resnet.py\n",
        "      feature_extractor.conv1 = torch.nn.Conv2d(\n",
        "          3, 64, kernel_size=3, stride=1, padding=1, bias=False\n",
        "      )\n",
        "      feature_extractor.maxpool = torch.nn.Identity()\n",
        "      feature_extractor.fc = torch.nn.Identity()\n",
        "  elif architecture == \"ResNet34\":\n",
        "      model_output_size = 512\n",
        "      epochs = 100\n",
        "      milestones = [25, 50, 75]\n",
        "      feature_extractor = resnet34()\n",
        "      feature_extractor.conv1 = torch.nn.Conv2d(\n",
        "          3, 64, kernel_size=2, stride=1, padding=1, bias=False\n",
        "      )\n",
        "      feature_extractor.maxpool = torch.nn.Identity()\n",
        "      feature_extractor.fc = torch.nn.Identity()\n",
        "  if centroid_size is None:\n",
        "      centroid_size = model_output_size\n",
        "\n",
        "  model = ResNet_DUQ(trial,\n",
        "      feature_extractor,\n",
        "      num_classes,\n",
        "      centroid_size,\n",
        "      model_output_size,\n",
        "      #length_scale,\n",
        "      gamma,\n",
        "  )\n",
        "\n",
        "  model = model.cuda()\n",
        "\n",
        "  optimizer = torch.optim.SGD(    model.parameters(), lr=learning_rate, momentum=0.9, weight_decay=weight_decay)\n",
        "  #optimizer = torch.optim.Adam(model.parameters(), lr=learning_rate,weight_decay=weight_decay)\n",
        "\n",
        "  scheduler = torch.optim.lr_scheduler.MultiStepLR(\n",
        "      optimizer, milestones=milestones, gamma=0.2\n",
        "  )\n",
        "\n",
        "  \n",
        "  def calc_gradients_input(x, y_pred):\n",
        "      gradients = torch.autograd.grad(\n",
        "          outputs=y_pred,\n",
        "          inputs=x,\n",
        "          grad_outputs=torch.ones_like(y_pred),\n",
        "          create_graph=True,\n",
        "      )[0]\n",
        "\n",
        "      gradients = gradients.flatten(start_dim=1)\n",
        "\n",
        "      return gradients\n",
        "\n",
        "  def calc_gradient_penalty(x, y_pred):\n",
        "      gradients = calc_gradients_input(x, y_pred)\n",
        "\n",
        "      # L2 norm\n",
        "      grad_norm = gradients.norm(2, dim=1)\n",
        "\n",
        "      # Two sided penalty\n",
        "      gradient_penalty = ((grad_norm - 1) ** 2).mean()\n",
        "\n",
        "      return gradient_penalty\n",
        "\n",
        "  def step(engine, batch):\n",
        "      model.train()\n",
        "\n",
        "      optimizer.zero_grad()\n",
        "\n",
        "      x, y = batch\n",
        "      x, y = x.cuda(), y.cuda()\n",
        "\n",
        "      x.requires_grad_(True)\n",
        "\n",
        "      y_pred = model(x)\n",
        "\n",
        "      y = F.one_hot(y, num_classes).float()\n",
        "\n",
        "      loss = F.binary_cross_entropy(y_pred, y, reduction=\"mean\")\n",
        "\n",
        "      if l_gradient_penalty > 0:\n",
        "          gp = calc_gradient_penalty(x, y_pred)\n",
        "          loss += l_gradient_penalty * gp\n",
        "\n",
        "      loss.backward()\n",
        "      optimizer.step()\n",
        "\n",
        "      x.requires_grad_(False)\n",
        "\n",
        "      with torch.no_grad():\n",
        "          model.eval()\n",
        "          model.update_embeddings(x, y)\n",
        "\n",
        "      return loss.item()\n",
        "\n",
        "  def eval_step(engine, batch):\n",
        "      model.eval()\n",
        "\n",
        "      x, y = batch\n",
        "      x, y = x.cuda(), y.cuda()\n",
        "\n",
        "      x.requires_grad_(True)\n",
        "\n",
        "      y_pred = model(x)\n",
        "\n",
        "      return {\"x\": x, \"y\": y, \"y_pred\": y_pred}\n",
        "\n",
        "  trainer = Engine(step)\n",
        "  evaluator = Engine(eval_step)\n",
        "\n",
        "\n",
        "  # Register a pruning handler to the evaluator.\n",
        "  pruning_handler = optuna.integration.PyTorchIgnitePruningHandler(trial, \"accuracy\", trainer)\n",
        "  evaluator.add_event_handler(Events.COMPLETED, pruning_handler)\n",
        "\n",
        "\n",
        "  metric = Accuracy(output_transform=lambda out: (out[\"y_pred\"], out[\"y\"]))\n",
        "  metric.attach(evaluator, \"accuracy\")\n",
        "\n",
        "  pbar = ProgressBar(dynamic_ncols=True)\n",
        "  pbar.attach(trainer)\n",
        "  kwargs = {\"num_workers\": 2, \"pin_memory\": True}\n",
        "\n",
        "  '''\n",
        "  #SMALL SAMPLING\n",
        "  from torch.utils.data import SubsetRandomSampler\n",
        "  valid_size=0.3\n",
        "  num_train = 5000\n",
        "  indices = list(range(num_train))\n",
        "  np.random.shuffle(indices)\n",
        "  split = int(np.floor(valid_size * num_train))\n",
        "  train_idx, valid_idx = indices[split:], indices[:split]\n",
        "\n",
        "  # define samplers for obtaining training and validation batches\n",
        "  train_sampler = SubsetRandomSampler(train_idx)\n",
        "  valid_sampler = SubsetRandomSampler(valid_idx)\n",
        "\n",
        "  # prepare data loaders (combine dataset and sampler)\n",
        "  train_loader = torch.utils.data.DataLoader(\n",
        "      train_dataset,sampler=train_sampler, batch_size=batch_size,  drop_last=True, **kwargs\n",
        "  )\n",
        "\n",
        "  val_loader = torch.utils.data.DataLoader(\n",
        "      val_dataset,sampler=valid_sampler, batch_size=batch_size, **kwargs\n",
        "  )\n",
        "\n",
        "  test_loader = torch.utils.data.DataLoader(\n",
        "      test_dataset, batch_size=batch_size, shuffle=False, **kwargs\n",
        "  )\n",
        "  '''\n",
        "\n",
        "  train_loader = torch.utils.data.DataLoader(\n",
        "      train_dataset, batch_size=batch_size, shuffle=True, drop_last=True, **kwargs\n",
        "  )\n",
        "\n",
        "  val_loader = torch.utils.data.DataLoader(\n",
        "      val_dataset, batch_size=batch_size, shuffle=False, **kwargs\n",
        "  )\n",
        "\n",
        "  test_loader = torch.utils.data.DataLoader(\n",
        "      test_dataset, batch_size=batch_size, shuffle=False, **kwargs\n",
        "  )\n",
        "  \n",
        "\n",
        "\n",
        "  @trainer.on(Events.EPOCH_COMPLETED)\n",
        "  def log_results(trainer):\n",
        "      \n",
        "      evaluator.run(val_loader)\n",
        "      metrics = evaluator.state.metrics\n",
        "      acc=metrics[\"accuracy\"]\n",
        "      print(\n",
        "        (\n",
        "            f\"Valid - Epoch: {trainer.state.epoch} \"\n",
        "            f\"Acc: {acc:.4f}\" ))\n",
        "      scheduler.step()\n",
        "  \n",
        "  # earlystopping\n",
        "  def score_function(evaluator):\n",
        "      return evaluator.state.metrics[\"accuracy\"]\n",
        "\n",
        "  handler = EarlyStopping(patience=4, score_function=score_function, trainer=trainer)\n",
        "  # Note: the handler is attached to an *Evaluator* (runs one epoch on validation dataset).\n",
        "  evaluator.add_event_handler(Events.COMPLETED, handler)\n",
        "\n",
        "\n",
        "  trainer.run(train_loader, max_epochs=epochs)\n",
        "  return evaluator.state.metrics[\"accuracy\"]\n",
        "\n",
        "\n"
      ]
    },
    {
      "cell_type": "code",
      "source": [
        "study = optuna.create_study(\n",
        "    direction=\"maximize\",\n",
        "    sampler=optuna.samplers.TPESampler(seed=SEED),\n",
        "    pruner=optuna.pruners.MedianPruner(n_warmup_steps=4),\n",
        ")\n",
        "study.optimize(objective, n_trials=20, timeout=260000)\n",
        "\n",
        "\n"
      ],
      "metadata": {
        "colab": {
          "base_uri": "https://localhost:8080/",
          "height": 1000,
          "referenced_widgets": [
            "80d91e5ba2af4d1180da3d65b5a9a649",
            "8432b7bdee8343bc8a7d9cc283c7f014",
            "304e636931644d9fa11ce53aa04203c3",
            "321ec019d17249118cb97effaf8d5a1e",
            "1158239f908d458ab5e4dee17e0b1917",
            "bd766f6fea8b4536899b369bc73f87c9",
            "75d24d221de14c6c80009b98a33cca4f",
            "7f90b6ee6b9840f699c9cefed2763c5c",
            "c902e716f0044d2c8feea4abc74e2c5d",
            "b01e976bb2144d00a9dbb8138ba83486",
            "465527fd6360439883605494eeb6ced5",
            "ffe8ae0810b24855b4f9ad942daf737e",
            "26e21e55249c45a68d596a83fc183674",
            "4e9f955871e84480a161f19d2fad2a19",
            "b1075cbb8e7d497897dc124782545d55",
            "1e4ca68cdf5d487db389de5c7caf261b",
            "d96983050d6b4eedb22b58698f25e8fe",
            "3c1a2f89048c47c1b3f2e4d111a63715",
            "02b41530eac7476ba6f10103b89274c3",
            "88efa7f05fed49caa8c4494aa6afcfa3",
            "f842fb9bf6634066954a0ddf9ed02f1b",
            "bac658fb1c74489596b08bdbc851ba49",
            "7a2425fb31644e788288325418d13e8c",
            "f742638992474a2cab5be6cef57f1fd6",
            "7469a27d1a7946bd90d62e685fb60376",
            "b9047b80b2b84ac3ba85110c54a389fe",
            "6b0653a2f9354d9c9388a4c490c1de0c",
            "89dcfdaf7d124fbba07d04a24e44b54a",
            "db632f470ca3438dad2d697bf06526cb",
            "132a387deb1b4358b552f4dbe161be26",
            "95c673dfb4764d0591e8c29094981a6a",
            "35dfc70589e34f688834602e2678794d",
            "3d72d88097304218b45a6acbef6d8045",
            "1201d81205684cd48fb71054dbacd472",
            "c9d1b63a92ca4cfba2c97197aa5e8dcb",
            "27cbb813eb4c4a20a436cafe9b5352a5",
            "37c92868ae9d42aaa043794ad2683aeb",
            "e85420dfffb949c9afce24ccf0d3d28e",
            "4fa19f2e66794a7e932f1d3cafbdba8c",
            "2544bf2ce86544a4aa369b89d6d6a8ee",
            "78ea49d2f44047ac953baffd290f8d0b",
            "69fed9cf7eef4e638ffbc34ed4d6c449",
            "6339714befe34079881527ed89bb48b4",
            "2ca66707be1648cb8beac024334c523e",
            "1351844e9d894ca1a853108d3b4a7778",
            "aff8fcdc1aa140a080e45dc8f7e27027",
            "cad3a3050b8a458daa17f3d996c48678",
            "5612759bc7db4d288f591ba64795ddd0",
            "e38453f80da942bab37e4d2629417c99",
            "c1667a86a3c842b6a35155feaae57779",
            "ad95bf79aa8c482d91522cfc23f3aa02",
            "eb294ac9f2ca4e62b693b6407dfa79fb",
            "c6144f1841134eeabc93a748d72c8ffc",
            "8d4612a92724470387adeaae80f19731",
            "dc3235160abc44b5a3e149fc184e3938",
            "7b91251cc41749dda2c3133350c6cb73",
            "01175ccdc83a483db72aecf6e5fd7d37",
            "cc1d9377c54b49f98e2ba1480f675bce",
            "43c3335dfc2441acb7a8dcc51d0b8621",
            "9f87d3ccbe274f3d9c016f1122b4eaf2",
            "250a558d921949f4a692c7589a49e386",
            "5b9de5fee27346e4bfbd0d3501e444e3",
            "668cd0c947834fcf893db30c82b9f33d",
            "f814703f80764e8fb5202144c29e26b6",
            "15304022142841138c6a21e6ccde7a61",
            "995f0d83ad3b4253ae79fe39714e7097",
            "fe38738cb60d48159be2004e49b1d82b",
            "28e05b8f6d9b4935bbeb22cd020293f5",
            "4ce72387bf8340cc8c2cf1b6edbba92d",
            "a0eb8a103062459fb09bba10bce0fe06",
            "968af489f17f4545970d3f4d542d38c1",
            "58825b489cba44caa459119801900d99",
            "eb38df52904b44158088f89dc848ca58",
            "add3691b3d9f4ab993068eb141cbb355",
            "69c3250ae9b54c51b7bfcda1ff1d55b1",
            "39667aba38114657878001376cd41ea1",
            "dbec3d94c4b544daa88a658ad12f6852",
            "fb2d42c33b4441d4bc41651bff59205a",
            "78fc255a77594e9fbb7dce8f842b3a7f",
            "50691dd93e77407991c84532a1d1ca0f",
            "461b55d6d55e4c7cab47c9df26fe967a",
            "b05a364a70e5419687d91c1122b4de98",
            "e4d31655f1b54296bb0f0dd7b0995c1d",
            "7d2d4f84a4b94c698c9e58116e07377b",
            "65ee75cbe39e4d139dbdb79ea0dd9676",
            "f71a5a07da824bcd94102c0fc7fb4757",
            "bd34dff820e0429c96f7e53555b45343",
            "7c0b6006718f48ef93fbb12c3bc76c51",
            "c65fcae3fe7c47e98721944d795575b3",
            "fd8cc229ea2246ca9c4aa64c692be66c",
            "8273654a20bc45b5a16ce1505e5e86b7",
            "18376823c80c4f59bbedf01210389b9a",
            "7f87efead11a4d79aa3a9567dd406cd8",
            "0255c87caeec4b208caa1fe3c55d83c8",
            "2a2b12f8b9464937a0e8406c04943bb6",
            "8c4d4f2ce93c4abd812fd7ddf06f7fda",
            "6f849b71cea54bb1a6e6e9a37ba3b0bc",
            "936988044c7d4ee88bf3bd8220d39c6b",
            "a85ec9b3eac4411b8927dabdb6138f59",
            "f8ddeeb89b5549f4be3bd75111bbc289",
            "73eabc5c4a1748f8a63a2f8ac449f0cc",
            "87d7d34b63974e309fee094195f30327",
            "9d07a68ea6f941d488224be800606fdb",
            "bbda359875544b00b275c585df65b11b",
            "d06771ed5c124c13bf3ff55de23e797f",
            "bc42baa253534d80b3fde081234d0845",
            "7e44d647866142cba0f6f1016fc0755b",
            "25c21a22704740b6a52e89bc9bb6f90c",
            "40e74110ca4046199e71322839571f74",
            "cfc9ed64b1344d1eb5d76053fe22eaa3",
            "eafcb17ba401425d80756f99a18376bc",
            "e241a64d984e42538944ab28a687c180",
            "d883cc13a5444485afc21fa22379a4ea",
            "44b60cbad1e74e7bbc9bd092668967da",
            "ee04e236f34c482fab1f90ddedbc0ed0",
            "d02349b4d7254bc09c438039ee2b0fd8",
            "6485b95cbd2640da86f2224b5b46409d",
            "b31de5dbd5c043059a5d12739c4f7d51",
            "b92f0a5f912048f2a04a6d46df3ec59f",
            "4ade98b283ca43589261ee260b7e093c",
            "73dda3c92f3b4b9b8e8b1e5a70687f5c",
            "1ee5048f941c48948f0aeaff8b6687b3",
            "eacbf994d78944d499d5dbf9efedf226",
            "3a50965f5c974e2d9ccc4127ec9acc26",
            "b327e49df1a044d0b215badac9c2fcf4",
            "9fcb713e3ee549d5b3d5ca15bd267931",
            "a340d1aa336442f59df7e3507b7f8057",
            "75835470e224490880e4ddd1c7d1a5f4",
            "fbf55fe2f94f49448682c83a99a720e3",
            "b010fb0574294ddf97995e04682d3474",
            "4862210011b94d378272fe5b73839157",
            "a1f08d89f4b34eb9aaaae1d204e4f75f",
            "60b0f1a4882c454cbc30a9667703d60c",
            "02dc635e1dc84735a43b570d4366a474",
            "db4884a6c1654b70911ab8c35e9b5c7c",
            "3e7ced2a872843039eb197ab6c5f2465",
            "b696e707ae404c4ea33d2f9560c8e07c",
            "e4090bdbec744304aabed84e46c2fadf",
            "67ce519d71a14d6aac6ba4ddc32ada80",
            "c5cc108075814b3492b417e1641bdef0",
            "b9a0babc07784a419f618a8466d6ae12",
            "2d1d7d87a56b4bdda349a14bc919bc8b",
            "a628080776e64d73bc01c39935ff60be",
            "c3a879fadd9849809d8942abd301f4d8",
            "add932c8aab3486d9c0eca3f5b95be31",
            "7a0aaba2b3f847efbc483ad97364f317",
            "8e55d97eb1da4dcdb4e71206136a6b2a",
            "b2d7614b87db4dcd8f32626b1f8a869f",
            "44d5ff9a62c3445a85a4f29bd9429d9b",
            "4a5003047a924c2fb7f133947a4a7902",
            "d0fe3899d8a54c209e19831a9ec4ab29",
            "1a7910fb6733407a9ea21b8df0526dde",
            "e58e7e51b3de485ab07574ac292fc15c",
            "97bb50be21e24f278cb61cb9c25b3a50",
            "2d516b3276ae41158ae1855edb41eb19",
            "2f59092aa9d540f9a1445ae3cc7316bf",
            "19d803e2d355409f9eeccc6669b57175",
            "26ab8816945b4956b08e98a86da4f709",
            "9651ef25e3514567ae20ed2625942692",
            "ef5eb0bd035940638a490fe8c71a64de",
            "df54cfb8d8624dd294206d4df7860e2a",
            "698977af2fe343e79d83b5f742dad95b",
            "2247b1a8a8d64a92bf3536e456a5324a",
            "f71f974f3f314b1b8e54e4f746716173",
            "0eeb5d0cd12d4a0299dc40b2633f5d91",
            "e68c6faa5aba48d8916ac1bc8a7e5afb",
            "f6a18caca44a49fda1e00fcffe8e5025",
            "7eb045e5930e4c60ac06fc92dc1ce604",
            "d2db56e002c34f789d74745fb2f18a51",
            "0a87d158eb6b43259a4a6867134d3348",
            "aaddaaf2a1324cedb89bcaf3848f03f7",
            "40c7fbe47002433794faf223bfca6ac5",
            "1f28a67a5c0546f694489cf0bbf4ebcc",
            "f9156c1d3f32489fa14c4d698635fb8b",
            "d924fb5d7ae049f782aafa95a891642e",
            "b0f71009236a44dd9360cfda48d17679",
            "463dbf3cd3584e4580b79f7c4e65cee2",
            "1afb4179f056491382bdd0c4eef5b448",
            "32f400f7822b49b88c0dd0342fe1b1ad",
            "2c75823571854dda899c89e76a5f684a",
            "f751052254de4e15b7384d49191dc34b",
            "b2892cb354ad406780c2f220eabfaab7",
            "2d207f7b38ce46cd973e6385c8cda3b6",
            "f7b72c1f60044a798339276a02dd9610",
            "3a551cac2e374356b34b6e9f58f8fd3c",
            "8322a5bc145c4e90ba88ef915bd0d51f",
            "c2d8ce4eb27d4f85b69271c7224e6dc3",
            "ca0cadc0a28644f8b2a6d59844fbab9d",
            "bee3d13edc824f2d8fb7bdc093c5c366",
            "dc05f3cd797c4ec38fdc55d740507320",
            "11053c5b7b094d4bbd2e0abfd30d719c",
            "da46a583cbb2463abc36d41185e47a19",
            "5718c39616fd404dbca862c4897bab3a",
            "25d7e946978440458cbc8e68b770fefb",
            "826dfd5acfb44903995caf9039c21b76",
            "6c7430dd538f4ea8861db4f00680e86a",
            "ff6143d1c8c947f78377a9aaa9ada5c3",
            "1914bbd3b3a749a58b77f5b11ad2822d",
            "7c1cea7a387743fa81dafaeb3e5e166f",
            "3b5ddae58c17406282b72bc0fc9f1916",
            "b1882f0a3d4f4dff9245a4941fc56a9d",
            "7c8b0f46545e47a6b6c829ed777d7859",
            "bbf5bbfbd6774edfa66faad9f781ec1a",
            "14e29b8f1d8d48a2b7db935f7433cab1",
            "ccbc46093d354b6eba7234bb2149007b",
            "ab096a81bccb4dec95bca5c016a70715",
            "76f3d8e2c5ab4b38a9ca56cac8d6fe61",
            "ec8c461e3f894e4a9fe954a08d95fdb3",
            "55a95706f86447e3bba72bf854207296",
            "7426a28a6737453e99603290ed04f0e5",
            "81d67259b34f462c968c5428fa05ff55",
            "b5e519d256624a17aefd9378ea9a2855",
            "400a9d5fddfb4740aa3898312f430b45",
            "95f72bd7df524ab0a62a77b9a5e647ed",
            "a6f57975f225490193cda18e4cdc2a64",
            "a1f85b48e0d949a49e096ffdbcf6de06",
            "fc8e9974cc004d729fc340764c2ae3ae",
            "32838f7d5aa9462287f0d1a3e05c1e36",
            "106f8386505a463a8c67a3fb2020b706",
            "804215c9b3604e7eaa80e369bff7545c",
            "9a80836ae9fd457c8ed819988298657f",
            "a238c650de634853a85bd8b72e79f0aa",
            "c6ba073bd1684fdba51d03b877c89ba8",
            "0f1f6c42f27546f19de0472db90798fc",
            "ae75ee5b82994fdfb1ce3fd592cd9c56",
            "87f3918931e04835bac89f08fd15d5ed",
            "95f7c0bd6c854ae89bbf0c3ff81200c2",
            "248bec2152ee4f62aa96480e8fcb05fe",
            "698eb56923a94e2a91d68d050ca8afec",
            "d5846f631d694cd28b5e6c862f490fd6",
            "e841844a30134f02b8e106ddffaf8792",
            "3708e0ce467a41b58b84a0a7bf4d593e",
            "f08d64399b8a4b00b2f6398de129d37e",
            "9b9a4de61a5549e8957061652cb33048",
            "d13558cd6e5f4341831ed9b5ed9c974a",
            "68b69bc0dae34dcda29a23a86371b13c",
            "4fd1a9ff11614c8183a1cc3d186eb1e1",
            "d6acb5e74a6d4398b9011540bbefeb4f",
            "85f3555cce94452890faf098dfa78e53",
            "8981ca94a2974915ada05dc332e965b0",
            "07ccc4e366b04fe4a85acb2c5b8fdca6",
            "1e10c2f5618748c6815da4af4be43f7d",
            "17fad10705a54e06b67cfd182aed9c26",
            "54f1d8234b454907b696ec1c1a6aa5e6",
            "f98f8425c0d64ec084b6564cdaadf8c1",
            "22ce82e50d7a4bcaa9a257385ac25fb9",
            "70b35117018146a99ece9a7fe44c747d",
            "6f50e395c4c34a05ad161f4538beafdc",
            "93a39e17ec794dd98a0bed313d0ab4d8",
            "d3ea8da2be6d452da5e841193c42ec78",
            "54272597fafe49c198cac25c30e47327",
            "acad30f88f7d4d4d89e4b56ae7930dd0",
            "10ef7b16f6b7445590fec95242b4ccf9",
            "4a5a9322ec724b89b930049348dbb241",
            "7c739681622447cbaede5e86557b2c35",
            "f6f012eba4d140a8a46283dd90615b37",
            "be3e743015404360bd816e66a10a3484",
            "48f9b574d57c4b5fa49285e1ab8a70f1",
            "c0cd5ae0655e45c1b1a790a22c703627",
            "238757d39383459b98c199dfa1851b5d",
            "4803474b436e41c59ec7fc3a4ee88f82",
            "90d7417032ba41038873db2eabc4b2b4",
            "6c185988044641508f0b14c8a4d8f0d7",
            "88833fa1235d41ca89c3b7f36363ae3c",
            "e00749a5d8314c79bff69902cad0ef10",
            "74c03104ac874fa98a8590c859a08074",
            "b1d14f3928b24709b785b6b841bb0bd3",
            "4a9b9739cfd24b8a84ad16bc828a4f8b",
            "edda462d3aeb42b7a40949a8a2c265b9",
            "00f9ec5c7d9044bb8c0b2bf8f599ca9c",
            "478379bdfabb47ae8c68f68086095dd9",
            "9a627020429a42afb721692765250f23",
            "adb413284a9c4ac393c04ee387d92f0a",
            "60d31710245c407eb45de7c0ae18d659",
            "8987c82243f348cf80723854922b96c3",
            "4a0cf281ff694703b8ffa4a2ba33c769",
            "84d8ed8e2f01425db678ccecdadb62b4",
            "0a817a805a1a4cc2a082fc7602d17741",
            "348fdd262e4a4b818bdd8eb9aa064556",
            "436da856b537442883aab6c2cedf778a",
            "ae0be366c4844622a7c416e243c99f2b",
            "c959c2f45dbf43b7aeecb8bc8025f7c0",
            "0783350b6b724f828626596c0822078a",
            "5ab4f3b462ac451b945bda19e2c94b2c",
            "66008bbaebf74fd1ba59f3ce068ddb85",
            "af5c548e83bb499f92002cbb0c86e35b",
            "8020e04e586c420299cb9dc1f3160be1",
            "7ea2b7a235864d3fbe297f381e0bca6c",
            "cc29be215c934de2adfa8c0ff8c0eeec",
            "cbd69085d35546b1b0bc7570d64f6322",
            "b791fc40ec574ce9a626707090ddcc0e",
            "8a37fd50a59249ce9fb7fd5794238f4c",
            "3242b3a05f9e435d8e7707be56b5e1f8",
            "002b5af3046f4a98b91763ee9d78cf3f",
            "d267f75da6694f2783d3b6e8aa2ed6ee",
            "e178cd1b88f24cdc8f6521466389b294",
            "41cc047e3f3a443c9a9e17910d902268",
            "9c7ae36b9409494c8cfc83dce11411b6",
            "4c9e92f398444c01bcb2f01691714001",
            "216eac19becf4dd093ecfdd8020cf1c2",
            "5c33b1195d0247cf9ee93dd2a5fc4662",
            "39c3fd0a37e94e35ba5b21933dd71809",
            "0fa9218d0822491691c19d40c21666e0",
            "07d5b7d1fc39405d8cf679c5e29832b3",
            "2161b8940d7f49f0be2dea4fd6034d96",
            "b9ffee8ef7dd4c0683c2172f56f0f67c",
            "57dd3a1430994ed48b465638c5f351a2",
            "cf13bb1fa08d4e7aa3d8af54ed6bd79b",
            "8a9264fe03194eb8877335a237e74712",
            "97da19983702431d8a86bdf1b67b3bb4",
            "e0e994f2f5bd407ba3c5c5094aeb9464",
            "6da17e2ca90a47649b32707ccfaf805a",
            "a7231a8613114c139094eaf60f3f75ea",
            "a5a2fca1efb1458bad422bb987c4086f",
            "36722b1b3cf94d5eae316d502a9d628d",
            "fdc8046277184b67944fa9bd63a4af63",
            "27005283568e48a1b55e1d336fcd09bd",
            "a511a0272a684cdf801f2c478acc75c1",
            "31f16b243fb2402587bb3d3f40a2a943",
            "d7bf6756611a4c4cb62e351961fee8af",
            "5698b3b1dc1f4bbcb9aa19efa0873115",
            "809e053a001548b3a07393023228f622",
            "6382c42e6d754fc8bfe5d766ca16cd84",
            "524eac5cefce4e948962c2ba783a2674",
            "9714d83e58644b4ba0f5fc9c63387689",
            "f2560a1dec2e4e83a419d70b76e87477",
            "b483bf52f4f84d70be2ee65357ff3a56",
            "ea8687cca8f344059b4996b24a9ad2c6",
            "9e211850678944c6966c67469e8a256a",
            "3c70fc58490d42ac9379bd8b60fffe4a",
            "ad9c9f4fcaad42b6aab7b31fe455a617",
            "8a7d205c12ee46d79fdd077c2129bc19",
            "bf574264c4e8481eb6c4e0b0da34018a",
            "fe3a412118df4c7d9aadbf47351b6611",
            "0278c163544641a6bd5d0c8684e9b8be",
            "161ea3e874204c85a0917042f03a8471",
            "cda69fff058b4292a404ee29ba861057",
            "8038b61f33f749a08f15db3224cd4308",
            "8ec3ec71f3b44ea197023ea2d83ff727",
            "6595fb9725f94c7687727b686d8b30b7",
            "b725c6dca01a4db69df4a202c1733b0d",
            "37ee032416f841bdade54f47b72df688",
            "eabe437bc84e40b6be91f8150f0a83b0",
            "b410416c1193475ab871073dc4f40761",
            "80daba23447543d8a9f80489c8213fec",
            "06dd16987ccd4429b9fb532b2058a36d",
            "819eb372fb7249e99538aade980b4ad9",
            "a7e2ba24069e4aa889cbf537e8b65d40",
            "cd9efd975ffe4aea99bd9361d7ffab61",
            "ef9997b6ad9d49e6a827a0aba1944e2d",
            "a86df635d3e34a96b70421e6cd618d1f",
            "3fbf3061d7b1474daad4257e28254f22",
            "8e9a967b507449fe9322330d1fefef9f",
            "b38d2f432d42436bbdf9a2229e300cc2",
            "febd001c35d2469c97cc16e584501e0f",
            "e819630c2a1247b5968d5dd9398aafa6",
            "43f42345da074c13b2c04813e229b856",
            "5af83407f5a246a0873c159c8a33c05c",
            "13eb52fb818c49918987dccb3246c747",
            "37ed762edb3647ceaf1ec137181c4716",
            "e35d6f6a5f2b481689200606b2012847",
            "ff5026aaf1c54e3ea4f2e09e853dc139",
            "4b263c06d7874a4fa0d37ca01490539e",
            "2cef40d1cb924fbe91963b0591365b84",
            "f650d65a87c2405ebdbace8ff13fb92b",
            "e5d9a486bf7448538b1e8ce617414ee2",
            "61ca5172374c4c48b4381ac03fac72e8",
            "b152c7160eab4a91bdf2fc0397971880",
            "35b133ed11454c3e8d7c6f05f4448818",
            "a675905b1a2643adbd781866228aafcd",
            "1e226fe7b96f4479afecbf6a06657839",
            "d7aa700214694ea8a46428207b9d9900",
            "aa5c601d09884c19b8bbb6b84e020c30",
            "ae09e0ddf1e542a79777d4344388c796",
            "6527b591b2954367a03fb734cd069e8a",
            "3611be10ba164e12bb81753d0d140bfc",
            "19748274913945f29b12384463f6fd0a",
            "733ff436cd394a268abfef7c4fb01322",
            "a04e65701c044b75b805f25fc0749240",
            "7774d8f1b86b4a5c90ca9133dedaeb37",
            "c432a9d2e5554568a4a8e1a1f90566c7",
            "28ac4add9f2548e19136ee2ceabcf4cf",
            "5e9cdabfb811439fa928daa266d75a19",
            "418d0da6c8a54317a7ada097c0998151",
            "ba84d3bd1c964c2a9aadf3392ba39247",
            "1e735196268d4689b097bbafe7274184",
            "d66236682ff046d99b42d8ca2c2882ae",
            "d84e94b0ccf049279442960b0cbbf227",
            "dc39321fce704cab992c5f0c99d7702c",
            "988364bfc677425391d7e9e0f4d4adde",
            "33281de4bdc54155b3c0f1689b68d4d8",
            "3f13ef4f3da4435f9ae2f419c9682bae",
            "2fd8c699be894599a2087249b955a70b",
            "0bc0664eb5f043d99ca65228d58bca3e",
            "c37cc6bc582d421e8af24e9b1f29cad4",
            "c9f191778b5a4ba5a1210e7830f0cb39",
            "203b4ba8d57e4565b7f15d5a4de5b117",
            "7552945186f84f75872adea5b4632562",
            "c673c6f96eda46c094d2ceff3c53a51d",
            "a3010dc81a034f3cb60beb6f36b69ad0",
            "fcaedb91c86043ca8a1a9e9c640bf56c",
            "a57c75716a2d43fc90880d4b4f1dfebc",
            "47e0fe34869745d181259755fd39f618",
            "6e47968aa95d49cf9583cca3b43f4916",
            "d72d56618b5b43dbb631569e6bee1b17",
            "5e927d4920e841f6ba3767a7014c4b09",
            "56438ae79aaf49dfb6c721fccc0f24db",
            "22cca32953174de99b932151009420fc",
            "af25ccb4a0044a49997995d745f351fd",
            "e71a9cff23ff48348fee2be768117a8d",
            "5cc2da227be8442f8c3e315751bed5e6",
            "e0ca04f82a0b48669c0515150e4e6413",
            "236fa24e17d04942beb3eede47448d55",
            "932ad10930b9464ba84ddc0581b44bec",
            "6a09261e196c4a018ab16c2c926c37c7",
            "ed0da57d69ae436b91c31d7574848b52",
            "7e5ce74375944f008b1b7aa6a79dd52a",
            "71afd544a76b409eb4b4e94c5668fc79",
            "0ea0a715eaa343259cb9bd1d968fae43",
            "1588e8553549443b8d15f948e2186b2b",
            "dc0b19314a47485ba5db3f421f9c8d12",
            "8bbfb4bdac384de0a72911c50b51c23b",
            "4850029550534dd29e9e4a23ff5aafbb",
            "d09df1faa5c84a1e8f1c58129b604063",
            "ad59e559fbc04c59b939bc3c413083d8",
            "718ba802f02444f098a1b35761d1f01e",
            "4be77ce917c741b9ba4cad43d0c41836",
            "9a6b4cff696b49ab905bba9f29b66695",
            "16ecf42fa0e64a5bb707cf7d3acf4490",
            "62c7e44df80d41ef8a9fa5fba6c42a84",
            "82f901479d7646ad870619d6ee6e74be",
            "346256185e3e4fb897c498d64a196077",
            "e79402fa152b4e3782cf231af3592514",
            "211025f34bec4beeac1c9f088b86923e",
            "76e8a6efe32a4a8386f9553ba1166679",
            "aa27991b75924fd4aac002298b76eee0",
            "5b9ca319217c4c53bb2d7cd6de738a94",
            "92f16ede82fe4d788bf2180eea6d18c3",
            "897982fcabd149b0b1eee309520a9cb9",
            "1e963f327ee244bc975bc29f2cde0201",
            "371f74fd7b934a1db98f4f35e64992e0",
            "bdd181aab3cd4f9994ab91fb6104de0f",
            "53474898974f43c095eb00a37b1e39a8",
            "11ae4cce15474d28a78f4371f4e4e810",
            "c054d830e0574990b25c2d5023217b60",
            "939a137526ce48b481e1c63325379d37",
            "66077f5b546d4162b14ddda68b267913",
            "e8e689aa47134ba58f096b23f2ba4579",
            "d8d16a5a9c3648f8b23cbf607fbba722",
            "e57e46c12bde4b5a84558639533b0ff6",
            "69da3d6d425a4e25b1c77591772e7d0a",
            "4402b575c9344b208b07a304c6efb05a",
            "942f7d49208f4925be849589bea7c13a",
            "9922d20862404c1489081dfc0bc1e4b5",
            "06167157fd0a4765875cc75e908ed5a8",
            "0c1316ea4efd41ba91230f485dd322a6",
            "35c4da53d17545d9bc47c54ec6fcc04a",
            "4681e98334bf46eca0ae35245a9cb6e1",
            "d3142beef01f4121b99bee222d584898",
            "19825d00d3e4400db341d882fdb69c01",
            "07954e4aab5848dabc240291ceec54f0",
            "7cd9c9089e79401a91bbdc168397ade7",
            "112b91706af849afb714ad935409d927",
            "33d7f37f927f41719ad267c8f2cac346",
            "05348f8d55314805b17c8abe2a73be24",
            "d2657838994a4106867319df53752de9",
            "4e6cde06e6464351bce2091d9db3fa16",
            "3ed33877a1874056b4a5458d9d8d305d",
            "8f91503aaa9d4afb93f1f48571a3b93b",
            "0817dfce306a47859ac3e5bf0bfb31bf",
            "446e6a3d61d44952887670d16231af50",
            "90b2360503494262b0e16785e5dbc5e1",
            "572a8f1ced7c423c8aa7decbf9859de2",
            "a4af9f90fd394264805068180c1ebe81",
            "22fad0169c744640abcd40dcc2926518",
            "d3f2eca158424220b3ab636cff0ea5e4",
            "b4ea18d554244cacbefa1f94587b9271",
            "ba7dd36fbef24372a26f47dc86f021f8",
            "3cb505a537f74f42b3915c71ace8d6ce",
            "a316a430b0fd4c338c411eb9448eea0a",
            "ae392dcde3ea4995b97ffacb776aa8ab",
            "ed9950591c9e493ca726693500556089",
            "68426e459f0247bdbdf9364f8525a047",
            "3c61fa5bf58f4511be9a83f397076ddb",
            "9a01d29ef28f464095c0331caf701a6d",
            "2bda121547ab46b68523e1aaefa79bc1",
            "fbbbc41d23ff4382814b83bd3b321a2c",
            "08170dcd8c6f490e9893ea1437a16427",
            "117c2908e43d4d4eaec92835c3e5ba1f",
            "3debc9cd0f6b45d7abca61fcf44fa48c",
            "b5b832a1ba474e978383fb7d1bdf13f2",
            "35bf18408e7d4a26b20547e3de0eb20c",
            "4b6d4c54d6a84af48541fe55effb2625",
            "56924e1cce184477832ac0df781b3716",
            "3257b5945eb14ef1bd236da3579c3b1a",
            "8057875460eb44559b8454c64fc30566",
            "f170fee54aed40d9981a5a3b3604bfda",
            "6be5a65a7f254248b95620d64d4b1efa",
            "be51f9e0b82d466696df65ef9d26c9d2",
            "53226bab13cc4bcc996cf0141d8eb514",
            "114954d1a73249a5a2a89686fa185b20",
            "24b784324a3942bda9390bfbce9e74ab",
            "a8bd0fc65ab34e2ab04ba49dedcb4374",
            "57506b6437854c78a26079aec9bc8d1d",
            "8988f3938e4b420eb30588319ff4c1f1",
            "afb1264118394a9da6bdda640e666fc3",
            "e75f769ca51445a0a32200aa67260171",
            "597d4fbc974c453093d1f5e792b9320a",
            "ead7baee84064d7186bd75eefe2102a9",
            "f8dd4d2be62d4473a499e87d2d8a8bde",
            "ce4a3ec5b792474a8f04892524c9fdf0",
            "e1695396c646492a9615c4b60eed876a",
            "579101656626463da5c00441efb05ef8",
            "ad0d98ba011448508e2a465d4a3be1bf",
            "2491075e70e14a268d931e02132057cb",
            "aa5a213b370b43d7b049c209783bd5bd",
            "fecc830a74704ad3a0dfa96954dde093",
            "5f7387909baf471c9b31f6e58e7d0722",
            "3071351440be4ef9928e384fd8c90af8",
            "41809c9382db45bc9f4fa2aacf84af31",
            "9cb0f2847d124117ade555a4ecf6dfd9",
            "b41b67e28b4f49dbb3f20abf2d4ea83f",
            "cae973ee95dd4d3089960bc52a0ff6ea",
            "6e8557a88e804ec68ec6840097acd19a",
            "f899b77525ed4dd2835fa2c5c59dc347",
            "b39b140453b848ce8411ae7c686ed94d",
            "e44a1f112db74fe596e70e7752ab08ae",
            "2ba2f5188ecc4ebd96f6a5c7496b7f58",
            "3cfe21684276462ea508b515bc534377",
            "51812716a7f74999a2a6de5dc0f96b8c",
            "4460f9cfaa6e46ccbb45c671769f37b4",
            "9a4490e37b1142aa8498827ec0f4ae46",
            "5b9294b08709454c95639213036661bd",
            "ab3c5fc18af34be2823676e186836b98",
            "2b824e1bab1a4affbf31d859bc334d14",
            "9804c1252a6e472ba79ddf91fd31a793",
            "37e83f000c594358a314a8fb4026821d",
            "e2a706be106243f8abde7733afc5771b",
            "fc4b165bca5745cf8e457b96112f6f6b",
            "f6a787810f71467a8cd9fee9b58ca897",
            "0ac8b3574c0d4d148c642431c2ce0aaf",
            "77a95cc52ba04106a2ab284d68fbe920",
            "e56c857c84064bde82141069f72bb0f9",
            "a88a9578543f47568263daa553044bf2",
            "a7856c24068944d585e9957da2a923ac",
            "78888dd688654b69862a4b505c8ae549",
            "9b3664fa5a114bc3bd0dd16f5172d82d",
            "91c9521131584fe0b4b4789f8c8e0cbc",
            "68204fba7b514a68a35d00601874fa0b",
            "d0f2d76c185f48d794e42ff28953d0d3",
            "7c785718ff4f4c58b09a0f73472b90cf",
            "7f4330f58aa14c5caf0b86cb3e41f1fd",
            "a11df24599544acfbc855cbb9f827364",
            "799b9314e31441da874cabab28b3aec5",
            "ea8aa9bdb7a04da79ab02c47b77464cb",
            "bf61974645fc4f71801b4a49057b6ac8",
            "b0f60d9f3cc848d1b1c2470a6ef50c4f",
            "aabf076bc70545b59a2fceba1f5614a7",
            "9a2ba34b09ff464e965b451cd476da63",
            "2a073859e1594eb1b30f0261f4ac5903",
            "11e914e3cdcc4ba6ae805a4494b66aaa",
            "f6b2421c28664560bacae175298acb70",
            "50c3f22455fe48da94127a8526109ce1",
            "7dd725b9054b479cb4433a1e8531b0b4",
            "5d03bcec8bc346c0a6a5c7226e601ec4",
            "ca00c55e36e4419f96f30f2def0d8271",
            "3319228d4a294912ac9fa3b91f890dd9",
            "5aee26b2701849d6b52f53bef01d760d",
            "a69c704d7c7e43548945ed24e53cc4fa",
            "f609426b6fe14638955a6b99e10fab98",
            "814dfe8fe8d04f9c91f828c427731098",
            "6e58e982eb924becba6ed1e9f44ac538",
            "0dbd7bcd52c048fb9db3bc87685b93de",
            "4c54f0427ee54494b8656ae16006c8d0",
            "c52718431e014a6fad8f7cf89a62024d",
            "50dae21f808b43c29e845256f3374885",
            "b3836611d9f3472ba1b2f05ec9c60d23",
            "c64290243dc94a4c84ac632d84f515f1",
            "5969c95d474e49e4b94bb60876acaf27",
            "eb17a35d72c949bb96899480e12e33b0",
            "fbe16f5cd4b54eb49a76f5717c387a45",
            "0f8f8c4426df4940b49cb4528b181f79",
            "8e0353c602674f27abc5ed37d970609f",
            "7ee700d2b8a64e6699c772bf9790ed66",
            "414531271425447c8e6bb2d2e6c5faea",
            "47b4380cd44d4dc8966f6ca3dbf273fa",
            "a8468abeec0c49fd9974c2a5e63510d1",
            "ffa56357486045b2accee0f3fcc27057",
            "bf08dea39e1b4be89c7aecb705a90f35",
            "e2699f1addd54456bc2e7fbe2a872652",
            "66ad8f55480c46d1b542b22411705b9d",
            "7096d10cd5464cd99900832e36dd7f4f",
            "ee057df232ca49308891e02eb70cd1a0",
            "d1c921b1f6fc4c02bde3c6ce06d1239b",
            "fff3edcc32934789bb9318d0337a439e",
            "6f4e35634e0043dbb3b2749625e8da03",
            "e7de70ae30354e85928f8ae792764be5",
            "1ba4d5cbbf4f41aa86d72524a2f7d065",
            "06b8c67c22294843988e29ed93a5c98e",
            "cc16e864b2fc4ac58fc560300216614d",
            "91a33b62387740078f91e16ce1d4c5bc",
            "69562067b84b47d697ba4e5235a6f783",
            "7debb16166ec49d88f3c356e75c025c3",
            "fadbb559774643a48109265be6dd0e8e",
            "b612a3cbaa15400eb6df1d1cd39b0df7",
            "f6731f08dfef4218adda0c2d892b2db1",
            "dec641d7301949f9ab478397e1130cb0",
            "439170f25ae048cbb8c5fc4bc2933c92",
            "efc775b15334422db8b5a2bb9a6e0fbb",
            "a6028c672d414c4fb5a0c5f375ff9acb",
            "c9876ca259d843f5a777066ff87cb393",
            "7ed7025a26fe411cbca625bdbf66a22f",
            "36d1fe11a048469aa6eef1daadb161d8",
            "72f26d4e679a4c41aaf12efb4d6c9a69",
            "67f80ffdb0c64085bcb4435738388fd0",
            "82e90d7efc07473f872bfd30ecd36797",
            "7d77df5006f4449aa2610f1d204054d6",
            "4d688594015e43dd8f48d65439130137",
            "71ebec9f59da4185905dcf05c20a9482",
            "19f730cd136e4c9cb7702ddcc3c0ab3d",
            "c85f2a48132d4bb5bb3dc1f12d6f2ef0",
            "a26e6208903449a8a459f197e9869c61",
            "3f92f14830e94251862a543573cfa362",
            "4c6f67501eab479fb6e91963be267d7f",
            "1802ad16a898485a836155f5e10abe26",
            "afba71b9d80b408f85364121662184ef",
            "e2b883d04ba24514ad649cf3434c5c68",
            "bdc591e3358a4e0f963b4bb4ed041014",
            "0a6248bf95f746668fe7badc0a48b09a",
            "782ce80a2ffd41d9bb8f0937df0df39b",
            "0ae52d525fee4641b002d33fcb80c030",
            "1facf8ce2b104b9db1df58611f1b7503",
            "b7805975f14c48be9bce1d67941223a8",
            "f14d9bc9c47b40138540b7a0af063953",
            "00cdbdde465c4e5fa80301fef3a74e6f",
            "697d7abdf8014bf08aa9fc6aee2b4bda",
            "5f1d139c2b624bb08f708650ba314881",
            "4c100a678cc940389c778cadccdf4e15",
            "722d94ad0c62464fb258c66e139eae01",
            "090d7fa0bc0a445cafcbb5afe3f0f0b1",
            "367316360eaf4c64a62781e56b2d0515",
            "1e6263bbc5bc416186850d7ae3177740",
            "5c9382a4f8f7473d84945c5bc3eb3052",
            "81a944dcb3ba421bb932cee5a944b023",
            "fb6c4c8e092346edb11bbdfe7531e4d0",
            "f0dfdb38bd9747cea0a0b4cfb1ec68cc",
            "439679ea88c04db28b2f586def0a3b2a",
            "e6b4d3da645d4fc2a5b9d763d2e873c2",
            "9b885e334fc84a52b222011f8c788239",
            "cf37b6d2aa764e81b601ab7b33479b2f",
            "11ab5791b0e34f85be60563cbd2270e8",
            "65afc4c474c7480aa5ecde334a2c168d",
            "e4cacbc14fbd4dd8a1f62cac6d203543",
            "1dbac30a4cf24da7b8ed760e8893158e",
            "de97a89fa3b2446488b05e0a2affeeaa",
            "1bdd6891a1fe4261ae20531a37c9bc37",
            "0cbebce44b8f492da34065be1e5c6a93",
            "e6b0b4d41dbc4befaaae83ec8bbbc8d4",
            "099c73aebe564a6b972c22d5713b2fe5",
            "5f876870c5d64695b461e4f1879a6b7d",
            "3e6aceaa3f11477ea112f32d1d8e299a",
            "9784e832c1774472ad8da4ed401301eb",
            "39d766d73ee64c0690de2f5b58a437bd",
            "191281d6f6e34c849bdb3c8e925c78ab",
            "3541f0109c864ec5965a7cca25d3ddbd",
            "c281182f469641fb8928651adcf47237",
            "5e649da7c24b417a8ab953e90515e875",
            "f9bf0105cf9741cc8341fa2231ea571d",
            "a61b58256f1f4b6095712cbdfe8be32a",
            "0f31507694bb4ce1bcf906030155e2ee",
            "6c81fc23d5f04c3db81d8e5404ae28bc",
            "2171d2d25bdf4cd28e2a1aa2f2b230d7",
            "2f214e1d831a4e94b862d391dccfbbf9",
            "9a78856198cf4be7a49cc253e7557c64",
            "87adf6293ea84e3abe15458c0f0ceea7",
            "8bd6ed8cbc174f5abff265989772c1bb",
            "a48c97feb58040b6a658cc2e27c0c29a",
            "76c607ba4ccc4607aa50cd83a7e9ca6e",
            "0b6cf3e7ac2c4fba9b4a9c0e0101452e",
            "599ad7efe95848629f2fb9795e83bf93",
            "177e7ab329d04f6887610146584bfc3c",
            "ad0dc7d90d5f4c13ad08b009bcbce60d",
            "4a134ea06e814d7896dc674f1b44e50f",
            "a9724417221e488295adcfb1719a1fc3",
            "84e7fe055de34a22811ba7fa63f69559",
            "2bb8ce3e107a420c9aae6c71353b4d74",
            "92ebe42cb04347e4bfe1b320ead9c6c4",
            "6de70b3d730f4fb5b88d4c7700a073f0",
            "5402e5c7b20d4083acc7fb821098e05c",
            "4b159b1c0ba544ffa499b3bda0599089",
            "d64fc56ced1641fc9c56c2f118dd5656",
            "44ecd93f0f984303a05ee323bdf76a74",
            "488366cbf8c34d48bf717b2fcf05ef9b",
            "4ba99d7f93974363b7e4e3533e605326",
            "9fe03d64d7e94b6e95ebdae12d52236f",
            "7e0c03db85474d599c2f4d662188b24a",
            "fe55d19e5e254607bf21f21b80c39111",
            "7e22426a2266484ea8833723d935a25e",
            "db85238a207b41d79144dee6d1f037a4",
            "19fc70fd27634077b9c9d5c60cae1539",
            "8c8e7c2c9c1c43a1ad669b7cef4bcc0c",
            "621d31ba164e4ccc880a53075f8ea3bb",
            "8ab6dac247bb46deafe2b077cb8bf84c",
            "30359202dae84a9f993d7ca4b41c6d2a",
            "fb885f5a1e1c466b980e0cb6886b5464",
            "ead00b7b5e8447129d02001491a20604",
            "dbbd5f7b396944008727a60bec2f4b6b",
            "b937b49223464a7b991f421ba43000e2",
            "d3b7a3f9455e4762ad96269771c7fa5e",
            "5d4a0dd70c2b44859540d16bd044ccb9",
            "5c1039f3c1364fc7b1ba3453f5e34e9f",
            "9c95ee6d157e4b9bbe41476f75d7beaf",
            "9c73fd1ab2714ac3a5849e48fa24c9ce",
            "834a62ff8cc24fb58603a8a5f85a857e",
            "2217a01c17054e5ba86dfdc723d603c4",
            "c53a35db49ec4423b0d6cb543f3c403c",
            "3efca5b3f0fb46e6ad555510d99cfb75",
            "fe575cd5ca7246c9b4c511075528a87f",
            "22d687e7e1d84e22b9502d5ecb068043",
            "99d638e7fdf046ed99b0456fcddec2fa",
            "592c17578f7d4dfc9fb73b1a7d989fd7",
            "99549b7a567a42bfb6889b887133f41d",
            "f61587028e494f7eb0269119718d5038",
            "375e1637b6d34c67bc3546b2d14f752f",
            "f37cc6e221024ff3a93f84b93a842862",
            "d1c85dbf861341be9088808747840ce6",
            "34ba323d9c664d299b8824cfbeff0894",
            "ed36e3c8e9a34928b6a815a61a5f637f",
            "3fd7b008102b485691428c0ddf1b6caa",
            "ec0b7711b92e4367939e1429c04a493a",
            "931632fc396542f3ba458c7d61beedfd",
            "7327036b8bfb447e87161d8c2aa136b8",
            "59e086e948eb4fc69e899248af37c3c2",
            "0ef6d975716d43e6893047b27d9d17a3",
            "aeb52eb385ca4491bb13faee9917ac2d",
            "9ea939db61ef455caf1c4fd5327fb9ef",
            "9da9992719fd462e9938826f5f61adda",
            "8e6f130d4b8044efb750cb4c58a232c3",
            "c7435784a33f4de18920dd2e30c81474",
            "58c351f3d2664e7da2adb1fe14fe414a",
            "49e65d8c83ad4d72808e5f7eb28299fc",
            "71e48a0fc6834b4fb24d4f96f0170bee",
            "bbbca7fbbb5645abbccd4c0835af335d",
            "bf8f4e44170341f0877d7133f1d2326f",
            "a1fc2d6787af486ca94844c11566d899",
            "6de7069ae1594d7c947c46737e467ebf",
            "4a8939f1ee7b4dccaa15571e4ec45e0c",
            "99f541e585e94ab79aebccb681a5d2b0",
            "c26dacfa11f34376803b169028e0cc72",
            "357ad42f17cd4f488b06abf632a6547f",
            "30c2603ebf0f4985bfb7bfbc0d66c9b9",
            "9f9c508189f84dfaa9212b5115a51a51",
            "607220b224a94e49a0427f95b0508b8b",
            "d2d46c9bd8af455ab33d185c393edb6a",
            "979364964c694e94bfe959ee305455b4",
            "59888741872f4af097a2e33c72713f21",
            "545783cf2dba4423aefa2fa161d16d80",
            "f9381874c70d496a85ec4a9b1a45dd08",
            "24c950aa6c80425abd08355bcefaeb79",
            "192b90af39394fea90d0414e9a4d6f10",
            "2022c3bc019d46d88e05ede3b2a51744",
            "6fd3c1329d5b4507baa1cf99a61093dc",
            "49ada26796814fd2b66d17741bdf588c",
            "35afe1cb28e54c65af0d87da096e98ad",
            "ac8c449b1bde40f5a9911e04179ff2f9",
            "f21f0e1b0f4a4b368f1e4317e01e8b5e",
            "b9f1eca9fba74bc28f5365e8c7f4ee24",
            "3a923c3c108345ba8e88f1bff02e5355",
            "ba7f7b547f154efab44b88175b369758",
            "b8f24f038a9e48c7950755a789de257e",
            "66c65a44363544b3a44d48d44ec32680",
            "71a352812c404209ac6db83237f291d5",
            "2ac7baa65c3a4e1eb041b976596ddc32",
            "a43612fd81264ed68d3ae1bdff886887",
            "705a6204f2be4191a569a48e95bb4edd",
            "bbb7fbccc70941ffaf27733936d6bf21",
            "994a708f797f4f87ab3adcc07f52e35a",
            "ef3c91db65d34e7cb4321265d1e34fe2",
            "1364ab918c714b0783ace3ef176cadc7",
            "012c957ecb96407c9b4ba9a4b63a50c2",
            "6a903b76cfc3469b90d6e97e9e7a6739",
            "f2df763a649245238f29cf28c5df82bb",
            "14c72838ebc14162b6bc94449ba944a8",
            "894af04f72f9402ebd6e88190fad94e7",
            "391caf2b978b4df9ade010efdcb587b2",
            "f7dc4502155b4468a835b7f6dfd35d76",
            "f7d6cf5df7244c03bc862a3f9a5218dd",
            "8c3a2cdc71a44d78a92d393592dd6b77",
            "3016d21b61ce48f38a36d86d5ea0081f",
            "f2846918e90e4e39919c09da2a131967",
            "8552b8479cef43cd92fb304c45f035f5",
            "daa97a50dbfe45f5bd825f0104ad0412",
            "63c31310c7854021a02ebb5d6f9c80e6",
            "832c7cb30b1b4168a36ea5eec2744710",
            "532ba542c69647f7941e10aab944381f",
            "c9320f1e2b9144e68df07bffac33166e",
            "bc710623bdce4bd19ae59ba3e97e174a",
            "f0ac65a9da1b4c51851b538ff3cb91fe",
            "4cf2b0f3f547496a87319805c9e03203",
            "37cbac135d22424da3e928479a3ea003",
            "88037674450647fc9a5153e50c037492",
            "a659a54ea7f54f0a9c6b523d3b4f38c6",
            "7617fa7269b34e67838031e28be856ae",
            "925ba289e1264617b9dd500f082540e3",
            "79a7848af5f34bebb47e01fe28d15410",
            "ae455a782b484d1a932815aa565e245b",
            "046e5602bc5640558974d70d14a82c87",
            "03ee8e161519438596ff55594787c410",
            "273a3ab8b82c4d4392bc05a3d6059361",
            "891cd5372733450ea6d59bcf6f522d9d",
            "4c8e226f35d5448cb860296c68143fa2",
            "696954ff407148499a8acff7408a4922",
            "e2b828e4c5cb4eee81ce59acf44ca8f1",
            "9257f27eebbc4dd8874e8349e57fb77d",
            "408172cb988741dc8732a5f78f278baa",
            "0a4ce592ff5947949948b9da6470bd34",
            "8d0c3ab9d8ee4e8f918c2139d8e4ca35",
            "2e8fb0ee5a8e4ca9b7f7f64a089b37df",
            "593ca125ef7d497780fe866ca40a4d48",
            "af6d5d0b56f7451eaaeadc1050704c07",
            "2de7c0c6a28d4eb4ac6d46d4ff5cf3d5",
            "eebdb75815034c8fbd4b61e3010233aa",
            "069c2298602a43d8a0e72d5638f3732d",
            "6829166f83f14a66826018329e3e6c65",
            "34ffb83714a149e5934185f7c3a84a65",
            "21a5bf5a017b44648ff9a632d169fe0d",
            "4b1e723b8657484490f429f8b334a2c2",
            "e4b25d9e2af041b082e7b3a589a690dc",
            "dcb2844c448848b0a5f0165d55124f7f",
            "c992e284a99d4a77819efa6c4040e590",
            "314fbb5b356d47c8a858d6a7c4123559",
            "1840c2700af241daae24d4245eeedeef",
            "ba2b69919c9941768777504fc0234325",
            "f6dbdd28802c4df9825ed20d0beced24",
            "d429c8f259e64677a61848560b2578dc",
            "b54cadf5b0754645b3c9b09028967758",
            "79db976ac1344d4ea516b2be524e46dc",
            "15b9c1f64e6948f5bae077fa0137be4a",
            "e93aa7a8daa34ccb8f2b17fb7a8a829a",
            "376778fbee334c31b2bfbd3f99a93574",
            "443d052888284afab78078582133fe47",
            "c03774286c674513b91453eaef0e49ce",
            "470d738837bf438c8c0e2a8b9f922ff2",
            "8aaa285c94b44915821c68436fd3db63",
            "91761730402b42ed826775236f8d3089",
            "b70b75bc535f436ebf304cb59dd2d36c",
            "dc01fd3d19e141cba1868a1987d5d43e",
            "76d450bfe8844663804c9b5a7077be81",
            "d180ffc9f70f46818b083106bc723498",
            "f4c14bbe1fcd4af6a041b1ca9eb910a1",
            "a46eb9d485a14ce9b78ac8386bc08fd9",
            "2364cfbe8eee4ae0bb85c4a2b58ac8d1",
            "b71a7c5e8c5c4e68bcd1e54588b52ec6",
            "e0de735b668d4155b310cf8cd78512aa",
            "5879455c78064f3697e796b309ed41e1",
            "90e5af66142c49f79fe37511ced97528",
            "dcfd3d440c3b41a680746cf827d4835f",
            "c41f9c54c29e4d3c8b073ce12f3ba5f6",
            "dcaa88ead681447297968655bab95a5c",
            "1c54425ff47a42b2a6136811789ce2f7",
            "bd892c7bd5684fc7adb0be90f2a45e74",
            "5ff144d5a94940fe9e3fc514fd5ed7a3",
            "ea2adcc3332244a7b0c00a5797731112",
            "d7a8b26b650241ceafc07a0c899717d7",
            "25df348acc9141a0bc23d2a6107f0339",
            "0360a5a89a7f4f0585f475d67029cf27",
            "b59be1e582944efaba413f1de4815b1b",
            "f871ed538d6b4e69859ca9e9167cddd4",
            "d963daa128f64cd4bf474fceb2dc9e73",
            "a94b33fcb9f445d4a37b824f3dd7a7c6",
            "986f4d7f67db4f228f1fdae5c66ebc07",
            "0937a62d247242ec83d9e15dea4992f4",
            "260c6944f70a4e8c8f608bed887c5f8b",
            "8efe3ee0eb9a475fa7379c6015ea2825",
            "5ad9ba64d7ec497183d70af31ad76f15",
            "74df2c21c19543d1ba9efdab52d2dd60",
            "3f992878a7b240f18c87b862bfd183a3",
            "4801865f50a7463492c4d265b4d20cdd",
            "69efb43cbde446dc9030a4ec256fdbb7",
            "6a833e90deed483f8dd851b62aed7030",
            "005e7bcb92884036b7583b5e7f6f2759",
            "dd0c4d57351b4658ad4a062f3149dcb4",
            "d5995147173b4e9ebd2c77dce5331f57",
            "ae9467aeb7c545ddbb06bee3dd5052e5",
            "be577112db4a48d9822adf9643004339",
            "b0944e8f1c3e4a9bb7bcaee52e3cfacf",
            "0c78bc1ecda44bba8fe8bdc970c71f2b",
            "a8d4e2f101974c0aa0f1753e258b40c2",
            "b59927dec6c245f68a50184c5fd6c688",
            "c2c97433455544b68508be6913ff391d",
            "21ecd568853c44eca82d8c09a0d64411",
            "b663e595735e4e01a56f4b586cfea4eb",
            "0167badd381d4b968dc3bd6881b4b403",
            "4ec4348ae18a43409f1774fe4f6cb911",
            "6850834a9b984d008c3b7045c59a7897",
            "a9254e807f844cc2a7b1cab2dc726312",
            "4a085ee2635a4390a0cf89c17716cc6f",
            "8e4570e004754848bf000153a9d654e3",
            "c30b6b6a8c8146f49e087d0d91d4a15c",
            "efb6bd1a9c3e4767bd667104a68af7bb",
            "893da88950074e5ebc939b32eaa39655",
            "615472a7ec544acb9698f2857f8bef93",
            "e231fedf612a44f0a776bddd0eff42f3",
            "f2648c0bdab94b92a2a34122414b5935",
            "feaa17a1810743a3a2ccf52f7531fba0",
            "185d15e734a44ac4becc0550eddff5c4",
            "2cd48bb574934e7d91d061fbeb22500b",
            "301ac1219fa34a2f87615b5cb3bf5535",
            "35842a35853c4070a5a4dedd9b5861c6",
            "53d824541b794be2ae460332426c685a",
            "beefc3e327f149349c7fc728c0f77913",
            "bd94f8ecf6ff4d4b9f835e036b129389",
            "291f3e59bd1e465984f76328ba2a3b48",
            "231baa160a2644f184487fe2db39a369",
            "031c2521eb9049cfbbbe7b958d8b2fff",
            "3b3b44ee0c0e413c8cf59888306bcb1a",
            "f1ae3cc3a3914237ac0d1537871c4c95",
            "238f6269585d4ed9a3abe42c7b8c71ef",
            "39add91bf8384549bb3051f96b1444fe",
            "a58d770ea37a40eeb9b3147d477bab96",
            "253a2d7300ac4bc4a8ca97d2d2bf1522",
            "9034831e46ef46f487e905fa5e87fcc1",
            "42115cc629ff42a8af5454f9e554d727",
            "6c96e38fd75f46d1a06b587201e22e9c",
            "e7f5831b3ab54bf382b3b1a2cfb92d8a",
            "24164dcf831641a19327b6a41930a782",
            "363bf188f5154906a8c1831da73a416e",
            "f233fe621cee4dfeb29039844f0529d0",
            "6d389e23fdbb4c73a3d514c4fba994e2",
            "75daff81e49549a08b95f34d41fb1657",
            "cfcaad051a554d05b73bc7eefd8ef7b1",
            "3aa4b2a272f64162b5377c209bf9499f",
            "d9138c65c6de4cb78d141370c06d43ac",
            "373f09851dcc441dbe98af311cf05d39",
            "bacec28aacaf47d9acbaa4111e4a7e38",
            "a08c05a661924e3f8510b2d6312f1739",
            "32cf1f94324d4795858c37012d8f2999",
            "2fe4bfdffe954409a036786e01dda548",
            "60ec55c6ce374d58a9476a3ea9b7d0ae",
            "6b4b4e73ebdf4a22b335c5570b6e7d99",
            "fbda40fb48524cc9a48be5ddbeacc5a8",
            "e4aadf8977a24883a40f66edbb1454eb",
            "c1861ba2886546a7bfa8184fdb5842b0",
            "676709a775ea4cbab9ac00cfc6247bca",
            "ee60e562706a4d4f9e03034544b29af2",
            "2b66cf999fb0487c8a4e67ecf82207e7",
            "e6c69fb66f8f4d968efe21bbe320f208",
            "9305113d779044c999cf933d8d99b6b5",
            "f60b074f812748c7a7fb39ab975e61a1",
            "7b5da608a135460bb4a0c61c69a23170",
            "6bcb2fca346e4057b2cd3be59b41314f",
            "df2c7b84f8f6474cbb01d269d4b5641b",
            "816ad9b68f4a41d5993e9228454d316f",
            "9d9ac40b85a0459aadc214870ff22a28",
            "89a29e195b634104b652d317d040130c",
            "e4b6f2cc4b0d46bc8a4f9917b9ee6fdc",
            "8910245c76784079b689441cd6e00bc8",
            "7e49599e93f44a12806d6a8aa894346a",
            "9ee41a4ef1424406aae8894c6a1259e7",
            "204b557ae8324c949e727930bcba6354",
            "ac877571bbaa424380f6eaec2841a9fd",
            "3d1f30cb5f5c42c09db861516b76c774",
            "f91898dd186246a9be9047771ef9fce9",
            "b651c4b0e7da4f3a97677d7b41ec0a6d",
            "b432ce43247b4e5bbe58012c96c308ad",
            "62a5e4ae40aa48a49505062eb55d4740",
            "002fc698414d4720bfb1557d9e2a8828",
            "ccd7fdbe9d2a46e3be6be4270ac40dc8",
            "022ef8db7c454f8685081b2904bcfe13",
            "b31dde7eb2f740a2ad0376cbc47c4634",
            "436f14dfca604769bebc61d6bfa87aab",
            "86dc5ac0536b4b63af500a01a4784ce3",
            "4c73a8cc2c0a435fb8e91509c70375ed",
            "8254984b58bd4e8197f8782c91414bae",
            "570b07771b0c4909acf8dd9b1db58fdb",
            "3e10f0de22f340bc92178fe00ce1a97b",
            "1804e557e18948dc88a351a1f8ad1d00",
            "f55262c4e9fc48cc9a1a3392ccd08f4f",
            "6a3706abae524520b29ba1dc9916588b",
            "07f2ec4a1a504df39a78d988a19b87e7",
            "0bb2589d4fb4447c926c61629065c41d",
            "c6b66f4dc29f4c5697b98833eb40b456",
            "fb879170731945269c15d1086516b94e",
            "cc7bb2ef704a4d0595ae41f63f411c89",
            "5033a645e32f4a9c90dc4b9a7f43346d",
            "37b1b1a98f1b4392852c7fa3c0072c44",
            "34e05b1e98a747d895f138f32c53d0b6",
            "5513ad472d904d398dcdadd875a6ca57",
            "24a7f193104e4a4f90bc2c9f48f1d152",
            "ef57e39643c24ac4a5e12c06589c83fa",
            "398b3b47c66649ae8c44e8df9e4fbcfb",
            "2be1405b79ab4245815f7f14308e40f9",
            "52e4f536cf2c43daaa200467dbb92240",
            "d04bee515b8a408e81684ccd337f2197",
            "dbeabd2875ed41ce9f99beb8d26d1dbf",
            "6baa587fbe064260b65f14b14192a821",
            "c3db4c0522a64b8f8feb16ba7ea9f462",
            "853b4459a9a549c68c71320290044d2b",
            "2fb62a97c4254d6cab28ba31bed00b34",
            "17c2cccfddda4e12b29362818366fd6a",
            "79fe58cd426e465e9649e11679b26aa3",
            "db0f1979bf994bcd8264054789636720",
            "0f8804485311487485f9156ac8bc10b2",
            "8273417bd11a4aba817d4de195399f50",
            "5da6a3a1b7ca4ab7966d8a8e2f42ed60",
            "b21f2540fc314014a30ce8fdc250018c",
            "256b5874164f44cf8df784c9385b3fdc",
            "19124ddad8bf42c5ae8628a4bca85d63",
            "00bb2236c9ff4958a619e18fdc8081cc",
            "86bc273e1ea64db8b4ed67d7a85231b0",
            "9d5e6c82b2ec4c109da79dcfd99d2bc7",
            "00c0603640de44b1a37651e99980c7ab",
            "2b6905347fdf453a81805a7e1e3cc661",
            "0f3f282725864c0787034ff2e7a64f66",
            "b1e5e37c9fa64867b63e0e5e06f9bdc2",
            "b067821df8ef4f8daa3f4cc022747aa7",
            "e8cea751d785455880334edb8dd1312b",
            "ba4d260b5a454025abfa1ba1ba95cb66",
            "31ff03762401494294f3121db7080c6b",
            "9538bde94e2846349204a2d9e2ff67c9",
            "732c8e4d3c214bf09241db0e31c47153",
            "12f152aae54348609c17f32362705b9d",
            "77cd28ead7ec40bfbcd05137d19bf66d",
            "36896fb9fb354733a63b395affccb9d2",
            "6a508c1cf8384e00b72a7ec0bcc91f59",
            "8284fd96a78f467485d32b8e5bd1220d",
            "b97f8ea6c20949caaa8270d0199a2d72",
            "a862fe168bd249baa6bda1912c7d28bd",
            "e0c0df55e7f44986b9dc8bd4849cfddf",
            "77db35af79a8453f800f85537aa34bba",
            "5fb51bf1a4f34325be9dd358a5054c6f",
            "40cdd3b4f94e49769c37b87ea40a0430",
            "53390ebaecc0490f81d0b7ed231ab6c7",
            "5bb8026125c54c68a27337b9541bcb99",
            "547f35a9424d4ec891c74137a568a90e",
            "0a1c9105a42c4946b23c76a5259c38d6",
            "6b8c3d0651074aeb80df4658e05da805",
            "431d425e832f4748a2035163a5bb29fa",
            "7fca828e4dbd4a4192bc6ab397ac7691",
            "7404d09302b343168e16c6c15b55a76a",
            "3600cb2754e9409aa4743326cfe72ea6",
            "8b043f521058459fb86ffb0c5af757b3",
            "167ff91ee69542638995f952aafa2542",
            "eea2e1af467c48839125544aecc50326",
            "9f7a0589cc8545aa80d174d4a2649ffa",
            "79913b4b8aec453b83a42ceeaed4c03b",
            "0aef0181e0644dca9fce5c92c6092bb0",
            "d44c6fc757ec4cfbb846296137e97ef8",
            "a8cbc599c4a04e50bcc9a6f276c317ac",
            "2e9278775e014702852d7f4876fcbbe4",
            "36173693cbca4fab928c6b994cfd5d52",
            "08fe7ad043f2442fa53ada3f14040453",
            "b264a95ff3564e3798961fdaa1eac6bd",
            "3cd8f96dffa04715b86e9ba28d5807df",
            "707c3b18a61c434d8c923f9c979218f7",
            "afc3202605a647feace73ec48f7b4510",
            "ee93e4a5551045209f78973b31c49587",
            "8e1c3d0a14054a4dacd549b494395337",
            "83c121d5c0b34603865207b1a0bee8d0",
            "8447017b3c0a4c639e24ba2f40b11458",
            "a6b6c8183db1423487465af73c625e3d",
            "dc3b76d6af6c4832a4a0624eefbde269",
            "b3c83cc15c5d46119363f7218e11da5f",
            "fa2e4098bac74544af05f84265d034f3",
            "48a15eeaa79e4fc0b71987f584615ae8",
            "8fe933edabf9415896a1a3a10f9a766d",
            "c837bcd5ed284e2ba4324469f894923e",
            "445bb041bd7d4c0582f209866c1626bc",
            "7168c62fdb364986a092d979739ac13a",
            "b49f887c311b46fd94104d42cba4b3d1",
            "5e895779140a4d70bafc66c65f70091f",
            "0cb3913ce71f4493af1171d6be9320c0",
            "31d9b33bf81f4242a41284e95b23cf36",
            "59d98157c96f49c8b2e2975101e3cf95",
            "0fc100373def49d195f02e5b255c63e8",
            "360d7b282ca146bd889e9eea0bd06fed",
            "3a6fc73a28d84135b5030a5123af089c",
            "4cc7864e8b41420d8130630e453d6256",
            "c1697f24b00346388965591e5c54d5fd",
            "a9d648500e5447278b19b2a6910bea18",
            "cf76d4ad18b34eb0941f4f894efdc1e9",
            "2fa1c4ce6d02439ea46b431ad59c3811",
            "5a5dbec41dd24407bab95b2fa6d21c69",
            "0d1d5e16ed324b449976057b82c119bb",
            "53aeb33de0b6481ab8e52759befbd99a",
            "a8d3f2dda948430aa870e3a0ca60951c",
            "7ff853eb4138461db0d4a6aa22faf243",
            "22b5356faebc430ba7eb1357abb4a4af",
            "f54e2954cbb64ba299727fa24315522d",
            "c4baacd7f88445d590a589a4456216c2",
            "751e59ead4054d2d94aa956d79de111a",
            "e2cae707f63a481b844e19c7c4baea5f",
            "2e2c11bef58e4ad4aee4a013369e2ea7",
            "d4fb1ba8d69342ef8455f503c9ab6f7f",
            "38a694f2dedb486e9d3083a47db53aab",
            "5ad3c45fc60c44ae84f5bf338430331f",
            "64a585de3e0c4124873d516efec982b5",
            "0312df6420364cc59b1fcaf8c8acd81e",
            "a52862dd582446538a8912cc0ef15040",
            "3bd8e06698e849a1a2efefc33dc8fb53",
            "49eaaaf56598452a82abcc4afa02dd1e",
            "189222127bbc4c779cdc5bf435fef75b",
            "ffe7ce3c81ef4272a6ef4a9151694ede",
            "29ab0ff2f9034e448a41ba294250ca23",
            "31a86af7a78e46c49afa8f73f85473d7",
            "b2aaef22d8314f2aab76b29edc1ab6fb",
            "0adb0f82f7c74e2c8db3ef97f913293b",
            "c588abf2908d40078e10995f7a968a65",
            "b76852fc6c4b4e9b858ca95d21034969",
            "4f31e36b9fad42629a7b2bf3bcddf056",
            "02d9d197244042c189c9d156001a4d80",
            "17ff3640cf8a4be2a91420bea8fc50dc",
            "3a5e46fe74234ad6b656324d95563547",
            "403f7e8e110f43ecbef81015780fb2f1",
            "89fd35cad2d6466385992c72d979fcbf",
            "192ba2abdd194fae9525bfc45dfeb728",
            "6f3e81b6505e41b49dbaed3497b3a1a6",
            "040af0c5386743f5b6319f418fc0cabb",
            "8db7a53159a9460285205053b87a36a2",
            "ff28d19db67847a498f16ce764f6a1d8",
            "94d47a2d7137480e85d68fe5f559ab64",
            "7f69edd2b7774b8bb0c061156238c991",
            "cfe78dbf96c64dbf883bbb70d35a7623",
            "003576d466414df696a9c9b151ec15cf",
            "eb78e5a5cbc24c28935ef09ee8b20ff1",
            "bcc95eaf59c7499790bcb59d32ac3456",
            "7b8d35adbf724a91ba19a383f9fff779",
            "3b70943d6de1442189309567ba46e7be",
            "c75616538c714cb68378334aac0f7873",
            "9105dcbf179d40f789718141c1ffd6ac",
            "4f5f7dc0fa9245f4ad5867dd4e0de696",
            "d21c69df68424532bc94d782ce35c414",
            "aabc8370837144d38e22d2e68577429c",
            "3625f16488a449558fecf11e3177fe5e",
            "ffbd84e26a0a46d8bf2d75d4ce36163f",
            "4a0e236800394889ac0d56a4f427728b",
            "b17d778c01354830a18e9a40bdad2d87",
            "48fda6e93a6a43a39ff88ee664b4223f",
            "cb4546dc461d4bb8ae1e7c143976b2d6",
            "d6eb140bf4ac4a87902af3a143c95291",
            "00e22b5d87ce4a128e80a37143e38d5e",
            "95adb4a620354dc283fcabe4b4fb35d1",
            "b28cfa5c8f1149ecbaf9c9df134bfe4b",
            "382ac88142b94dd1b49f4d604f4b71a1",
            "6f3250399778415ab0bf379671842967",
            "8885889ccd68435c9632158513ae8fd3",
            "eb38c28a848c4a7abdb9ad9eeb843231",
            "387d3365a0ad4e75b50d9199438ee126",
            "ca911599fac44fe7a28dac9788d34350",
            "bc05b5ca5b744c6bab1fcdb470a224b5",
            "b10aa5994e0e4079a8f2e4ddb2190c55",
            "e4dd6af032af4246b38a863586b1ca7b",
            "71bd74284a6142adb4e8125677f62d3d",
            "907972aeba2b4f349382f2baf4cf5916",
            "01de86d7af6840db9d35897330b50bf7",
            "967b93901cc04c028760ec157bc1b7f1",
            "37bcc0be6d6f418fb78f3a8a5cd45b6d",
            "5b814a9852284a9bb026e3bf92e973be",
            "d8048281897e45c193872ffa817c4595",
            "165b20140c594566aa3fc1d886361d9a",
            "f0cec65d9b9045b9a283dfc729ba2db0",
            "4622750f3dfe46afa12abf7bf2417253",
            "4685c18accaa4a78b9659f000325dd99",
            "0275c0bd881844e0a9875c2ce15747e5",
            "e9d78ddf2af54333bf675c813c56168a",
            "8ba5085e571f49fb81b6d10d2a99a858",
            "7739ef85903b439ab0d174ca328a824d",
            "41cff384d93741a78674ff9a8b7b540f",
            "f4d4e488c5c34cdfbe0547b7981aff5d",
            "d7a119d1419247818bc6a6a74e5fada7",
            "56a0d3c0c3d44170bc021279ee8caf8a",
            "cf61a5b581a04515b2997a0a02bbb112",
            "4a196274b9764d84a0abd567cfefd773",
            "cbb04c346637490295a7db5f2f70701b",
            "e876d74b6aa64f3f8e5f1320b42b4d97",
            "b9fcbea2c9ee4c46a2ef5364a97b080d",
            "dd8161411bb8492dbb51a9b993d5bd9c",
            "4e1e7ff0d684463e87a4667fcc3f6728",
            "5d84b44a07fb4de7a63cd0619f4ff4da",
            "c5542ef752c246d0b902d032b1157777",
            "8e3a2ec6235d43bc84e9c8cf934b655e",
            "41718cd031a040af9ded6bd17bb60409",
            "6f4b76b9ac97419a8f1be5b8fe3f7138",
            "dd6ba5b46462439a8c8321bf2bdca016",
            "0edf1be9395c4841854555aa72ab6a11",
            "009d8a72c2594442869b0430ef3bbee2",
            "302ddc4b2457434dbfd8647a399e1855",
            "3492c774c02c424fb972012d46aba923",
            "a5d00d44c25a4e7f8d5f487bb6c74130",
            "ad39ce5cc74a4da9ab53ffc26a632ff5",
            "ff6873a2265642319c76d17cfb9c34b6",
            "74b567a457a141e8a4eb95ea8394d9f3",
            "7210dd90ce5640e09f7b99c1eb7e62e9",
            "b668669343af4e85b6d4d1d94995ba7e",
            "79ea7c9e84f24832b5ce8b08777ad146",
            "447634cb01aa4608b603e138b596b2c2",
            "b9747a290f0343909aad948b77409555",
            "67e98176019c4642a24d95aa374fab1f",
            "81dfb5145714432cb428b0b652d35fc8",
            "6f8323f9306c471fbbfff458cdacd42f",
            "9a95f0beb0c94f4e9bc3cb5463149c0a",
            "510cfc7e6eaf4c5cbce958b023cc493a",
            "c77832a8179a44a3bc050ff91314b4d6",
            "435b40ff6fc545dca54235ec57d5ad49",
            "82bca8ff77854b068e3801865d04ebf5",
            "13d1c9f866194942b9f13ee40a8a83c5",
            "7f439adad9bc4367a7d3dbd34602f0ff",
            "b7fbc5e364104f989186b23bd40a26e5",
            "b769fac0be7e4cdd8ed8f7993a7074ca",
            "3c9119dbc54f41c883fcf6bc722a03cc",
            "96abfee5ef604b27a4e53acdf7de5be8",
            "357c5a90f1d5485eb7e13b90682f1c75",
            "e46383cdafc740e7b67ec55f9a7cb2c8",
            "d5b89ccd001e499e9f7e7d399a309a3d",
            "e85e509ff99e42d48216808b6a96d944",
            "15e5243ff81b4c84b01df75948098f91",
            "8709af3df7ba41ae8c3e4a635fda6f23",
            "cd539abc8c1d4c918b15db6a71a4d82f",
            "3f274acec9cb430c8ede7f643383a1a6",
            "9a7af15d52524590adc950ba7972a4ed",
            "312db429134f432d85d68648e5b693f7",
            "17a9ee02483e4c4eb6665114a301e9eb",
            "17c9f27756ee41179aba94d566fea048",
            "c64d9bde9259429b8283802167cf1d89",
            "fa7aaa3581634605aa665098108637c2",
            "d77a5b85b665462ead6817dbf9824057",
            "eff9dd543b684e8d94870b464a13cf9e",
            "f6003f5c420b408881e96b9ac6644849",
            "49f76eb25a8d40399ab5fa3a1b5fc2dc",
            "20802c5afb264e3e962d03548318c0a2",
            "008efeb1f909420d8ee803e125a26701",
            "820703a581d4461b8bb8a07a922ec5f2",
            "193f0e11176f4b1c804e478e129a914b",
            "995493c86e774ff1a96b7d5a4ab11ee7",
            "18435705870e4a0fbfc2a5c4e0d756ca",
            "fa44d7f818c8424d92b13700e51b7533",
            "86bbd245cce048abaadfe30b35639b52",
            "61d2922c03894219b25668f498b6f15a",
            "6906f643321044378fc883c304668620",
            "5694bd508bde4d40a7e34b0c772e182a",
            "3cc6cc75a19b4d6f8255127be0b7cacc",
            "15dae62d4dc94763ba89f2c11188d9cd",
            "887883b1834d4b18b5f0865ddaba2809",
            "3babdc16425a4049817eae8f28000649",
            "695f3f14ece34b7aaa26228c2a3e76bd",
            "d36795c1ed0c4afa93a6154aed79fe60",
            "951a71c738304da89f1748efb3f261ae",
            "9305ea7b765340739e61278289c06955",
            "471ae9b56ec1414b9877d9e3c57f65b0",
            "bfa2dc2135ea491c9c45683f0da2aebb",
            "29fd1478f9324c209b9e666bdd90f04b",
            "ce553d9b84f84a42b50ff89aea2d80fe",
            "5fbc779a692e44c587c3d02d5e2ba4e1",
            "fdd03782784d41bfadf740b083544214",
            "0977e52a8ca94a25982480e46426a3fa",
            "5adef016b49047b4814ea3180cb626d4",
            "2087735a539942268a9a2d8750217082",
            "29b25250767b4ca89f4d46b123f76429",
            "19eabfc076f645f9afc31877d1e6213b",
            "8db5c13c313d447bb1ddbd924101c333",
            "ab7c54c04c8e4db3a31983e04564a0f9",
            "6371293ef7f34acc8c6b586ed491ecd7",
            "91f32399d911447cbccb9e6802fa0895",
            "206195819a3744d999380016cab59140",
            "c842352310b64db482e883c6fc5806d8",
            "b69d4c0b9a3e4b75a61374b9410a3bc6",
            "10f9e44fcea64c579e618f4d9e4642f3",
            "148c9550d8f9464a9070f2541257fc1c",
            "45a2f1df6cbf490eba0dd00c989dc374",
            "1e0081e1bad24a3480e8d97464cc1841",
            "d94981a505e84fab9450dc2647c12bde",
            "b243dddbc20048ebaca9e4fc7da005f7",
            "5e47dd80e4164cee983cfe858c7cb9c2",
            "5f30afeb38674f308ceacc00b2435f25",
            "b70a273cc68e412ea9c6b5f24a975255",
            "c024dd1bc49145b1ab041892898cc878",
            "78cb3cfc7c3d4b83aa90cd7e321ebdde",
            "5933af15bd754968898495da59d5077c",
            "c6e4503f1dca4a1bbeb3d1b84585fb94",
            "149b8563c07d45f9b82573c48cf52594",
            "bfd1a679d6764f59ab1ad218b89f77a7",
            "0b32aea55e0c41cda4e37fae6863a274",
            "b23ec363ad4f4a6d9c5d4f3e70d803b3",
            "621bac173e434a2f8e7c944bc9291840",
            "9595dddec401483083d011ca18ae6a2d",
            "965ebefef79c434fabdc52fd2be08299",
            "0bf2c2df633246968c4b29f4ae4ad98d",
            "d342a80c72ef48db877fac6436661032",
            "07b379e220874f9594886ba3d91300c4",
            "6953e1f662564ba9bcde8243617df583",
            "68bf33e3443844fc9fb44d4ba81ba454",
            "6a9e4465f1664b1b850d9b39e111e3fb",
            "300eaa1c92524ed5bacc2f5bfe99eada",
            "ae93d867252640ccb85cfda6626264a2",
            "cda22547f3d84a57bc1a3c1e2f1c6f98",
            "8ddc2e30b6064b308b8d8871cf760a0d",
            "9d1340c5ef5f46cfa67dd12f4802181a",
            "adf54859d7044d419a40935a3ebb0e48",
            "24ca187838df479ca458e300ec4dc0fb",
            "3b03c439cc744502bf75325ba260f463",
            "024c6246da0948d7840fd4c1d11b083a",
            "136dbf3dce6a4a2bae56d2045b48e6dd",
            "ea325a6218954e7ab5127ca2f3a7e686",
            "3fac6bcd9da146eb8e5eff97a09774ea",
            "1b08cfe3b1614b588f3fbb93dea8a85c",
            "0f4d9b246c784211bc21ca94eed56de0",
            "8e8ce421d10b4d09842e326489dd878b",
            "a3e8ced188a846f78c22019ddf555494",
            "331a81c5ffc64b60bf5ba77298df98b3",
            "7cdb8767467346e7b220e65e66451a84",
            "dda2ab19170348cb94901916fffc13f0",
            "5808082a43294335ae86311c4e168a8c",
            "39331a7b956e416b905ebda47d551743",
            "049c774ac40e41ce8b6910d665356ba2",
            "a48325efac874004aea0241cc3d9f3bd",
            "3a60277b139048b3a06d4951d226d6e2",
            "4835be77e7974e958be380fcdabcd6fc",
            "79131bf10475482ca03e430d836d7f4c",
            "0d925c6689f746e9a10a537e2a48131a",
            "8cc9765a4db8478098749247272784cf",
            "129218cf33614123845fc180d15171a6",
            "cd91a59d2a5041989088c14d663565f1",
            "f16f427aa9e6453ea9298d7e558424ea",
            "f96953fe2ce5491a92ba7a2ad6083d56",
            "9ff3fc01b75f4659ad020d20f5c4e19e",
            "1cebaf2a297942979753e6d520ee049a",
            "f5d1e22cd1f848e49883911bd92de0aa",
            "fb2eedaa384f4d2cb2b125b95751f4f8",
            "ed49ef01dea34827b73338c64a1bf21d",
            "03bc4fe9403045ec96bedf8e45ebd6ef",
            "4ded644b4bca4881988563467e397bf9",
            "68ad111b6055451486b1024f61475a2f",
            "e2d3aeb0b5f74584b8de4baae68a5444",
            "4714e68c4eb045ed9f355d9348207d7a",
            "593eec7617f14bef9d216c068649923d",
            "45bf9ef0bcf44af3b72b7e0a1bcb15a0",
            "fd82b533ffb24489a29a2ffad70fb947",
            "bd63021f3ff44b91904286fd5996e336",
            "e9cd7d039d7143aba572fe04e41387bd",
            "8fa83214ea974c03af00ac1ba4cf782d",
            "67a6fa802ca746edb958292fff03996d",
            "93aee4249dfd4ba4b1ca1d357db45c31",
            "78e8848e441b450daed00ba711ceca0e",
            "bca71efdda8e4c96b78aa27ae66822c1",
            "0ac87b950a284c7185a4467ba8ffbbf8",
            "69e1a2c5551d4dfd991fb8e0416fe7de",
            "0e10c9d031cc4cb3b8a02e47de35efdf",
            "5f90f557f22548df9d62ec1e514a178e",
            "1e719f2a36f94bf79435c22b26291cce",
            "5b57e6cc813043cf8bd45e94d3dc22c6",
            "32928b7afa80450a8d3413d83f303f57",
            "255c224293b6408aa8f653282a2dadde",
            "28105ab5e0c049a1b90c4c7b948fc2ec",
            "0f05dea1ec3647a581999bef1b768885",
            "db7258aa5b734ab1bca917b792c6fdb3",
            "df811e883f3044f6b90ffc8921eb5382",
            "935dc3ec36b44b8491e1e63f178b0f9e",
            "cdbf87f5c015467484ae8e09cedd1d95",
            "ffb8fff36beb4c6e85464adf2b2105e7",
            "d043eb965241475799764bf750090266",
            "adfa6abf26444fcd8682e59054acff7e",
            "7768f0169fbf441ba21845615bdf5784",
            "c9a1a8b66c5b48e9a874b98ee5abe2e7",
            "c4a4586704a446d995498690ffba1bee",
            "5f69698fb9444ee98cf7025751a45de9",
            "43ff99c71f554ccaa2e02ea9563ab981",
            "1de2630b2f624894b2dde58555e54377",
            "ab0814df21544969812c4e337af38943",
            "cbe43a32fc734677ad5b43f318771108",
            "378370d3381f4644b64051d5826347a8",
            "ef849970563c4eca902b119a80901d00",
            "ba40d347a8414730bc4e491f4fe9732c",
            "6217cfe0137c486798972e7a4bee2e54",
            "705417d4a3434349bd7e58c76b07d08c",
            "29509e105c694cfe8549f0d88c00af5e",
            "a652cde276f648f4875c3bd73f4e3af1",
            "97d9993c4a4b4225a3201fa028a4bbd2",
            "4827a7e627774f159a832897fe8bf164",
            "09af2d487dba459b988518ff0f8c891d",
            "fe44959d94e44222bc0813f29ab94d6f",
            "8f511fc4ebe14c508ebafec4c3e9fe5e",
            "860d2a10d2f64bd6a7a72bddfafc41ed",
            "3509d56c54fb4f86a80b9cf894433a2c",
            "6c47d9b87f7b479e95fe588cb6675df6",
            "d0f21f2bac4f4123be14a354431133e3",
            "0b917990600d45a5900273cc74ad9015",
            "a12c9703d6254fde82e2f935dea20eb4",
            "49c9eafd57c44d8fb9bdb9347993f58d",
            "7016795567cb477ab6e692e7fb7c3680",
            "324060642de140b9b02ff00f4880b660",
            "36ce3c660d644ef4a4029a46cd421f26",
            "194840d3d3a24d1fbcd3ff8681dae602",
            "c3752f62c45a44538969a10d97bb927f",
            "35c2865519a04384af2e4b492c26cb23",
            "c6a7972f59064d8098f47b18310621ed",
            "947561b125b5472186cfa9fd426bafb2",
            "58a3096e160e4d75ae7bc5889098c2b3",
            "f2310b7ea91949d9a59d58b8f0bbd0bb",
            "19d723b70960456b93065365220357fe",
            "0b100e8c2e614228ac020715e5e30474",
            "51eda096d8e9469394ceb0ebc220e35b",
            "041236bf34ad40b5abc29a8725382c77",
            "549028d8eda34d4886764cfcb7ef6e2b",
            "705b7b23fcad4cfb860cea59810d0667",
            "24de5f0dd9d24d58a7e1a4315b6b1387",
            "68be4ad79c5543f69a48115a67336d07",
            "af709b036dfd4a5289ddf07dd755ea8b",
            "c1f7f236f3f3464a8262603d9d7fd2d8",
            "d1e0ef03940c45f3b7bf721ed1d7252d",
            "055b15407d79450395bdb8979ddd895c",
            "13083f9a9b2c4ce395e684f134b74779",
            "141546f6cbf54574835ab1f52f907372",
            "a499965eb0914454a5e7ccb79b0ca367",
            "9deb1bf37d3d473585084af7cd562d30",
            "ea64e32e624e465cab587e30fe9b3f5b",
            "ae62bd496a5543e592f2969ff54c401e",
            "d8cbb694dee648d192af3e1bfe9ed8a1",
            "23ae35c28c37422fbe172c6c8c5548cc",
            "d4b4387e135441db9c384ef5409af83d",
            "784ff03bf9e44904a858ec2e7a472e70",
            "3cb4965c25d84e1a81984801afb505af",
            "89d978387b9d4139801de0681f34b4bf",
            "771c2b6c6edc4ed48b009b444c6d8394",
            "59b8f914bb12481c9ff656820ebe8051",
            "de9b56b501d24e68b6bef86cbf406a06",
            "20ddbefedcba46459eb3c504abd99312",
            "acf686325e684e8ab6bc94ccd218cfd3",
            "a89eb22945f7467ca732a9f362375fbb",
            "ab97a539be6a45279105478fa2b4e14b",
            "3ba5e5c6afae49c784cc951cd4a78a99",
            "c1605010251e453dabbef981a982d06d",
            "ac7f4fceeace4d3585fd8af2e9bdcab4",
            "6142162bfeb54073a9c4d11c180a4d26",
            "455081c1f6264599b1d91448dc7f2894",
            "a7d36df0c33242418c96fc5b3da0ec13",
            "c762ba5f04164b5786447360d71778f4",
            "ca583edc40cc4b16a00722579c3cd235",
            "c47172541d59494c8719e37254ddb49e",
            "671008fda079441885b9e631bd67751b",
            "316612a5ff6b4e1e9f89b896a752f2da",
            "b42a6a8c09254a0da99f0e8cd115e9ec",
            "8311ecf980964ccfb68288b1281c1fb8",
            "9dd58f920b4c4c2486316e4bd3120aa5",
            "103dd4fc333c4636a733d01ed527feb4",
            "40a99707dbb3487bb9c0c56658c0037a",
            "54044fcff66f41c89cc3cf4b468869b4",
            "cb88c73644284be1beb7cadc032f24b4",
            "cbffb127409041bc9747afc2837f6e32",
            "1a66926afdd14da48da471ea63b87d6e",
            "4218e75e69914593a69903684857782a",
            "67677f1bb87f40faa2b163898f3217e9",
            "d454a4d3e14447908a42f44c4c460fbe",
            "827f5df836384d14870f2a557c533a33",
            "3fd69b012cd84016b59eb67f374993c4",
            "f62a455d2b0f4567a83fc01f04716426",
            "6057bfd199e948f5b87dad75150b76c9",
            "3a5937faf6764317bf52090d446e1fdd",
            "c7dae3ae9fd14658bffaa13f707cacf6",
            "b01317d76f5c477fa7b0cff167e75600",
            "a5486781f9864bc7972917f6a569bf72",
            "9558c6c6f4a9479f843b40b93bc73d72",
            "ba159282a12d49168fb697534bd7b923",
            "a39f1aec49044b5b89731f9507304ff3",
            "59c3b942083249f0a65a46bed1b45810",
            "9280969630e444e1991afae88ee209f2",
            "52ec4b185113404eaf42d9fc3b3bfa27",
            "95ed37ee5c9c4e669e5b7b9c87b7b1c3",
            "e8100aade7f1429d88a58fa6bd90d890",
            "dce1e5049c0d4798818ec67eee398e71",
            "9d34681edd9540c89631f420c1678718",
            "1e19fa5a625d48b1a02fef1f132b43ef",
            "5cf3f8b4486f4fc3a4ed85d1776fd79b",
            "2d53735ac8b244049ed51c6685e0fd47",
            "7f3097c7f7c841788a23df586d81d55a",
            "1376f5653acc40839c1832c4f05d8420",
            "5e56bf1fb0dc40f79870322ca2499a8f",
            "af3469e489384fbdb87cc6c44626b933",
            "33aca0de692f476a8ea53cfa20370bcb",
            "0244440a475c41478f4179d5678b0025",
            "b9ac39c6a1f847b3a81cba8e811540ea",
            "1b65a55e6dd0427da013d2dec1e2b7c9",
            "d56aa9246bd640358b06ae896dfef45a",
            "702c8d33ef9c42ae92f011d85aada583",
            "e975143d4df043f9a77d0180f9baae8d",
            "b9105084b99940469dd40d2dd82ff514",
            "942b04a55ee64d43bc22462d6f31f0b8",
            "bf8c75758c224551b43c547320eabd29",
            "b7b0094c450d411b85ee2217c44cc5b1",
            "7208e5062c514adc9ddce9a0288d68c8",
            "c851d4ad0ce045b8b23cc8d2731efb85",
            "fea47a77d25142a8bc205619d62f2026",
            "9b522e54efa14a6a888a230386f0102c",
            "9fd70bb143f74831a6e6cb9e041e2cd3",
            "ff3caf053d984d4c85c756fa020f70bf",
            "b4dcc1c3d1974e7f9a8fbb292ab78945",
            "09e6415254c24a129e7dff25f750a42d",
            "0fcddede0f874ad492ec1e16d3af0d1d",
            "35889985e1554e1f90880482d78667dc",
            "d3fdf3b364204555a00d345858eb6579",
            "b16c69d0a91b429dbc45abbd77576b02",
            "a5e0c79f995347a7946fa7c809cadc23",
            "3088e29151d84aeda39018b7c8f7cef6",
            "861315867d9948258bf61d6ab4d4e7e6",
            "97b1b13a27424ec19d8a77bc7ea12b07",
            "6b50dbeca6b54e0e9947c9b5c44865ca",
            "ddc0df5cfed448d0a0829ddfb5bb5bda",
            "ee0bc169f60c452d8c1f62f46e996a1a",
            "91424946898b46b88a568457be0a6d0b",
            "debea06d98b4431eaead7bd9200b1b8c",
            "126d431243264ce39a9831631264117f",
            "9b9f7d22b66744259958ae0a74a1efb7",
            "3f15a25245c54cd68e0f0ec46e59c663",
            "4ca6acae6a6b410e8cacb1c07c979ea2",
            "09c4fa51c35b455c878be920fac891fd",
            "a857487c343d4a9d9a3d9e39e601d399",
            "064d3b8f1af04f6b8b854d40a12ec365",
            "ea8bc96ea8cc41768d495435ba55b0a3",
            "dad751c3055f4ab49b0c7da26e44b399",
            "8679438ca19349c8910f74e2a0234a18",
            "0f78586c7b55450f8f22910b0c6ec69b",
            "f720abef3cbf48a6b374fdc54cada4b1",
            "95acc4f5bed44249b85dc0aa7230afb4",
            "5adbc0a8eed046e193c7b2d458166eeb",
            "72510360b75545f28f5cb1c63af94841",
            "4eec15d6b4834339986025c73dd6328d",
            "de88dc4df01249bdadf188b7374866a6",
            "57773bb1266d44ed9309d3350e2e30db",
            "225a95a3754742bcb69290b77c98cbfe",
            "99483634a0694ba1b1f211f96f661200",
            "f689dd87c6454b9aab56eab171bc6ecb",
            "73446ed9d33246658915e42996068db7",
            "cf752c3e1bcf40d0b1b6f6ffedc63c62",
            "aba8e9c808004b6ba90c5ba5ad834e97",
            "4b57aeae3c6540279403be904504704a",
            "7150b211e7df41f393c8b795cff1da0c",
            "3f81cb17c65148be9121bdae7e939c63",
            "f8ea0ebd1f8f4eed818739a60a4bb586",
            "bba6a74c4b02438788b157d4f296afeb",
            "136b2ac7065c4314ae2e55bc477d0d88",
            "00fba27cb3654c589df1d5a3308fe1e3",
            "217498dc619743cdaa798a00dbfb7180",
            "e7464cf505094e38a0d61212321c4c8f",
            "a3a6087243fc4d10a38b3435ea9286e6",
            "694016a6e498490da1e92ed83724dab7",
            "c7473815283941628e133c1a6d6f0610",
            "b22eba241aab4c82a12bc7b096e5e0dd",
            "8a2462daa97f4bc2bbd1885a9a5ad503",
            "9a9b01f445a24ba381f3c388a9de290a",
            "8c38e23300ac463b8fd83c4b7aa2893c",
            "5e99b2c49f9b403e8778f2bc8b23012f",
            "7bf2b63fb5964890b8d7f1105fd436f1",
            "b4e243dfb9684f018b49111da67ecfbb",
            "c0ec5b22d2c84129a089dd8ff6b40a38",
            "4932334979cc400eb9777f278b2f2ea7",
            "87c18a1994054b759ac1d4521ee45aa7",
            "2242d9473a014f4c91db6b55d0ad8d29",
            "7b5977153bf148a6b3de32e7a767069c",
            "204e759ec5f34d4f9eb79a3b966f1771",
            "b807bee7e17d475ba8cda091c93d8e6a",
            "26d7f94310154a159d4b776bf2b453c8",
            "4fc1a297a57e4f1babcd672e8afa061d",
            "7626dddf3d8248d589b78487feb063f1",
            "b4a2e06089f649b88966a4f120639696",
            "6bd21e10dce6458ba1ad1924d98f91c8",
            "d0a42b2b7ec64a9b88ebedafb7369ce3",
            "9bc0c92a3f4e4eebbbbe12f357f57470",
            "03c7d17ed04a49a3a1a03e60f44c5217",
            "9df298ee6fa04587be7984fd26a2c07a",
            "f75f6b8ca5b94e1b8b88334dd1c83abc",
            "f5b7ca084a8642f3adb58b3f2a8eeeab",
            "d45fd5c1d06b44c783e52c2bad6e22e8",
            "8a6e5fd31ffb4aa9acbc5e7c68c61dd0",
            "dfdfc2b4f20a44f1ae14eabf680eb8a2"
          ]
        },
        "id": "9NeZirO0CQ_M",
        "outputId": "77a8b837-a55c-49f1-f4cb-e475e520398a"
      },
      "execution_count": null,
      "outputs": [
        {
          "output_type": "stream",
          "name": "stderr",
          "text": [
            "\u001b[32m[I 2022-04-22 16:28:38,635]\u001b[0m A new study created in memory with name: no-name-d57eda6a-97b6-48d9-8594-09de5b6d05c4\u001b[0m\n"
          ]
        },
        {
          "output_type": "stream",
          "name": "stdout",
          "text": [
            "Downloading http://ufldl.stanford.edu/housenumbers/train_32x32.mat to ./data/SVHN/train_32x32.mat\n"
          ]
        },
        {
          "output_type": "display_data",
          "data": {
            "text/plain": [
              "  0%|          | 0/182040794 [00:00<?, ?it/s]"
            ],
            "application/vnd.jupyter.widget-view+json": {
              "version_major": 2,
              "version_minor": 0,
              "model_id": "80d91e5ba2af4d1180da3d65b5a9a649"
            }
          },
          "metadata": {}
        },
        {
          "output_type": "stream",
          "name": "stdout",
          "text": [
            "Downloading http://ufldl.stanford.edu/housenumbers/test_32x32.mat to ./data/SVHN/test_32x32.mat\n"
          ]
        },
        {
          "output_type": "display_data",
          "data": {
            "text/plain": [
              "  0%|          | 0/64275384 [00:00<?, ?it/s]"
            ],
            "application/vnd.jupyter.widget-view+json": {
              "version_major": 2,
              "version_minor": 0,
              "model_id": "ffe8ae0810b24855b4f9ad942daf737e"
            }
          },
          "metadata": {}
        },
        {
          "output_type": "display_data",
          "data": {
            "text/plain": [
              "[1/457]   0%|           [00:00<?]"
            ],
            "application/vnd.jupyter.widget-view+json": {
              "version_major": 2,
              "version_minor": 0,
              "model_id": "7a2425fb31644e788288325418d13e8c"
            }
          },
          "metadata": {}
        },
        {
          "output_type": "stream",
          "name": "stdout",
          "text": [
            "Valid - Epoch: 1 Acc: 0.1920\n"
          ]
        },
        {
          "output_type": "display_data",
          "data": {
            "text/plain": [
              "[1/457]   0%|           [00:00<?]"
            ],
            "application/vnd.jupyter.widget-view+json": {
              "version_major": 2,
              "version_minor": 0,
              "model_id": "1201d81205684cd48fb71054dbacd472"
            }
          },
          "metadata": {}
        },
        {
          "output_type": "stream",
          "name": "stdout",
          "text": [
            "Valid - Epoch: 2 Acc: 0.1920\n"
          ]
        },
        {
          "output_type": "display_data",
          "data": {
            "text/plain": [
              "[1/457]   0%|           [00:00<?]"
            ],
            "application/vnd.jupyter.widget-view+json": {
              "version_major": 2,
              "version_minor": 0,
              "model_id": "1351844e9d894ca1a853108d3b4a7778"
            }
          },
          "metadata": {}
        },
        {
          "output_type": "stream",
          "name": "stdout",
          "text": [
            "Valid - Epoch: 3 Acc: 0.1920\n"
          ]
        },
        {
          "output_type": "display_data",
          "data": {
            "text/plain": [
              "[1/457]   0%|           [00:00<?]"
            ],
            "application/vnd.jupyter.widget-view+json": {
              "version_major": 2,
              "version_minor": 0,
              "model_id": "7b91251cc41749dda2c3133350c6cb73"
            }
          },
          "metadata": {}
        },
        {
          "output_type": "stream",
          "name": "stdout",
          "text": [
            "Valid - Epoch: 4 Acc: 0.1920\n"
          ]
        },
        {
          "output_type": "display_data",
          "data": {
            "text/plain": [
              "[1/457]   0%|           [00:00<?]"
            ],
            "application/vnd.jupyter.widget-view+json": {
              "version_major": 2,
              "version_minor": 0,
              "model_id": "fe38738cb60d48159be2004e49b1d82b"
            }
          },
          "metadata": {}
        },
        {
          "output_type": "stream",
          "name": "stderr",
          "text": [
            "2022-04-22 16:50:02,780 ignite.handlers.early_stopping.EarlyStopping INFO: EarlyStopping: Stop training\n",
            "\u001b[32m[I 2022-04-22 16:50:02,930]\u001b[0m Trial 0 finished with value: 0.191987441987442 and parameters: {'learning_rate': 0.00727491708802781, 'lambda': 0.9507143064099162, 'length_scale': 0.7587945476302645}. Best is trial 0 with value: 0.191987441987442.\u001b[0m\n"
          ]
        },
        {
          "output_type": "stream",
          "name": "stdout",
          "text": [
            "Valid - Epoch: 5 Acc: 0.1920\n",
            "Using downloaded and verified file: ./data/SVHN/train_32x32.mat\n",
            "Using downloaded and verified file: ./data/SVHN/test_32x32.mat\n"
          ]
        },
        {
          "output_type": "display_data",
          "data": {
            "text/plain": [
              "[1/457]   0%|           [00:00<?]"
            ],
            "application/vnd.jupyter.widget-view+json": {
              "version_major": 2,
              "version_minor": 0,
              "model_id": "fb2d42c33b4441d4bc41651bff59205a"
            }
          },
          "metadata": {}
        },
        {
          "output_type": "stream",
          "name": "stdout",
          "text": [
            "Valid - Epoch: 1 Acc: 0.2755\n"
          ]
        },
        {
          "output_type": "display_data",
          "data": {
            "text/plain": [
              "[1/457]   0%|           [00:00<?]"
            ],
            "application/vnd.jupyter.widget-view+json": {
              "version_major": 2,
              "version_minor": 0,
              "model_id": "c65fcae3fe7c47e98721944d795575b3"
            }
          },
          "metadata": {}
        },
        {
          "output_type": "stream",
          "name": "stdout",
          "text": [
            "Valid - Epoch: 2 Acc: 0.5993\n"
          ]
        },
        {
          "output_type": "display_data",
          "data": {
            "text/plain": [
              "[1/457]   0%|           [00:00<?]"
            ],
            "application/vnd.jupyter.widget-view+json": {
              "version_major": 2,
              "version_minor": 0,
              "model_id": "f8ddeeb89b5549f4be3bd75111bbc289"
            }
          },
          "metadata": {}
        },
        {
          "output_type": "stream",
          "name": "stdout",
          "text": [
            "Valid - Epoch: 3 Acc: 0.7999\n"
          ]
        },
        {
          "output_type": "display_data",
          "data": {
            "text/plain": [
              "[1/457]   0%|           [00:00<?]"
            ],
            "application/vnd.jupyter.widget-view+json": {
              "version_major": 2,
              "version_minor": 0,
              "model_id": "eafcb17ba401425d80756f99a18376bc"
            }
          },
          "metadata": {}
        },
        {
          "output_type": "stream",
          "name": "stdout",
          "text": [
            "Valid - Epoch: 4 Acc: 0.8825\n"
          ]
        },
        {
          "output_type": "display_data",
          "data": {
            "text/plain": [
              "[1/457]   0%|           [00:00<?]"
            ],
            "application/vnd.jupyter.widget-view+json": {
              "version_major": 2,
              "version_minor": 0,
              "model_id": "1ee5048f941c48948f0aeaff8b6687b3"
            }
          },
          "metadata": {}
        },
        {
          "output_type": "stream",
          "name": "stdout",
          "text": [
            "Valid - Epoch: 5 Acc: 0.8983\n"
          ]
        },
        {
          "output_type": "display_data",
          "data": {
            "text/plain": [
              "[1/457]   0%|           [00:00<?]"
            ],
            "application/vnd.jupyter.widget-view+json": {
              "version_major": 2,
              "version_minor": 0,
              "model_id": "60b0f1a4882c454cbc30a9667703d60c"
            }
          },
          "metadata": {}
        },
        {
          "output_type": "stream",
          "name": "stdout",
          "text": [
            "Valid - Epoch: 6 Acc: 0.9008\n"
          ]
        },
        {
          "output_type": "display_data",
          "data": {
            "text/plain": [
              "[1/457]   0%|           [00:00<?]"
            ],
            "application/vnd.jupyter.widget-view+json": {
              "version_major": 2,
              "version_minor": 0,
              "model_id": "c3a879fadd9849809d8942abd301f4d8"
            }
          },
          "metadata": {}
        },
        {
          "output_type": "stream",
          "name": "stdout",
          "text": [
            "Valid - Epoch: 7 Acc: 0.9146\n"
          ]
        },
        {
          "output_type": "display_data",
          "data": {
            "text/plain": [
              "[1/457]   0%|           [00:00<?]"
            ],
            "application/vnd.jupyter.widget-view+json": {
              "version_major": 2,
              "version_minor": 0,
              "model_id": "2d516b3276ae41158ae1855edb41eb19"
            }
          },
          "metadata": {}
        },
        {
          "output_type": "stream",
          "name": "stdout",
          "text": [
            "Valid - Epoch: 8 Acc: 0.9044\n"
          ]
        },
        {
          "output_type": "display_data",
          "data": {
            "text/plain": [
              "[1/457]   0%|           [00:00<?]"
            ],
            "application/vnd.jupyter.widget-view+json": {
              "version_major": 2,
              "version_minor": 0,
              "model_id": "e68c6faa5aba48d8916ac1bc8a7e5afb"
            }
          },
          "metadata": {}
        },
        {
          "output_type": "stream",
          "name": "stdout",
          "text": [
            "Valid - Epoch: 9 Acc: 0.9221\n"
          ]
        },
        {
          "output_type": "display_data",
          "data": {
            "text/plain": [
              "[1/457]   0%|           [00:00<?]"
            ],
            "application/vnd.jupyter.widget-view+json": {
              "version_major": 2,
              "version_minor": 0,
              "model_id": "463dbf3cd3584e4580b79f7c4e65cee2"
            }
          },
          "metadata": {}
        },
        {
          "output_type": "stream",
          "name": "stdout",
          "text": [
            "Valid - Epoch: 10 Acc: 0.9282\n"
          ]
        },
        {
          "output_type": "display_data",
          "data": {
            "text/plain": [
              "[1/457]   0%|           [00:00<?]"
            ],
            "application/vnd.jupyter.widget-view+json": {
              "version_major": 2,
              "version_minor": 0,
              "model_id": "ca0cadc0a28644f8b2a6d59844fbab9d"
            }
          },
          "metadata": {}
        },
        {
          "output_type": "stream",
          "name": "stdout",
          "text": [
            "Valid - Epoch: 11 Acc: 0.9182\n"
          ]
        },
        {
          "output_type": "display_data",
          "data": {
            "text/plain": [
              "[1/457]   0%|           [00:00<?]"
            ],
            "application/vnd.jupyter.widget-view+json": {
              "version_major": 2,
              "version_minor": 0,
              "model_id": "7c1cea7a387743fa81dafaeb3e5e166f"
            }
          },
          "metadata": {}
        },
        {
          "output_type": "stream",
          "name": "stdout",
          "text": [
            "Valid - Epoch: 12 Acc: 0.9294\n"
          ]
        },
        {
          "output_type": "display_data",
          "data": {
            "text/plain": [
              "[1/457]   0%|           [00:00<?]"
            ],
            "application/vnd.jupyter.widget-view+json": {
              "version_major": 2,
              "version_minor": 0,
              "model_id": "7426a28a6737453e99603290ed04f0e5"
            }
          },
          "metadata": {}
        },
        {
          "output_type": "stream",
          "name": "stdout",
          "text": [
            "Valid - Epoch: 13 Acc: 0.9384\n"
          ]
        },
        {
          "output_type": "display_data",
          "data": {
            "text/plain": [
              "[1/457]   0%|           [00:00<?]"
            ],
            "application/vnd.jupyter.widget-view+json": {
              "version_major": 2,
              "version_minor": 0,
              "model_id": "9a80836ae9fd457c8ed819988298657f"
            }
          },
          "metadata": {}
        },
        {
          "output_type": "stream",
          "name": "stdout",
          "text": [
            "Valid - Epoch: 14 Acc: 0.9359\n"
          ]
        },
        {
          "output_type": "display_data",
          "data": {
            "text/plain": [
              "[1/457]   0%|           [00:00<?]"
            ],
            "application/vnd.jupyter.widget-view+json": {
              "version_major": 2,
              "version_minor": 0,
              "model_id": "3708e0ce467a41b58b84a0a7bf4d593e"
            }
          },
          "metadata": {}
        },
        {
          "output_type": "stream",
          "name": "stdout",
          "text": [
            "Valid - Epoch: 15 Acc: 0.9337\n"
          ]
        },
        {
          "output_type": "display_data",
          "data": {
            "text/plain": [
              "[1/457]   0%|           [00:00<?]"
            ],
            "application/vnd.jupyter.widget-view+json": {
              "version_major": 2,
              "version_minor": 0,
              "model_id": "17fad10705a54e06b67cfd182aed9c26"
            }
          },
          "metadata": {}
        },
        {
          "output_type": "stream",
          "name": "stdout",
          "text": [
            "Valid - Epoch: 16 Acc: 0.9335\n"
          ]
        },
        {
          "output_type": "display_data",
          "data": {
            "text/plain": [
              "[1/457]   0%|           [00:00<?]"
            ],
            "application/vnd.jupyter.widget-view+json": {
              "version_major": 2,
              "version_minor": 0,
              "model_id": "4a5a9322ec724b89b930049348dbb241"
            }
          },
          "metadata": {}
        },
        {
          "output_type": "stream",
          "name": "stderr",
          "text": [
            "2022-04-22 18:01:19,898 ignite.handlers.early_stopping.EarlyStopping INFO: EarlyStopping: Stop training\n",
            "\u001b[32m[I 2022-04-22 18:01:20,059]\u001b[0m Trial 1 finished with value: 0.9201474201474201 and parameters: {'learning_rate': 0.02385234757844707, 'lambda': 0.15601864044243652, 'length_scale': 0.2403950683025824}. Best is trial 1 with value: 0.9201474201474201.\u001b[0m\n"
          ]
        },
        {
          "output_type": "stream",
          "name": "stdout",
          "text": [
            "Valid - Epoch: 17 Acc: 0.9201\n",
            "Using downloaded and verified file: ./data/SVHN/train_32x32.mat\n",
            "Using downloaded and verified file: ./data/SVHN/test_32x32.mat\n"
          ]
        },
        {
          "output_type": "display_data",
          "data": {
            "text/plain": [
              "[1/457]   0%|           [00:00<?]"
            ],
            "application/vnd.jupyter.widget-view+json": {
              "version_major": 2,
              "version_minor": 0,
              "model_id": "e00749a5d8314c79bff69902cad0ef10"
            }
          },
          "metadata": {}
        },
        {
          "output_type": "stream",
          "name": "stdout",
          "text": [
            "Valid - Epoch: 1 Acc: 0.1890\n"
          ]
        },
        {
          "output_type": "display_data",
          "data": {
            "text/plain": [
              "[1/457]   0%|           [00:00<?]"
            ],
            "application/vnd.jupyter.widget-view+json": {
              "version_major": 2,
              "version_minor": 0,
              "model_id": "4a0cf281ff694703b8ffa4a2ba33c769"
            }
          },
          "metadata": {}
        },
        {
          "output_type": "stream",
          "name": "stdout",
          "text": [
            "Valid - Epoch: 2 Acc: 0.1890\n"
          ]
        },
        {
          "output_type": "display_data",
          "data": {
            "text/plain": [
              "[1/457]   0%|           [00:00<?]"
            ],
            "application/vnd.jupyter.widget-view+json": {
              "version_major": 2,
              "version_minor": 0,
              "model_id": "8020e04e586c420299cb9dc1f3160be1"
            }
          },
          "metadata": {}
        },
        {
          "output_type": "stream",
          "name": "stdout",
          "text": [
            "Valid - Epoch: 3 Acc: 0.1890\n"
          ]
        },
        {
          "output_type": "display_data",
          "data": {
            "text/plain": [
              "[1/457]   0%|           [00:00<?]"
            ],
            "application/vnd.jupyter.widget-view+json": {
              "version_major": 2,
              "version_minor": 0,
              "model_id": "9c7ae36b9409494c8cfc83dce11411b6"
            }
          },
          "metadata": {}
        },
        {
          "output_type": "stream",
          "name": "stdout",
          "text": [
            "Valid - Epoch: 4 Acc: 0.1890\n"
          ]
        },
        {
          "output_type": "display_data",
          "data": {
            "text/plain": [
              "[1/457]   0%|           [00:00<?]"
            ],
            "application/vnd.jupyter.widget-view+json": {
              "version_major": 2,
              "version_minor": 0,
              "model_id": "8a9264fe03194eb8877335a237e74712"
            }
          },
          "metadata": {}
        },
        {
          "output_type": "stream",
          "name": "stderr",
          "text": [
            "2022-04-22 18:22:19,384 ignite.handlers.early_stopping.EarlyStopping INFO: EarlyStopping: Stop training\n",
            "\u001b[32m[I 2022-04-22 18:22:19,553]\u001b[0m Trial 2 finished with value: 0.18898443898443898 and parameters: {'learning_rate': 0.001360354613611808, 'lambda': 0.8661761457749352, 'length_scale': 0.6410035105688879}. Best is trial 1 with value: 0.9201474201474201.\u001b[0m\n"
          ]
        },
        {
          "output_type": "stream",
          "name": "stdout",
          "text": [
            "Valid - Epoch: 5 Acc: 0.1890\n",
            "Using downloaded and verified file: ./data/SVHN/train_32x32.mat\n",
            "Using downloaded and verified file: ./data/SVHN/test_32x32.mat\n"
          ]
        },
        {
          "output_type": "display_data",
          "data": {
            "text/plain": [
              "[1/457]   0%|           [00:00<?]"
            ],
            "application/vnd.jupyter.widget-view+json": {
              "version_major": 2,
              "version_minor": 0,
              "model_id": "d7bf6756611a4c4cb62e351961fee8af"
            }
          },
          "metadata": {}
        },
        {
          "output_type": "stream",
          "name": "stdout",
          "text": [
            "Valid - Epoch: 1 Acc: 0.1880\n"
          ]
        },
        {
          "output_type": "display_data",
          "data": {
            "text/plain": [
              "[1/457]   0%|           [00:00<?]"
            ],
            "application/vnd.jupyter.widget-view+json": {
              "version_major": 2,
              "version_minor": 0,
              "model_id": "ad9c9f4fcaad42b6aab7b31fe455a617"
            }
          },
          "metadata": {}
        },
        {
          "output_type": "stream",
          "name": "stdout",
          "text": [
            "Valid - Epoch: 2 Acc: 0.1880\n"
          ]
        },
        {
          "output_type": "display_data",
          "data": {
            "text/plain": [
              "[1/457]   0%|           [00:00<?]"
            ],
            "application/vnd.jupyter.widget-view+json": {
              "version_major": 2,
              "version_minor": 0,
              "model_id": "37ee032416f841bdade54f47b72df688"
            }
          },
          "metadata": {}
        },
        {
          "output_type": "stream",
          "name": "stdout",
          "text": [
            "Valid - Epoch: 3 Acc: 0.1880\n"
          ]
        },
        {
          "output_type": "display_data",
          "data": {
            "text/plain": [
              "[1/457]   0%|           [00:00<?]"
            ],
            "application/vnd.jupyter.widget-view+json": {
              "version_major": 2,
              "version_minor": 0,
              "model_id": "8e9a967b507449fe9322330d1fefef9f"
            }
          },
          "metadata": {}
        },
        {
          "output_type": "stream",
          "name": "stdout",
          "text": [
            "Valid - Epoch: 4 Acc: 0.1880\n"
          ]
        },
        {
          "output_type": "display_data",
          "data": {
            "text/plain": [
              "[1/457]   0%|           [00:00<?]"
            ],
            "application/vnd.jupyter.widget-view+json": {
              "version_major": 2,
              "version_minor": 0,
              "model_id": "2cef40d1cb924fbe91963b0591365b84"
            }
          },
          "metadata": {}
        },
        {
          "output_type": "stream",
          "name": "stderr",
          "text": [
            "2022-04-22 18:43:18,536 ignite.handlers.early_stopping.EarlyStopping INFO: EarlyStopping: Stop training\n",
            "\u001b[32m[I 2022-04-22 18:43:18,718]\u001b[0m Trial 3 finished with value: 0.18802893802893803 and parameters: {'learning_rate': 0.04258888210290081, 'lambda': 0.020584494295802447, 'length_scale': 0.9729188669457949}. Best is trial 1 with value: 0.9201474201474201.\u001b[0m\n"
          ]
        },
        {
          "output_type": "stream",
          "name": "stdout",
          "text": [
            "Valid - Epoch: 5 Acc: 0.1880\n",
            "Using downloaded and verified file: ./data/SVHN/train_32x32.mat\n",
            "Using downloaded and verified file: ./data/SVHN/test_32x32.mat\n"
          ]
        },
        {
          "output_type": "display_data",
          "data": {
            "text/plain": [
              "[1/457]   0%|           [00:00<?]"
            ],
            "application/vnd.jupyter.widget-view+json": {
              "version_major": 2,
              "version_minor": 0,
              "model_id": "6527b591b2954367a03fb734cd069e8a"
            }
          },
          "metadata": {}
        },
        {
          "output_type": "stream",
          "name": "stdout",
          "text": [
            "Valid - Epoch: 1 Acc: 0.3077\n"
          ]
        },
        {
          "output_type": "display_data",
          "data": {
            "text/plain": [
              "[1/457]   0%|           [00:00<?]"
            ],
            "application/vnd.jupyter.widget-view+json": {
              "version_major": 2,
              "version_minor": 0,
              "model_id": "1e735196268d4689b097bbafe7274184"
            }
          },
          "metadata": {}
        },
        {
          "output_type": "stream",
          "name": "stdout",
          "text": [
            "Valid - Epoch: 2 Acc: 0.8393\n"
          ]
        },
        {
          "output_type": "display_data",
          "data": {
            "text/plain": [
              "[1/457]   0%|           [00:00<?]"
            ],
            "application/vnd.jupyter.widget-view+json": {
              "version_major": 2,
              "version_minor": 0,
              "model_id": "203b4ba8d57e4565b7f15d5a4de5b117"
            }
          },
          "metadata": {}
        },
        {
          "output_type": "stream",
          "name": "stdout",
          "text": [
            "Valid - Epoch: 3 Acc: 0.8916\n"
          ]
        },
        {
          "output_type": "display_data",
          "data": {
            "text/plain": [
              "[1/457]   0%|           [00:00<?]"
            ],
            "application/vnd.jupyter.widget-view+json": {
              "version_major": 2,
              "version_minor": 0,
              "model_id": "22cca32953174de99b932151009420fc"
            }
          },
          "metadata": {}
        },
        {
          "output_type": "stream",
          "name": "stdout",
          "text": [
            "Valid - Epoch: 4 Acc: 0.9106\n"
          ]
        },
        {
          "output_type": "display_data",
          "data": {
            "text/plain": [
              "[1/457]   0%|           [00:00<?]"
            ],
            "application/vnd.jupyter.widget-view+json": {
              "version_major": 2,
              "version_minor": 0,
              "model_id": "0ea0a715eaa343259cb9bd1d968fae43"
            }
          },
          "metadata": {}
        },
        {
          "output_type": "stream",
          "name": "stdout",
          "text": [
            "Valid - Epoch: 5 Acc: 0.9216\n"
          ]
        },
        {
          "output_type": "display_data",
          "data": {
            "text/plain": [
              "[1/457]   0%|           [00:00<?]"
            ],
            "application/vnd.jupyter.widget-view+json": {
              "version_major": 2,
              "version_minor": 0,
              "model_id": "62c7e44df80d41ef8a9fa5fba6c42a84"
            }
          },
          "metadata": {}
        },
        {
          "output_type": "stream",
          "name": "stdout",
          "text": [
            "Valid - Epoch: 6 Acc: 0.9126\n"
          ]
        },
        {
          "output_type": "display_data",
          "data": {
            "text/plain": [
              "[1/457]   0%|           [00:00<?]"
            ],
            "application/vnd.jupyter.widget-view+json": {
              "version_major": 2,
              "version_minor": 0,
              "model_id": "371f74fd7b934a1db98f4f35e64992e0"
            }
          },
          "metadata": {}
        },
        {
          "output_type": "stream",
          "name": "stdout",
          "text": [
            "Valid - Epoch: 7 Acc: 0.9171\n"
          ]
        },
        {
          "output_type": "display_data",
          "data": {
            "text/plain": [
              "[1/457]   0%|           [00:00<?]"
            ],
            "application/vnd.jupyter.widget-view+json": {
              "version_major": 2,
              "version_minor": 0,
              "model_id": "4402b575c9344b208b07a304c6efb05a"
            }
          },
          "metadata": {}
        },
        {
          "output_type": "stream",
          "name": "stdout",
          "text": [
            "Valid - Epoch: 8 Acc: 0.9318\n"
          ]
        },
        {
          "output_type": "display_data",
          "data": {
            "text/plain": [
              "[1/457]   0%|           [00:00<?]"
            ],
            "application/vnd.jupyter.widget-view+json": {
              "version_major": 2,
              "version_minor": 0,
              "model_id": "112b91706af849afb714ad935409d927"
            }
          },
          "metadata": {}
        },
        {
          "output_type": "stream",
          "name": "stdout",
          "text": [
            "Valid - Epoch: 9 Acc: 0.9257\n"
          ]
        },
        {
          "output_type": "display_data",
          "data": {
            "text/plain": [
              "[1/457]   0%|           [00:00<?]"
            ],
            "application/vnd.jupyter.widget-view+json": {
              "version_major": 2,
              "version_minor": 0,
              "model_id": "a4af9f90fd394264805068180c1ebe81"
            }
          },
          "metadata": {}
        },
        {
          "output_type": "stream",
          "name": "stdout",
          "text": [
            "Valid - Epoch: 10 Acc: 0.9279\n"
          ]
        },
        {
          "output_type": "display_data",
          "data": {
            "text/plain": [
              "[1/457]   0%|           [00:00<?]"
            ],
            "application/vnd.jupyter.widget-view+json": {
              "version_major": 2,
              "version_minor": 0,
              "model_id": "9a01d29ef28f464095c0331caf701a6d"
            }
          },
          "metadata": {}
        },
        {
          "output_type": "stream",
          "name": "stdout",
          "text": [
            "Valid - Epoch: 11 Acc: 0.9305\n"
          ]
        },
        {
          "output_type": "display_data",
          "data": {
            "text/plain": [
              "[1/457]   0%|           [00:00<?]"
            ],
            "application/vnd.jupyter.widget-view+json": {
              "version_major": 2,
              "version_minor": 0,
              "model_id": "8057875460eb44559b8454c64fc30566"
            }
          },
          "metadata": {}
        },
        {
          "output_type": "stream",
          "name": "stderr",
          "text": [
            "2022-04-22 19:33:36,385 ignite.handlers.early_stopping.EarlyStopping INFO: EarlyStopping: Stop training\n",
            "\u001b[32m[I 2022-04-22 19:33:36,572]\u001b[0m Trial 4 finished with value: 0.9185776685776685 and parameters: {'learning_rate': 0.0823143373099555, 'lambda': 0.21233911067827616, 'length_scale': 0.26364247048639056}. Best is trial 1 with value: 0.9201474201474201.\u001b[0m\n"
          ]
        },
        {
          "output_type": "stream",
          "name": "stdout",
          "text": [
            "Valid - Epoch: 12 Acc: 0.9186\n",
            "Using downloaded and verified file: ./data/SVHN/train_32x32.mat\n",
            "Using downloaded and verified file: ./data/SVHN/test_32x32.mat\n"
          ]
        },
        {
          "output_type": "display_data",
          "data": {
            "text/plain": [
              "[1/457]   0%|           [00:00<?]"
            ],
            "application/vnd.jupyter.widget-view+json": {
              "version_major": 2,
              "version_minor": 0,
              "model_id": "e75f769ca51445a0a32200aa67260171"
            }
          },
          "metadata": {}
        },
        {
          "output_type": "stream",
          "name": "stdout",
          "text": [
            "Valid - Epoch: 1 Acc: 0.1909\n"
          ]
        },
        {
          "output_type": "display_data",
          "data": {
            "text/plain": [
              "[1/457]   0%|           [00:00<?]"
            ],
            "application/vnd.jupyter.widget-view+json": {
              "version_major": 2,
              "version_minor": 0,
              "model_id": "5f7387909baf471c9b31f6e58e7d0722"
            }
          },
          "metadata": {}
        },
        {
          "output_type": "stream",
          "name": "stdout",
          "text": [
            "Valid - Epoch: 2 Acc: 0.1909\n"
          ]
        },
        {
          "output_type": "display_data",
          "data": {
            "text/plain": [
              "[1/457]   0%|           [00:00<?]"
            ],
            "application/vnd.jupyter.widget-view+json": {
              "version_major": 2,
              "version_minor": 0,
              "model_id": "3cfe21684276462ea508b515bc534377"
            }
          },
          "metadata": {}
        },
        {
          "output_type": "stream",
          "name": "stdout",
          "text": [
            "Valid - Epoch: 3 Acc: 0.1909\n"
          ]
        },
        {
          "output_type": "display_data",
          "data": {
            "text/plain": [
              "[1/457]   0%|           [00:00<?]"
            ],
            "application/vnd.jupyter.widget-view+json": {
              "version_major": 2,
              "version_minor": 0,
              "model_id": "f6a787810f71467a8cd9fee9b58ca897"
            }
          },
          "metadata": {}
        },
        {
          "output_type": "stream",
          "name": "stderr",
          "text": [
            "Engine run is terminating due to exception: Trial was pruned at 4 epoch.\n",
            "Engine run is terminating due to exception: Trial was pruned at 4 epoch.\n",
            "\u001b[32m[I 2022-04-22 19:50:24,900]\u001b[0m Trial 5 pruned. Trial was pruned at 4 epoch.\u001b[0m\n"
          ]
        },
        {
          "output_type": "stream",
          "name": "stdout",
          "text": [
            "Using downloaded and verified file: ./data/SVHN/train_32x32.mat\n",
            "Using downloaded and verified file: ./data/SVHN/test_32x32.mat\n"
          ]
        },
        {
          "output_type": "display_data",
          "data": {
            "text/plain": [
              "[1/457]   0%|           [00:00<?]"
            ],
            "application/vnd.jupyter.widget-view+json": {
              "version_major": 2,
              "version_minor": 0,
              "model_id": "7c785718ff4f4c58b09a0f73472b90cf"
            }
          },
          "metadata": {}
        },
        {
          "output_type": "stream",
          "name": "stdout",
          "text": [
            "Valid - Epoch: 1 Acc: 0.1923\n"
          ]
        },
        {
          "output_type": "display_data",
          "data": {
            "text/plain": [
              "[1/457]   0%|           [00:00<?]"
            ],
            "application/vnd.jupyter.widget-view+json": {
              "version_major": 2,
              "version_minor": 0,
              "model_id": "f6b2421c28664560bacae175298acb70"
            }
          },
          "metadata": {}
        },
        {
          "output_type": "stream",
          "name": "stdout",
          "text": [
            "Valid - Epoch: 2 Acc: 0.1923\n"
          ]
        },
        {
          "output_type": "display_data",
          "data": {
            "text/plain": [
              "[1/457]   0%|           [00:00<?]"
            ],
            "application/vnd.jupyter.widget-view+json": {
              "version_major": 2,
              "version_minor": 0,
              "model_id": "0dbd7bcd52c048fb9db3bc87685b93de"
            }
          },
          "metadata": {}
        },
        {
          "output_type": "stream",
          "name": "stdout",
          "text": [
            "Valid - Epoch: 3 Acc: 0.1923\n"
          ]
        },
        {
          "output_type": "display_data",
          "data": {
            "text/plain": [
              "[1/457]   0%|           [00:00<?]"
            ],
            "application/vnd.jupyter.widget-view+json": {
              "version_major": 2,
              "version_minor": 0,
              "model_id": "7ee700d2b8a64e6699c772bf9790ed66"
            }
          },
          "metadata": {}
        },
        {
          "output_type": "stream",
          "name": "stdout",
          "text": [
            "Valid - Epoch: 4 Acc: 0.1923\n"
          ]
        },
        {
          "output_type": "display_data",
          "data": {
            "text/plain": [
              "[1/457]   0%|           [00:00<?]"
            ],
            "application/vnd.jupyter.widget-view+json": {
              "version_major": 2,
              "version_minor": 0,
              "model_id": "fff3edcc32934789bb9318d0337a439e"
            }
          },
          "metadata": {}
        },
        {
          "output_type": "stream",
          "name": "stderr",
          "text": [
            "2022-04-22 20:11:25,073 ignite.handlers.early_stopping.EarlyStopping INFO: EarlyStopping: Stop training\n",
            "\u001b[32m[I 2022-04-22 20:11:25,285]\u001b[0m Trial 6 finished with value: 0.19226044226044225 and parameters: {'learning_rate': 0.009860942908083906, 'lambda': 0.2912291401980419, 'length_scale': 0.6506676052501416}. Best is trial 1 with value: 0.9201474201474201.\u001b[0m\n"
          ]
        },
        {
          "output_type": "stream",
          "name": "stdout",
          "text": [
            "Valid - Epoch: 5 Acc: 0.1923\n",
            "Using downloaded and verified file: ./data/SVHN/train_32x32.mat\n",
            "Using downloaded and verified file: ./data/SVHN/test_32x32.mat\n"
          ]
        },
        {
          "output_type": "display_data",
          "data": {
            "text/plain": [
              "[1/457]   0%|           [00:00<?]"
            ],
            "application/vnd.jupyter.widget-view+json": {
              "version_major": 2,
              "version_minor": 0,
              "model_id": "f6731f08dfef4218adda0c2d892b2db1"
            }
          },
          "metadata": {}
        },
        {
          "output_type": "stream",
          "name": "stdout",
          "text": [
            "Valid - Epoch: 1 Acc: 0.1840\n"
          ]
        },
        {
          "output_type": "display_data",
          "data": {
            "text/plain": [
              "[1/457]   0%|           [00:00<?]"
            ],
            "application/vnd.jupyter.widget-view+json": {
              "version_major": 2,
              "version_minor": 0,
              "model_id": "7d77df5006f4449aa2610f1d204054d6"
            }
          },
          "metadata": {}
        },
        {
          "output_type": "stream",
          "name": "stdout",
          "text": [
            "Valid - Epoch: 2 Acc: 0.1840\n"
          ]
        },
        {
          "output_type": "display_data",
          "data": {
            "text/plain": [
              "[1/457]   0%|           [00:00<?]"
            ],
            "application/vnd.jupyter.widget-view+json": {
              "version_major": 2,
              "version_minor": 0,
              "model_id": "bdc591e3358a4e0f963b4bb4ed041014"
            }
          },
          "metadata": {}
        },
        {
          "output_type": "stream",
          "name": "stdout",
          "text": [
            "Valid - Epoch: 3 Acc: 0.1840\n"
          ]
        },
        {
          "output_type": "display_data",
          "data": {
            "text/plain": [
              "[1/457]   0%|           [00:00<?]"
            ],
            "application/vnd.jupyter.widget-view+json": {
              "version_major": 2,
              "version_minor": 0,
              "model_id": "722d94ad0c62464fb258c66e139eae01"
            }
          },
          "metadata": {}
        },
        {
          "output_type": "stream",
          "name": "stderr",
          "text": [
            "Engine run is terminating due to exception: Trial was pruned at 4 epoch.\n",
            "Engine run is terminating due to exception: Trial was pruned at 4 epoch.\n",
            "\u001b[32m[I 2022-04-22 20:28:13,441]\u001b[0m Trial 7 pruned. Trial was pruned at 4 epoch.\u001b[0m\n"
          ]
        },
        {
          "output_type": "stream",
          "name": "stdout",
          "text": [
            "Using downloaded and verified file: ./data/SVHN/train_32x32.mat\n",
            "Using downloaded and verified file: ./data/SVHN/test_32x32.mat\n"
          ]
        },
        {
          "output_type": "display_data",
          "data": {
            "text/plain": [
              "[1/457]   0%|           [00:00<?]"
            ],
            "application/vnd.jupyter.widget-view+json": {
              "version_major": 2,
              "version_minor": 0,
              "model_id": "cf37b6d2aa764e81b601ab7b33479b2f"
            }
          },
          "metadata": {}
        },
        {
          "output_type": "stream",
          "name": "stdout",
          "text": [
            "Valid - Epoch: 1 Acc: 0.1895\n"
          ]
        },
        {
          "output_type": "display_data",
          "data": {
            "text/plain": [
              "[1/457]   0%|           [00:00<?]"
            ],
            "application/vnd.jupyter.widget-view+json": {
              "version_major": 2,
              "version_minor": 0,
              "model_id": "3e6aceaa3f11477ea112f32d1d8e299a"
            }
          },
          "metadata": {}
        },
        {
          "output_type": "stream",
          "name": "stdout",
          "text": [
            "Valid - Epoch: 2 Acc: 0.1906\n"
          ]
        },
        {
          "output_type": "display_data",
          "data": {
            "text/plain": [
              "[1/457]   0%|           [00:00<?]"
            ],
            "application/vnd.jupyter.widget-view+json": {
              "version_major": 2,
              "version_minor": 0,
              "model_id": "2171d2d25bdf4cd28e2a1aa2f2b230d7"
            }
          },
          "metadata": {}
        },
        {
          "output_type": "stream",
          "name": "stdout",
          "text": [
            "Valid - Epoch: 3 Acc: 0.2639\n"
          ]
        },
        {
          "output_type": "display_data",
          "data": {
            "text/plain": [
              "[1/457]   0%|           [00:00<?]"
            ],
            "application/vnd.jupyter.widget-view+json": {
              "version_major": 2,
              "version_minor": 0,
              "model_id": "4a134ea06e814d7896dc674f1b44e50f"
            }
          },
          "metadata": {}
        },
        {
          "output_type": "stream",
          "name": "stdout",
          "text": [
            "Valid - Epoch: 4 Acc: 0.2970\n"
          ]
        },
        {
          "output_type": "display_data",
          "data": {
            "text/plain": [
              "[1/457]   0%|           [00:00<?]"
            ],
            "application/vnd.jupyter.widget-view+json": {
              "version_major": 2,
              "version_minor": 0,
              "model_id": "4ba99d7f93974363b7e4e3533e605326"
            }
          },
          "metadata": {}
        },
        {
          "output_type": "stream",
          "name": "stdout",
          "text": [
            "Valid - Epoch: 5 Acc: 0.4038\n"
          ]
        },
        {
          "output_type": "display_data",
          "data": {
            "text/plain": [
              "[1/457]   0%|           [00:00<?]"
            ],
            "application/vnd.jupyter.widget-view+json": {
              "version_major": 2,
              "version_minor": 0,
              "model_id": "fb885f5a1e1c466b980e0cb6886b5464"
            }
          },
          "metadata": {}
        },
        {
          "output_type": "stream",
          "name": "stderr",
          "text": [
            "Engine run is terminating due to exception: Trial was pruned at 6 epoch.\n",
            "Engine run is terminating due to exception: Trial was pruned at 6 epoch.\n",
            "\u001b[32m[I 2022-04-22 20:53:26,101]\u001b[0m Trial 8 pruned. Trial was pruned at 6 epoch.\u001b[0m\n"
          ]
        },
        {
          "output_type": "stream",
          "name": "stdout",
          "text": [
            "Using downloaded and verified file: ./data/SVHN/train_32x32.mat\n",
            "Using downloaded and verified file: ./data/SVHN/test_32x32.mat\n"
          ]
        },
        {
          "output_type": "display_data",
          "data": {
            "text/plain": [
              "[1/457]   0%|           [00:00<?]"
            ],
            "application/vnd.jupyter.widget-view+json": {
              "version_major": 2,
              "version_minor": 0,
              "model_id": "c53a35db49ec4423b0d6cb543f3c403c"
            }
          },
          "metadata": {}
        },
        {
          "output_type": "stream",
          "name": "stdout",
          "text": [
            "Valid - Epoch: 1 Acc: 0.3165\n"
          ]
        },
        {
          "output_type": "display_data",
          "data": {
            "text/plain": [
              "[1/457]   0%|           [00:00<?]"
            ],
            "application/vnd.jupyter.widget-view+json": {
              "version_major": 2,
              "version_minor": 0,
              "model_id": "34ba323d9c664d299b8824cfbeff0894"
            }
          },
          "metadata": {}
        },
        {
          "output_type": "stream",
          "name": "stdout",
          "text": [
            "Valid - Epoch: 2 Acc: 0.6881\n"
          ]
        },
        {
          "output_type": "display_data",
          "data": {
            "text/plain": [
              "[1/457]   0%|           [00:00<?]"
            ],
            "application/vnd.jupyter.widget-view+json": {
              "version_major": 2,
              "version_minor": 0,
              "model_id": "8e6f130d4b8044efb750cb4c58a232c3"
            }
          },
          "metadata": {}
        },
        {
          "output_type": "stream",
          "name": "stdout",
          "text": [
            "Valid - Epoch: 3 Acc: 0.8216\n"
          ]
        },
        {
          "output_type": "display_data",
          "data": {
            "text/plain": [
              "[1/457]   0%|           [00:00<?]"
            ],
            "application/vnd.jupyter.widget-view+json": {
              "version_major": 2,
              "version_minor": 0,
              "model_id": "c26dacfa11f34376803b169028e0cc72"
            }
          },
          "metadata": {}
        },
        {
          "output_type": "stream",
          "name": "stdout",
          "text": [
            "Valid - Epoch: 4 Acc: 0.8738\n"
          ]
        },
        {
          "output_type": "display_data",
          "data": {
            "text/plain": [
              "[1/457]   0%|           [00:00<?]"
            ],
            "application/vnd.jupyter.widget-view+json": {
              "version_major": 2,
              "version_minor": 0,
              "model_id": "192b90af39394fea90d0414e9a4d6f10"
            }
          },
          "metadata": {}
        },
        {
          "output_type": "stream",
          "name": "stdout",
          "text": [
            "Valid - Epoch: 5 Acc: 0.8875\n"
          ]
        },
        {
          "output_type": "display_data",
          "data": {
            "text/plain": [
              "[1/457]   0%|           [00:00<?]"
            ],
            "application/vnd.jupyter.widget-view+json": {
              "version_major": 2,
              "version_minor": 0,
              "model_id": "66c65a44363544b3a44d48d44ec32680"
            }
          },
          "metadata": {}
        },
        {
          "output_type": "stream",
          "name": "stderr",
          "text": [
            "Engine run is terminating due to exception: Trial was pruned at 6 epoch.\n",
            "Engine run is terminating due to exception: Trial was pruned at 6 epoch.\n",
            "\u001b[32m[I 2022-04-22 21:18:40,335]\u001b[0m Trial 9 pruned. Trial was pruned at 6 epoch.\u001b[0m\n"
          ]
        },
        {
          "output_type": "stream",
          "name": "stdout",
          "text": [
            "Using downloaded and verified file: ./data/SVHN/train_32x32.mat\n",
            "Using downloaded and verified file: ./data/SVHN/test_32x32.mat\n"
          ]
        },
        {
          "output_type": "display_data",
          "data": {
            "text/plain": [
              "[1/457]   0%|           [00:00<?]"
            ],
            "application/vnd.jupyter.widget-view+json": {
              "version_major": 2,
              "version_minor": 0,
              "model_id": "f2df763a649245238f29cf28c5df82bb"
            }
          },
          "metadata": {}
        },
        {
          "output_type": "stream",
          "name": "stdout",
          "text": [
            "Valid - Epoch: 1 Acc: 0.9016\n"
          ]
        },
        {
          "output_type": "display_data",
          "data": {
            "text/plain": [
              "[1/457]   0%|           [00:00<?]"
            ],
            "application/vnd.jupyter.widget-view+json": {
              "version_major": 2,
              "version_minor": 0,
              "model_id": "63c31310c7854021a02ebb5d6f9c80e6"
            }
          },
          "metadata": {}
        },
        {
          "output_type": "stream",
          "name": "stdout",
          "text": [
            "Valid - Epoch: 2 Acc: 0.9061\n"
          ]
        },
        {
          "output_type": "display_data",
          "data": {
            "text/plain": [
              "[1/457]   0%|           [00:00<?]"
            ],
            "application/vnd.jupyter.widget-view+json": {
              "version_major": 2,
              "version_minor": 0,
              "model_id": "925ba289e1264617b9dd500f082540e3"
            }
          },
          "metadata": {}
        },
        {
          "output_type": "stream",
          "name": "stdout",
          "text": [
            "Valid - Epoch: 3 Acc: 0.8904\n"
          ]
        },
        {
          "output_type": "display_data",
          "data": {
            "text/plain": [
              "[1/457]   0%|           [00:00<?]"
            ],
            "application/vnd.jupyter.widget-view+json": {
              "version_major": 2,
              "version_minor": 0,
              "model_id": "408172cb988741dc8732a5f78f278baa"
            }
          },
          "metadata": {}
        },
        {
          "output_type": "stream",
          "name": "stdout",
          "text": [
            "Valid - Epoch: 4 Acc: 0.9286\n"
          ]
        },
        {
          "output_type": "display_data",
          "data": {
            "text/plain": [
              "[1/457]   0%|           [00:00<?]"
            ],
            "application/vnd.jupyter.widget-view+json": {
              "version_major": 2,
              "version_minor": 0,
              "model_id": "21a5bf5a017b44648ff9a632d169fe0d"
            }
          },
          "metadata": {}
        },
        {
          "output_type": "stream",
          "name": "stdout",
          "text": [
            "Valid - Epoch: 5 Acc: 0.8970\n"
          ]
        },
        {
          "output_type": "display_data",
          "data": {
            "text/plain": [
              "[1/457]   0%|           [00:00<?]"
            ],
            "application/vnd.jupyter.widget-view+json": {
              "version_major": 2,
              "version_minor": 0,
              "model_id": "79db976ac1344d4ea516b2be524e46dc"
            }
          },
          "metadata": {}
        },
        {
          "output_type": "stream",
          "name": "stdout",
          "text": [
            "Valid - Epoch: 6 Acc: 0.9301\n"
          ]
        },
        {
          "output_type": "display_data",
          "data": {
            "text/plain": [
              "[1/457]   0%|           [00:00<?]"
            ],
            "application/vnd.jupyter.widget-view+json": {
              "version_major": 2,
              "version_minor": 0,
              "model_id": "76d450bfe8844663804c9b5a7077be81"
            }
          },
          "metadata": {}
        },
        {
          "output_type": "stream",
          "name": "stdout",
          "text": [
            "Valid - Epoch: 7 Acc: 0.8968\n"
          ]
        },
        {
          "output_type": "display_data",
          "data": {
            "text/plain": [
              "[1/457]   0%|           [00:00<?]"
            ],
            "application/vnd.jupyter.widget-view+json": {
              "version_major": 2,
              "version_minor": 0,
              "model_id": "dcaa88ead681447297968655bab95a5c"
            }
          },
          "metadata": {}
        },
        {
          "output_type": "stream",
          "name": "stdout",
          "text": [
            "Valid - Epoch: 8 Acc: 0.9141\n"
          ]
        },
        {
          "output_type": "display_data",
          "data": {
            "text/plain": [
              "[1/457]   0%|           [00:00<?]"
            ],
            "application/vnd.jupyter.widget-view+json": {
              "version_major": 2,
              "version_minor": 0,
              "model_id": "a94b33fcb9f445d4a37b824f3dd7a7c6"
            }
          },
          "metadata": {}
        },
        {
          "output_type": "stream",
          "name": "stdout",
          "text": [
            "Valid - Epoch: 9 Acc: 0.9075\n"
          ]
        },
        {
          "output_type": "display_data",
          "data": {
            "text/plain": [
              "[1/457]   0%|           [00:00<?]"
            ],
            "application/vnd.jupyter.widget-view+json": {
              "version_major": 2,
              "version_minor": 0,
              "model_id": "005e7bcb92884036b7583b5e7f6f2759"
            }
          },
          "metadata": {}
        },
        {
          "output_type": "stream",
          "name": "stderr",
          "text": [
            "2022-04-22 22:00:35,966 ignite.handlers.early_stopping.EarlyStopping INFO: EarlyStopping: Stop training\n",
            "\u001b[32m[I 2022-04-22 22:00:36,197]\u001b[0m Trial 10 finished with value: 0.9017199017199017 and parameters: {'learning_rate': 0.15640109083649653, 'lambda': 0.005997182955817026, 'length_scale': 0.10679258738466385}. Best is trial 1 with value: 0.9201474201474201.\u001b[0m\n"
          ]
        },
        {
          "output_type": "stream",
          "name": "stdout",
          "text": [
            "Valid - Epoch: 10 Acc: 0.9017\n",
            "Using downloaded and verified file: ./data/SVHN/train_32x32.mat\n",
            "Using downloaded and verified file: ./data/SVHN/test_32x32.mat\n"
          ]
        },
        {
          "output_type": "display_data",
          "data": {
            "text/plain": [
              "[1/457]   0%|           [00:00<?]"
            ],
            "application/vnd.jupyter.widget-view+json": {
              "version_major": 2,
              "version_minor": 0,
              "model_id": "b663e595735e4e01a56f4b586cfea4eb"
            }
          },
          "metadata": {}
        },
        {
          "output_type": "stream",
          "name": "stdout",
          "text": [
            "Valid - Epoch: 1 Acc: 0.1907\n"
          ]
        },
        {
          "output_type": "display_data",
          "data": {
            "text/plain": [
              "[1/457]   0%|           [00:00<?]"
            ],
            "application/vnd.jupyter.widget-view+json": {
              "version_major": 2,
              "version_minor": 0,
              "model_id": "e231fedf612a44f0a776bddd0eff42f3"
            }
          },
          "metadata": {}
        },
        {
          "output_type": "stream",
          "name": "stdout",
          "text": [
            "Valid - Epoch: 2 Acc: 0.5244\n"
          ]
        },
        {
          "output_type": "display_data",
          "data": {
            "text/plain": [
              "[1/457]   0%|           [00:00<?]"
            ],
            "application/vnd.jupyter.widget-view+json": {
              "version_major": 2,
              "version_minor": 0,
              "model_id": "231baa160a2644f184487fe2db39a369"
            }
          },
          "metadata": {}
        },
        {
          "output_type": "stream",
          "name": "stdout",
          "text": [
            "Valid - Epoch: 3 Acc: 0.8494\n"
          ]
        },
        {
          "output_type": "display_data",
          "data": {
            "text/plain": [
              "[1/457]   0%|           [00:00<?]"
            ],
            "application/vnd.jupyter.widget-view+json": {
              "version_major": 2,
              "version_minor": 0,
              "model_id": "e7f5831b3ab54bf382b3b1a2cfb92d8a"
            }
          },
          "metadata": {}
        },
        {
          "output_type": "stream",
          "name": "stdout",
          "text": [
            "Valid - Epoch: 4 Acc: 0.9049\n"
          ]
        },
        {
          "output_type": "display_data",
          "data": {
            "text/plain": [
              "[1/457]   0%|           [00:00<?]"
            ],
            "application/vnd.jupyter.widget-view+json": {
              "version_major": 2,
              "version_minor": 0,
              "model_id": "a08c05a661924e3f8510b2d6312f1739"
            }
          },
          "metadata": {}
        },
        {
          "output_type": "stream",
          "name": "stdout",
          "text": [
            "Valid - Epoch: 5 Acc: 0.9152\n"
          ]
        },
        {
          "output_type": "display_data",
          "data": {
            "text/plain": [
              "[1/457]   0%|           [00:00<?]"
            ],
            "application/vnd.jupyter.widget-view+json": {
              "version_major": 2,
              "version_minor": 0,
              "model_id": "e6c69fb66f8f4d968efe21bbe320f208"
            }
          },
          "metadata": {}
        },
        {
          "output_type": "stream",
          "name": "stdout",
          "text": [
            "Valid - Epoch: 6 Acc: 0.9238\n"
          ]
        },
        {
          "output_type": "display_data",
          "data": {
            "text/plain": [
              "[1/457]   0%|           [00:00<?]"
            ],
            "application/vnd.jupyter.widget-view+json": {
              "version_major": 2,
              "version_minor": 0,
              "model_id": "7e49599e93f44a12806d6a8aa894346a"
            }
          },
          "metadata": {}
        },
        {
          "output_type": "stream",
          "name": "stdout",
          "text": [
            "Valid - Epoch: 7 Acc: 0.9210\n"
          ]
        },
        {
          "output_type": "display_data",
          "data": {
            "text/plain": [
              "[1/457]   0%|           [00:00<?]"
            ],
            "application/vnd.jupyter.widget-view+json": {
              "version_major": 2,
              "version_minor": 0,
              "model_id": "022ef8db7c454f8685081b2904bcfe13"
            }
          },
          "metadata": {}
        },
        {
          "output_type": "stream",
          "name": "stdout",
          "text": [
            "Valid - Epoch: 8 Acc: 0.9264\n"
          ]
        },
        {
          "output_type": "display_data",
          "data": {
            "text/plain": [
              "[1/457]   0%|           [00:00<?]"
            ],
            "application/vnd.jupyter.widget-view+json": {
              "version_major": 2,
              "version_minor": 0,
              "model_id": "07f2ec4a1a504df39a78d988a19b87e7"
            }
          },
          "metadata": {}
        },
        {
          "output_type": "stream",
          "name": "stdout",
          "text": [
            "Valid - Epoch: 9 Acc: 0.9225\n"
          ]
        },
        {
          "output_type": "display_data",
          "data": {
            "text/plain": [
              "[1/457]   0%|           [00:00<?]"
            ],
            "application/vnd.jupyter.widget-view+json": {
              "version_major": 2,
              "version_minor": 0,
              "model_id": "398b3b47c66649ae8c44e8df9e4fbcfb"
            }
          },
          "metadata": {}
        },
        {
          "output_type": "stream",
          "name": "stdout",
          "text": [
            "Valid - Epoch: 10 Acc: 0.9332\n"
          ]
        },
        {
          "output_type": "display_data",
          "data": {
            "text/plain": [
              "[1/457]   0%|           [00:00<?]"
            ],
            "application/vnd.jupyter.widget-view+json": {
              "version_major": 2,
              "version_minor": 0,
              "model_id": "db0f1979bf994bcd8264054789636720"
            }
          },
          "metadata": {}
        },
        {
          "output_type": "stream",
          "name": "stdout",
          "text": [
            "Valid - Epoch: 11 Acc: 0.9210\n"
          ]
        },
        {
          "output_type": "display_data",
          "data": {
            "text/plain": [
              "[1/457]   0%|           [00:00<?]"
            ],
            "application/vnd.jupyter.widget-view+json": {
              "version_major": 2,
              "version_minor": 0,
              "model_id": "2b6905347fdf453a81805a7e1e3cc661"
            }
          },
          "metadata": {}
        },
        {
          "output_type": "stream",
          "name": "stdout",
          "text": [
            "Valid - Epoch: 12 Acc: 0.9234\n"
          ]
        },
        {
          "output_type": "display_data",
          "data": {
            "text/plain": [
              "[1/457]   0%|           [00:00<?]"
            ],
            "application/vnd.jupyter.widget-view+json": {
              "version_major": 2,
              "version_minor": 0,
              "model_id": "36896fb9fb354733a63b395affccb9d2"
            }
          },
          "metadata": {}
        },
        {
          "output_type": "stream",
          "name": "stderr",
          "text": [
            "Engine run is terminating due to exception: Trial was pruned at 13 epoch.\n",
            "Engine run is terminating due to exception: Trial was pruned at 13 epoch.\n",
            "\u001b[32m[I 2022-04-22 22:54:58,453]\u001b[0m Trial 11 pruned. Trial was pruned at 13 epoch.\u001b[0m\n"
          ]
        },
        {
          "output_type": "stream",
          "name": "stdout",
          "text": [
            "Using downloaded and verified file: ./data/SVHN/train_32x32.mat\n",
            "Using downloaded and verified file: ./data/SVHN/test_32x32.mat\n"
          ]
        },
        {
          "output_type": "display_data",
          "data": {
            "text/plain": [
              "[1/457]   0%|           [00:00<?]"
            ],
            "application/vnd.jupyter.widget-view+json": {
              "version_major": 2,
              "version_minor": 0,
              "model_id": "547f35a9424d4ec891c74137a568a90e"
            }
          },
          "metadata": {}
        },
        {
          "output_type": "stream",
          "name": "stdout",
          "text": [
            "Valid - Epoch: 1 Acc: 0.1951\n"
          ]
        },
        {
          "output_type": "display_data",
          "data": {
            "text/plain": [
              "[1/457]   0%|           [00:00<?]"
            ],
            "application/vnd.jupyter.widget-view+json": {
              "version_major": 2,
              "version_minor": 0,
              "model_id": "79913b4b8aec453b83a42ceeaed4c03b"
            }
          },
          "metadata": {}
        },
        {
          "output_type": "stream",
          "name": "stdout",
          "text": [
            "Valid - Epoch: 2 Acc: 0.4003\n"
          ]
        },
        {
          "output_type": "display_data",
          "data": {
            "text/plain": [
              "[1/457]   0%|           [00:00<?]"
            ],
            "application/vnd.jupyter.widget-view+json": {
              "version_major": 2,
              "version_minor": 0,
              "model_id": "ee93e4a5551045209f78973b31c49587"
            }
          },
          "metadata": {}
        },
        {
          "output_type": "stream",
          "name": "stdout",
          "text": [
            "Valid - Epoch: 3 Acc: 0.7481\n"
          ]
        },
        {
          "output_type": "display_data",
          "data": {
            "text/plain": [
              "[1/457]   0%|           [00:00<?]"
            ],
            "application/vnd.jupyter.widget-view+json": {
              "version_major": 2,
              "version_minor": 0,
              "model_id": "445bb041bd7d4c0582f209866c1626bc"
            }
          },
          "metadata": {}
        },
        {
          "output_type": "stream",
          "name": "stdout",
          "text": [
            "Valid - Epoch: 4 Acc: 0.8747\n"
          ]
        },
        {
          "output_type": "display_data",
          "data": {
            "text/plain": [
              "[1/457]   0%|           [00:00<?]"
            ],
            "application/vnd.jupyter.widget-view+json": {
              "version_major": 2,
              "version_minor": 0,
              "model_id": "c1697f24b00346388965591e5c54d5fd"
            }
          },
          "metadata": {}
        },
        {
          "output_type": "stream",
          "name": "stdout",
          "text": [
            "Valid - Epoch: 5 Acc: 0.8760\n"
          ]
        },
        {
          "output_type": "display_data",
          "data": {
            "text/plain": [
              "[1/457]   0%|           [00:00<?]"
            ],
            "application/vnd.jupyter.widget-view+json": {
              "version_major": 2,
              "version_minor": 0,
              "model_id": "c4baacd7f88445d590a589a4456216c2"
            }
          },
          "metadata": {}
        },
        {
          "output_type": "stream",
          "name": "stderr",
          "text": [
            "Engine run is terminating due to exception: Trial was pruned at 6 epoch.\n",
            "Engine run is terminating due to exception: Trial was pruned at 6 epoch.\n",
            "\u001b[32m[I 2022-04-22 23:20:06,407]\u001b[0m Trial 12 pruned. Trial was pruned at 6 epoch.\u001b[0m\n"
          ]
        },
        {
          "output_type": "stream",
          "name": "stdout",
          "text": [
            "Using downloaded and verified file: ./data/SVHN/train_32x32.mat\n",
            "Using downloaded and verified file: ./data/SVHN/test_32x32.mat\n"
          ]
        },
        {
          "output_type": "display_data",
          "data": {
            "text/plain": [
              "[1/457]   0%|           [00:00<?]"
            ],
            "application/vnd.jupyter.widget-view+json": {
              "version_major": 2,
              "version_minor": 0,
              "model_id": "49eaaaf56598452a82abcc4afa02dd1e"
            }
          },
          "metadata": {}
        },
        {
          "output_type": "stream",
          "name": "stdout",
          "text": [
            "Valid - Epoch: 1 Acc: 0.1951\n"
          ]
        },
        {
          "output_type": "display_data",
          "data": {
            "text/plain": [
              "[1/457]   0%|           [00:00<?]"
            ],
            "application/vnd.jupyter.widget-view+json": {
              "version_major": 2,
              "version_minor": 0,
              "model_id": "17ff3640cf8a4be2a91420bea8fc50dc"
            }
          },
          "metadata": {}
        },
        {
          "output_type": "stream",
          "name": "stdout",
          "text": [
            "Valid - Epoch: 2 Acc: 0.7230\n"
          ]
        },
        {
          "output_type": "display_data",
          "data": {
            "text/plain": [
              "[1/457]   0%|           [00:00<?]"
            ],
            "application/vnd.jupyter.widget-view+json": {
              "version_major": 2,
              "version_minor": 0,
              "model_id": "cfe78dbf96c64dbf883bbb70d35a7623"
            }
          },
          "metadata": {}
        },
        {
          "output_type": "stream",
          "name": "stdout",
          "text": [
            "Valid - Epoch: 3 Acc: 0.8765\n"
          ]
        },
        {
          "output_type": "display_data",
          "data": {
            "text/plain": [
              "[1/457]   0%|           [00:00<?]"
            ],
            "application/vnd.jupyter.widget-view+json": {
              "version_major": 2,
              "version_minor": 0,
              "model_id": "3625f16488a449558fecf11e3177fe5e"
            }
          },
          "metadata": {}
        },
        {
          "output_type": "stream",
          "name": "stdout",
          "text": [
            "Valid - Epoch: 4 Acc: 0.8885\n"
          ]
        },
        {
          "output_type": "display_data",
          "data": {
            "text/plain": [
              "[1/457]   0%|           [00:00<?]"
            ],
            "application/vnd.jupyter.widget-view+json": {
              "version_major": 2,
              "version_minor": 0,
              "model_id": "6f3250399778415ab0bf379671842967"
            }
          },
          "metadata": {}
        },
        {
          "output_type": "stream",
          "name": "stdout",
          "text": [
            "Valid - Epoch: 5 Acc: 0.9030\n"
          ]
        },
        {
          "output_type": "display_data",
          "data": {
            "text/plain": [
              "[1/457]   0%|           [00:00<?]"
            ],
            "application/vnd.jupyter.widget-view+json": {
              "version_major": 2,
              "version_minor": 0,
              "model_id": "967b93901cc04c028760ec157bc1b7f1"
            }
          },
          "metadata": {}
        },
        {
          "output_type": "stream",
          "name": "stderr",
          "text": [
            "Engine run is terminating due to exception: Trial was pruned at 6 epoch.\n",
            "Engine run is terminating due to exception: Trial was pruned at 6 epoch.\n",
            "\u001b[32m[I 2022-04-22 23:45:13,409]\u001b[0m Trial 13 pruned. Trial was pruned at 6 epoch.\u001b[0m\n"
          ]
        },
        {
          "output_type": "stream",
          "name": "stdout",
          "text": [
            "Using downloaded and verified file: ./data/SVHN/train_32x32.mat\n",
            "Using downloaded and verified file: ./data/SVHN/test_32x32.mat\n"
          ]
        },
        {
          "output_type": "display_data",
          "data": {
            "text/plain": [
              "[1/457]   0%|           [00:00<?]"
            ],
            "application/vnd.jupyter.widget-view+json": {
              "version_major": 2,
              "version_minor": 0,
              "model_id": "7739ef85903b439ab0d174ca328a824d"
            }
          },
          "metadata": {}
        },
        {
          "output_type": "stream",
          "name": "stdout",
          "text": [
            "Valid - Epoch: 1 Acc: 0.1957\n"
          ]
        },
        {
          "output_type": "display_data",
          "data": {
            "text/plain": [
              "[1/457]   0%|           [00:00<?]"
            ],
            "application/vnd.jupyter.widget-view+json": {
              "version_major": 2,
              "version_minor": 0,
              "model_id": "4e1e7ff0d684463e87a4667fcc3f6728"
            }
          },
          "metadata": {}
        },
        {
          "output_type": "stream",
          "name": "stdout",
          "text": [
            "Valid - Epoch: 2 Acc: 0.3099\n"
          ]
        },
        {
          "output_type": "display_data",
          "data": {
            "text/plain": [
              "[1/457]   0%|           [00:00<?]"
            ],
            "application/vnd.jupyter.widget-view+json": {
              "version_major": 2,
              "version_minor": 0,
              "model_id": "a5d00d44c25a4e7f8d5f487bb6c74130"
            }
          },
          "metadata": {}
        },
        {
          "output_type": "stream",
          "name": "stdout",
          "text": [
            "Valid - Epoch: 3 Acc: 0.6315\n"
          ]
        },
        {
          "output_type": "display_data",
          "data": {
            "text/plain": [
              "[1/457]   0%|           [00:00<?]"
            ],
            "application/vnd.jupyter.widget-view+json": {
              "version_major": 2,
              "version_minor": 0,
              "model_id": "6f8323f9306c471fbbfff458cdacd42f"
            }
          },
          "metadata": {}
        },
        {
          "output_type": "stream",
          "name": "stdout",
          "text": [
            "Valid - Epoch: 4 Acc: 0.8326\n"
          ]
        },
        {
          "output_type": "display_data",
          "data": {
            "text/plain": [
              "[1/457]   0%|           [00:00<?]"
            ],
            "application/vnd.jupyter.widget-view+json": {
              "version_major": 2,
              "version_minor": 0,
              "model_id": "96abfee5ef604b27a4e53acdf7de5be8"
            }
          },
          "metadata": {}
        },
        {
          "output_type": "stream",
          "name": "stdout",
          "text": [
            "Valid - Epoch: 5 Acc: 0.8781\n"
          ]
        },
        {
          "output_type": "display_data",
          "data": {
            "text/plain": [
              "[1/457]   0%|           [00:00<?]"
            ],
            "application/vnd.jupyter.widget-view+json": {
              "version_major": 2,
              "version_minor": 0,
              "model_id": "17a9ee02483e4c4eb6665114a301e9eb"
            }
          },
          "metadata": {}
        },
        {
          "output_type": "stream",
          "name": "stderr",
          "text": [
            "Engine run is terminating due to exception: Trial was pruned at 6 epoch.\n",
            "Engine run is terminating due to exception: Trial was pruned at 6 epoch.\n",
            "\u001b[32m[I 2022-04-23 00:10:21,281]\u001b[0m Trial 14 pruned. Trial was pruned at 6 epoch.\u001b[0m\n"
          ]
        },
        {
          "output_type": "stream",
          "name": "stdout",
          "text": [
            "Using downloaded and verified file: ./data/SVHN/train_32x32.mat\n",
            "Using downloaded and verified file: ./data/SVHN/test_32x32.mat\n"
          ]
        },
        {
          "output_type": "display_data",
          "data": {
            "text/plain": [
              "[1/457]   0%|           [00:00<?]"
            ],
            "application/vnd.jupyter.widget-view+json": {
              "version_major": 2,
              "version_minor": 0,
              "model_id": "193f0e11176f4b1c804e478e129a914b"
            }
          },
          "metadata": {}
        },
        {
          "output_type": "stream",
          "name": "stdout",
          "text": [
            "Valid - Epoch: 1 Acc: 0.2489\n"
          ]
        },
        {
          "output_type": "display_data",
          "data": {
            "text/plain": [
              "[1/457]   0%|           [00:00<?]"
            ],
            "application/vnd.jupyter.widget-view+json": {
              "version_major": 2,
              "version_minor": 0,
              "model_id": "3babdc16425a4049817eae8f28000649"
            }
          },
          "metadata": {}
        },
        {
          "output_type": "stream",
          "name": "stdout",
          "text": [
            "Valid - Epoch: 2 Acc: 0.6552\n"
          ]
        },
        {
          "output_type": "display_data",
          "data": {
            "text/plain": [
              "[1/457]   0%|           [00:00<?]"
            ],
            "application/vnd.jupyter.widget-view+json": {
              "version_major": 2,
              "version_minor": 0,
              "model_id": "0977e52a8ca94a25982480e46426a3fa"
            }
          },
          "metadata": {}
        },
        {
          "output_type": "stream",
          "name": "stdout",
          "text": [
            "Valid - Epoch: 3 Acc: 0.8791\n"
          ]
        },
        {
          "output_type": "display_data",
          "data": {
            "text/plain": [
              "[1/457]   0%|           [00:00<?]"
            ],
            "application/vnd.jupyter.widget-view+json": {
              "version_major": 2,
              "version_minor": 0,
              "model_id": "b69d4c0b9a3e4b75a61374b9410a3bc6"
            }
          },
          "metadata": {}
        },
        {
          "output_type": "stream",
          "name": "stdout",
          "text": [
            "Valid - Epoch: 4 Acc: 0.9020\n"
          ]
        },
        {
          "output_type": "display_data",
          "data": {
            "text/plain": [
              "[1/457]   0%|           [00:00<?]"
            ],
            "application/vnd.jupyter.widget-view+json": {
              "version_major": 2,
              "version_minor": 0,
              "model_id": "78cb3cfc7c3d4b83aa90cd7e321ebdde"
            }
          },
          "metadata": {}
        },
        {
          "output_type": "stream",
          "name": "stdout",
          "text": [
            "Valid - Epoch: 5 Acc: 0.9255\n"
          ]
        },
        {
          "output_type": "display_data",
          "data": {
            "text/plain": [
              "[1/457]   0%|           [00:00<?]"
            ],
            "application/vnd.jupyter.widget-view+json": {
              "version_major": 2,
              "version_minor": 0,
              "model_id": "d342a80c72ef48db877fac6436661032"
            }
          },
          "metadata": {}
        },
        {
          "output_type": "stream",
          "name": "stdout",
          "text": [
            "Valid - Epoch: 6 Acc: 0.9126\n"
          ]
        },
        {
          "output_type": "display_data",
          "data": {
            "text/plain": [
              "[1/457]   0%|           [00:00<?]"
            ],
            "application/vnd.jupyter.widget-view+json": {
              "version_major": 2,
              "version_minor": 0,
              "model_id": "24ca187838df479ca458e300ec4dc0fb"
            }
          },
          "metadata": {}
        },
        {
          "output_type": "stream",
          "name": "stdout",
          "text": [
            "Valid - Epoch: 7 Acc: 0.9284\n"
          ]
        },
        {
          "output_type": "display_data",
          "data": {
            "text/plain": [
              "[1/457]   0%|           [00:00<?]"
            ],
            "application/vnd.jupyter.widget-view+json": {
              "version_major": 2,
              "version_minor": 0,
              "model_id": "7cdb8767467346e7b220e65e66451a84"
            }
          },
          "metadata": {}
        },
        {
          "output_type": "stream",
          "name": "stdout",
          "text": [
            "Valid - Epoch: 8 Acc: 0.9286\n"
          ]
        },
        {
          "output_type": "display_data",
          "data": {
            "text/plain": [
              "[1/457]   0%|           [00:00<?]"
            ],
            "application/vnd.jupyter.widget-view+json": {
              "version_major": 2,
              "version_minor": 0,
              "model_id": "129218cf33614123845fc180d15171a6"
            }
          },
          "metadata": {}
        },
        {
          "output_type": "stream",
          "name": "stdout",
          "text": [
            "Valid - Epoch: 9 Acc: 0.9226\n"
          ]
        },
        {
          "output_type": "display_data",
          "data": {
            "text/plain": [
              "[1/457]   0%|           [00:00<?]"
            ],
            "application/vnd.jupyter.widget-view+json": {
              "version_major": 2,
              "version_minor": 0,
              "model_id": "68ad111b6055451486b1024f61475a2f"
            }
          },
          "metadata": {}
        },
        {
          "output_type": "stream",
          "name": "stdout",
          "text": [
            "Valid - Epoch: 10 Acc: 0.9081\n"
          ]
        },
        {
          "output_type": "display_data",
          "data": {
            "text/plain": [
              "[1/457]   0%|           [00:00<?]"
            ],
            "application/vnd.jupyter.widget-view+json": {
              "version_major": 2,
              "version_minor": 0,
              "model_id": "78e8848e441b450daed00ba711ceca0e"
            }
          },
          "metadata": {}
        },
        {
          "output_type": "stream",
          "name": "stdout",
          "text": [
            "Valid - Epoch: 11 Acc: 0.9317\n"
          ]
        },
        {
          "output_type": "display_data",
          "data": {
            "text/plain": [
              "[1/457]   0%|           [00:00<?]"
            ],
            "application/vnd.jupyter.widget-view+json": {
              "version_major": 2,
              "version_minor": 0,
              "model_id": "0f05dea1ec3647a581999bef1b768885"
            }
          },
          "metadata": {}
        },
        {
          "output_type": "stream",
          "name": "stdout",
          "text": [
            "Valid - Epoch: 12 Acc: 0.9288\n"
          ]
        },
        {
          "output_type": "display_data",
          "data": {
            "text/plain": [
              "[1/457]   0%|           [00:00<?]"
            ],
            "application/vnd.jupyter.widget-view+json": {
              "version_major": 2,
              "version_minor": 0,
              "model_id": "5f69698fb9444ee98cf7025751a45de9"
            }
          },
          "metadata": {}
        },
        {
          "output_type": "stream",
          "name": "stderr",
          "text": [
            "Engine run is terminating due to exception: Trial was pruned at 13 epoch.\n",
            "Engine run is terminating due to exception: Trial was pruned at 13 epoch.\n",
            "\u001b[32m[I 2022-04-23 01:04:57,532]\u001b[0m Trial 15 pruned. Trial was pruned at 13 epoch.\u001b[0m\n"
          ]
        },
        {
          "output_type": "stream",
          "name": "stdout",
          "text": [
            "Using downloaded and verified file: ./data/SVHN/train_32x32.mat\n",
            "Using downloaded and verified file: ./data/SVHN/test_32x32.mat\n"
          ]
        },
        {
          "output_type": "display_data",
          "data": {
            "text/plain": [
              "[1/457]   0%|           [00:00<?]"
            ],
            "application/vnd.jupyter.widget-view+json": {
              "version_major": 2,
              "version_minor": 0,
              "model_id": "a652cde276f648f4875c3bd73f4e3af1"
            }
          },
          "metadata": {}
        },
        {
          "output_type": "stream",
          "name": "stdout",
          "text": [
            "Valid - Epoch: 1 Acc: 0.1900\n"
          ]
        },
        {
          "output_type": "display_data",
          "data": {
            "text/plain": [
              "[1/457]   0%|           [00:00<?]"
            ],
            "application/vnd.jupyter.widget-view+json": {
              "version_major": 2,
              "version_minor": 0,
              "model_id": "a12c9703d6254fde82e2f935dea20eb4"
            }
          },
          "metadata": {}
        },
        {
          "output_type": "stream",
          "name": "stdout",
          "text": [
            "Valid - Epoch: 2 Acc: 0.4365\n"
          ]
        },
        {
          "output_type": "display_data",
          "data": {
            "text/plain": [
              "[1/457]   0%|           [00:00<?]"
            ],
            "application/vnd.jupyter.widget-view+json": {
              "version_major": 2,
              "version_minor": 0,
              "model_id": "f2310b7ea91949d9a59d58b8f0bbd0bb"
            }
          },
          "metadata": {}
        },
        {
          "output_type": "stream",
          "name": "stdout",
          "text": [
            "Valid - Epoch: 3 Acc: 0.7181\n"
          ]
        },
        {
          "output_type": "display_data",
          "data": {
            "text/plain": [
              "[1/457]   0%|           [00:00<?]"
            ],
            "application/vnd.jupyter.widget-view+json": {
              "version_major": 2,
              "version_minor": 0,
              "model_id": "d1e0ef03940c45f3b7bf721ed1d7252d"
            }
          },
          "metadata": {}
        },
        {
          "output_type": "stream",
          "name": "stdout",
          "text": [
            "Valid - Epoch: 4 Acc: 0.8501\n"
          ]
        },
        {
          "output_type": "display_data",
          "data": {
            "text/plain": [
              "[1/457]   0%|           [00:00<?]"
            ],
            "application/vnd.jupyter.widget-view+json": {
              "version_major": 2,
              "version_minor": 0,
              "model_id": "784ff03bf9e44904a858ec2e7a472e70"
            }
          },
          "metadata": {}
        },
        {
          "output_type": "stream",
          "name": "stdout",
          "text": [
            "Valid - Epoch: 5 Acc: 0.8833\n"
          ]
        },
        {
          "output_type": "display_data",
          "data": {
            "text/plain": [
              "[1/457]   0%|           [00:00<?]"
            ],
            "application/vnd.jupyter.widget-view+json": {
              "version_major": 2,
              "version_minor": 0,
              "model_id": "c1605010251e453dabbef981a982d06d"
            }
          },
          "metadata": {}
        },
        {
          "output_type": "stream",
          "name": "stderr",
          "text": [
            "Engine run is terminating due to exception: Trial was pruned at 6 epoch.\n",
            "Engine run is terminating due to exception: Trial was pruned at 6 epoch.\n",
            "\u001b[32m[I 2022-04-23 01:30:08,651]\u001b[0m Trial 16 pruned. Trial was pruned at 6 epoch.\u001b[0m\n"
          ]
        },
        {
          "output_type": "stream",
          "name": "stdout",
          "text": [
            "Using downloaded and verified file: ./data/SVHN/train_32x32.mat\n",
            "Using downloaded and verified file: ./data/SVHN/test_32x32.mat\n"
          ]
        },
        {
          "output_type": "display_data",
          "data": {
            "text/plain": [
              "[1/457]   0%|           [00:00<?]"
            ],
            "application/vnd.jupyter.widget-view+json": {
              "version_major": 2,
              "version_minor": 0,
              "model_id": "8311ecf980964ccfb68288b1281c1fb8"
            }
          },
          "metadata": {}
        },
        {
          "output_type": "stream",
          "name": "stdout",
          "text": [
            "Valid - Epoch: 1 Acc: 0.1875\n"
          ]
        },
        {
          "output_type": "display_data",
          "data": {
            "text/plain": [
              "[1/457]   0%|           [00:00<?]"
            ],
            "application/vnd.jupyter.widget-view+json": {
              "version_major": 2,
              "version_minor": 0,
              "model_id": "827f5df836384d14870f2a557c533a33"
            }
          },
          "metadata": {}
        },
        {
          "output_type": "stream",
          "name": "stdout",
          "text": [
            "Valid - Epoch: 2 Acc: 0.1875\n"
          ]
        },
        {
          "output_type": "display_data",
          "data": {
            "text/plain": [
              "[1/457]   0%|           [00:00<?]"
            ],
            "application/vnd.jupyter.widget-view+json": {
              "version_major": 2,
              "version_minor": 0,
              "model_id": "59c3b942083249f0a65a46bed1b45810"
            }
          },
          "metadata": {}
        },
        {
          "output_type": "stream",
          "name": "stdout",
          "text": [
            "Valid - Epoch: 3 Acc: 0.1875\n"
          ]
        },
        {
          "output_type": "display_data",
          "data": {
            "text/plain": [
              "[1/457]   0%|           [00:00<?]"
            ],
            "application/vnd.jupyter.widget-view+json": {
              "version_major": 2,
              "version_minor": 0,
              "model_id": "1376f5653acc40839c1832c4f05d8420"
            }
          },
          "metadata": {}
        },
        {
          "output_type": "stream",
          "name": "stderr",
          "text": [
            "Engine run is terminating due to exception: Trial was pruned at 4 epoch.\n",
            "Engine run is terminating due to exception: Trial was pruned at 4 epoch.\n",
            "\u001b[32m[I 2022-04-23 01:46:56,534]\u001b[0m Trial 17 pruned. Trial was pruned at 4 epoch.\u001b[0m\n"
          ]
        },
        {
          "output_type": "stream",
          "name": "stdout",
          "text": [
            "Using downloaded and verified file: ./data/SVHN/train_32x32.mat\n",
            "Using downloaded and verified file: ./data/SVHN/test_32x32.mat\n"
          ]
        },
        {
          "output_type": "display_data",
          "data": {
            "text/plain": [
              "[1/457]   0%|           [00:00<?]"
            ],
            "application/vnd.jupyter.widget-view+json": {
              "version_major": 2,
              "version_minor": 0,
              "model_id": "942b04a55ee64d43bc22462d6f31f0b8"
            }
          },
          "metadata": {}
        },
        {
          "output_type": "stream",
          "name": "stdout",
          "text": [
            "Valid - Epoch: 1 Acc: 0.1863\n"
          ]
        },
        {
          "output_type": "display_data",
          "data": {
            "text/plain": [
              "[1/457]   0%|           [00:00<?]"
            ],
            "application/vnd.jupyter.widget-view+json": {
              "version_major": 2,
              "version_minor": 0,
              "model_id": "0fcddede0f874ad492ec1e16d3af0d1d"
            }
          },
          "metadata": {}
        },
        {
          "output_type": "stream",
          "name": "stdout",
          "text": [
            "Valid - Epoch: 2 Acc: 0.1817\n"
          ]
        },
        {
          "output_type": "display_data",
          "data": {
            "text/plain": [
              "[1/457]   0%|           [00:00<?]"
            ],
            "application/vnd.jupyter.widget-view+json": {
              "version_major": 2,
              "version_minor": 0,
              "model_id": "91424946898b46b88a568457be0a6d0b"
            }
          },
          "metadata": {}
        },
        {
          "output_type": "stream",
          "name": "stdout",
          "text": [
            "Valid - Epoch: 3 Acc: 0.1863\n"
          ]
        },
        {
          "output_type": "display_data",
          "data": {
            "text/plain": [
              "[1/457]   0%|           [00:00<?]"
            ],
            "application/vnd.jupyter.widget-view+json": {
              "version_major": 2,
              "version_minor": 0,
              "model_id": "8679438ca19349c8910f74e2a0234a18"
            }
          },
          "metadata": {}
        },
        {
          "output_type": "stream",
          "name": "stderr",
          "text": [
            "Engine run is terminating due to exception: Trial was pruned at 4 epoch.\n",
            "Engine run is terminating due to exception: Trial was pruned at 4 epoch.\n",
            "\u001b[32m[I 2022-04-23 02:03:40,803]\u001b[0m Trial 18 pruned. Trial was pruned at 4 epoch.\u001b[0m\n"
          ]
        },
        {
          "output_type": "stream",
          "name": "stdout",
          "text": [
            "Using downloaded and verified file: ./data/SVHN/train_32x32.mat\n",
            "Using downloaded and verified file: ./data/SVHN/test_32x32.mat\n"
          ]
        },
        {
          "output_type": "display_data",
          "data": {
            "text/plain": [
              "[1/457]   0%|           [00:00<?]"
            ],
            "application/vnd.jupyter.widget-view+json": {
              "version_major": 2,
              "version_minor": 0,
              "model_id": "f689dd87c6454b9aab56eab171bc6ecb"
            }
          },
          "metadata": {}
        },
        {
          "output_type": "stream",
          "name": "stdout",
          "text": [
            "Valid - Epoch: 1 Acc: 0.1898\n"
          ]
        },
        {
          "output_type": "display_data",
          "data": {
            "text/plain": [
              "[1/457]   0%|           [00:00<?]"
            ],
            "application/vnd.jupyter.widget-view+json": {
              "version_major": 2,
              "version_minor": 0,
              "model_id": "217498dc619743cdaa798a00dbfb7180"
            }
          },
          "metadata": {}
        },
        {
          "output_type": "stream",
          "name": "stdout",
          "text": [
            "Valid - Epoch: 2 Acc: 0.1898\n"
          ]
        },
        {
          "output_type": "display_data",
          "data": {
            "text/plain": [
              "[1/457]   0%|           [00:00<?]"
            ],
            "application/vnd.jupyter.widget-view+json": {
              "version_major": 2,
              "version_minor": 0,
              "model_id": "b4e243dfb9684f018b49111da67ecfbb"
            }
          },
          "metadata": {}
        },
        {
          "output_type": "stream",
          "name": "stdout",
          "text": [
            "Valid - Epoch: 3 Acc: 0.1898\n"
          ]
        },
        {
          "output_type": "display_data",
          "data": {
            "text/plain": [
              "[1/457]   0%|           [00:00<?]"
            ],
            "application/vnd.jupyter.widget-view+json": {
              "version_major": 2,
              "version_minor": 0,
              "model_id": "b4a2e06089f649b88966a4f120639696"
            }
          },
          "metadata": {}
        },
        {
          "output_type": "stream",
          "name": "stderr",
          "text": [
            "Engine run is terminating due to exception: Trial was pruned at 4 epoch.\n",
            "Engine run is terminating due to exception: Trial was pruned at 4 epoch.\n",
            "\u001b[32m[I 2022-04-23 02:20:27,199]\u001b[0m Trial 19 pruned. Trial was pruned at 4 epoch.\u001b[0m\n"
          ]
        },
        {
          "output_type": "error",
          "ename": "MessageError",
          "evalue": "ignored",
          "traceback": [
            "\u001b[0;31m---------------------------------------------------------------------------\u001b[0m",
            "\u001b[0;31mMessageError\u001b[0m                              Traceback (most recent call last)",
            "\u001b[0;32m<ipython-input-8-100288f07504>\u001b[0m in \u001b[0;36m<module>\u001b[0;34m()\u001b[0m\n\u001b[1;32m     10\u001b[0m \u001b[0;34m\u001b[0m\u001b[0m\n\u001b[1;32m     11\u001b[0m \u001b[0;32mfrom\u001b[0m \u001b[0mgoogle\u001b[0m\u001b[0;34m.\u001b[0m\u001b[0mcolab\u001b[0m \u001b[0;32mimport\u001b[0m \u001b[0mdrive\u001b[0m\u001b[0;34m\u001b[0m\u001b[0;34m\u001b[0m\u001b[0m\n\u001b[0;32m---> 12\u001b[0;31m \u001b[0mdrive\u001b[0m\u001b[0;34m.\u001b[0m\u001b[0mmount\u001b[0m\u001b[0;34m(\u001b[0m\u001b[0;34m'/content/drive'\u001b[0m\u001b[0;34m)\u001b[0m\u001b[0;34m\u001b[0m\u001b[0;34m\u001b[0m\u001b[0m\n\u001b[0m\u001b[1;32m     13\u001b[0m \u001b[0;34m\u001b[0m\u001b[0m\n\u001b[1;32m     14\u001b[0m \u001b[0mjoblib\u001b[0m\u001b[0;34m.\u001b[0m\u001b[0mdump\u001b[0m\u001b[0;34m(\u001b[0m\u001b[0mstudy\u001b[0m\u001b[0;34m,\u001b[0m \u001b[0;34m\"./drive/My Drive/study1.pkl\"\u001b[0m\u001b[0;34m)\u001b[0m\u001b[0;34m\u001b[0m\u001b[0;34m\u001b[0m\u001b[0m\n",
            "\u001b[0;32m/usr/local/lib/python3.7/dist-packages/google/colab/drive.py\u001b[0m in \u001b[0;36mmount\u001b[0;34m(mountpoint, force_remount, timeout_ms)\u001b[0m\n\u001b[1;32m    107\u001b[0m       \u001b[0mforce_remount\u001b[0m\u001b[0;34m=\u001b[0m\u001b[0mforce_remount\u001b[0m\u001b[0;34m,\u001b[0m\u001b[0;34m\u001b[0m\u001b[0;34m\u001b[0m\u001b[0m\n\u001b[1;32m    108\u001b[0m       \u001b[0mtimeout_ms\u001b[0m\u001b[0;34m=\u001b[0m\u001b[0mtimeout_ms\u001b[0m\u001b[0;34m,\u001b[0m\u001b[0;34m\u001b[0m\u001b[0;34m\u001b[0m\u001b[0m\n\u001b[0;32m--> 109\u001b[0;31m       ephemeral=True)\n\u001b[0m\u001b[1;32m    110\u001b[0m \u001b[0;34m\u001b[0m\u001b[0m\n\u001b[1;32m    111\u001b[0m \u001b[0;34m\u001b[0m\u001b[0m\n",
            "\u001b[0;32m/usr/local/lib/python3.7/dist-packages/google/colab/drive.py\u001b[0m in \u001b[0;36m_mount\u001b[0;34m(mountpoint, force_remount, timeout_ms, ephemeral)\u001b[0m\n\u001b[1;32m    126\u001b[0m   \u001b[0;32mif\u001b[0m \u001b[0mephemeral\u001b[0m\u001b[0;34m:\u001b[0m\u001b[0;34m\u001b[0m\u001b[0;34m\u001b[0m\u001b[0m\n\u001b[1;32m    127\u001b[0m     _message.blocking_request(\n\u001b[0;32m--> 128\u001b[0;31m         'request_auth', request={'authType': 'dfs_ephemeral'}, timeout_sec=None)\n\u001b[0m\u001b[1;32m    129\u001b[0m \u001b[0;34m\u001b[0m\u001b[0m\n\u001b[1;32m    130\u001b[0m   \u001b[0mmountpoint\u001b[0m \u001b[0;34m=\u001b[0m \u001b[0m_os\u001b[0m\u001b[0;34m.\u001b[0m\u001b[0mpath\u001b[0m\u001b[0;34m.\u001b[0m\u001b[0mexpanduser\u001b[0m\u001b[0;34m(\u001b[0m\u001b[0mmountpoint\u001b[0m\u001b[0;34m)\u001b[0m\u001b[0;34m\u001b[0m\u001b[0;34m\u001b[0m\u001b[0m\n",
            "\u001b[0;32m/usr/local/lib/python3.7/dist-packages/google/colab/_message.py\u001b[0m in \u001b[0;36mblocking_request\u001b[0;34m(request_type, request, timeout_sec, parent)\u001b[0m\n\u001b[1;32m    173\u001b[0m   request_id = send_request(\n\u001b[1;32m    174\u001b[0m       request_type, request, parent=parent, expect_reply=True)\n\u001b[0;32m--> 175\u001b[0;31m   \u001b[0;32mreturn\u001b[0m \u001b[0mread_reply_from_input\u001b[0m\u001b[0;34m(\u001b[0m\u001b[0mrequest_id\u001b[0m\u001b[0;34m,\u001b[0m \u001b[0mtimeout_sec\u001b[0m\u001b[0;34m)\u001b[0m\u001b[0;34m\u001b[0m\u001b[0;34m\u001b[0m\u001b[0m\n\u001b[0m",
            "\u001b[0;32m/usr/local/lib/python3.7/dist-packages/google/colab/_message.py\u001b[0m in \u001b[0;36mread_reply_from_input\u001b[0;34m(message_id, timeout_sec)\u001b[0m\n\u001b[1;32m    104\u001b[0m         reply.get('colab_msg_id') == message_id):\n\u001b[1;32m    105\u001b[0m       \u001b[0;32mif\u001b[0m \u001b[0;34m'error'\u001b[0m \u001b[0;32min\u001b[0m \u001b[0mreply\u001b[0m\u001b[0;34m:\u001b[0m\u001b[0;34m\u001b[0m\u001b[0;34m\u001b[0m\u001b[0m\n\u001b[0;32m--> 106\u001b[0;31m         \u001b[0;32mraise\u001b[0m \u001b[0mMessageError\u001b[0m\u001b[0;34m(\u001b[0m\u001b[0mreply\u001b[0m\u001b[0;34m[\u001b[0m\u001b[0;34m'error'\u001b[0m\u001b[0;34m]\u001b[0m\u001b[0;34m)\u001b[0m\u001b[0;34m\u001b[0m\u001b[0;34m\u001b[0m\u001b[0m\n\u001b[0m\u001b[1;32m    107\u001b[0m       \u001b[0;32mreturn\u001b[0m \u001b[0mreply\u001b[0m\u001b[0;34m.\u001b[0m\u001b[0mget\u001b[0m\u001b[0;34m(\u001b[0m\u001b[0;34m'data'\u001b[0m\u001b[0;34m,\u001b[0m \u001b[0;32mNone\u001b[0m\u001b[0;34m)\u001b[0m\u001b[0;34m\u001b[0m\u001b[0;34m\u001b[0m\u001b[0m\n\u001b[1;32m    108\u001b[0m \u001b[0;34m\u001b[0m\u001b[0m\n",
            "\u001b[0;31mMessageError\u001b[0m: Error: credential propagation was unsuccessful"
          ]
        }
      ]
    },
    {
      "cell_type": "code",
      "source": [
        "import joblib\n",
        "\n",
        "\n",
        "joblib.dump(study, \"./drive/My Drive/study2.pkl\")"
      ],
      "metadata": {
        "colab": {
          "base_uri": "https://localhost:8080/"
        },
        "id": "Al6-gAMaJ0cZ",
        "outputId": "fd90788b-5462-4409-f99a-7e79bbc90bc2"
      },
      "execution_count": null,
      "outputs": [
        {
          "output_type": "stream",
          "name": "stdout",
          "text": [
            "Drive already mounted at /content/drive; to attempt to forcibly remount, call drive.mount(\"/content/drive\", force_remount=True).\n"
          ]
        },
        {
          "output_type": "execute_result",
          "data": {
            "text/plain": [
              "['./drive/My Drive/study1.pkl']"
            ]
          },
          "metadata": {},
          "execution_count": 17
        }
      ]
    },
    {
      "cell_type": "code",
      "source": [
        "plot_optimization_history(study)"
      ],
      "metadata": {
        "id": "LTF8zvTQ8QNi",
        "colab": {
          "base_uri": "https://localhost:8080/",
          "height": 542
        },
        "outputId": "a78dd185-3948-4d6f-b278-5547084da287"
      },
      "execution_count": null,
      "outputs": [
        {
          "output_type": "display_data",
          "data": {
            "text/html": [
              "<html>\n",
              "<head><meta charset=\"utf-8\" /></head>\n",
              "<body>\n",
              "    <div>            <script src=\"https://cdnjs.cloudflare.com/ajax/libs/mathjax/2.7.5/MathJax.js?config=TeX-AMS-MML_SVG\"></script><script type=\"text/javascript\">if (window.MathJax) {MathJax.Hub.Config({SVG: {font: \"STIX-Web\"}});}</script>                <script type=\"text/javascript\">window.PlotlyConfig = {MathJaxConfig: 'local'};</script>\n",
              "        <script src=\"https://cdn.plot.ly/plotly-2.8.3.min.js\"></script>                <div id=\"a1386a6d-d496-4281-a3da-5a44a7debbaf\" class=\"plotly-graph-div\" style=\"height:525px; width:100%;\"></div>            <script type=\"text/javascript\">                                    window.PLOTLYENV=window.PLOTLYENV || {};                                    if (document.getElementById(\"a1386a6d-d496-4281-a3da-5a44a7debbaf\")) {                    Plotly.newPlot(                        \"a1386a6d-d496-4281-a3da-5a44a7debbaf\",                        [{\"mode\":\"markers\",\"name\":\"Objective Value\",\"x\":[0,1,2,3,4,6,10],\"y\":[0.191987441987442,0.9201474201474201,0.18898443898443898,0.18802893802893803,0.9185776685776685,0.19226044226044225,0.9017199017199017],\"type\":\"scatter\"},{\"name\":\"Best Value\",\"x\":[0,1,2,3,4,6,10],\"y\":[0.191987441987442,0.9201474201474201,0.9201474201474201,0.9201474201474201,0.9201474201474201,0.9201474201474201,0.9201474201474201],\"type\":\"scatter\"}],                        {\"title\":{\"text\":\"Optimization History Plot\"},\"xaxis\":{\"title\":{\"text\":\"#Trials\"}},\"yaxis\":{\"title\":{\"text\":\"Objective Value\"}},\"template\":{\"data\":{\"bar\":[{\"error_x\":{\"color\":\"#2a3f5f\"},\"error_y\":{\"color\":\"#2a3f5f\"},\"marker\":{\"line\":{\"color\":\"#E5ECF6\",\"width\":0.5},\"pattern\":{\"fillmode\":\"overlay\",\"size\":10,\"solidity\":0.2}},\"type\":\"bar\"}],\"barpolar\":[{\"marker\":{\"line\":{\"color\":\"#E5ECF6\",\"width\":0.5},\"pattern\":{\"fillmode\":\"overlay\",\"size\":10,\"solidity\":0.2}},\"type\":\"barpolar\"}],\"carpet\":[{\"aaxis\":{\"endlinecolor\":\"#2a3f5f\",\"gridcolor\":\"white\",\"linecolor\":\"white\",\"minorgridcolor\":\"white\",\"startlinecolor\":\"#2a3f5f\"},\"baxis\":{\"endlinecolor\":\"#2a3f5f\",\"gridcolor\":\"white\",\"linecolor\":\"white\",\"minorgridcolor\":\"white\",\"startlinecolor\":\"#2a3f5f\"},\"type\":\"carpet\"}],\"choropleth\":[{\"colorbar\":{\"outlinewidth\":0,\"ticks\":\"\"},\"type\":\"choropleth\"}],\"contour\":[{\"colorbar\":{\"outlinewidth\":0,\"ticks\":\"\"},\"colorscale\":[[0.0,\"#0d0887\"],[0.1111111111111111,\"#46039f\"],[0.2222222222222222,\"#7201a8\"],[0.3333333333333333,\"#9c179e\"],[0.4444444444444444,\"#bd3786\"],[0.5555555555555556,\"#d8576b\"],[0.6666666666666666,\"#ed7953\"],[0.7777777777777778,\"#fb9f3a\"],[0.8888888888888888,\"#fdca26\"],[1.0,\"#f0f921\"]],\"type\":\"contour\"}],\"contourcarpet\":[{\"colorbar\":{\"outlinewidth\":0,\"ticks\":\"\"},\"type\":\"contourcarpet\"}],\"heatmap\":[{\"colorbar\":{\"outlinewidth\":0,\"ticks\":\"\"},\"colorscale\":[[0.0,\"#0d0887\"],[0.1111111111111111,\"#46039f\"],[0.2222222222222222,\"#7201a8\"],[0.3333333333333333,\"#9c179e\"],[0.4444444444444444,\"#bd3786\"],[0.5555555555555556,\"#d8576b\"],[0.6666666666666666,\"#ed7953\"],[0.7777777777777778,\"#fb9f3a\"],[0.8888888888888888,\"#fdca26\"],[1.0,\"#f0f921\"]],\"type\":\"heatmap\"}],\"heatmapgl\":[{\"colorbar\":{\"outlinewidth\":0,\"ticks\":\"\"},\"colorscale\":[[0.0,\"#0d0887\"],[0.1111111111111111,\"#46039f\"],[0.2222222222222222,\"#7201a8\"],[0.3333333333333333,\"#9c179e\"],[0.4444444444444444,\"#bd3786\"],[0.5555555555555556,\"#d8576b\"],[0.6666666666666666,\"#ed7953\"],[0.7777777777777778,\"#fb9f3a\"],[0.8888888888888888,\"#fdca26\"],[1.0,\"#f0f921\"]],\"type\":\"heatmapgl\"}],\"histogram\":[{\"marker\":{\"pattern\":{\"fillmode\":\"overlay\",\"size\":10,\"solidity\":0.2}},\"type\":\"histogram\"}],\"histogram2d\":[{\"colorbar\":{\"outlinewidth\":0,\"ticks\":\"\"},\"colorscale\":[[0.0,\"#0d0887\"],[0.1111111111111111,\"#46039f\"],[0.2222222222222222,\"#7201a8\"],[0.3333333333333333,\"#9c179e\"],[0.4444444444444444,\"#bd3786\"],[0.5555555555555556,\"#d8576b\"],[0.6666666666666666,\"#ed7953\"],[0.7777777777777778,\"#fb9f3a\"],[0.8888888888888888,\"#fdca26\"],[1.0,\"#f0f921\"]],\"type\":\"histogram2d\"}],\"histogram2dcontour\":[{\"colorbar\":{\"outlinewidth\":0,\"ticks\":\"\"},\"colorscale\":[[0.0,\"#0d0887\"],[0.1111111111111111,\"#46039f\"],[0.2222222222222222,\"#7201a8\"],[0.3333333333333333,\"#9c179e\"],[0.4444444444444444,\"#bd3786\"],[0.5555555555555556,\"#d8576b\"],[0.6666666666666666,\"#ed7953\"],[0.7777777777777778,\"#fb9f3a\"],[0.8888888888888888,\"#fdca26\"],[1.0,\"#f0f921\"]],\"type\":\"histogram2dcontour\"}],\"mesh3d\":[{\"colorbar\":{\"outlinewidth\":0,\"ticks\":\"\"},\"type\":\"mesh3d\"}],\"parcoords\":[{\"line\":{\"colorbar\":{\"outlinewidth\":0,\"ticks\":\"\"}},\"type\":\"parcoords\"}],\"pie\":[{\"automargin\":true,\"type\":\"pie\"}],\"scatter\":[{\"marker\":{\"colorbar\":{\"outlinewidth\":0,\"ticks\":\"\"}},\"type\":\"scatter\"}],\"scatter3d\":[{\"line\":{\"colorbar\":{\"outlinewidth\":0,\"ticks\":\"\"}},\"marker\":{\"colorbar\":{\"outlinewidth\":0,\"ticks\":\"\"}},\"type\":\"scatter3d\"}],\"scattercarpet\":[{\"marker\":{\"colorbar\":{\"outlinewidth\":0,\"ticks\":\"\"}},\"type\":\"scattercarpet\"}],\"scattergeo\":[{\"marker\":{\"colorbar\":{\"outlinewidth\":0,\"ticks\":\"\"}},\"type\":\"scattergeo\"}],\"scattergl\":[{\"marker\":{\"colorbar\":{\"outlinewidth\":0,\"ticks\":\"\"}},\"type\":\"scattergl\"}],\"scattermapbox\":[{\"marker\":{\"colorbar\":{\"outlinewidth\":0,\"ticks\":\"\"}},\"type\":\"scattermapbox\"}],\"scatterpolar\":[{\"marker\":{\"colorbar\":{\"outlinewidth\":0,\"ticks\":\"\"}},\"type\":\"scatterpolar\"}],\"scatterpolargl\":[{\"marker\":{\"colorbar\":{\"outlinewidth\":0,\"ticks\":\"\"}},\"type\":\"scatterpolargl\"}],\"scatterternary\":[{\"marker\":{\"colorbar\":{\"outlinewidth\":0,\"ticks\":\"\"}},\"type\":\"scatterternary\"}],\"surface\":[{\"colorbar\":{\"outlinewidth\":0,\"ticks\":\"\"},\"colorscale\":[[0.0,\"#0d0887\"],[0.1111111111111111,\"#46039f\"],[0.2222222222222222,\"#7201a8\"],[0.3333333333333333,\"#9c179e\"],[0.4444444444444444,\"#bd3786\"],[0.5555555555555556,\"#d8576b\"],[0.6666666666666666,\"#ed7953\"],[0.7777777777777778,\"#fb9f3a\"],[0.8888888888888888,\"#fdca26\"],[1.0,\"#f0f921\"]],\"type\":\"surface\"}],\"table\":[{\"cells\":{\"fill\":{\"color\":\"#EBF0F8\"},\"line\":{\"color\":\"white\"}},\"header\":{\"fill\":{\"color\":\"#C8D4E3\"},\"line\":{\"color\":\"white\"}},\"type\":\"table\"}]},\"layout\":{\"annotationdefaults\":{\"arrowcolor\":\"#2a3f5f\",\"arrowhead\":0,\"arrowwidth\":1},\"autotypenumbers\":\"strict\",\"coloraxis\":{\"colorbar\":{\"outlinewidth\":0,\"ticks\":\"\"}},\"colorscale\":{\"diverging\":[[0,\"#8e0152\"],[0.1,\"#c51b7d\"],[0.2,\"#de77ae\"],[0.3,\"#f1b6da\"],[0.4,\"#fde0ef\"],[0.5,\"#f7f7f7\"],[0.6,\"#e6f5d0\"],[0.7,\"#b8e186\"],[0.8,\"#7fbc41\"],[0.9,\"#4d9221\"],[1,\"#276419\"]],\"sequential\":[[0.0,\"#0d0887\"],[0.1111111111111111,\"#46039f\"],[0.2222222222222222,\"#7201a8\"],[0.3333333333333333,\"#9c179e\"],[0.4444444444444444,\"#bd3786\"],[0.5555555555555556,\"#d8576b\"],[0.6666666666666666,\"#ed7953\"],[0.7777777777777778,\"#fb9f3a\"],[0.8888888888888888,\"#fdca26\"],[1.0,\"#f0f921\"]],\"sequentialminus\":[[0.0,\"#0d0887\"],[0.1111111111111111,\"#46039f\"],[0.2222222222222222,\"#7201a8\"],[0.3333333333333333,\"#9c179e\"],[0.4444444444444444,\"#bd3786\"],[0.5555555555555556,\"#d8576b\"],[0.6666666666666666,\"#ed7953\"],[0.7777777777777778,\"#fb9f3a\"],[0.8888888888888888,\"#fdca26\"],[1.0,\"#f0f921\"]]},\"colorway\":[\"#636efa\",\"#EF553B\",\"#00cc96\",\"#ab63fa\",\"#FFA15A\",\"#19d3f3\",\"#FF6692\",\"#B6E880\",\"#FF97FF\",\"#FECB52\"],\"font\":{\"color\":\"#2a3f5f\"},\"geo\":{\"bgcolor\":\"white\",\"lakecolor\":\"white\",\"landcolor\":\"#E5ECF6\",\"showlakes\":true,\"showland\":true,\"subunitcolor\":\"white\"},\"hoverlabel\":{\"align\":\"left\"},\"hovermode\":\"closest\",\"mapbox\":{\"style\":\"light\"},\"paper_bgcolor\":\"white\",\"plot_bgcolor\":\"#E5ECF6\",\"polar\":{\"angularaxis\":{\"gridcolor\":\"white\",\"linecolor\":\"white\",\"ticks\":\"\"},\"bgcolor\":\"#E5ECF6\",\"radialaxis\":{\"gridcolor\":\"white\",\"linecolor\":\"white\",\"ticks\":\"\"}},\"scene\":{\"xaxis\":{\"backgroundcolor\":\"#E5ECF6\",\"gridcolor\":\"white\",\"gridwidth\":2,\"linecolor\":\"white\",\"showbackground\":true,\"ticks\":\"\",\"zerolinecolor\":\"white\"},\"yaxis\":{\"backgroundcolor\":\"#E5ECF6\",\"gridcolor\":\"white\",\"gridwidth\":2,\"linecolor\":\"white\",\"showbackground\":true,\"ticks\":\"\",\"zerolinecolor\":\"white\"},\"zaxis\":{\"backgroundcolor\":\"#E5ECF6\",\"gridcolor\":\"white\",\"gridwidth\":2,\"linecolor\":\"white\",\"showbackground\":true,\"ticks\":\"\",\"zerolinecolor\":\"white\"}},\"shapedefaults\":{\"line\":{\"color\":\"#2a3f5f\"}},\"ternary\":{\"aaxis\":{\"gridcolor\":\"white\",\"linecolor\":\"white\",\"ticks\":\"\"},\"baxis\":{\"gridcolor\":\"white\",\"linecolor\":\"white\",\"ticks\":\"\"},\"bgcolor\":\"#E5ECF6\",\"caxis\":{\"gridcolor\":\"white\",\"linecolor\":\"white\",\"ticks\":\"\"}},\"title\":{\"x\":0.05},\"xaxis\":{\"automargin\":true,\"gridcolor\":\"white\",\"linecolor\":\"white\",\"ticks\":\"\",\"title\":{\"standoff\":15},\"zerolinecolor\":\"white\",\"zerolinewidth\":2},\"yaxis\":{\"automargin\":true,\"gridcolor\":\"white\",\"linecolor\":\"white\",\"ticks\":\"\",\"title\":{\"standoff\":15},\"zerolinecolor\":\"white\",\"zerolinewidth\":2}}}},                        {\"responsive\": true}                    ).then(function(){\n",
              "                            \n",
              "var gd = document.getElementById('a1386a6d-d496-4281-a3da-5a44a7debbaf');\n",
              "var x = new MutationObserver(function (mutations, observer) {{\n",
              "        var display = window.getComputedStyle(gd).display;\n",
              "        if (!display || display === 'none') {{\n",
              "            console.log([gd, 'removed!']);\n",
              "            Plotly.purge(gd);\n",
              "            observer.disconnect();\n",
              "        }}\n",
              "}});\n",
              "\n",
              "// Listen for the removal of the full notebook cells\n",
              "var notebookContainer = gd.closest('#notebook-container');\n",
              "if (notebookContainer) {{\n",
              "    x.observe(notebookContainer, {childList: true});\n",
              "}}\n",
              "\n",
              "// Listen for the clearing of the current output cell\n",
              "var outputEl = gd.closest('.output');\n",
              "if (outputEl) {{\n",
              "    x.observe(outputEl, {childList: true});\n",
              "}}\n",
              "\n",
              "                        })                };                            </script>        </div>\n",
              "</body>\n",
              "</html>"
            ]
          },
          "metadata": {}
        }
      ]
    },
    {
      "cell_type": "code",
      "source": [
        "plot_intermediate_values(study)"
      ],
      "metadata": {
        "id": "ZiK0vLjJ8ymW",
        "colab": {
          "base_uri": "https://localhost:8080/",
          "height": 542
        },
        "outputId": "42b8bd04-2ee2-44cd-ab20-3634a37ba0ad"
      },
      "execution_count": null,
      "outputs": [
        {
          "output_type": "display_data",
          "data": {
            "text/html": [
              "<html>\n",
              "<head><meta charset=\"utf-8\" /></head>\n",
              "<body>\n",
              "    <div>            <script src=\"https://cdnjs.cloudflare.com/ajax/libs/mathjax/2.7.5/MathJax.js?config=TeX-AMS-MML_SVG\"></script><script type=\"text/javascript\">if (window.MathJax) {MathJax.Hub.Config({SVG: {font: \"STIX-Web\"}});}</script>                <script type=\"text/javascript\">window.PlotlyConfig = {MathJaxConfig: 'local'};</script>\n",
              "        <script src=\"https://cdn.plot.ly/plotly-2.8.3.min.js\"></script>                <div id=\"b99c6069-8167-4c5a-83eb-122227cb1818\" class=\"plotly-graph-div\" style=\"height:525px; width:100%;\"></div>            <script type=\"text/javascript\">                                    window.PLOTLYENV=window.PLOTLYENV || {};                                    if (document.getElementById(\"b99c6069-8167-4c5a-83eb-122227cb1818\")) {                    Plotly.newPlot(                        \"b99c6069-8167-4c5a-83eb-122227cb1818\",                        [{\"marker\":{\"maxdisplayed\":10},\"mode\":\"lines+markers\",\"name\":\"Trial0\",\"x\":[1,2,3,4,5],\"y\":[0.191987441987442,0.191987441987442,0.191987441987442,0.191987441987442,0.191987441987442],\"type\":\"scatter\"},{\"marker\":{\"maxdisplayed\":10},\"mode\":\"lines+markers\",\"name\":\"Trial1\",\"x\":[1,2,3,4,5,6,7,8,9,10,11,12,13,14,15,16,17],\"y\":[0.27545727545727544,0.5993038493038493,0.7998907998907999,0.8824733824733825,0.8983073983073983,0.9007644007644008,0.9146191646191646,0.9043816543816544,0.9221266721266721,0.9282009282009283,0.9182364182364182,0.9293611793611793,0.9384384384384384,0.935913185913186,0.9336609336609336,0.9334561834561834,0.9201474201474201],\"type\":\"scatter\"},{\"marker\":{\"maxdisplayed\":10},\"mode\":\"lines+markers\",\"name\":\"Trial2\",\"x\":[1,2,3,4,5],\"y\":[0.18898443898443898,0.18898443898443898,0.18898443898443898,0.18898443898443898,0.18898443898443898],\"type\":\"scatter\"},{\"marker\":{\"maxdisplayed\":10},\"mode\":\"lines+markers\",\"name\":\"Trial3\",\"x\":[1,2,3,4,5],\"y\":[0.18802893802893803,0.18802893802893803,0.18802893802893803,0.18802893802893803,0.18802893802893803],\"type\":\"scatter\"},{\"marker\":{\"maxdisplayed\":10},\"mode\":\"lines+markers\",\"name\":\"Trial4\",\"x\":[1,2,3,4,5,6,7,8,9,10,11,12],\"y\":[0.3076713076713077,0.8393393393393394,0.8916188916188916,0.9105924105924106,0.9215806715806716,0.9126399126399126,0.9171444171444172,0.9318181818181818,0.9257439257439257,0.9278596778596778,0.9305214305214305,0.9185776685776685],\"type\":\"scatter\"},{\"marker\":{\"maxdisplayed\":10},\"mode\":\"lines+markers\",\"name\":\"Trial5\",\"x\":[1,2,3,4],\"y\":[0.1908954408954409,0.1908954408954409,0.1908954408954409,0.1908954408954409],\"type\":\"scatter\"},{\"marker\":{\"maxdisplayed\":10},\"mode\":\"lines+markers\",\"name\":\"Trial6\",\"x\":[1,2,3,4,5],\"y\":[0.19226044226044225,0.19226044226044225,0.19226044226044225,0.19226044226044225,0.19226044226044225],\"type\":\"scatter\"},{\"marker\":{\"maxdisplayed\":10},\"mode\":\"lines+markers\",\"name\":\"Trial7\",\"x\":[1,2,3,4],\"y\":[0.18400218400218402,0.18400218400218402,0.18400218400218402,0.18400218400218402],\"type\":\"scatter\"},{\"marker\":{\"maxdisplayed\":10},\"mode\":\"lines+markers\",\"name\":\"Trial8\",\"x\":[1,2,3,4,5,6],\"y\":[0.18946218946218946,0.19055419055419057,0.2639230139230139,0.297024297024297,0.40383565383565384,0.4968604968604969],\"type\":\"scatter\"},{\"marker\":{\"maxdisplayed\":10},\"mode\":\"lines+markers\",\"name\":\"Trial9\",\"x\":[1,2,3,4,5,6],\"y\":[0.31647556647556646,0.6880971880971881,0.8215943215943216,0.8738056238056238,0.8875238875238876,0.8923013923013923],\"type\":\"scatter\"},{\"marker\":{\"maxdisplayed\":10},\"mode\":\"lines+markers\",\"name\":\"Trial10\",\"x\":[1,2,3,4,5,6,7,8,9,10],\"y\":[0.9015834015834016,0.9060879060879061,0.8903903903903904,0.9286104286104286,0.897010647010647,0.9301119301119302,0.8968058968058968,0.9141414141414141,0.9074529074529074,0.9017199017199017],\"type\":\"scatter\"},{\"marker\":{\"maxdisplayed\":10},\"mode\":\"lines+markers\",\"name\":\"Trial11\",\"x\":[1,2,3,4,5,6,7,8,9,10,11,12,13],\"y\":[0.1906906906906907,0.5244335244335244,0.8493720993720993,0.9049276549276549,0.9152334152334153,0.9237646737646737,0.9210346710346711,0.9263581763581764,0.9224679224679224,0.9331831831831832,0.920966420966421,0.9233551733551734,0.923013923013923],\"type\":\"scatter\"},{\"marker\":{\"maxdisplayed\":10},\"mode\":\"lines+markers\",\"name\":\"Trial12\",\"x\":[1,2,3,4,5,6],\"y\":[0.19512694512694512,0.4002866502866503,0.7480889980889981,0.8746928746928747,0.875989625989626,0.9118209118209119],\"type\":\"scatter\"},{\"marker\":{\"maxdisplayed\":10},\"mode\":\"lines+markers\",\"name\":\"Trial13\",\"x\":[1,2,3,4,5,6],\"y\":[0.19512694512694512,0.722972972972973,0.8764673764673765,0.8885476385476385,0.903016653016653,0.8918236418236418],\"type\":\"scatter\"},{\"marker\":{\"maxdisplayed\":10},\"mode\":\"lines+markers\",\"name\":\"Trial14\",\"x\":[1,2,3,4,5,6],\"y\":[0.1956729456729457,0.3099235599235599,0.6315178815178815,0.8325825825825826,0.8781053781053781,0.9072481572481572],\"type\":\"scatter\"},{\"marker\":{\"maxdisplayed\":10},\"mode\":\"lines+markers\",\"name\":\"Trial15\",\"x\":[1,2,3,4,5,6,7,8,9,10,11,12,13],\"y\":[0.24890799890799892,0.6552006552006552,0.8791291291291291,0.9019929019929019,0.9255391755391755,0.9126399126399126,0.9284056784056784,0.9286104286104286,0.9226044226044227,0.9081354081354082,0.9316816816816816,0.9288151788151788,0.9299071799071799],\"type\":\"scatter\"},{\"marker\":{\"maxdisplayed\":10},\"mode\":\"lines+markers\",\"name\":\"Trial16\",\"x\":[1,2,3,4,5,6],\"y\":[0.19000819000819,0.43645918645918647,0.7180589680589681,0.8500546000546001,0.8832923832923832,0.9104559104559105],\"type\":\"scatter\"},{\"marker\":{\"maxdisplayed\":10},\"mode\":\"lines+markers\",\"name\":\"Trial17\",\"x\":[1,2,3,4],\"y\":[0.18748293748293748,0.18748293748293748,0.18748293748293748,0.18748293748293748],\"type\":\"scatter\"},{\"marker\":{\"maxdisplayed\":10},\"mode\":\"lines+markers\",\"name\":\"Trial18\",\"x\":[1,2,3,4],\"y\":[0.18625443625443625,0.1816816816816817,0.18625443625443625,0.18625443625443625],\"type\":\"scatter\"},{\"marker\":{\"maxdisplayed\":10},\"mode\":\"lines+markers\",\"name\":\"Trial19\",\"x\":[1,2,3,4],\"y\":[0.1898034398034398,0.1898034398034398,0.1898034398034398,0.1898034398034398],\"type\":\"scatter\"}],                        {\"showlegend\":false,\"title\":{\"text\":\"Intermediate Values Plot\"},\"xaxis\":{\"title\":{\"text\":\"Step\"}},\"yaxis\":{\"title\":{\"text\":\"Intermediate Value\"}},\"template\":{\"data\":{\"bar\":[{\"error_x\":{\"color\":\"#2a3f5f\"},\"error_y\":{\"color\":\"#2a3f5f\"},\"marker\":{\"line\":{\"color\":\"#E5ECF6\",\"width\":0.5},\"pattern\":{\"fillmode\":\"overlay\",\"size\":10,\"solidity\":0.2}},\"type\":\"bar\"}],\"barpolar\":[{\"marker\":{\"line\":{\"color\":\"#E5ECF6\",\"width\":0.5},\"pattern\":{\"fillmode\":\"overlay\",\"size\":10,\"solidity\":0.2}},\"type\":\"barpolar\"}],\"carpet\":[{\"aaxis\":{\"endlinecolor\":\"#2a3f5f\",\"gridcolor\":\"white\",\"linecolor\":\"white\",\"minorgridcolor\":\"white\",\"startlinecolor\":\"#2a3f5f\"},\"baxis\":{\"endlinecolor\":\"#2a3f5f\",\"gridcolor\":\"white\",\"linecolor\":\"white\",\"minorgridcolor\":\"white\",\"startlinecolor\":\"#2a3f5f\"},\"type\":\"carpet\"}],\"choropleth\":[{\"colorbar\":{\"outlinewidth\":0,\"ticks\":\"\"},\"type\":\"choropleth\"}],\"contour\":[{\"colorbar\":{\"outlinewidth\":0,\"ticks\":\"\"},\"colorscale\":[[0.0,\"#0d0887\"],[0.1111111111111111,\"#46039f\"],[0.2222222222222222,\"#7201a8\"],[0.3333333333333333,\"#9c179e\"],[0.4444444444444444,\"#bd3786\"],[0.5555555555555556,\"#d8576b\"],[0.6666666666666666,\"#ed7953\"],[0.7777777777777778,\"#fb9f3a\"],[0.8888888888888888,\"#fdca26\"],[1.0,\"#f0f921\"]],\"type\":\"contour\"}],\"contourcarpet\":[{\"colorbar\":{\"outlinewidth\":0,\"ticks\":\"\"},\"type\":\"contourcarpet\"}],\"heatmap\":[{\"colorbar\":{\"outlinewidth\":0,\"ticks\":\"\"},\"colorscale\":[[0.0,\"#0d0887\"],[0.1111111111111111,\"#46039f\"],[0.2222222222222222,\"#7201a8\"],[0.3333333333333333,\"#9c179e\"],[0.4444444444444444,\"#bd3786\"],[0.5555555555555556,\"#d8576b\"],[0.6666666666666666,\"#ed7953\"],[0.7777777777777778,\"#fb9f3a\"],[0.8888888888888888,\"#fdca26\"],[1.0,\"#f0f921\"]],\"type\":\"heatmap\"}],\"heatmapgl\":[{\"colorbar\":{\"outlinewidth\":0,\"ticks\":\"\"},\"colorscale\":[[0.0,\"#0d0887\"],[0.1111111111111111,\"#46039f\"],[0.2222222222222222,\"#7201a8\"],[0.3333333333333333,\"#9c179e\"],[0.4444444444444444,\"#bd3786\"],[0.5555555555555556,\"#d8576b\"],[0.6666666666666666,\"#ed7953\"],[0.7777777777777778,\"#fb9f3a\"],[0.8888888888888888,\"#fdca26\"],[1.0,\"#f0f921\"]],\"type\":\"heatmapgl\"}],\"histogram\":[{\"marker\":{\"pattern\":{\"fillmode\":\"overlay\",\"size\":10,\"solidity\":0.2}},\"type\":\"histogram\"}],\"histogram2d\":[{\"colorbar\":{\"outlinewidth\":0,\"ticks\":\"\"},\"colorscale\":[[0.0,\"#0d0887\"],[0.1111111111111111,\"#46039f\"],[0.2222222222222222,\"#7201a8\"],[0.3333333333333333,\"#9c179e\"],[0.4444444444444444,\"#bd3786\"],[0.5555555555555556,\"#d8576b\"],[0.6666666666666666,\"#ed7953\"],[0.7777777777777778,\"#fb9f3a\"],[0.8888888888888888,\"#fdca26\"],[1.0,\"#f0f921\"]],\"type\":\"histogram2d\"}],\"histogram2dcontour\":[{\"colorbar\":{\"outlinewidth\":0,\"ticks\":\"\"},\"colorscale\":[[0.0,\"#0d0887\"],[0.1111111111111111,\"#46039f\"],[0.2222222222222222,\"#7201a8\"],[0.3333333333333333,\"#9c179e\"],[0.4444444444444444,\"#bd3786\"],[0.5555555555555556,\"#d8576b\"],[0.6666666666666666,\"#ed7953\"],[0.7777777777777778,\"#fb9f3a\"],[0.8888888888888888,\"#fdca26\"],[1.0,\"#f0f921\"]],\"type\":\"histogram2dcontour\"}],\"mesh3d\":[{\"colorbar\":{\"outlinewidth\":0,\"ticks\":\"\"},\"type\":\"mesh3d\"}],\"parcoords\":[{\"line\":{\"colorbar\":{\"outlinewidth\":0,\"ticks\":\"\"}},\"type\":\"parcoords\"}],\"pie\":[{\"automargin\":true,\"type\":\"pie\"}],\"scatter\":[{\"marker\":{\"colorbar\":{\"outlinewidth\":0,\"ticks\":\"\"}},\"type\":\"scatter\"}],\"scatter3d\":[{\"line\":{\"colorbar\":{\"outlinewidth\":0,\"ticks\":\"\"}},\"marker\":{\"colorbar\":{\"outlinewidth\":0,\"ticks\":\"\"}},\"type\":\"scatter3d\"}],\"scattercarpet\":[{\"marker\":{\"colorbar\":{\"outlinewidth\":0,\"ticks\":\"\"}},\"type\":\"scattercarpet\"}],\"scattergeo\":[{\"marker\":{\"colorbar\":{\"outlinewidth\":0,\"ticks\":\"\"}},\"type\":\"scattergeo\"}],\"scattergl\":[{\"marker\":{\"colorbar\":{\"outlinewidth\":0,\"ticks\":\"\"}},\"type\":\"scattergl\"}],\"scattermapbox\":[{\"marker\":{\"colorbar\":{\"outlinewidth\":0,\"ticks\":\"\"}},\"type\":\"scattermapbox\"}],\"scatterpolar\":[{\"marker\":{\"colorbar\":{\"outlinewidth\":0,\"ticks\":\"\"}},\"type\":\"scatterpolar\"}],\"scatterpolargl\":[{\"marker\":{\"colorbar\":{\"outlinewidth\":0,\"ticks\":\"\"}},\"type\":\"scatterpolargl\"}],\"scatterternary\":[{\"marker\":{\"colorbar\":{\"outlinewidth\":0,\"ticks\":\"\"}},\"type\":\"scatterternary\"}],\"surface\":[{\"colorbar\":{\"outlinewidth\":0,\"ticks\":\"\"},\"colorscale\":[[0.0,\"#0d0887\"],[0.1111111111111111,\"#46039f\"],[0.2222222222222222,\"#7201a8\"],[0.3333333333333333,\"#9c179e\"],[0.4444444444444444,\"#bd3786\"],[0.5555555555555556,\"#d8576b\"],[0.6666666666666666,\"#ed7953\"],[0.7777777777777778,\"#fb9f3a\"],[0.8888888888888888,\"#fdca26\"],[1.0,\"#f0f921\"]],\"type\":\"surface\"}],\"table\":[{\"cells\":{\"fill\":{\"color\":\"#EBF0F8\"},\"line\":{\"color\":\"white\"}},\"header\":{\"fill\":{\"color\":\"#C8D4E3\"},\"line\":{\"color\":\"white\"}},\"type\":\"table\"}]},\"layout\":{\"annotationdefaults\":{\"arrowcolor\":\"#2a3f5f\",\"arrowhead\":0,\"arrowwidth\":1},\"autotypenumbers\":\"strict\",\"coloraxis\":{\"colorbar\":{\"outlinewidth\":0,\"ticks\":\"\"}},\"colorscale\":{\"diverging\":[[0,\"#8e0152\"],[0.1,\"#c51b7d\"],[0.2,\"#de77ae\"],[0.3,\"#f1b6da\"],[0.4,\"#fde0ef\"],[0.5,\"#f7f7f7\"],[0.6,\"#e6f5d0\"],[0.7,\"#b8e186\"],[0.8,\"#7fbc41\"],[0.9,\"#4d9221\"],[1,\"#276419\"]],\"sequential\":[[0.0,\"#0d0887\"],[0.1111111111111111,\"#46039f\"],[0.2222222222222222,\"#7201a8\"],[0.3333333333333333,\"#9c179e\"],[0.4444444444444444,\"#bd3786\"],[0.5555555555555556,\"#d8576b\"],[0.6666666666666666,\"#ed7953\"],[0.7777777777777778,\"#fb9f3a\"],[0.8888888888888888,\"#fdca26\"],[1.0,\"#f0f921\"]],\"sequentialminus\":[[0.0,\"#0d0887\"],[0.1111111111111111,\"#46039f\"],[0.2222222222222222,\"#7201a8\"],[0.3333333333333333,\"#9c179e\"],[0.4444444444444444,\"#bd3786\"],[0.5555555555555556,\"#d8576b\"],[0.6666666666666666,\"#ed7953\"],[0.7777777777777778,\"#fb9f3a\"],[0.8888888888888888,\"#fdca26\"],[1.0,\"#f0f921\"]]},\"colorway\":[\"#636efa\",\"#EF553B\",\"#00cc96\",\"#ab63fa\",\"#FFA15A\",\"#19d3f3\",\"#FF6692\",\"#B6E880\",\"#FF97FF\",\"#FECB52\"],\"font\":{\"color\":\"#2a3f5f\"},\"geo\":{\"bgcolor\":\"white\",\"lakecolor\":\"white\",\"landcolor\":\"#E5ECF6\",\"showlakes\":true,\"showland\":true,\"subunitcolor\":\"white\"},\"hoverlabel\":{\"align\":\"left\"},\"hovermode\":\"closest\",\"mapbox\":{\"style\":\"light\"},\"paper_bgcolor\":\"white\",\"plot_bgcolor\":\"#E5ECF6\",\"polar\":{\"angularaxis\":{\"gridcolor\":\"white\",\"linecolor\":\"white\",\"ticks\":\"\"},\"bgcolor\":\"#E5ECF6\",\"radialaxis\":{\"gridcolor\":\"white\",\"linecolor\":\"white\",\"ticks\":\"\"}},\"scene\":{\"xaxis\":{\"backgroundcolor\":\"#E5ECF6\",\"gridcolor\":\"white\",\"gridwidth\":2,\"linecolor\":\"white\",\"showbackground\":true,\"ticks\":\"\",\"zerolinecolor\":\"white\"},\"yaxis\":{\"backgroundcolor\":\"#E5ECF6\",\"gridcolor\":\"white\",\"gridwidth\":2,\"linecolor\":\"white\",\"showbackground\":true,\"ticks\":\"\",\"zerolinecolor\":\"white\"},\"zaxis\":{\"backgroundcolor\":\"#E5ECF6\",\"gridcolor\":\"white\",\"gridwidth\":2,\"linecolor\":\"white\",\"showbackground\":true,\"ticks\":\"\",\"zerolinecolor\":\"white\"}},\"shapedefaults\":{\"line\":{\"color\":\"#2a3f5f\"}},\"ternary\":{\"aaxis\":{\"gridcolor\":\"white\",\"linecolor\":\"white\",\"ticks\":\"\"},\"baxis\":{\"gridcolor\":\"white\",\"linecolor\":\"white\",\"ticks\":\"\"},\"bgcolor\":\"#E5ECF6\",\"caxis\":{\"gridcolor\":\"white\",\"linecolor\":\"white\",\"ticks\":\"\"}},\"title\":{\"x\":0.05},\"xaxis\":{\"automargin\":true,\"gridcolor\":\"white\",\"linecolor\":\"white\",\"ticks\":\"\",\"title\":{\"standoff\":15},\"zerolinecolor\":\"white\",\"zerolinewidth\":2},\"yaxis\":{\"automargin\":true,\"gridcolor\":\"white\",\"linecolor\":\"white\",\"ticks\":\"\",\"title\":{\"standoff\":15},\"zerolinecolor\":\"white\",\"zerolinewidth\":2}}}},                        {\"responsive\": true}                    ).then(function(){\n",
              "                            \n",
              "var gd = document.getElementById('b99c6069-8167-4c5a-83eb-122227cb1818');\n",
              "var x = new MutationObserver(function (mutations, observer) {{\n",
              "        var display = window.getComputedStyle(gd).display;\n",
              "        if (!display || display === 'none') {{\n",
              "            console.log([gd, 'removed!']);\n",
              "            Plotly.purge(gd);\n",
              "            observer.disconnect();\n",
              "        }}\n",
              "}});\n",
              "\n",
              "// Listen for the removal of the full notebook cells\n",
              "var notebookContainer = gd.closest('#notebook-container');\n",
              "if (notebookContainer) {{\n",
              "    x.observe(notebookContainer, {childList: true});\n",
              "}}\n",
              "\n",
              "// Listen for the clearing of the current output cell\n",
              "var outputEl = gd.closest('.output');\n",
              "if (outputEl) {{\n",
              "    x.observe(outputEl, {childList: true});\n",
              "}}\n",
              "\n",
              "                        })                };                            </script>        </div>\n",
              "</body>\n",
              "</html>"
            ]
          },
          "metadata": {}
        }
      ]
    },
    {
      "cell_type": "code",
      "source": [
        "plot_parallel_coordinate(study)"
      ],
      "metadata": {
        "id": "wwohdCaO80ik",
        "colab": {
          "base_uri": "https://localhost:8080/",
          "height": 542
        },
        "outputId": "58d58b8d-7081-4879-bf0e-995e7deff402"
      },
      "execution_count": null,
      "outputs": [
        {
          "output_type": "display_data",
          "data": {
            "text/html": [
              "<html>\n",
              "<head><meta charset=\"utf-8\" /></head>\n",
              "<body>\n",
              "    <div>            <script src=\"https://cdnjs.cloudflare.com/ajax/libs/mathjax/2.7.5/MathJax.js?config=TeX-AMS-MML_SVG\"></script><script type=\"text/javascript\">if (window.MathJax) {MathJax.Hub.Config({SVG: {font: \"STIX-Web\"}});}</script>                <script type=\"text/javascript\">window.PlotlyConfig = {MathJaxConfig: 'local'};</script>\n",
              "        <script src=\"https://cdn.plot.ly/plotly-2.8.3.min.js\"></script>                <div id=\"f7001c2e-b3a9-456b-ad29-ee9c1960b87d\" class=\"plotly-graph-div\" style=\"height:525px; width:100%;\"></div>            <script type=\"text/javascript\">                                    window.PLOTLYENV=window.PLOTLYENV || {};                                    if (document.getElementById(\"f7001c2e-b3a9-456b-ad29-ee9c1960b87d\")) {                    Plotly.newPlot(                        \"f7001c2e-b3a9-456b-ad29-ee9c1960b87d\",                        [{\"dimensions\":[{\"label\":\"Objective Value\",\"range\":[0.18802893802893803,0.9201474201474201],\"values\":[0.191987441987442,0.9201474201474201,0.18898443898443898,0.18802893802893803,0.9185776685776685,0.19226044226044225,0.9017199017199017]},{\"label\":\"lambda\",\"range\":[0.005997182955817026,0.9507143064099162],\"values\":[0.9507143064099162,0.15601864044243652,0.8661761457749352,0.020584494295802447,0.21233911067827616,0.2912291401980419,0.005997182955817026]},{\"label\":\"learning_rate\",\"range\":[-2.8663478661444595,-0.8057602222312923],\"ticktext\":[\"0.00136\",\"0.01\",\"0.1\",\"0.156\"],\"tickvals\":[-2.8663478661444595,-2,-1,-0.8057602222312923],\"values\":[-2.1381719519526663,-1.6224688707038875,-2.8663478661444595,-1.3707037593841815,-1.0845245138484925,-2.0060815556268543,-0.8057602222312923]},{\"label\":\"length_scale\",\"range\":[0.10679258738466385,0.9729188669457949],\"values\":[0.7587945476302645,0.2403950683025824,0.6410035105688879,0.9729188669457949,0.26364247048639056,0.6506676052501416,0.10679258738466385]}],\"labelangle\":30,\"labelside\":\"bottom\",\"line\":{\"color\":[0.191987441987442,0.9201474201474201,0.18898443898443898,0.18802893802893803,0.9185776685776685,0.19226044226044225,0.9017199017199017],\"colorbar\":{\"title\":{\"text\":\"Objective Value\"}},\"colorscale\":[[0.0,\"rgb(247,251,255)\"],[0.125,\"rgb(222,235,247)\"],[0.25,\"rgb(198,219,239)\"],[0.375,\"rgb(158,202,225)\"],[0.5,\"rgb(107,174,214)\"],[0.625,\"rgb(66,146,198)\"],[0.75,\"rgb(33,113,181)\"],[0.875,\"rgb(8,81,156)\"],[1.0,\"rgb(8,48,107)\"]],\"reversescale\":false,\"showscale\":true},\"type\":\"parcoords\"}],                        {\"title\":{\"text\":\"Parallel Coordinate Plot\"},\"template\":{\"data\":{\"bar\":[{\"error_x\":{\"color\":\"#2a3f5f\"},\"error_y\":{\"color\":\"#2a3f5f\"},\"marker\":{\"line\":{\"color\":\"#E5ECF6\",\"width\":0.5},\"pattern\":{\"fillmode\":\"overlay\",\"size\":10,\"solidity\":0.2}},\"type\":\"bar\"}],\"barpolar\":[{\"marker\":{\"line\":{\"color\":\"#E5ECF6\",\"width\":0.5},\"pattern\":{\"fillmode\":\"overlay\",\"size\":10,\"solidity\":0.2}},\"type\":\"barpolar\"}],\"carpet\":[{\"aaxis\":{\"endlinecolor\":\"#2a3f5f\",\"gridcolor\":\"white\",\"linecolor\":\"white\",\"minorgridcolor\":\"white\",\"startlinecolor\":\"#2a3f5f\"},\"baxis\":{\"endlinecolor\":\"#2a3f5f\",\"gridcolor\":\"white\",\"linecolor\":\"white\",\"minorgridcolor\":\"white\",\"startlinecolor\":\"#2a3f5f\"},\"type\":\"carpet\"}],\"choropleth\":[{\"colorbar\":{\"outlinewidth\":0,\"ticks\":\"\"},\"type\":\"choropleth\"}],\"contour\":[{\"colorbar\":{\"outlinewidth\":0,\"ticks\":\"\"},\"colorscale\":[[0.0,\"#0d0887\"],[0.1111111111111111,\"#46039f\"],[0.2222222222222222,\"#7201a8\"],[0.3333333333333333,\"#9c179e\"],[0.4444444444444444,\"#bd3786\"],[0.5555555555555556,\"#d8576b\"],[0.6666666666666666,\"#ed7953\"],[0.7777777777777778,\"#fb9f3a\"],[0.8888888888888888,\"#fdca26\"],[1.0,\"#f0f921\"]],\"type\":\"contour\"}],\"contourcarpet\":[{\"colorbar\":{\"outlinewidth\":0,\"ticks\":\"\"},\"type\":\"contourcarpet\"}],\"heatmap\":[{\"colorbar\":{\"outlinewidth\":0,\"ticks\":\"\"},\"colorscale\":[[0.0,\"#0d0887\"],[0.1111111111111111,\"#46039f\"],[0.2222222222222222,\"#7201a8\"],[0.3333333333333333,\"#9c179e\"],[0.4444444444444444,\"#bd3786\"],[0.5555555555555556,\"#d8576b\"],[0.6666666666666666,\"#ed7953\"],[0.7777777777777778,\"#fb9f3a\"],[0.8888888888888888,\"#fdca26\"],[1.0,\"#f0f921\"]],\"type\":\"heatmap\"}],\"heatmapgl\":[{\"colorbar\":{\"outlinewidth\":0,\"ticks\":\"\"},\"colorscale\":[[0.0,\"#0d0887\"],[0.1111111111111111,\"#46039f\"],[0.2222222222222222,\"#7201a8\"],[0.3333333333333333,\"#9c179e\"],[0.4444444444444444,\"#bd3786\"],[0.5555555555555556,\"#d8576b\"],[0.6666666666666666,\"#ed7953\"],[0.7777777777777778,\"#fb9f3a\"],[0.8888888888888888,\"#fdca26\"],[1.0,\"#f0f921\"]],\"type\":\"heatmapgl\"}],\"histogram\":[{\"marker\":{\"pattern\":{\"fillmode\":\"overlay\",\"size\":10,\"solidity\":0.2}},\"type\":\"histogram\"}],\"histogram2d\":[{\"colorbar\":{\"outlinewidth\":0,\"ticks\":\"\"},\"colorscale\":[[0.0,\"#0d0887\"],[0.1111111111111111,\"#46039f\"],[0.2222222222222222,\"#7201a8\"],[0.3333333333333333,\"#9c179e\"],[0.4444444444444444,\"#bd3786\"],[0.5555555555555556,\"#d8576b\"],[0.6666666666666666,\"#ed7953\"],[0.7777777777777778,\"#fb9f3a\"],[0.8888888888888888,\"#fdca26\"],[1.0,\"#f0f921\"]],\"type\":\"histogram2d\"}],\"histogram2dcontour\":[{\"colorbar\":{\"outlinewidth\":0,\"ticks\":\"\"},\"colorscale\":[[0.0,\"#0d0887\"],[0.1111111111111111,\"#46039f\"],[0.2222222222222222,\"#7201a8\"],[0.3333333333333333,\"#9c179e\"],[0.4444444444444444,\"#bd3786\"],[0.5555555555555556,\"#d8576b\"],[0.6666666666666666,\"#ed7953\"],[0.7777777777777778,\"#fb9f3a\"],[0.8888888888888888,\"#fdca26\"],[1.0,\"#f0f921\"]],\"type\":\"histogram2dcontour\"}],\"mesh3d\":[{\"colorbar\":{\"outlinewidth\":0,\"ticks\":\"\"},\"type\":\"mesh3d\"}],\"parcoords\":[{\"line\":{\"colorbar\":{\"outlinewidth\":0,\"ticks\":\"\"}},\"type\":\"parcoords\"}],\"pie\":[{\"automargin\":true,\"type\":\"pie\"}],\"scatter\":[{\"marker\":{\"colorbar\":{\"outlinewidth\":0,\"ticks\":\"\"}},\"type\":\"scatter\"}],\"scatter3d\":[{\"line\":{\"colorbar\":{\"outlinewidth\":0,\"ticks\":\"\"}},\"marker\":{\"colorbar\":{\"outlinewidth\":0,\"ticks\":\"\"}},\"type\":\"scatter3d\"}],\"scattercarpet\":[{\"marker\":{\"colorbar\":{\"outlinewidth\":0,\"ticks\":\"\"}},\"type\":\"scattercarpet\"}],\"scattergeo\":[{\"marker\":{\"colorbar\":{\"outlinewidth\":0,\"ticks\":\"\"}},\"type\":\"scattergeo\"}],\"scattergl\":[{\"marker\":{\"colorbar\":{\"outlinewidth\":0,\"ticks\":\"\"}},\"type\":\"scattergl\"}],\"scattermapbox\":[{\"marker\":{\"colorbar\":{\"outlinewidth\":0,\"ticks\":\"\"}},\"type\":\"scattermapbox\"}],\"scatterpolar\":[{\"marker\":{\"colorbar\":{\"outlinewidth\":0,\"ticks\":\"\"}},\"type\":\"scatterpolar\"}],\"scatterpolargl\":[{\"marker\":{\"colorbar\":{\"outlinewidth\":0,\"ticks\":\"\"}},\"type\":\"scatterpolargl\"}],\"scatterternary\":[{\"marker\":{\"colorbar\":{\"outlinewidth\":0,\"ticks\":\"\"}},\"type\":\"scatterternary\"}],\"surface\":[{\"colorbar\":{\"outlinewidth\":0,\"ticks\":\"\"},\"colorscale\":[[0.0,\"#0d0887\"],[0.1111111111111111,\"#46039f\"],[0.2222222222222222,\"#7201a8\"],[0.3333333333333333,\"#9c179e\"],[0.4444444444444444,\"#bd3786\"],[0.5555555555555556,\"#d8576b\"],[0.6666666666666666,\"#ed7953\"],[0.7777777777777778,\"#fb9f3a\"],[0.8888888888888888,\"#fdca26\"],[1.0,\"#f0f921\"]],\"type\":\"surface\"}],\"table\":[{\"cells\":{\"fill\":{\"color\":\"#EBF0F8\"},\"line\":{\"color\":\"white\"}},\"header\":{\"fill\":{\"color\":\"#C8D4E3\"},\"line\":{\"color\":\"white\"}},\"type\":\"table\"}]},\"layout\":{\"annotationdefaults\":{\"arrowcolor\":\"#2a3f5f\",\"arrowhead\":0,\"arrowwidth\":1},\"autotypenumbers\":\"strict\",\"coloraxis\":{\"colorbar\":{\"outlinewidth\":0,\"ticks\":\"\"}},\"colorscale\":{\"diverging\":[[0,\"#8e0152\"],[0.1,\"#c51b7d\"],[0.2,\"#de77ae\"],[0.3,\"#f1b6da\"],[0.4,\"#fde0ef\"],[0.5,\"#f7f7f7\"],[0.6,\"#e6f5d0\"],[0.7,\"#b8e186\"],[0.8,\"#7fbc41\"],[0.9,\"#4d9221\"],[1,\"#276419\"]],\"sequential\":[[0.0,\"#0d0887\"],[0.1111111111111111,\"#46039f\"],[0.2222222222222222,\"#7201a8\"],[0.3333333333333333,\"#9c179e\"],[0.4444444444444444,\"#bd3786\"],[0.5555555555555556,\"#d8576b\"],[0.6666666666666666,\"#ed7953\"],[0.7777777777777778,\"#fb9f3a\"],[0.8888888888888888,\"#fdca26\"],[1.0,\"#f0f921\"]],\"sequentialminus\":[[0.0,\"#0d0887\"],[0.1111111111111111,\"#46039f\"],[0.2222222222222222,\"#7201a8\"],[0.3333333333333333,\"#9c179e\"],[0.4444444444444444,\"#bd3786\"],[0.5555555555555556,\"#d8576b\"],[0.6666666666666666,\"#ed7953\"],[0.7777777777777778,\"#fb9f3a\"],[0.8888888888888888,\"#fdca26\"],[1.0,\"#f0f921\"]]},\"colorway\":[\"#636efa\",\"#EF553B\",\"#00cc96\",\"#ab63fa\",\"#FFA15A\",\"#19d3f3\",\"#FF6692\",\"#B6E880\",\"#FF97FF\",\"#FECB52\"],\"font\":{\"color\":\"#2a3f5f\"},\"geo\":{\"bgcolor\":\"white\",\"lakecolor\":\"white\",\"landcolor\":\"#E5ECF6\",\"showlakes\":true,\"showland\":true,\"subunitcolor\":\"white\"},\"hoverlabel\":{\"align\":\"left\"},\"hovermode\":\"closest\",\"mapbox\":{\"style\":\"light\"},\"paper_bgcolor\":\"white\",\"plot_bgcolor\":\"#E5ECF6\",\"polar\":{\"angularaxis\":{\"gridcolor\":\"white\",\"linecolor\":\"white\",\"ticks\":\"\"},\"bgcolor\":\"#E5ECF6\",\"radialaxis\":{\"gridcolor\":\"white\",\"linecolor\":\"white\",\"ticks\":\"\"}},\"scene\":{\"xaxis\":{\"backgroundcolor\":\"#E5ECF6\",\"gridcolor\":\"white\",\"gridwidth\":2,\"linecolor\":\"white\",\"showbackground\":true,\"ticks\":\"\",\"zerolinecolor\":\"white\"},\"yaxis\":{\"backgroundcolor\":\"#E5ECF6\",\"gridcolor\":\"white\",\"gridwidth\":2,\"linecolor\":\"white\",\"showbackground\":true,\"ticks\":\"\",\"zerolinecolor\":\"white\"},\"zaxis\":{\"backgroundcolor\":\"#E5ECF6\",\"gridcolor\":\"white\",\"gridwidth\":2,\"linecolor\":\"white\",\"showbackground\":true,\"ticks\":\"\",\"zerolinecolor\":\"white\"}},\"shapedefaults\":{\"line\":{\"color\":\"#2a3f5f\"}},\"ternary\":{\"aaxis\":{\"gridcolor\":\"white\",\"linecolor\":\"white\",\"ticks\":\"\"},\"baxis\":{\"gridcolor\":\"white\",\"linecolor\":\"white\",\"ticks\":\"\"},\"bgcolor\":\"#E5ECF6\",\"caxis\":{\"gridcolor\":\"white\",\"linecolor\":\"white\",\"ticks\":\"\"}},\"title\":{\"x\":0.05},\"xaxis\":{\"automargin\":true,\"gridcolor\":\"white\",\"linecolor\":\"white\",\"ticks\":\"\",\"title\":{\"standoff\":15},\"zerolinecolor\":\"white\",\"zerolinewidth\":2},\"yaxis\":{\"automargin\":true,\"gridcolor\":\"white\",\"linecolor\":\"white\",\"ticks\":\"\",\"title\":{\"standoff\":15},\"zerolinecolor\":\"white\",\"zerolinewidth\":2}}}},                        {\"responsive\": true}                    ).then(function(){\n",
              "                            \n",
              "var gd = document.getElementById('f7001c2e-b3a9-456b-ad29-ee9c1960b87d');\n",
              "var x = new MutationObserver(function (mutations, observer) {{\n",
              "        var display = window.getComputedStyle(gd).display;\n",
              "        if (!display || display === 'none') {{\n",
              "            console.log([gd, 'removed!']);\n",
              "            Plotly.purge(gd);\n",
              "            observer.disconnect();\n",
              "        }}\n",
              "}});\n",
              "\n",
              "// Listen for the removal of the full notebook cells\n",
              "var notebookContainer = gd.closest('#notebook-container');\n",
              "if (notebookContainer) {{\n",
              "    x.observe(notebookContainer, {childList: true});\n",
              "}}\n",
              "\n",
              "// Listen for the clearing of the current output cell\n",
              "var outputEl = gd.closest('.output');\n",
              "if (outputEl) {{\n",
              "    x.observe(outputEl, {childList: true});\n",
              "}}\n",
              "\n",
              "                        })                };                            </script>        </div>\n",
              "</body>\n",
              "</html>"
            ]
          },
          "metadata": {}
        }
      ]
    },
    {
      "cell_type": "code",
      "source": [
        "plot_contour(study)"
      ],
      "metadata": {
        "id": "TnRPCH5r8_SN",
        "colab": {
          "base_uri": "https://localhost:8080/",
          "height": 542
        },
        "outputId": "9953512e-79e0-44db-e124-7ba36101e930"
      },
      "execution_count": null,
      "outputs": [
        {
          "output_type": "display_data",
          "data": {
            "text/html": [
              "<html>\n",
              "<head><meta charset=\"utf-8\" /></head>\n",
              "<body>\n",
              "    <div>            <script src=\"https://cdnjs.cloudflare.com/ajax/libs/mathjax/2.7.5/MathJax.js?config=TeX-AMS-MML_SVG\"></script><script type=\"text/javascript\">if (window.MathJax) {MathJax.Hub.Config({SVG: {font: \"STIX-Web\"}});}</script>                <script type=\"text/javascript\">window.PlotlyConfig = {MathJaxConfig: 'local'};</script>\n",
              "        <script src=\"https://cdn.plot.ly/plotly-2.8.3.min.js\"></script>                <div id=\"adcd6d33-278d-4e91-9161-0d31bf554aa6\" class=\"plotly-graph-div\" style=\"height:525px; width:100%;\"></div>            <script type=\"text/javascript\">                                    window.PLOTLYENV=window.PLOTLYENV || {};                                    if (document.getElementById(\"adcd6d33-278d-4e91-9161-0d31bf554aa6\")) {                    Plotly.newPlot(                        \"adcd6d33-278d-4e91-9161-0d31bf554aa6\",                        [{\"type\":\"scatter\",\"xaxis\":\"x\",\"yaxis\":\"y\"},{\"colorbar\":{\"title\":{\"text\":\"Objective Value\"}},\"colorscale\":[[0,\"rgb(5,10,172)\"],[0.35,\"rgb(40,60,190)\"],[0.5,\"rgb(70,100,245)\"],[0.6,\"rgb(90,120,245)\"],[0.7,\"rgb(106,137,247)\"],[1,\"rgb(220,220,220)\"]],\"connectgaps\":true,\"contours\":{\"coloring\":\"heatmap\"},\"hoverinfo\":\"none\",\"line\":{\"smoothing\":1.3},\"reversescale\":false,\"showscale\":true,\"x\":[-0.041238673216887935,0.005997182955817026,0.020584494295802447,0.15601864044243652,0.21233911067827616,0.2912291401980419,0.8661761457749352,0.9507143064099162,0.9979501625826211],\"y\":[0.0010730569003701655,0.001360354613611808,0.00727491708802781,0.009860942908083906,0.02385234757844707,0.04258888210290081,0.0823143373099555,0.15640109083649653,0.19827554850069246],\"z\":[[null,null,null,null,null,null,null,null,null],[null,null,null,null,null,null,0.18898443898443898,null,null],[null,null,null,null,null,null,null,0.191987441987442,null],[null,null,null,null,null,0.19226044226044225,null,null,null],[null,null,null,0.9201474201474201,null,null,null,null,null],[null,null,0.18802893802893803,null,null,null,null,null,null],[null,null,null,null,0.9185776685776685,null,null,null,null],[null,0.9017199017199017,null,null,null,null,null,null,null],[null,null,null,null,null,null,null,null,null]],\"type\":\"contour\",\"xaxis\":\"x4\",\"yaxis\":\"y4\"},{\"marker\":{\"color\":\"black\",\"line\":{\"color\":\"Grey\",\"width\":0.5}},\"mode\":\"markers\",\"showlegend\":false,\"x\":[0.9507143064099162,0.15601864044243652,0.8661761457749352,0.020584494295802447,0.21233911067827616,0.2912291401980419,0.005997182955817026],\"y\":[0.00727491708802781,0.02385234757844707,0.001360354613611808,0.04258888210290081,0.0823143373099555,0.009860942908083906,0.15640109083649653],\"type\":\"scatter\",\"xaxis\":\"x4\",\"yaxis\":\"y4\"},{\"colorbar\":{\"title\":{\"text\":\"Objective Value\"}},\"colorscale\":[[0,\"rgb(5,10,172)\"],[0.35,\"rgb(40,60,190)\"],[0.5,\"rgb(70,100,245)\"],[0.6,\"rgb(90,120,245)\"],[0.7,\"rgb(106,137,247)\"],[1,\"rgb(220,220,220)\"]],\"connectgaps\":true,\"contours\":{\"coloring\":\"heatmap\"},\"hoverinfo\":\"none\",\"line\":{\"smoothing\":1.3},\"reversescale\":false,\"showscale\":false,\"x\":[-0.041238673216887935,0.005997182955817026,0.020584494295802447,0.15601864044243652,0.21233911067827616,0.2912291401980419,0.8661761457749352,0.9507143064099162,0.9979501625826211],\"y\":[0.06348627340660729,0.10679258738466385,0.2403950683025824,0.26364247048639056,0.6410035105688879,0.6506676052501416,0.7587945476302645,0.9729188669457949,1.0162251809238514],\"z\":[[null,null,null,null,null,null,null,null,null],[null,0.9017199017199017,null,null,null,null,null,null,null],[null,null,null,0.9201474201474201,null,null,null,null,null],[null,null,null,null,0.9185776685776685,null,null,null,null],[null,null,null,null,null,null,0.18898443898443898,null,null],[null,null,null,null,null,0.19226044226044225,null,null,null],[null,null,null,null,null,null,null,0.191987441987442,null],[null,null,0.18802893802893803,null,null,null,null,null,null],[null,null,null,null,null,null,null,null,null]],\"type\":\"contour\",\"xaxis\":\"x7\",\"yaxis\":\"y7\"},{\"marker\":{\"color\":\"black\",\"line\":{\"color\":\"Grey\",\"width\":0.5}},\"mode\":\"markers\",\"showlegend\":false,\"x\":[0.9507143064099162,0.15601864044243652,0.8661761457749352,0.020584494295802447,0.21233911067827616,0.2912291401980419,0.005997182955817026],\"y\":[0.7587945476302645,0.2403950683025824,0.6410035105688879,0.9729188669457949,0.26364247048639056,0.6506676052501416,0.10679258738466385],\"type\":\"scatter\",\"xaxis\":\"x7\",\"yaxis\":\"y7\"},{\"colorbar\":{\"title\":{\"text\":\"Objective Value\"}},\"colorscale\":[[0,\"rgb(5,10,172)\"],[0.35,\"rgb(40,60,190)\"],[0.5,\"rgb(70,100,245)\"],[0.6,\"rgb(90,120,245)\"],[0.7,\"rgb(106,137,247)\"],[1,\"rgb(220,220,220)\"]],\"connectgaps\":true,\"contours\":{\"coloring\":\"heatmap\"},\"hoverinfo\":\"none\",\"line\":{\"smoothing\":1.3},\"reversescale\":false,\"showscale\":false,\"x\":[0.0010730569003701655,0.001360354613611808,0.00727491708802781,0.009860942908083906,0.02385234757844707,0.04258888210290081,0.0823143373099555,0.15640109083649653,0.19827554850069246],\"y\":[-0.041238673216887935,0.005997182955817026,0.020584494295802447,0.15601864044243652,0.21233911067827616,0.2912291401980419,0.8661761457749352,0.9507143064099162,0.9979501625826211],\"z\":[[null,null,null,null,null,null,null,null,null],[null,null,null,null,null,null,null,0.9017199017199017,null],[null,null,null,null,null,0.18802893802893803,null,null,null],[null,null,null,null,0.9201474201474201,null,null,null,null],[null,null,null,null,null,null,0.9185776685776685,null,null],[null,null,null,0.19226044226044225,null,null,null,null,null],[null,0.18898443898443898,null,null,null,null,null,null,null],[null,null,0.191987441987442,null,null,null,null,null,null],[null,null,null,null,null,null,null,null,null]],\"type\":\"contour\",\"xaxis\":\"x2\",\"yaxis\":\"y2\"},{\"marker\":{\"color\":\"black\",\"line\":{\"color\":\"Grey\",\"width\":0.5}},\"mode\":\"markers\",\"showlegend\":false,\"x\":[0.00727491708802781,0.02385234757844707,0.001360354613611808,0.04258888210290081,0.0823143373099555,0.009860942908083906,0.15640109083649653],\"y\":[0.9507143064099162,0.15601864044243652,0.8661761457749352,0.020584494295802447,0.21233911067827616,0.2912291401980419,0.005997182955817026],\"type\":\"scatter\",\"xaxis\":\"x2\",\"yaxis\":\"y2\"},{\"type\":\"scatter\",\"xaxis\":\"x5\",\"yaxis\":\"y5\"},{\"colorbar\":{\"title\":{\"text\":\"Objective Value\"}},\"colorscale\":[[0,\"rgb(5,10,172)\"],[0.35,\"rgb(40,60,190)\"],[0.5,\"rgb(70,100,245)\"],[0.6,\"rgb(90,120,245)\"],[0.7,\"rgb(106,137,247)\"],[1,\"rgb(220,220,220)\"]],\"connectgaps\":true,\"contours\":{\"coloring\":\"heatmap\"},\"hoverinfo\":\"none\",\"line\":{\"smoothing\":1.3},\"reversescale\":false,\"showscale\":false,\"x\":[0.0010730569003701655,0.001360354613611808,0.00727491708802781,0.009860942908083906,0.02385234757844707,0.04258888210290081,0.0823143373099555,0.15640109083649653,0.19827554850069246],\"y\":[0.06348627340660729,0.10679258738466385,0.2403950683025824,0.26364247048639056,0.6410035105688879,0.6506676052501416,0.7587945476302645,0.9729188669457949,1.0162251809238514],\"z\":[[null,null,null,null,null,null,null,null,null],[null,null,null,null,null,null,null,0.9017199017199017,null],[null,null,null,null,0.9201474201474201,null,null,null,null],[null,null,null,null,null,null,0.9185776685776685,null,null],[null,0.18898443898443898,null,null,null,null,null,null,null],[null,null,null,0.19226044226044225,null,null,null,null,null],[null,null,0.191987441987442,null,null,null,null,null,null],[null,null,null,null,null,0.18802893802893803,null,null,null],[null,null,null,null,null,null,null,null,null]],\"type\":\"contour\",\"xaxis\":\"x8\",\"yaxis\":\"y8\"},{\"marker\":{\"color\":\"black\",\"line\":{\"color\":\"Grey\",\"width\":0.5}},\"mode\":\"markers\",\"showlegend\":false,\"x\":[0.00727491708802781,0.02385234757844707,0.001360354613611808,0.04258888210290081,0.0823143373099555,0.009860942908083906,0.15640109083649653],\"y\":[0.7587945476302645,0.2403950683025824,0.6410035105688879,0.9729188669457949,0.26364247048639056,0.6506676052501416,0.10679258738466385],\"type\":\"scatter\",\"xaxis\":\"x8\",\"yaxis\":\"y8\"},{\"colorbar\":{\"title\":{\"text\":\"Objective Value\"}},\"colorscale\":[[0,\"rgb(5,10,172)\"],[0.35,\"rgb(40,60,190)\"],[0.5,\"rgb(70,100,245)\"],[0.6,\"rgb(90,120,245)\"],[0.7,\"rgb(106,137,247)\"],[1,\"rgb(220,220,220)\"]],\"connectgaps\":true,\"contours\":{\"coloring\":\"heatmap\"},\"hoverinfo\":\"none\",\"line\":{\"smoothing\":1.3},\"reversescale\":false,\"showscale\":false,\"x\":[0.06348627340660729,0.10679258738466385,0.2403950683025824,0.26364247048639056,0.6410035105688879,0.6506676052501416,0.7587945476302645,0.9729188669457949,1.0162251809238514],\"y\":[-0.041238673216887935,0.005997182955817026,0.020584494295802447,0.15601864044243652,0.21233911067827616,0.2912291401980419,0.8661761457749352,0.9507143064099162,0.9979501625826211],\"z\":[[null,null,null,null,null,null,null,null,null],[null,0.9017199017199017,null,null,null,null,null,null,null],[null,null,null,null,null,null,null,0.18802893802893803,null],[null,null,0.9201474201474201,null,null,null,null,null,null],[null,null,null,0.9185776685776685,null,null,null,null,null],[null,null,null,null,null,0.19226044226044225,null,null,null],[null,null,null,null,0.18898443898443898,null,null,null,null],[null,null,null,null,null,null,0.191987441987442,null,null],[null,null,null,null,null,null,null,null,null]],\"type\":\"contour\",\"xaxis\":\"x3\",\"yaxis\":\"y3\"},{\"marker\":{\"color\":\"black\",\"line\":{\"color\":\"Grey\",\"width\":0.5}},\"mode\":\"markers\",\"showlegend\":false,\"x\":[0.7587945476302645,0.2403950683025824,0.6410035105688879,0.9729188669457949,0.26364247048639056,0.6506676052501416,0.10679258738466385],\"y\":[0.9507143064099162,0.15601864044243652,0.8661761457749352,0.020584494295802447,0.21233911067827616,0.2912291401980419,0.005997182955817026],\"type\":\"scatter\",\"xaxis\":\"x3\",\"yaxis\":\"y3\"},{\"colorbar\":{\"title\":{\"text\":\"Objective Value\"}},\"colorscale\":[[0,\"rgb(5,10,172)\"],[0.35,\"rgb(40,60,190)\"],[0.5,\"rgb(70,100,245)\"],[0.6,\"rgb(90,120,245)\"],[0.7,\"rgb(106,137,247)\"],[1,\"rgb(220,220,220)\"]],\"connectgaps\":true,\"contours\":{\"coloring\":\"heatmap\"},\"hoverinfo\":\"none\",\"line\":{\"smoothing\":1.3},\"reversescale\":false,\"showscale\":false,\"x\":[0.06348627340660729,0.10679258738466385,0.2403950683025824,0.26364247048639056,0.6410035105688879,0.6506676052501416,0.7587945476302645,0.9729188669457949,1.0162251809238514],\"y\":[0.0010730569003701655,0.001360354613611808,0.00727491708802781,0.009860942908083906,0.02385234757844707,0.04258888210290081,0.0823143373099555,0.15640109083649653,0.19827554850069246],\"z\":[[null,null,null,null,null,null,null,null,null],[null,null,null,null,0.18898443898443898,null,null,null,null],[null,null,null,null,null,null,0.191987441987442,null,null],[null,null,null,null,null,0.19226044226044225,null,null,null],[null,null,0.9201474201474201,null,null,null,null,null,null],[null,null,null,null,null,null,null,0.18802893802893803,null],[null,null,null,0.9185776685776685,null,null,null,null,null],[null,0.9017199017199017,null,null,null,null,null,null,null],[null,null,null,null,null,null,null,null,null]],\"type\":\"contour\",\"xaxis\":\"x6\",\"yaxis\":\"y6\"},{\"marker\":{\"color\":\"black\",\"line\":{\"color\":\"Grey\",\"width\":0.5}},\"mode\":\"markers\",\"showlegend\":false,\"x\":[0.7587945476302645,0.2403950683025824,0.6410035105688879,0.9729188669457949,0.26364247048639056,0.6506676052501416,0.10679258738466385],\"y\":[0.00727491708802781,0.02385234757844707,0.001360354613611808,0.04258888210290081,0.0823143373099555,0.009860942908083906,0.15640109083649653],\"type\":\"scatter\",\"xaxis\":\"x6\",\"yaxis\":\"y6\"},{\"type\":\"scatter\",\"xaxis\":\"x9\",\"yaxis\":\"y9\"}],                        {\"template\":{\"data\":{\"bar\":[{\"error_x\":{\"color\":\"#2a3f5f\"},\"error_y\":{\"color\":\"#2a3f5f\"},\"marker\":{\"line\":{\"color\":\"#E5ECF6\",\"width\":0.5},\"pattern\":{\"fillmode\":\"overlay\",\"size\":10,\"solidity\":0.2}},\"type\":\"bar\"}],\"barpolar\":[{\"marker\":{\"line\":{\"color\":\"#E5ECF6\",\"width\":0.5},\"pattern\":{\"fillmode\":\"overlay\",\"size\":10,\"solidity\":0.2}},\"type\":\"barpolar\"}],\"carpet\":[{\"aaxis\":{\"endlinecolor\":\"#2a3f5f\",\"gridcolor\":\"white\",\"linecolor\":\"white\",\"minorgridcolor\":\"white\",\"startlinecolor\":\"#2a3f5f\"},\"baxis\":{\"endlinecolor\":\"#2a3f5f\",\"gridcolor\":\"white\",\"linecolor\":\"white\",\"minorgridcolor\":\"white\",\"startlinecolor\":\"#2a3f5f\"},\"type\":\"carpet\"}],\"choropleth\":[{\"colorbar\":{\"outlinewidth\":0,\"ticks\":\"\"},\"type\":\"choropleth\"}],\"contour\":[{\"colorbar\":{\"outlinewidth\":0,\"ticks\":\"\"},\"colorscale\":[[0.0,\"#0d0887\"],[0.1111111111111111,\"#46039f\"],[0.2222222222222222,\"#7201a8\"],[0.3333333333333333,\"#9c179e\"],[0.4444444444444444,\"#bd3786\"],[0.5555555555555556,\"#d8576b\"],[0.6666666666666666,\"#ed7953\"],[0.7777777777777778,\"#fb9f3a\"],[0.8888888888888888,\"#fdca26\"],[1.0,\"#f0f921\"]],\"type\":\"contour\"}],\"contourcarpet\":[{\"colorbar\":{\"outlinewidth\":0,\"ticks\":\"\"},\"type\":\"contourcarpet\"}],\"heatmap\":[{\"colorbar\":{\"outlinewidth\":0,\"ticks\":\"\"},\"colorscale\":[[0.0,\"#0d0887\"],[0.1111111111111111,\"#46039f\"],[0.2222222222222222,\"#7201a8\"],[0.3333333333333333,\"#9c179e\"],[0.4444444444444444,\"#bd3786\"],[0.5555555555555556,\"#d8576b\"],[0.6666666666666666,\"#ed7953\"],[0.7777777777777778,\"#fb9f3a\"],[0.8888888888888888,\"#fdca26\"],[1.0,\"#f0f921\"]],\"type\":\"heatmap\"}],\"heatmapgl\":[{\"colorbar\":{\"outlinewidth\":0,\"ticks\":\"\"},\"colorscale\":[[0.0,\"#0d0887\"],[0.1111111111111111,\"#46039f\"],[0.2222222222222222,\"#7201a8\"],[0.3333333333333333,\"#9c179e\"],[0.4444444444444444,\"#bd3786\"],[0.5555555555555556,\"#d8576b\"],[0.6666666666666666,\"#ed7953\"],[0.7777777777777778,\"#fb9f3a\"],[0.8888888888888888,\"#fdca26\"],[1.0,\"#f0f921\"]],\"type\":\"heatmapgl\"}],\"histogram\":[{\"marker\":{\"pattern\":{\"fillmode\":\"overlay\",\"size\":10,\"solidity\":0.2}},\"type\":\"histogram\"}],\"histogram2d\":[{\"colorbar\":{\"outlinewidth\":0,\"ticks\":\"\"},\"colorscale\":[[0.0,\"#0d0887\"],[0.1111111111111111,\"#46039f\"],[0.2222222222222222,\"#7201a8\"],[0.3333333333333333,\"#9c179e\"],[0.4444444444444444,\"#bd3786\"],[0.5555555555555556,\"#d8576b\"],[0.6666666666666666,\"#ed7953\"],[0.7777777777777778,\"#fb9f3a\"],[0.8888888888888888,\"#fdca26\"],[1.0,\"#f0f921\"]],\"type\":\"histogram2d\"}],\"histogram2dcontour\":[{\"colorbar\":{\"outlinewidth\":0,\"ticks\":\"\"},\"colorscale\":[[0.0,\"#0d0887\"],[0.1111111111111111,\"#46039f\"],[0.2222222222222222,\"#7201a8\"],[0.3333333333333333,\"#9c179e\"],[0.4444444444444444,\"#bd3786\"],[0.5555555555555556,\"#d8576b\"],[0.6666666666666666,\"#ed7953\"],[0.7777777777777778,\"#fb9f3a\"],[0.8888888888888888,\"#fdca26\"],[1.0,\"#f0f921\"]],\"type\":\"histogram2dcontour\"}],\"mesh3d\":[{\"colorbar\":{\"outlinewidth\":0,\"ticks\":\"\"},\"type\":\"mesh3d\"}],\"parcoords\":[{\"line\":{\"colorbar\":{\"outlinewidth\":0,\"ticks\":\"\"}},\"type\":\"parcoords\"}],\"pie\":[{\"automargin\":true,\"type\":\"pie\"}],\"scatter\":[{\"marker\":{\"colorbar\":{\"outlinewidth\":0,\"ticks\":\"\"}},\"type\":\"scatter\"}],\"scatter3d\":[{\"line\":{\"colorbar\":{\"outlinewidth\":0,\"ticks\":\"\"}},\"marker\":{\"colorbar\":{\"outlinewidth\":0,\"ticks\":\"\"}},\"type\":\"scatter3d\"}],\"scattercarpet\":[{\"marker\":{\"colorbar\":{\"outlinewidth\":0,\"ticks\":\"\"}},\"type\":\"scattercarpet\"}],\"scattergeo\":[{\"marker\":{\"colorbar\":{\"outlinewidth\":0,\"ticks\":\"\"}},\"type\":\"scattergeo\"}],\"scattergl\":[{\"marker\":{\"colorbar\":{\"outlinewidth\":0,\"ticks\":\"\"}},\"type\":\"scattergl\"}],\"scattermapbox\":[{\"marker\":{\"colorbar\":{\"outlinewidth\":0,\"ticks\":\"\"}},\"type\":\"scattermapbox\"}],\"scatterpolar\":[{\"marker\":{\"colorbar\":{\"outlinewidth\":0,\"ticks\":\"\"}},\"type\":\"scatterpolar\"}],\"scatterpolargl\":[{\"marker\":{\"colorbar\":{\"outlinewidth\":0,\"ticks\":\"\"}},\"type\":\"scatterpolargl\"}],\"scatterternary\":[{\"marker\":{\"colorbar\":{\"outlinewidth\":0,\"ticks\":\"\"}},\"type\":\"scatterternary\"}],\"surface\":[{\"colorbar\":{\"outlinewidth\":0,\"ticks\":\"\"},\"colorscale\":[[0.0,\"#0d0887\"],[0.1111111111111111,\"#46039f\"],[0.2222222222222222,\"#7201a8\"],[0.3333333333333333,\"#9c179e\"],[0.4444444444444444,\"#bd3786\"],[0.5555555555555556,\"#d8576b\"],[0.6666666666666666,\"#ed7953\"],[0.7777777777777778,\"#fb9f3a\"],[0.8888888888888888,\"#fdca26\"],[1.0,\"#f0f921\"]],\"type\":\"surface\"}],\"table\":[{\"cells\":{\"fill\":{\"color\":\"#EBF0F8\"},\"line\":{\"color\":\"white\"}},\"header\":{\"fill\":{\"color\":\"#C8D4E3\"},\"line\":{\"color\":\"white\"}},\"type\":\"table\"}]},\"layout\":{\"annotationdefaults\":{\"arrowcolor\":\"#2a3f5f\",\"arrowhead\":0,\"arrowwidth\":1},\"autotypenumbers\":\"strict\",\"coloraxis\":{\"colorbar\":{\"outlinewidth\":0,\"ticks\":\"\"}},\"colorscale\":{\"diverging\":[[0,\"#8e0152\"],[0.1,\"#c51b7d\"],[0.2,\"#de77ae\"],[0.3,\"#f1b6da\"],[0.4,\"#fde0ef\"],[0.5,\"#f7f7f7\"],[0.6,\"#e6f5d0\"],[0.7,\"#b8e186\"],[0.8,\"#7fbc41\"],[0.9,\"#4d9221\"],[1,\"#276419\"]],\"sequential\":[[0.0,\"#0d0887\"],[0.1111111111111111,\"#46039f\"],[0.2222222222222222,\"#7201a8\"],[0.3333333333333333,\"#9c179e\"],[0.4444444444444444,\"#bd3786\"],[0.5555555555555556,\"#d8576b\"],[0.6666666666666666,\"#ed7953\"],[0.7777777777777778,\"#fb9f3a\"],[0.8888888888888888,\"#fdca26\"],[1.0,\"#f0f921\"]],\"sequentialminus\":[[0.0,\"#0d0887\"],[0.1111111111111111,\"#46039f\"],[0.2222222222222222,\"#7201a8\"],[0.3333333333333333,\"#9c179e\"],[0.4444444444444444,\"#bd3786\"],[0.5555555555555556,\"#d8576b\"],[0.6666666666666666,\"#ed7953\"],[0.7777777777777778,\"#fb9f3a\"],[0.8888888888888888,\"#fdca26\"],[1.0,\"#f0f921\"]]},\"colorway\":[\"#636efa\",\"#EF553B\",\"#00cc96\",\"#ab63fa\",\"#FFA15A\",\"#19d3f3\",\"#FF6692\",\"#B6E880\",\"#FF97FF\",\"#FECB52\"],\"font\":{\"color\":\"#2a3f5f\"},\"geo\":{\"bgcolor\":\"white\",\"lakecolor\":\"white\",\"landcolor\":\"#E5ECF6\",\"showlakes\":true,\"showland\":true,\"subunitcolor\":\"white\"},\"hoverlabel\":{\"align\":\"left\"},\"hovermode\":\"closest\",\"mapbox\":{\"style\":\"light\"},\"paper_bgcolor\":\"white\",\"plot_bgcolor\":\"#E5ECF6\",\"polar\":{\"angularaxis\":{\"gridcolor\":\"white\",\"linecolor\":\"white\",\"ticks\":\"\"},\"bgcolor\":\"#E5ECF6\",\"radialaxis\":{\"gridcolor\":\"white\",\"linecolor\":\"white\",\"ticks\":\"\"}},\"scene\":{\"xaxis\":{\"backgroundcolor\":\"#E5ECF6\",\"gridcolor\":\"white\",\"gridwidth\":2,\"linecolor\":\"white\",\"showbackground\":true,\"ticks\":\"\",\"zerolinecolor\":\"white\"},\"yaxis\":{\"backgroundcolor\":\"#E5ECF6\",\"gridcolor\":\"white\",\"gridwidth\":2,\"linecolor\":\"white\",\"showbackground\":true,\"ticks\":\"\",\"zerolinecolor\":\"white\"},\"zaxis\":{\"backgroundcolor\":\"#E5ECF6\",\"gridcolor\":\"white\",\"gridwidth\":2,\"linecolor\":\"white\",\"showbackground\":true,\"ticks\":\"\",\"zerolinecolor\":\"white\"}},\"shapedefaults\":{\"line\":{\"color\":\"#2a3f5f\"}},\"ternary\":{\"aaxis\":{\"gridcolor\":\"white\",\"linecolor\":\"white\",\"ticks\":\"\"},\"baxis\":{\"gridcolor\":\"white\",\"linecolor\":\"white\",\"ticks\":\"\"},\"bgcolor\":\"#E5ECF6\",\"caxis\":{\"gridcolor\":\"white\",\"linecolor\":\"white\",\"ticks\":\"\"}},\"title\":{\"x\":0.05},\"xaxis\":{\"automargin\":true,\"gridcolor\":\"white\",\"linecolor\":\"white\",\"ticks\":\"\",\"title\":{\"standoff\":15},\"zerolinecolor\":\"white\",\"zerolinewidth\":2},\"yaxis\":{\"automargin\":true,\"gridcolor\":\"white\",\"linecolor\":\"white\",\"ticks\":\"\",\"title\":{\"standoff\":15},\"zerolinecolor\":\"white\",\"zerolinewidth\":2}}},\"xaxis\":{\"anchor\":\"y\",\"domain\":[0.0,0.2888888888888889],\"matches\":\"x7\",\"showticklabels\":false,\"range\":[-0.041238673216887935,0.9979501625826211]},\"yaxis\":{\"anchor\":\"x\",\"domain\":[0.7333333333333333,1.0],\"range\":[-0.041238673216887935,0.9979501625826211],\"title\":{\"text\":\"lambda\"}},\"xaxis2\":{\"anchor\":\"y2\",\"domain\":[0.35555555555555557,0.6444444444444445],\"matches\":\"x8\",\"showticklabels\":false,\"range\":[-2.969377248340118,-0.7027308400356339],\"type\":\"log\"},\"yaxis2\":{\"anchor\":\"x2\",\"domain\":[0.7333333333333333,1.0],\"matches\":\"y\",\"showticklabels\":false,\"range\":[-0.041238673216887935,0.9979501625826211]},\"xaxis3\":{\"anchor\":\"y3\",\"domain\":[0.7111111111111111,1.0],\"matches\":\"x9\",\"showticklabels\":false,\"range\":[0.06348627340660729,1.0162251809238514]},\"yaxis3\":{\"anchor\":\"x3\",\"domain\":[0.7333333333333333,1.0],\"matches\":\"y\",\"showticklabels\":false,\"range\":[-0.041238673216887935,0.9979501625826211]},\"xaxis4\":{\"anchor\":\"y4\",\"domain\":[0.0,0.2888888888888889],\"matches\":\"x7\",\"showticklabels\":false,\"range\":[-0.041238673216887935,0.9979501625826211]},\"yaxis4\":{\"anchor\":\"x4\",\"domain\":[0.36666666666666664,0.6333333333333333],\"range\":[-2.969377248340118,-0.7027308400356339],\"type\":\"log\",\"title\":{\"text\":\"learning_rate\"}},\"xaxis5\":{\"anchor\":\"y5\",\"domain\":[0.35555555555555557,0.6444444444444445],\"matches\":\"x8\",\"showticklabels\":false,\"range\":[-2.969377248340118,-0.7027308400356339],\"type\":\"log\"},\"yaxis5\":{\"anchor\":\"x5\",\"domain\":[0.36666666666666664,0.6333333333333333],\"matches\":\"y4\",\"showticklabels\":false,\"range\":[-2.969377248340118,-0.7027308400356339],\"type\":\"log\"},\"xaxis6\":{\"anchor\":\"y6\",\"domain\":[0.7111111111111111,1.0],\"matches\":\"x9\",\"showticklabels\":false,\"range\":[0.06348627340660729,1.0162251809238514]},\"yaxis6\":{\"anchor\":\"x6\",\"domain\":[0.36666666666666664,0.6333333333333333],\"matches\":\"y4\",\"showticklabels\":false,\"range\":[-2.969377248340118,-0.7027308400356339],\"type\":\"log\"},\"xaxis7\":{\"anchor\":\"y7\",\"domain\":[0.0,0.2888888888888889],\"range\":[-0.041238673216887935,0.9979501625826211],\"title\":{\"text\":\"lambda\"}},\"yaxis7\":{\"anchor\":\"x7\",\"domain\":[0.0,0.26666666666666666],\"range\":[0.06348627340660729,1.0162251809238514],\"title\":{\"text\":\"length_scale\"}},\"xaxis8\":{\"anchor\":\"y8\",\"domain\":[0.35555555555555557,0.6444444444444445],\"range\":[-2.969377248340118,-0.7027308400356339],\"type\":\"log\",\"title\":{\"text\":\"learning_rate\"}},\"yaxis8\":{\"anchor\":\"x8\",\"domain\":[0.0,0.26666666666666666],\"matches\":\"y7\",\"showticklabels\":false,\"range\":[0.06348627340660729,1.0162251809238514]},\"xaxis9\":{\"anchor\":\"y9\",\"domain\":[0.7111111111111111,1.0],\"range\":[0.06348627340660729,1.0162251809238514],\"title\":{\"text\":\"length_scale\"}},\"yaxis9\":{\"anchor\":\"x9\",\"domain\":[0.0,0.26666666666666666],\"matches\":\"y7\",\"showticklabels\":false,\"range\":[0.06348627340660729,1.0162251809238514]},\"title\":{\"text\":\"Contour Plot\"}},                        {\"responsive\": true}                    ).then(function(){\n",
              "                            \n",
              "var gd = document.getElementById('adcd6d33-278d-4e91-9161-0d31bf554aa6');\n",
              "var x = new MutationObserver(function (mutations, observer) {{\n",
              "        var display = window.getComputedStyle(gd).display;\n",
              "        if (!display || display === 'none') {{\n",
              "            console.log([gd, 'removed!']);\n",
              "            Plotly.purge(gd);\n",
              "            observer.disconnect();\n",
              "        }}\n",
              "}});\n",
              "\n",
              "// Listen for the removal of the full notebook cells\n",
              "var notebookContainer = gd.closest('#notebook-container');\n",
              "if (notebookContainer) {{\n",
              "    x.observe(notebookContainer, {childList: true});\n",
              "}}\n",
              "\n",
              "// Listen for the clearing of the current output cell\n",
              "var outputEl = gd.closest('.output');\n",
              "if (outputEl) {{\n",
              "    x.observe(outputEl, {childList: true});\n",
              "}}\n",
              "\n",
              "                        })                };                            </script>        </div>\n",
              "</body>\n",
              "</html>"
            ]
          },
          "metadata": {}
        }
      ]
    },
    {
      "cell_type": "code",
      "source": [
        "plot_slice(study)"
      ],
      "metadata": {
        "id": "KsVqwOSM9BvF",
        "colab": {
          "base_uri": "https://localhost:8080/",
          "height": 542
        },
        "outputId": "d0ac3f20-3b64-445c-b8cd-436ed2abcb42"
      },
      "execution_count": null,
      "outputs": [
        {
          "output_type": "display_data",
          "data": {
            "text/html": [
              "<html>\n",
              "<head><meta charset=\"utf-8\" /></head>\n",
              "<body>\n",
              "    <div>            <script src=\"https://cdnjs.cloudflare.com/ajax/libs/mathjax/2.7.5/MathJax.js?config=TeX-AMS-MML_SVG\"></script><script type=\"text/javascript\">if (window.MathJax) {MathJax.Hub.Config({SVG: {font: \"STIX-Web\"}});}</script>                <script type=\"text/javascript\">window.PlotlyConfig = {MathJaxConfig: 'local'};</script>\n",
              "        <script src=\"https://cdn.plot.ly/plotly-2.8.3.min.js\"></script>                <div id=\"2b8b4dd9-7983-4cb1-87e3-a26f4d11976a\" class=\"plotly-graph-div\" style=\"height:525px; width:100%;\"></div>            <script type=\"text/javascript\">                                    window.PLOTLYENV=window.PLOTLYENV || {};                                    if (document.getElementById(\"2b8b4dd9-7983-4cb1-87e3-a26f4d11976a\")) {                    Plotly.newPlot(                        \"2b8b4dd9-7983-4cb1-87e3-a26f4d11976a\",                        [{\"marker\":{\"color\":[0,1,2,3,4,6,10],\"colorbar\":{\"title\":{\"text\":\"#Trials\"},\"x\":1.0,\"xpad\":40},\"colorscale\":[[0.0,\"rgb(247,251,255)\"],[0.125,\"rgb(222,235,247)\"],[0.25,\"rgb(198,219,239)\"],[0.375,\"rgb(158,202,225)\"],[0.5,\"rgb(107,174,214)\"],[0.625,\"rgb(66,146,198)\"],[0.75,\"rgb(33,113,181)\"],[0.875,\"rgb(8,81,156)\"],[1.0,\"rgb(8,48,107)\"]],\"line\":{\"color\":\"Grey\",\"width\":0.5},\"showscale\":true},\"mode\":\"markers\",\"showlegend\":false,\"x\":[0.9507143064099162,0.15601864044243652,0.8661761457749352,0.020584494295802447,0.21233911067827616,0.2912291401980419,0.005997182955817026],\"y\":[0.191987441987442,0.9201474201474201,0.18898443898443898,0.18802893802893803,0.9185776685776685,0.19226044226044225,0.9017199017199017],\"type\":\"scatter\",\"xaxis\":\"x\",\"yaxis\":\"y\"},{\"marker\":{\"color\":[0,1,2,3,4,6,10],\"colorbar\":{\"title\":{\"text\":\"#Trials\"},\"x\":1.0,\"xpad\":40},\"colorscale\":[[0.0,\"rgb(247,251,255)\"],[0.125,\"rgb(222,235,247)\"],[0.25,\"rgb(198,219,239)\"],[0.375,\"rgb(158,202,225)\"],[0.5,\"rgb(107,174,214)\"],[0.625,\"rgb(66,146,198)\"],[0.75,\"rgb(33,113,181)\"],[0.875,\"rgb(8,81,156)\"],[1.0,\"rgb(8,48,107)\"]],\"line\":{\"color\":\"Grey\",\"width\":0.5},\"showscale\":false},\"mode\":\"markers\",\"showlegend\":false,\"x\":[0.00727491708802781,0.02385234757844707,0.001360354613611808,0.04258888210290081,0.0823143373099555,0.009860942908083906,0.15640109083649653],\"y\":[0.191987441987442,0.9201474201474201,0.18898443898443898,0.18802893802893803,0.9185776685776685,0.19226044226044225,0.9017199017199017],\"type\":\"scatter\",\"xaxis\":\"x2\",\"yaxis\":\"y2\"},{\"marker\":{\"color\":[0,1,2,3,4,6,10],\"colorbar\":{\"title\":{\"text\":\"#Trials\"},\"x\":1.0,\"xpad\":40},\"colorscale\":[[0.0,\"rgb(247,251,255)\"],[0.125,\"rgb(222,235,247)\"],[0.25,\"rgb(198,219,239)\"],[0.375,\"rgb(158,202,225)\"],[0.5,\"rgb(107,174,214)\"],[0.625,\"rgb(66,146,198)\"],[0.75,\"rgb(33,113,181)\"],[0.875,\"rgb(8,81,156)\"],[1.0,\"rgb(8,48,107)\"]],\"line\":{\"color\":\"Grey\",\"width\":0.5},\"showscale\":false},\"mode\":\"markers\",\"showlegend\":false,\"x\":[0.7587945476302645,0.2403950683025824,0.6410035105688879,0.9729188669457949,0.26364247048639056,0.6506676052501416,0.10679258738466385],\"y\":[0.191987441987442,0.9201474201474201,0.18898443898443898,0.18802893802893803,0.9185776685776685,0.19226044226044225,0.9017199017199017],\"type\":\"scatter\",\"xaxis\":\"x3\",\"yaxis\":\"y3\"}],                        {\"template\":{\"data\":{\"bar\":[{\"error_x\":{\"color\":\"#2a3f5f\"},\"error_y\":{\"color\":\"#2a3f5f\"},\"marker\":{\"line\":{\"color\":\"#E5ECF6\",\"width\":0.5},\"pattern\":{\"fillmode\":\"overlay\",\"size\":10,\"solidity\":0.2}},\"type\":\"bar\"}],\"barpolar\":[{\"marker\":{\"line\":{\"color\":\"#E5ECF6\",\"width\":0.5},\"pattern\":{\"fillmode\":\"overlay\",\"size\":10,\"solidity\":0.2}},\"type\":\"barpolar\"}],\"carpet\":[{\"aaxis\":{\"endlinecolor\":\"#2a3f5f\",\"gridcolor\":\"white\",\"linecolor\":\"white\",\"minorgridcolor\":\"white\",\"startlinecolor\":\"#2a3f5f\"},\"baxis\":{\"endlinecolor\":\"#2a3f5f\",\"gridcolor\":\"white\",\"linecolor\":\"white\",\"minorgridcolor\":\"white\",\"startlinecolor\":\"#2a3f5f\"},\"type\":\"carpet\"}],\"choropleth\":[{\"colorbar\":{\"outlinewidth\":0,\"ticks\":\"\"},\"type\":\"choropleth\"}],\"contour\":[{\"colorbar\":{\"outlinewidth\":0,\"ticks\":\"\"},\"colorscale\":[[0.0,\"#0d0887\"],[0.1111111111111111,\"#46039f\"],[0.2222222222222222,\"#7201a8\"],[0.3333333333333333,\"#9c179e\"],[0.4444444444444444,\"#bd3786\"],[0.5555555555555556,\"#d8576b\"],[0.6666666666666666,\"#ed7953\"],[0.7777777777777778,\"#fb9f3a\"],[0.8888888888888888,\"#fdca26\"],[1.0,\"#f0f921\"]],\"type\":\"contour\"}],\"contourcarpet\":[{\"colorbar\":{\"outlinewidth\":0,\"ticks\":\"\"},\"type\":\"contourcarpet\"}],\"heatmap\":[{\"colorbar\":{\"outlinewidth\":0,\"ticks\":\"\"},\"colorscale\":[[0.0,\"#0d0887\"],[0.1111111111111111,\"#46039f\"],[0.2222222222222222,\"#7201a8\"],[0.3333333333333333,\"#9c179e\"],[0.4444444444444444,\"#bd3786\"],[0.5555555555555556,\"#d8576b\"],[0.6666666666666666,\"#ed7953\"],[0.7777777777777778,\"#fb9f3a\"],[0.8888888888888888,\"#fdca26\"],[1.0,\"#f0f921\"]],\"type\":\"heatmap\"}],\"heatmapgl\":[{\"colorbar\":{\"outlinewidth\":0,\"ticks\":\"\"},\"colorscale\":[[0.0,\"#0d0887\"],[0.1111111111111111,\"#46039f\"],[0.2222222222222222,\"#7201a8\"],[0.3333333333333333,\"#9c179e\"],[0.4444444444444444,\"#bd3786\"],[0.5555555555555556,\"#d8576b\"],[0.6666666666666666,\"#ed7953\"],[0.7777777777777778,\"#fb9f3a\"],[0.8888888888888888,\"#fdca26\"],[1.0,\"#f0f921\"]],\"type\":\"heatmapgl\"}],\"histogram\":[{\"marker\":{\"pattern\":{\"fillmode\":\"overlay\",\"size\":10,\"solidity\":0.2}},\"type\":\"histogram\"}],\"histogram2d\":[{\"colorbar\":{\"outlinewidth\":0,\"ticks\":\"\"},\"colorscale\":[[0.0,\"#0d0887\"],[0.1111111111111111,\"#46039f\"],[0.2222222222222222,\"#7201a8\"],[0.3333333333333333,\"#9c179e\"],[0.4444444444444444,\"#bd3786\"],[0.5555555555555556,\"#d8576b\"],[0.6666666666666666,\"#ed7953\"],[0.7777777777777778,\"#fb9f3a\"],[0.8888888888888888,\"#fdca26\"],[1.0,\"#f0f921\"]],\"type\":\"histogram2d\"}],\"histogram2dcontour\":[{\"colorbar\":{\"outlinewidth\":0,\"ticks\":\"\"},\"colorscale\":[[0.0,\"#0d0887\"],[0.1111111111111111,\"#46039f\"],[0.2222222222222222,\"#7201a8\"],[0.3333333333333333,\"#9c179e\"],[0.4444444444444444,\"#bd3786\"],[0.5555555555555556,\"#d8576b\"],[0.6666666666666666,\"#ed7953\"],[0.7777777777777778,\"#fb9f3a\"],[0.8888888888888888,\"#fdca26\"],[1.0,\"#f0f921\"]],\"type\":\"histogram2dcontour\"}],\"mesh3d\":[{\"colorbar\":{\"outlinewidth\":0,\"ticks\":\"\"},\"type\":\"mesh3d\"}],\"parcoords\":[{\"line\":{\"colorbar\":{\"outlinewidth\":0,\"ticks\":\"\"}},\"type\":\"parcoords\"}],\"pie\":[{\"automargin\":true,\"type\":\"pie\"}],\"scatter\":[{\"marker\":{\"colorbar\":{\"outlinewidth\":0,\"ticks\":\"\"}},\"type\":\"scatter\"}],\"scatter3d\":[{\"line\":{\"colorbar\":{\"outlinewidth\":0,\"ticks\":\"\"}},\"marker\":{\"colorbar\":{\"outlinewidth\":0,\"ticks\":\"\"}},\"type\":\"scatter3d\"}],\"scattercarpet\":[{\"marker\":{\"colorbar\":{\"outlinewidth\":0,\"ticks\":\"\"}},\"type\":\"scattercarpet\"}],\"scattergeo\":[{\"marker\":{\"colorbar\":{\"outlinewidth\":0,\"ticks\":\"\"}},\"type\":\"scattergeo\"}],\"scattergl\":[{\"marker\":{\"colorbar\":{\"outlinewidth\":0,\"ticks\":\"\"}},\"type\":\"scattergl\"}],\"scattermapbox\":[{\"marker\":{\"colorbar\":{\"outlinewidth\":0,\"ticks\":\"\"}},\"type\":\"scattermapbox\"}],\"scatterpolar\":[{\"marker\":{\"colorbar\":{\"outlinewidth\":0,\"ticks\":\"\"}},\"type\":\"scatterpolar\"}],\"scatterpolargl\":[{\"marker\":{\"colorbar\":{\"outlinewidth\":0,\"ticks\":\"\"}},\"type\":\"scatterpolargl\"}],\"scatterternary\":[{\"marker\":{\"colorbar\":{\"outlinewidth\":0,\"ticks\":\"\"}},\"type\":\"scatterternary\"}],\"surface\":[{\"colorbar\":{\"outlinewidth\":0,\"ticks\":\"\"},\"colorscale\":[[0.0,\"#0d0887\"],[0.1111111111111111,\"#46039f\"],[0.2222222222222222,\"#7201a8\"],[0.3333333333333333,\"#9c179e\"],[0.4444444444444444,\"#bd3786\"],[0.5555555555555556,\"#d8576b\"],[0.6666666666666666,\"#ed7953\"],[0.7777777777777778,\"#fb9f3a\"],[0.8888888888888888,\"#fdca26\"],[1.0,\"#f0f921\"]],\"type\":\"surface\"}],\"table\":[{\"cells\":{\"fill\":{\"color\":\"#EBF0F8\"},\"line\":{\"color\":\"white\"}},\"header\":{\"fill\":{\"color\":\"#C8D4E3\"},\"line\":{\"color\":\"white\"}},\"type\":\"table\"}]},\"layout\":{\"annotationdefaults\":{\"arrowcolor\":\"#2a3f5f\",\"arrowhead\":0,\"arrowwidth\":1},\"autotypenumbers\":\"strict\",\"coloraxis\":{\"colorbar\":{\"outlinewidth\":0,\"ticks\":\"\"}},\"colorscale\":{\"diverging\":[[0,\"#8e0152\"],[0.1,\"#c51b7d\"],[0.2,\"#de77ae\"],[0.3,\"#f1b6da\"],[0.4,\"#fde0ef\"],[0.5,\"#f7f7f7\"],[0.6,\"#e6f5d0\"],[0.7,\"#b8e186\"],[0.8,\"#7fbc41\"],[0.9,\"#4d9221\"],[1,\"#276419\"]],\"sequential\":[[0.0,\"#0d0887\"],[0.1111111111111111,\"#46039f\"],[0.2222222222222222,\"#7201a8\"],[0.3333333333333333,\"#9c179e\"],[0.4444444444444444,\"#bd3786\"],[0.5555555555555556,\"#d8576b\"],[0.6666666666666666,\"#ed7953\"],[0.7777777777777778,\"#fb9f3a\"],[0.8888888888888888,\"#fdca26\"],[1.0,\"#f0f921\"]],\"sequentialminus\":[[0.0,\"#0d0887\"],[0.1111111111111111,\"#46039f\"],[0.2222222222222222,\"#7201a8\"],[0.3333333333333333,\"#9c179e\"],[0.4444444444444444,\"#bd3786\"],[0.5555555555555556,\"#d8576b\"],[0.6666666666666666,\"#ed7953\"],[0.7777777777777778,\"#fb9f3a\"],[0.8888888888888888,\"#fdca26\"],[1.0,\"#f0f921\"]]},\"colorway\":[\"#636efa\",\"#EF553B\",\"#00cc96\",\"#ab63fa\",\"#FFA15A\",\"#19d3f3\",\"#FF6692\",\"#B6E880\",\"#FF97FF\",\"#FECB52\"],\"font\":{\"color\":\"#2a3f5f\"},\"geo\":{\"bgcolor\":\"white\",\"lakecolor\":\"white\",\"landcolor\":\"#E5ECF6\",\"showlakes\":true,\"showland\":true,\"subunitcolor\":\"white\"},\"hoverlabel\":{\"align\":\"left\"},\"hovermode\":\"closest\",\"mapbox\":{\"style\":\"light\"},\"paper_bgcolor\":\"white\",\"plot_bgcolor\":\"#E5ECF6\",\"polar\":{\"angularaxis\":{\"gridcolor\":\"white\",\"linecolor\":\"white\",\"ticks\":\"\"},\"bgcolor\":\"#E5ECF6\",\"radialaxis\":{\"gridcolor\":\"white\",\"linecolor\":\"white\",\"ticks\":\"\"}},\"scene\":{\"xaxis\":{\"backgroundcolor\":\"#E5ECF6\",\"gridcolor\":\"white\",\"gridwidth\":2,\"linecolor\":\"white\",\"showbackground\":true,\"ticks\":\"\",\"zerolinecolor\":\"white\"},\"yaxis\":{\"backgroundcolor\":\"#E5ECF6\",\"gridcolor\":\"white\",\"gridwidth\":2,\"linecolor\":\"white\",\"showbackground\":true,\"ticks\":\"\",\"zerolinecolor\":\"white\"},\"zaxis\":{\"backgroundcolor\":\"#E5ECF6\",\"gridcolor\":\"white\",\"gridwidth\":2,\"linecolor\":\"white\",\"showbackground\":true,\"ticks\":\"\",\"zerolinecolor\":\"white\"}},\"shapedefaults\":{\"line\":{\"color\":\"#2a3f5f\"}},\"ternary\":{\"aaxis\":{\"gridcolor\":\"white\",\"linecolor\":\"white\",\"ticks\":\"\"},\"baxis\":{\"gridcolor\":\"white\",\"linecolor\":\"white\",\"ticks\":\"\"},\"bgcolor\":\"#E5ECF6\",\"caxis\":{\"gridcolor\":\"white\",\"linecolor\":\"white\",\"ticks\":\"\"}},\"title\":{\"x\":0.05},\"xaxis\":{\"automargin\":true,\"gridcolor\":\"white\",\"linecolor\":\"white\",\"ticks\":\"\",\"title\":{\"standoff\":15},\"zerolinecolor\":\"white\",\"zerolinewidth\":2},\"yaxis\":{\"automargin\":true,\"gridcolor\":\"white\",\"linecolor\":\"white\",\"ticks\":\"\",\"title\":{\"standoff\":15},\"zerolinecolor\":\"white\",\"zerolinewidth\":2}}},\"xaxis\":{\"anchor\":\"y\",\"domain\":[0.0,0.2888888888888889],\"title\":{\"text\":\"lambda\"}},\"yaxis\":{\"anchor\":\"x\",\"domain\":[0.0,1.0],\"title\":{\"text\":\"Objective Value\"}},\"xaxis2\":{\"anchor\":\"y2\",\"domain\":[0.35555555555555557,0.6444444444444445],\"title\":{\"text\":\"learning_rate\"},\"type\":\"log\"},\"yaxis2\":{\"anchor\":\"x2\",\"domain\":[0.0,1.0],\"matches\":\"y\",\"showticklabels\":false},\"xaxis3\":{\"anchor\":\"y3\",\"domain\":[0.7111111111111111,1.0],\"title\":{\"text\":\"length_scale\"}},\"yaxis3\":{\"anchor\":\"x3\",\"domain\":[0.0,1.0],\"matches\":\"y\",\"showticklabels\":false},\"title\":{\"text\":\"Slice Plot\"}},                        {\"responsive\": true}                    ).then(function(){\n",
              "                            \n",
              "var gd = document.getElementById('2b8b4dd9-7983-4cb1-87e3-a26f4d11976a');\n",
              "var x = new MutationObserver(function (mutations, observer) {{\n",
              "        var display = window.getComputedStyle(gd).display;\n",
              "        if (!display || display === 'none') {{\n",
              "            console.log([gd, 'removed!']);\n",
              "            Plotly.purge(gd);\n",
              "            observer.disconnect();\n",
              "        }}\n",
              "}});\n",
              "\n",
              "// Listen for the removal of the full notebook cells\n",
              "var notebookContainer = gd.closest('#notebook-container');\n",
              "if (notebookContainer) {{\n",
              "    x.observe(notebookContainer, {childList: true});\n",
              "}}\n",
              "\n",
              "// Listen for the clearing of the current output cell\n",
              "var outputEl = gd.closest('.output');\n",
              "if (outputEl) {{\n",
              "    x.observe(outputEl, {childList: true});\n",
              "}}\n",
              "\n",
              "                        })                };                            </script>        </div>\n",
              "</body>\n",
              "</html>"
            ]
          },
          "metadata": {}
        }
      ]
    },
    {
      "cell_type": "code",
      "source": [
        "plot_param_importances(study)"
      ],
      "metadata": {
        "id": "G4X7gFvd9Dnv",
        "colab": {
          "base_uri": "https://localhost:8080/",
          "height": 542
        },
        "outputId": "2b773be7-8d74-49b8-ec9a-97caa81d253b"
      },
      "execution_count": null,
      "outputs": [
        {
          "output_type": "display_data",
          "data": {
            "text/html": [
              "<html>\n",
              "<head><meta charset=\"utf-8\" /></head>\n",
              "<body>\n",
              "    <div>            <script src=\"https://cdnjs.cloudflare.com/ajax/libs/mathjax/2.7.5/MathJax.js?config=TeX-AMS-MML_SVG\"></script><script type=\"text/javascript\">if (window.MathJax) {MathJax.Hub.Config({SVG: {font: \"STIX-Web\"}});}</script>                <script type=\"text/javascript\">window.PlotlyConfig = {MathJaxConfig: 'local'};</script>\n",
              "        <script src=\"https://cdn.plot.ly/plotly-2.8.3.min.js\"></script>                <div id=\"aba53c49-0389-420b-b1eb-4138b1120b2e\" class=\"plotly-graph-div\" style=\"height:525px; width:100%;\"></div>            <script type=\"text/javascript\">                                    window.PLOTLYENV=window.PLOTLYENV || {};                                    if (document.getElementById(\"aba53c49-0389-420b-b1eb-4138b1120b2e\")) {                    Plotly.newPlot(                        \"aba53c49-0389-420b-b1eb-4138b1120b2e\",                        [{\"cliponaxis\":false,\"hovertemplate\":[\"lambda (UniformDistribution): 0.10167542106041837<extra></extra>\",\"learning_rate (LogUniformDistribution): 0.299278924993631<extra></extra>\",\"length_scale (UniformDistribution): 0.5990456539459506<extra></extra>\"],\"marker\":{\"color\":\"rgb(66,146,198)\"},\"orientation\":\"h\",\"text\":[\"0.10167542106041837\",\"0.299278924993631\",\"0.5990456539459506\"],\"textposition\":\"outside\",\"texttemplate\":\"%{text:.2f}\",\"x\":[0.10167542106041837,0.299278924993631,0.5990456539459506],\"y\":[\"lambda\",\"learning_rate\",\"length_scale\"],\"type\":\"bar\"}],                        {\"showlegend\":false,\"title\":{\"text\":\"Hyperparameter Importances\"},\"xaxis\":{\"title\":{\"text\":\"Importance for Objective Value\"}},\"yaxis\":{\"title\":{\"text\":\"Hyperparameter\"}},\"template\":{\"data\":{\"bar\":[{\"error_x\":{\"color\":\"#2a3f5f\"},\"error_y\":{\"color\":\"#2a3f5f\"},\"marker\":{\"line\":{\"color\":\"#E5ECF6\",\"width\":0.5},\"pattern\":{\"fillmode\":\"overlay\",\"size\":10,\"solidity\":0.2}},\"type\":\"bar\"}],\"barpolar\":[{\"marker\":{\"line\":{\"color\":\"#E5ECF6\",\"width\":0.5},\"pattern\":{\"fillmode\":\"overlay\",\"size\":10,\"solidity\":0.2}},\"type\":\"barpolar\"}],\"carpet\":[{\"aaxis\":{\"endlinecolor\":\"#2a3f5f\",\"gridcolor\":\"white\",\"linecolor\":\"white\",\"minorgridcolor\":\"white\",\"startlinecolor\":\"#2a3f5f\"},\"baxis\":{\"endlinecolor\":\"#2a3f5f\",\"gridcolor\":\"white\",\"linecolor\":\"white\",\"minorgridcolor\":\"white\",\"startlinecolor\":\"#2a3f5f\"},\"type\":\"carpet\"}],\"choropleth\":[{\"colorbar\":{\"outlinewidth\":0,\"ticks\":\"\"},\"type\":\"choropleth\"}],\"contour\":[{\"colorbar\":{\"outlinewidth\":0,\"ticks\":\"\"},\"colorscale\":[[0.0,\"#0d0887\"],[0.1111111111111111,\"#46039f\"],[0.2222222222222222,\"#7201a8\"],[0.3333333333333333,\"#9c179e\"],[0.4444444444444444,\"#bd3786\"],[0.5555555555555556,\"#d8576b\"],[0.6666666666666666,\"#ed7953\"],[0.7777777777777778,\"#fb9f3a\"],[0.8888888888888888,\"#fdca26\"],[1.0,\"#f0f921\"]],\"type\":\"contour\"}],\"contourcarpet\":[{\"colorbar\":{\"outlinewidth\":0,\"ticks\":\"\"},\"type\":\"contourcarpet\"}],\"heatmap\":[{\"colorbar\":{\"outlinewidth\":0,\"ticks\":\"\"},\"colorscale\":[[0.0,\"#0d0887\"],[0.1111111111111111,\"#46039f\"],[0.2222222222222222,\"#7201a8\"],[0.3333333333333333,\"#9c179e\"],[0.4444444444444444,\"#bd3786\"],[0.5555555555555556,\"#d8576b\"],[0.6666666666666666,\"#ed7953\"],[0.7777777777777778,\"#fb9f3a\"],[0.8888888888888888,\"#fdca26\"],[1.0,\"#f0f921\"]],\"type\":\"heatmap\"}],\"heatmapgl\":[{\"colorbar\":{\"outlinewidth\":0,\"ticks\":\"\"},\"colorscale\":[[0.0,\"#0d0887\"],[0.1111111111111111,\"#46039f\"],[0.2222222222222222,\"#7201a8\"],[0.3333333333333333,\"#9c179e\"],[0.4444444444444444,\"#bd3786\"],[0.5555555555555556,\"#d8576b\"],[0.6666666666666666,\"#ed7953\"],[0.7777777777777778,\"#fb9f3a\"],[0.8888888888888888,\"#fdca26\"],[1.0,\"#f0f921\"]],\"type\":\"heatmapgl\"}],\"histogram\":[{\"marker\":{\"pattern\":{\"fillmode\":\"overlay\",\"size\":10,\"solidity\":0.2}},\"type\":\"histogram\"}],\"histogram2d\":[{\"colorbar\":{\"outlinewidth\":0,\"ticks\":\"\"},\"colorscale\":[[0.0,\"#0d0887\"],[0.1111111111111111,\"#46039f\"],[0.2222222222222222,\"#7201a8\"],[0.3333333333333333,\"#9c179e\"],[0.4444444444444444,\"#bd3786\"],[0.5555555555555556,\"#d8576b\"],[0.6666666666666666,\"#ed7953\"],[0.7777777777777778,\"#fb9f3a\"],[0.8888888888888888,\"#fdca26\"],[1.0,\"#f0f921\"]],\"type\":\"histogram2d\"}],\"histogram2dcontour\":[{\"colorbar\":{\"outlinewidth\":0,\"ticks\":\"\"},\"colorscale\":[[0.0,\"#0d0887\"],[0.1111111111111111,\"#46039f\"],[0.2222222222222222,\"#7201a8\"],[0.3333333333333333,\"#9c179e\"],[0.4444444444444444,\"#bd3786\"],[0.5555555555555556,\"#d8576b\"],[0.6666666666666666,\"#ed7953\"],[0.7777777777777778,\"#fb9f3a\"],[0.8888888888888888,\"#fdca26\"],[1.0,\"#f0f921\"]],\"type\":\"histogram2dcontour\"}],\"mesh3d\":[{\"colorbar\":{\"outlinewidth\":0,\"ticks\":\"\"},\"type\":\"mesh3d\"}],\"parcoords\":[{\"line\":{\"colorbar\":{\"outlinewidth\":0,\"ticks\":\"\"}},\"type\":\"parcoords\"}],\"pie\":[{\"automargin\":true,\"type\":\"pie\"}],\"scatter\":[{\"marker\":{\"colorbar\":{\"outlinewidth\":0,\"ticks\":\"\"}},\"type\":\"scatter\"}],\"scatter3d\":[{\"line\":{\"colorbar\":{\"outlinewidth\":0,\"ticks\":\"\"}},\"marker\":{\"colorbar\":{\"outlinewidth\":0,\"ticks\":\"\"}},\"type\":\"scatter3d\"}],\"scattercarpet\":[{\"marker\":{\"colorbar\":{\"outlinewidth\":0,\"ticks\":\"\"}},\"type\":\"scattercarpet\"}],\"scattergeo\":[{\"marker\":{\"colorbar\":{\"outlinewidth\":0,\"ticks\":\"\"}},\"type\":\"scattergeo\"}],\"scattergl\":[{\"marker\":{\"colorbar\":{\"outlinewidth\":0,\"ticks\":\"\"}},\"type\":\"scattergl\"}],\"scattermapbox\":[{\"marker\":{\"colorbar\":{\"outlinewidth\":0,\"ticks\":\"\"}},\"type\":\"scattermapbox\"}],\"scatterpolar\":[{\"marker\":{\"colorbar\":{\"outlinewidth\":0,\"ticks\":\"\"}},\"type\":\"scatterpolar\"}],\"scatterpolargl\":[{\"marker\":{\"colorbar\":{\"outlinewidth\":0,\"ticks\":\"\"}},\"type\":\"scatterpolargl\"}],\"scatterternary\":[{\"marker\":{\"colorbar\":{\"outlinewidth\":0,\"ticks\":\"\"}},\"type\":\"scatterternary\"}],\"surface\":[{\"colorbar\":{\"outlinewidth\":0,\"ticks\":\"\"},\"colorscale\":[[0.0,\"#0d0887\"],[0.1111111111111111,\"#46039f\"],[0.2222222222222222,\"#7201a8\"],[0.3333333333333333,\"#9c179e\"],[0.4444444444444444,\"#bd3786\"],[0.5555555555555556,\"#d8576b\"],[0.6666666666666666,\"#ed7953\"],[0.7777777777777778,\"#fb9f3a\"],[0.8888888888888888,\"#fdca26\"],[1.0,\"#f0f921\"]],\"type\":\"surface\"}],\"table\":[{\"cells\":{\"fill\":{\"color\":\"#EBF0F8\"},\"line\":{\"color\":\"white\"}},\"header\":{\"fill\":{\"color\":\"#C8D4E3\"},\"line\":{\"color\":\"white\"}},\"type\":\"table\"}]},\"layout\":{\"annotationdefaults\":{\"arrowcolor\":\"#2a3f5f\",\"arrowhead\":0,\"arrowwidth\":1},\"autotypenumbers\":\"strict\",\"coloraxis\":{\"colorbar\":{\"outlinewidth\":0,\"ticks\":\"\"}},\"colorscale\":{\"diverging\":[[0,\"#8e0152\"],[0.1,\"#c51b7d\"],[0.2,\"#de77ae\"],[0.3,\"#f1b6da\"],[0.4,\"#fde0ef\"],[0.5,\"#f7f7f7\"],[0.6,\"#e6f5d0\"],[0.7,\"#b8e186\"],[0.8,\"#7fbc41\"],[0.9,\"#4d9221\"],[1,\"#276419\"]],\"sequential\":[[0.0,\"#0d0887\"],[0.1111111111111111,\"#46039f\"],[0.2222222222222222,\"#7201a8\"],[0.3333333333333333,\"#9c179e\"],[0.4444444444444444,\"#bd3786\"],[0.5555555555555556,\"#d8576b\"],[0.6666666666666666,\"#ed7953\"],[0.7777777777777778,\"#fb9f3a\"],[0.8888888888888888,\"#fdca26\"],[1.0,\"#f0f921\"]],\"sequentialminus\":[[0.0,\"#0d0887\"],[0.1111111111111111,\"#46039f\"],[0.2222222222222222,\"#7201a8\"],[0.3333333333333333,\"#9c179e\"],[0.4444444444444444,\"#bd3786\"],[0.5555555555555556,\"#d8576b\"],[0.6666666666666666,\"#ed7953\"],[0.7777777777777778,\"#fb9f3a\"],[0.8888888888888888,\"#fdca26\"],[1.0,\"#f0f921\"]]},\"colorway\":[\"#636efa\",\"#EF553B\",\"#00cc96\",\"#ab63fa\",\"#FFA15A\",\"#19d3f3\",\"#FF6692\",\"#B6E880\",\"#FF97FF\",\"#FECB52\"],\"font\":{\"color\":\"#2a3f5f\"},\"geo\":{\"bgcolor\":\"white\",\"lakecolor\":\"white\",\"landcolor\":\"#E5ECF6\",\"showlakes\":true,\"showland\":true,\"subunitcolor\":\"white\"},\"hoverlabel\":{\"align\":\"left\"},\"hovermode\":\"closest\",\"mapbox\":{\"style\":\"light\"},\"paper_bgcolor\":\"white\",\"plot_bgcolor\":\"#E5ECF6\",\"polar\":{\"angularaxis\":{\"gridcolor\":\"white\",\"linecolor\":\"white\",\"ticks\":\"\"},\"bgcolor\":\"#E5ECF6\",\"radialaxis\":{\"gridcolor\":\"white\",\"linecolor\":\"white\",\"ticks\":\"\"}},\"scene\":{\"xaxis\":{\"backgroundcolor\":\"#E5ECF6\",\"gridcolor\":\"white\",\"gridwidth\":2,\"linecolor\":\"white\",\"showbackground\":true,\"ticks\":\"\",\"zerolinecolor\":\"white\"},\"yaxis\":{\"backgroundcolor\":\"#E5ECF6\",\"gridcolor\":\"white\",\"gridwidth\":2,\"linecolor\":\"white\",\"showbackground\":true,\"ticks\":\"\",\"zerolinecolor\":\"white\"},\"zaxis\":{\"backgroundcolor\":\"#E5ECF6\",\"gridcolor\":\"white\",\"gridwidth\":2,\"linecolor\":\"white\",\"showbackground\":true,\"ticks\":\"\",\"zerolinecolor\":\"white\"}},\"shapedefaults\":{\"line\":{\"color\":\"#2a3f5f\"}},\"ternary\":{\"aaxis\":{\"gridcolor\":\"white\",\"linecolor\":\"white\",\"ticks\":\"\"},\"baxis\":{\"gridcolor\":\"white\",\"linecolor\":\"white\",\"ticks\":\"\"},\"bgcolor\":\"#E5ECF6\",\"caxis\":{\"gridcolor\":\"white\",\"linecolor\":\"white\",\"ticks\":\"\"}},\"title\":{\"x\":0.05},\"xaxis\":{\"automargin\":true,\"gridcolor\":\"white\",\"linecolor\":\"white\",\"ticks\":\"\",\"title\":{\"standoff\":15},\"zerolinecolor\":\"white\",\"zerolinewidth\":2},\"yaxis\":{\"automargin\":true,\"gridcolor\":\"white\",\"linecolor\":\"white\",\"ticks\":\"\",\"title\":{\"standoff\":15},\"zerolinecolor\":\"white\",\"zerolinewidth\":2}}}},                        {\"responsive\": true}                    ).then(function(){\n",
              "                            \n",
              "var gd = document.getElementById('aba53c49-0389-420b-b1eb-4138b1120b2e');\n",
              "var x = new MutationObserver(function (mutations, observer) {{\n",
              "        var display = window.getComputedStyle(gd).display;\n",
              "        if (!display || display === 'none') {{\n",
              "            console.log([gd, 'removed!']);\n",
              "            Plotly.purge(gd);\n",
              "            observer.disconnect();\n",
              "        }}\n",
              "}});\n",
              "\n",
              "// Listen for the removal of the full notebook cells\n",
              "var notebookContainer = gd.closest('#notebook-container');\n",
              "if (notebookContainer) {{\n",
              "    x.observe(notebookContainer, {childList: true});\n",
              "}}\n",
              "\n",
              "// Listen for the clearing of the current output cell\n",
              "var outputEl = gd.closest('.output');\n",
              "if (outputEl) {{\n",
              "    x.observe(outputEl, {childList: true});\n",
              "}}\n",
              "\n",
              "                        })                };                            </script>        </div>\n",
              "</body>\n",
              "</html>"
            ]
          },
          "metadata": {}
        }
      ]
    },
    {
      "cell_type": "code",
      "source": [
        "plot_edf(study)"
      ],
      "metadata": {
        "id": "nBgsTEAa9JN7",
        "colab": {
          "base_uri": "https://localhost:8080/",
          "height": 542
        },
        "outputId": "10bffae5-6305-4069-f5e7-956e2371b295"
      },
      "execution_count": null,
      "outputs": [
        {
          "output_type": "display_data",
          "data": {
            "text/html": [
              "<html>\n",
              "<head><meta charset=\"utf-8\" /></head>\n",
              "<body>\n",
              "    <div>            <script src=\"https://cdnjs.cloudflare.com/ajax/libs/mathjax/2.7.5/MathJax.js?config=TeX-AMS-MML_SVG\"></script><script type=\"text/javascript\">if (window.MathJax) {MathJax.Hub.Config({SVG: {font: \"STIX-Web\"}});}</script>                <script type=\"text/javascript\">window.PlotlyConfig = {MathJaxConfig: 'local'};</script>\n",
              "        <script src=\"https://cdn.plot.ly/plotly-2.8.3.min.js\"></script>                <div id=\"d7317219-762e-4e94-b422-1b0d084a6fed\" class=\"plotly-graph-div\" style=\"height:525px; width:100%;\"></div>            <script type=\"text/javascript\">                                    window.PLOTLYENV=window.PLOTLYENV || {};                                    if (document.getElementById(\"d7317219-762e-4e94-b422-1b0d084a6fed\")) {                    Plotly.newPlot(                        \"d7317219-762e-4e94-b422-1b0d084a6fed\",                        [{\"mode\":\"lines\",\"name\":\"no-name-d57eda6a-97b6-48d9-8594-09de5b6d05c4\",\"x\":[0.18802893802893803,0.19542407421195299,0.20281921039496797,0.21021434657798294,0.2176094827609979,0.22500461894401289,0.23239975512702785,0.23979489131004283,0.2471900274930578,0.25458516367607276,0.2619802998590877,0.2693754360421027,0.2767705722251177,0.28416570840813266,0.2915608445911476,0.2989559807741626,0.30635111695717754,0.31374625314019255,0.32114138932320746,0.3285365255062225,0.33593166168923744,0.3433267978722524,0.3507219340552674,0.3581170702382823,0.36551220642129734,0.3729073426043123,0.38030247878732726,0.3876976149703422,0.3950927511533572,0.4024878873363722,0.4098830235193871,0.4172781597024021,0.4246732958854171,0.43206843206843204,0.43946356825144706,0.44685870443446196,0.454253840617477,0.4616489768004919,0.4690441129835069,0.4764392491665219,0.4838343853495368,0.49122952153255184,0.49862465771556674,0.5060197938985818,0.5134149300815968,0.5208100662646117,0.5282052024476267,0.5356003386306416,0.5429954748136566,0.5503906109966715,0.5577857471796865,0.5651808833627016,0.5725760195457165,0.5799711557287315,0.5873662919117464,0.5947614280947614,0.6021565642777764,0.6095517004607913,0.6169468366438063,0.6243419728268212,0.6317371090098363,0.6391322451928512,0.6465273813758662,0.6539225175588812,0.6613176537418961,0.6687127899249111,0.676107926107926,0.683503062290941,0.6908981984739561,0.698293334656971,0.705688470839986,0.713083607023001,0.7204787432060159,0.7278738793890309,0.7352690155720458,0.7426641517550608,0.7500592879380759,0.7574544241210908,0.7648495603041058,0.7722446964871207,0.7796398326701357,0.7870349688531506,0.7944301050361656,0.8018252412191806,0.8092203774021955,0.8166155135852106,0.8240106497682255,0.8314057859512405,0.8388009221342555,0.8461960583172704,0.8535911945002854,0.8609863306833003,0.8683814668663153,0.8757766030493302,0.8831717392323453,0.8905668754153603,0.8979620115983752,0.9053571477813902,0.9127522839644051,0.9201474201474201],\"y\":[0.14285714285714285,0.5714285714285714,0.5714285714285714,0.5714285714285714,0.5714285714285714,0.5714285714285714,0.5714285714285714,0.5714285714285714,0.5714285714285714,0.5714285714285714,0.5714285714285714,0.5714285714285714,0.5714285714285714,0.5714285714285714,0.5714285714285714,0.5714285714285714,0.5714285714285714,0.5714285714285714,0.5714285714285714,0.5714285714285714,0.5714285714285714,0.5714285714285714,0.5714285714285714,0.5714285714285714,0.5714285714285714,0.5714285714285714,0.5714285714285714,0.5714285714285714,0.5714285714285714,0.5714285714285714,0.5714285714285714,0.5714285714285714,0.5714285714285714,0.5714285714285714,0.5714285714285714,0.5714285714285714,0.5714285714285714,0.5714285714285714,0.5714285714285714,0.5714285714285714,0.5714285714285714,0.5714285714285714,0.5714285714285714,0.5714285714285714,0.5714285714285714,0.5714285714285714,0.5714285714285714,0.5714285714285714,0.5714285714285714,0.5714285714285714,0.5714285714285714,0.5714285714285714,0.5714285714285714,0.5714285714285714,0.5714285714285714,0.5714285714285714,0.5714285714285714,0.5714285714285714,0.5714285714285714,0.5714285714285714,0.5714285714285714,0.5714285714285714,0.5714285714285714,0.5714285714285714,0.5714285714285714,0.5714285714285714,0.5714285714285714,0.5714285714285714,0.5714285714285714,0.5714285714285714,0.5714285714285714,0.5714285714285714,0.5714285714285714,0.5714285714285714,0.5714285714285714,0.5714285714285714,0.5714285714285714,0.5714285714285714,0.5714285714285714,0.5714285714285714,0.5714285714285714,0.5714285714285714,0.5714285714285714,0.5714285714285714,0.5714285714285714,0.5714285714285714,0.5714285714285714,0.5714285714285714,0.5714285714285714,0.5714285714285714,0.5714285714285714,0.5714285714285714,0.5714285714285714,0.5714285714285714,0.5714285714285714,0.5714285714285714,0.5714285714285714,0.7142857142857143,0.7142857142857143,1.0],\"type\":\"scatter\"}],                        {\"title\":{\"text\":\"Empirical Distribution Function Plot\"},\"xaxis\":{\"title\":{\"text\":\"Objective Value\"}},\"yaxis\":{\"title\":{\"text\":\"Cumulative Probability\"},\"range\":[0,1]},\"template\":{\"data\":{\"bar\":[{\"error_x\":{\"color\":\"#2a3f5f\"},\"error_y\":{\"color\":\"#2a3f5f\"},\"marker\":{\"line\":{\"color\":\"#E5ECF6\",\"width\":0.5},\"pattern\":{\"fillmode\":\"overlay\",\"size\":10,\"solidity\":0.2}},\"type\":\"bar\"}],\"barpolar\":[{\"marker\":{\"line\":{\"color\":\"#E5ECF6\",\"width\":0.5},\"pattern\":{\"fillmode\":\"overlay\",\"size\":10,\"solidity\":0.2}},\"type\":\"barpolar\"}],\"carpet\":[{\"aaxis\":{\"endlinecolor\":\"#2a3f5f\",\"gridcolor\":\"white\",\"linecolor\":\"white\",\"minorgridcolor\":\"white\",\"startlinecolor\":\"#2a3f5f\"},\"baxis\":{\"endlinecolor\":\"#2a3f5f\",\"gridcolor\":\"white\",\"linecolor\":\"white\",\"minorgridcolor\":\"white\",\"startlinecolor\":\"#2a3f5f\"},\"type\":\"carpet\"}],\"choropleth\":[{\"colorbar\":{\"outlinewidth\":0,\"ticks\":\"\"},\"type\":\"choropleth\"}],\"contour\":[{\"colorbar\":{\"outlinewidth\":0,\"ticks\":\"\"},\"colorscale\":[[0.0,\"#0d0887\"],[0.1111111111111111,\"#46039f\"],[0.2222222222222222,\"#7201a8\"],[0.3333333333333333,\"#9c179e\"],[0.4444444444444444,\"#bd3786\"],[0.5555555555555556,\"#d8576b\"],[0.6666666666666666,\"#ed7953\"],[0.7777777777777778,\"#fb9f3a\"],[0.8888888888888888,\"#fdca26\"],[1.0,\"#f0f921\"]],\"type\":\"contour\"}],\"contourcarpet\":[{\"colorbar\":{\"outlinewidth\":0,\"ticks\":\"\"},\"type\":\"contourcarpet\"}],\"heatmap\":[{\"colorbar\":{\"outlinewidth\":0,\"ticks\":\"\"},\"colorscale\":[[0.0,\"#0d0887\"],[0.1111111111111111,\"#46039f\"],[0.2222222222222222,\"#7201a8\"],[0.3333333333333333,\"#9c179e\"],[0.4444444444444444,\"#bd3786\"],[0.5555555555555556,\"#d8576b\"],[0.6666666666666666,\"#ed7953\"],[0.7777777777777778,\"#fb9f3a\"],[0.8888888888888888,\"#fdca26\"],[1.0,\"#f0f921\"]],\"type\":\"heatmap\"}],\"heatmapgl\":[{\"colorbar\":{\"outlinewidth\":0,\"ticks\":\"\"},\"colorscale\":[[0.0,\"#0d0887\"],[0.1111111111111111,\"#46039f\"],[0.2222222222222222,\"#7201a8\"],[0.3333333333333333,\"#9c179e\"],[0.4444444444444444,\"#bd3786\"],[0.5555555555555556,\"#d8576b\"],[0.6666666666666666,\"#ed7953\"],[0.7777777777777778,\"#fb9f3a\"],[0.8888888888888888,\"#fdca26\"],[1.0,\"#f0f921\"]],\"type\":\"heatmapgl\"}],\"histogram\":[{\"marker\":{\"pattern\":{\"fillmode\":\"overlay\",\"size\":10,\"solidity\":0.2}},\"type\":\"histogram\"}],\"histogram2d\":[{\"colorbar\":{\"outlinewidth\":0,\"ticks\":\"\"},\"colorscale\":[[0.0,\"#0d0887\"],[0.1111111111111111,\"#46039f\"],[0.2222222222222222,\"#7201a8\"],[0.3333333333333333,\"#9c179e\"],[0.4444444444444444,\"#bd3786\"],[0.5555555555555556,\"#d8576b\"],[0.6666666666666666,\"#ed7953\"],[0.7777777777777778,\"#fb9f3a\"],[0.8888888888888888,\"#fdca26\"],[1.0,\"#f0f921\"]],\"type\":\"histogram2d\"}],\"histogram2dcontour\":[{\"colorbar\":{\"outlinewidth\":0,\"ticks\":\"\"},\"colorscale\":[[0.0,\"#0d0887\"],[0.1111111111111111,\"#46039f\"],[0.2222222222222222,\"#7201a8\"],[0.3333333333333333,\"#9c179e\"],[0.4444444444444444,\"#bd3786\"],[0.5555555555555556,\"#d8576b\"],[0.6666666666666666,\"#ed7953\"],[0.7777777777777778,\"#fb9f3a\"],[0.8888888888888888,\"#fdca26\"],[1.0,\"#f0f921\"]],\"type\":\"histogram2dcontour\"}],\"mesh3d\":[{\"colorbar\":{\"outlinewidth\":0,\"ticks\":\"\"},\"type\":\"mesh3d\"}],\"parcoords\":[{\"line\":{\"colorbar\":{\"outlinewidth\":0,\"ticks\":\"\"}},\"type\":\"parcoords\"}],\"pie\":[{\"automargin\":true,\"type\":\"pie\"}],\"scatter\":[{\"marker\":{\"colorbar\":{\"outlinewidth\":0,\"ticks\":\"\"}},\"type\":\"scatter\"}],\"scatter3d\":[{\"line\":{\"colorbar\":{\"outlinewidth\":0,\"ticks\":\"\"}},\"marker\":{\"colorbar\":{\"outlinewidth\":0,\"ticks\":\"\"}},\"type\":\"scatter3d\"}],\"scattercarpet\":[{\"marker\":{\"colorbar\":{\"outlinewidth\":0,\"ticks\":\"\"}},\"type\":\"scattercarpet\"}],\"scattergeo\":[{\"marker\":{\"colorbar\":{\"outlinewidth\":0,\"ticks\":\"\"}},\"type\":\"scattergeo\"}],\"scattergl\":[{\"marker\":{\"colorbar\":{\"outlinewidth\":0,\"ticks\":\"\"}},\"type\":\"scattergl\"}],\"scattermapbox\":[{\"marker\":{\"colorbar\":{\"outlinewidth\":0,\"ticks\":\"\"}},\"type\":\"scattermapbox\"}],\"scatterpolar\":[{\"marker\":{\"colorbar\":{\"outlinewidth\":0,\"ticks\":\"\"}},\"type\":\"scatterpolar\"}],\"scatterpolargl\":[{\"marker\":{\"colorbar\":{\"outlinewidth\":0,\"ticks\":\"\"}},\"type\":\"scatterpolargl\"}],\"scatterternary\":[{\"marker\":{\"colorbar\":{\"outlinewidth\":0,\"ticks\":\"\"}},\"type\":\"scatterternary\"}],\"surface\":[{\"colorbar\":{\"outlinewidth\":0,\"ticks\":\"\"},\"colorscale\":[[0.0,\"#0d0887\"],[0.1111111111111111,\"#46039f\"],[0.2222222222222222,\"#7201a8\"],[0.3333333333333333,\"#9c179e\"],[0.4444444444444444,\"#bd3786\"],[0.5555555555555556,\"#d8576b\"],[0.6666666666666666,\"#ed7953\"],[0.7777777777777778,\"#fb9f3a\"],[0.8888888888888888,\"#fdca26\"],[1.0,\"#f0f921\"]],\"type\":\"surface\"}],\"table\":[{\"cells\":{\"fill\":{\"color\":\"#EBF0F8\"},\"line\":{\"color\":\"white\"}},\"header\":{\"fill\":{\"color\":\"#C8D4E3\"},\"line\":{\"color\":\"white\"}},\"type\":\"table\"}]},\"layout\":{\"annotationdefaults\":{\"arrowcolor\":\"#2a3f5f\",\"arrowhead\":0,\"arrowwidth\":1},\"autotypenumbers\":\"strict\",\"coloraxis\":{\"colorbar\":{\"outlinewidth\":0,\"ticks\":\"\"}},\"colorscale\":{\"diverging\":[[0,\"#8e0152\"],[0.1,\"#c51b7d\"],[0.2,\"#de77ae\"],[0.3,\"#f1b6da\"],[0.4,\"#fde0ef\"],[0.5,\"#f7f7f7\"],[0.6,\"#e6f5d0\"],[0.7,\"#b8e186\"],[0.8,\"#7fbc41\"],[0.9,\"#4d9221\"],[1,\"#276419\"]],\"sequential\":[[0.0,\"#0d0887\"],[0.1111111111111111,\"#46039f\"],[0.2222222222222222,\"#7201a8\"],[0.3333333333333333,\"#9c179e\"],[0.4444444444444444,\"#bd3786\"],[0.5555555555555556,\"#d8576b\"],[0.6666666666666666,\"#ed7953\"],[0.7777777777777778,\"#fb9f3a\"],[0.8888888888888888,\"#fdca26\"],[1.0,\"#f0f921\"]],\"sequentialminus\":[[0.0,\"#0d0887\"],[0.1111111111111111,\"#46039f\"],[0.2222222222222222,\"#7201a8\"],[0.3333333333333333,\"#9c179e\"],[0.4444444444444444,\"#bd3786\"],[0.5555555555555556,\"#d8576b\"],[0.6666666666666666,\"#ed7953\"],[0.7777777777777778,\"#fb9f3a\"],[0.8888888888888888,\"#fdca26\"],[1.0,\"#f0f921\"]]},\"colorway\":[\"#636efa\",\"#EF553B\",\"#00cc96\",\"#ab63fa\",\"#FFA15A\",\"#19d3f3\",\"#FF6692\",\"#B6E880\",\"#FF97FF\",\"#FECB52\"],\"font\":{\"color\":\"#2a3f5f\"},\"geo\":{\"bgcolor\":\"white\",\"lakecolor\":\"white\",\"landcolor\":\"#E5ECF6\",\"showlakes\":true,\"showland\":true,\"subunitcolor\":\"white\"},\"hoverlabel\":{\"align\":\"left\"},\"hovermode\":\"closest\",\"mapbox\":{\"style\":\"light\"},\"paper_bgcolor\":\"white\",\"plot_bgcolor\":\"#E5ECF6\",\"polar\":{\"angularaxis\":{\"gridcolor\":\"white\",\"linecolor\":\"white\",\"ticks\":\"\"},\"bgcolor\":\"#E5ECF6\",\"radialaxis\":{\"gridcolor\":\"white\",\"linecolor\":\"white\",\"ticks\":\"\"}},\"scene\":{\"xaxis\":{\"backgroundcolor\":\"#E5ECF6\",\"gridcolor\":\"white\",\"gridwidth\":2,\"linecolor\":\"white\",\"showbackground\":true,\"ticks\":\"\",\"zerolinecolor\":\"white\"},\"yaxis\":{\"backgroundcolor\":\"#E5ECF6\",\"gridcolor\":\"white\",\"gridwidth\":2,\"linecolor\":\"white\",\"showbackground\":true,\"ticks\":\"\",\"zerolinecolor\":\"white\"},\"zaxis\":{\"backgroundcolor\":\"#E5ECF6\",\"gridcolor\":\"white\",\"gridwidth\":2,\"linecolor\":\"white\",\"showbackground\":true,\"ticks\":\"\",\"zerolinecolor\":\"white\"}},\"shapedefaults\":{\"line\":{\"color\":\"#2a3f5f\"}},\"ternary\":{\"aaxis\":{\"gridcolor\":\"white\",\"linecolor\":\"white\",\"ticks\":\"\"},\"baxis\":{\"gridcolor\":\"white\",\"linecolor\":\"white\",\"ticks\":\"\"},\"bgcolor\":\"#E5ECF6\",\"caxis\":{\"gridcolor\":\"white\",\"linecolor\":\"white\",\"ticks\":\"\"}},\"title\":{\"x\":0.05},\"xaxis\":{\"automargin\":true,\"gridcolor\":\"white\",\"linecolor\":\"white\",\"ticks\":\"\",\"title\":{\"standoff\":15},\"zerolinecolor\":\"white\",\"zerolinewidth\":2},\"yaxis\":{\"automargin\":true,\"gridcolor\":\"white\",\"linecolor\":\"white\",\"ticks\":\"\",\"title\":{\"standoff\":15},\"zerolinecolor\":\"white\",\"zerolinewidth\":2}}}},                        {\"responsive\": true}                    ).then(function(){\n",
              "                            \n",
              "var gd = document.getElementById('d7317219-762e-4e94-b422-1b0d084a6fed');\n",
              "var x = new MutationObserver(function (mutations, observer) {{\n",
              "        var display = window.getComputedStyle(gd).display;\n",
              "        if (!display || display === 'none') {{\n",
              "            console.log([gd, 'removed!']);\n",
              "            Plotly.purge(gd);\n",
              "            observer.disconnect();\n",
              "        }}\n",
              "}});\n",
              "\n",
              "// Listen for the removal of the full notebook cells\n",
              "var notebookContainer = gd.closest('#notebook-container');\n",
              "if (notebookContainer) {{\n",
              "    x.observe(notebookContainer, {childList: true});\n",
              "}}\n",
              "\n",
              "// Listen for the clearing of the current output cell\n",
              "var outputEl = gd.closest('.output');\n",
              "if (outputEl) {{\n",
              "    x.observe(outputEl, {childList: true});\n",
              "}}\n",
              "\n",
              "                        })                };                            </script>        </div>\n",
              "</body>\n",
              "</html>"
            ]
          },
          "metadata": {}
        }
      ]
    },
    {
      "cell_type": "markdown",
      "source": [
        "Trial 1 finished with value: 0.9201474201474201 and parameters: {'learning_rate': 0.02385234757844707, 'lambda': 0.15601864044243652, 'length_scale': 0.2403950683025824}."
      ],
      "metadata": {
        "id": "imFr8HKzL5iT"
      }
    },
    {
      "cell_type": "code",
      "source": [
        "train_dataset = datasets.LFWPeople(\n",
        "        \"./\" + \"data/LFWPeople\", split=\"train\", transform=transforms.Compose(\n",
        "        [transforms.ToTensor(), transforms.Normalize((0.5, 0.5, 0.5), (0.5, 0.5, 0.5))]) ,download=True)\n",
        "for batch in train_dataset:\n",
        "    print(batch[0].size())"
      ],
      "metadata": {
        "colab": {
          "base_uri": "https://localhost:8080/",
          "height": 1000
        },
        "id": "tORb_eyxUsxb",
        "outputId": "15eb95f0-f505-453a-9881-3f1fc87df981"
      },
      "execution_count": null,
      "outputs": [
        {
          "output_type": "stream",
          "name": "stdout",
          "text": [
            "Files already downloaded and verified\n",
            "torch.Size([3, 250, 250])\n",
            "torch.Size([3, 250, 250])\n",
            "torch.Size([3, 250, 250])\n",
            "torch.Size([3, 250, 250])\n",
            "torch.Size([3, 250, 250])\n",
            "torch.Size([3, 250, 250])\n",
            "torch.Size([3, 250, 250])\n",
            "torch.Size([3, 250, 250])\n",
            "torch.Size([3, 250, 250])\n",
            "torch.Size([3, 250, 250])\n",
            "torch.Size([3, 250, 250])\n",
            "torch.Size([3, 250, 250])\n",
            "torch.Size([3, 250, 250])\n",
            "torch.Size([3, 250, 250])\n",
            "torch.Size([3, 250, 250])\n",
            "torch.Size([3, 250, 250])\n",
            "torch.Size([3, 250, 250])\n",
            "torch.Size([3, 250, 250])\n",
            "torch.Size([3, 250, 250])\n",
            "torch.Size([3, 250, 250])\n",
            "torch.Size([3, 250, 250])\n",
            "torch.Size([3, 250, 250])\n",
            "torch.Size([3, 250, 250])\n",
            "torch.Size([3, 250, 250])\n",
            "torch.Size([3, 250, 250])\n",
            "torch.Size([3, 250, 250])\n",
            "torch.Size([3, 250, 250])\n",
            "torch.Size([3, 250, 250])\n",
            "torch.Size([3, 250, 250])\n",
            "torch.Size([3, 250, 250])\n",
            "torch.Size([3, 250, 250])\n",
            "torch.Size([3, 250, 250])\n",
            "torch.Size([3, 250, 250])\n",
            "torch.Size([3, 250, 250])\n",
            "torch.Size([3, 250, 250])\n",
            "torch.Size([3, 250, 250])\n",
            "torch.Size([3, 250, 250])\n",
            "torch.Size([3, 250, 250])\n",
            "torch.Size([3, 250, 250])\n",
            "torch.Size([3, 250, 250])\n",
            "torch.Size([3, 250, 250])\n",
            "torch.Size([3, 250, 250])\n",
            "torch.Size([3, 250, 250])\n",
            "torch.Size([3, 250, 250])\n",
            "torch.Size([3, 250, 250])\n",
            "torch.Size([3, 250, 250])\n",
            "torch.Size([3, 250, 250])\n",
            "torch.Size([3, 250, 250])\n",
            "torch.Size([3, 250, 250])\n",
            "torch.Size([3, 250, 250])\n",
            "torch.Size([3, 250, 250])\n",
            "torch.Size([3, 250, 250])\n",
            "torch.Size([3, 250, 250])\n",
            "torch.Size([3, 250, 250])\n",
            "torch.Size([3, 250, 250])\n",
            "torch.Size([3, 250, 250])\n",
            "torch.Size([3, 250, 250])\n",
            "torch.Size([3, 250, 250])\n",
            "torch.Size([3, 250, 250])\n",
            "torch.Size([3, 250, 250])\n",
            "torch.Size([3, 250, 250])\n",
            "torch.Size([3, 250, 250])\n",
            "torch.Size([3, 250, 250])\n",
            "torch.Size([3, 250, 250])\n",
            "torch.Size([3, 250, 250])\n",
            "torch.Size([3, 250, 250])\n",
            "torch.Size([3, 250, 250])\n",
            "torch.Size([3, 250, 250])\n",
            "torch.Size([3, 250, 250])\n",
            "torch.Size([3, 250, 250])\n",
            "torch.Size([3, 250, 250])\n",
            "torch.Size([3, 250, 250])\n",
            "torch.Size([3, 250, 250])\n",
            "torch.Size([3, 250, 250])\n",
            "torch.Size([3, 250, 250])\n",
            "torch.Size([3, 250, 250])\n",
            "torch.Size([3, 250, 250])\n",
            "torch.Size([3, 250, 250])\n",
            "torch.Size([3, 250, 250])\n",
            "torch.Size([3, 250, 250])\n",
            "torch.Size([3, 250, 250])\n",
            "torch.Size([3, 250, 250])\n",
            "torch.Size([3, 250, 250])\n",
            "torch.Size([3, 250, 250])\n",
            "torch.Size([3, 250, 250])\n",
            "torch.Size([3, 250, 250])\n",
            "torch.Size([3, 250, 250])\n",
            "torch.Size([3, 250, 250])\n",
            "torch.Size([3, 250, 250])\n",
            "torch.Size([3, 250, 250])\n",
            "torch.Size([3, 250, 250])\n",
            "torch.Size([3, 250, 250])\n",
            "torch.Size([3, 250, 250])\n",
            "torch.Size([3, 250, 250])\n",
            "torch.Size([3, 250, 250])\n",
            "torch.Size([3, 250, 250])\n",
            "torch.Size([3, 250, 250])\n",
            "torch.Size([3, 250, 250])\n",
            "torch.Size([3, 250, 250])\n",
            "torch.Size([3, 250, 250])\n",
            "torch.Size([3, 250, 250])\n",
            "torch.Size([3, 250, 250])\n",
            "torch.Size([3, 250, 250])\n",
            "torch.Size([3, 250, 250])\n",
            "torch.Size([3, 250, 250])\n",
            "torch.Size([3, 250, 250])\n",
            "torch.Size([3, 250, 250])\n",
            "torch.Size([3, 250, 250])\n",
            "torch.Size([3, 250, 250])\n",
            "torch.Size([3, 250, 250])\n",
            "torch.Size([3, 250, 250])\n",
            "torch.Size([3, 250, 250])\n",
            "torch.Size([3, 250, 250])\n",
            "torch.Size([3, 250, 250])\n",
            "torch.Size([3, 250, 250])\n",
            "torch.Size([3, 250, 250])\n",
            "torch.Size([3, 250, 250])\n",
            "torch.Size([3, 250, 250])\n",
            "torch.Size([3, 250, 250])\n",
            "torch.Size([3, 250, 250])\n",
            "torch.Size([3, 250, 250])\n",
            "torch.Size([3, 250, 250])\n",
            "torch.Size([3, 250, 250])\n",
            "torch.Size([3, 250, 250])\n",
            "torch.Size([3, 250, 250])\n",
            "torch.Size([3, 250, 250])\n",
            "torch.Size([3, 250, 250])\n",
            "torch.Size([3, 250, 250])\n",
            "torch.Size([3, 250, 250])\n",
            "torch.Size([3, 250, 250])\n",
            "torch.Size([3, 250, 250])\n",
            "torch.Size([3, 250, 250])\n",
            "torch.Size([3, 250, 250])\n",
            "torch.Size([3, 250, 250])\n",
            "torch.Size([3, 250, 250])\n",
            "torch.Size([3, 250, 250])\n",
            "torch.Size([3, 250, 250])\n",
            "torch.Size([3, 250, 250])\n",
            "torch.Size([3, 250, 250])\n",
            "torch.Size([3, 250, 250])\n",
            "torch.Size([3, 250, 250])\n",
            "torch.Size([3, 250, 250])\n",
            "torch.Size([3, 250, 250])\n",
            "torch.Size([3, 250, 250])\n",
            "torch.Size([3, 250, 250])\n",
            "torch.Size([3, 250, 250])\n",
            "torch.Size([3, 250, 250])\n",
            "torch.Size([3, 250, 250])\n",
            "torch.Size([3, 250, 250])\n",
            "torch.Size([3, 250, 250])\n",
            "torch.Size([3, 250, 250])\n",
            "torch.Size([3, 250, 250])\n",
            "torch.Size([3, 250, 250])\n",
            "torch.Size([3, 250, 250])\n",
            "torch.Size([3, 250, 250])\n",
            "torch.Size([3, 250, 250])\n",
            "torch.Size([3, 250, 250])\n",
            "torch.Size([3, 250, 250])\n",
            "torch.Size([3, 250, 250])\n",
            "torch.Size([3, 250, 250])\n",
            "torch.Size([3, 250, 250])\n",
            "torch.Size([3, 250, 250])\n",
            "torch.Size([3, 250, 250])\n",
            "torch.Size([3, 250, 250])\n",
            "torch.Size([3, 250, 250])\n",
            "torch.Size([3, 250, 250])\n",
            "torch.Size([3, 250, 250])\n",
            "torch.Size([3, 250, 250])\n",
            "torch.Size([3, 250, 250])\n",
            "torch.Size([3, 250, 250])\n",
            "torch.Size([3, 250, 250])\n",
            "torch.Size([3, 250, 250])\n",
            "torch.Size([3, 250, 250])\n",
            "torch.Size([3, 250, 250])\n",
            "torch.Size([3, 250, 250])\n",
            "torch.Size([3, 250, 250])\n",
            "torch.Size([3, 250, 250])\n",
            "torch.Size([3, 250, 250])\n",
            "torch.Size([3, 250, 250])\n",
            "torch.Size([3, 250, 250])\n",
            "torch.Size([3, 250, 250])\n",
            "torch.Size([3, 250, 250])\n",
            "torch.Size([3, 250, 250])\n",
            "torch.Size([3, 250, 250])\n",
            "torch.Size([3, 250, 250])\n",
            "torch.Size([3, 250, 250])\n",
            "torch.Size([3, 250, 250])\n",
            "torch.Size([3, 250, 250])\n",
            "torch.Size([3, 250, 250])\n",
            "torch.Size([3, 250, 250])\n",
            "torch.Size([3, 250, 250])\n",
            "torch.Size([3, 250, 250])\n",
            "torch.Size([3, 250, 250])\n",
            "torch.Size([3, 250, 250])\n",
            "torch.Size([3, 250, 250])\n",
            "torch.Size([3, 250, 250])\n",
            "torch.Size([3, 250, 250])\n",
            "torch.Size([3, 250, 250])\n",
            "torch.Size([3, 250, 250])\n",
            "torch.Size([3, 250, 250])\n",
            "torch.Size([3, 250, 250])\n",
            "torch.Size([3, 250, 250])\n",
            "torch.Size([3, 250, 250])\n",
            "torch.Size([3, 250, 250])\n",
            "torch.Size([3, 250, 250])\n",
            "torch.Size([3, 250, 250])\n",
            "torch.Size([3, 250, 250])\n",
            "torch.Size([3, 250, 250])\n",
            "torch.Size([3, 250, 250])\n",
            "torch.Size([3, 250, 250])\n",
            "torch.Size([3, 250, 250])\n",
            "torch.Size([3, 250, 250])\n",
            "torch.Size([3, 250, 250])\n",
            "torch.Size([3, 250, 250])\n",
            "torch.Size([3, 250, 250])\n",
            "torch.Size([3, 250, 250])\n",
            "torch.Size([3, 250, 250])\n",
            "torch.Size([3, 250, 250])\n",
            "torch.Size([3, 250, 250])\n",
            "torch.Size([3, 250, 250])\n",
            "torch.Size([3, 250, 250])\n",
            "torch.Size([3, 250, 250])\n",
            "torch.Size([3, 250, 250])\n",
            "torch.Size([3, 250, 250])\n",
            "torch.Size([3, 250, 250])\n",
            "torch.Size([3, 250, 250])\n",
            "torch.Size([3, 250, 250])\n",
            "torch.Size([3, 250, 250])\n",
            "torch.Size([3, 250, 250])\n",
            "torch.Size([3, 250, 250])\n",
            "torch.Size([3, 250, 250])\n",
            "torch.Size([3, 250, 250])\n",
            "torch.Size([3, 250, 250])\n",
            "torch.Size([3, 250, 250])\n",
            "torch.Size([3, 250, 250])\n",
            "torch.Size([3, 250, 250])\n",
            "torch.Size([3, 250, 250])\n",
            "torch.Size([3, 250, 250])\n",
            "torch.Size([3, 250, 250])\n",
            "torch.Size([3, 250, 250])\n",
            "torch.Size([3, 250, 250])\n",
            "torch.Size([3, 250, 250])\n",
            "torch.Size([3, 250, 250])\n",
            "torch.Size([3, 250, 250])\n",
            "torch.Size([3, 250, 250])\n",
            "torch.Size([3, 250, 250])\n",
            "torch.Size([3, 250, 250])\n",
            "torch.Size([3, 250, 250])\n",
            "torch.Size([3, 250, 250])\n",
            "torch.Size([3, 250, 250])\n",
            "torch.Size([3, 250, 250])\n",
            "torch.Size([3, 250, 250])\n",
            "torch.Size([3, 250, 250])\n",
            "torch.Size([3, 250, 250])\n",
            "torch.Size([3, 250, 250])\n",
            "torch.Size([3, 250, 250])\n",
            "torch.Size([3, 250, 250])\n",
            "torch.Size([3, 250, 250])\n",
            "torch.Size([3, 250, 250])\n",
            "torch.Size([3, 250, 250])\n",
            "torch.Size([3, 250, 250])\n",
            "torch.Size([3, 250, 250])\n",
            "torch.Size([3, 250, 250])\n",
            "torch.Size([3, 250, 250])\n",
            "torch.Size([3, 250, 250])\n",
            "torch.Size([3, 250, 250])\n",
            "torch.Size([3, 250, 250])\n",
            "torch.Size([3, 250, 250])\n",
            "torch.Size([3, 250, 250])\n",
            "torch.Size([3, 250, 250])\n",
            "torch.Size([3, 250, 250])\n",
            "torch.Size([3, 250, 250])\n",
            "torch.Size([3, 250, 250])\n",
            "torch.Size([3, 250, 250])\n",
            "torch.Size([3, 250, 250])\n",
            "torch.Size([3, 250, 250])\n",
            "torch.Size([3, 250, 250])\n",
            "torch.Size([3, 250, 250])\n",
            "torch.Size([3, 250, 250])\n",
            "torch.Size([3, 250, 250])\n",
            "torch.Size([3, 250, 250])\n",
            "torch.Size([3, 250, 250])\n",
            "torch.Size([3, 250, 250])\n",
            "torch.Size([3, 250, 250])\n",
            "torch.Size([3, 250, 250])\n",
            "torch.Size([3, 250, 250])\n",
            "torch.Size([3, 250, 250])\n",
            "torch.Size([3, 250, 250])\n",
            "torch.Size([3, 250, 250])\n",
            "torch.Size([3, 250, 250])\n",
            "torch.Size([3, 250, 250])\n",
            "torch.Size([3, 250, 250])\n",
            "torch.Size([3, 250, 250])\n",
            "torch.Size([3, 250, 250])\n",
            "torch.Size([3, 250, 250])\n",
            "torch.Size([3, 250, 250])\n",
            "torch.Size([3, 250, 250])\n",
            "torch.Size([3, 250, 250])\n",
            "torch.Size([3, 250, 250])\n",
            "torch.Size([3, 250, 250])\n",
            "torch.Size([3, 250, 250])\n",
            "torch.Size([3, 250, 250])\n",
            "torch.Size([3, 250, 250])\n",
            "torch.Size([3, 250, 250])\n",
            "torch.Size([3, 250, 250])\n",
            "torch.Size([3, 250, 250])\n",
            "torch.Size([3, 250, 250])\n",
            "torch.Size([3, 250, 250])\n",
            "torch.Size([3, 250, 250])\n",
            "torch.Size([3, 250, 250])\n",
            "torch.Size([3, 250, 250])\n",
            "torch.Size([3, 250, 250])\n",
            "torch.Size([3, 250, 250])\n",
            "torch.Size([3, 250, 250])\n",
            "torch.Size([3, 250, 250])\n",
            "torch.Size([3, 250, 250])\n",
            "torch.Size([3, 250, 250])\n",
            "torch.Size([3, 250, 250])\n",
            "torch.Size([3, 250, 250])\n",
            "torch.Size([3, 250, 250])\n",
            "torch.Size([3, 250, 250])\n",
            "torch.Size([3, 250, 250])\n",
            "torch.Size([3, 250, 250])\n",
            "torch.Size([3, 250, 250])\n",
            "torch.Size([3, 250, 250])\n",
            "torch.Size([3, 250, 250])\n",
            "torch.Size([3, 250, 250])\n",
            "torch.Size([3, 250, 250])\n",
            "torch.Size([3, 250, 250])\n",
            "torch.Size([3, 250, 250])\n",
            "torch.Size([3, 250, 250])\n",
            "torch.Size([3, 250, 250])\n",
            "torch.Size([3, 250, 250])\n",
            "torch.Size([3, 250, 250])\n",
            "torch.Size([3, 250, 250])\n",
            "torch.Size([3, 250, 250])\n",
            "torch.Size([3, 250, 250])\n",
            "torch.Size([3, 250, 250])\n",
            "torch.Size([3, 250, 250])\n",
            "torch.Size([3, 250, 250])\n",
            "torch.Size([3, 250, 250])\n",
            "torch.Size([3, 250, 250])\n",
            "torch.Size([3, 250, 250])\n",
            "torch.Size([3, 250, 250])\n",
            "torch.Size([3, 250, 250])\n",
            "torch.Size([3, 250, 250])\n",
            "torch.Size([3, 250, 250])\n",
            "torch.Size([3, 250, 250])\n",
            "torch.Size([3, 250, 250])\n",
            "torch.Size([3, 250, 250])\n",
            "torch.Size([3, 250, 250])\n",
            "torch.Size([3, 250, 250])\n",
            "torch.Size([3, 250, 250])\n",
            "torch.Size([3, 250, 250])\n",
            "torch.Size([3, 250, 250])\n",
            "torch.Size([3, 250, 250])\n",
            "torch.Size([3, 250, 250])\n",
            "torch.Size([3, 250, 250])\n",
            "torch.Size([3, 250, 250])\n",
            "torch.Size([3, 250, 250])\n",
            "torch.Size([3, 250, 250])\n",
            "torch.Size([3, 250, 250])\n",
            "torch.Size([3, 250, 250])\n",
            "torch.Size([3, 250, 250])\n",
            "torch.Size([3, 250, 250])\n",
            "torch.Size([3, 250, 250])\n",
            "torch.Size([3, 250, 250])\n",
            "torch.Size([3, 250, 250])\n",
            "torch.Size([3, 250, 250])\n",
            "torch.Size([3, 250, 250])\n",
            "torch.Size([3, 250, 250])\n",
            "torch.Size([3, 250, 250])\n",
            "torch.Size([3, 250, 250])\n",
            "torch.Size([3, 250, 250])\n",
            "torch.Size([3, 250, 250])\n",
            "torch.Size([3, 250, 250])\n",
            "torch.Size([3, 250, 250])\n",
            "torch.Size([3, 250, 250])\n",
            "torch.Size([3, 250, 250])\n",
            "torch.Size([3, 250, 250])\n",
            "torch.Size([3, 250, 250])\n",
            "torch.Size([3, 250, 250])\n",
            "torch.Size([3, 250, 250])\n",
            "torch.Size([3, 250, 250])\n",
            "torch.Size([3, 250, 250])\n",
            "torch.Size([3, 250, 250])\n",
            "torch.Size([3, 250, 250])\n",
            "torch.Size([3, 250, 250])\n",
            "torch.Size([3, 250, 250])\n",
            "torch.Size([3, 250, 250])\n",
            "torch.Size([3, 250, 250])\n",
            "torch.Size([3, 250, 250])\n",
            "torch.Size([3, 250, 250])\n",
            "torch.Size([3, 250, 250])\n",
            "torch.Size([3, 250, 250])\n",
            "torch.Size([3, 250, 250])\n",
            "torch.Size([3, 250, 250])\n",
            "torch.Size([3, 250, 250])\n",
            "torch.Size([3, 250, 250])\n",
            "torch.Size([3, 250, 250])\n",
            "torch.Size([3, 250, 250])\n",
            "torch.Size([3, 250, 250])\n",
            "torch.Size([3, 250, 250])\n",
            "torch.Size([3, 250, 250])\n",
            "torch.Size([3, 250, 250])\n",
            "torch.Size([3, 250, 250])\n",
            "torch.Size([3, 250, 250])\n",
            "torch.Size([3, 250, 250])\n",
            "torch.Size([3, 250, 250])\n",
            "torch.Size([3, 250, 250])\n",
            "torch.Size([3, 250, 250])\n",
            "torch.Size([3, 250, 250])\n",
            "torch.Size([3, 250, 250])\n",
            "torch.Size([3, 250, 250])\n",
            "torch.Size([3, 250, 250])\n",
            "torch.Size([3, 250, 250])\n",
            "torch.Size([3, 250, 250])\n",
            "torch.Size([3, 250, 250])\n",
            "torch.Size([3, 250, 250])\n",
            "torch.Size([3, 250, 250])\n",
            "torch.Size([3, 250, 250])\n",
            "torch.Size([3, 250, 250])\n",
            "torch.Size([3, 250, 250])\n",
            "torch.Size([3, 250, 250])\n",
            "torch.Size([3, 250, 250])\n",
            "torch.Size([3, 250, 250])\n",
            "torch.Size([3, 250, 250])\n",
            "torch.Size([3, 250, 250])\n",
            "torch.Size([3, 250, 250])\n",
            "torch.Size([3, 250, 250])\n",
            "torch.Size([3, 250, 250])\n",
            "torch.Size([3, 250, 250])\n",
            "torch.Size([3, 250, 250])\n",
            "torch.Size([3, 250, 250])\n",
            "torch.Size([3, 250, 250])\n",
            "torch.Size([3, 250, 250])\n",
            "torch.Size([3, 250, 250])\n",
            "torch.Size([3, 250, 250])\n",
            "torch.Size([3, 250, 250])\n",
            "torch.Size([3, 250, 250])\n",
            "torch.Size([3, 250, 250])\n",
            "torch.Size([3, 250, 250])\n",
            "torch.Size([3, 250, 250])\n",
            "torch.Size([3, 250, 250])\n",
            "torch.Size([3, 250, 250])\n",
            "torch.Size([3, 250, 250])\n",
            "torch.Size([3, 250, 250])\n",
            "torch.Size([3, 250, 250])\n",
            "torch.Size([3, 250, 250])\n",
            "torch.Size([3, 250, 250])\n",
            "torch.Size([3, 250, 250])\n",
            "torch.Size([3, 250, 250])\n",
            "torch.Size([3, 250, 250])\n",
            "torch.Size([3, 250, 250])\n",
            "torch.Size([3, 250, 250])\n",
            "torch.Size([3, 250, 250])\n",
            "torch.Size([3, 250, 250])\n",
            "torch.Size([3, 250, 250])\n",
            "torch.Size([3, 250, 250])\n",
            "torch.Size([3, 250, 250])\n",
            "torch.Size([3, 250, 250])\n",
            "torch.Size([3, 250, 250])\n",
            "torch.Size([3, 250, 250])\n",
            "torch.Size([3, 250, 250])\n",
            "torch.Size([3, 250, 250])\n",
            "torch.Size([3, 250, 250])\n",
            "torch.Size([3, 250, 250])\n",
            "torch.Size([3, 250, 250])\n",
            "torch.Size([3, 250, 250])\n",
            "torch.Size([3, 250, 250])\n",
            "torch.Size([3, 250, 250])\n",
            "torch.Size([3, 250, 250])\n",
            "torch.Size([3, 250, 250])\n",
            "torch.Size([3, 250, 250])\n",
            "torch.Size([3, 250, 250])\n",
            "torch.Size([3, 250, 250])\n",
            "torch.Size([3, 250, 250])\n",
            "torch.Size([3, 250, 250])\n",
            "torch.Size([3, 250, 250])\n",
            "torch.Size([3, 250, 250])\n",
            "torch.Size([3, 250, 250])\n",
            "torch.Size([3, 250, 250])\n",
            "torch.Size([3, 250, 250])\n",
            "torch.Size([3, 250, 250])\n",
            "torch.Size([3, 250, 250])\n",
            "torch.Size([3, 250, 250])\n",
            "torch.Size([3, 250, 250])\n",
            "torch.Size([3, 250, 250])\n",
            "torch.Size([3, 250, 250])\n",
            "torch.Size([3, 250, 250])\n",
            "torch.Size([3, 250, 250])\n",
            "torch.Size([3, 250, 250])\n",
            "torch.Size([3, 250, 250])\n",
            "torch.Size([3, 250, 250])\n",
            "torch.Size([3, 250, 250])\n",
            "torch.Size([3, 250, 250])\n",
            "torch.Size([3, 250, 250])\n",
            "torch.Size([3, 250, 250])\n",
            "torch.Size([3, 250, 250])\n",
            "torch.Size([3, 250, 250])\n",
            "torch.Size([3, 250, 250])\n",
            "torch.Size([3, 250, 250])\n",
            "torch.Size([3, 250, 250])\n",
            "torch.Size([3, 250, 250])\n",
            "torch.Size([3, 250, 250])\n",
            "torch.Size([3, 250, 250])\n",
            "torch.Size([3, 250, 250])\n",
            "torch.Size([3, 250, 250])\n",
            "torch.Size([3, 250, 250])\n",
            "torch.Size([3, 250, 250])\n",
            "torch.Size([3, 250, 250])\n",
            "torch.Size([3, 250, 250])\n",
            "torch.Size([3, 250, 250])\n",
            "torch.Size([3, 250, 250])\n",
            "torch.Size([3, 250, 250])\n",
            "torch.Size([3, 250, 250])\n",
            "torch.Size([3, 250, 250])\n",
            "torch.Size([3, 250, 250])\n",
            "torch.Size([3, 250, 250])\n",
            "torch.Size([3, 250, 250])\n",
            "torch.Size([3, 250, 250])\n",
            "torch.Size([3, 250, 250])\n",
            "torch.Size([3, 250, 250])\n",
            "torch.Size([3, 250, 250])\n",
            "torch.Size([3, 250, 250])\n",
            "torch.Size([3, 250, 250])\n",
            "torch.Size([3, 250, 250])\n",
            "torch.Size([3, 250, 250])\n",
            "torch.Size([3, 250, 250])\n",
            "torch.Size([3, 250, 250])\n",
            "torch.Size([3, 250, 250])\n",
            "torch.Size([3, 250, 250])\n",
            "torch.Size([3, 250, 250])\n",
            "torch.Size([3, 250, 250])\n",
            "torch.Size([3, 250, 250])\n",
            "torch.Size([3, 250, 250])\n",
            "torch.Size([3, 250, 250])\n",
            "torch.Size([3, 250, 250])\n",
            "torch.Size([3, 250, 250])\n",
            "torch.Size([3, 250, 250])\n",
            "torch.Size([3, 250, 250])\n",
            "torch.Size([3, 250, 250])\n",
            "torch.Size([3, 250, 250])\n",
            "torch.Size([3, 250, 250])\n",
            "torch.Size([3, 250, 250])\n",
            "torch.Size([3, 250, 250])\n",
            "torch.Size([3, 250, 250])\n",
            "torch.Size([3, 250, 250])\n",
            "torch.Size([3, 250, 250])\n",
            "torch.Size([3, 250, 250])\n",
            "torch.Size([3, 250, 250])\n",
            "torch.Size([3, 250, 250])\n",
            "torch.Size([3, 250, 250])\n",
            "torch.Size([3, 250, 250])\n",
            "torch.Size([3, 250, 250])\n",
            "torch.Size([3, 250, 250])\n",
            "torch.Size([3, 250, 250])\n",
            "torch.Size([3, 250, 250])\n",
            "torch.Size([3, 250, 250])\n",
            "torch.Size([3, 250, 250])\n",
            "torch.Size([3, 250, 250])\n",
            "torch.Size([3, 250, 250])\n",
            "torch.Size([3, 250, 250])\n",
            "torch.Size([3, 250, 250])\n",
            "torch.Size([3, 250, 250])\n",
            "torch.Size([3, 250, 250])\n",
            "torch.Size([3, 250, 250])\n",
            "torch.Size([3, 250, 250])\n",
            "torch.Size([3, 250, 250])\n",
            "torch.Size([3, 250, 250])\n",
            "torch.Size([3, 250, 250])\n",
            "torch.Size([3, 250, 250])\n",
            "torch.Size([3, 250, 250])\n",
            "torch.Size([3, 250, 250])\n",
            "torch.Size([3, 250, 250])\n",
            "torch.Size([3, 250, 250])\n",
            "torch.Size([3, 250, 250])\n",
            "torch.Size([3, 250, 250])\n",
            "torch.Size([3, 250, 250])\n",
            "torch.Size([3, 250, 250])\n",
            "torch.Size([3, 250, 250])\n",
            "torch.Size([3, 250, 250])\n",
            "torch.Size([3, 250, 250])\n",
            "torch.Size([3, 250, 250])\n",
            "torch.Size([3, 250, 250])\n",
            "torch.Size([3, 250, 250])\n",
            "torch.Size([3, 250, 250])\n",
            "torch.Size([3, 250, 250])\n",
            "torch.Size([3, 250, 250])\n",
            "torch.Size([3, 250, 250])\n",
            "torch.Size([3, 250, 250])\n",
            "torch.Size([3, 250, 250])\n",
            "torch.Size([3, 250, 250])\n",
            "torch.Size([3, 250, 250])\n",
            "torch.Size([3, 250, 250])\n",
            "torch.Size([3, 250, 250])\n",
            "torch.Size([3, 250, 250])\n",
            "torch.Size([3, 250, 250])\n",
            "torch.Size([3, 250, 250])\n",
            "torch.Size([3, 250, 250])\n",
            "torch.Size([3, 250, 250])\n",
            "torch.Size([3, 250, 250])\n",
            "torch.Size([3, 250, 250])\n",
            "torch.Size([3, 250, 250])\n",
            "torch.Size([3, 250, 250])\n",
            "torch.Size([3, 250, 250])\n",
            "torch.Size([3, 250, 250])\n",
            "torch.Size([3, 250, 250])\n",
            "torch.Size([3, 250, 250])\n",
            "torch.Size([3, 250, 250])\n",
            "torch.Size([3, 250, 250])\n",
            "torch.Size([3, 250, 250])\n",
            "torch.Size([3, 250, 250])\n",
            "torch.Size([3, 250, 250])\n",
            "torch.Size([3, 250, 250])\n",
            "torch.Size([3, 250, 250])\n",
            "torch.Size([3, 250, 250])\n",
            "torch.Size([3, 250, 250])\n",
            "torch.Size([3, 250, 250])\n",
            "torch.Size([3, 250, 250])\n",
            "torch.Size([3, 250, 250])\n",
            "torch.Size([3, 250, 250])\n",
            "torch.Size([3, 250, 250])\n",
            "torch.Size([3, 250, 250])\n",
            "torch.Size([3, 250, 250])\n",
            "torch.Size([3, 250, 250])\n",
            "torch.Size([3, 250, 250])\n",
            "torch.Size([3, 250, 250])\n",
            "torch.Size([3, 250, 250])\n",
            "torch.Size([3, 250, 250])\n",
            "torch.Size([3, 250, 250])\n",
            "torch.Size([3, 250, 250])\n",
            "torch.Size([3, 250, 250])\n",
            "torch.Size([3, 250, 250])\n",
            "torch.Size([3, 250, 250])\n",
            "torch.Size([3, 250, 250])\n",
            "torch.Size([3, 250, 250])\n",
            "torch.Size([3, 250, 250])\n",
            "torch.Size([3, 250, 250])\n",
            "torch.Size([3, 250, 250])\n",
            "torch.Size([3, 250, 250])\n",
            "torch.Size([3, 250, 250])\n",
            "torch.Size([3, 250, 250])\n",
            "torch.Size([3, 250, 250])\n",
            "torch.Size([3, 250, 250])\n",
            "torch.Size([3, 250, 250])\n",
            "torch.Size([3, 250, 250])\n",
            "torch.Size([3, 250, 250])\n",
            "torch.Size([3, 250, 250])\n",
            "torch.Size([3, 250, 250])\n",
            "torch.Size([3, 250, 250])\n",
            "torch.Size([3, 250, 250])\n",
            "torch.Size([3, 250, 250])\n",
            "torch.Size([3, 250, 250])\n",
            "torch.Size([3, 250, 250])\n",
            "torch.Size([3, 250, 250])\n",
            "torch.Size([3, 250, 250])\n",
            "torch.Size([3, 250, 250])\n",
            "torch.Size([3, 250, 250])\n",
            "torch.Size([3, 250, 250])\n",
            "torch.Size([3, 250, 250])\n",
            "torch.Size([3, 250, 250])\n",
            "torch.Size([3, 250, 250])\n",
            "torch.Size([3, 250, 250])\n",
            "torch.Size([3, 250, 250])\n",
            "torch.Size([3, 250, 250])\n",
            "torch.Size([3, 250, 250])\n",
            "torch.Size([3, 250, 250])\n",
            "torch.Size([3, 250, 250])\n",
            "torch.Size([3, 250, 250])\n",
            "torch.Size([3, 250, 250])\n",
            "torch.Size([3, 250, 250])\n",
            "torch.Size([3, 250, 250])\n",
            "torch.Size([3, 250, 250])\n",
            "torch.Size([3, 250, 250])\n",
            "torch.Size([3, 250, 250])\n",
            "torch.Size([3, 250, 250])\n",
            "torch.Size([3, 250, 250])\n",
            "torch.Size([3, 250, 250])\n",
            "torch.Size([3, 250, 250])\n",
            "torch.Size([3, 250, 250])\n",
            "torch.Size([3, 250, 250])\n",
            "torch.Size([3, 250, 250])\n",
            "torch.Size([3, 250, 250])\n",
            "torch.Size([3, 250, 250])\n",
            "torch.Size([3, 250, 250])\n",
            "torch.Size([3, 250, 250])\n",
            "torch.Size([3, 250, 250])\n",
            "torch.Size([3, 250, 250])\n",
            "torch.Size([3, 250, 250])\n",
            "torch.Size([3, 250, 250])\n",
            "torch.Size([3, 250, 250])\n",
            "torch.Size([3, 250, 250])\n",
            "torch.Size([3, 250, 250])\n",
            "torch.Size([3, 250, 250])\n",
            "torch.Size([3, 250, 250])\n",
            "torch.Size([3, 250, 250])\n",
            "torch.Size([3, 250, 250])\n",
            "torch.Size([3, 250, 250])\n",
            "torch.Size([3, 250, 250])\n",
            "torch.Size([3, 250, 250])\n",
            "torch.Size([3, 250, 250])\n",
            "torch.Size([3, 250, 250])\n",
            "torch.Size([3, 250, 250])\n",
            "torch.Size([3, 250, 250])\n",
            "torch.Size([3, 250, 250])\n",
            "torch.Size([3, 250, 250])\n",
            "torch.Size([3, 250, 250])\n",
            "torch.Size([3, 250, 250])\n",
            "torch.Size([3, 250, 250])\n",
            "torch.Size([3, 250, 250])\n",
            "torch.Size([3, 250, 250])\n",
            "torch.Size([3, 250, 250])\n",
            "torch.Size([3, 250, 250])\n",
            "torch.Size([3, 250, 250])\n",
            "torch.Size([3, 250, 250])\n",
            "torch.Size([3, 250, 250])\n",
            "torch.Size([3, 250, 250])\n",
            "torch.Size([3, 250, 250])\n",
            "torch.Size([3, 250, 250])\n",
            "torch.Size([3, 250, 250])\n",
            "torch.Size([3, 250, 250])\n",
            "torch.Size([3, 250, 250])\n",
            "torch.Size([3, 250, 250])\n",
            "torch.Size([3, 250, 250])\n",
            "torch.Size([3, 250, 250])\n",
            "torch.Size([3, 250, 250])\n",
            "torch.Size([3, 250, 250])\n",
            "torch.Size([3, 250, 250])\n",
            "torch.Size([3, 250, 250])\n",
            "torch.Size([3, 250, 250])\n",
            "torch.Size([3, 250, 250])\n",
            "torch.Size([3, 250, 250])\n",
            "torch.Size([3, 250, 250])\n",
            "torch.Size([3, 250, 250])\n",
            "torch.Size([3, 250, 250])\n",
            "torch.Size([3, 250, 250])\n",
            "torch.Size([3, 250, 250])\n",
            "torch.Size([3, 250, 250])\n",
            "torch.Size([3, 250, 250])\n",
            "torch.Size([3, 250, 250])\n",
            "torch.Size([3, 250, 250])\n",
            "torch.Size([3, 250, 250])\n",
            "torch.Size([3, 250, 250])\n",
            "torch.Size([3, 250, 250])\n",
            "torch.Size([3, 250, 250])\n",
            "torch.Size([3, 250, 250])\n",
            "torch.Size([3, 250, 250])\n",
            "torch.Size([3, 250, 250])\n",
            "torch.Size([3, 250, 250])\n",
            "torch.Size([3, 250, 250])\n",
            "torch.Size([3, 250, 250])\n",
            "torch.Size([3, 250, 250])\n",
            "torch.Size([3, 250, 250])\n",
            "torch.Size([3, 250, 250])\n",
            "torch.Size([3, 250, 250])\n",
            "torch.Size([3, 250, 250])\n",
            "torch.Size([3, 250, 250])\n",
            "torch.Size([3, 250, 250])\n",
            "torch.Size([3, 250, 250])\n",
            "torch.Size([3, 250, 250])\n",
            "torch.Size([3, 250, 250])\n",
            "torch.Size([3, 250, 250])\n",
            "torch.Size([3, 250, 250])\n",
            "torch.Size([3, 250, 250])\n",
            "torch.Size([3, 250, 250])\n",
            "torch.Size([3, 250, 250])\n",
            "torch.Size([3, 250, 250])\n",
            "torch.Size([3, 250, 250])\n",
            "torch.Size([3, 250, 250])\n",
            "torch.Size([3, 250, 250])\n",
            "torch.Size([3, 250, 250])\n",
            "torch.Size([3, 250, 250])\n",
            "torch.Size([3, 250, 250])\n",
            "torch.Size([3, 250, 250])\n",
            "torch.Size([3, 250, 250])\n",
            "torch.Size([3, 250, 250])\n",
            "torch.Size([3, 250, 250])\n",
            "torch.Size([3, 250, 250])\n",
            "torch.Size([3, 250, 250])\n",
            "torch.Size([3, 250, 250])\n",
            "torch.Size([3, 250, 250])\n",
            "torch.Size([3, 250, 250])\n",
            "torch.Size([3, 250, 250])\n",
            "torch.Size([3, 250, 250])\n",
            "torch.Size([3, 250, 250])\n",
            "torch.Size([3, 250, 250])\n",
            "torch.Size([3, 250, 250])\n",
            "torch.Size([3, 250, 250])\n",
            "torch.Size([3, 250, 250])\n",
            "torch.Size([3, 250, 250])\n",
            "torch.Size([3, 250, 250])\n",
            "torch.Size([3, 250, 250])\n",
            "torch.Size([3, 250, 250])\n",
            "torch.Size([3, 250, 250])\n",
            "torch.Size([3, 250, 250])\n",
            "torch.Size([3, 250, 250])\n",
            "torch.Size([3, 250, 250])\n",
            "torch.Size([3, 250, 250])\n",
            "torch.Size([3, 250, 250])\n",
            "torch.Size([3, 250, 250])\n",
            "torch.Size([3, 250, 250])\n",
            "torch.Size([3, 250, 250])\n",
            "torch.Size([3, 250, 250])\n",
            "torch.Size([3, 250, 250])\n",
            "torch.Size([3, 250, 250])\n",
            "torch.Size([3, 250, 250])\n",
            "torch.Size([3, 250, 250])\n",
            "torch.Size([3, 250, 250])\n",
            "torch.Size([3, 250, 250])\n",
            "torch.Size([3, 250, 250])\n",
            "torch.Size([3, 250, 250])\n",
            "torch.Size([3, 250, 250])\n",
            "torch.Size([3, 250, 250])\n",
            "torch.Size([3, 250, 250])\n",
            "torch.Size([3, 250, 250])\n",
            "torch.Size([3, 250, 250])\n",
            "torch.Size([3, 250, 250])\n",
            "torch.Size([3, 250, 250])\n",
            "torch.Size([3, 250, 250])\n",
            "torch.Size([3, 250, 250])\n",
            "torch.Size([3, 250, 250])\n",
            "torch.Size([3, 250, 250])\n",
            "torch.Size([3, 250, 250])\n",
            "torch.Size([3, 250, 250])\n",
            "torch.Size([3, 250, 250])\n",
            "torch.Size([3, 250, 250])\n",
            "torch.Size([3, 250, 250])\n",
            "torch.Size([3, 250, 250])\n",
            "torch.Size([3, 250, 250])\n",
            "torch.Size([3, 250, 250])\n",
            "torch.Size([3, 250, 250])\n",
            "torch.Size([3, 250, 250])\n",
            "torch.Size([3, 250, 250])\n",
            "torch.Size([3, 250, 250])\n",
            "torch.Size([3, 250, 250])\n",
            "torch.Size([3, 250, 250])\n",
            "torch.Size([3, 250, 250])\n",
            "torch.Size([3, 250, 250])\n",
            "torch.Size([3, 250, 250])\n",
            "torch.Size([3, 250, 250])\n",
            "torch.Size([3, 250, 250])\n",
            "torch.Size([3, 250, 250])\n",
            "torch.Size([3, 250, 250])\n",
            "torch.Size([3, 250, 250])\n",
            "torch.Size([3, 250, 250])\n",
            "torch.Size([3, 250, 250])\n",
            "torch.Size([3, 250, 250])\n",
            "torch.Size([3, 250, 250])\n",
            "torch.Size([3, 250, 250])\n",
            "torch.Size([3, 250, 250])\n",
            "torch.Size([3, 250, 250])\n",
            "torch.Size([3, 250, 250])\n",
            "torch.Size([3, 250, 250])\n",
            "torch.Size([3, 250, 250])\n",
            "torch.Size([3, 250, 250])\n",
            "torch.Size([3, 250, 250])\n",
            "torch.Size([3, 250, 250])\n",
            "torch.Size([3, 250, 250])\n",
            "torch.Size([3, 250, 250])\n",
            "torch.Size([3, 250, 250])\n",
            "torch.Size([3, 250, 250])\n",
            "torch.Size([3, 250, 250])\n",
            "torch.Size([3, 250, 250])\n",
            "torch.Size([3, 250, 250])\n",
            "torch.Size([3, 250, 250])\n",
            "torch.Size([3, 250, 250])\n",
            "torch.Size([3, 250, 250])\n",
            "torch.Size([3, 250, 250])\n",
            "torch.Size([3, 250, 250])\n",
            "torch.Size([3, 250, 250])\n",
            "torch.Size([3, 250, 250])\n",
            "torch.Size([3, 250, 250])\n",
            "torch.Size([3, 250, 250])\n",
            "torch.Size([3, 250, 250])\n",
            "torch.Size([3, 250, 250])\n",
            "torch.Size([3, 250, 250])\n",
            "torch.Size([3, 250, 250])\n",
            "torch.Size([3, 250, 250])\n",
            "torch.Size([3, 250, 250])\n",
            "torch.Size([3, 250, 250])\n",
            "torch.Size([3, 250, 250])\n",
            "torch.Size([3, 250, 250])\n",
            "torch.Size([3, 250, 250])\n",
            "torch.Size([3, 250, 250])\n",
            "torch.Size([3, 250, 250])\n",
            "torch.Size([3, 250, 250])\n",
            "torch.Size([3, 250, 250])\n",
            "torch.Size([3, 250, 250])\n",
            "torch.Size([3, 250, 250])\n",
            "torch.Size([3, 250, 250])\n",
            "torch.Size([3, 250, 250])\n",
            "torch.Size([3, 250, 250])\n",
            "torch.Size([3, 250, 250])\n",
            "torch.Size([3, 250, 250])\n",
            "torch.Size([3, 250, 250])\n",
            "torch.Size([3, 250, 250])\n",
            "torch.Size([3, 250, 250])\n",
            "torch.Size([3, 250, 250])\n",
            "torch.Size([3, 250, 250])\n",
            "torch.Size([3, 250, 250])\n",
            "torch.Size([3, 250, 250])\n",
            "torch.Size([3, 250, 250])\n",
            "torch.Size([3, 250, 250])\n",
            "torch.Size([3, 250, 250])\n",
            "torch.Size([3, 250, 250])\n",
            "torch.Size([3, 250, 250])\n",
            "torch.Size([3, 250, 250])\n",
            "torch.Size([3, 250, 250])\n",
            "torch.Size([3, 250, 250])\n",
            "torch.Size([3, 250, 250])\n",
            "torch.Size([3, 250, 250])\n",
            "torch.Size([3, 250, 250])\n",
            "torch.Size([3, 250, 250])\n",
            "torch.Size([3, 250, 250])\n",
            "torch.Size([3, 250, 250])\n",
            "torch.Size([3, 250, 250])\n",
            "torch.Size([3, 250, 250])\n",
            "torch.Size([3, 250, 250])\n",
            "torch.Size([3, 250, 250])\n",
            "torch.Size([3, 250, 250])\n",
            "torch.Size([3, 250, 250])\n",
            "torch.Size([3, 250, 250])\n",
            "torch.Size([3, 250, 250])\n",
            "torch.Size([3, 250, 250])\n",
            "torch.Size([3, 250, 250])\n",
            "torch.Size([3, 250, 250])\n",
            "torch.Size([3, 250, 250])\n",
            "torch.Size([3, 250, 250])\n",
            "torch.Size([3, 250, 250])\n",
            "torch.Size([3, 250, 250])\n",
            "torch.Size([3, 250, 250])\n",
            "torch.Size([3, 250, 250])\n",
            "torch.Size([3, 250, 250])\n",
            "torch.Size([3, 250, 250])\n",
            "torch.Size([3, 250, 250])\n",
            "torch.Size([3, 250, 250])\n",
            "torch.Size([3, 250, 250])\n",
            "torch.Size([3, 250, 250])\n",
            "torch.Size([3, 250, 250])\n",
            "torch.Size([3, 250, 250])\n",
            "torch.Size([3, 250, 250])\n",
            "torch.Size([3, 250, 250])\n",
            "torch.Size([3, 250, 250])\n",
            "torch.Size([3, 250, 250])\n",
            "torch.Size([3, 250, 250])\n",
            "torch.Size([3, 250, 250])\n",
            "torch.Size([3, 250, 250])\n",
            "torch.Size([3, 250, 250])\n",
            "torch.Size([3, 250, 250])\n",
            "torch.Size([3, 250, 250])\n",
            "torch.Size([3, 250, 250])\n",
            "torch.Size([3, 250, 250])\n",
            "torch.Size([3, 250, 250])\n",
            "torch.Size([3, 250, 250])\n",
            "torch.Size([3, 250, 250])\n",
            "torch.Size([3, 250, 250])\n",
            "torch.Size([3, 250, 250])\n",
            "torch.Size([3, 250, 250])\n",
            "torch.Size([3, 250, 250])\n",
            "torch.Size([3, 250, 250])\n",
            "torch.Size([3, 250, 250])\n",
            "torch.Size([3, 250, 250])\n",
            "torch.Size([3, 250, 250])\n",
            "torch.Size([3, 250, 250])\n",
            "torch.Size([3, 250, 250])\n",
            "torch.Size([3, 250, 250])\n",
            "torch.Size([3, 250, 250])\n",
            "torch.Size([3, 250, 250])\n",
            "torch.Size([3, 250, 250])\n",
            "torch.Size([3, 250, 250])\n",
            "torch.Size([3, 250, 250])\n",
            "torch.Size([3, 250, 250])\n",
            "torch.Size([3, 250, 250])\n",
            "torch.Size([3, 250, 250])\n",
            "torch.Size([3, 250, 250])\n",
            "torch.Size([3, 250, 250])\n",
            "torch.Size([3, 250, 250])\n",
            "torch.Size([3, 250, 250])\n",
            "torch.Size([3, 250, 250])\n",
            "torch.Size([3, 250, 250])\n",
            "torch.Size([3, 250, 250])\n",
            "torch.Size([3, 250, 250])\n",
            "torch.Size([3, 250, 250])\n",
            "torch.Size([3, 250, 250])\n",
            "torch.Size([3, 250, 250])\n",
            "torch.Size([3, 250, 250])\n",
            "torch.Size([3, 250, 250])\n",
            "torch.Size([3, 250, 250])\n",
            "torch.Size([3, 250, 250])\n",
            "torch.Size([3, 250, 250])\n",
            "torch.Size([3, 250, 250])\n",
            "torch.Size([3, 250, 250])\n",
            "torch.Size([3, 250, 250])\n",
            "torch.Size([3, 250, 250])\n",
            "torch.Size([3, 250, 250])\n",
            "torch.Size([3, 250, 250])\n",
            "torch.Size([3, 250, 250])\n",
            "torch.Size([3, 250, 250])\n",
            "torch.Size([3, 250, 250])\n",
            "torch.Size([3, 250, 250])\n",
            "torch.Size([3, 250, 250])\n",
            "torch.Size([3, 250, 250])\n",
            "torch.Size([3, 250, 250])\n",
            "torch.Size([3, 250, 250])\n",
            "torch.Size([3, 250, 250])\n",
            "torch.Size([3, 250, 250])\n",
            "torch.Size([3, 250, 250])\n",
            "torch.Size([3, 250, 250])\n",
            "torch.Size([3, 250, 250])\n",
            "torch.Size([3, 250, 250])\n",
            "torch.Size([3, 250, 250])\n",
            "torch.Size([3, 250, 250])\n",
            "torch.Size([3, 250, 250])\n",
            "torch.Size([3, 250, 250])\n",
            "torch.Size([3, 250, 250])\n",
            "torch.Size([3, 250, 250])\n",
            "torch.Size([3, 250, 250])\n",
            "torch.Size([3, 250, 250])\n",
            "torch.Size([3, 250, 250])\n",
            "torch.Size([3, 250, 250])\n",
            "torch.Size([3, 250, 250])\n",
            "torch.Size([3, 250, 250])\n",
            "torch.Size([3, 250, 250])\n",
            "torch.Size([3, 250, 250])\n",
            "torch.Size([3, 250, 250])\n",
            "torch.Size([3, 250, 250])\n",
            "torch.Size([3, 250, 250])\n",
            "torch.Size([3, 250, 250])\n",
            "torch.Size([3, 250, 250])\n",
            "torch.Size([3, 250, 250])\n",
            "torch.Size([3, 250, 250])\n",
            "torch.Size([3, 250, 250])\n",
            "torch.Size([3, 250, 250])\n",
            "torch.Size([3, 250, 250])\n",
            "torch.Size([3, 250, 250])\n",
            "torch.Size([3, 250, 250])\n",
            "torch.Size([3, 250, 250])\n",
            "torch.Size([3, 250, 250])\n",
            "torch.Size([3, 250, 250])\n",
            "torch.Size([3, 250, 250])\n",
            "torch.Size([3, 250, 250])\n",
            "torch.Size([3, 250, 250])\n",
            "torch.Size([3, 250, 250])\n",
            "torch.Size([3, 250, 250])\n",
            "torch.Size([3, 250, 250])\n",
            "torch.Size([3, 250, 250])\n",
            "torch.Size([3, 250, 250])\n",
            "torch.Size([3, 250, 250])\n",
            "torch.Size([3, 250, 250])\n",
            "torch.Size([3, 250, 250])\n",
            "torch.Size([3, 250, 250])\n",
            "torch.Size([3, 250, 250])\n",
            "torch.Size([3, 250, 250])\n",
            "torch.Size([3, 250, 250])\n",
            "torch.Size([3, 250, 250])\n",
            "torch.Size([3, 250, 250])\n",
            "torch.Size([3, 250, 250])\n",
            "torch.Size([3, 250, 250])\n",
            "torch.Size([3, 250, 250])\n",
            "torch.Size([3, 250, 250])\n",
            "torch.Size([3, 250, 250])\n",
            "torch.Size([3, 250, 250])\n",
            "torch.Size([3, 250, 250])\n",
            "torch.Size([3, 250, 250])\n",
            "torch.Size([3, 250, 250])\n",
            "torch.Size([3, 250, 250])\n",
            "torch.Size([3, 250, 250])\n",
            "torch.Size([3, 250, 250])\n",
            "torch.Size([3, 250, 250])\n",
            "torch.Size([3, 250, 250])\n",
            "torch.Size([3, 250, 250])\n",
            "torch.Size([3, 250, 250])\n",
            "torch.Size([3, 250, 250])\n",
            "torch.Size([3, 250, 250])\n",
            "torch.Size([3, 250, 250])\n",
            "torch.Size([3, 250, 250])\n",
            "torch.Size([3, 250, 250])\n",
            "torch.Size([3, 250, 250])\n",
            "torch.Size([3, 250, 250])\n",
            "torch.Size([3, 250, 250])\n",
            "torch.Size([3, 250, 250])\n",
            "torch.Size([3, 250, 250])\n",
            "torch.Size([3, 250, 250])\n",
            "torch.Size([3, 250, 250])\n",
            "torch.Size([3, 250, 250])\n",
            "torch.Size([3, 250, 250])\n",
            "torch.Size([3, 250, 250])\n",
            "torch.Size([3, 250, 250])\n",
            "torch.Size([3, 250, 250])\n",
            "torch.Size([3, 250, 250])\n",
            "torch.Size([3, 250, 250])\n",
            "torch.Size([3, 250, 250])\n",
            "torch.Size([3, 250, 250])\n",
            "torch.Size([3, 250, 250])\n",
            "torch.Size([3, 250, 250])\n",
            "torch.Size([3, 250, 250])\n",
            "torch.Size([3, 250, 250])\n",
            "torch.Size([3, 250, 250])\n",
            "torch.Size([3, 250, 250])\n",
            "torch.Size([3, 250, 250])\n",
            "torch.Size([3, 250, 250])\n",
            "torch.Size([3, 250, 250])\n",
            "torch.Size([3, 250, 250])\n",
            "torch.Size([3, 250, 250])\n",
            "torch.Size([3, 250, 250])\n",
            "torch.Size([3, 250, 250])\n",
            "torch.Size([3, 250, 250])\n",
            "torch.Size([3, 250, 250])\n",
            "torch.Size([3, 250, 250])\n",
            "torch.Size([3, 250, 250])\n",
            "torch.Size([3, 250, 250])\n",
            "torch.Size([3, 250, 250])\n",
            "torch.Size([3, 250, 250])\n",
            "torch.Size([3, 250, 250])\n",
            "torch.Size([3, 250, 250])\n",
            "torch.Size([3, 250, 250])\n",
            "torch.Size([3, 250, 250])\n",
            "torch.Size([3, 250, 250])\n",
            "torch.Size([3, 250, 250])\n",
            "torch.Size([3, 250, 250])\n",
            "torch.Size([3, 250, 250])\n",
            "torch.Size([3, 250, 250])\n",
            "torch.Size([3, 250, 250])\n",
            "torch.Size([3, 250, 250])\n",
            "torch.Size([3, 250, 250])\n",
            "torch.Size([3, 250, 250])\n",
            "torch.Size([3, 250, 250])\n",
            "torch.Size([3, 250, 250])\n",
            "torch.Size([3, 250, 250])\n",
            "torch.Size([3, 250, 250])\n",
            "torch.Size([3, 250, 250])\n",
            "torch.Size([3, 250, 250])\n",
            "torch.Size([3, 250, 250])\n",
            "torch.Size([3, 250, 250])\n",
            "torch.Size([3, 250, 250])\n",
            "torch.Size([3, 250, 250])\n",
            "torch.Size([3, 250, 250])\n",
            "torch.Size([3, 250, 250])\n",
            "torch.Size([3, 250, 250])\n",
            "torch.Size([3, 250, 250])\n",
            "torch.Size([3, 250, 250])\n",
            "torch.Size([3, 250, 250])\n",
            "torch.Size([3, 250, 250])\n",
            "torch.Size([3, 250, 250])\n",
            "torch.Size([3, 250, 250])\n",
            "torch.Size([3, 250, 250])\n",
            "torch.Size([3, 250, 250])\n",
            "torch.Size([3, 250, 250])\n",
            "torch.Size([3, 250, 250])\n",
            "torch.Size([3, 250, 250])\n",
            "torch.Size([3, 250, 250])\n",
            "torch.Size([3, 250, 250])\n",
            "torch.Size([3, 250, 250])\n",
            "torch.Size([3, 250, 250])\n",
            "torch.Size([3, 250, 250])\n",
            "torch.Size([3, 250, 250])\n",
            "torch.Size([3, 250, 250])\n",
            "torch.Size([3, 250, 250])\n",
            "torch.Size([3, 250, 250])\n",
            "torch.Size([3, 250, 250])\n",
            "torch.Size([3, 250, 250])\n",
            "torch.Size([3, 250, 250])\n",
            "torch.Size([3, 250, 250])\n",
            "torch.Size([3, 250, 250])\n",
            "torch.Size([3, 250, 250])\n",
            "torch.Size([3, 250, 250])\n",
            "torch.Size([3, 250, 250])\n",
            "torch.Size([3, 250, 250])\n",
            "torch.Size([3, 250, 250])\n",
            "torch.Size([3, 250, 250])\n",
            "torch.Size([3, 250, 250])\n",
            "torch.Size([3, 250, 250])\n",
            "torch.Size([3, 250, 250])\n",
            "torch.Size([3, 250, 250])\n",
            "torch.Size([3, 250, 250])\n",
            "torch.Size([3, 250, 250])\n",
            "torch.Size([3, 250, 250])\n",
            "torch.Size([3, 250, 250])\n",
            "torch.Size([3, 250, 250])\n",
            "torch.Size([3, 250, 250])\n",
            "torch.Size([3, 250, 250])\n",
            "torch.Size([3, 250, 250])\n",
            "torch.Size([3, 250, 250])\n",
            "torch.Size([3, 250, 250])\n",
            "torch.Size([3, 250, 250])\n",
            "torch.Size([3, 250, 250])\n",
            "torch.Size([3, 250, 250])\n",
            "torch.Size([3, 250, 250])\n",
            "torch.Size([3, 250, 250])\n",
            "torch.Size([3, 250, 250])\n",
            "torch.Size([3, 250, 250])\n",
            "torch.Size([3, 250, 250])\n",
            "torch.Size([3, 250, 250])\n",
            "torch.Size([3, 250, 250])\n",
            "torch.Size([3, 250, 250])\n",
            "torch.Size([3, 250, 250])\n",
            "torch.Size([3, 250, 250])\n",
            "torch.Size([3, 250, 250])\n",
            "torch.Size([3, 250, 250])\n",
            "torch.Size([3, 250, 250])\n",
            "torch.Size([3, 250, 250])\n",
            "torch.Size([3, 250, 250])\n",
            "torch.Size([3, 250, 250])\n",
            "torch.Size([3, 250, 250])\n",
            "torch.Size([3, 250, 250])\n",
            "torch.Size([3, 250, 250])\n",
            "torch.Size([3, 250, 250])\n",
            "torch.Size([3, 250, 250])\n",
            "torch.Size([3, 250, 250])\n",
            "torch.Size([3, 250, 250])\n",
            "torch.Size([3, 250, 250])\n",
            "torch.Size([3, 250, 250])\n",
            "torch.Size([3, 250, 250])\n",
            "torch.Size([3, 250, 250])\n",
            "torch.Size([3, 250, 250])\n",
            "torch.Size([3, 250, 250])\n",
            "torch.Size([3, 250, 250])\n",
            "torch.Size([3, 250, 250])\n",
            "torch.Size([3, 250, 250])\n",
            "torch.Size([3, 250, 250])\n",
            "torch.Size([3, 250, 250])\n",
            "torch.Size([3, 250, 250])\n",
            "torch.Size([3, 250, 250])\n",
            "torch.Size([3, 250, 250])\n",
            "torch.Size([3, 250, 250])\n",
            "torch.Size([3, 250, 250])\n",
            "torch.Size([3, 250, 250])\n",
            "torch.Size([3, 250, 250])\n",
            "torch.Size([3, 250, 250])\n",
            "torch.Size([3, 250, 250])\n",
            "torch.Size([3, 250, 250])\n",
            "torch.Size([3, 250, 250])\n",
            "torch.Size([3, 250, 250])\n",
            "torch.Size([3, 250, 250])\n",
            "torch.Size([3, 250, 250])\n",
            "torch.Size([3, 250, 250])\n",
            "torch.Size([3, 250, 250])\n",
            "torch.Size([3, 250, 250])\n",
            "torch.Size([3, 250, 250])\n",
            "torch.Size([3, 250, 250])\n",
            "torch.Size([3, 250, 250])\n",
            "torch.Size([3, 250, 250])\n",
            "torch.Size([3, 250, 250])\n",
            "torch.Size([3, 250, 250])\n",
            "torch.Size([3, 250, 250])\n",
            "torch.Size([3, 250, 250])\n",
            "torch.Size([3, 250, 250])\n",
            "torch.Size([3, 250, 250])\n",
            "torch.Size([3, 250, 250])\n",
            "torch.Size([3, 250, 250])\n",
            "torch.Size([3, 250, 250])\n",
            "torch.Size([3, 250, 250])\n",
            "torch.Size([3, 250, 250])\n",
            "torch.Size([3, 250, 250])\n",
            "torch.Size([3, 250, 250])\n",
            "torch.Size([3, 250, 250])\n",
            "torch.Size([3, 250, 250])\n",
            "torch.Size([3, 250, 250])\n",
            "torch.Size([3, 250, 250])\n",
            "torch.Size([3, 250, 250])\n",
            "torch.Size([3, 250, 250])\n",
            "torch.Size([3, 250, 250])\n",
            "torch.Size([3, 250, 250])\n",
            "torch.Size([3, 250, 250])\n",
            "torch.Size([3, 250, 250])\n",
            "torch.Size([3, 250, 250])\n",
            "torch.Size([3, 250, 250])\n",
            "torch.Size([3, 250, 250])\n",
            "torch.Size([3, 250, 250])\n",
            "torch.Size([3, 250, 250])\n",
            "torch.Size([3, 250, 250])\n",
            "torch.Size([3, 250, 250])\n",
            "torch.Size([3, 250, 250])\n",
            "torch.Size([3, 250, 250])\n",
            "torch.Size([3, 250, 250])\n",
            "torch.Size([3, 250, 250])\n",
            "torch.Size([3, 250, 250])\n",
            "torch.Size([3, 250, 250])\n",
            "torch.Size([3, 250, 250])\n",
            "torch.Size([3, 250, 250])\n",
            "torch.Size([3, 250, 250])\n",
            "torch.Size([3, 250, 250])\n",
            "torch.Size([3, 250, 250])\n",
            "torch.Size([3, 250, 250])\n",
            "torch.Size([3, 250, 250])\n",
            "torch.Size([3, 250, 250])\n",
            "torch.Size([3, 250, 250])\n",
            "torch.Size([3, 250, 250])\n",
            "torch.Size([3, 250, 250])\n",
            "torch.Size([3, 250, 250])\n",
            "torch.Size([3, 250, 250])\n",
            "torch.Size([3, 250, 250])\n",
            "torch.Size([3, 250, 250])\n",
            "torch.Size([3, 250, 250])\n",
            "torch.Size([3, 250, 250])\n",
            "torch.Size([3, 250, 250])\n",
            "torch.Size([3, 250, 250])\n",
            "torch.Size([3, 250, 250])\n",
            "torch.Size([3, 250, 250])\n",
            "torch.Size([3, 250, 250])\n",
            "torch.Size([3, 250, 250])\n",
            "torch.Size([3, 250, 250])\n",
            "torch.Size([3, 250, 250])\n",
            "torch.Size([3, 250, 250])\n",
            "torch.Size([3, 250, 250])\n",
            "torch.Size([3, 250, 250])\n",
            "torch.Size([3, 250, 250])\n",
            "torch.Size([3, 250, 250])\n",
            "torch.Size([3, 250, 250])\n",
            "torch.Size([3, 250, 250])\n",
            "torch.Size([3, 250, 250])\n",
            "torch.Size([3, 250, 250])\n",
            "torch.Size([3, 250, 250])\n",
            "torch.Size([3, 250, 250])\n",
            "torch.Size([3, 250, 250])\n",
            "torch.Size([3, 250, 250])\n",
            "torch.Size([3, 250, 250])\n",
            "torch.Size([3, 250, 250])\n",
            "torch.Size([3, 250, 250])\n",
            "torch.Size([3, 250, 250])\n",
            "torch.Size([3, 250, 250])\n",
            "torch.Size([3, 250, 250])\n",
            "torch.Size([3, 250, 250])\n",
            "torch.Size([3, 250, 250])\n",
            "torch.Size([3, 250, 250])\n",
            "torch.Size([3, 250, 250])\n",
            "torch.Size([3, 250, 250])\n",
            "torch.Size([3, 250, 250])\n",
            "torch.Size([3, 250, 250])\n",
            "torch.Size([3, 250, 250])\n",
            "torch.Size([3, 250, 250])\n",
            "torch.Size([3, 250, 250])\n",
            "torch.Size([3, 250, 250])\n",
            "torch.Size([3, 250, 250])\n",
            "torch.Size([3, 250, 250])\n",
            "torch.Size([3, 250, 250])\n",
            "torch.Size([3, 250, 250])\n",
            "torch.Size([3, 250, 250])\n",
            "torch.Size([3, 250, 250])\n",
            "torch.Size([3, 250, 250])\n",
            "torch.Size([3, 250, 250])\n",
            "torch.Size([3, 250, 250])\n",
            "torch.Size([3, 250, 250])\n",
            "torch.Size([3, 250, 250])\n",
            "torch.Size([3, 250, 250])\n",
            "torch.Size([3, 250, 250])\n",
            "torch.Size([3, 250, 250])\n",
            "torch.Size([3, 250, 250])\n",
            "torch.Size([3, 250, 250])\n",
            "torch.Size([3, 250, 250])\n",
            "torch.Size([3, 250, 250])\n",
            "torch.Size([3, 250, 250])\n",
            "torch.Size([3, 250, 250])\n",
            "torch.Size([3, 250, 250])\n",
            "torch.Size([3, 250, 250])\n",
            "torch.Size([3, 250, 250])\n",
            "torch.Size([3, 250, 250])\n",
            "torch.Size([3, 250, 250])\n",
            "torch.Size([3, 250, 250])\n",
            "torch.Size([3, 250, 250])\n",
            "torch.Size([3, 250, 250])\n",
            "torch.Size([3, 250, 250])\n",
            "torch.Size([3, 250, 250])\n",
            "torch.Size([3, 250, 250])\n",
            "torch.Size([3, 250, 250])\n",
            "torch.Size([3, 250, 250])\n",
            "torch.Size([3, 250, 250])\n",
            "torch.Size([3, 250, 250])\n",
            "torch.Size([3, 250, 250])\n",
            "torch.Size([3, 250, 250])\n",
            "torch.Size([3, 250, 250])\n",
            "torch.Size([3, 250, 250])\n",
            "torch.Size([3, 250, 250])\n",
            "torch.Size([3, 250, 250])\n",
            "torch.Size([3, 250, 250])\n",
            "torch.Size([3, 250, 250])\n",
            "torch.Size([3, 250, 250])\n",
            "torch.Size([3, 250, 250])\n",
            "torch.Size([3, 250, 250])\n",
            "torch.Size([3, 250, 250])\n",
            "torch.Size([3, 250, 250])\n",
            "torch.Size([3, 250, 250])\n",
            "torch.Size([3, 250, 250])\n",
            "torch.Size([3, 250, 250])\n",
            "torch.Size([3, 250, 250])\n",
            "torch.Size([3, 250, 250])\n",
            "torch.Size([3, 250, 250])\n",
            "torch.Size([3, 250, 250])\n",
            "torch.Size([3, 250, 250])\n",
            "torch.Size([3, 250, 250])\n",
            "torch.Size([3, 250, 250])\n",
            "torch.Size([3, 250, 250])\n",
            "torch.Size([3, 250, 250])\n",
            "torch.Size([3, 250, 250])\n",
            "torch.Size([3, 250, 250])\n",
            "torch.Size([3, 250, 250])\n",
            "torch.Size([3, 250, 250])\n",
            "torch.Size([3, 250, 250])\n",
            "torch.Size([3, 250, 250])\n",
            "torch.Size([3, 250, 250])\n",
            "torch.Size([3, 250, 250])\n",
            "torch.Size([3, 250, 250])\n",
            "torch.Size([3, 250, 250])\n",
            "torch.Size([3, 250, 250])\n",
            "torch.Size([3, 250, 250])\n",
            "torch.Size([3, 250, 250])\n",
            "torch.Size([3, 250, 250])\n",
            "torch.Size([3, 250, 250])\n",
            "torch.Size([3, 250, 250])\n",
            "torch.Size([3, 250, 250])\n",
            "torch.Size([3, 250, 250])\n",
            "torch.Size([3, 250, 250])\n",
            "torch.Size([3, 250, 250])\n",
            "torch.Size([3, 250, 250])\n",
            "torch.Size([3, 250, 250])\n",
            "torch.Size([3, 250, 250])\n",
            "torch.Size([3, 250, 250])\n",
            "torch.Size([3, 250, 250])\n",
            "torch.Size([3, 250, 250])\n",
            "torch.Size([3, 250, 250])\n",
            "torch.Size([3, 250, 250])\n",
            "torch.Size([3, 250, 250])\n",
            "torch.Size([3, 250, 250])\n",
            "torch.Size([3, 250, 250])\n",
            "torch.Size([3, 250, 250])\n",
            "torch.Size([3, 250, 250])\n",
            "torch.Size([3, 250, 250])\n",
            "torch.Size([3, 250, 250])\n",
            "torch.Size([3, 250, 250])\n",
            "torch.Size([3, 250, 250])\n",
            "torch.Size([3, 250, 250])\n",
            "torch.Size([3, 250, 250])\n",
            "torch.Size([3, 250, 250])\n",
            "torch.Size([3, 250, 250])\n",
            "torch.Size([3, 250, 250])\n",
            "torch.Size([3, 250, 250])\n",
            "torch.Size([3, 250, 250])\n",
            "torch.Size([3, 250, 250])\n",
            "torch.Size([3, 250, 250])\n",
            "torch.Size([3, 250, 250])\n",
            "torch.Size([3, 250, 250])\n",
            "torch.Size([3, 250, 250])\n",
            "torch.Size([3, 250, 250])\n",
            "torch.Size([3, 250, 250])\n",
            "torch.Size([3, 250, 250])\n",
            "torch.Size([3, 250, 250])\n",
            "torch.Size([3, 250, 250])\n",
            "torch.Size([3, 250, 250])\n",
            "torch.Size([3, 250, 250])\n",
            "torch.Size([3, 250, 250])\n",
            "torch.Size([3, 250, 250])\n",
            "torch.Size([3, 250, 250])\n",
            "torch.Size([3, 250, 250])\n",
            "torch.Size([3, 250, 250])\n",
            "torch.Size([3, 250, 250])\n",
            "torch.Size([3, 250, 250])\n",
            "torch.Size([3, 250, 250])\n",
            "torch.Size([3, 250, 250])\n",
            "torch.Size([3, 250, 250])\n",
            "torch.Size([3, 250, 250])\n",
            "torch.Size([3, 250, 250])\n",
            "torch.Size([3, 250, 250])\n",
            "torch.Size([3, 250, 250])\n",
            "torch.Size([3, 250, 250])\n",
            "torch.Size([3, 250, 250])\n",
            "torch.Size([3, 250, 250])\n",
            "torch.Size([3, 250, 250])\n",
            "torch.Size([3, 250, 250])\n",
            "torch.Size([3, 250, 250])\n",
            "torch.Size([3, 250, 250])\n",
            "torch.Size([3, 250, 250])\n",
            "torch.Size([3, 250, 250])\n",
            "torch.Size([3, 250, 250])\n",
            "torch.Size([3, 250, 250])\n",
            "torch.Size([3, 250, 250])\n",
            "torch.Size([3, 250, 250])\n",
            "torch.Size([3, 250, 250])\n",
            "torch.Size([3, 250, 250])\n",
            "torch.Size([3, 250, 250])\n",
            "torch.Size([3, 250, 250])\n",
            "torch.Size([3, 250, 250])\n",
            "torch.Size([3, 250, 250])\n",
            "torch.Size([3, 250, 250])\n",
            "torch.Size([3, 250, 250])\n",
            "torch.Size([3, 250, 250])\n",
            "torch.Size([3, 250, 250])\n",
            "torch.Size([3, 250, 250])\n",
            "torch.Size([3, 250, 250])\n",
            "torch.Size([3, 250, 250])\n",
            "torch.Size([3, 250, 250])\n",
            "torch.Size([3, 250, 250])\n",
            "torch.Size([3, 250, 250])\n",
            "torch.Size([3, 250, 250])\n",
            "torch.Size([3, 250, 250])\n",
            "torch.Size([3, 250, 250])\n",
            "torch.Size([3, 250, 250])\n",
            "torch.Size([3, 250, 250])\n",
            "torch.Size([3, 250, 250])\n",
            "torch.Size([3, 250, 250])\n",
            "torch.Size([3, 250, 250])\n",
            "torch.Size([3, 250, 250])\n",
            "torch.Size([3, 250, 250])\n",
            "torch.Size([3, 250, 250])\n",
            "torch.Size([3, 250, 250])\n",
            "torch.Size([3, 250, 250])\n",
            "torch.Size([3, 250, 250])\n",
            "torch.Size([3, 250, 250])\n",
            "torch.Size([3, 250, 250])\n",
            "torch.Size([3, 250, 250])\n",
            "torch.Size([3, 250, 250])\n",
            "torch.Size([3, 250, 250])\n",
            "torch.Size([3, 250, 250])\n",
            "torch.Size([3, 250, 250])\n",
            "torch.Size([3, 250, 250])\n",
            "torch.Size([3, 250, 250])\n",
            "torch.Size([3, 250, 250])\n",
            "torch.Size([3, 250, 250])\n",
            "torch.Size([3, 250, 250])\n",
            "torch.Size([3, 250, 250])\n",
            "torch.Size([3, 250, 250])\n",
            "torch.Size([3, 250, 250])\n",
            "torch.Size([3, 250, 250])\n",
            "torch.Size([3, 250, 250])\n",
            "torch.Size([3, 250, 250])\n",
            "torch.Size([3, 250, 250])\n",
            "torch.Size([3, 250, 250])\n",
            "torch.Size([3, 250, 250])\n",
            "torch.Size([3, 250, 250])\n",
            "torch.Size([3, 250, 250])\n",
            "torch.Size([3, 250, 250])\n",
            "torch.Size([3, 250, 250])\n",
            "torch.Size([3, 250, 250])\n",
            "torch.Size([3, 250, 250])\n",
            "torch.Size([3, 250, 250])\n",
            "torch.Size([3, 250, 250])\n",
            "torch.Size([3, 250, 250])\n",
            "torch.Size([3, 250, 250])\n",
            "torch.Size([3, 250, 250])\n",
            "torch.Size([3, 250, 250])\n",
            "torch.Size([3, 250, 250])\n",
            "torch.Size([3, 250, 250])\n",
            "torch.Size([3, 250, 250])\n",
            "torch.Size([3, 250, 250])\n",
            "torch.Size([3, 250, 250])\n",
            "torch.Size([3, 250, 250])\n",
            "torch.Size([3, 250, 250])\n",
            "torch.Size([3, 250, 250])\n",
            "torch.Size([3, 250, 250])\n",
            "torch.Size([3, 250, 250])\n",
            "torch.Size([3, 250, 250])\n",
            "torch.Size([3, 250, 250])\n",
            "torch.Size([3, 250, 250])\n",
            "torch.Size([3, 250, 250])\n",
            "torch.Size([3, 250, 250])\n",
            "torch.Size([3, 250, 250])\n",
            "torch.Size([3, 250, 250])\n",
            "torch.Size([3, 250, 250])\n",
            "torch.Size([3, 250, 250])\n",
            "torch.Size([3, 250, 250])\n",
            "torch.Size([3, 250, 250])\n",
            "torch.Size([3, 250, 250])\n",
            "torch.Size([3, 250, 250])\n",
            "torch.Size([3, 250, 250])\n",
            "torch.Size([3, 250, 250])\n",
            "torch.Size([3, 250, 250])\n",
            "torch.Size([3, 250, 250])\n",
            "torch.Size([3, 250, 250])\n",
            "torch.Size([3, 250, 250])\n",
            "torch.Size([3, 250, 250])\n",
            "torch.Size([3, 250, 250])\n",
            "torch.Size([3, 250, 250])\n",
            "torch.Size([3, 250, 250])\n",
            "torch.Size([3, 250, 250])\n",
            "torch.Size([3, 250, 250])\n",
            "torch.Size([3, 250, 250])\n",
            "torch.Size([3, 250, 250])\n",
            "torch.Size([3, 250, 250])\n",
            "torch.Size([3, 250, 250])\n",
            "torch.Size([3, 250, 250])\n",
            "torch.Size([3, 250, 250])\n",
            "torch.Size([3, 250, 250])\n",
            "torch.Size([3, 250, 250])\n",
            "torch.Size([3, 250, 250])\n",
            "torch.Size([3, 250, 250])\n",
            "torch.Size([3, 250, 250])\n",
            "torch.Size([3, 250, 250])\n",
            "torch.Size([3, 250, 250])\n",
            "torch.Size([3, 250, 250])\n",
            "torch.Size([3, 250, 250])\n",
            "torch.Size([3, 250, 250])\n",
            "torch.Size([3, 250, 250])\n",
            "torch.Size([3, 250, 250])\n",
            "torch.Size([3, 250, 250])\n",
            "torch.Size([3, 250, 250])\n",
            "torch.Size([3, 250, 250])\n",
            "torch.Size([3, 250, 250])\n",
            "torch.Size([3, 250, 250])\n",
            "torch.Size([3, 250, 250])\n",
            "torch.Size([3, 250, 250])\n",
            "torch.Size([3, 250, 250])\n",
            "torch.Size([3, 250, 250])\n",
            "torch.Size([3, 250, 250])\n",
            "torch.Size([3, 250, 250])\n",
            "torch.Size([3, 250, 250])\n",
            "torch.Size([3, 250, 250])\n",
            "torch.Size([3, 250, 250])\n",
            "torch.Size([3, 250, 250])\n",
            "torch.Size([3, 250, 250])\n",
            "torch.Size([3, 250, 250])\n",
            "torch.Size([3, 250, 250])\n",
            "torch.Size([3, 250, 250])\n",
            "torch.Size([3, 250, 250])\n",
            "torch.Size([3, 250, 250])\n",
            "torch.Size([3, 250, 250])\n",
            "torch.Size([3, 250, 250])\n",
            "torch.Size([3, 250, 250])\n",
            "torch.Size([3, 250, 250])\n",
            "torch.Size([3, 250, 250])\n",
            "torch.Size([3, 250, 250])\n",
            "torch.Size([3, 250, 250])\n",
            "torch.Size([3, 250, 250])\n",
            "torch.Size([3, 250, 250])\n",
            "torch.Size([3, 250, 250])\n",
            "torch.Size([3, 250, 250])\n",
            "torch.Size([3, 250, 250])\n",
            "torch.Size([3, 250, 250])\n",
            "torch.Size([3, 250, 250])\n",
            "torch.Size([3, 250, 250])\n",
            "torch.Size([3, 250, 250])\n",
            "torch.Size([3, 250, 250])\n",
            "torch.Size([3, 250, 250])\n",
            "torch.Size([3, 250, 250])\n",
            "torch.Size([3, 250, 250])\n",
            "torch.Size([3, 250, 250])\n",
            "torch.Size([3, 250, 250])\n",
            "torch.Size([3, 250, 250])\n",
            "torch.Size([3, 250, 250])\n",
            "torch.Size([3, 250, 250])\n",
            "torch.Size([3, 250, 250])\n",
            "torch.Size([3, 250, 250])\n",
            "torch.Size([3, 250, 250])\n",
            "torch.Size([3, 250, 250])\n",
            "torch.Size([3, 250, 250])\n",
            "torch.Size([3, 250, 250])\n",
            "torch.Size([3, 250, 250])\n",
            "torch.Size([3, 250, 250])\n",
            "torch.Size([3, 250, 250])\n",
            "torch.Size([3, 250, 250])\n",
            "torch.Size([3, 250, 250])\n",
            "torch.Size([3, 250, 250])\n",
            "torch.Size([3, 250, 250])\n",
            "torch.Size([3, 250, 250])\n",
            "torch.Size([3, 250, 250])\n",
            "torch.Size([3, 250, 250])\n",
            "torch.Size([3, 250, 250])\n",
            "torch.Size([3, 250, 250])\n",
            "torch.Size([3, 250, 250])\n",
            "torch.Size([3, 250, 250])\n",
            "torch.Size([3, 250, 250])\n",
            "torch.Size([3, 250, 250])\n",
            "torch.Size([3, 250, 250])\n",
            "torch.Size([3, 250, 250])\n",
            "torch.Size([3, 250, 250])\n",
            "torch.Size([3, 250, 250])\n",
            "torch.Size([3, 250, 250])\n",
            "torch.Size([3, 250, 250])\n",
            "torch.Size([3, 250, 250])\n",
            "torch.Size([3, 250, 250])\n",
            "torch.Size([3, 250, 250])\n",
            "torch.Size([3, 250, 250])\n",
            "torch.Size([3, 250, 250])\n",
            "torch.Size([3, 250, 250])\n",
            "torch.Size([3, 250, 250])\n",
            "torch.Size([3, 250, 250])\n",
            "torch.Size([3, 250, 250])\n",
            "torch.Size([3, 250, 250])\n",
            "torch.Size([3, 250, 250])\n",
            "torch.Size([3, 250, 250])\n",
            "torch.Size([3, 250, 250])\n",
            "torch.Size([3, 250, 250])\n",
            "torch.Size([3, 250, 250])\n",
            "torch.Size([3, 250, 250])\n",
            "torch.Size([3, 250, 250])\n",
            "torch.Size([3, 250, 250])\n",
            "torch.Size([3, 250, 250])\n",
            "torch.Size([3, 250, 250])\n",
            "torch.Size([3, 250, 250])\n",
            "torch.Size([3, 250, 250])\n",
            "torch.Size([3, 250, 250])\n",
            "torch.Size([3, 250, 250])\n",
            "torch.Size([3, 250, 250])\n",
            "torch.Size([3, 250, 250])\n",
            "torch.Size([3, 250, 250])\n",
            "torch.Size([3, 250, 250])\n",
            "torch.Size([3, 250, 250])\n",
            "torch.Size([3, 250, 250])\n",
            "torch.Size([3, 250, 250])\n",
            "torch.Size([3, 250, 250])\n",
            "torch.Size([3, 250, 250])\n",
            "torch.Size([3, 250, 250])\n",
            "torch.Size([3, 250, 250])\n",
            "torch.Size([3, 250, 250])\n",
            "torch.Size([3, 250, 250])\n",
            "torch.Size([3, 250, 250])\n",
            "torch.Size([3, 250, 250])\n",
            "torch.Size([3, 250, 250])\n",
            "torch.Size([3, 250, 250])\n",
            "torch.Size([3, 250, 250])\n",
            "torch.Size([3, 250, 250])\n",
            "torch.Size([3, 250, 250])\n",
            "torch.Size([3, 250, 250])\n",
            "torch.Size([3, 250, 250])\n",
            "torch.Size([3, 250, 250])\n",
            "torch.Size([3, 250, 250])\n",
            "torch.Size([3, 250, 250])\n",
            "torch.Size([3, 250, 250])\n",
            "torch.Size([3, 250, 250])\n",
            "torch.Size([3, 250, 250])\n",
            "torch.Size([3, 250, 250])\n",
            "torch.Size([3, 250, 250])\n",
            "torch.Size([3, 250, 250])\n",
            "torch.Size([3, 250, 250])\n",
            "torch.Size([3, 250, 250])\n",
            "torch.Size([3, 250, 250])\n",
            "torch.Size([3, 250, 250])\n",
            "torch.Size([3, 250, 250])\n",
            "torch.Size([3, 250, 250])\n",
            "torch.Size([3, 250, 250])\n",
            "torch.Size([3, 250, 250])\n",
            "torch.Size([3, 250, 250])\n",
            "torch.Size([3, 250, 250])\n",
            "torch.Size([3, 250, 250])\n",
            "torch.Size([3, 250, 250])\n",
            "torch.Size([3, 250, 250])\n",
            "torch.Size([3, 250, 250])\n",
            "torch.Size([3, 250, 250])\n",
            "torch.Size([3, 250, 250])\n",
            "torch.Size([3, 250, 250])\n",
            "torch.Size([3, 250, 250])\n",
            "torch.Size([3, 250, 250])\n",
            "torch.Size([3, 250, 250])\n",
            "torch.Size([3, 250, 250])\n",
            "torch.Size([3, 250, 250])\n",
            "torch.Size([3, 250, 250])\n",
            "torch.Size([3, 250, 250])\n",
            "torch.Size([3, 250, 250])\n",
            "torch.Size([3, 250, 250])\n",
            "torch.Size([3, 250, 250])\n",
            "torch.Size([3, 250, 250])\n",
            "torch.Size([3, 250, 250])\n",
            "torch.Size([3, 250, 250])\n",
            "torch.Size([3, 250, 250])\n",
            "torch.Size([3, 250, 250])\n",
            "torch.Size([3, 250, 250])\n",
            "torch.Size([3, 250, 250])\n",
            "torch.Size([3, 250, 250])\n",
            "torch.Size([3, 250, 250])\n",
            "torch.Size([3, 250, 250])\n",
            "torch.Size([3, 250, 250])\n",
            "torch.Size([3, 250, 250])\n",
            "torch.Size([3, 250, 250])\n",
            "torch.Size([3, 250, 250])\n",
            "torch.Size([3, 250, 250])\n",
            "torch.Size([3, 250, 250])\n",
            "torch.Size([3, 250, 250])\n",
            "torch.Size([3, 250, 250])\n",
            "torch.Size([3, 250, 250])\n",
            "torch.Size([3, 250, 250])\n",
            "torch.Size([3, 250, 250])\n",
            "torch.Size([3, 250, 250])\n",
            "torch.Size([3, 250, 250])\n",
            "torch.Size([3, 250, 250])\n",
            "torch.Size([3, 250, 250])\n",
            "torch.Size([3, 250, 250])\n",
            "torch.Size([3, 250, 250])\n",
            "torch.Size([3, 250, 250])\n",
            "torch.Size([3, 250, 250])\n",
            "torch.Size([3, 250, 250])\n",
            "torch.Size([3, 250, 250])\n",
            "torch.Size([3, 250, 250])\n",
            "torch.Size([3, 250, 250])\n",
            "torch.Size([3, 250, 250])\n",
            "torch.Size([3, 250, 250])\n",
            "torch.Size([3, 250, 250])\n",
            "torch.Size([3, 250, 250])\n",
            "torch.Size([3, 250, 250])\n",
            "torch.Size([3, 250, 250])\n",
            "torch.Size([3, 250, 250])\n",
            "torch.Size([3, 250, 250])\n",
            "torch.Size([3, 250, 250])\n",
            "torch.Size([3, 250, 250])\n",
            "torch.Size([3, 250, 250])\n",
            "torch.Size([3, 250, 250])\n",
            "torch.Size([3, 250, 250])\n",
            "torch.Size([3, 250, 250])\n",
            "torch.Size([3, 250, 250])\n",
            "torch.Size([3, 250, 250])\n",
            "torch.Size([3, 250, 250])\n",
            "torch.Size([3, 250, 250])\n",
            "torch.Size([3, 250, 250])\n",
            "torch.Size([3, 250, 250])\n",
            "torch.Size([3, 250, 250])\n",
            "torch.Size([3, 250, 250])\n",
            "torch.Size([3, 250, 250])\n",
            "torch.Size([3, 250, 250])\n",
            "torch.Size([3, 250, 250])\n",
            "torch.Size([3, 250, 250])\n",
            "torch.Size([3, 250, 250])\n",
            "torch.Size([3, 250, 250])\n",
            "torch.Size([3, 250, 250])\n",
            "torch.Size([3, 250, 250])\n",
            "torch.Size([3, 250, 250])\n",
            "torch.Size([3, 250, 250])\n",
            "torch.Size([3, 250, 250])\n",
            "torch.Size([3, 250, 250])\n",
            "torch.Size([3, 250, 250])\n",
            "torch.Size([3, 250, 250])\n",
            "torch.Size([3, 250, 250])\n",
            "torch.Size([3, 250, 250])\n",
            "torch.Size([3, 250, 250])\n",
            "torch.Size([3, 250, 250])\n",
            "torch.Size([3, 250, 250])\n",
            "torch.Size([3, 250, 250])\n",
            "torch.Size([3, 250, 250])\n",
            "torch.Size([3, 250, 250])\n",
            "torch.Size([3, 250, 250])\n",
            "torch.Size([3, 250, 250])\n",
            "torch.Size([3, 250, 250])\n",
            "torch.Size([3, 250, 250])\n",
            "torch.Size([3, 250, 250])\n",
            "torch.Size([3, 250, 250])\n",
            "torch.Size([3, 250, 250])\n",
            "torch.Size([3, 250, 250])\n",
            "torch.Size([3, 250, 250])\n",
            "torch.Size([3, 250, 250])\n",
            "torch.Size([3, 250, 250])\n",
            "torch.Size([3, 250, 250])\n",
            "torch.Size([3, 250, 250])\n",
            "torch.Size([3, 250, 250])\n",
            "torch.Size([3, 250, 250])\n",
            "torch.Size([3, 250, 250])\n",
            "torch.Size([3, 250, 250])\n",
            "torch.Size([3, 250, 250])\n",
            "torch.Size([3, 250, 250])\n",
            "torch.Size([3, 250, 250])\n",
            "torch.Size([3, 250, 250])\n",
            "torch.Size([3, 250, 250])\n",
            "torch.Size([3, 250, 250])\n",
            "torch.Size([3, 250, 250])\n",
            "torch.Size([3, 250, 250])\n",
            "torch.Size([3, 250, 250])\n",
            "torch.Size([3, 250, 250])\n",
            "torch.Size([3, 250, 250])\n",
            "torch.Size([3, 250, 250])\n",
            "torch.Size([3, 250, 250])\n",
            "torch.Size([3, 250, 250])\n",
            "torch.Size([3, 250, 250])\n",
            "torch.Size([3, 250, 250])\n",
            "torch.Size([3, 250, 250])\n",
            "torch.Size([3, 250, 250])\n",
            "torch.Size([3, 250, 250])\n",
            "torch.Size([3, 250, 250])\n",
            "torch.Size([3, 250, 250])\n",
            "torch.Size([3, 250, 250])\n",
            "torch.Size([3, 250, 250])\n",
            "torch.Size([3, 250, 250])\n",
            "torch.Size([3, 250, 250])\n",
            "torch.Size([3, 250, 250])\n",
            "torch.Size([3, 250, 250])\n",
            "torch.Size([3, 250, 250])\n",
            "torch.Size([3, 250, 250])\n",
            "torch.Size([3, 250, 250])\n",
            "torch.Size([3, 250, 250])\n",
            "torch.Size([3, 250, 250])\n",
            "torch.Size([3, 250, 250])\n",
            "torch.Size([3, 250, 250])\n",
            "torch.Size([3, 250, 250])\n",
            "torch.Size([3, 250, 250])\n",
            "torch.Size([3, 250, 250])\n",
            "torch.Size([3, 250, 250])\n",
            "torch.Size([3, 250, 250])\n",
            "torch.Size([3, 250, 250])\n",
            "torch.Size([3, 250, 250])\n",
            "torch.Size([3, 250, 250])\n",
            "torch.Size([3, 250, 250])\n",
            "torch.Size([3, 250, 250])\n",
            "torch.Size([3, 250, 250])\n",
            "torch.Size([3, 250, 250])\n",
            "torch.Size([3, 250, 250])\n",
            "torch.Size([3, 250, 250])\n",
            "torch.Size([3, 250, 250])\n",
            "torch.Size([3, 250, 250])\n",
            "torch.Size([3, 250, 250])\n",
            "torch.Size([3, 250, 250])\n",
            "torch.Size([3, 250, 250])\n",
            "torch.Size([3, 250, 250])\n",
            "torch.Size([3, 250, 250])\n",
            "torch.Size([3, 250, 250])\n",
            "torch.Size([3, 250, 250])\n",
            "torch.Size([3, 250, 250])\n",
            "torch.Size([3, 250, 250])\n",
            "torch.Size([3, 250, 250])\n",
            "torch.Size([3, 250, 250])\n",
            "torch.Size([3, 250, 250])\n",
            "torch.Size([3, 250, 250])\n",
            "torch.Size([3, 250, 250])\n",
            "torch.Size([3, 250, 250])\n",
            "torch.Size([3, 250, 250])\n",
            "torch.Size([3, 250, 250])\n",
            "torch.Size([3, 250, 250])\n",
            "torch.Size([3, 250, 250])\n",
            "torch.Size([3, 250, 250])\n",
            "torch.Size([3, 250, 250])\n",
            "torch.Size([3, 250, 250])\n",
            "torch.Size([3, 250, 250])\n",
            "torch.Size([3, 250, 250])\n",
            "torch.Size([3, 250, 250])\n",
            "torch.Size([3, 250, 250])\n",
            "torch.Size([3, 250, 250])\n",
            "torch.Size([3, 250, 250])\n",
            "torch.Size([3, 250, 250])\n",
            "torch.Size([3, 250, 250])\n",
            "torch.Size([3, 250, 250])\n",
            "torch.Size([3, 250, 250])\n",
            "torch.Size([3, 250, 250])\n",
            "torch.Size([3, 250, 250])\n",
            "torch.Size([3, 250, 250])\n",
            "torch.Size([3, 250, 250])\n",
            "torch.Size([3, 250, 250])\n",
            "torch.Size([3, 250, 250])\n",
            "torch.Size([3, 250, 250])\n",
            "torch.Size([3, 250, 250])\n",
            "torch.Size([3, 250, 250])\n",
            "torch.Size([3, 250, 250])\n",
            "torch.Size([3, 250, 250])\n",
            "torch.Size([3, 250, 250])\n",
            "torch.Size([3, 250, 250])\n",
            "torch.Size([3, 250, 250])\n",
            "torch.Size([3, 250, 250])\n",
            "torch.Size([3, 250, 250])\n",
            "torch.Size([3, 250, 250])\n",
            "torch.Size([3, 250, 250])\n",
            "torch.Size([3, 250, 250])\n",
            "torch.Size([3, 250, 250])\n",
            "torch.Size([3, 250, 250])\n",
            "torch.Size([3, 250, 250])\n",
            "torch.Size([3, 250, 250])\n",
            "torch.Size([3, 250, 250])\n",
            "torch.Size([3, 250, 250])\n",
            "torch.Size([3, 250, 250])\n",
            "torch.Size([3, 250, 250])\n",
            "torch.Size([3, 250, 250])\n",
            "torch.Size([3, 250, 250])\n",
            "torch.Size([3, 250, 250])\n",
            "torch.Size([3, 250, 250])\n",
            "torch.Size([3, 250, 250])\n",
            "torch.Size([3, 250, 250])\n",
            "torch.Size([3, 250, 250])\n",
            "torch.Size([3, 250, 250])\n",
            "torch.Size([3, 250, 250])\n",
            "torch.Size([3, 250, 250])\n",
            "torch.Size([3, 250, 250])\n",
            "torch.Size([3, 250, 250])\n",
            "torch.Size([3, 250, 250])\n",
            "torch.Size([3, 250, 250])\n",
            "torch.Size([3, 250, 250])\n",
            "torch.Size([3, 250, 250])\n",
            "torch.Size([3, 250, 250])\n",
            "torch.Size([3, 250, 250])\n",
            "torch.Size([3, 250, 250])\n",
            "torch.Size([3, 250, 250])\n",
            "torch.Size([3, 250, 250])\n",
            "torch.Size([3, 250, 250])\n",
            "torch.Size([3, 250, 250])\n",
            "torch.Size([3, 250, 250])\n",
            "torch.Size([3, 250, 250])\n",
            "torch.Size([3, 250, 250])\n",
            "torch.Size([3, 250, 250])\n",
            "torch.Size([3, 250, 250])\n",
            "torch.Size([3, 250, 250])\n",
            "torch.Size([3, 250, 250])\n",
            "torch.Size([3, 250, 250])\n",
            "torch.Size([3, 250, 250])\n",
            "torch.Size([3, 250, 250])\n",
            "torch.Size([3, 250, 250])\n",
            "torch.Size([3, 250, 250])\n",
            "torch.Size([3, 250, 250])\n",
            "torch.Size([3, 250, 250])\n",
            "torch.Size([3, 250, 250])\n",
            "torch.Size([3, 250, 250])\n",
            "torch.Size([3, 250, 250])\n",
            "torch.Size([3, 250, 250])\n",
            "torch.Size([3, 250, 250])\n",
            "torch.Size([3, 250, 250])\n",
            "torch.Size([3, 250, 250])\n",
            "torch.Size([3, 250, 250])\n",
            "torch.Size([3, 250, 250])\n",
            "torch.Size([3, 250, 250])\n",
            "torch.Size([3, 250, 250])\n",
            "torch.Size([3, 250, 250])\n",
            "torch.Size([3, 250, 250])\n",
            "torch.Size([3, 250, 250])\n",
            "torch.Size([3, 250, 250])\n",
            "torch.Size([3, 250, 250])\n",
            "torch.Size([3, 250, 250])\n",
            "torch.Size([3, 250, 250])\n",
            "torch.Size([3, 250, 250])\n",
            "torch.Size([3, 250, 250])\n",
            "torch.Size([3, 250, 250])\n",
            "torch.Size([3, 250, 250])\n",
            "torch.Size([3, 250, 250])\n",
            "torch.Size([3, 250, 250])\n",
            "torch.Size([3, 250, 250])\n",
            "torch.Size([3, 250, 250])\n",
            "torch.Size([3, 250, 250])\n",
            "torch.Size([3, 250, 250])\n",
            "torch.Size([3, 250, 250])\n",
            "torch.Size([3, 250, 250])\n",
            "torch.Size([3, 250, 250])\n",
            "torch.Size([3, 250, 250])\n",
            "torch.Size([3, 250, 250])\n",
            "torch.Size([3, 250, 250])\n",
            "torch.Size([3, 250, 250])\n",
            "torch.Size([3, 250, 250])\n",
            "torch.Size([3, 250, 250])\n",
            "torch.Size([3, 250, 250])\n",
            "torch.Size([3, 250, 250])\n",
            "torch.Size([3, 250, 250])\n",
            "torch.Size([3, 250, 250])\n",
            "torch.Size([3, 250, 250])\n",
            "torch.Size([3, 250, 250])\n",
            "torch.Size([3, 250, 250])\n",
            "torch.Size([3, 250, 250])\n",
            "torch.Size([3, 250, 250])\n",
            "torch.Size([3, 250, 250])\n",
            "torch.Size([3, 250, 250])\n",
            "torch.Size([3, 250, 250])\n",
            "torch.Size([3, 250, 250])\n",
            "torch.Size([3, 250, 250])\n",
            "torch.Size([3, 250, 250])\n",
            "torch.Size([3, 250, 250])\n",
            "torch.Size([3, 250, 250])\n",
            "torch.Size([3, 250, 250])\n",
            "torch.Size([3, 250, 250])\n",
            "torch.Size([3, 250, 250])\n",
            "torch.Size([3, 250, 250])\n",
            "torch.Size([3, 250, 250])\n",
            "torch.Size([3, 250, 250])\n",
            "torch.Size([3, 250, 250])\n",
            "torch.Size([3, 250, 250])\n",
            "torch.Size([3, 250, 250])\n",
            "torch.Size([3, 250, 250])\n",
            "torch.Size([3, 250, 250])\n",
            "torch.Size([3, 250, 250])\n",
            "torch.Size([3, 250, 250])\n",
            "torch.Size([3, 250, 250])\n",
            "torch.Size([3, 250, 250])\n",
            "torch.Size([3, 250, 250])\n",
            "torch.Size([3, 250, 250])\n",
            "torch.Size([3, 250, 250])\n",
            "torch.Size([3, 250, 250])\n",
            "torch.Size([3, 250, 250])\n",
            "torch.Size([3, 250, 250])\n",
            "torch.Size([3, 250, 250])\n",
            "torch.Size([3, 250, 250])\n",
            "torch.Size([3, 250, 250])\n",
            "torch.Size([3, 250, 250])\n",
            "torch.Size([3, 250, 250])\n",
            "torch.Size([3, 250, 250])\n",
            "torch.Size([3, 250, 250])\n",
            "torch.Size([3, 250, 250])\n",
            "torch.Size([3, 250, 250])\n",
            "torch.Size([3, 250, 250])\n",
            "torch.Size([3, 250, 250])\n",
            "torch.Size([3, 250, 250])\n",
            "torch.Size([3, 250, 250])\n",
            "torch.Size([3, 250, 250])\n",
            "torch.Size([3, 250, 250])\n",
            "torch.Size([3, 250, 250])\n",
            "torch.Size([3, 250, 250])\n",
            "torch.Size([3, 250, 250])\n",
            "torch.Size([3, 250, 250])\n",
            "torch.Size([3, 250, 250])\n",
            "torch.Size([3, 250, 250])\n",
            "torch.Size([3, 250, 250])\n",
            "torch.Size([3, 250, 250])\n",
            "torch.Size([3, 250, 250])\n",
            "torch.Size([3, 250, 250])\n",
            "torch.Size([3, 250, 250])\n",
            "torch.Size([3, 250, 250])\n",
            "torch.Size([3, 250, 250])\n",
            "torch.Size([3, 250, 250])\n",
            "torch.Size([3, 250, 250])\n",
            "torch.Size([3, 250, 250])\n",
            "torch.Size([3, 250, 250])\n",
            "torch.Size([3, 250, 250])\n",
            "torch.Size([3, 250, 250])\n",
            "torch.Size([3, 250, 250])\n",
            "torch.Size([3, 250, 250])\n",
            "torch.Size([3, 250, 250])\n",
            "torch.Size([3, 250, 250])\n",
            "torch.Size([3, 250, 250])\n",
            "torch.Size([3, 250, 250])\n",
            "torch.Size([3, 250, 250])\n",
            "torch.Size([3, 250, 250])\n",
            "torch.Size([3, 250, 250])\n",
            "torch.Size([3, 250, 250])\n",
            "torch.Size([3, 250, 250])\n",
            "torch.Size([3, 250, 250])\n",
            "torch.Size([3, 250, 250])\n",
            "torch.Size([3, 250, 250])\n",
            "torch.Size([3, 250, 250])\n",
            "torch.Size([3, 250, 250])\n",
            "torch.Size([3, 250, 250])\n",
            "torch.Size([3, 250, 250])\n",
            "torch.Size([3, 250, 250])\n",
            "torch.Size([3, 250, 250])\n",
            "torch.Size([3, 250, 250])\n",
            "torch.Size([3, 250, 250])\n",
            "torch.Size([3, 250, 250])\n",
            "torch.Size([3, 250, 250])\n",
            "torch.Size([3, 250, 250])\n",
            "torch.Size([3, 250, 250])\n",
            "torch.Size([3, 250, 250])\n",
            "torch.Size([3, 250, 250])\n",
            "torch.Size([3, 250, 250])\n",
            "torch.Size([3, 250, 250])\n",
            "torch.Size([3, 250, 250])\n",
            "torch.Size([3, 250, 250])\n",
            "torch.Size([3, 250, 250])\n",
            "torch.Size([3, 250, 250])\n",
            "torch.Size([3, 250, 250])\n",
            "torch.Size([3, 250, 250])\n",
            "torch.Size([3, 250, 250])\n",
            "torch.Size([3, 250, 250])\n",
            "torch.Size([3, 250, 250])\n",
            "torch.Size([3, 250, 250])\n",
            "torch.Size([3, 250, 250])\n",
            "torch.Size([3, 250, 250])\n",
            "torch.Size([3, 250, 250])\n",
            "torch.Size([3, 250, 250])\n",
            "torch.Size([3, 250, 250])\n",
            "torch.Size([3, 250, 250])\n",
            "torch.Size([3, 250, 250])\n",
            "torch.Size([3, 250, 250])\n",
            "torch.Size([3, 250, 250])\n",
            "torch.Size([3, 250, 250])\n",
            "torch.Size([3, 250, 250])\n",
            "torch.Size([3, 250, 250])\n",
            "torch.Size([3, 250, 250])\n",
            "torch.Size([3, 250, 250])\n",
            "torch.Size([3, 250, 250])\n",
            "torch.Size([3, 250, 250])\n",
            "torch.Size([3, 250, 250])\n",
            "torch.Size([3, 250, 250])\n",
            "torch.Size([3, 250, 250])\n",
            "torch.Size([3, 250, 250])\n",
            "torch.Size([3, 250, 250])\n",
            "torch.Size([3, 250, 250])\n",
            "torch.Size([3, 250, 250])\n",
            "torch.Size([3, 250, 250])\n",
            "torch.Size([3, 250, 250])\n",
            "torch.Size([3, 250, 250])\n",
            "torch.Size([3, 250, 250])\n",
            "torch.Size([3, 250, 250])\n",
            "torch.Size([3, 250, 250])\n",
            "torch.Size([3, 250, 250])\n",
            "torch.Size([3, 250, 250])\n",
            "torch.Size([3, 250, 250])\n",
            "torch.Size([3, 250, 250])\n",
            "torch.Size([3, 250, 250])\n",
            "torch.Size([3, 250, 250])\n",
            "torch.Size([3, 250, 250])\n",
            "torch.Size([3, 250, 250])\n",
            "torch.Size([3, 250, 250])\n",
            "torch.Size([3, 250, 250])\n",
            "torch.Size([3, 250, 250])\n",
            "torch.Size([3, 250, 250])\n",
            "torch.Size([3, 250, 250])\n",
            "torch.Size([3, 250, 250])\n",
            "torch.Size([3, 250, 250])\n",
            "torch.Size([3, 250, 250])\n",
            "torch.Size([3, 250, 250])\n",
            "torch.Size([3, 250, 250])\n",
            "torch.Size([3, 250, 250])\n",
            "torch.Size([3, 250, 250])\n",
            "torch.Size([3, 250, 250])\n",
            "torch.Size([3, 250, 250])\n",
            "torch.Size([3, 250, 250])\n",
            "torch.Size([3, 250, 250])\n",
            "torch.Size([3, 250, 250])\n",
            "torch.Size([3, 250, 250])\n",
            "torch.Size([3, 250, 250])\n",
            "torch.Size([3, 250, 250])\n",
            "torch.Size([3, 250, 250])\n",
            "torch.Size([3, 250, 250])\n",
            "torch.Size([3, 250, 250])\n",
            "torch.Size([3, 250, 250])\n",
            "torch.Size([3, 250, 250])\n",
            "torch.Size([3, 250, 250])\n",
            "torch.Size([3, 250, 250])\n",
            "torch.Size([3, 250, 250])\n",
            "torch.Size([3, 250, 250])\n",
            "torch.Size([3, 250, 250])\n",
            "torch.Size([3, 250, 250])\n",
            "torch.Size([3, 250, 250])\n",
            "torch.Size([3, 250, 250])\n",
            "torch.Size([3, 250, 250])\n",
            "torch.Size([3, 250, 250])\n",
            "torch.Size([3, 250, 250])\n",
            "torch.Size([3, 250, 250])\n",
            "torch.Size([3, 250, 250])\n",
            "torch.Size([3, 250, 250])\n",
            "torch.Size([3, 250, 250])\n",
            "torch.Size([3, 250, 250])\n",
            "torch.Size([3, 250, 250])\n",
            "torch.Size([3, 250, 250])\n",
            "torch.Size([3, 250, 250])\n",
            "torch.Size([3, 250, 250])\n",
            "torch.Size([3, 250, 250])\n",
            "torch.Size([3, 250, 250])\n",
            "torch.Size([3, 250, 250])\n",
            "torch.Size([3, 250, 250])\n",
            "torch.Size([3, 250, 250])\n",
            "torch.Size([3, 250, 250])\n",
            "torch.Size([3, 250, 250])\n",
            "torch.Size([3, 250, 250])\n",
            "torch.Size([3, 250, 250])\n",
            "torch.Size([3, 250, 250])\n",
            "torch.Size([3, 250, 250])\n",
            "torch.Size([3, 250, 250])\n",
            "torch.Size([3, 250, 250])\n",
            "torch.Size([3, 250, 250])\n",
            "torch.Size([3, 250, 250])\n",
            "torch.Size([3, 250, 250])\n",
            "torch.Size([3, 250, 250])\n",
            "torch.Size([3, 250, 250])\n",
            "torch.Size([3, 250, 250])\n",
            "torch.Size([3, 250, 250])\n",
            "torch.Size([3, 250, 250])\n",
            "torch.Size([3, 250, 250])\n",
            "torch.Size([3, 250, 250])\n",
            "torch.Size([3, 250, 250])\n",
            "torch.Size([3, 250, 250])\n",
            "torch.Size([3, 250, 250])\n",
            "torch.Size([3, 250, 250])\n",
            "torch.Size([3, 250, 250])\n",
            "torch.Size([3, 250, 250])\n",
            "torch.Size([3, 250, 250])\n",
            "torch.Size([3, 250, 250])\n",
            "torch.Size([3, 250, 250])\n",
            "torch.Size([3, 250, 250])\n",
            "torch.Size([3, 250, 250])\n",
            "torch.Size([3, 250, 250])\n",
            "torch.Size([3, 250, 250])\n",
            "torch.Size([3, 250, 250])\n",
            "torch.Size([3, 250, 250])\n",
            "torch.Size([3, 250, 250])\n",
            "torch.Size([3, 250, 250])\n",
            "torch.Size([3, 250, 250])\n",
            "torch.Size([3, 250, 250])\n",
            "torch.Size([3, 250, 250])\n",
            "torch.Size([3, 250, 250])\n",
            "torch.Size([3, 250, 250])\n",
            "torch.Size([3, 250, 250])\n",
            "torch.Size([3, 250, 250])\n",
            "torch.Size([3, 250, 250])\n",
            "torch.Size([3, 250, 250])\n",
            "torch.Size([3, 250, 250])\n",
            "torch.Size([3, 250, 250])\n",
            "torch.Size([3, 250, 250])\n",
            "torch.Size([3, 250, 250])\n",
            "torch.Size([3, 250, 250])\n",
            "torch.Size([3, 250, 250])\n",
            "torch.Size([3, 250, 250])\n",
            "torch.Size([3, 250, 250])\n",
            "torch.Size([3, 250, 250])\n",
            "torch.Size([3, 250, 250])\n",
            "torch.Size([3, 250, 250])\n",
            "torch.Size([3, 250, 250])\n",
            "torch.Size([3, 250, 250])\n",
            "torch.Size([3, 250, 250])\n",
            "torch.Size([3, 250, 250])\n",
            "torch.Size([3, 250, 250])\n",
            "torch.Size([3, 250, 250])\n",
            "torch.Size([3, 250, 250])\n",
            "torch.Size([3, 250, 250])\n",
            "torch.Size([3, 250, 250])\n",
            "torch.Size([3, 250, 250])\n",
            "torch.Size([3, 250, 250])\n",
            "torch.Size([3, 250, 250])\n",
            "torch.Size([3, 250, 250])\n",
            "torch.Size([3, 250, 250])\n",
            "torch.Size([3, 250, 250])\n",
            "torch.Size([3, 250, 250])\n",
            "torch.Size([3, 250, 250])\n",
            "torch.Size([3, 250, 250])\n",
            "torch.Size([3, 250, 250])\n",
            "torch.Size([3, 250, 250])\n",
            "torch.Size([3, 250, 250])\n",
            "torch.Size([3, 250, 250])\n",
            "torch.Size([3, 250, 250])\n",
            "torch.Size([3, 250, 250])\n",
            "torch.Size([3, 250, 250])\n",
            "torch.Size([3, 250, 250])\n",
            "torch.Size([3, 250, 250])\n",
            "torch.Size([3, 250, 250])\n",
            "torch.Size([3, 250, 250])\n",
            "torch.Size([3, 250, 250])\n",
            "torch.Size([3, 250, 250])\n",
            "torch.Size([3, 250, 250])\n",
            "torch.Size([3, 250, 250])\n",
            "torch.Size([3, 250, 250])\n",
            "torch.Size([3, 250, 250])\n",
            "torch.Size([3, 250, 250])\n",
            "torch.Size([3, 250, 250])\n",
            "torch.Size([3, 250, 250])\n",
            "torch.Size([3, 250, 250])\n",
            "torch.Size([3, 250, 250])\n",
            "torch.Size([3, 250, 250])\n",
            "torch.Size([3, 250, 250])\n",
            "torch.Size([3, 250, 250])\n",
            "torch.Size([3, 250, 250])\n",
            "torch.Size([3, 250, 250])\n",
            "torch.Size([3, 250, 250])\n",
            "torch.Size([3, 250, 250])\n",
            "torch.Size([3, 250, 250])\n",
            "torch.Size([3, 250, 250])\n",
            "torch.Size([3, 250, 250])\n",
            "torch.Size([3, 250, 250])\n",
            "torch.Size([3, 250, 250])\n",
            "torch.Size([3, 250, 250])\n",
            "torch.Size([3, 250, 250])\n",
            "torch.Size([3, 250, 250])\n",
            "torch.Size([3, 250, 250])\n",
            "torch.Size([3, 250, 250])\n",
            "torch.Size([3, 250, 250])\n",
            "torch.Size([3, 250, 250])\n",
            "torch.Size([3, 250, 250])\n",
            "torch.Size([3, 250, 250])\n",
            "torch.Size([3, 250, 250])\n",
            "torch.Size([3, 250, 250])\n",
            "torch.Size([3, 250, 250])\n",
            "torch.Size([3, 250, 250])\n",
            "torch.Size([3, 250, 250])\n",
            "torch.Size([3, 250, 250])\n",
            "torch.Size([3, 250, 250])\n",
            "torch.Size([3, 250, 250])\n",
            "torch.Size([3, 250, 250])\n",
            "torch.Size([3, 250, 250])\n",
            "torch.Size([3, 250, 250])\n",
            "torch.Size([3, 250, 250])\n",
            "torch.Size([3, 250, 250])\n",
            "torch.Size([3, 250, 250])\n",
            "torch.Size([3, 250, 250])\n",
            "torch.Size([3, 250, 250])\n",
            "torch.Size([3, 250, 250])\n",
            "torch.Size([3, 250, 250])\n",
            "torch.Size([3, 250, 250])\n",
            "torch.Size([3, 250, 250])\n",
            "torch.Size([3, 250, 250])\n",
            "torch.Size([3, 250, 250])\n",
            "torch.Size([3, 250, 250])\n",
            "torch.Size([3, 250, 250])\n",
            "torch.Size([3, 250, 250])\n",
            "torch.Size([3, 250, 250])\n",
            "torch.Size([3, 250, 250])\n",
            "torch.Size([3, 250, 250])\n",
            "torch.Size([3, 250, 250])\n",
            "torch.Size([3, 250, 250])\n",
            "torch.Size([3, 250, 250])\n",
            "torch.Size([3, 250, 250])\n",
            "torch.Size([3, 250, 250])\n",
            "torch.Size([3, 250, 250])\n",
            "torch.Size([3, 250, 250])\n",
            "torch.Size([3, 250, 250])\n",
            "torch.Size([3, 250, 250])\n",
            "torch.Size([3, 250, 250])\n",
            "torch.Size([3, 250, 250])\n",
            "torch.Size([3, 250, 250])\n",
            "torch.Size([3, 250, 250])\n",
            "torch.Size([3, 250, 250])\n",
            "torch.Size([3, 250, 250])\n",
            "torch.Size([3, 250, 250])\n",
            "torch.Size([3, 250, 250])\n",
            "torch.Size([3, 250, 250])\n",
            "torch.Size([3, 250, 250])\n",
            "torch.Size([3, 250, 250])\n",
            "torch.Size([3, 250, 250])\n",
            "torch.Size([3, 250, 250])\n",
            "torch.Size([3, 250, 250])\n",
            "torch.Size([3, 250, 250])\n",
            "torch.Size([3, 250, 250])\n",
            "torch.Size([3, 250, 250])\n",
            "torch.Size([3, 250, 250])\n",
            "torch.Size([3, 250, 250])\n",
            "torch.Size([3, 250, 250])\n",
            "torch.Size([3, 250, 250])\n",
            "torch.Size([3, 250, 250])\n",
            "torch.Size([3, 250, 250])\n",
            "torch.Size([3, 250, 250])\n",
            "torch.Size([3, 250, 250])\n",
            "torch.Size([3, 250, 250])\n",
            "torch.Size([3, 250, 250])\n",
            "torch.Size([3, 250, 250])\n",
            "torch.Size([3, 250, 250])\n",
            "torch.Size([3, 250, 250])\n",
            "torch.Size([3, 250, 250])\n",
            "torch.Size([3, 250, 250])\n",
            "torch.Size([3, 250, 250])\n",
            "torch.Size([3, 250, 250])\n",
            "torch.Size([3, 250, 250])\n",
            "torch.Size([3, 250, 250])\n",
            "torch.Size([3, 250, 250])\n",
            "torch.Size([3, 250, 250])\n",
            "torch.Size([3, 250, 250])\n",
            "torch.Size([3, 250, 250])\n",
            "torch.Size([3, 250, 250])\n",
            "torch.Size([3, 250, 250])\n",
            "torch.Size([3, 250, 250])\n",
            "torch.Size([3, 250, 250])\n",
            "torch.Size([3, 250, 250])\n",
            "torch.Size([3, 250, 250])\n",
            "torch.Size([3, 250, 250])\n",
            "torch.Size([3, 250, 250])\n",
            "torch.Size([3, 250, 250])\n",
            "torch.Size([3, 250, 250])\n",
            "torch.Size([3, 250, 250])\n",
            "torch.Size([3, 250, 250])\n",
            "torch.Size([3, 250, 250])\n",
            "torch.Size([3, 250, 250])\n",
            "torch.Size([3, 250, 250])\n",
            "torch.Size([3, 250, 250])\n",
            "torch.Size([3, 250, 250])\n",
            "torch.Size([3, 250, 250])\n",
            "torch.Size([3, 250, 250])\n",
            "torch.Size([3, 250, 250])\n",
            "torch.Size([3, 250, 250])\n",
            "torch.Size([3, 250, 250])\n",
            "torch.Size([3, 250, 250])\n",
            "torch.Size([3, 250, 250])\n",
            "torch.Size([3, 250, 250])\n",
            "torch.Size([3, 250, 250])\n",
            "torch.Size([3, 250, 250])\n",
            "torch.Size([3, 250, 250])\n",
            "torch.Size([3, 250, 250])\n",
            "torch.Size([3, 250, 250])\n",
            "torch.Size([3, 250, 250])\n",
            "torch.Size([3, 250, 250])\n",
            "torch.Size([3, 250, 250])\n",
            "torch.Size([3, 250, 250])\n",
            "torch.Size([3, 250, 250])\n",
            "torch.Size([3, 250, 250])\n",
            "torch.Size([3, 250, 250])\n",
            "torch.Size([3, 250, 250])\n",
            "torch.Size([3, 250, 250])\n",
            "torch.Size([3, 250, 250])\n",
            "torch.Size([3, 250, 250])\n",
            "torch.Size([3, 250, 250])\n",
            "torch.Size([3, 250, 250])\n",
            "torch.Size([3, 250, 250])\n",
            "torch.Size([3, 250, 250])\n",
            "torch.Size([3, 250, 250])\n",
            "torch.Size([3, 250, 250])\n",
            "torch.Size([3, 250, 250])\n",
            "torch.Size([3, 250, 250])\n",
            "torch.Size([3, 250, 250])\n",
            "torch.Size([3, 250, 250])\n",
            "torch.Size([3, 250, 250])\n",
            "torch.Size([3, 250, 250])\n",
            "torch.Size([3, 250, 250])\n",
            "torch.Size([3, 250, 250])\n",
            "torch.Size([3, 250, 250])\n",
            "torch.Size([3, 250, 250])\n",
            "torch.Size([3, 250, 250])\n",
            "torch.Size([3, 250, 250])\n",
            "torch.Size([3, 250, 250])\n",
            "torch.Size([3, 250, 250])\n",
            "torch.Size([3, 250, 250])\n",
            "torch.Size([3, 250, 250])\n",
            "torch.Size([3, 250, 250])\n",
            "torch.Size([3, 250, 250])\n",
            "torch.Size([3, 250, 250])\n",
            "torch.Size([3, 250, 250])\n",
            "torch.Size([3, 250, 250])\n",
            "torch.Size([3, 250, 250])\n",
            "torch.Size([3, 250, 250])\n",
            "torch.Size([3, 250, 250])\n",
            "torch.Size([3, 250, 250])\n",
            "torch.Size([3, 250, 250])\n",
            "torch.Size([3, 250, 250])\n",
            "torch.Size([3, 250, 250])\n",
            "torch.Size([3, 250, 250])\n",
            "torch.Size([3, 250, 250])\n",
            "torch.Size([3, 250, 250])\n",
            "torch.Size([3, 250, 250])\n",
            "torch.Size([3, 250, 250])\n",
            "torch.Size([3, 250, 250])\n",
            "torch.Size([3, 250, 250])\n",
            "torch.Size([3, 250, 250])\n",
            "torch.Size([3, 250, 250])\n",
            "torch.Size([3, 250, 250])\n",
            "torch.Size([3, 250, 250])\n",
            "torch.Size([3, 250, 250])\n",
            "torch.Size([3, 250, 250])\n",
            "torch.Size([3, 250, 250])\n",
            "torch.Size([3, 250, 250])\n",
            "torch.Size([3, 250, 250])\n",
            "torch.Size([3, 250, 250])\n",
            "torch.Size([3, 250, 250])\n",
            "torch.Size([3, 250, 250])\n",
            "torch.Size([3, 250, 250])\n",
            "torch.Size([3, 250, 250])\n",
            "torch.Size([3, 250, 250])\n",
            "torch.Size([3, 250, 250])\n",
            "torch.Size([3, 250, 250])\n",
            "torch.Size([3, 250, 250])\n",
            "torch.Size([3, 250, 250])\n",
            "torch.Size([3, 250, 250])\n",
            "torch.Size([3, 250, 250])\n",
            "torch.Size([3, 250, 250])\n",
            "torch.Size([3, 250, 250])\n",
            "torch.Size([3, 250, 250])\n",
            "torch.Size([3, 250, 250])\n",
            "torch.Size([3, 250, 250])\n",
            "torch.Size([3, 250, 250])\n",
            "torch.Size([3, 250, 250])\n",
            "torch.Size([3, 250, 250])\n",
            "torch.Size([3, 250, 250])\n",
            "torch.Size([3, 250, 250])\n",
            "torch.Size([3, 250, 250])\n",
            "torch.Size([3, 250, 250])\n",
            "torch.Size([3, 250, 250])\n",
            "torch.Size([3, 250, 250])\n",
            "torch.Size([3, 250, 250])\n",
            "torch.Size([3, 250, 250])\n",
            "torch.Size([3, 250, 250])\n",
            "torch.Size([3, 250, 250])\n",
            "torch.Size([3, 250, 250])\n",
            "torch.Size([3, 250, 250])\n",
            "torch.Size([3, 250, 250])\n",
            "torch.Size([3, 250, 250])\n",
            "torch.Size([3, 250, 250])\n",
            "torch.Size([3, 250, 250])\n",
            "torch.Size([3, 250, 250])\n",
            "torch.Size([3, 250, 250])\n",
            "torch.Size([3, 250, 250])\n",
            "torch.Size([3, 250, 250])\n",
            "torch.Size([3, 250, 250])\n",
            "torch.Size([3, 250, 250])\n",
            "torch.Size([3, 250, 250])\n",
            "torch.Size([3, 250, 250])\n",
            "torch.Size([3, 250, 250])\n",
            "torch.Size([3, 250, 250])\n",
            "torch.Size([3, 250, 250])\n",
            "torch.Size([3, 250, 250])\n",
            "torch.Size([3, 250, 250])\n",
            "torch.Size([3, 250, 250])\n",
            "torch.Size([3, 250, 250])\n",
            "torch.Size([3, 250, 250])\n",
            "torch.Size([3, 250, 250])\n",
            "torch.Size([3, 250, 250])\n",
            "torch.Size([3, 250, 250])\n",
            "torch.Size([3, 250, 250])\n",
            "torch.Size([3, 250, 250])\n",
            "torch.Size([3, 250, 250])\n",
            "torch.Size([3, 250, 250])\n",
            "torch.Size([3, 250, 250])\n",
            "torch.Size([3, 250, 250])\n",
            "torch.Size([3, 250, 250])\n",
            "torch.Size([3, 250, 250])\n",
            "torch.Size([3, 250, 250])\n",
            "torch.Size([3, 250, 250])\n",
            "torch.Size([3, 250, 250])\n",
            "torch.Size([3, 250, 250])\n",
            "torch.Size([3, 250, 250])\n",
            "torch.Size([3, 250, 250])\n",
            "torch.Size([3, 250, 250])\n",
            "torch.Size([3, 250, 250])\n",
            "torch.Size([3, 250, 250])\n",
            "torch.Size([3, 250, 250])\n",
            "torch.Size([3, 250, 250])\n",
            "torch.Size([3, 250, 250])\n",
            "torch.Size([3, 250, 250])\n",
            "torch.Size([3, 250, 250])\n",
            "torch.Size([3, 250, 250])\n",
            "torch.Size([3, 250, 250])\n",
            "torch.Size([3, 250, 250])\n",
            "torch.Size([3, 250, 250])\n",
            "torch.Size([3, 250, 250])\n",
            "torch.Size([3, 250, 250])\n",
            "torch.Size([3, 250, 250])\n",
            "torch.Size([3, 250, 250])\n",
            "torch.Size([3, 250, 250])\n",
            "torch.Size([3, 250, 250])\n",
            "torch.Size([3, 250, 250])\n",
            "torch.Size([3, 250, 250])\n",
            "torch.Size([3, 250, 250])\n",
            "torch.Size([3, 250, 250])\n",
            "torch.Size([3, 250, 250])\n",
            "torch.Size([3, 250, 250])\n",
            "torch.Size([3, 250, 250])\n",
            "torch.Size([3, 250, 250])\n",
            "torch.Size([3, 250, 250])\n",
            "torch.Size([3, 250, 250])\n",
            "torch.Size([3, 250, 250])\n",
            "torch.Size([3, 250, 250])\n",
            "torch.Size([3, 250, 250])\n",
            "torch.Size([3, 250, 250])\n",
            "torch.Size([3, 250, 250])\n",
            "torch.Size([3, 250, 250])\n",
            "torch.Size([3, 250, 250])\n",
            "torch.Size([3, 250, 250])\n",
            "torch.Size([3, 250, 250])\n",
            "torch.Size([3, 250, 250])\n",
            "torch.Size([3, 250, 250])\n",
            "torch.Size([3, 250, 250])\n",
            "torch.Size([3, 250, 250])\n",
            "torch.Size([3, 250, 250])\n",
            "torch.Size([3, 250, 250])\n",
            "torch.Size([3, 250, 250])\n",
            "torch.Size([3, 250, 250])\n",
            "torch.Size([3, 250, 250])\n",
            "torch.Size([3, 250, 250])\n",
            "torch.Size([3, 250, 250])\n",
            "torch.Size([3, 250, 250])\n",
            "torch.Size([3, 250, 250])\n",
            "torch.Size([3, 250, 250])\n",
            "torch.Size([3, 250, 250])\n",
            "torch.Size([3, 250, 250])\n",
            "torch.Size([3, 250, 250])\n",
            "torch.Size([3, 250, 250])\n",
            "torch.Size([3, 250, 250])\n",
            "torch.Size([3, 250, 250])\n",
            "torch.Size([3, 250, 250])\n",
            "torch.Size([3, 250, 250])\n",
            "torch.Size([3, 250, 250])\n",
            "torch.Size([3, 250, 250])\n",
            "torch.Size([3, 250, 250])\n",
            "torch.Size([3, 250, 250])\n",
            "torch.Size([3, 250, 250])\n",
            "torch.Size([3, 250, 250])\n",
            "torch.Size([3, 250, 250])\n",
            "torch.Size([3, 250, 250])\n",
            "torch.Size([3, 250, 250])\n",
            "torch.Size([3, 250, 250])\n",
            "torch.Size([3, 250, 250])\n",
            "torch.Size([3, 250, 250])\n",
            "torch.Size([3, 250, 250])\n",
            "torch.Size([3, 250, 250])\n",
            "torch.Size([3, 250, 250])\n",
            "torch.Size([3, 250, 250])\n",
            "torch.Size([3, 250, 250])\n",
            "torch.Size([3, 250, 250])\n",
            "torch.Size([3, 250, 250])\n",
            "torch.Size([3, 250, 250])\n",
            "torch.Size([3, 250, 250])\n",
            "torch.Size([3, 250, 250])\n",
            "torch.Size([3, 250, 250])\n",
            "torch.Size([3, 250, 250])\n",
            "torch.Size([3, 250, 250])\n",
            "torch.Size([3, 250, 250])\n",
            "torch.Size([3, 250, 250])\n",
            "torch.Size([3, 250, 250])\n",
            "torch.Size([3, 250, 250])\n",
            "torch.Size([3, 250, 250])\n",
            "torch.Size([3, 250, 250])\n",
            "torch.Size([3, 250, 250])\n",
            "torch.Size([3, 250, 250])\n",
            "torch.Size([3, 250, 250])\n",
            "torch.Size([3, 250, 250])\n",
            "torch.Size([3, 250, 250])\n",
            "torch.Size([3, 250, 250])\n",
            "torch.Size([3, 250, 250])\n",
            "torch.Size([3, 250, 250])\n",
            "torch.Size([3, 250, 250])\n",
            "torch.Size([3, 250, 250])\n",
            "torch.Size([3, 250, 250])\n",
            "torch.Size([3, 250, 250])\n",
            "torch.Size([3, 250, 250])\n",
            "torch.Size([3, 250, 250])\n",
            "torch.Size([3, 250, 250])\n",
            "torch.Size([3, 250, 250])\n",
            "torch.Size([3, 250, 250])\n",
            "torch.Size([3, 250, 250])\n",
            "torch.Size([3, 250, 250])\n",
            "torch.Size([3, 250, 250])\n",
            "torch.Size([3, 250, 250])\n",
            "torch.Size([3, 250, 250])\n",
            "torch.Size([3, 250, 250])\n",
            "torch.Size([3, 250, 250])\n",
            "torch.Size([3, 250, 250])\n",
            "torch.Size([3, 250, 250])\n",
            "torch.Size([3, 250, 250])\n",
            "torch.Size([3, 250, 250])\n",
            "torch.Size([3, 250, 250])\n",
            "torch.Size([3, 250, 250])\n",
            "torch.Size([3, 250, 250])\n",
            "torch.Size([3, 250, 250])\n",
            "torch.Size([3, 250, 250])\n",
            "torch.Size([3, 250, 250])\n",
            "torch.Size([3, 250, 250])\n",
            "torch.Size([3, 250, 250])\n",
            "torch.Size([3, 250, 250])\n",
            "torch.Size([3, 250, 250])\n",
            "torch.Size([3, 250, 250])\n",
            "torch.Size([3, 250, 250])\n",
            "torch.Size([3, 250, 250])\n",
            "torch.Size([3, 250, 250])\n",
            "torch.Size([3, 250, 250])\n",
            "torch.Size([3, 250, 250])\n",
            "torch.Size([3, 250, 250])\n",
            "torch.Size([3, 250, 250])\n",
            "torch.Size([3, 250, 250])\n",
            "torch.Size([3, 250, 250])\n",
            "torch.Size([3, 250, 250])\n",
            "torch.Size([3, 250, 250])\n",
            "torch.Size([3, 250, 250])\n",
            "torch.Size([3, 250, 250])\n",
            "torch.Size([3, 250, 250])\n",
            "torch.Size([3, 250, 250])\n",
            "torch.Size([3, 250, 250])\n",
            "torch.Size([3, 250, 250])\n",
            "torch.Size([3, 250, 250])\n",
            "torch.Size([3, 250, 250])\n",
            "torch.Size([3, 250, 250])\n",
            "torch.Size([3, 250, 250])\n",
            "torch.Size([3, 250, 250])\n",
            "torch.Size([3, 250, 250])\n",
            "torch.Size([3, 250, 250])\n",
            "torch.Size([3, 250, 250])\n",
            "torch.Size([3, 250, 250])\n",
            "torch.Size([3, 250, 250])\n",
            "torch.Size([3, 250, 250])\n",
            "torch.Size([3, 250, 250])\n",
            "torch.Size([3, 250, 250])\n",
            "torch.Size([3, 250, 250])\n",
            "torch.Size([3, 250, 250])\n",
            "torch.Size([3, 250, 250])\n",
            "torch.Size([3, 250, 250])\n",
            "torch.Size([3, 250, 250])\n",
            "torch.Size([3, 250, 250])\n",
            "torch.Size([3, 250, 250])\n",
            "torch.Size([3, 250, 250])\n",
            "torch.Size([3, 250, 250])\n",
            "torch.Size([3, 250, 250])\n",
            "torch.Size([3, 250, 250])\n",
            "torch.Size([3, 250, 250])\n",
            "torch.Size([3, 250, 250])\n",
            "torch.Size([3, 250, 250])\n",
            "torch.Size([3, 250, 250])\n",
            "torch.Size([3, 250, 250])\n",
            "torch.Size([3, 250, 250])\n",
            "torch.Size([3, 250, 250])\n",
            "torch.Size([3, 250, 250])\n",
            "torch.Size([3, 250, 250])\n",
            "torch.Size([3, 250, 250])\n",
            "torch.Size([3, 250, 250])\n",
            "torch.Size([3, 250, 250])\n",
            "torch.Size([3, 250, 250])\n",
            "torch.Size([3, 250, 250])\n",
            "torch.Size([3, 250, 250])\n",
            "torch.Size([3, 250, 250])\n",
            "torch.Size([3, 250, 250])\n",
            "torch.Size([3, 250, 250])\n",
            "torch.Size([3, 250, 250])\n",
            "torch.Size([3, 250, 250])\n",
            "torch.Size([3, 250, 250])\n",
            "torch.Size([3, 250, 250])\n",
            "torch.Size([3, 250, 250])\n",
            "torch.Size([3, 250, 250])\n",
            "torch.Size([3, 250, 250])\n",
            "torch.Size([3, 250, 250])\n",
            "torch.Size([3, 250, 250])\n",
            "torch.Size([3, 250, 250])\n",
            "torch.Size([3, 250, 250])\n",
            "torch.Size([3, 250, 250])\n",
            "torch.Size([3, 250, 250])\n",
            "torch.Size([3, 250, 250])\n",
            "torch.Size([3, 250, 250])\n",
            "torch.Size([3, 250, 250])\n",
            "torch.Size([3, 250, 250])\n",
            "torch.Size([3, 250, 250])\n",
            "torch.Size([3, 250, 250])\n",
            "torch.Size([3, 250, 250])\n",
            "torch.Size([3, 250, 250])\n",
            "torch.Size([3, 250, 250])\n",
            "torch.Size([3, 250, 250])\n",
            "torch.Size([3, 250, 250])\n",
            "torch.Size([3, 250, 250])\n",
            "torch.Size([3, 250, 250])\n",
            "torch.Size([3, 250, 250])\n",
            "torch.Size([3, 250, 250])\n",
            "torch.Size([3, 250, 250])\n",
            "torch.Size([3, 250, 250])\n",
            "torch.Size([3, 250, 250])\n",
            "torch.Size([3, 250, 250])\n",
            "torch.Size([3, 250, 250])\n",
            "torch.Size([3, 250, 250])\n",
            "torch.Size([3, 250, 250])\n",
            "torch.Size([3, 250, 250])\n",
            "torch.Size([3, 250, 250])\n",
            "torch.Size([3, 250, 250])\n",
            "torch.Size([3, 250, 250])\n",
            "torch.Size([3, 250, 250])\n",
            "torch.Size([3, 250, 250])\n",
            "torch.Size([3, 250, 250])\n",
            "torch.Size([3, 250, 250])\n",
            "torch.Size([3, 250, 250])\n",
            "torch.Size([3, 250, 250])\n",
            "torch.Size([3, 250, 250])\n",
            "torch.Size([3, 250, 250])\n",
            "torch.Size([3, 250, 250])\n",
            "torch.Size([3, 250, 250])\n",
            "torch.Size([3, 250, 250])\n",
            "torch.Size([3, 250, 250])\n",
            "torch.Size([3, 250, 250])\n",
            "torch.Size([3, 250, 250])\n",
            "torch.Size([3, 250, 250])\n",
            "torch.Size([3, 250, 250])\n",
            "torch.Size([3, 250, 250])\n",
            "torch.Size([3, 250, 250])\n",
            "torch.Size([3, 250, 250])\n",
            "torch.Size([3, 250, 250])\n",
            "torch.Size([3, 250, 250])\n",
            "torch.Size([3, 250, 250])\n",
            "torch.Size([3, 250, 250])\n",
            "torch.Size([3, 250, 250])\n",
            "torch.Size([3, 250, 250])\n",
            "torch.Size([3, 250, 250])\n",
            "torch.Size([3, 250, 250])\n",
            "torch.Size([3, 250, 250])\n",
            "torch.Size([3, 250, 250])\n",
            "torch.Size([3, 250, 250])\n",
            "torch.Size([3, 250, 250])\n",
            "torch.Size([3, 250, 250])\n",
            "torch.Size([3, 250, 250])\n",
            "torch.Size([3, 250, 250])\n",
            "torch.Size([3, 250, 250])\n",
            "torch.Size([3, 250, 250])\n",
            "torch.Size([3, 250, 250])\n",
            "torch.Size([3, 250, 250])\n",
            "torch.Size([3, 250, 250])\n",
            "torch.Size([3, 250, 250])\n",
            "torch.Size([3, 250, 250])\n",
            "torch.Size([3, 250, 250])\n",
            "torch.Size([3, 250, 250])\n",
            "torch.Size([3, 250, 250])\n",
            "torch.Size([3, 250, 250])\n",
            "torch.Size([3, 250, 250])\n",
            "torch.Size([3, 250, 250])\n",
            "torch.Size([3, 250, 250])\n",
            "torch.Size([3, 250, 250])\n",
            "torch.Size([3, 250, 250])\n",
            "torch.Size([3, 250, 250])\n",
            "torch.Size([3, 250, 250])\n",
            "torch.Size([3, 250, 250])\n",
            "torch.Size([3, 250, 250])\n",
            "torch.Size([3, 250, 250])\n",
            "torch.Size([3, 250, 250])\n",
            "torch.Size([3, 250, 250])\n",
            "torch.Size([3, 250, 250])\n",
            "torch.Size([3, 250, 250])\n",
            "torch.Size([3, 250, 250])\n",
            "torch.Size([3, 250, 250])\n",
            "torch.Size([3, 250, 250])\n",
            "torch.Size([3, 250, 250])\n",
            "torch.Size([3, 250, 250])\n",
            "torch.Size([3, 250, 250])\n",
            "torch.Size([3, 250, 250])\n",
            "torch.Size([3, 250, 250])\n",
            "torch.Size([3, 250, 250])\n",
            "torch.Size([3, 250, 250])\n",
            "torch.Size([3, 250, 250])\n",
            "torch.Size([3, 250, 250])\n",
            "torch.Size([3, 250, 250])\n",
            "torch.Size([3, 250, 250])\n",
            "torch.Size([3, 250, 250])\n",
            "torch.Size([3, 250, 250])\n",
            "torch.Size([3, 250, 250])\n",
            "torch.Size([3, 250, 250])\n",
            "torch.Size([3, 250, 250])\n",
            "torch.Size([3, 250, 250])\n",
            "torch.Size([3, 250, 250])\n",
            "torch.Size([3, 250, 250])\n",
            "torch.Size([3, 250, 250])\n",
            "torch.Size([3, 250, 250])\n",
            "torch.Size([3, 250, 250])\n",
            "torch.Size([3, 250, 250])\n",
            "torch.Size([3, 250, 250])\n",
            "torch.Size([3, 250, 250])\n",
            "torch.Size([3, 250, 250])\n",
            "torch.Size([3, 250, 250])\n",
            "torch.Size([3, 250, 250])\n",
            "torch.Size([3, 250, 250])\n",
            "torch.Size([3, 250, 250])\n",
            "torch.Size([3, 250, 250])\n",
            "torch.Size([3, 250, 250])\n",
            "torch.Size([3, 250, 250])\n",
            "torch.Size([3, 250, 250])\n",
            "torch.Size([3, 250, 250])\n",
            "torch.Size([3, 250, 250])\n",
            "torch.Size([3, 250, 250])\n",
            "torch.Size([3, 250, 250])\n",
            "torch.Size([3, 250, 250])\n",
            "torch.Size([3, 250, 250])\n",
            "torch.Size([3, 250, 250])\n",
            "torch.Size([3, 250, 250])\n",
            "torch.Size([3, 250, 250])\n",
            "torch.Size([3, 250, 250])\n",
            "torch.Size([3, 250, 250])\n",
            "torch.Size([3, 250, 250])\n",
            "torch.Size([3, 250, 250])\n",
            "torch.Size([3, 250, 250])\n",
            "torch.Size([3, 250, 250])\n",
            "torch.Size([3, 250, 250])\n",
            "torch.Size([3, 250, 250])\n",
            "torch.Size([3, 250, 250])\n",
            "torch.Size([3, 250, 250])\n",
            "torch.Size([3, 250, 250])\n",
            "torch.Size([3, 250, 250])\n",
            "torch.Size([3, 250, 250])\n",
            "torch.Size([3, 250, 250])\n",
            "torch.Size([3, 250, 250])\n",
            "torch.Size([3, 250, 250])\n",
            "torch.Size([3, 250, 250])\n",
            "torch.Size([3, 250, 250])\n",
            "torch.Size([3, 250, 250])\n",
            "torch.Size([3, 250, 250])\n",
            "torch.Size([3, 250, 250])\n",
            "torch.Size([3, 250, 250])\n",
            "torch.Size([3, 250, 250])\n",
            "torch.Size([3, 250, 250])\n",
            "torch.Size([3, 250, 250])\n",
            "torch.Size([3, 250, 250])\n",
            "torch.Size([3, 250, 250])\n",
            "torch.Size([3, 250, 250])\n",
            "torch.Size([3, 250, 250])\n",
            "torch.Size([3, 250, 250])\n",
            "torch.Size([3, 250, 250])\n",
            "torch.Size([3, 250, 250])\n",
            "torch.Size([3, 250, 250])\n",
            "torch.Size([3, 250, 250])\n",
            "torch.Size([3, 250, 250])\n",
            "torch.Size([3, 250, 250])\n",
            "torch.Size([3, 250, 250])\n",
            "torch.Size([3, 250, 250])\n",
            "torch.Size([3, 250, 250])\n",
            "torch.Size([3, 250, 250])\n",
            "torch.Size([3, 250, 250])\n",
            "torch.Size([3, 250, 250])\n",
            "torch.Size([3, 250, 250])\n",
            "torch.Size([3, 250, 250])\n",
            "torch.Size([3, 250, 250])\n",
            "torch.Size([3, 250, 250])\n",
            "torch.Size([3, 250, 250])\n",
            "torch.Size([3, 250, 250])\n",
            "torch.Size([3, 250, 250])\n",
            "torch.Size([3, 250, 250])\n",
            "torch.Size([3, 250, 250])\n",
            "torch.Size([3, 250, 250])\n",
            "torch.Size([3, 250, 250])\n",
            "torch.Size([3, 250, 250])\n",
            "torch.Size([3, 250, 250])\n",
            "torch.Size([3, 250, 250])\n",
            "torch.Size([3, 250, 250])\n",
            "torch.Size([3, 250, 250])\n",
            "torch.Size([3, 250, 250])\n",
            "torch.Size([3, 250, 250])\n",
            "torch.Size([3, 250, 250])\n",
            "torch.Size([3, 250, 250])\n",
            "torch.Size([3, 250, 250])\n",
            "torch.Size([3, 250, 250])\n",
            "torch.Size([3, 250, 250])\n",
            "torch.Size([3, 250, 250])\n",
            "torch.Size([3, 250, 250])\n",
            "torch.Size([3, 250, 250])\n",
            "torch.Size([3, 250, 250])\n",
            "torch.Size([3, 250, 250])\n",
            "torch.Size([3, 250, 250])\n",
            "torch.Size([3, 250, 250])\n",
            "torch.Size([3, 250, 250])\n",
            "torch.Size([3, 250, 250])\n",
            "torch.Size([3, 250, 250])\n",
            "torch.Size([3, 250, 250])\n",
            "torch.Size([3, 250, 250])\n",
            "torch.Size([3, 250, 250])\n",
            "torch.Size([3, 250, 250])\n",
            "torch.Size([3, 250, 250])\n",
            "torch.Size([3, 250, 250])\n",
            "torch.Size([3, 250, 250])\n",
            "torch.Size([3, 250, 250])\n",
            "torch.Size([3, 250, 250])\n",
            "torch.Size([3, 250, 250])\n",
            "torch.Size([3, 250, 250])\n",
            "torch.Size([3, 250, 250])\n",
            "torch.Size([3, 250, 250])\n",
            "torch.Size([3, 250, 250])\n",
            "torch.Size([3, 250, 250])\n",
            "torch.Size([3, 250, 250])\n",
            "torch.Size([3, 250, 250])\n",
            "torch.Size([3, 250, 250])\n",
            "torch.Size([3, 250, 250])\n",
            "torch.Size([3, 250, 250])\n",
            "torch.Size([3, 250, 250])\n",
            "torch.Size([3, 250, 250])\n",
            "torch.Size([3, 250, 250])\n",
            "torch.Size([3, 250, 250])\n",
            "torch.Size([3, 250, 250])\n",
            "torch.Size([3, 250, 250])\n",
            "torch.Size([3, 250, 250])\n",
            "torch.Size([3, 250, 250])\n",
            "torch.Size([3, 250, 250])\n",
            "torch.Size([3, 250, 250])\n",
            "torch.Size([3, 250, 250])\n",
            "torch.Size([3, 250, 250])\n",
            "torch.Size([3, 250, 250])\n",
            "torch.Size([3, 250, 250])\n",
            "torch.Size([3, 250, 250])\n",
            "torch.Size([3, 250, 250])\n",
            "torch.Size([3, 250, 250])\n",
            "torch.Size([3, 250, 250])\n",
            "torch.Size([3, 250, 250])\n",
            "torch.Size([3, 250, 250])\n",
            "torch.Size([3, 250, 250])\n",
            "torch.Size([3, 250, 250])\n",
            "torch.Size([3, 250, 250])\n",
            "torch.Size([3, 250, 250])\n",
            "torch.Size([3, 250, 250])\n",
            "torch.Size([3, 250, 250])\n",
            "torch.Size([3, 250, 250])\n",
            "torch.Size([3, 250, 250])\n",
            "torch.Size([3, 250, 250])\n",
            "torch.Size([3, 250, 250])\n",
            "torch.Size([3, 250, 250])\n",
            "torch.Size([3, 250, 250])\n",
            "torch.Size([3, 250, 250])\n",
            "torch.Size([3, 250, 250])\n",
            "torch.Size([3, 250, 250])\n",
            "torch.Size([3, 250, 250])\n",
            "torch.Size([3, 250, 250])\n",
            "torch.Size([3, 250, 250])\n",
            "torch.Size([3, 250, 250])\n",
            "torch.Size([3, 250, 250])\n",
            "torch.Size([3, 250, 250])\n",
            "torch.Size([3, 250, 250])\n",
            "torch.Size([3, 250, 250])\n",
            "torch.Size([3, 250, 250])\n",
            "torch.Size([3, 250, 250])\n",
            "torch.Size([3, 250, 250])\n",
            "torch.Size([3, 250, 250])\n",
            "torch.Size([3, 250, 250])\n",
            "torch.Size([3, 250, 250])\n",
            "torch.Size([3, 250, 250])\n",
            "torch.Size([3, 250, 250])\n",
            "torch.Size([3, 250, 250])\n",
            "torch.Size([3, 250, 250])\n",
            "torch.Size([3, 250, 250])\n",
            "torch.Size([3, 250, 250])\n",
            "torch.Size([3, 250, 250])\n",
            "torch.Size([3, 250, 250])\n",
            "torch.Size([3, 250, 250])\n",
            "torch.Size([3, 250, 250])\n",
            "torch.Size([3, 250, 250])\n",
            "torch.Size([3, 250, 250])\n",
            "torch.Size([3, 250, 250])\n",
            "torch.Size([3, 250, 250])\n",
            "torch.Size([3, 250, 250])\n",
            "torch.Size([3, 250, 250])\n",
            "torch.Size([3, 250, 250])\n",
            "torch.Size([3, 250, 250])\n",
            "torch.Size([3, 250, 250])\n",
            "torch.Size([3, 250, 250])\n",
            "torch.Size([3, 250, 250])\n",
            "torch.Size([3, 250, 250])\n",
            "torch.Size([3, 250, 250])\n",
            "torch.Size([3, 250, 250])\n",
            "torch.Size([3, 250, 250])\n",
            "torch.Size([3, 250, 250])\n",
            "torch.Size([3, 250, 250])\n",
            "torch.Size([3, 250, 250])\n",
            "torch.Size([3, 250, 250])\n",
            "torch.Size([3, 250, 250])\n",
            "torch.Size([3, 250, 250])\n",
            "torch.Size([3, 250, 250])\n",
            "torch.Size([3, 250, 250])\n",
            "torch.Size([3, 250, 250])\n",
            "torch.Size([3, 250, 250])\n",
            "torch.Size([3, 250, 250])\n",
            "torch.Size([3, 250, 250])\n",
            "torch.Size([3, 250, 250])\n",
            "torch.Size([3, 250, 250])\n",
            "torch.Size([3, 250, 250])\n",
            "torch.Size([3, 250, 250])\n",
            "torch.Size([3, 250, 250])\n",
            "torch.Size([3, 250, 250])\n",
            "torch.Size([3, 250, 250])\n",
            "torch.Size([3, 250, 250])\n",
            "torch.Size([3, 250, 250])\n",
            "torch.Size([3, 250, 250])\n",
            "torch.Size([3, 250, 250])\n",
            "torch.Size([3, 250, 250])\n",
            "torch.Size([3, 250, 250])\n",
            "torch.Size([3, 250, 250])\n",
            "torch.Size([3, 250, 250])\n",
            "torch.Size([3, 250, 250])\n",
            "torch.Size([3, 250, 250])\n",
            "torch.Size([3, 250, 250])\n",
            "torch.Size([3, 250, 250])\n",
            "torch.Size([3, 250, 250])\n",
            "torch.Size([3, 250, 250])\n",
            "torch.Size([3, 250, 250])\n",
            "torch.Size([3, 250, 250])\n",
            "torch.Size([3, 250, 250])\n",
            "torch.Size([3, 250, 250])\n",
            "torch.Size([3, 250, 250])\n",
            "torch.Size([3, 250, 250])\n",
            "torch.Size([3, 250, 250])\n",
            "torch.Size([3, 250, 250])\n",
            "torch.Size([3, 250, 250])\n",
            "torch.Size([3, 250, 250])\n",
            "torch.Size([3, 250, 250])\n",
            "torch.Size([3, 250, 250])\n",
            "torch.Size([3, 250, 250])\n",
            "torch.Size([3, 250, 250])\n",
            "torch.Size([3, 250, 250])\n",
            "torch.Size([3, 250, 250])\n",
            "torch.Size([3, 250, 250])\n",
            "torch.Size([3, 250, 250])\n",
            "torch.Size([3, 250, 250])\n",
            "torch.Size([3, 250, 250])\n",
            "torch.Size([3, 250, 250])\n",
            "torch.Size([3, 250, 250])\n",
            "torch.Size([3, 250, 250])\n",
            "torch.Size([3, 250, 250])\n",
            "torch.Size([3, 250, 250])\n",
            "torch.Size([3, 250, 250])\n",
            "torch.Size([3, 250, 250])\n",
            "torch.Size([3, 250, 250])\n",
            "torch.Size([3, 250, 250])\n",
            "torch.Size([3, 250, 250])\n",
            "torch.Size([3, 250, 250])\n",
            "torch.Size([3, 250, 250])\n",
            "torch.Size([3, 250, 250])\n",
            "torch.Size([3, 250, 250])\n",
            "torch.Size([3, 250, 250])\n",
            "torch.Size([3, 250, 250])\n",
            "torch.Size([3, 250, 250])\n",
            "torch.Size([3, 250, 250])\n",
            "torch.Size([3, 250, 250])\n",
            "torch.Size([3, 250, 250])\n",
            "torch.Size([3, 250, 250])\n",
            "torch.Size([3, 250, 250])\n",
            "torch.Size([3, 250, 250])\n",
            "torch.Size([3, 250, 250])\n",
            "torch.Size([3, 250, 250])\n",
            "torch.Size([3, 250, 250])\n",
            "torch.Size([3, 250, 250])\n",
            "torch.Size([3, 250, 250])\n",
            "torch.Size([3, 250, 250])\n",
            "torch.Size([3, 250, 250])\n",
            "torch.Size([3, 250, 250])\n",
            "torch.Size([3, 250, 250])\n",
            "torch.Size([3, 250, 250])\n",
            "torch.Size([3, 250, 250])\n",
            "torch.Size([3, 250, 250])\n",
            "torch.Size([3, 250, 250])\n",
            "torch.Size([3, 250, 250])\n",
            "torch.Size([3, 250, 250])\n",
            "torch.Size([3, 250, 250])\n",
            "torch.Size([3, 250, 250])\n",
            "torch.Size([3, 250, 250])\n",
            "torch.Size([3, 250, 250])\n",
            "torch.Size([3, 250, 250])\n",
            "torch.Size([3, 250, 250])\n",
            "torch.Size([3, 250, 250])\n",
            "torch.Size([3, 250, 250])\n",
            "torch.Size([3, 250, 250])\n",
            "torch.Size([3, 250, 250])\n",
            "torch.Size([3, 250, 250])\n",
            "torch.Size([3, 250, 250])\n",
            "torch.Size([3, 250, 250])\n",
            "torch.Size([3, 250, 250])\n",
            "torch.Size([3, 250, 250])\n",
            "torch.Size([3, 250, 250])\n",
            "torch.Size([3, 250, 250])\n",
            "torch.Size([3, 250, 250])\n",
            "torch.Size([3, 250, 250])\n",
            "torch.Size([3, 250, 250])\n",
            "torch.Size([3, 250, 250])\n",
            "torch.Size([3, 250, 250])\n",
            "torch.Size([3, 250, 250])\n",
            "torch.Size([3, 250, 250])\n",
            "torch.Size([3, 250, 250])\n",
            "torch.Size([3, 250, 250])\n",
            "torch.Size([3, 250, 250])\n",
            "torch.Size([3, 250, 250])\n",
            "torch.Size([3, 250, 250])\n",
            "torch.Size([3, 250, 250])\n",
            "torch.Size([3, 250, 250])\n",
            "torch.Size([3, 250, 250])\n",
            "torch.Size([3, 250, 250])\n",
            "torch.Size([3, 250, 250])\n",
            "torch.Size([3, 250, 250])\n",
            "torch.Size([3, 250, 250])\n",
            "torch.Size([3, 250, 250])\n",
            "torch.Size([3, 250, 250])\n",
            "torch.Size([3, 250, 250])\n",
            "torch.Size([3, 250, 250])\n",
            "torch.Size([3, 250, 250])\n",
            "torch.Size([3, 250, 250])\n",
            "torch.Size([3, 250, 250])\n",
            "torch.Size([3, 250, 250])\n",
            "torch.Size([3, 250, 250])\n",
            "torch.Size([3, 250, 250])\n",
            "torch.Size([3, 250, 250])\n",
            "torch.Size([3, 250, 250])\n",
            "torch.Size([3, 250, 250])\n",
            "torch.Size([3, 250, 250])\n",
            "torch.Size([3, 250, 250])\n",
            "torch.Size([3, 250, 250])\n",
            "torch.Size([3, 250, 250])\n",
            "torch.Size([3, 250, 250])\n",
            "torch.Size([3, 250, 250])\n",
            "torch.Size([3, 250, 250])\n",
            "torch.Size([3, 250, 250])\n",
            "torch.Size([3, 250, 250])\n",
            "torch.Size([3, 250, 250])\n",
            "torch.Size([3, 250, 250])\n",
            "torch.Size([3, 250, 250])\n",
            "torch.Size([3, 250, 250])\n",
            "torch.Size([3, 250, 250])\n",
            "torch.Size([3, 250, 250])\n",
            "torch.Size([3, 250, 250])\n",
            "torch.Size([3, 250, 250])\n",
            "torch.Size([3, 250, 250])\n",
            "torch.Size([3, 250, 250])\n",
            "torch.Size([3, 250, 250])\n",
            "torch.Size([3, 250, 250])\n",
            "torch.Size([3, 250, 250])\n",
            "torch.Size([3, 250, 250])\n",
            "torch.Size([3, 250, 250])\n",
            "torch.Size([3, 250, 250])\n",
            "torch.Size([3, 250, 250])\n",
            "torch.Size([3, 250, 250])\n",
            "torch.Size([3, 250, 250])\n",
            "torch.Size([3, 250, 250])\n",
            "torch.Size([3, 250, 250])\n",
            "torch.Size([3, 250, 250])\n",
            "torch.Size([3, 250, 250])\n",
            "torch.Size([3, 250, 250])\n",
            "torch.Size([3, 250, 250])\n",
            "torch.Size([3, 250, 250])\n",
            "torch.Size([3, 250, 250])\n",
            "torch.Size([3, 250, 250])\n",
            "torch.Size([3, 250, 250])\n",
            "torch.Size([3, 250, 250])\n",
            "torch.Size([3, 250, 250])\n",
            "torch.Size([3, 250, 250])\n",
            "torch.Size([3, 250, 250])\n",
            "torch.Size([3, 250, 250])\n",
            "torch.Size([3, 250, 250])\n",
            "torch.Size([3, 250, 250])\n",
            "torch.Size([3, 250, 250])\n",
            "torch.Size([3, 250, 250])\n",
            "torch.Size([3, 250, 250])\n",
            "torch.Size([3, 250, 250])\n",
            "torch.Size([3, 250, 250])\n",
            "torch.Size([3, 250, 250])\n",
            "torch.Size([3, 250, 250])\n",
            "torch.Size([3, 250, 250])\n",
            "torch.Size([3, 250, 250])\n",
            "torch.Size([3, 250, 250])\n",
            "torch.Size([3, 250, 250])\n",
            "torch.Size([3, 250, 250])\n",
            "torch.Size([3, 250, 250])\n",
            "torch.Size([3, 250, 250])\n",
            "torch.Size([3, 250, 250])\n",
            "torch.Size([3, 250, 250])\n",
            "torch.Size([3, 250, 250])\n",
            "torch.Size([3, 250, 250])\n",
            "torch.Size([3, 250, 250])\n",
            "torch.Size([3, 250, 250])\n",
            "torch.Size([3, 250, 250])\n",
            "torch.Size([3, 250, 250])\n",
            "torch.Size([3, 250, 250])\n",
            "torch.Size([3, 250, 250])\n",
            "torch.Size([3, 250, 250])\n",
            "torch.Size([3, 250, 250])\n",
            "torch.Size([3, 250, 250])\n",
            "torch.Size([3, 250, 250])\n",
            "torch.Size([3, 250, 250])\n",
            "torch.Size([3, 250, 250])\n",
            "torch.Size([3, 250, 250])\n",
            "torch.Size([3, 250, 250])\n",
            "torch.Size([3, 250, 250])\n",
            "torch.Size([3, 250, 250])\n",
            "torch.Size([3, 250, 250])\n",
            "torch.Size([3, 250, 250])\n",
            "torch.Size([3, 250, 250])\n",
            "torch.Size([3, 250, 250])\n",
            "torch.Size([3, 250, 250])\n",
            "torch.Size([3, 250, 250])\n",
            "torch.Size([3, 250, 250])\n",
            "torch.Size([3, 250, 250])\n",
            "torch.Size([3, 250, 250])\n",
            "torch.Size([3, 250, 250])\n",
            "torch.Size([3, 250, 250])\n",
            "torch.Size([3, 250, 250])\n",
            "torch.Size([3, 250, 250])\n",
            "torch.Size([3, 250, 250])\n",
            "torch.Size([3, 250, 250])\n",
            "torch.Size([3, 250, 250])\n",
            "torch.Size([3, 250, 250])\n",
            "torch.Size([3, 250, 250])\n",
            "torch.Size([3, 250, 250])\n",
            "torch.Size([3, 250, 250])\n",
            "torch.Size([3, 250, 250])\n",
            "torch.Size([3, 250, 250])\n",
            "torch.Size([3, 250, 250])\n",
            "torch.Size([3, 250, 250])\n",
            "torch.Size([3, 250, 250])\n",
            "torch.Size([3, 250, 250])\n",
            "torch.Size([3, 250, 250])\n",
            "torch.Size([3, 250, 250])\n",
            "torch.Size([3, 250, 250])\n",
            "torch.Size([3, 250, 250])\n",
            "torch.Size([3, 250, 250])\n",
            "torch.Size([3, 250, 250])\n",
            "torch.Size([3, 250, 250])\n",
            "torch.Size([3, 250, 250])\n",
            "torch.Size([3, 250, 250])\n",
            "torch.Size([3, 250, 250])\n",
            "torch.Size([3, 250, 250])\n",
            "torch.Size([3, 250, 250])\n",
            "torch.Size([3, 250, 250])\n",
            "torch.Size([3, 250, 250])\n",
            "torch.Size([3, 250, 250])\n",
            "torch.Size([3, 250, 250])\n",
            "torch.Size([3, 250, 250])\n",
            "torch.Size([3, 250, 250])\n",
            "torch.Size([3, 250, 250])\n",
            "torch.Size([3, 250, 250])\n",
            "torch.Size([3, 250, 250])\n",
            "torch.Size([3, 250, 250])\n",
            "torch.Size([3, 250, 250])\n",
            "torch.Size([3, 250, 250])\n",
            "torch.Size([3, 250, 250])\n",
            "torch.Size([3, 250, 250])\n",
            "torch.Size([3, 250, 250])\n",
            "torch.Size([3, 250, 250])\n",
            "torch.Size([3, 250, 250])\n",
            "torch.Size([3, 250, 250])\n",
            "torch.Size([3, 250, 250])\n",
            "torch.Size([3, 250, 250])\n",
            "torch.Size([3, 250, 250])\n",
            "torch.Size([3, 250, 250])\n",
            "torch.Size([3, 250, 250])\n",
            "torch.Size([3, 250, 250])\n",
            "torch.Size([3, 250, 250])\n",
            "torch.Size([3, 250, 250])\n",
            "torch.Size([3, 250, 250])\n",
            "torch.Size([3, 250, 250])\n",
            "torch.Size([3, 250, 250])\n",
            "torch.Size([3, 250, 250])\n",
            "torch.Size([3, 250, 250])\n",
            "torch.Size([3, 250, 250])\n",
            "torch.Size([3, 250, 250])\n",
            "torch.Size([3, 250, 250])\n",
            "torch.Size([3, 250, 250])\n",
            "torch.Size([3, 250, 250])\n",
            "torch.Size([3, 250, 250])\n",
            "torch.Size([3, 250, 250])\n",
            "torch.Size([3, 250, 250])\n",
            "torch.Size([3, 250, 250])\n",
            "torch.Size([3, 250, 250])\n",
            "torch.Size([3, 250, 250])\n",
            "torch.Size([3, 250, 250])\n",
            "torch.Size([3, 250, 250])\n",
            "torch.Size([3, 250, 250])\n",
            "torch.Size([3, 250, 250])\n",
            "torch.Size([3, 250, 250])\n",
            "torch.Size([3, 250, 250])\n",
            "torch.Size([3, 250, 250])\n",
            "torch.Size([3, 250, 250])\n",
            "torch.Size([3, 250, 250])\n",
            "torch.Size([3, 250, 250])\n",
            "torch.Size([3, 250, 250])\n",
            "torch.Size([3, 250, 250])\n",
            "torch.Size([3, 250, 250])\n",
            "torch.Size([3, 250, 250])\n",
            "torch.Size([3, 250, 250])\n",
            "torch.Size([3, 250, 250])\n",
            "torch.Size([3, 250, 250])\n",
            "torch.Size([3, 250, 250])\n",
            "torch.Size([3, 250, 250])\n",
            "torch.Size([3, 250, 250])\n",
            "torch.Size([3, 250, 250])\n",
            "torch.Size([3, 250, 250])\n",
            "torch.Size([3, 250, 250])\n",
            "torch.Size([3, 250, 250])\n",
            "torch.Size([3, 250, 250])\n",
            "torch.Size([3, 250, 250])\n",
            "torch.Size([3, 250, 250])\n",
            "torch.Size([3, 250, 250])\n",
            "torch.Size([3, 250, 250])\n",
            "torch.Size([3, 250, 250])\n",
            "torch.Size([3, 250, 250])\n",
            "torch.Size([3, 250, 250])\n",
            "torch.Size([3, 250, 250])\n",
            "torch.Size([3, 250, 250])\n",
            "torch.Size([3, 250, 250])\n",
            "torch.Size([3, 250, 250])\n",
            "torch.Size([3, 250, 250])\n",
            "torch.Size([3, 250, 250])\n",
            "torch.Size([3, 250, 250])\n",
            "torch.Size([3, 250, 250])\n",
            "torch.Size([3, 250, 250])\n",
            "torch.Size([3, 250, 250])\n",
            "torch.Size([3, 250, 250])\n",
            "torch.Size([3, 250, 250])\n",
            "torch.Size([3, 250, 250])\n",
            "torch.Size([3, 250, 250])\n",
            "torch.Size([3, 250, 250])\n",
            "torch.Size([3, 250, 250])\n",
            "torch.Size([3, 250, 250])\n",
            "torch.Size([3, 250, 250])\n",
            "torch.Size([3, 250, 250])\n",
            "torch.Size([3, 250, 250])\n",
            "torch.Size([3, 250, 250])\n",
            "torch.Size([3, 250, 250])\n",
            "torch.Size([3, 250, 250])\n",
            "torch.Size([3, 250, 250])\n",
            "torch.Size([3, 250, 250])\n",
            "torch.Size([3, 250, 250])\n",
            "torch.Size([3, 250, 250])\n",
            "torch.Size([3, 250, 250])\n",
            "torch.Size([3, 250, 250])\n",
            "torch.Size([3, 250, 250])\n",
            "torch.Size([3, 250, 250])\n",
            "torch.Size([3, 250, 250])\n"
          ]
        },
        {
          "output_type": "error",
          "ename": "KeyboardInterrupt",
          "evalue": "ignored",
          "traceback": [
            "\u001b[0;31m---------------------------------------------------------------------------\u001b[0m",
            "\u001b[0;31mKeyboardInterrupt\u001b[0m                         Traceback (most recent call last)",
            "\u001b[0;32m<ipython-input-28-3ac216afb98f>\u001b[0m in \u001b[0;36m<module>\u001b[0;34m()\u001b[0m\n\u001b[1;32m      2\u001b[0m         \"./\" + \"data/LFWPeople\", split=\"train\", transform=transforms.Compose(\n\u001b[1;32m      3\u001b[0m         [transforms.ToTensor(), transforms.Normalize((0.5, 0.5, 0.5), (0.5, 0.5, 0.5))]) ,download=True)\n\u001b[0;32m----> 4\u001b[0;31m \u001b[0;32mfor\u001b[0m \u001b[0mbatch\u001b[0m \u001b[0;32min\u001b[0m \u001b[0mtrain_dataset\u001b[0m\u001b[0;34m:\u001b[0m\u001b[0;34m\u001b[0m\u001b[0;34m\u001b[0m\u001b[0m\n\u001b[0m\u001b[1;32m      5\u001b[0m     \u001b[0mprint\u001b[0m\u001b[0;34m(\u001b[0m\u001b[0mbatch\u001b[0m\u001b[0;34m[\u001b[0m\u001b[0;36m0\u001b[0m\u001b[0;34m]\u001b[0m\u001b[0;34m.\u001b[0m\u001b[0msize\u001b[0m\u001b[0;34m(\u001b[0m\u001b[0;34m)\u001b[0m\u001b[0;34m)\u001b[0m\u001b[0;34m\u001b[0m\u001b[0;34m\u001b[0m\u001b[0m\n",
            "\u001b[0;32m/usr/local/lib/python3.7/dist-packages/torchvision/datasets/lfw.py\u001b[0m in \u001b[0;36m__getitem__\u001b[0;34m(self, index)\u001b[0m\n\u001b[1;32m    160\u001b[0m             \u001b[0mtuple\u001b[0m\u001b[0;34m:\u001b[0m \u001b[0mTuple\u001b[0m \u001b[0;34m(\u001b[0m\u001b[0mimage\u001b[0m\u001b[0;34m,\u001b[0m \u001b[0mtarget\u001b[0m\u001b[0;34m)\u001b[0m \u001b[0mwhere\u001b[0m \u001b[0mtarget\u001b[0m \u001b[0;32mis\u001b[0m \u001b[0mthe\u001b[0m \u001b[0midentity\u001b[0m \u001b[0mof\u001b[0m \u001b[0mthe\u001b[0m \u001b[0mperson\u001b[0m\u001b[0;34m.\u001b[0m\u001b[0;34m\u001b[0m\u001b[0;34m\u001b[0m\u001b[0m\n\u001b[1;32m    161\u001b[0m         \"\"\"\n\u001b[0;32m--> 162\u001b[0;31m         \u001b[0mimg\u001b[0m \u001b[0;34m=\u001b[0m \u001b[0mself\u001b[0m\u001b[0;34m.\u001b[0m\u001b[0m_loader\u001b[0m\u001b[0;34m(\u001b[0m\u001b[0mself\u001b[0m\u001b[0;34m.\u001b[0m\u001b[0mdata\u001b[0m\u001b[0;34m[\u001b[0m\u001b[0mindex\u001b[0m\u001b[0;34m]\u001b[0m\u001b[0;34m)\u001b[0m\u001b[0;34m\u001b[0m\u001b[0;34m\u001b[0m\u001b[0m\n\u001b[0m\u001b[1;32m    163\u001b[0m         \u001b[0mtarget\u001b[0m \u001b[0;34m=\u001b[0m \u001b[0mself\u001b[0m\u001b[0;34m.\u001b[0m\u001b[0mtargets\u001b[0m\u001b[0;34m[\u001b[0m\u001b[0mindex\u001b[0m\u001b[0;34m]\u001b[0m\u001b[0;34m\u001b[0m\u001b[0;34m\u001b[0m\u001b[0m\n\u001b[1;32m    164\u001b[0m \u001b[0;34m\u001b[0m\u001b[0m\n",
            "\u001b[0;32m/usr/local/lib/python3.7/dist-packages/torchvision/datasets/lfw.py\u001b[0m in \u001b[0;36m_loader\u001b[0;34m(self, path)\u001b[0m\n\u001b[1;32m     61\u001b[0m         \u001b[0;32mwith\u001b[0m \u001b[0mopen\u001b[0m\u001b[0;34m(\u001b[0m\u001b[0mpath\u001b[0m\u001b[0;34m,\u001b[0m \u001b[0;34m'rb'\u001b[0m\u001b[0;34m)\u001b[0m \u001b[0;32mas\u001b[0m \u001b[0mf\u001b[0m\u001b[0;34m:\u001b[0m\u001b[0;34m\u001b[0m\u001b[0;34m\u001b[0m\u001b[0m\n\u001b[1;32m     62\u001b[0m             \u001b[0mimg\u001b[0m \u001b[0;34m=\u001b[0m \u001b[0mImage\u001b[0m\u001b[0;34m.\u001b[0m\u001b[0mopen\u001b[0m\u001b[0;34m(\u001b[0m\u001b[0mf\u001b[0m\u001b[0;34m)\u001b[0m\u001b[0;34m\u001b[0m\u001b[0;34m\u001b[0m\u001b[0m\n\u001b[0;32m---> 63\u001b[0;31m             \u001b[0;32mreturn\u001b[0m \u001b[0mimg\u001b[0m\u001b[0;34m.\u001b[0m\u001b[0mconvert\u001b[0m\u001b[0;34m(\u001b[0m\u001b[0;34m'RGB'\u001b[0m\u001b[0;34m)\u001b[0m\u001b[0;34m\u001b[0m\u001b[0;34m\u001b[0m\u001b[0m\n\u001b[0m\u001b[1;32m     64\u001b[0m \u001b[0;34m\u001b[0m\u001b[0m\n\u001b[1;32m     65\u001b[0m     \u001b[0;32mdef\u001b[0m \u001b[0m_check_integrity\u001b[0m\u001b[0;34m(\u001b[0m\u001b[0mself\u001b[0m\u001b[0;34m)\u001b[0m\u001b[0;34m:\u001b[0m\u001b[0;34m\u001b[0m\u001b[0;34m\u001b[0m\u001b[0m\n",
            "\u001b[0;32m/usr/local/lib/python3.7/dist-packages/PIL/Image.py\u001b[0m in \u001b[0;36mconvert\u001b[0;34m(self, mode, matrix, dither, palette, colors)\u001b[0m\n\u001b[1;32m    899\u001b[0m         \"\"\"\n\u001b[1;32m    900\u001b[0m \u001b[0;34m\u001b[0m\u001b[0m\n\u001b[0;32m--> 901\u001b[0;31m         \u001b[0mself\u001b[0m\u001b[0;34m.\u001b[0m\u001b[0mload\u001b[0m\u001b[0;34m(\u001b[0m\u001b[0;34m)\u001b[0m\u001b[0;34m\u001b[0m\u001b[0;34m\u001b[0m\u001b[0m\n\u001b[0m\u001b[1;32m    902\u001b[0m \u001b[0;34m\u001b[0m\u001b[0m\n\u001b[1;32m    903\u001b[0m         \u001b[0;32mif\u001b[0m \u001b[0;32mnot\u001b[0m \u001b[0mmode\u001b[0m \u001b[0;32mand\u001b[0m \u001b[0mself\u001b[0m\u001b[0;34m.\u001b[0m\u001b[0mmode\u001b[0m \u001b[0;34m==\u001b[0m \u001b[0;34m\"P\"\u001b[0m\u001b[0;34m:\u001b[0m\u001b[0;34m\u001b[0m\u001b[0;34m\u001b[0m\u001b[0m\n",
            "\u001b[0;32m/usr/local/lib/python3.7/dist-packages/PIL/ImageFile.py\u001b[0m in \u001b[0;36mload\u001b[0;34m(self)\u001b[0m\n\u001b[1;32m    249\u001b[0m \u001b[0;34m\u001b[0m\u001b[0m\n\u001b[1;32m    250\u001b[0m                             \u001b[0mb\u001b[0m \u001b[0;34m=\u001b[0m \u001b[0mb\u001b[0m \u001b[0;34m+\u001b[0m \u001b[0ms\u001b[0m\u001b[0;34m\u001b[0m\u001b[0;34m\u001b[0m\u001b[0m\n\u001b[0;32m--> 251\u001b[0;31m                             \u001b[0mn\u001b[0m\u001b[0;34m,\u001b[0m \u001b[0merr_code\u001b[0m \u001b[0;34m=\u001b[0m \u001b[0mdecoder\u001b[0m\u001b[0;34m.\u001b[0m\u001b[0mdecode\u001b[0m\u001b[0;34m(\u001b[0m\u001b[0mb\u001b[0m\u001b[0;34m)\u001b[0m\u001b[0;34m\u001b[0m\u001b[0;34m\u001b[0m\u001b[0m\n\u001b[0m\u001b[1;32m    252\u001b[0m                             \u001b[0;32mif\u001b[0m \u001b[0mn\u001b[0m \u001b[0;34m<\u001b[0m \u001b[0;36m0\u001b[0m\u001b[0;34m:\u001b[0m\u001b[0;34m\u001b[0m\u001b[0;34m\u001b[0m\u001b[0m\n\u001b[1;32m    253\u001b[0m                                 \u001b[0;32mbreak\u001b[0m\u001b[0;34m\u001b[0m\u001b[0;34m\u001b[0m\u001b[0m\n",
            "\u001b[0;31mKeyboardInterrupt\u001b[0m: "
          ]
        }
      ]
    },
    {
      "cell_type": "markdown",
      "source": [
        "### Training and testing\n",
        "\n",
        "The optima hyperparameters: \n",
        "{'learning_rate': 0.02385234757844707, 'lambda': 0.15601864044243652, 'length_scale': 0.2403950683025824}."
      ],
      "metadata": {
        "id": "LlDWG2vgD0C9"
      }
    },
    {
      "cell_type": "code",
      "source": [
        "\n",
        "architecture=\"ResNet18\" #or \"WRN\"\n",
        "batch_size=128\n",
        "length_scale=0.24    #\"Length scale of RBF kernel (default: 0.1)\",\n",
        "centroid_size=None\n",
        "learning_rate=0.02385\n",
        "l_gradient_penalty=0.156\n",
        "gamma=0.999 #Decay factor for exponential average\n",
        "weight_decay=5e-4\n",
        "final_model=False\n",
        "output_dir=\"results\"\n",
        "\n",
        "writer = SummaryWriter(log_dir=f\"runs/{output_dir}\")\n",
        "\n",
        "ds = all_datasets[\"SVHN\"]()\n",
        "input_size, num_classes, dataset, test_dataset = ds\n",
        "\n",
        "# Split up training set\n",
        "idx = list(range(len(dataset)))\n",
        "random.shuffle(idx)\n",
        "\n",
        "if final_model:\n",
        "    train_dataset = dataset\n",
        "    val_dataset = test_dataset\n",
        "else:\n",
        "    val_size = int(len(dataset) * 0.8)\n",
        "    train_dataset = torch.utils.data.Subset(dataset, idx[:val_size])\n",
        "    val_dataset = torch.utils.data.Subset(dataset, idx[val_size:])\n",
        "\n",
        "    val_dataset.transform = (\n",
        "        test_dataset.transform\n",
        "    )  # Test time preprocessing for validation\n",
        "\n",
        "if architecture == \"WRN\":\n",
        "    model_output_size = 640\n",
        "    epochs = 200\n",
        "    milestones = [60, 120, 160]\n",
        "    feature_extractor = WideResNet()\n",
        "elif architecture == \"ResNet18\":\n",
        "    model_output_size = 512\n",
        "    epochs = 100\n",
        "    milestones = [25, 50, 75]\n",
        "    feature_extractor = resnet18()\n",
        "\n",
        "    # Adapted resnet from:\n",
        "    # https://github.com/kuangliu/pytorch-cifar/blob/master/models/resnet.py\n",
        "    feature_extractor.conv1 = torch.nn.Conv2d(\n",
        "        3, 64, kernel_size=3, stride=1, padding=1, bias=False\n",
        "    )\n",
        "    feature_extractor.maxpool = torch.nn.Identity()\n",
        "    feature_extractor.fc = torch.nn.Identity()\n",
        "elif architecture == \"ResNet34\":\n",
        "    model_output_size = 512\n",
        "    epochs = 100\n",
        "    milestones = [25, 50, 75]\n",
        "    feature_extractor = resnet34()\n",
        "    feature_extractor.conv1 = torch.nn.Conv2d(\n",
        "        3, 64, kernel_size=2, stride=1, padding=1, bias=False\n",
        "    )\n",
        "    feature_extractor.maxpool = torch.nn.Identity()\n",
        "    feature_extractor.fc = torch.nn.Identity()\n",
        "if centroid_size is None:\n",
        "    centroid_size = model_output_size\n",
        "\n",
        "model = ResNet_DUQ(\n",
        "    feature_extractor,\n",
        "    num_classes,\n",
        "    centroid_size,\n",
        "    model_output_size,\n",
        "    length_scale,\n",
        "    gamma,\n",
        ")\n",
        "model = model.cuda()\n",
        "\n",
        "optimizer = torch.optim.SGD(    model.parameters(), lr=learning_rate, momentum=0.9, weight_decay=weight_decay)\n",
        "#optimizer = torch.optim.Adam(model.parameters(), lr=learning_rate,weight_decay=weight_decay)\n",
        "\n",
        "scheduler = torch.optim.lr_scheduler.MultiStepLR(\n",
        "    optimizer, milestones=milestones, gamma=0.2\n",
        ")\n",
        "\n",
        "def calc_gradients_input(x, y_pred):\n",
        "    gradients = torch.autograd.grad(\n",
        "        outputs=y_pred,\n",
        "        inputs=x,\n",
        "        grad_outputs=torch.ones_like(y_pred),\n",
        "        create_graph=True,\n",
        "    )[0]\n",
        "\n",
        "    gradients = gradients.flatten(start_dim=1)\n",
        "\n",
        "    return gradients\n",
        "\n",
        "def calc_gradient_penalty(x, y_pred):\n",
        "    gradients = calc_gradients_input(x, y_pred)\n",
        "\n",
        "    # L2 norm\n",
        "    grad_norm = gradients.norm(2, dim=1)\n",
        "\n",
        "    # Two sided penalty\n",
        "    gradient_penalty = ((grad_norm - 1) ** 2).mean()\n",
        "\n",
        "    return gradient_penalty\n",
        "\n",
        "def step(engine, batch):\n",
        "    model.train()\n",
        "\n",
        "    optimizer.zero_grad()\n",
        "\n",
        "    x, y = batch\n",
        "    x, y = x.cuda(), y.cuda()\n",
        "\n",
        "    x.requires_grad_(True)\n",
        "\n",
        "    y_pred = model(x)\n",
        "\n",
        "    y = F.one_hot(y, num_classes).float()\n",
        "\n",
        "    loss = F.binary_cross_entropy(y_pred, y, reduction=\"mean\")\n",
        "\n",
        "    if l_gradient_penalty > 0:\n",
        "        gp = calc_gradient_penalty(x, y_pred)\n",
        "        loss += l_gradient_penalty * gp\n",
        "\n",
        "    loss.backward()\n",
        "    optimizer.step()\n",
        "\n",
        "    x.requires_grad_(False)\n",
        "\n",
        "    with torch.no_grad():\n",
        "        model.eval()\n",
        "        model.update_embeddings(x, y)\n",
        "\n",
        "    return loss.item()\n",
        "\n",
        "def eval_step(engine, batch):\n",
        "    model.eval()\n",
        "\n",
        "    x, y = batch\n",
        "    x, y = x.cuda(), y.cuda()\n",
        "\n",
        "    x.requires_grad_(True)\n",
        "\n",
        "    y_pred = model(x)\n",
        "\n",
        "    return {\"x\": x, \"y\": y, \"y_pred\": y_pred}\n",
        "\n",
        "trainer = Engine(step)\n",
        "evaluator = Engine(eval_step)\n",
        "\n",
        "metric = Average()\n",
        "metric.attach(trainer, \"loss\")\n",
        "\n",
        "metric = Accuracy(output_transform=lambda out: (out[\"y_pred\"], out[\"y\"]))\n",
        "metric.attach(evaluator, \"accuracy\")\n",
        "\n",
        "def bce_output_transform(out):\n",
        "    return (out[\"y_pred\"], F.one_hot(out[\"y\"], num_classes).float())\n",
        "\n",
        "metric = Loss(F.binary_cross_entropy, output_transform=bce_output_transform)\n",
        "metric.attach(evaluator, \"bce\")\n",
        "\n",
        "metric = Loss(\n",
        "    calc_gradient_penalty, output_transform=lambda out: (out[\"x\"], out[\"y_pred\"])\n",
        ")\n",
        "metric.attach(evaluator, \"gradient_penalty\")\n",
        "\n",
        "pbar = ProgressBar(dynamic_ncols=True)\n",
        "pbar.attach(trainer)\n",
        "\n",
        "kwargs = {\"num_workers\": 4, \"pin_memory\": True}\n",
        "'''\n",
        "#SMALL SAMPLING\n",
        "from torch.utils.data import SubsetRandomSampler\n",
        "valid_size=0.3\n",
        "num_train = 5000\n",
        "indices = list(range(num_train))\n",
        "np.random.shuffle(indices)\n",
        "split = int(np.floor(valid_size * num_train))\n",
        "train_idx, valid_idx = indices[split:], indices[:split]\n",
        "\n",
        "# define samplers for obtaining training and validation batches\n",
        "train_sampler = SubsetRandomSampler(train_idx)\n",
        "valid_sampler = SubsetRandomSampler(valid_idx)\n",
        "\n",
        "# prepare data loaders (combine dataset and sampler)\n",
        "train_loader = torch.utils.data.DataLoader(\n",
        "    train_dataset,sampler=train_sampler, batch_size=batch_size,  drop_last=True, **kwargs\n",
        ")\n",
        "\n",
        "val_loader = torch.utils.data.DataLoader(\n",
        "    val_dataset,sampler=valid_sampler, batch_size=batch_size, **kwargs\n",
        ")\n",
        "\n",
        "test_loader = torch.utils.data.DataLoader(\n",
        "    test_dataset, batch_size=batch_size, shuffle=False, **kwargs\n",
        ")\n",
        "'''\n",
        "\n",
        "train_loader = torch.utils.data.DataLoader(\n",
        "    train_dataset, batch_size=batch_size, shuffle=True, drop_last=True, **kwargs\n",
        ")\n",
        "\n",
        "val_loader = torch.utils.data.DataLoader(\n",
        "    val_dataset, batch_size=batch_size, shuffle=False, **kwargs\n",
        ")\n",
        "\n",
        "test_loader = torch.utils.data.DataLoader(\n",
        "    test_dataset, batch_size=batch_size, shuffle=False, **kwargs\n",
        ")\n",
        "\n",
        "\n",
        "@trainer.on(Events.EPOCH_COMPLETED)\n",
        "def log_results(trainer):\n",
        "    metrics = trainer.state.metrics\n",
        "    loss = metrics[\"loss\"]\n",
        "\n",
        "    print(f\"Train - Epoch: {trainer.state.epoch} Loss: {loss:.2f}\")\n",
        "\n",
        "    writer.add_scalar(\"Loss/train\", loss, trainer.state.epoch)\n",
        "\n",
        "    if trainer.state.epoch > (epochs - 5):\n",
        "\n",
        "        accuracy, auroc = get_SVHN_LFWpeople_ood(model)\n",
        "        print(f\"Test Accuracy: {accuracy}, AUROC: {auroc}\")\n",
        "        writer.add_scalar(\"OoD/test_accuracy\", accuracy, trainer.state.epoch)\n",
        "        writer.add_scalar(\"OoD/roc_auc\", auroc, trainer.state.epoch)\n",
        "\n",
        "        accuracy, auroc = get_auroc_classification(val_dataset, model)\n",
        "        print(f\"AUROC - uncertainty: {auroc}\")\n",
        "        writer.add_scalar(\"OoD/val_accuracy\", accuracy, trainer.state.epoch)\n",
        "        writer.add_scalar(\"OoD/roc_auc_classification\", auroc, trainer.state.epoch)\n",
        "\n",
        "    evaluator.run(val_loader)\n",
        "    metrics = evaluator.state.metrics\n",
        "    acc = metrics[\"accuracy\"]\n",
        "    bce = metrics[\"bce\"]\n",
        "    GP = metrics[\"gradient_penalty\"]\n",
        "    loss = bce + l_gradient_penalty * GP\n",
        "\n",
        "    print(\n",
        "        (\n",
        "            f\"Valid - Epoch: {trainer.state.epoch} \"\n",
        "            f\"Acc: {acc:.4f} \"\n",
        "            f\"Loss: {loss:.2f} \"\n",
        "            f\"BCE: {bce:.2f} \"\n",
        "            f\"GP: {GP:.2f} \"\n",
        "        )\n",
        "    )\n",
        "\n",
        "    writer.add_scalar(\"Loss/valid\", loss, trainer.state.epoch)\n",
        "    writer.add_scalar(\"BCE/valid\", bce, trainer.state.epoch)\n",
        "    writer.add_scalar(\"GP/valid\", GP, trainer.state.epoch)\n",
        "    writer.add_scalar(\"Accuracy/valid\", acc, trainer.state.epoch)\n",
        "\n",
        "    scheduler.step()\n",
        "  \n",
        "trainer.run(train_loader, max_epochs=epochs)\n",
        "\n",
        "\n",
        "\n"
      ],
      "metadata": {
        "colab": {
          "base_uri": "https://localhost:8080/",
          "height": 1000,
          "referenced_widgets": [
            "5806a5cbe4c441e2b5123069b6fe7e68",
            "ea23e249faa64add987a6fff5a4a2bc1",
            "38bf611277c24e01b047a6c8b31fae9e",
            "619d986280ad46aa8cd9af9956ab03eb",
            "b42e988af31d41eeae0417d2b34a2d62",
            "9ebc89e1e85a4bddaa41807697469b5e",
            "369fd045ea1f41d8852c3f7b7e96734e",
            "fc177206356e43438d30c44afe4821dd",
            "06af6b87babd44e1a3fb054e61015308",
            "af2a9439daa34fa297c5a4d9369793b9",
            "6f7b6505b9d3493d9c0bdd7923f8f193",
            "dc0b05fb249e4ff1b35a83f2d00e2412",
            "bd89c3c08f174566a36fc5d145e47360",
            "8146e6256ebf433998d04fccc77d95e0",
            "41e5060b1abf476585dbd4be62d25ae9",
            "3ad3589a392c4cec800e11479de9e0c7",
            "821ee9e1adbb4be6bc1e4caaa2186d48",
            "a4b84994401d4d4d854c3b7f1bc937fd",
            "49036c7875e94010af509c3126e82ab7",
            "becfa719ff95402689dd9d510c5aa291",
            "99bce03d33504595984dc0d3fd7cef25",
            "10267b04c8a44604aefbf38c41285a73",
            "201522423c2446daac538ca50435c5b3",
            "999e38d7501c4880953053d94065fe8b",
            "fb10a7b76e6343508c2fcb034cab74fd",
            "523d606bdff74532b4ebb4a1422e4fe7",
            "29c5a4e2fd854b1091cbe7bab714fcd1",
            "a29ee5c58a524775ad1da94a02cebf11",
            "b929beef288c41cd82a663361db9496a",
            "2ce0632c16a149208be3fe7499b8a483",
            "2c899fd0963c430dba8807ae07d2c8c2",
            "75da924645e9482488ddc6b6e37c0076",
            "f53b6688548c4339ac6bbef4749adcd1",
            "3b86f27905a541c7b353113ea851a1d8",
            "d3124455a7474c67a0ac6418fe95de8a",
            "51f2ab85aef84572a4856503dbd7da47",
            "febad45676c34d3baa3c47802090a587",
            "a8902bdbe9164fcfb0ff807acdd857b1",
            "d90a00742eca40eb9c0dcd4b614c6d67",
            "5deb6e72b7e94d24a520a66a8f2bc5d2",
            "3567db76ce424e5a9156b7feb0e7251c",
            "3a8f4d1b9f4849f699c26d78275af3d5",
            "1fa7e2e8eca6403e915f0067e16c85cb",
            "ea1ee041d08a4889951366074fdd236c",
            "c390162e2efd438389bf351b93462088",
            "fe0e5275032d4ac0907969d5fb1693ba",
            "7f00266f340b415587c1f115ccd1cfa3",
            "d15354c41cb445c8b87720d4d28f2d97",
            "13c35ffd2c1947c0a010fb73cf558ffb",
            "6b482f2f98d1418da970aadd1c741055",
            "8d9ab73e98d84eeb9cd257e4168d7678",
            "52bf4e00a78744219e8a71140e066dcd",
            "e53f380082ca462280514f5822dabd2f",
            "683b4cd29a8b43c49f784458ff28141e",
            "d96161f099084a7680d6d753413bbe82",
            "ab122021c38f41448559665fa7d6f6ce",
            "f9507e5f846f463cbd1c971d18e2ea9d",
            "d4cc1166fa6749eeaf8bff38801fadf6",
            "e85319a4370a4d94a545522639f651f7",
            "aed520aa69e34f7e9516d920e5571058",
            "0ef7b5144dd74220803030725e26704f",
            "2a12ac45cbc643f9a4056524b2adc78c",
            "812a2d625b4e47b98b97e80946e44726",
            "bbc9b9303bac4e3d85a8cd6a247bd317",
            "54c508f872df40feac3fdcadc97b00cc",
            "48f9e7cb843549a092eda67a135a88b6",
            "2277678fd60e4d45802dbe5015fe9ea5",
            "bdcb81b0449144aead478005956e7a02",
            "9399931a92de43f49f1380370b4b94f5",
            "f85e93fca2224e43b7ab215a6cdd9c6e",
            "94b9b17436614c0f8f3f93c056544ab5",
            "e71e55d8dc5343d3aeabf5c83bb60dd6",
            "d45f448e70374f4db325928cfafa9d9e",
            "5d10df637aae4e55b9e5d2b0b5f35a54",
            "02a70c85029040d9ab3a31edeeb1cc30",
            "9e0d5d3efb5341789d1c6eb6b91114f0",
            "5f3a6e3036e14e99aa47de600a0d6582",
            "1ef3536549bd463fa39be9c2161decb3",
            "893320f8fcea4baf8a9c942990f18667",
            "98c180933f2a4b83a8d6a7ef241662ce",
            "d51ceaa1b8ed4f1882249e0a1ba827f8",
            "b888785852594a12802162850c65724e",
            "5e83c6918329402ca41875767f87a676",
            "cbb3b0bfb72d4e929d4c34d8a48321f5",
            "82fd6b5c8d37472785cc2ffdacbe73ad",
            "5b3c25d2ac4d47a0bb3d6d699eedc59c",
            "df81e7a0b26440fd8cd21944c2358ad5",
            "52ca3542bb1440478ed54c0aa1020b34",
            "de2b311e661546ab92f2bc38e2694b79",
            "73d866d57ffe4dd5926caa4db0bd8c24",
            "155b6ee559d54aa48e4eedfd4c98508c",
            "4af88eba972b487fab84ff565445a476",
            "184fbae42e5042739b8b8294f33dd73c",
            "7b9a9d64f22c4f93914b866967b590ce",
            "33a57ecfda4e4ab98557d663fa88ff82",
            "70c0622cc0ff438f8afb873939b9e642",
            "b45fc8c885634eada643ffd60bc2e73a",
            "9ba186556d174d809557bdcbb418f286",
            "986e8c5cefd7480fba8a7c57d4ff7eeb",
            "4e669a964f734ca5996afb0a6c65589b",
            "77ff8e9ffab54086a2a50ed877b21bbd",
            "372c095687a84383afddb289bc66242d",
            "9027f870465a4f2988e193455a9e116d",
            "31bd14eb448047d19750a40dac64cf6c",
            "931bec1b733b4fdca24d296b014b58f8",
            "9189601dbcb644139411be622b4ba5c2",
            "6218988e737e41d7822eb4d55e9645d3",
            "811ee2981c5146aa96011fdc2d4fd88c",
            "b3a6e1abb7ac480f83f989734791c1f9",
            "38b481861121412d87580013eef25520",
            "eebb63094a3949d3b243a23600e441a5",
            "57de3d6f1c45428a9d7fdfbcbd186920",
            "9cdbc000e7ff43cf9d1e8e0659d8e54e",
            "fe06ef0d2a07457f8048ea8dd5de2c6c",
            "643596814dff40979161dda34cf648e9",
            "9e6ce14f4e0b40b4a640b96a4811f823",
            "d804f49f6bf446528df14f26fffb8337",
            "480685017ec54f0b99150117a7df08d0",
            "c431f5f4f9894db2ac5d3cd69f856984",
            "04beb0d399134a8f9c631fb8358c919e",
            "ddc7154498a54a9686fcce906dad5d99",
            "e6caf9a76d5d409d8ec86ec11b0f1a3d",
            "456972ad67824cd4b53ee0ba6ccaea9f",
            "5c880f0090da4896b0bbd2c3fc33037c",
            "5d8d48f312454495a64aa921ee1ea250",
            "c781c865332949288136c185848b15c0",
            "3513fbd209fa4366b0cf973a6b0c3426",
            "057ce6f7d18a405393cab758058bafe8",
            "a090e9c0fbcc44508c0fa259c89af1ff",
            "b8beaf5ddb48421e99b749d8daa85f43",
            "4d3b93dbd51749169855fd6fa4e5b9e6",
            "21ab56829b6b4f8581692b8d897e90ba",
            "6e51fc06cabb4a05bd7effb2c2b18e93",
            "8b3f078a1eb240b696c8d3f717ec3b97",
            "ccccb0bd5c0c49df95dba56b00169b27",
            "b687674297494ec7bd128c5ca34522e6",
            "241bbb70c188479e8ec1c4eb7cec892f",
            "ef7fb9a75f784a5f8fb31e13ab428f76",
            "a33682a30038476384843aeac03989f5",
            "0dc82ce5353c41618064cd3f5b42d275",
            "9da1fafc931b4386a4186155e2e86818",
            "da0dad82eae440f190c2aec68fe2ff13",
            "bdc4f6de7b124c5c84a26e880bf5f682",
            "29e33e601ef8403b8d4becb18352fbc0",
            "a5763a58fb5a4b72a03c0149106e7e39",
            "98031f1edd724e39b8171855cdb458c0",
            "4a3945a8912b42adbcc45ef77d892c89",
            "8e0b73978307477ab2323ac77652f946",
            "60340aa1d98446a88bfeb739744cc207",
            "02563cfa7d7245529ce5d0d16ca5cded",
            "02966010c116414d826b2032f5b77708",
            "0a77673b88e94e818260d095c9659948",
            "4be73c935ab74333b7b5d99aea69ba7b",
            "144a9dfc49b642e291fb17368807bc1e",
            "32ed594f1f36403683885bfc95215e9a",
            "c1e3020cfa2c4397a6a962d80c6be7e2",
            "563c0940ccf44dcfbc72b8d0513a46f9",
            "624f933ef85548f4a2a11d5dfda5f050",
            "2a5bc6a3239641f3b1e8374bedc9fef3",
            "b38fa50bd46c4209ad817bb19c4ca2e1",
            "c8da253b200c4a57986bdf368456d4a7",
            "ca7885027f674d75b064548d678cb9e4",
            "6011bf4c20cf4d109188f147b2166068",
            "cdd7917130c849509ded76905acfc226",
            "1ad2cd663c1344ddb104e92c4bc0471a",
            "c2c334ef08fb49fdb572a071ab0f3ff1",
            "ca8e7b065eb746e490e091f156c02412",
            "b2ea677c8c91426d96f86bf8fab4b88f",
            "cb1e7569a25e47b29c73ac1d55bd4550",
            "098777dea02d4f94b6e5c6a75edb415e",
            "96e027d5f7e64e9895f1a75c193e15ae",
            "232e54bfb4a2444aa154c80be94d73cf",
            "c9c73b7e19b24c5ba07cbc3af02bb61a",
            "c17d2bef14ee4b2c8908383332f2f147",
            "f6a7e7e60dd74a0e84418df0d4300550",
            "043604f6b1084174864e0ebe6be4acd9",
            "e519e0675e0d4794bdaf25fbc07dd29a",
            "146484e33dd747aebd05bda4f3fe2b41",
            "0aa0c3445a764d759bc59704f1323b80",
            "ab1fbb5260454a908dbc901637c3f533",
            "a59680f94d4f4a1581a1661b98cc159d",
            "0e80fb37594b4a86ab9a11353a874b28",
            "827d7f0a6be345bbadbd3c3b7873e699",
            "bb4c16281b2646c680d152f6cd086e6a",
            "8dd8fad1816d49a58ba70307e83e1c27",
            "ad15987a88f24ac09cd09f1be31c862d",
            "8d189fdb53f54450a8c928e8b1298b63",
            "dd06f4958b61459c9de23b833f77412a",
            "0a767b125ae147bc9c7bc271f8e11926",
            "3ce9afbf5c5a4a9980531b64625f71bd",
            "44ca86816b774015b6a31d9c3bd062e4",
            "625d379b0d48422fa4c4c608c2df82bf",
            "842277d3fdd0463fa7deafbb41a1620f",
            "6eaabf25902b470aa602848a1785d417",
            "e03e58340b2e4f249326edbf1d0bcf5f",
            "eb74e2d6a2004cf9aa88a43bc577959d",
            "e30bb5921dfe497fb1ea3e8a771741cc",
            "923360979a6242498fd7bdfaaf61c5ea",
            "ee1ddcbbbf5f46e49e0680dc44bd1245",
            "0730371ae1384afa8dcc678f86c673f1",
            "bd38eca4a3f44cbf80cabce081f7d0d6",
            "9f5f883820154fe3bf600a8bca2a3aee",
            "6cfba947e8124195bee8239751633006",
            "d973027814a2452e8244509792fd0253",
            "f428ebb1953d4060ba6cb9084dba961f",
            "5480490db2eb47b4ad71b393eca0987d",
            "a94659ed81d34ad488a6e75139030e40",
            "5f8830da111545b19f2a4e9b339b78ca",
            "247c9021d55c4e469c3e6c84ccb233a2",
            "263e966add614ee78daba1532b253742",
            "b1927274055743c2874a7c9a43e1a843",
            "6a5acc9e59f04e5496b50f12cfd6522a",
            "340d0ee58cbd4a4a894cf8cc60bb1d00",
            "fe034ac9746a4eaf9ad72f470bb44378",
            "d0b8b6b451854549a330ec92dbbd028a",
            "8b9473ad0d9f486da95e16ecd0a3828e",
            "72a7deb759424f36a0bc53803d2ce56c",
            "f38ceb2f34114de7b4667f74eb235d61",
            "def4ced766aa489eb8cca68ad8130b2a",
            "4ce153d15f1249359f938fb672f13854",
            "91359db247754e2a8c7fd8a4a1fa5019",
            "067611913ef3490aaafb245baca8d503",
            "46e743c490504eb690d863077d23e1e7",
            "5590e7efbeac4ebcba56fe1b301eec92",
            "5d3ad4320c9a45ca8f0db026470280df",
            "7555b974164845a1b197bbaed6d2e2ce",
            "13ecc13f8e5044c7928435195f43850f",
            "baddbda5b14947a2aae66a9be0e94fc3",
            "0c0547a97ba8487c86eacf83de50dbc8",
            "054e904ceed44ff0bbda600d9bceb2c6",
            "21c4efc51ab645c583fd5be663358b8e",
            "57d7efc14f4b47308e246352fcccbc9f",
            "4c78dfeb43ca47f0acbc11fa7252e027",
            "12abdf98e59d40a89c43ad7fbb8162fc",
            "99a031dbd23344b8867cb325ddba6aab",
            "819599004b7a4ea08dca5a9b86ad271b",
            "29fd25f731a94328bc91deca96519904",
            "78e752aacd5e47668befd1ee7c4411e5",
            "f6820d977a0d44f9a259a11676bfe80a",
            "2bb7c76d1e954f0f9ff2c9e6feb656c2",
            "6043d10ef740442e8d061f477b4074aa",
            "ba293d708b5a443cbedf731745b1c0d3",
            "36e330b26560440ca23e8fa3366a9080",
            "c9d82d0e6d2e47a1b4ed97590b6eda85",
            "8bc450ebf7f146558d06b81978ec2473",
            "c04f59b9f62d499ebe6479f281755b7e",
            "0030b0a76c5c4af3abf9f790b4af1c9f",
            "51dac7417dac45b7b4d8cd67899298b0",
            "a39d12a873bd4b158d762b935c637983",
            "513e10d6dfe44d4f8b1e402fd97a0689",
            "ae3bb6481f2d4775a88fbc3651e2e59b",
            "7ba5c8e5f4564f9ca357943536624c28",
            "ee5ad9b743d447b58a46ef498a847d33",
            "3d99a37690584d649fb7786a93d897bb",
            "da4214e8127d4ea2a8b30be08f53bc73",
            "d8c784041e7248feb7d977e919eb9e91",
            "06cf1c91331346489a34b73554693077",
            "7462e35b436447e4b233939b28b24bb9",
            "52b61b6f3fda453eb253adc64c853e09",
            "4655d2dc809643f4bb1236c3f86e6657",
            "540514c7831b44d9a5eea66db8de19fa",
            "7b6c0b88348e43de8c291a68748e6b34",
            "00a99cbf2aac43c099aabbdede37d3c5",
            "706cecd1a7534763a7905d75eea4da2b",
            "71a51fc9f7744d8f8dcc8f848a4a9cbd",
            "f76fb025d6fb4c0cac45bce990543fd2",
            "be3a222fc5354782b1ff9e15ca10596e",
            "0549511879f74488ac21a34452b2a4a2",
            "880ed2060b1e470da097c818c426292b",
            "541f77a48630442986fc83084051c90f",
            "6594dd6fbcc84601bbd05d63bfcc2665",
            "0c6c6acd3f914e888418e51e1ae1a317",
            "ce04d13cd1564f12a22ee5bcda3063bd",
            "b774c27ec3494d45ac6512e1fcabc064",
            "04bc99553a4348e78175e27a92afa39b",
            "a142d8f85ebb4947bf80c42a01b6dba1",
            "f3fa2c671b5d462fb23f2255514badf6",
            "a57dad753bd1405a9e6d4e22f82b1cd9",
            "2c2c30476e9d425ab74e0b88308b2cf9",
            "66aa2af7f3d64817b08f5bc63e83455d",
            "b9c7eea97fb9410c982f5f8fee446587",
            "7ca65146ff2b45d5ba46c35444b3fb98",
            "9b0d3d32493e4b0fb8b3580d9663ea16",
            "e1a5865a026046b0b8682e81c74fc443",
            "5d42ca224bc74f97bae30ce57945d08d",
            "167a3aa5ff664b2fb20a6c994c8fd8d2",
            "5c81308facae4aeb8fcbddd393feb11c",
            "b39d5bc9bebb4cfda10eb83d3b14203c",
            "70c4552b6c544908914c26bf1becc0ba",
            "f1ae4caabfd84cf98b868472393da8cf",
            "1982500b3f8945268d01f3c84848976c",
            "6faebca555c944faaf8037090721996b",
            "5a81f79d6b0b4d74b23c02648b148588",
            "59241e8d58bc48d3918fb7f322e0490c",
            "382c942be69d4880a6335b839be12769",
            "220db078e7ee4901ac0915fcfe62e106",
            "5e3f6ba91839471ca82150821f36fbdb",
            "82f113d15c54499db617bdf06e9a76af",
            "a2c40a87ae64429d89f4c5de3a39c0ee",
            "49dcb760c6274bb8ae76a07c7ac77a8e",
            "0ca9e1c4c64d4d5ab32d34fcb45893a6",
            "88179a6bc1cb4b60a922bca36d8ba8f3",
            "02e95cd41c3841acb73b2aad8e708e35",
            "9ad257deea8e434985b2202c8ebaa4f0",
            "6615afd8af834847b19918f61447f733",
            "753d661035304a94940c1f075e763965",
            "136daa75526f493cbf267851316b5db9",
            "99289336eb744611a134777ff43f4f9d",
            "5ce47523a11245698e56ec405d417083",
            "4c98bbfcce3f46c9984f3f511764f75a",
            "f632929a25934a8ab59b98fe4d40200c",
            "a2107f5728254c168e48ec51f709a403",
            "f05582c53cdd428d8cfbbd264e177b36",
            "de8b081d94d44e6fada9cf3d66853900",
            "d547562eaf824871b662148196b80a41",
            "a94e9188e6444e9aa7337220e052aa36",
            "9364880812ae4e9b9d0169d007a8c773",
            "fd0278ded9984b50b74d97a827e73ead",
            "3efae66e197e45bfb6ccde0bae272cbb",
            "4ad94c31a3c446958b4600acbf08cbe3",
            "550b3adbceac47718de27a0bd96f7815",
            "e15b4789732042a0982e5c3dfc53c2d1",
            "ee3f6569ceeb48e1847124b3e39e4334",
            "ae7bdae1a66c43cca5c41eff252851b4",
            "5da8f8a146c746ffb3a12ada5096d9ec",
            "cb8fcbdced124c20ba1cd779f8f9ddc4",
            "cc47b27c6ae341a3bdd162c56ed0b7ce",
            "49f6df077d524e9a9c6eca2f20315bb8",
            "b4d587b816994d8bb25182422c43d96a",
            "416e6f70f239456ebecad1ab46e30bd6",
            "0a4958c973c94b61b2c41cf486ef99f5",
            "e6b0c5695cf149bd81118510a1f50b3e",
            "ca308dbbba3d46929331b02b8febde8c",
            "b8ff710a386f4360aa66880c23abdf11",
            "da4848f7962548d39a9a192b971dffa0",
            "2ece1270b5ef4042b6b82fb3ddecef0c",
            "edae4184a5964a769faec56beca993d5",
            "f7abaaebb5ac4d2ba15ec7e38dcb7d36",
            "85b0512fbd6440a2baf9660da9d4ce36",
            "eaa9ac934563467ca2a253cbee13f5f3",
            "caeab1f5d5c14ccc99390d102ce55f04",
            "096f47c4fcfb4c4ca33bb7b579e51f4a",
            "1716af2a6664437cb42ec3fcc88f973d",
            "36edcc0c652c48fd93d19f609ff1ec87",
            "844e228191a64298853da36b692eb61a",
            "cc6becef5c4c4470a1c0c33e402562eb",
            "2529e4b8a1c9425d86467f6112ae95ec",
            "54e8ad9837614687bce6e09879bc3da3",
            "b6c6825b17534159b0e1f752803cc686",
            "b2eb1150404a4b61a60560e766fbcb0a",
            "14c584af32cc4ffe9521caf017de99a3",
            "7878675a3d2c414fa9807a2775328275",
            "d570c8c9845547c889ab353ef1937c44",
            "32b40ffa75564842ae98c3c5c354d8ce",
            "64303b33448641d5b94dd6f2e835590b",
            "2357c8a3f5804f9c93f91a6c2a489172",
            "46348a0d4c564175853d06ca3abd145c",
            "f01bf6694a1f456cabee2d5bd47c658b",
            "afcd701b454b4d1ebf9ad2e60501d821",
            "7d8bbc4456314a7fad6ede1ae968bcc7",
            "71712eb5a6b647919a9f3896091eee9b",
            "b3e30e71865a4848b41ec0dd76444fd4",
            "dd0ad1aa070e4b8289af416616b60d00",
            "12fb58047c2e4f15bf851a2811a5fc7b",
            "c9d450ea7d8d49df9a90871d0eb3395e",
            "3cc24d4a1f3f4f169456984a23ed2ccb",
            "b78f5e97f1f143da93cb8e30b346cd56",
            "a6f3be3f165e44f39288281ffb37d515",
            "6a0380ff92ee4f9c954dbc3809538ac4",
            "d58524383b694f95a1bb29a0aaa3b077",
            "0db303f0c5224c78b0ed7087f926b16e",
            "376f75b3ade64ed9a1b9578beed60f28",
            "59c6fab9c28f4beab85ce94bddf0017d",
            "f0e747b2ea19488c9ac803f3c66203ec",
            "a89f9044a640450daf58d429f8f4f749",
            "d06114745c124629866bd8802a5bbe9d",
            "e4b4044bb1a245c2b1f627e9384bce57",
            "c61948e657094133ae5b57be4dde14d3",
            "dea019a251a2440c9ae2a2b93500cfe1",
            "e35a6939ce2440bf8c53dedeaf08140a",
            "0a1f9322df1c4a66bf8095e16803eee0",
            "57b8da15ec5a40ceab2cbc22e0d70cfd",
            "523f8f8d0a4b4d849d1654f74ae848d1",
            "ca346b2bcf724a9695468b7c8abd4bd4",
            "f21c07e68b9044e78c1aa2c1a277f95c",
            "b9106de056854c069a06c5ce483d518b",
            "ab8e1467cc724651b35596a776031042",
            "79ac93414e1c4c87a3055aff61f68969",
            "516276cb58bf4fb49e5411dca71a766a",
            "0e279c3b2a944a8480de35d0c0179525",
            "025f1e45f6a347919a1667e8cdd94068",
            "6ed803b5593f4dc8963811e6c4b88609",
            "69444d3108b94d2eba7eeae20f981515",
            "b595188f77574e53b367cbacbf2146e1",
            "a2d60814886c4e2bab583817868dbd68",
            "31968866e4c641d8bb49aced51af81d0",
            "d4db5d0a1cbb4929a8e9fe24b5b03edb",
            "9fdc8caaaef34015b1aba5524791e59a",
            "9be8dcfdd3cc497b9366e88314800c57",
            "5811b2f73b444706b8b1fc666b129949",
            "562bb0ac32c14e67a512401518dc92aa",
            "614c4c3d514a4e608ec934f420d04562",
            "4ced407433c243a79ac1f23cf9313182",
            "2bb5a357b5b14ed3b68595a97b07dcec",
            "db7b91dc4e25496f8c8633db6726394e",
            "746e3893eee04e32963d1728311c6c59",
            "4d48676a8dd349ec9a1cccb9f55d01b4",
            "12818f762f3e4c8680641be5acdad190",
            "8492b869a546406ea39749e69ef49c9b",
            "afdff68a317b4ef69eea1b94b175f99d",
            "ac3ee974ac294fada75ae0727a50abc0",
            "74e9886e3d8d49ad89fd1bc876474e7d",
            "822a849305a94f918dc13ceac8fe8048",
            "3b075829026a4c798e0622e57b74a045",
            "5f92967c6c5e4ad0b35f214929ddca8d",
            "4204bbc3140c410782c2c19df0ee784e",
            "b3fdbd8b82b54bbab84e2fd6305031dc",
            "544e899677f84d2d8f95a927a29ca231",
            "a6a4801dddc34a56a6b160eb5c244973",
            "dd37fc7c565c4c9cb77ed44ae8619d45",
            "27fde680b182455f95a49f969342a64a",
            "92013c7c20cb47de9984217a722b179a",
            "6e009f9668744cb9ac2119c0bbaeca80",
            "78604902519b403ea5a2f4399cb18e0c",
            "447a6c3de63c4ad88b83b5abe1b11a8c",
            "ffdc83ca5ab04241a9575c047f2c1887",
            "7ff5eff05c854ff28918a0d1e4cd581b",
            "19ee35ce5b0e419ba80221a10c85e819",
            "125954ea419d4b0bb14022edc707ce91",
            "3bde1462dc614627b3c20613cfb705d6",
            "84dd8da000c64fe8b2885f0508b5f9bb",
            "b567ec5abcb24b67b8d376b0b43cbec3",
            "5b9a49cad0d54724b11941b72c478401",
            "58e1df5d6be646578c0cedd66aa824d2",
            "022376f5dad84de2b0646510aded8a47",
            "b246d157dc59477bbde0a175744ff179",
            "15a18dce8e90484aa6c3b8975fae3682",
            "410695da6b024d379901b260022a2357",
            "8b8556eeeea24884898711f750ea8faa",
            "7d3738ab7fec48beaa164773545527c3",
            "bf5a2f5ba2864d45a088a528da71b417",
            "757bfdbeada442d5bed5416d1cabc232",
            "49ec080f853b47a4ae08137dfc8d1a5e",
            "2092f0c0a7f14866864d735e7b6d3251",
            "d516127494ed4516ac7c0099dee3c8da",
            "e5265f111be746ae89b77ea4f0c02e8e",
            "5e607c7f8b3742178640dbee7180a8d6",
            "80e19caedaf94f13a61c863d9b1e871e",
            "cf9ccdc9412743eb87dc22efd16820b0",
            "c7aa40494bbc4ba084961786cbd12474",
            "a1a29c9273e14b5e894af69a0a45a931",
            "e27395b523f643299ce46ae3a6b7ab28",
            "2500593429f545399bc5966012e6243d",
            "c8d8694524734e0f8932418ca8bc0d0a",
            "2f59133a883d4a5ea801bd7e4bbe9f6e",
            "215074a4961a46c88f460d24b228a1d6",
            "1c23248d46444f8483aaceb67952946f",
            "fbd7cf53e20b47d8a814466284a23bbd",
            "4a8533525a2c456e968a7709d3e93a3a",
            "37d9da85d1914524880cf7e6ea18b877",
            "adb196dfd07945c3b58596e5456d984f",
            "6ce9354258c142bbb67e61f54a9eb664",
            "ebceb6f2000d4753892d635d39c53e6a",
            "012c4e65e510449a8827cd38840f80c2",
            "432ac417051143fd8309178a32ba9f7e",
            "e803b8d3af7d4f92bd738cd3dd0071e8",
            "3a5a8ac5515043a995a2ae0d0023d809",
            "3f9f197d33b746f0b0c8ec215d4c9690",
            "4a8b7bf92e3f44d4b833aef9a053ae30",
            "5b9eb8aa56544161b2052feddfff7583",
            "0f14a1c9c71e4c9f97c5679dddaf8c9c",
            "eb3fab849af9488388a9e4257399a947",
            "ddab7a31f7a941a4b993aca7d97838f2",
            "69ebf8c59c8d4249aa5f4b6ca969c5ce",
            "5210166a0b1844dbbf222845d0bce854",
            "ddb7182b23df4195ad31b632a7f1768c",
            "c839f9c2867843d3a080bbdce47f8937",
            "89641e99c85c4bdfae89b773ad0f7392",
            "e3b2b9d659eb4f9ca078cdef852c48e6",
            "831e5cad528846faaef7dca7e416f106",
            "17520c4b146a4680928a71b48a232557",
            "a44c3e23a53b4c5b8d3a3a0d55f39e52",
            "4b17154776d44fea95fbd62f59c63079",
            "14016aace367445b965ffc581b6521f0",
            "c512ffea368a4cbab74f41fbc904dd71",
            "ffc1345ae084400383f7fac2cfb55821",
            "697f52f10f904eca8a0b4658d0c88aeb",
            "db8e7073b6964cc6b84f8e79d0edadc9",
            "fd672f93e9684f429f6dd754c38eac6d",
            "8caed1a5fc23468a941814134114bc1a",
            "390382674f4a4aa7ab9072bf5b9a0349",
            "2e7858df24294b65adb376bf0c17b6af",
            "c07c8692310343e5a28852dc675e33ea",
            "e7463760afa247e4acd88fecfe027c90",
            "8d8f7cacfcd44a4d82ca0d0b2f7de745",
            "220db6d9561b47dfa8635df83589e6e8",
            "f50ce3cc20cc444e8ed9f90b8cc20166",
            "562d0da288284f7294db2034edb45ca8",
            "c52e7f0f53c1422292bf3d68524fe302",
            "7cfcc0a5680d4e17807e8cb1c89517b0",
            "4cbb63dfd97841838f6a6a8d50db2579",
            "ccb6c107eefe43b2a18e046f92d66861",
            "894843298a1f4686a95c46a4822112a3",
            "8298e03eac9445f080a04daed0ce3e1b",
            "b43744cf3e354f8e856af63a89e8466a",
            "4440404923fb4d42ac74b74352b97d3d",
            "e5b492216bc6446a9a218d83e86dce20",
            "90385abe3d8948d0a01a26fc5a11757b",
            "424f988208a540dfbf48a79f66b148ef",
            "3ee037529510426a90dfb1daa388cad6",
            "c63156ce92a44c8086986b6b4977d647",
            "800a7c961bae430b9151040f541b0e3f",
            "a1d456c2cb334f5483f9d7269ac67d48",
            "c4fa9f3c93fe43e19fb45247ce28b242",
            "f8d160d1dfb1486d81fa79609f06d2e3",
            "38093c8562fa45868dc98b13879bb0dc",
            "cd7d0193456f4699b14b1e20ab5c6ee3",
            "e73f254ecd8f4100942f5657a0ee0531",
            "0f12726830dd4fa0a7f946e2901d1aec",
            "0e28f6da73b84b02bed2699bfa80fbb5",
            "d052ee11c2ee4ef9b0e962f31820a571",
            "68bf5944c38345a1b02142b87b9b34a4",
            "3ce0084e3f2844409e1f98ac9c0cb157",
            "3b0c14de08bf48f8a04ff07f710974dd",
            "abdaec99d0714cba98c5ed03b5829c11",
            "61f46eabf5384bbeac4d5bbd9bafebcd",
            "c80e95e0828b432590c917a5d4691da8",
            "2986b5da6ecd4becbe2cc14f14583def",
            "e63cd4538d0547a49bc3112f644db873",
            "a25cdfe2701349ffa11b8fb18e53e869",
            "620903ff3cdd46adb5c354abcd8065c4",
            "796fce69fb784becaf45a614ceaf67f7",
            "5bf433a3331e4955a45fb252361db233",
            "972f7c8735e74c7fa2eae821edbc50f9",
            "d196a4bf583b487cb6f95bb4fd1f763e",
            "1e1032d08a174c55b5fd95b9ae00e97f",
            "8e51f8657ad94f8291883887f50f89d5",
            "f1c84804ec144367af3e3299b5c0be76",
            "90f88a8ebc28441ab53ff76be0698598",
            "2c7c1e818af847a086b0940d16b7b92a",
            "aaa63aba734b41ec963255a16b7e1e19",
            "b939138d1f5f40d59cafdd8a119e36f3",
            "73c46bb4bcb3400bae68ef5c01927a4f",
            "701f96bc59ca4b5ab590c0f2b87cde11",
            "2a1bb7c65cd444c68b7a1263f33eae6c",
            "7806265bf41d4336bd22769c37b2dd8c",
            "291e66eb5d5349c69d4f19263d673439",
            "f185ee980bba4923801b494e2a107a73",
            "f392d80678e54fab980c50d56200cedc",
            "b56413cc6c4b4efa84031ac68f9539ca",
            "42f115c34b374991b9cda8725e005812",
            "24c964d07a62412ba8a6c9a825007079",
            "146a5cd1cf8a46f5b1796ba810e2d2ea",
            "e76962056b2f46ff99c76b877931009d",
            "ee0af1bd3c774e3394d68f9b4e572e9b",
            "c8d39fdd57474488b76de8dd99e389f6",
            "36f51f70fcdf43199b9473542fc9aeac",
            "8f23c4174d9d43dbaf3cc87d8dc2ec8f",
            "d03c9afb8ee04bd7be097d9a78b5f0b4",
            "a0bb884950d14850a5bdaed35312a92b",
            "5da4501c09e84e64adbeed535f269dfb",
            "e57c2493f22b436b86a47c8978806b1f",
            "fb4e8e000386493d95db222d505ad120",
            "2c52b4d9e0c44deea4b635ed994d204d",
            "11ae5d50ba214647b269a23466d73430",
            "774be69e4ed2401195156df489bfa6eb",
            "3b6bf5b5b6a94f2089c178ab35127c84",
            "0cc2c3da86744e4c80abc45ef943591e",
            "f167edb6bce2453fb50ce03ca62f84aa",
            "7d6c8fa5390f494dad314e7a700ae6f0",
            "01401b9b3f9a4b54961ea895441c189f",
            "9c3dfc220af84ba3b67af419d5c191a7"
          ]
        },
        "id": "XyA7MYfXDzxS",
        "outputId": "f4682bbf-9160-41dd-f3bb-1afcc53477aa"
      },
      "execution_count": null,
      "outputs": [
        {
          "output_type": "stream",
          "name": "stdout",
          "text": [
            "Using downloaded and verified file: ./data/SVHN/train_32x32.mat\n",
            "Using downloaded and verified file: ./data/SVHN/test_32x32.mat\n"
          ]
        },
        {
          "output_type": "stream",
          "name": "stderr",
          "text": [
            "/usr/local/lib/python3.7/dist-packages/torch/utils/data/dataloader.py:481: UserWarning: This DataLoader will create 4 worker processes in total. Our suggested max number of worker in current system is 2, which is smaller than what this DataLoader is going to create. Please be aware that excessive worker creation might get DataLoader running slow or even freeze, lower the worker number to avoid potential slowness/freeze if necessary.\n",
            "  cpuset_checked))\n"
          ]
        },
        {
          "output_type": "display_data",
          "data": {
            "text/plain": [
              "[1/457]   0%|           [00:00<?]"
            ],
            "application/vnd.jupyter.widget-view+json": {
              "version_major": 2,
              "version_minor": 0,
              "model_id": "5806a5cbe4c441e2b5123069b6fe7e68"
            }
          },
          "metadata": {}
        },
        {
          "output_type": "stream",
          "name": "stdout",
          "text": [
            "Train - Epoch: 1 Loss: 0.32\n",
            "Valid - Epoch: 1 Acc: 0.3406 Loss: 0.32 BCE: 0.28 GP: 0.30 \n"
          ]
        },
        {
          "output_type": "display_data",
          "data": {
            "text/plain": [
              "[1/457]   0%|           [00:00<?]"
            ],
            "application/vnd.jupyter.widget-view+json": {
              "version_major": 2,
              "version_minor": 0,
              "model_id": "dc0b05fb249e4ff1b35a83f2d00e2412"
            }
          },
          "metadata": {}
        },
        {
          "output_type": "stream",
          "name": "stdout",
          "text": [
            "Train - Epoch: 2 Loss: 0.22\n",
            "Valid - Epoch: 2 Acc: 0.6807 Loss: 0.18 BCE: 0.16 GP: 0.13 \n"
          ]
        },
        {
          "output_type": "display_data",
          "data": {
            "text/plain": [
              "[1/457]   0%|           [00:00<?]"
            ],
            "application/vnd.jupyter.widget-view+json": {
              "version_major": 2,
              "version_minor": 0,
              "model_id": "201522423c2446daac538ca50435c5b3"
            }
          },
          "metadata": {}
        },
        {
          "output_type": "stream",
          "name": "stdout",
          "text": [
            "Train - Epoch: 3 Loss: 0.13\n",
            "Valid - Epoch: 3 Acc: 0.8408 Loss: 0.13 BCE: 0.10 GP: 0.22 \n"
          ]
        },
        {
          "output_type": "display_data",
          "data": {
            "text/plain": [
              "[1/457]   0%|           [00:00<?]"
            ],
            "application/vnd.jupyter.widget-view+json": {
              "version_major": 2,
              "version_minor": 0,
              "model_id": "3b86f27905a541c7b353113ea851a1d8"
            }
          },
          "metadata": {}
        },
        {
          "output_type": "stream",
          "name": "stdout",
          "text": [
            "Train - Epoch: 4 Loss: 0.09\n",
            "Valid - Epoch: 4 Acc: 0.8712 Loss: 0.12 BCE: 0.08 GP: 0.30 \n"
          ]
        },
        {
          "output_type": "display_data",
          "data": {
            "text/plain": [
              "[1/457]   0%|           [00:00<?]"
            ],
            "application/vnd.jupyter.widget-view+json": {
              "version_major": 2,
              "version_minor": 0,
              "model_id": "c390162e2efd438389bf351b93462088"
            }
          },
          "metadata": {}
        },
        {
          "output_type": "stream",
          "name": "stdout",
          "text": [
            "Train - Epoch: 5 Loss: 0.07\n",
            "Valid - Epoch: 5 Acc: 0.8998 Loss: 0.12 BCE: 0.06 GP: 0.35 \n"
          ]
        },
        {
          "output_type": "display_data",
          "data": {
            "text/plain": [
              "[1/457]   0%|           [00:00<?]"
            ],
            "application/vnd.jupyter.widget-view+json": {
              "version_major": 2,
              "version_minor": 0,
              "model_id": "ab122021c38f41448559665fa7d6f6ce"
            }
          },
          "metadata": {}
        },
        {
          "output_type": "stream",
          "name": "stdout",
          "text": [
            "Train - Epoch: 6 Loss: 0.07\n",
            "Valid - Epoch: 6 Acc: 0.8974 Loss: 0.12 BCE: 0.07 GP: 0.36 \n"
          ]
        },
        {
          "output_type": "display_data",
          "data": {
            "text/plain": [
              "[1/457]   0%|           [00:00<?]"
            ],
            "application/vnd.jupyter.widget-view+json": {
              "version_major": 2,
              "version_minor": 0,
              "model_id": "2277678fd60e4d45802dbe5015fe9ea5"
            }
          },
          "metadata": {}
        },
        {
          "output_type": "stream",
          "name": "stdout",
          "text": [
            "Train - Epoch: 7 Loss: 0.06\n",
            "Valid - Epoch: 7 Acc: 0.9114 Loss: 0.12 BCE: 0.06 GP: 0.41 \n"
          ]
        },
        {
          "output_type": "display_data",
          "data": {
            "text/plain": [
              "[1/457]   0%|           [00:00<?]"
            ],
            "application/vnd.jupyter.widget-view+json": {
              "version_major": 2,
              "version_minor": 0,
              "model_id": "1ef3536549bd463fa39be9c2161decb3"
            }
          },
          "metadata": {}
        },
        {
          "output_type": "stream",
          "name": "stdout",
          "text": [
            "Train - Epoch: 8 Loss: 0.06\n",
            "Valid - Epoch: 8 Acc: 0.9094 Loss: 0.13 BCE: 0.06 GP: 0.45 \n"
          ]
        },
        {
          "output_type": "display_data",
          "data": {
            "text/plain": [
              "[1/457]   0%|           [00:00<?]"
            ],
            "application/vnd.jupyter.widget-view+json": {
              "version_major": 2,
              "version_minor": 0,
              "model_id": "de2b311e661546ab92f2bc38e2694b79"
            }
          },
          "metadata": {}
        },
        {
          "output_type": "stream",
          "name": "stdout",
          "text": [
            "Train - Epoch: 9 Loss: 0.05\n",
            "Valid - Epoch: 9 Acc: 0.9255 Loss: 0.12 BCE: 0.05 GP: 0.49 \n"
          ]
        },
        {
          "output_type": "display_data",
          "data": {
            "text/plain": [
              "[1/457]   0%|           [00:00<?]"
            ],
            "application/vnd.jupyter.widget-view+json": {
              "version_major": 2,
              "version_minor": 0,
              "model_id": "4e669a964f734ca5996afb0a6c65589b"
            }
          },
          "metadata": {}
        },
        {
          "output_type": "stream",
          "name": "stdout",
          "text": [
            "Train - Epoch: 10 Loss: 0.05\n",
            "Valid - Epoch: 10 Acc: 0.9309 Loss: 0.12 BCE: 0.05 GP: 0.49 \n"
          ]
        },
        {
          "output_type": "display_data",
          "data": {
            "text/plain": [
              "[1/457]   0%|           [00:00<?]"
            ],
            "application/vnd.jupyter.widget-view+json": {
              "version_major": 2,
              "version_minor": 0,
              "model_id": "eebb63094a3949d3b243a23600e441a5"
            }
          },
          "metadata": {}
        },
        {
          "output_type": "stream",
          "name": "stdout",
          "text": [
            "Train - Epoch: 11 Loss: 0.04\n",
            "Valid - Epoch: 11 Acc: 0.9225 Loss: 0.12 BCE: 0.05 GP: 0.47 \n"
          ]
        },
        {
          "output_type": "display_data",
          "data": {
            "text/plain": [
              "[1/457]   0%|           [00:00<?]"
            ],
            "application/vnd.jupyter.widget-view+json": {
              "version_major": 2,
              "version_minor": 0,
              "model_id": "e6caf9a76d5d409d8ec86ec11b0f1a3d"
            }
          },
          "metadata": {}
        },
        {
          "output_type": "stream",
          "name": "stdout",
          "text": [
            "Train - Epoch: 12 Loss: 0.04\n",
            "Valid - Epoch: 12 Acc: 0.9306 Loss: 0.12 BCE: 0.04 GP: 0.48 \n"
          ]
        },
        {
          "output_type": "display_data",
          "data": {
            "text/plain": [
              "[1/457]   0%|           [00:00<?]"
            ],
            "application/vnd.jupyter.widget-view+json": {
              "version_major": 2,
              "version_minor": 0,
              "model_id": "6e51fc06cabb4a05bd7effb2c2b18e93"
            }
          },
          "metadata": {}
        },
        {
          "output_type": "stream",
          "name": "stdout",
          "text": [
            "Train - Epoch: 13 Loss: 0.04\n",
            "Valid - Epoch: 13 Acc: 0.9289 Loss: 0.12 BCE: 0.04 GP: 0.48 \n"
          ]
        },
        {
          "output_type": "display_data",
          "data": {
            "text/plain": [
              "[1/457]   0%|           [00:00<?]"
            ],
            "application/vnd.jupyter.widget-view+json": {
              "version_major": 2,
              "version_minor": 0,
              "model_id": "29e33e601ef8403b8d4becb18352fbc0"
            }
          },
          "metadata": {}
        },
        {
          "output_type": "stream",
          "name": "stdout",
          "text": [
            "Train - Epoch: 14 Loss: 0.04\n",
            "Valid - Epoch: 14 Acc: 0.9354 Loss: 0.11 BCE: 0.04 GP: 0.43 \n"
          ]
        },
        {
          "output_type": "display_data",
          "data": {
            "text/plain": [
              "[1/457]   0%|           [00:00<?]"
            ],
            "application/vnd.jupyter.widget-view+json": {
              "version_major": 2,
              "version_minor": 0,
              "model_id": "32ed594f1f36403683885bfc95215e9a"
            }
          },
          "metadata": {}
        },
        {
          "output_type": "stream",
          "name": "stdout",
          "text": [
            "Train - Epoch: 15 Loss: 0.03\n",
            "Valid - Epoch: 15 Acc: 0.9383 Loss: 0.11 BCE: 0.04 GP: 0.44 \n"
          ]
        },
        {
          "output_type": "display_data",
          "data": {
            "text/plain": [
              "[1/457]   0%|           [00:00<?]"
            ],
            "application/vnd.jupyter.widget-view+json": {
              "version_major": 2,
              "version_minor": 0,
              "model_id": "c2c334ef08fb49fdb572a071ab0f3ff1"
            }
          },
          "metadata": {}
        },
        {
          "output_type": "stream",
          "name": "stdout",
          "text": [
            "Train - Epoch: 16 Loss: 0.03\n",
            "Valid - Epoch: 16 Acc: 0.9395 Loss: 0.11 BCE: 0.04 GP: 0.46 \n"
          ]
        },
        {
          "output_type": "display_data",
          "data": {
            "text/plain": [
              "[1/457]   0%|           [00:00<?]"
            ],
            "application/vnd.jupyter.widget-view+json": {
              "version_major": 2,
              "version_minor": 0,
              "model_id": "e519e0675e0d4794bdaf25fbc07dd29a"
            }
          },
          "metadata": {}
        },
        {
          "output_type": "stream",
          "name": "stdout",
          "text": [
            "Train - Epoch: 17 Loss: 0.03\n",
            "Valid - Epoch: 17 Acc: 0.9390 Loss: 0.10 BCE: 0.04 GP: 0.41 \n"
          ]
        },
        {
          "output_type": "display_data",
          "data": {
            "text/plain": [
              "[1/457]   0%|           [00:00<?]"
            ],
            "application/vnd.jupyter.widget-view+json": {
              "version_major": 2,
              "version_minor": 0,
              "model_id": "dd06f4958b61459c9de23b833f77412a"
            }
          },
          "metadata": {}
        },
        {
          "output_type": "stream",
          "name": "stdout",
          "text": [
            "Train - Epoch: 18 Loss: 0.03\n",
            "Valid - Epoch: 18 Acc: 0.9269 Loss: 0.11 BCE: 0.04 GP: 0.41 \n"
          ]
        },
        {
          "output_type": "display_data",
          "data": {
            "text/plain": [
              "[1/457]   0%|           [00:00<?]"
            ],
            "application/vnd.jupyter.widget-view+json": {
              "version_major": 2,
              "version_minor": 0,
              "model_id": "ee1ddcbbbf5f46e49e0680dc44bd1245"
            }
          },
          "metadata": {}
        },
        {
          "output_type": "stream",
          "name": "stdout",
          "text": [
            "Train - Epoch: 19 Loss: 0.03\n",
            "Valid - Epoch: 19 Acc: 0.9354 Loss: 0.11 BCE: 0.04 GP: 0.43 \n"
          ]
        },
        {
          "output_type": "display_data",
          "data": {
            "text/plain": [
              "[1/457]   0%|           [00:00<?]"
            ],
            "application/vnd.jupyter.widget-view+json": {
              "version_major": 2,
              "version_minor": 0,
              "model_id": "263e966add614ee78daba1532b253742"
            }
          },
          "metadata": {}
        },
        {
          "output_type": "stream",
          "name": "stdout",
          "text": [
            "Train - Epoch: 20 Loss: 0.03\n",
            "Valid - Epoch: 20 Acc: 0.9317 Loss: 0.11 BCE: 0.04 GP: 0.41 \n"
          ]
        },
        {
          "output_type": "display_data",
          "data": {
            "text/plain": [
              "[1/457]   0%|           [00:00<?]"
            ],
            "application/vnd.jupyter.widget-view+json": {
              "version_major": 2,
              "version_minor": 0,
              "model_id": "91359db247754e2a8c7fd8a4a1fa5019"
            }
          },
          "metadata": {}
        },
        {
          "output_type": "stream",
          "name": "stdout",
          "text": [
            "Train - Epoch: 21 Loss: 0.03\n",
            "Valid - Epoch: 21 Acc: 0.9338 Loss: 0.11 BCE: 0.04 GP: 0.42 \n"
          ]
        },
        {
          "output_type": "display_data",
          "data": {
            "text/plain": [
              "[1/457]   0%|           [00:00<?]"
            ],
            "application/vnd.jupyter.widget-view+json": {
              "version_major": 2,
              "version_minor": 0,
              "model_id": "57d7efc14f4b47308e246352fcccbc9f"
            }
          },
          "metadata": {}
        },
        {
          "output_type": "stream",
          "name": "stdout",
          "text": [
            "Train - Epoch: 22 Loss: 0.03\n",
            "Valid - Epoch: 22 Acc: 0.9337 Loss: 0.11 BCE: 0.04 GP: 0.41 \n"
          ]
        },
        {
          "output_type": "display_data",
          "data": {
            "text/plain": [
              "[1/457]   0%|           [00:00<?]"
            ],
            "application/vnd.jupyter.widget-view+json": {
              "version_major": 2,
              "version_minor": 0,
              "model_id": "36e330b26560440ca23e8fa3366a9080"
            }
          },
          "metadata": {}
        },
        {
          "output_type": "stream",
          "name": "stdout",
          "text": [
            "Train - Epoch: 23 Loss: 0.03\n",
            "Valid - Epoch: 23 Acc: 0.9320 Loss: 0.12 BCE: 0.04 GP: 0.49 \n"
          ]
        },
        {
          "output_type": "display_data",
          "data": {
            "text/plain": [
              "[1/457]   0%|           [00:00<?]"
            ],
            "application/vnd.jupyter.widget-view+json": {
              "version_major": 2,
              "version_minor": 0,
              "model_id": "3d99a37690584d649fb7786a93d897bb"
            }
          },
          "metadata": {}
        },
        {
          "output_type": "stream",
          "name": "stdout",
          "text": [
            "Train - Epoch: 24 Loss: 0.03\n",
            "Valid - Epoch: 24 Acc: 0.9398 Loss: 0.11 BCE: 0.04 GP: 0.45 \n"
          ]
        },
        {
          "output_type": "display_data",
          "data": {
            "text/plain": [
              "[1/457]   0%|           [00:00<?]"
            ],
            "application/vnd.jupyter.widget-view+json": {
              "version_major": 2,
              "version_minor": 0,
              "model_id": "71a51fc9f7744d8f8dcc8f848a4a9cbd"
            }
          },
          "metadata": {}
        },
        {
          "output_type": "stream",
          "name": "stdout",
          "text": [
            "Train - Epoch: 25 Loss: 0.03\n",
            "Valid - Epoch: 25 Acc: 0.9345 Loss: 0.13 BCE: 0.04 GP: 0.59 \n"
          ]
        },
        {
          "output_type": "display_data",
          "data": {
            "text/plain": [
              "[1/457]   0%|           [00:00<?]"
            ],
            "application/vnd.jupyter.widget-view+json": {
              "version_major": 2,
              "version_minor": 0,
              "model_id": "a142d8f85ebb4947bf80c42a01b6dba1"
            }
          },
          "metadata": {}
        },
        {
          "output_type": "stream",
          "name": "stdout",
          "text": [
            "Train - Epoch: 26 Loss: 0.02\n",
            "Valid - Epoch: 26 Acc: 0.9529 Loss: 0.10 BCE: 0.03 GP: 0.42 \n"
          ]
        },
        {
          "output_type": "display_data",
          "data": {
            "text/plain": [
              "[1/457]   0%|           [00:00<?]"
            ],
            "application/vnd.jupyter.widget-view+json": {
              "version_major": 2,
              "version_minor": 0,
              "model_id": "5c81308facae4aeb8fcbddd393feb11c"
            }
          },
          "metadata": {}
        },
        {
          "output_type": "stream",
          "name": "stdout",
          "text": [
            "Train - Epoch: 27 Loss: 0.02\n",
            "Valid - Epoch: 27 Acc: 0.9532 Loss: 0.10 BCE: 0.03 GP: 0.42 \n"
          ]
        },
        {
          "output_type": "display_data",
          "data": {
            "text/plain": [
              "[1/457]   0%|           [00:00<?]"
            ],
            "application/vnd.jupyter.widget-view+json": {
              "version_major": 2,
              "version_minor": 0,
              "model_id": "82f113d15c54499db617bdf06e9a76af"
            }
          },
          "metadata": {}
        },
        {
          "output_type": "stream",
          "name": "stdout",
          "text": [
            "Train - Epoch: 28 Loss: 0.01\n",
            "Valid - Epoch: 28 Acc: 0.9535 Loss: 0.09 BCE: 0.03 GP: 0.39 \n"
          ]
        },
        {
          "output_type": "display_data",
          "data": {
            "text/plain": [
              "[1/457]   0%|           [00:00<?]"
            ],
            "application/vnd.jupyter.widget-view+json": {
              "version_major": 2,
              "version_minor": 0,
              "model_id": "5ce47523a11245698e56ec405d417083"
            }
          },
          "metadata": {}
        },
        {
          "output_type": "stream",
          "name": "stdout",
          "text": [
            "Train - Epoch: 29 Loss: 0.01\n",
            "Valid - Epoch: 29 Acc: 0.9513 Loss: 0.10 BCE: 0.03 GP: 0.40 \n"
          ]
        },
        {
          "output_type": "display_data",
          "data": {
            "text/plain": [
              "[1/457]   0%|           [00:00<?]"
            ],
            "application/vnd.jupyter.widget-view+json": {
              "version_major": 2,
              "version_minor": 0,
              "model_id": "4ad94c31a3c446958b4600acbf08cbe3"
            }
          },
          "metadata": {}
        },
        {
          "output_type": "stream",
          "name": "stdout",
          "text": [
            "Train - Epoch: 30 Loss: 0.01\n",
            "Valid - Epoch: 30 Acc: 0.9525 Loss: 0.10 BCE: 0.03 GP: 0.41 \n"
          ]
        },
        {
          "output_type": "display_data",
          "data": {
            "text/plain": [
              "[1/457]   0%|           [00:00<?]"
            ],
            "application/vnd.jupyter.widget-view+json": {
              "version_major": 2,
              "version_minor": 0,
              "model_id": "0a4958c973c94b61b2c41cf486ef99f5"
            }
          },
          "metadata": {}
        },
        {
          "output_type": "stream",
          "name": "stdout",
          "text": [
            "Train - Epoch: 31 Loss: 0.01\n",
            "Valid - Epoch: 31 Acc: 0.9527 Loss: 0.10 BCE: 0.03 GP: 0.44 \n"
          ]
        },
        {
          "output_type": "display_data",
          "data": {
            "text/plain": [
              "[1/457]   0%|           [00:00<?]"
            ],
            "application/vnd.jupyter.widget-view+json": {
              "version_major": 2,
              "version_minor": 0,
              "model_id": "096f47c4fcfb4c4ca33bb7b579e51f4a"
            }
          },
          "metadata": {}
        },
        {
          "output_type": "stream",
          "name": "stdout",
          "text": [
            "Train - Epoch: 32 Loss: 0.01\n",
            "Valid - Epoch: 32 Acc: 0.9530 Loss: 0.10 BCE: 0.03 GP: 0.45 \n"
          ]
        },
        {
          "output_type": "display_data",
          "data": {
            "text/plain": [
              "[1/457]   0%|           [00:00<?]"
            ],
            "application/vnd.jupyter.widget-view+json": {
              "version_major": 2,
              "version_minor": 0,
              "model_id": "d570c8c9845547c889ab353ef1937c44"
            }
          },
          "metadata": {}
        },
        {
          "output_type": "stream",
          "name": "stdout",
          "text": [
            "Train - Epoch: 33 Loss: 0.01\n",
            "Valid - Epoch: 33 Acc: 0.9507 Loss: 0.10 BCE: 0.03 GP: 0.42 \n"
          ]
        },
        {
          "output_type": "display_data",
          "data": {
            "text/plain": [
              "[1/457]   0%|           [00:00<?]"
            ],
            "application/vnd.jupyter.widget-view+json": {
              "version_major": 2,
              "version_minor": 0,
              "model_id": "12fb58047c2e4f15bf851a2811a5fc7b"
            }
          },
          "metadata": {}
        },
        {
          "output_type": "stream",
          "name": "stdout",
          "text": [
            "Train - Epoch: 34 Loss: 0.01\n",
            "Valid - Epoch: 34 Acc: 0.9522 Loss: 0.10 BCE: 0.03 GP: 0.43 \n"
          ]
        },
        {
          "output_type": "display_data",
          "data": {
            "text/plain": [
              "[1/457]   0%|           [00:00<?]"
            ],
            "application/vnd.jupyter.widget-view+json": {
              "version_major": 2,
              "version_minor": 0,
              "model_id": "a89f9044a640450daf58d429f8f4f749"
            }
          },
          "metadata": {}
        },
        {
          "output_type": "stream",
          "name": "stdout",
          "text": [
            "Train - Epoch: 35 Loss: 0.01\n",
            "Valid - Epoch: 35 Acc: 0.9528 Loss: 0.10 BCE: 0.03 GP: 0.44 \n"
          ]
        },
        {
          "output_type": "display_data",
          "data": {
            "text/plain": [
              "[1/457]   0%|           [00:00<?]"
            ],
            "application/vnd.jupyter.widget-view+json": {
              "version_major": 2,
              "version_minor": 0,
              "model_id": "b9106de056854c069a06c5ce483d518b"
            }
          },
          "metadata": {}
        },
        {
          "output_type": "stream",
          "name": "stdout",
          "text": [
            "Train - Epoch: 36 Loss: 0.01\n",
            "Valid - Epoch: 36 Acc: 0.9509 Loss: 0.10 BCE: 0.03 GP: 0.45 \n"
          ]
        },
        {
          "output_type": "display_data",
          "data": {
            "text/plain": [
              "[1/457]   0%|           [00:00<?]"
            ],
            "application/vnd.jupyter.widget-view+json": {
              "version_major": 2,
              "version_minor": 0,
              "model_id": "d4db5d0a1cbb4929a8e9fe24b5b03edb"
            }
          },
          "metadata": {}
        },
        {
          "output_type": "stream",
          "name": "stdout",
          "text": [
            "Train - Epoch: 37 Loss: 0.01\n",
            "Valid - Epoch: 37 Acc: 0.9509 Loss: 0.10 BCE: 0.03 GP: 0.42 \n"
          ]
        },
        {
          "output_type": "display_data",
          "data": {
            "text/plain": [
              "[1/457]   0%|           [00:00<?]"
            ],
            "application/vnd.jupyter.widget-view+json": {
              "version_major": 2,
              "version_minor": 0,
              "model_id": "12818f762f3e4c8680641be5acdad190"
            }
          },
          "metadata": {}
        },
        {
          "output_type": "stream",
          "name": "stdout",
          "text": [
            "Train - Epoch: 38 Loss: 0.01\n",
            "Valid - Epoch: 38 Acc: 0.9498 Loss: 0.10 BCE: 0.03 GP: 0.45 \n"
          ]
        },
        {
          "output_type": "display_data",
          "data": {
            "text/plain": [
              "[1/457]   0%|           [00:00<?]"
            ],
            "application/vnd.jupyter.widget-view+json": {
              "version_major": 2,
              "version_minor": 0,
              "model_id": "a6a4801dddc34a56a6b160eb5c244973"
            }
          },
          "metadata": {}
        },
        {
          "output_type": "stream",
          "name": "stdout",
          "text": [
            "Train - Epoch: 39 Loss: 0.01\n",
            "Valid - Epoch: 39 Acc: 0.9526 Loss: 0.10 BCE: 0.03 GP: 0.44 \n"
          ]
        },
        {
          "output_type": "display_data",
          "data": {
            "text/plain": [
              "[1/457]   0%|           [00:00<?]"
            ],
            "application/vnd.jupyter.widget-view+json": {
              "version_major": 2,
              "version_minor": 0,
              "model_id": "3bde1462dc614627b3c20613cfb705d6"
            }
          },
          "metadata": {}
        },
        {
          "output_type": "stream",
          "name": "stdout",
          "text": [
            "Train - Epoch: 40 Loss: 0.01\n",
            "Valid - Epoch: 40 Acc: 0.9515 Loss: 0.11 BCE: 0.03 GP: 0.48 \n"
          ]
        },
        {
          "output_type": "display_data",
          "data": {
            "text/plain": [
              "[1/457]   0%|           [00:00<?]"
            ],
            "application/vnd.jupyter.widget-view+json": {
              "version_major": 2,
              "version_minor": 0,
              "model_id": "bf5a2f5ba2864d45a088a528da71b417"
            }
          },
          "metadata": {}
        },
        {
          "output_type": "stream",
          "name": "stdout",
          "text": [
            "Train - Epoch: 41 Loss: 0.01\n",
            "Valid - Epoch: 41 Acc: 0.9481 Loss: 0.11 BCE: 0.03 GP: 0.47 \n"
          ]
        },
        {
          "output_type": "display_data",
          "data": {
            "text/plain": [
              "[1/457]   0%|           [00:00<?]"
            ],
            "application/vnd.jupyter.widget-view+json": {
              "version_major": 2,
              "version_minor": 0,
              "model_id": "e27395b523f643299ce46ae3a6b7ab28"
            }
          },
          "metadata": {}
        },
        {
          "output_type": "stream",
          "name": "stdout",
          "text": [
            "Train - Epoch: 42 Loss: 0.01\n",
            "Valid - Epoch: 42 Acc: 0.9502 Loss: 0.12 BCE: 0.03 GP: 0.53 \n"
          ]
        },
        {
          "output_type": "display_data",
          "data": {
            "text/plain": [
              "[1/457]   0%|           [00:00<?]"
            ],
            "application/vnd.jupyter.widget-view+json": {
              "version_major": 2,
              "version_minor": 0,
              "model_id": "ebceb6f2000d4753892d635d39c53e6a"
            }
          },
          "metadata": {}
        },
        {
          "output_type": "stream",
          "name": "stdout",
          "text": [
            "Train - Epoch: 43 Loss: 0.01\n",
            "Valid - Epoch: 43 Acc: 0.9495 Loss: 0.11 BCE: 0.03 GP: 0.47 \n"
          ]
        },
        {
          "output_type": "display_data",
          "data": {
            "text/plain": [
              "[1/457]   0%|           [00:00<?]"
            ],
            "application/vnd.jupyter.widget-view+json": {
              "version_major": 2,
              "version_minor": 0,
              "model_id": "69ebf8c59c8d4249aa5f4b6ca969c5ce"
            }
          },
          "metadata": {}
        },
        {
          "output_type": "stream",
          "name": "stdout",
          "text": [
            "Train - Epoch: 44 Loss: 0.01\n",
            "Valid - Epoch: 44 Acc: 0.9466 Loss: 0.11 BCE: 0.03 GP: 0.51 \n"
          ]
        },
        {
          "output_type": "display_data",
          "data": {
            "text/plain": [
              "[1/457]   0%|           [00:00<?]"
            ],
            "application/vnd.jupyter.widget-view+json": {
              "version_major": 2,
              "version_minor": 0,
              "model_id": "c512ffea368a4cbab74f41fbc904dd71"
            }
          },
          "metadata": {}
        },
        {
          "output_type": "stream",
          "name": "stdout",
          "text": [
            "Train - Epoch: 45 Loss: 0.01\n",
            "Valid - Epoch: 45 Acc: 0.9505 Loss: 0.11 BCE: 0.03 GP: 0.51 \n"
          ]
        },
        {
          "output_type": "display_data",
          "data": {
            "text/plain": [
              "[1/457]   0%|           [00:00<?]"
            ],
            "application/vnd.jupyter.widget-view+json": {
              "version_major": 2,
              "version_minor": 0,
              "model_id": "220db6d9561b47dfa8635df83589e6e8"
            }
          },
          "metadata": {}
        },
        {
          "output_type": "stream",
          "name": "stdout",
          "text": [
            "Train - Epoch: 46 Loss: 0.01\n",
            "Valid - Epoch: 46 Acc: 0.9476 Loss: 0.11 BCE: 0.03 GP: 0.48 \n"
          ]
        },
        {
          "output_type": "display_data",
          "data": {
            "text/plain": [
              "[1/457]   0%|           [00:00<?]"
            ],
            "application/vnd.jupyter.widget-view+json": {
              "version_major": 2,
              "version_minor": 0,
              "model_id": "e5b492216bc6446a9a218d83e86dce20"
            }
          },
          "metadata": {}
        },
        {
          "output_type": "stream",
          "name": "stdout",
          "text": [
            "Train - Epoch: 47 Loss: 0.01\n",
            "Valid - Epoch: 47 Acc: 0.9456 Loss: 0.12 BCE: 0.04 GP: 0.55 \n"
          ]
        },
        {
          "output_type": "display_data",
          "data": {
            "text/plain": [
              "[1/457]   0%|           [00:00<?]"
            ],
            "application/vnd.jupyter.widget-view+json": {
              "version_major": 2,
              "version_minor": 0,
              "model_id": "e73f254ecd8f4100942f5657a0ee0531"
            }
          },
          "metadata": {}
        },
        {
          "output_type": "stream",
          "name": "stdout",
          "text": [
            "Train - Epoch: 48 Loss: 0.01\n",
            "Valid - Epoch: 48 Acc: 0.9480 Loss: 0.11 BCE: 0.03 GP: 0.48 \n"
          ]
        },
        {
          "output_type": "display_data",
          "data": {
            "text/plain": [
              "[1/457]   0%|           [00:00<?]"
            ],
            "application/vnd.jupyter.widget-view+json": {
              "version_major": 2,
              "version_minor": 0,
              "model_id": "e63cd4538d0547a49bc3112f644db873"
            }
          },
          "metadata": {}
        },
        {
          "output_type": "stream",
          "name": "stdout",
          "text": [
            "Train - Epoch: 49 Loss: 0.01\n",
            "Valid - Epoch: 49 Acc: 0.9451 Loss: 0.11 BCE: 0.04 GP: 0.51 \n"
          ]
        },
        {
          "output_type": "display_data",
          "data": {
            "text/plain": [
              "[1/457]   0%|           [00:00<?]"
            ],
            "application/vnd.jupyter.widget-view+json": {
              "version_major": 2,
              "version_minor": 0,
              "model_id": "2c7c1e818af847a086b0940d16b7b92a"
            }
          },
          "metadata": {}
        },
        {
          "output_type": "stream",
          "name": "stdout",
          "text": [
            "Train - Epoch: 50 Loss: 0.01\n",
            "Valid - Epoch: 50 Acc: 0.9455 Loss: 0.12 BCE: 0.03 GP: 0.54 \n"
          ]
        },
        {
          "output_type": "display_data",
          "data": {
            "text/plain": [
              "[1/457]   0%|           [00:00<?]"
            ],
            "application/vnd.jupyter.widget-view+json": {
              "version_major": 2,
              "version_minor": 0,
              "model_id": "42f115c34b374991b9cda8725e005812"
            }
          },
          "metadata": {}
        },
        {
          "output_type": "stream",
          "name": "stdout",
          "text": [
            "Train - Epoch: 51 Loss: 0.01\n",
            "Valid - Epoch: 51 Acc: 0.9524 Loss: 0.12 BCE: 0.03 GP: 0.56 \n"
          ]
        },
        {
          "output_type": "display_data",
          "data": {
            "text/plain": [
              "[1/457]   0%|           [00:00<?]"
            ],
            "application/vnd.jupyter.widget-view+json": {
              "version_major": 2,
              "version_minor": 0,
              "model_id": "e57c2493f22b436b86a47c8978806b1f"
            }
          },
          "metadata": {}
        },
        {
          "output_type": "stream",
          "name": "stderr",
          "text": [
            "Engine run is terminating due to exception: \n"
          ]
        },
        {
          "output_type": "error",
          "ename": "KeyboardInterrupt",
          "evalue": "ignored",
          "traceback": [
            "\u001b[0;31m---------------------------------------------------------------------------\u001b[0m",
            "\u001b[0;31mKeyboardInterrupt\u001b[0m                         Traceback (most recent call last)",
            "\u001b[0;32m<ipython-input-10-e96015cf2402>\u001b[0m in \u001b[0;36m<module>\u001b[0;34m()\u001b[0m\n\u001b[1;32m    256\u001b[0m     \u001b[0mscheduler\u001b[0m\u001b[0;34m.\u001b[0m\u001b[0mstep\u001b[0m\u001b[0;34m(\u001b[0m\u001b[0;34m)\u001b[0m\u001b[0;34m\u001b[0m\u001b[0;34m\u001b[0m\u001b[0m\n\u001b[1;32m    257\u001b[0m \u001b[0;34m\u001b[0m\u001b[0m\n\u001b[0;32m--> 258\u001b[0;31m \u001b[0mtrainer\u001b[0m\u001b[0;34m.\u001b[0m\u001b[0mrun\u001b[0m\u001b[0;34m(\u001b[0m\u001b[0mtrain_loader\u001b[0m\u001b[0;34m,\u001b[0m \u001b[0mmax_epochs\u001b[0m\u001b[0;34m=\u001b[0m\u001b[0mepochs\u001b[0m\u001b[0;34m)\u001b[0m\u001b[0;34m\u001b[0m\u001b[0;34m\u001b[0m\u001b[0m\n\u001b[0m\u001b[1;32m    259\u001b[0m \u001b[0;34m\u001b[0m\u001b[0m\n\u001b[1;32m    260\u001b[0m \u001b[0;34m\u001b[0m\u001b[0m\n",
            "\u001b[0;32m/usr/local/lib/python3.7/dist-packages/ignite/engine/engine.py\u001b[0m in \u001b[0;36mrun\u001b[0;34m(self, data, max_epochs, epoch_length, seed)\u001b[0m\n\u001b[1;32m    702\u001b[0m \u001b[0;34m\u001b[0m\u001b[0m\n\u001b[1;32m    703\u001b[0m         \u001b[0mself\u001b[0m\u001b[0;34m.\u001b[0m\u001b[0mstate\u001b[0m\u001b[0;34m.\u001b[0m\u001b[0mdataloader\u001b[0m \u001b[0;34m=\u001b[0m \u001b[0mdata\u001b[0m\u001b[0;34m\u001b[0m\u001b[0;34m\u001b[0m\u001b[0m\n\u001b[0;32m--> 704\u001b[0;31m         \u001b[0;32mreturn\u001b[0m \u001b[0mself\u001b[0m\u001b[0;34m.\u001b[0m\u001b[0m_internal_run\u001b[0m\u001b[0;34m(\u001b[0m\u001b[0;34m)\u001b[0m\u001b[0;34m\u001b[0m\u001b[0;34m\u001b[0m\u001b[0m\n\u001b[0m\u001b[1;32m    705\u001b[0m \u001b[0;34m\u001b[0m\u001b[0m\n\u001b[1;32m    706\u001b[0m     \u001b[0;34m@\u001b[0m\u001b[0mstaticmethod\u001b[0m\u001b[0;34m\u001b[0m\u001b[0;34m\u001b[0m\u001b[0m\n",
            "\u001b[0;32m/usr/local/lib/python3.7/dist-packages/ignite/engine/engine.py\u001b[0m in \u001b[0;36m_internal_run\u001b[0;34m(self)\u001b[0m\n\u001b[1;32m    781\u001b[0m             \u001b[0mself\u001b[0m\u001b[0;34m.\u001b[0m\u001b[0m_dataloader_iter\u001b[0m \u001b[0;34m=\u001b[0m \u001b[0;32mNone\u001b[0m\u001b[0;34m\u001b[0m\u001b[0;34m\u001b[0m\u001b[0m\n\u001b[1;32m    782\u001b[0m             \u001b[0mself\u001b[0m\u001b[0;34m.\u001b[0m\u001b[0mlogger\u001b[0m\u001b[0;34m.\u001b[0m\u001b[0merror\u001b[0m\u001b[0;34m(\u001b[0m\u001b[0;34mf\"Engine run is terminating due to exception: {e}\"\u001b[0m\u001b[0;34m)\u001b[0m\u001b[0;34m\u001b[0m\u001b[0;34m\u001b[0m\u001b[0m\n\u001b[0;32m--> 783\u001b[0;31m             \u001b[0mself\u001b[0m\u001b[0;34m.\u001b[0m\u001b[0m_handle_exception\u001b[0m\u001b[0;34m(\u001b[0m\u001b[0me\u001b[0m\u001b[0;34m)\u001b[0m\u001b[0;34m\u001b[0m\u001b[0;34m\u001b[0m\u001b[0m\n\u001b[0m\u001b[1;32m    784\u001b[0m \u001b[0;34m\u001b[0m\u001b[0m\n\u001b[1;32m    785\u001b[0m         \u001b[0mself\u001b[0m\u001b[0;34m.\u001b[0m\u001b[0m_dataloader_iter\u001b[0m \u001b[0;34m=\u001b[0m \u001b[0;32mNone\u001b[0m\u001b[0;34m\u001b[0m\u001b[0;34m\u001b[0m\u001b[0m\n",
            "\u001b[0;32m/usr/local/lib/python3.7/dist-packages/ignite/engine/engine.py\u001b[0m in \u001b[0;36m_handle_exception\u001b[0;34m(self, e)\u001b[0m\n\u001b[1;32m    464\u001b[0m             \u001b[0mself\u001b[0m\u001b[0;34m.\u001b[0m\u001b[0m_fire_event\u001b[0m\u001b[0;34m(\u001b[0m\u001b[0mEvents\u001b[0m\u001b[0;34m.\u001b[0m\u001b[0mEXCEPTION_RAISED\u001b[0m\u001b[0;34m,\u001b[0m \u001b[0me\u001b[0m\u001b[0;34m)\u001b[0m\u001b[0;34m\u001b[0m\u001b[0;34m\u001b[0m\u001b[0m\n\u001b[1;32m    465\u001b[0m         \u001b[0;32melse\u001b[0m\u001b[0;34m:\u001b[0m\u001b[0;34m\u001b[0m\u001b[0;34m\u001b[0m\u001b[0m\n\u001b[0;32m--> 466\u001b[0;31m             \u001b[0;32mraise\u001b[0m \u001b[0me\u001b[0m\u001b[0;34m\u001b[0m\u001b[0;34m\u001b[0m\u001b[0m\n\u001b[0m\u001b[1;32m    467\u001b[0m \u001b[0;34m\u001b[0m\u001b[0m\n\u001b[1;32m    468\u001b[0m     \u001b[0;34m@\u001b[0m\u001b[0mproperty\u001b[0m\u001b[0;34m\u001b[0m\u001b[0;34m\u001b[0m\u001b[0m\n",
            "\u001b[0;32m/usr/local/lib/python3.7/dist-packages/ignite/engine/engine.py\u001b[0m in \u001b[0;36m_internal_run\u001b[0;34m(self)\u001b[0m\n\u001b[1;32m    751\u001b[0m                     \u001b[0mself\u001b[0m\u001b[0;34m.\u001b[0m\u001b[0m_setup_engine\u001b[0m\u001b[0;34m(\u001b[0m\u001b[0;34m)\u001b[0m\u001b[0;34m\u001b[0m\u001b[0;34m\u001b[0m\u001b[0m\n\u001b[1;32m    752\u001b[0m \u001b[0;34m\u001b[0m\u001b[0m\n\u001b[0;32m--> 753\u001b[0;31m                 \u001b[0mtime_taken\u001b[0m \u001b[0;34m=\u001b[0m \u001b[0mself\u001b[0m\u001b[0;34m.\u001b[0m\u001b[0m_run_once_on_dataset\u001b[0m\u001b[0;34m(\u001b[0m\u001b[0;34m)\u001b[0m\u001b[0;34m\u001b[0m\u001b[0;34m\u001b[0m\u001b[0m\n\u001b[0m\u001b[1;32m    754\u001b[0m                 \u001b[0;31m# time is available for handlers but must be update after fire\u001b[0m\u001b[0;34m\u001b[0m\u001b[0;34m\u001b[0m\u001b[0;34m\u001b[0m\u001b[0m\n\u001b[1;32m    755\u001b[0m                 \u001b[0mself\u001b[0m\u001b[0;34m.\u001b[0m\u001b[0mstate\u001b[0m\u001b[0;34m.\u001b[0m\u001b[0mtimes\u001b[0m\u001b[0;34m[\u001b[0m\u001b[0mEvents\u001b[0m\u001b[0;34m.\u001b[0m\u001b[0mEPOCH_COMPLETED\u001b[0m\u001b[0;34m.\u001b[0m\u001b[0mname\u001b[0m\u001b[0;34m]\u001b[0m \u001b[0;34m=\u001b[0m \u001b[0mtime_taken\u001b[0m\u001b[0;34m\u001b[0m\u001b[0;34m\u001b[0m\u001b[0m\n",
            "\u001b[0;32m/usr/local/lib/python3.7/dist-packages/ignite/engine/engine.py\u001b[0m in \u001b[0;36m_run_once_on_dataset\u001b[0;34m(self)\u001b[0m\n\u001b[1;32m    838\u001b[0m                 \u001b[0mself\u001b[0m\u001b[0;34m.\u001b[0m\u001b[0mstate\u001b[0m\u001b[0;34m.\u001b[0m\u001b[0miteration\u001b[0m \u001b[0;34m+=\u001b[0m \u001b[0;36m1\u001b[0m\u001b[0;34m\u001b[0m\u001b[0;34m\u001b[0m\u001b[0m\n\u001b[1;32m    839\u001b[0m                 \u001b[0mself\u001b[0m\u001b[0;34m.\u001b[0m\u001b[0m_fire_event\u001b[0m\u001b[0;34m(\u001b[0m\u001b[0mEvents\u001b[0m\u001b[0;34m.\u001b[0m\u001b[0mITERATION_STARTED\u001b[0m\u001b[0;34m)\u001b[0m\u001b[0;34m\u001b[0m\u001b[0;34m\u001b[0m\u001b[0m\n\u001b[0;32m--> 840\u001b[0;31m                 \u001b[0mself\u001b[0m\u001b[0;34m.\u001b[0m\u001b[0mstate\u001b[0m\u001b[0;34m.\u001b[0m\u001b[0moutput\u001b[0m \u001b[0;34m=\u001b[0m \u001b[0mself\u001b[0m\u001b[0;34m.\u001b[0m\u001b[0m_process_function\u001b[0m\u001b[0;34m(\u001b[0m\u001b[0mself\u001b[0m\u001b[0;34m,\u001b[0m \u001b[0mself\u001b[0m\u001b[0;34m.\u001b[0m\u001b[0mstate\u001b[0m\u001b[0;34m.\u001b[0m\u001b[0mbatch\u001b[0m\u001b[0;34m)\u001b[0m\u001b[0;34m\u001b[0m\u001b[0;34m\u001b[0m\u001b[0m\n\u001b[0m\u001b[1;32m    841\u001b[0m                 \u001b[0mself\u001b[0m\u001b[0;34m.\u001b[0m\u001b[0m_fire_event\u001b[0m\u001b[0;34m(\u001b[0m\u001b[0mEvents\u001b[0m\u001b[0;34m.\u001b[0m\u001b[0mITERATION_COMPLETED\u001b[0m\u001b[0;34m)\u001b[0m\u001b[0;34m\u001b[0m\u001b[0;34m\u001b[0m\u001b[0m\n\u001b[1;32m    842\u001b[0m \u001b[0;34m\u001b[0m\u001b[0m\n",
            "\u001b[0;32m<ipython-input-10-e96015cf2402>\u001b[0m in \u001b[0;36mstep\u001b[0;34m(engine, batch)\u001b[0m\n\u001b[1;32m    123\u001b[0m         \u001b[0mloss\u001b[0m \u001b[0;34m+=\u001b[0m \u001b[0ml_gradient_penalty\u001b[0m \u001b[0;34m*\u001b[0m \u001b[0mgp\u001b[0m\u001b[0;34m\u001b[0m\u001b[0;34m\u001b[0m\u001b[0m\n\u001b[1;32m    124\u001b[0m \u001b[0;34m\u001b[0m\u001b[0m\n\u001b[0;32m--> 125\u001b[0;31m     \u001b[0mloss\u001b[0m\u001b[0;34m.\u001b[0m\u001b[0mbackward\u001b[0m\u001b[0;34m(\u001b[0m\u001b[0;34m)\u001b[0m\u001b[0;34m\u001b[0m\u001b[0;34m\u001b[0m\u001b[0m\n\u001b[0m\u001b[1;32m    126\u001b[0m     \u001b[0moptimizer\u001b[0m\u001b[0;34m.\u001b[0m\u001b[0mstep\u001b[0m\u001b[0;34m(\u001b[0m\u001b[0;34m)\u001b[0m\u001b[0;34m\u001b[0m\u001b[0;34m\u001b[0m\u001b[0m\n\u001b[1;32m    127\u001b[0m \u001b[0;34m\u001b[0m\u001b[0m\n",
            "\u001b[0;32m/usr/local/lib/python3.7/dist-packages/torch/_tensor.py\u001b[0m in \u001b[0;36mbackward\u001b[0;34m(self, gradient, retain_graph, create_graph, inputs)\u001b[0m\n\u001b[1;32m    305\u001b[0m                 \u001b[0mcreate_graph\u001b[0m\u001b[0;34m=\u001b[0m\u001b[0mcreate_graph\u001b[0m\u001b[0;34m,\u001b[0m\u001b[0;34m\u001b[0m\u001b[0;34m\u001b[0m\u001b[0m\n\u001b[1;32m    306\u001b[0m                 inputs=inputs)\n\u001b[0;32m--> 307\u001b[0;31m         \u001b[0mtorch\u001b[0m\u001b[0;34m.\u001b[0m\u001b[0mautograd\u001b[0m\u001b[0;34m.\u001b[0m\u001b[0mbackward\u001b[0m\u001b[0;34m(\u001b[0m\u001b[0mself\u001b[0m\u001b[0;34m,\u001b[0m \u001b[0mgradient\u001b[0m\u001b[0;34m,\u001b[0m \u001b[0mretain_graph\u001b[0m\u001b[0;34m,\u001b[0m \u001b[0mcreate_graph\u001b[0m\u001b[0;34m,\u001b[0m \u001b[0minputs\u001b[0m\u001b[0;34m=\u001b[0m\u001b[0minputs\u001b[0m\u001b[0;34m)\u001b[0m\u001b[0;34m\u001b[0m\u001b[0;34m\u001b[0m\u001b[0m\n\u001b[0m\u001b[1;32m    308\u001b[0m \u001b[0;34m\u001b[0m\u001b[0m\n\u001b[1;32m    309\u001b[0m     \u001b[0;32mdef\u001b[0m \u001b[0mregister_hook\u001b[0m\u001b[0;34m(\u001b[0m\u001b[0mself\u001b[0m\u001b[0;34m,\u001b[0m \u001b[0mhook\u001b[0m\u001b[0;34m)\u001b[0m\u001b[0;34m:\u001b[0m\u001b[0;34m\u001b[0m\u001b[0;34m\u001b[0m\u001b[0m\n",
            "\u001b[0;32m/usr/local/lib/python3.7/dist-packages/torch/autograd/__init__.py\u001b[0m in \u001b[0;36mbackward\u001b[0;34m(tensors, grad_tensors, retain_graph, create_graph, grad_variables, inputs)\u001b[0m\n\u001b[1;32m    154\u001b[0m     Variable._execution_engine.run_backward(\n\u001b[1;32m    155\u001b[0m         \u001b[0mtensors\u001b[0m\u001b[0;34m,\u001b[0m \u001b[0mgrad_tensors_\u001b[0m\u001b[0;34m,\u001b[0m \u001b[0mretain_graph\u001b[0m\u001b[0;34m,\u001b[0m \u001b[0mcreate_graph\u001b[0m\u001b[0;34m,\u001b[0m \u001b[0minputs\u001b[0m\u001b[0;34m,\u001b[0m\u001b[0;34m\u001b[0m\u001b[0;34m\u001b[0m\u001b[0m\n\u001b[0;32m--> 156\u001b[0;31m         allow_unreachable=True, accumulate_grad=True)  # allow_unreachable flag\n\u001b[0m\u001b[1;32m    157\u001b[0m \u001b[0;34m\u001b[0m\u001b[0m\n\u001b[1;32m    158\u001b[0m \u001b[0;34m\u001b[0m\u001b[0m\n",
            "\u001b[0;31mKeyboardInterrupt\u001b[0m: "
          ]
        }
      ]
    },
    {
      "cell_type": "code",
      "source": [
        "torch.save(model,\"./drive/My Drive/dlmodel/model_SVHN_batch128_tuned.pth\")"
      ],
      "metadata": {
        "id": "3wHva4iYESmM"
      },
      "execution_count": null,
      "outputs": []
    },
    {
      "cell_type": "code",
      "source": [
        "accuracy, auroc = get_SVHN_LFWpeople_ood(model)\n",
        "print(f\"Test Accuracy: {accuracy}, AUROC: {auroc}\")\n",
        "writer.add_scalar(\"OoD/test_accuracy\", accuracy, trainer.state.epoch)\n",
        "writer.add_scalar(\"OoD/roc_auc\", auroc, trainer.state.epoch)\n",
        "\n",
        "accuracy, auroc = get_auroc_classification(val_dataset, model)\n",
        "print(f\"AUROC - uncertainty: {auroc}\")\n",
        "writer.add_scalar(\"OoD/val_accuracy\", accuracy, trainer.state.epoch)\n",
        "writer.add_scalar(\"OoD/roc_auc_classification\", auroc, trainer.state.epoch)"
      ],
      "metadata": {
        "colab": {
          "base_uri": "https://localhost:8080/",
          "height": 443,
          "referenced_widgets": [
            "73f164919cc047fd84ac7db7faf7892e",
            "105bdc6fa2fb427f860ab6c844705431",
            "15e17d5c62f54be891d9df95739b2074",
            "3a9d336abde14887aa314a8fe7d61627",
            "1507e3d4f60a4c4c9f9b0b6d844d3840",
            "c5f1be8d2ea54d2d93d087f6d1773d7c",
            "58ca9a7add6648249c4699fbd7daab3a",
            "ca4ac1b63c5648cfb62d7997973e43d0",
            "54921890b80a4fffb689c0eb212f7b11",
            "fed8b57a93c9415999bfdd22791b23ce",
            "b4248a73648d405cb9b1f938da8f6a0c",
            "8c681acf99cb4fe1b68e67b44565ca57",
            "41e5536277a842c2ac71c1e4a5797108",
            "7ef52837da7e43d5b17f290536f73054",
            "04376a91733144a4bbd5c8194a7f03e7",
            "5aaaf70214b74131a5e657b424b6c72d",
            "9cad58936dd24926b4fef5af1d5830e5",
            "28e268a8661c481bb0f0a9405f771ff6",
            "a452210012c7403c86203456c0fa64dd",
            "cf2dccb7d2474314ab3cb893aa181b86",
            "2571de25aa4e4ee5b9b98971dcc6986a",
            "f120f047e09d438f90d56411b71d9db2",
            "a33b6342ab6c43439995a1d0ad57974f",
            "e9fbb232f66a4f15a4b1d0166aa4ab29",
            "b90fc19e5a5543a497052832ed770a67",
            "f1782af6d67342d8963c98da81fd6343",
            "867a7157ef8b4a6eb6609faff0926100",
            "6b507c4f778b48a48cc481a4c24d5a89",
            "b1eae2a54cba46de8bf8fd52921a6236",
            "4b613840c1f14ce089eaf453beafa950",
            "6916072dd5bf476cb6712dea85d8ebb9",
            "f2723c57a84545a5b585d2f5baf1f379",
            "7bdb50656c31426ea9f980023b0f5526",
            "e87b610ec8c54c23a9bd245b8f27c2ba",
            "03a334a779a04f2f951fb2fcaae0e154",
            "c0ad52c40d71469b993d40da0bafdb40",
            "11566836217f44ee90d8d6a516847396",
            "92bee03bac55438e9a82a49169fccf5e",
            "e564cef76443420aa1ff9e3d59d173ac",
            "f774aac1b9114c49aca7941d4fa6b38e",
            "c73317a14d63439ab0a6cd376200ebd7",
            "a2f99d2bbe4d459da59b4174066e5361",
            "fe1f9c79a5174c4991160454d1803a6c",
            "8ce9aeef9584432aabbc7691494302fe"
          ]
        },
        "id": "ZT0hUMOFEaW1",
        "outputId": "9e329eeb-7bed-40f9-8e29-97e0759b2063"
      },
      "execution_count": null,
      "outputs": [
        {
          "output_type": "stream",
          "name": "stdout",
          "text": [
            "Using downloaded and verified file: ./data/SVHN/train_32x32.mat\n",
            "Using downloaded and verified file: ./data/SVHN/test_32x32.mat\n",
            "Downloading http://vis-www.cs.umass.edu/lfw/lfw-funneled.tgz to ./data/LFWPeople/lfw-py/lfw-funneled.tgz\n"
          ]
        },
        {
          "output_type": "display_data",
          "data": {
            "text/plain": [
              "  0%|          | 0/243346528 [00:00<?, ?it/s]"
            ],
            "application/vnd.jupyter.widget-view+json": {
              "version_major": 2,
              "version_minor": 0,
              "model_id": "73f164919cc047fd84ac7db7faf7892e"
            }
          },
          "metadata": {}
        },
        {
          "output_type": "stream",
          "name": "stdout",
          "text": [
            "Extracting ./data/LFWPeople/lfw-py/lfw-funneled.tgz to ./data/LFWPeople/lfw-py\n",
            "Downloading http://vis-www.cs.umass.edu/lfw/peopleDevTrain.txt to ./data/LFWPeople/lfw-py/peopleDevTrain.txt\n"
          ]
        },
        {
          "output_type": "display_data",
          "data": {
            "text/plain": [
              "  0%|          | 0/66403 [00:00<?, ?it/s]"
            ],
            "application/vnd.jupyter.widget-view+json": {
              "version_major": 2,
              "version_minor": 0,
              "model_id": "8c681acf99cb4fe1b68e67b44565ca57"
            }
          },
          "metadata": {}
        },
        {
          "output_type": "stream",
          "name": "stdout",
          "text": [
            "Downloading http://vis-www.cs.umass.edu/lfw/lfw-names.txt to ./data/LFWPeople/lfw-py/lfw-names.txt\n"
          ]
        },
        {
          "output_type": "display_data",
          "data": {
            "text/plain": [
              "  0%|          | 0/94727 [00:00<?, ?it/s]"
            ],
            "application/vnd.jupyter.widget-view+json": {
              "version_major": 2,
              "version_minor": 0,
              "model_id": "a33b6342ab6c43439995a1d0ad57974f"
            }
          },
          "metadata": {}
        },
        {
          "output_type": "stream",
          "name": "stdout",
          "text": [
            "Using downloaded and verified file: ./data/LFWPeople/lfw-py/lfw-funneled.tgz\n",
            "Extracting ./data/LFWPeople/lfw-py/lfw-funneled.tgz to ./data/LFWPeople/lfw-py\n",
            "Downloading http://vis-www.cs.umass.edu/lfw/peopleDevTest.txt to ./data/LFWPeople/lfw-py/peopleDevTest.txt\n"
          ]
        },
        {
          "output_type": "display_data",
          "data": {
            "text/plain": [
              "  0%|          | 0/28334 [00:00<?, ?it/s]"
            ],
            "application/vnd.jupyter.widget-view+json": {
              "version_major": 2,
              "version_minor": 0,
              "model_id": "e87b610ec8c54c23a9bd245b8f27c2ba"
            }
          },
          "metadata": {}
        },
        {
          "output_type": "stream",
          "name": "stdout",
          "text": [
            "Using downloaded and verified file: ./data/LFWPeople/lfw-py/lfw-names.txt\n"
          ]
        },
        {
          "output_type": "stream",
          "name": "stderr",
          "text": [
            "/usr/local/lib/python3.7/dist-packages/torch/utils/data/dataloader.py:481: UserWarning: This DataLoader will create 4 worker processes in total. Our suggested max number of worker in current system is 2, which is smaller than what this DataLoader is going to create. Please be aware that excessive worker creation might get DataLoader running slow or even freeze, lower the worker number to avoid potential slowness/freeze if necessary.\n",
            "  cpuset_checked))\n"
          ]
        },
        {
          "output_type": "stream",
          "name": "stdout",
          "text": [
            "Test Accuracy: 0.9556699446834666, AUROC: 0.9598192026873903\n"
          ]
        },
        {
          "output_type": "stream",
          "name": "stderr",
          "text": [
            "/usr/local/lib/python3.7/dist-packages/torch/utils/data/dataloader.py:481: UserWarning: This DataLoader will create 4 worker processes in total. Our suggested max number of worker in current system is 2, which is smaller than what this DataLoader is going to create. Please be aware that excessive worker creation might get DataLoader running slow or even freeze, lower the worker number to avoid potential slowness/freeze if necessary.\n",
            "  cpuset_checked))\n"
          ]
        },
        {
          "output_type": "stream",
          "name": "stdout",
          "text": [
            "AUROC - uncertainty: 0.9271902133846658\n"
          ]
        }
      ]
    },
    {
      "cell_type": "code",
      "source": [
        "evaluator.run(test_loader)\n",
        "acc = evaluator.state.metrics[\"accuracy\"]\n",
        "\n",
        "print(f\"Test - Accuracy {acc:.4f}\")\n",
        "pathlib.Path(\"runs/\" + output_dir).mkdir(exist_ok=True)\n",
        "torch.save(model.state_dict(), f\"./drive/My Drive/model_SVHN_batch128__tuned_dict.pt\")\n",
        "writer.close()"
      ],
      "metadata": {
        "colab": {
          "base_uri": "https://localhost:8080/"
        },
        "id": "TD5u2BuiEbqj",
        "outputId": "323d8829-9547-4f9d-ba87-771b1a30d2d6"
      },
      "execution_count": null,
      "outputs": [
        {
          "output_type": "stream",
          "name": "stderr",
          "text": [
            "/usr/local/lib/python3.7/dist-packages/torch/utils/data/dataloader.py:481: UserWarning: This DataLoader will create 4 worker processes in total. Our suggested max number of worker in current system is 2, which is smaller than what this DataLoader is going to create. Please be aware that excessive worker creation might get DataLoader running slow or even freeze, lower the worker number to avoid potential slowness/freeze if necessary.\n",
            "  cpuset_checked))\n"
          ]
        },
        {
          "output_type": "stream",
          "name": "stdout",
          "text": [
            "Test - Accuracy 0.9557\n"
          ]
        }
      ]
    }
  ],
  "metadata": {
    "kernelspec": {
      "display_name": "Python 3 (ipykernel)",
      "language": "python",
      "name": "python3"
    },
    "language_info": {
      "codemirror_mode": {
        "name": "ipython",
        "version": 3
      },
      "file_extension": ".py",
      "mimetype": "text/x-python",
      "name": "python",
      "nbconvert_exporter": "python",
      "pygments_lexer": "ipython3",
      "version": "3.8.13"
    },
    "colab": {
      "provenance": [],
      "collapsed_sections": [],
      "toc_visible": true
    }
  },
  "nbformat": 4,
  "nbformat_minor": 0
}